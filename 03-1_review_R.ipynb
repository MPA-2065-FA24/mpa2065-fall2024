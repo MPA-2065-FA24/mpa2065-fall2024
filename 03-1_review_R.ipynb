{
 "cells": [
  {
   "cell_type": "markdown",
   "metadata": {},
   "source": [
    "# Intro to R Review\n",
    "\n",
    "### August Guang\n",
    "### Ellen Duong\n",
    "### 2024-09-16"
   ]
  },
  {
   "cell_type": "markdown",
   "metadata": {},
   "source": [
    "## Structure\n",
    "\n",
    "We will be reviewing through some (not all) of the material again, starting from R Data Structures and giving everyone more time to practice actually writing their own code vs executing. At the end of each review section there will be a set of coding practice questions to answer - you are welcome to work in pairs, but you can work on your own if you need to. All questions we will work on in class."
   ]
  },
  {
   "cell_type": "markdown",
   "metadata": {},
   "source": [
    "# 1. R Data Structures\n",
    "\n",
    " * We went over:\n",
    "   * `vector`\n",
    "   * `matrix`\n",
    "   * `list`\n",
    "   * `dataframe`"
   ]
  },
  {
   "cell_type": "markdown",
   "metadata": {},
   "source": [
    "## 1.1 `vector`\n",
    "\n",
    " * `vector` type in R is a 1D array that holds data that is all the same type.\n",
    " * The `c()` function combines elements to form a vector"
   ]
  },
  {
   "cell_type": "code",
   "execution_count": 1,
   "metadata": {
    "vscode": {
     "languageId": "r"
    }
   },
   "outputs": [
    {
     "data": {
      "text/html": [
       "<style>\n",
       ".list-inline {list-style: none; margin:0; padding: 0}\n",
       ".list-inline>li {display: inline-block}\n",
       ".list-inline>li:not(:last-child)::after {content: \"\\00b7\"; padding: 0 .5ex}\n",
       "</style>\n",
       "<ol class=list-inline><li>42</li><li>137</li><li>34</li></ol>\n"
      ],
      "text/latex": [
       "\\begin{enumerate*}\n",
       "\\item 42\n",
       "\\item 137\n",
       "\\item 34\n",
       "\\end{enumerate*}\n"
      ],
      "text/markdown": [
       "1. 42\n",
       "2. 137\n",
       "3. 34\n",
       "\n",
       "\n"
      ],
      "text/plain": [
       "[1]  42 137  34"
      ]
     },
     "metadata": {},
     "output_type": "display_data"
    }
   ],
   "source": [
    "my_vec <- c(42, 137, 34)\n",
    "my_vec"
   ]
  },
  {
   "cell_type": "markdown",
   "metadata": {},
   "source": [
    "## 1.2 Indexing - accessing elements\n",
    "\n",
    "There are multiple ways to access the elements of a vector (or any other data structure).\n",
    "\n",
    " * The `[]` notation is what is used for access."
   ]
  },
  {
   "cell_type": "code",
   "execution_count": 18,
   "metadata": {
    "vscode": {
     "languageId": "r"
    }
   },
   "outputs": [
    {
     "data": {
      "text/html": [
       "'august'"
      ],
      "text/latex": [
       "'august'"
      ],
      "text/markdown": [
       "'august'"
      ],
      "text/plain": [
       "[1] \"august\""
      ]
     },
     "metadata": {},
     "output_type": "display_data"
    }
   ],
   "source": [
    "people <- c(\"august\", \"ellen\", \"paul\")\n",
    "people[1]"
   ]
  },
  {
   "cell_type": "markdown",
   "metadata": {},
   "source": [
    "### 1.2.1 Range-based indexing\n",
    "\n",
    "Range-based indexing allows you to get multiple elements of a vector, or multiple \"slices\" (i.e. contiguous elements)"
   ]
  },
  {
   "cell_type": "code",
   "execution_count": 19,
   "metadata": {
    "vscode": {
     "languageId": "r"
    }
   },
   "outputs": [
    {
     "data": {
      "text/html": [
       "<style>\n",
       ".list-inline {list-style: none; margin:0; padding: 0}\n",
       ".list-inline>li {display: inline-block}\n",
       ".list-inline>li:not(:last-child)::after {content: \"\\00b7\"; padding: 0 .5ex}\n",
       "</style>\n",
       "<ol class=list-inline><li>'ellen'</li><li>'paul'</li></ol>\n"
      ],
      "text/latex": [
       "\\begin{enumerate*}\n",
       "\\item 'ellen'\n",
       "\\item 'paul'\n",
       "\\end{enumerate*}\n"
      ],
      "text/markdown": [
       "1. 'ellen'\n",
       "2. 'paul'\n",
       "\n",
       "\n"
      ],
      "text/plain": [
       "[1] \"ellen\" \"paul\" "
      ]
     },
     "metadata": {},
     "output_type": "display_data"
    }
   ],
   "source": [
    "people[2:3]"
   ]
  },
  {
   "cell_type": "markdown",
   "metadata": {},
   "source": [
    "### 1.2.2 Vector indexing\n",
    "\n",
    "We can use a vector of integers for indexing when we want multiple elements that are not all one after another"
   ]
  },
  {
   "cell_type": "code",
   "execution_count": 20,
   "metadata": {
    "vscode": {
     "languageId": "r"
    }
   },
   "outputs": [
    {
     "data": {
      "text/html": [
       "<style>\n",
       ".list-inline {list-style: none; margin:0; padding: 0}\n",
       ".list-inline>li {display: inline-block}\n",
       ".list-inline>li:not(:last-child)::after {content: \"\\00b7\"; padding: 0 .5ex}\n",
       "</style>\n",
       "<ol class=list-inline><li>'august'</li><li>'paul'</li></ol>\n"
      ],
      "text/latex": [
       "\\begin{enumerate*}\n",
       "\\item 'august'\n",
       "\\item 'paul'\n",
       "\\end{enumerate*}\n"
      ],
      "text/markdown": [
       "1. 'august'\n",
       "2. 'paul'\n",
       "\n",
       "\n"
      ],
      "text/plain": [
       "[1] \"august\" \"paul\"  "
      ]
     },
     "metadata": {},
     "output_type": "display_data"
    }
   ],
   "source": [
    "people[c(1,3)]"
   ]
  },
  {
   "cell_type": "markdown",
   "metadata": {},
   "source": [
    "### 1.2.3 Logical (boolean) indexing [new]\n",
    "\n",
    "We can use logical (or boolean) values to index as well"
   ]
  },
  {
   "cell_type": "code",
   "execution_count": 21,
   "metadata": {
    "vscode": {
     "languageId": "r"
    }
   },
   "outputs": [
    {
     "data": {
      "text/html": [
       "'august'"
      ],
      "text/latex": [
       "'august'"
      ],
      "text/markdown": [
       "'august'"
      ],
      "text/plain": [
       "[1] \"august\""
      ]
     },
     "metadata": {},
     "output_type": "display_data"
    }
   ],
   "source": [
    "people[c(TRUE,FALSE,FALSE)]"
   ]
  },
  {
   "cell_type": "markdown",
   "metadata": {},
   "source": [
    "### 1.2.4 Modifying elements with indexing [new]\n",
    "\n",
    "We can use indexing to modify a vector's elements."
   ]
  },
  {
   "cell_type": "code",
   "execution_count": 22,
   "metadata": {
    "vscode": {
     "languageId": "r"
    }
   },
   "outputs": [
    {
     "data": {
      "text/html": [
       "<style>\n",
       ".list-inline {list-style: none; margin:0; padding: 0}\n",
       ".list-inline>li {display: inline-block}\n",
       ".list-inline>li:not(:last-child)::after {content: \"\\00b7\"; padding: 0 .5ex}\n",
       "</style>\n",
       "<ol class=list-inline><li>'august'</li><li>'ellen'</li><li>'not paul'</li></ol>\n"
      ],
      "text/latex": [
       "\\begin{enumerate*}\n",
       "\\item 'august'\n",
       "\\item 'ellen'\n",
       "\\item 'not paul'\n",
       "\\end{enumerate*}\n"
      ],
      "text/markdown": [
       "1. 'august'\n",
       "2. 'ellen'\n",
       "3. 'not paul'\n",
       "\n",
       "\n"
      ],
      "text/plain": [
       "[1] \"august\"   \"ellen\"    \"not paul\""
      ]
     },
     "metadata": {},
     "output_type": "display_data"
    }
   ],
   "source": [
    "people[3] <- \"not paul\"\n",
    "people"
   ]
  },
  {
   "cell_type": "markdown",
   "metadata": {},
   "source": [
    "You can replace multiple elements all at once:"
   ]
  },
  {
   "cell_type": "code",
   "execution_count": 32,
   "metadata": {
    "vscode": {
     "languageId": "r"
    }
   },
   "outputs": [
    {
     "data": {
      "text/html": [
       "<style>\n",
       ".list-inline {list-style: none; margin:0; padding: 0}\n",
       ".list-inline>li {display: inline-block}\n",
       ".list-inline>li:not(:last-child)::after {content: \"\\00b7\"; padding: 0 .5ex}\n",
       "</style>\n",
       "<ol class=list-inline><li>'august'</li><li>'no one'</li><li>'no one'</li><li>NA</li><li>NA</li><li>'paul h'</li></ol>\n"
      ],
      "text/latex": [
       "\\begin{enumerate*}\n",
       "\\item 'august'\n",
       "\\item 'no one'\n",
       "\\item 'no one'\n",
       "\\item NA\n",
       "\\item NA\n",
       "\\item 'paul h'\n",
       "\\end{enumerate*}\n"
      ],
      "text/markdown": [
       "1. 'august'\n",
       "2. 'no one'\n",
       "3. 'no one'\n",
       "4. NA\n",
       "5. NA\n",
       "6. 'paul h'\n",
       "\n",
       "\n"
      ],
      "text/plain": [
       "[1] \"august\" \"no one\" \"no one\" NA       NA       \"paul h\""
      ]
     },
     "metadata": {},
     "output_type": "display_data"
    }
   ],
   "source": [
    "people[2:3] <- \"no one\"\n",
    "people"
   ]
  },
  {
   "cell_type": "code",
   "execution_count": 33,
   "metadata": {
    "vscode": {
     "languageId": "r"
    }
   },
   "outputs": [
    {
     "data": {
      "text/html": [
       "<style>\n",
       ".list-inline {list-style: none; margin:0; padding: 0}\n",
       ".list-inline>li {display: inline-block}\n",
       ".list-inline>li:not(:last-child)::after {content: \"\\00b7\"; padding: 0 .5ex}\n",
       "</style>\n",
       "<ol class=list-inline><li>'august'</li><li>'ellen d'</li><li>'perhaps paul'</li><li>NA</li><li>NA</li><li>'paul h'</li></ol>\n"
      ],
      "text/latex": [
       "\\begin{enumerate*}\n",
       "\\item 'august'\n",
       "\\item 'ellen d'\n",
       "\\item 'perhaps paul'\n",
       "\\item NA\n",
       "\\item NA\n",
       "\\item 'paul h'\n",
       "\\end{enumerate*}\n"
      ],
      "text/markdown": [
       "1. 'august'\n",
       "2. 'ellen d'\n",
       "3. 'perhaps paul'\n",
       "4. NA\n",
       "5. NA\n",
       "6. 'paul h'\n",
       "\n",
       "\n"
      ],
      "text/plain": [
       "[1] \"august\"       \"ellen d\"      \"perhaps paul\" NA             NA            \n",
       "[6] \"paul h\"      "
      ]
     },
     "metadata": {},
     "output_type": "display_data"
    }
   ],
   "source": [
    "people[2:3] <- c(\"ellen d\", \"perhaps paul\")\n",
    "people"
   ]
  },
  {
   "cell_type": "markdown",
   "metadata": {},
   "source": [
    "### 1.2.5 Adding elements or concatenating vectors\n",
    "\n",
    "You can add elements to a vector by specifying the index you want the element to be added at. R will autofill any indices without a present element at them as `NA`, or missing.\n",
    "\n",
    "You can also concatenate vectors with the `c()` function."
   ]
  },
  {
   "cell_type": "code",
   "execution_count": 23,
   "metadata": {
    "vscode": {
     "languageId": "r"
    }
   },
   "outputs": [
    {
     "data": {
      "text/html": [
       "<style>\n",
       ".list-inline {list-style: none; margin:0; padding: 0}\n",
       ".list-inline>li {display: inline-block}\n",
       ".list-inline>li:not(:last-child)::after {content: \"\\00b7\"; padding: 0 .5ex}\n",
       "</style>\n",
       "<ol class=list-inline><li>'august'</li><li>'ellen'</li><li>'not paul'</li><li>NA</li><li>NA</li><li>'paul h'</li></ol>\n"
      ],
      "text/latex": [
       "\\begin{enumerate*}\n",
       "\\item 'august'\n",
       "\\item 'ellen'\n",
       "\\item 'not paul'\n",
       "\\item NA\n",
       "\\item NA\n",
       "\\item 'paul h'\n",
       "\\end{enumerate*}\n"
      ],
      "text/markdown": [
       "1. 'august'\n",
       "2. 'ellen'\n",
       "3. 'not paul'\n",
       "4. NA\n",
       "5. NA\n",
       "6. 'paul h'\n",
       "\n",
       "\n"
      ],
      "text/plain": [
       "[1] \"august\"   \"ellen\"    \"not paul\" NA         NA         \"paul h\"  "
      ]
     },
     "metadata": {},
     "output_type": "display_data"
    }
   ],
   "source": [
    "people[6] <- \"paul h\"\n",
    "people"
   ]
  },
  {
   "cell_type": "code",
   "execution_count": 25,
   "metadata": {
    "vscode": {
     "languageId": "r"
    }
   },
   "outputs": [
    {
     "data": {
      "text/html": [
       "<style>\n",
       ".list-inline {list-style: none; margin:0; padding: 0}\n",
       ".list-inline>li {display: inline-block}\n",
       ".list-inline>li:not(:last-child)::after {content: \"\\00b7\"; padding: 0 .5ex}\n",
       "</style>\n",
       "<ol class=list-inline><li>'august'</li><li>'ellen'</li><li>'not paul'</li><li>NA</li><li>NA</li><li>'paul h'</li><li>'paul c'</li><li>'paul s'</li><li>'paul x'</li></ol>\n"
      ],
      "text/latex": [
       "\\begin{enumerate*}\n",
       "\\item 'august'\n",
       "\\item 'ellen'\n",
       "\\item 'not paul'\n",
       "\\item NA\n",
       "\\item NA\n",
       "\\item 'paul h'\n",
       "\\item 'paul c'\n",
       "\\item 'paul s'\n",
       "\\item 'paul x'\n",
       "\\end{enumerate*}\n"
      ],
      "text/markdown": [
       "1. 'august'\n",
       "2. 'ellen'\n",
       "3. 'not paul'\n",
       "4. NA\n",
       "5. NA\n",
       "6. 'paul h'\n",
       "7. 'paul c'\n",
       "8. 'paul s'\n",
       "9. 'paul x'\n",
       "\n",
       "\n"
      ],
      "text/plain": [
       "[1] \"august\"   \"ellen\"    \"not paul\" NA         NA         \"paul h\"   \"paul c\"  \n",
       "[8] \"paul s\"   \"paul x\"  "
      ]
     },
     "metadata": {},
     "output_type": "display_data"
    }
   ],
   "source": [
    "people2 <- c(people, c(\"paul c\", \"paul s\", \"paul x\"))\n",
    "people2"
   ]
  },
  {
   "cell_type": "markdown",
   "metadata": {},
   "source": [
    "## 1.3 `matrix`\n",
    "\n",
    "* 2-dimensional array\n",
    "* Has to store data of all the same types\n",
    "* First argument is vector of data to be arranged as a matrix.\n",
    "* Additional arguments:\n",
    "    * You use `nrow` to specify the number of rows, and `ncol` to specify the number of columns. These are required arguments, but only 1 is needed.\n",
    "    * The `byrow` argument will determine whether the values are arranged by row or by column. The default is by column."
   ]
  },
  {
   "cell_type": "code",
   "execution_count": 10,
   "metadata": {
    "vscode": {
     "languageId": "r"
    }
   },
   "outputs": [
    {
     "data": {
      "text/html": [
       "<table class=\"dataframe\">\n",
       "<caption>A matrix: 3 × 4 of type int</caption>\n",
       "<tbody>\n",
       "\t<tr><td>1</td><td>4</td><td>7</td><td>10</td></tr>\n",
       "\t<tr><td>2</td><td>5</td><td>8</td><td>11</td></tr>\n",
       "\t<tr><td>3</td><td>6</td><td>9</td><td>12</td></tr>\n",
       "</tbody>\n",
       "</table>\n"
      ],
      "text/latex": [
       "A matrix: 3 × 4 of type int\n",
       "\\begin{tabular}{llll}\n",
       "\t 1 & 4 & 7 & 10\\\\\n",
       "\t 2 & 5 & 8 & 11\\\\\n",
       "\t 3 & 6 & 9 & 12\\\\\n",
       "\\end{tabular}\n"
      ],
      "text/markdown": [
       "\n",
       "A matrix: 3 × 4 of type int\n",
       "\n",
       "| 1 | 4 | 7 | 10 |\n",
       "| 2 | 5 | 8 | 11 |\n",
       "| 3 | 6 | 9 | 12 |\n",
       "\n"
      ],
      "text/plain": [
       "     [,1] [,2] [,3] [,4]\n",
       "[1,] 1    4    7    10  \n",
       "[2,] 2    5    8    11  \n",
       "[3,] 3    6    9    12  "
      ]
     },
     "metadata": {},
     "output_type": "display_data"
    }
   ],
   "source": [
    "m <- matrix(1:12, nrow=3) # specifying nrow as 3\n",
    "m"
   ]
  },
  {
   "cell_type": "code",
   "execution_count": 37,
   "metadata": {
    "vscode": {
     "languageId": "r"
    }
   },
   "outputs": [
    {
     "data": {
      "text/html": [
       "<table class=\"dataframe\">\n",
       "<caption>A matrix: 4 × 3 of type int</caption>\n",
       "<tbody>\n",
       "\t<tr><td>1</td><td>5</td><td> 9</td></tr>\n",
       "\t<tr><td>2</td><td>6</td><td>10</td></tr>\n",
       "\t<tr><td>3</td><td>7</td><td>11</td></tr>\n",
       "\t<tr><td>4</td><td>8</td><td>12</td></tr>\n",
       "</tbody>\n",
       "</table>\n"
      ],
      "text/latex": [
       "A matrix: 4 × 3 of type int\n",
       "\\begin{tabular}{lll}\n",
       "\t 1 & 5 &  9\\\\\n",
       "\t 2 & 6 & 10\\\\\n",
       "\t 3 & 7 & 11\\\\\n",
       "\t 4 & 8 & 12\\\\\n",
       "\\end{tabular}\n"
      ],
      "text/markdown": [
       "\n",
       "A matrix: 4 × 3 of type int\n",
       "\n",
       "| 1 | 5 |  9 |\n",
       "| 2 | 6 | 10 |\n",
       "| 3 | 7 | 11 |\n",
       "| 4 | 8 | 12 |\n",
       "\n"
      ],
      "text/plain": [
       "     [,1] [,2] [,3]\n",
       "[1,] 1    5     9  \n",
       "[2,] 2    6    10  \n",
       "[3,] 3    7    11  \n",
       "[4,] 4    8    12  "
      ]
     },
     "metadata": {},
     "output_type": "display_data"
    }
   ],
   "source": [
    "m <- matrix(1:12, ncol=3) # can also have 3 columns instead\n",
    "m"
   ]
  },
  {
   "cell_type": "code",
   "execution_count": 38,
   "metadata": {
    "vscode": {
     "languageId": "r"
    }
   },
   "outputs": [
    {
     "data": {
      "text/html": [
       "<table class=\"dataframe\">\n",
       "<caption>A matrix: 4 × 3 of type int</caption>\n",
       "<tbody>\n",
       "\t<tr><td> 1</td><td> 2</td><td> 3</td></tr>\n",
       "\t<tr><td> 4</td><td> 5</td><td> 6</td></tr>\n",
       "\t<tr><td> 7</td><td> 8</td><td> 9</td></tr>\n",
       "\t<tr><td>10</td><td>11</td><td>12</td></tr>\n",
       "</tbody>\n",
       "</table>\n"
      ],
      "text/latex": [
       "A matrix: 4 × 3 of type int\n",
       "\\begin{tabular}{lll}\n",
       "\t  1 &  2 &  3\\\\\n",
       "\t  4 &  5 &  6\\\\\n",
       "\t  7 &  8 &  9\\\\\n",
       "\t 10 & 11 & 12\\\\\n",
       "\\end{tabular}\n"
      ],
      "text/markdown": [
       "\n",
       "A matrix: 4 × 3 of type int\n",
       "\n",
       "|  1 |  2 |  3 |\n",
       "|  4 |  5 |  6 |\n",
       "|  7 |  8 |  9 |\n",
       "| 10 | 11 | 12 |\n",
       "\n"
      ],
      "text/plain": [
       "     [,1] [,2] [,3]\n",
       "[1,]  1    2    3  \n",
       "[2,]  4    5    6  \n",
       "[3,]  7    8    9  \n",
       "[4,] 10   11   12  "
      ]
     },
     "metadata": {},
     "output_type": "display_data"
    }
   ],
   "source": [
    "matrix(1:12, ncol=3, byrow=TRUE) # will set it so that it goes by row instead"
   ]
  },
  {
   "cell_type": "markdown",
   "metadata": {},
   "source": [
    "### 1.3.1 Non-numeric data (new)\n",
    "\n",
    "We didn't go over this last class, but matrices can store non-numeric data as well, they just all have to be the same type."
   ]
  },
  {
   "cell_type": "code",
   "execution_count": 27,
   "metadata": {
    "vscode": {
     "languageId": "r"
    }
   },
   "outputs": [
    {
     "data": {
      "text/html": [
       "<table class=\"dataframe\">\n",
       "<caption>A matrix: 3 × 3 of type chr</caption>\n",
       "<tbody>\n",
       "\t<tr><td>august  </td><td>NA    </td><td>paul c</td></tr>\n",
       "\t<tr><td>ellen   </td><td>NA    </td><td>paul s</td></tr>\n",
       "\t<tr><td>not paul</td><td>paul h</td><td>paul x</td></tr>\n",
       "</tbody>\n",
       "</table>\n"
      ],
      "text/latex": [
       "A matrix: 3 × 3 of type chr\n",
       "\\begin{tabular}{lll}\n",
       "\t august   & NA     & paul c\\\\\n",
       "\t ellen    & NA     & paul s\\\\\n",
       "\t not paul & paul h & paul x\\\\\n",
       "\\end{tabular}\n"
      ],
      "text/markdown": [
       "\n",
       "A matrix: 3 × 3 of type chr\n",
       "\n",
       "| august   | NA     | paul c |\n",
       "| ellen    | NA     | paul s |\n",
       "| not paul | paul h | paul x |\n",
       "\n"
      ],
      "text/plain": [
       "     [,1]     [,2]   [,3]  \n",
       "[1,] august   NA     paul c\n",
       "[2,] ellen    NA     paul s\n",
       "[3,] not paul paul h paul x"
      ]
     },
     "metadata": {},
     "output_type": "display_data"
    }
   ],
   "source": [
    "matrix(people2, nrow=3)"
   ]
  },
  {
   "cell_type": "markdown",
   "metadata": {},
   "source": [
    "### 1.3.2 Matrix indexing\n",
    "\n",
    "Matrix indexing works much like `vector`, except that now you choose the elements in each dimension with `[,]` notation. Additionally, you can specify a whole row or a whole column."
   ]
  },
  {
   "cell_type": "code",
   "execution_count": 28,
   "metadata": {
    "vscode": {
     "languageId": "r"
    }
   },
   "outputs": [
    {
     "data": {
      "text/html": [
       "4"
      ],
      "text/latex": [
       "4"
      ],
      "text/markdown": [
       "4"
      ],
      "text/plain": [
       "[1] 4"
      ]
     },
     "metadata": {},
     "output_type": "display_data"
    }
   ],
   "source": [
    "m[1,2] # first row, second column"
   ]
  },
  {
   "cell_type": "code",
   "execution_count": 29,
   "metadata": {
    "vscode": {
     "languageId": "r"
    }
   },
   "outputs": [
    {
     "data": {
      "text/html": [
       "<style>\n",
       ".list-inline {list-style: none; margin:0; padding: 0}\n",
       ".list-inline>li {display: inline-block}\n",
       ".list-inline>li:not(:last-child)::after {content: \"\\00b7\"; padding: 0 .5ex}\n",
       "</style>\n",
       "<ol class=list-inline><li>2</li><li>5</li><li>8</li><li>11</li></ol>\n"
      ],
      "text/latex": [
       "\\begin{enumerate*}\n",
       "\\item 2\n",
       "\\item 5\n",
       "\\item 8\n",
       "\\item 11\n",
       "\\end{enumerate*}\n"
      ],
      "text/markdown": [
       "1. 2\n",
       "2. 5\n",
       "3. 8\n",
       "4. 11\n",
       "\n",
       "\n"
      ],
      "text/plain": [
       "[1]  2  5  8 11"
      ]
     },
     "metadata": {},
     "output_type": "display_data"
    }
   ],
   "source": [
    "m[2,] # just second row"
   ]
  },
  {
   "cell_type": "markdown",
   "metadata": {},
   "source": [
    "## Review Questions\n",
    "\n",
    "### 1. How would we make a vector with the following elements?\n",
    "\n",
    " * `dog`\n",
    " * `cat`\n",
    " * `bird`\n",
    " * `potato`"
   ]
  },
  {
   "cell_type": "code",
   "execution_count": null,
   "metadata": {
    "vscode": {
     "languageId": "r"
    }
   },
   "outputs": [],
   "source": [
    "# code for review q\n",
    "animal_vec <- 0 # replace 0 with what?"
   ]
  },
  {
   "cell_type": "markdown",
   "metadata": {},
   "source": [
    "### 2. Matrix indexing\n",
    "\n",
    "Suppose we have the matrix `m` below. How do we get the 2nd and 4th elements from the 3rd column? "
   ]
  },
  {
   "cell_type": "code",
   "execution_count": 39,
   "metadata": {
    "vscode": {
     "languageId": "r"
    }
   },
   "outputs": [
    {
     "data": {
      "text/html": [
       "<table class=\"dataframe\">\n",
       "<caption>A matrix: 4 × 3 of type int</caption>\n",
       "<tbody>\n",
       "\t<tr><td>1</td><td>5</td><td> 9</td></tr>\n",
       "\t<tr><td>2</td><td>6</td><td>10</td></tr>\n",
       "\t<tr><td>3</td><td>7</td><td>11</td></tr>\n",
       "\t<tr><td>4</td><td>8</td><td>12</td></tr>\n",
       "</tbody>\n",
       "</table>\n"
      ],
      "text/latex": [
       "A matrix: 4 × 3 of type int\n",
       "\\begin{tabular}{lll}\n",
       "\t 1 & 5 &  9\\\\\n",
       "\t 2 & 6 & 10\\\\\n",
       "\t 3 & 7 & 11\\\\\n",
       "\t 4 & 8 & 12\\\\\n",
       "\\end{tabular}\n"
      ],
      "text/markdown": [
       "\n",
       "A matrix: 4 × 3 of type int\n",
       "\n",
       "| 1 | 5 |  9 |\n",
       "| 2 | 6 | 10 |\n",
       "| 3 | 7 | 11 |\n",
       "| 4 | 8 | 12 |\n",
       "\n"
      ],
      "text/plain": [
       "     [,1] [,2] [,3]\n",
       "[1,] 1    5     9  \n",
       "[2,] 2    6    10  \n",
       "[3,] 3    7    11  \n",
       "[4,] 4    8    12  "
      ]
     },
     "metadata": {},
     "output_type": "display_data"
    }
   ],
   "source": [
    "m <- matrix(1:12, ncol=3)\n",
    "m"
   ]
  },
  {
   "cell_type": "code",
   "execution_count": null,
   "metadata": {
    "vscode": {
     "languageId": "r"
    }
   },
   "outputs": [],
   "source": [
    "# your code here"
   ]
  },
  {
   "cell_type": "markdown",
   "metadata": {},
   "source": [
    "Let's say we want to replace these 2 elements with 100 and 100, respectively. How would we do that?"
   ]
  },
  {
   "cell_type": "code",
   "execution_count": 40,
   "metadata": {
    "vscode": {
     "languageId": "r"
    }
   },
   "outputs": [],
   "source": [
    "# your code here"
   ]
  },
  {
   "cell_type": "markdown",
   "metadata": {},
   "source": [
    "### 3. Lists and Dataframes\n",
    "\n",
    "Last class we also went over `list` and `dataframe` as data structures.\n",
    "\n",
    " * How would we make a list with `dog`, `cat`, `bird`, `potato` instead of a vector?\n",
    " * How about a list with `dog`, `cat`, `bird`, `potato`, 1, 2, 3?\n",
    " * How would we make a dataframe with the same number of columns as `m` above?"
   ]
  },
  {
   "cell_type": "code",
   "execution_count": null,
   "metadata": {
    "vscode": {
     "languageId": "r"
    }
   },
   "outputs": [],
   "source": [
    "# your code here"
   ]
  },
  {
   "cell_type": "markdown",
   "metadata": {},
   "source": [
    "### 4. Indexing conceptuals\n",
    "\n",
    "What is the result of indexing a vector with positive integers, negative integers (this was touched on briefly last week but if you've forgotten, create a vector and try it out), a logical vector, or a character vector?"
   ]
  },
  {
   "cell_type": "markdown",
   "metadata": {},
   "source": [
    "### 5. Challenge Problem\n",
    "\n",
    "Given a linear model, e.g., `mod <- lm(mpg ~ wt, data = mtcars)`, extract the residual degrees of freedom. Then extract the R squared from the model summary (`summary(mod)`). Hint: what does `attributes(mod)` return?"
   ]
  },
  {
   "cell_type": "markdown",
   "metadata": {},
   "source": [
    "# 2. Functions\n",
    "\n",
    " * Small, re-usable code chunks\n",
    " * Takes input (arguments) and returns output"
   ]
  },
  {
   "cell_type": "code",
   "execution_count": 1,
   "metadata": {
    "vscode": {
     "languageId": "r"
    }
   },
   "outputs": [
    {
     "name": "stdout",
     "output_type": "stream",
     "text": [
      "[1] \"print is a function!\"\n"
     ]
    },
    {
     "data": {
      "text/html": [
       "<style>\n",
       ".list-inline {list-style: none; margin:0; padding: 0}\n",
       ".list-inline>li {display: inline-block}\n",
       ".list-inline>li:not(:last-child)::after {content: \"\\00b7\"; padding: 0 .5ex}\n",
       "</style>\n",
       "<ol class=list-inline><li>4</li><li>137</li><li>151</li></ol>\n"
      ],
      "text/latex": [
       "\\begin{enumerate*}\n",
       "\\item 4\n",
       "\\item 137\n",
       "\\item 151\n",
       "\\end{enumerate*}\n"
      ],
      "text/markdown": [
       "1. 4\n",
       "2. 137\n",
       "3. 151\n",
       "\n",
       "\n"
      ],
      "text/plain": [
       "[1]   4 137 151"
      ]
     },
     "metadata": {},
     "output_type": "display_data"
    }
   ],
   "source": [
    "print(\"print is a function!\") # what is the argument into print?\n",
    "v <- c(4, 137, 151) # c() is a function.\n",
    "v"
   ]
  },
  {
   "cell_type": "markdown",
   "metadata": {},
   "source": [
    "## 2.1 Defining a function\n",
    "\n",
    " * Goals: reusability, code clarity, scope cleanliness"
   ]
  },
  {
   "cell_type": "code",
   "execution_count": 2,
   "metadata": {
    "vscode": {
     "languageId": "r"
    }
   },
   "outputs": [],
   "source": [
    "add_two <- function(n) {\n",
    "    z <- n + 2\n",
    "    return(z)\n",
    "}"
   ]
  },
  {
   "cell_type": "code",
   "execution_count": 3,
   "metadata": {
    "vscode": {
     "languageId": "r"
    }
   },
   "outputs": [
    {
     "data": {
      "text/html": [
       "5023"
      ],
      "text/latex": [
       "5023"
      ],
      "text/markdown": [
       "5023"
      ],
      "text/plain": [
       "[1] 5023"
      ]
     },
     "metadata": {},
     "output_type": "display_data"
    },
    {
     "data": {
      "text/html": [
       "139"
      ],
      "text/latex": [
       "139"
      ],
      "text/markdown": [
       "139"
      ],
      "text/plain": [
       "[1] 139"
      ]
     },
     "metadata": {},
     "output_type": "display_data"
    }
   ],
   "source": [
    "add_two(5021)\n",
    "add_two(137)"
   ]
  },
  {
   "cell_type": "markdown",
   "metadata": {},
   "source": [
    "## 2.2 More complex functions\n",
    "\n",
    " * Functions can have multiple arguments\n",
    " * They can also have variable numbers of arguments (known as variadic)\n",
    " * They can also have default arguments (you would have to specify argument and value to change)"
   ]
  },
  {
   "cell_type": "code",
   "execution_count": 5,
   "metadata": {
    "vscode": {
     "languageId": "r"
    }
   },
   "outputs": [
    {
     "data": {
      "text/html": [
       "20"
      ],
      "text/latex": [
       "20"
      ],
      "text/markdown": [
       "20"
      ],
      "text/plain": [
       "[1] 20"
      ]
     },
     "metadata": {},
     "output_type": "display_data"
    }
   ],
   "source": [
    "area_of_square <- function(length, width) {\n",
    "    area <- length * width\n",
    "    return(area)\n",
    "}\n",
    "\n",
    "area_of_square(4,5)"
   ]
  },
  {
   "cell_type": "code",
   "execution_count": 8,
   "metadata": {
    "vscode": {
     "languageId": "r"
    }
   },
   "outputs": [
    {
     "data": {
      "text/html": [
       "16"
      ],
      "text/latex": [
       "16"
      ],
      "text/markdown": [
       "16"
      ],
      "text/plain": [
       "[1] 16"
      ]
     },
     "metadata": {},
     "output_type": "display_data"
    },
    {
     "data": {
      "text/html": [
       "20"
      ],
      "text/latex": [
       "20"
      ],
      "text/markdown": [
       "20"
      ],
      "text/plain": [
       "[1] 20"
      ]
     },
     "metadata": {},
     "output_type": "display_data"
    }
   ],
   "source": [
    "area_of_square <- function(length, width=length) {\n",
    "    area <- length * width\n",
    "    return(area)\n",
    "}\n",
    "area_of_square(4)\n",
    "area_of_square(4,5)"
   ]
  },
  {
   "cell_type": "markdown",
   "metadata": {},
   "source": [
    "## 2.3 Function Scope and Best Practices\n",
    "\n",
    " * `local` variable is inside given local scope (i.e. a function)\n",
    " * `global` variable is variable defined outside of a function\n",
    " * `free` variable is a variable searched for in the environment that the function is defined"
   ]
  },
  {
   "cell_type": "code",
   "execution_count": 15,
   "metadata": {
    "vscode": {
     "languageId": "r"
    }
   },
   "outputs": [],
   "source": [
    "a <- 5 # a is a global variable\n",
    "\n",
    "f <- function(x, y) {\n",
    "    # x and y are local variables that exist in the function body\n",
    "    x^2 + y / z  # z is a free variable\n",
    " }"
   ]
  },
  {
   "cell_type": "markdown",
   "metadata": {},
   "source": [
    " * For modularity, function should be given all the variables it needs as arguments.\n",
    " * Free variables are discouraged because they are hard to track down in code.\n",
    " * When updating global variables, best practice is to use an assignment operator in its largest scope.\n",
    " * Additionally for functions: best to provide descriptive function names and arguments, just like you would want to provide descriptive variable names\n",
    "\n",
    " What distinguishes these functions below? Why is one bad practice, one ok practice, and one best practice?"
   ]
  },
  {
   "cell_type": "code",
   "execution_count": 14,
   "metadata": {
    "vscode": {
     "languageId": "r"
    }
   },
   "outputs": [
    {
     "name": "stdout",
     "output_type": "stream",
     "text": [
      "[1] 7\n",
      "[1] 7\n",
      "[1] 7\n"
     ]
    }
   ],
   "source": [
    "# bad practice\n",
    "a <- 5\n",
    "f <- function(x) {\n",
    "    return(a + x)\n",
    "}\n",
    "a <- f(2)\n",
    "print(a)\n",
    "\n",
    "# ok practice\n",
    "a <- 5\n",
    "f <- function(x, y) {\n",
    "    return(x + y)\n",
    "}\n",
    "a <- f(a,2)\n",
    "print(a)\n",
    "\n",
    "# best practice\n",
    "num_students <- 5\n",
    "update_students <- function(current_num, new_num) {\n",
    "    return(current_num + new_num)\n",
    "}\n",
    "num_students <- update_students(num_students, 2)\n",
    "print(num_students)"
   ]
  },
  {
   "cell_type": "markdown",
   "metadata": {},
   "source": [
    "## 2.4 Variable shadowing\n",
    "\n",
    "Variable shadowing occurs when a variable is declared in a certain scope that has the same name as a variable declared in an outer scope."
   ]
  },
  {
   "cell_type": "code",
   "execution_count": 18,
   "metadata": {
    "vscode": {
     "languageId": "r"
    }
   },
   "outputs": [
    {
     "name": "stdout",
     "output_type": "stream",
     "text": [
      "[1] \"inner: 2\"\n",
      "[1] \"outer: 1\"\n",
      "[1] \"global: 0\"\n"
     ]
    }
   ],
   "source": [
    "x <- 0 # Global Variable\n",
    "\n",
    "outer <- function() {\n",
    "    x <- 1 # outer x\n",
    "    \n",
    "    inner <- function() {\n",
    "        # print(paste(\"before assignment in inner:\", x))\n",
    "        \n",
    "        x <- 2 # inner x\n",
    "        print(paste(\"inner:\", x))\n",
    "    }\n",
    "    \n",
    "    inner() # Call function inner\n",
    "    \n",
    "    print(paste(\"outer:\", x))\n",
    "}\n",
    "\n",
    "outer() # Call function outer\n",
    "print(paste(\"global:\", x))"
   ]
  },
  {
   "cell_type": "markdown",
   "metadata": {},
   "source": [
    "## Review Questions"
   ]
  },
  {
   "cell_type": "markdown",
   "metadata": {},
   "source": [
    "### 1. Basic function creation\n",
    "\n",
    "Write a function named `square` that takes one argument, and returns the square of that argument. Write a test: what kind of code line will output `TRUE` for `square(5)`?"
   ]
  },
  {
   "cell_type": "markdown",
   "metadata": {},
   "source": []
  },
  {
   "cell_type": "markdown",
   "metadata": {},
   "source": [
    "### 2. More complex functions\n",
    "\n",
    "Define a function named `greet` that takes one argument, `name`, and prints a greeting message. The function should also have an optional argument, `punctuation`, which defaults to `\"!\"`. Test the function by calling it with and without the `punctuation` argument."
   ]
  },
  {
   "cell_type": "markdown",
   "metadata": {},
   "source": []
  },
  {
   "cell_type": "markdown",
   "metadata": {},
   "source": [
    "### 3. Function best practices\n",
    "\n",
    "Look at the code block below. Answer the following questions:\n",
    "\n",
    " * What does `rnorm(10)` do? If you don't know, try running it in its own code block, as well as running `?rnorm`\n",
    " * What does the code do?\n",
    " * What mistake can you see in the code? How could this have been prevented?\n",
    " * Which lines of codes are a candidate for their own function? Why?\n",
    " * Write a function to modularize the code block and make it easier to read and run. Try to follow function best practices."
   ]
  },
  {
   "cell_type": "code",
   "execution_count": 16,
   "metadata": {
    "vscode": {
     "languageId": "r"
    }
   },
   "outputs": [],
   "source": [
    "df <- tibble::tibble(\n",
    "  a = rnorm(10),\n",
    "  b = rnorm(10),\n",
    "  c = rnorm(10),\n",
    "  d = rnorm(10)\n",
    ")\n",
    "\n",
    "df$a <- (df$a - min(df$a, na.rm = TRUE)) / \n",
    "  (max(df$a, na.rm = TRUE) - min(df$a, na.rm = TRUE))\n",
    "df$b <- (df$b - min(df$b, na.rm = TRUE)) / \n",
    "  (max(df$b, na.rm = TRUE) - min(df$a, na.rm = TRUE))\n",
    "df$c <- (df$c - min(df$c, na.rm = TRUE)) / \n",
    "  (max(df$c, na.rm = TRUE) - min(df$c, na.rm = TRUE))\n",
    "df$d <- (df$d - min(df$d, na.rm = TRUE)) / \n",
    "  (max(df$d, na.rm = TRUE) - min(df$d, na.rm = TRUE))"
   ]
  },
  {
   "cell_type": "markdown",
   "metadata": {},
   "source": [
    "### 4. Variable Shadowing\n",
    "\n",
    "Create a function `shadow_example` that takes one argument `x`. Inside the function, define a local variable `x` with a different value. The function should return the local `x`. Test the function with the argument 5 and print the result."
   ]
  },
  {
   "cell_type": "code",
   "execution_count": null,
   "metadata": {
    "vscode": {
     "languageId": "r"
    }
   },
   "outputs": [],
   "source": [
    "# your code here"
   ]
  },
  {
   "cell_type": "markdown",
   "metadata": {},
   "source": [
    "# 3. Control Flow Part 1: Conditional Logic"
   ]
  },
  {
   "cell_type": "markdown",
   "metadata": {},
   "source": [
    "## 3.1 Comparison Operators\n",
    "\n",
    "Used to compare 2 values.\n",
    "\n",
    "| Operator | Description | Example |\n",
    "| --- | --- | --- |\n",
    "| == | Equal to | a == b |\n",
    "| != | Not equal | a != b |\n",
    "| > | Greater than | a > b |\n",
    "| < | Less than | a < b |\n",
    "| >= | Greater than or equal to | a >= b |\n",
    "| <= | Less than or equal to | a <= b |"
   ]
  },
  {
   "cell_type": "markdown",
   "metadata": {},
   "source": [
    "## 3.2 Logical Operators in R\n",
    "\n",
    "| Operator | Description |\n",
    "| --- | --- |\n",
    "| & | Element-wise logical AND |\n",
    "| && | Logical AND with short-circuiting. Compares two logical expressions and returns TRUE if both statements are TRUE | \n",
    "| &#124; | Element-wise logical OR |\n",
    "| &#124; &#124; | Logical OR with short-circuiting. Compares two logical expressions and returns TRUE if one of the statement is TRUE |\n",
    "| ! | Logical NOT. Returns FALSE is the statement is TRUE |\n",
    "\n",
    "Short circuiting means that if any of the values from left-to-right are determinative, the rest will not be computed. For example, with `FALSE && some_value`, since `FALSE &&` anything else will always evaluate to `FALSE`, the rest of the expression is not computed. This can lead to performance improvements and is why `&&` and `||` are preferred for control-flow operations (covered next)."
   ]
  },
  {
   "cell_type": "markdown",
   "metadata": {},
   "source": [
    "### 3.2.1 Order of operations\n",
    "\n",
    "The following is the order of operations from highest priority to lowest priority, use parentheses as necessary\n",
    "\n",
    "| Operator | Description |\n",
    "| --- | --- |\n",
    "| ! | Logical NOT |\n",
    "| &, && | Logical AND |\n",
    "| &#124;, &#124; &#124; | Logical OR |"
   ]
  },
  {
   "cell_type": "code",
   "execution_count": null,
   "metadata": {
    "vscode": {
     "languageId": "r"
    }
   },
   "outputs": [],
   "source": []
  },
  {
   "cell_type": "markdown",
   "metadata": {},
   "source": [
    "## 3.3 `if` and `else`\n",
    "\n",
    "`if` and `else` statements allow you to conditionally execute code. It looks like this:\n",
    "\n",
    "```\n",
    "if (condition) {\n",
    "  # code executed when condition is TRUE\n",
    "} else {\n",
    "  # code executed when condition is FALSE\n",
    "}\n",
    "```\n",
    "\n",
    "`condition` is usually an expression formed from comparison and logical operators."
   ]
  },
  {
   "cell_type": "code",
   "execution_count": 20,
   "metadata": {
    "vscode": {
     "languageId": "r"
    }
   },
   "outputs": [],
   "source": [
    "# this function uses if to evaluate whether names(x) is null or not\n",
    "has_name <- function(x) {\n",
    "  nms <- names(x)\n",
    "  if (is.null(nms)) {\n",
    "    rep(FALSE, length(x))\n",
    "  } else {\n",
    "    !is.na(nms) & nms != \"\"\n",
    "  }\n",
    "}"
   ]
  },
  {
   "cell_type": "markdown",
   "metadata": {},
   "source": [
    "### 3.3.1 Multiple conditions and `switch` (new)\n",
    "\n",
    " * You can nest `if` statements inside of each other as well as chain multiple `if` statements together.\n",
    " * An `ifelse` shorthand function exists to cover what to do in either `TRUE` or `FALSE` conditions\n",
    " * There is also a function called `switch()` which allows you to evaluate code conditions based on position or name."
   ]
  },
  {
   "cell_type": "code",
   "execution_count": 22,
   "metadata": {
    "vscode": {
     "languageId": "r"
    }
   },
   "outputs": [],
   "source": [
    "# mested if else statements\n",
    "x_option <- function(x) {\n",
    "  if (x == \"a\") {\n",
    "    \"option 1\"\n",
    "  } else if (x == \"b\") {\n",
    "    \"option 2\" \n",
    "  } else if (x == \"c\") {\n",
    "    \"option 3\"\n",
    "  } else {\n",
    "    stop(\"Invalid `x` value\")\n",
    "  }\n",
    "}"
   ]
  },
  {
   "cell_type": "code",
   "execution_count": 23,
   "metadata": {
    "vscode": {
     "languageId": "r"
    }
   },
   "outputs": [],
   "source": [
    "# same function, but with switch instead\n",
    "x_option <- function(x) {\n",
    "  switch(x,\n",
    "    a = \"option 1\",\n",
    "    b = \"option 2\",\n",
    "    c = \"option 3\",\n",
    "    stop(\"Invalid `x` value\")\n",
    "  )\n",
    "}"
   ]
  },
  {
   "cell_type": "markdown",
   "metadata": {},
   "source": [
    "## Review Questions"
   ]
  },
  {
   "cell_type": "markdown",
   "metadata": {},
   "source": [
    "### 1. Functions with conditional logic\n",
    "\n",
    "Create a function named `classify_number` that takes one argument and returns \"positive\", \"negative\", or \"zero\" depending on whether the argument is greater than, less than, or equal to zero, respectively. Test the function with different values."
   ]
  },
  {
   "cell_type": "code",
   "execution_count": 24,
   "metadata": {
    "vscode": {
     "languageId": "r"
    }
   },
   "outputs": [],
   "source": [
    "# your code here"
   ]
  },
  {
   "cell_type": "markdown",
   "metadata": {},
   "source": [
    "### 2. Functions with multiple conditional statements\n",
    "\n",
    "Implement a `fizzbuzz` function. It takes a single number as input. If the number is divisible by three, it returns “fizz”. If it’s divisible by five it returns “buzz”. If it’s divisible by three and five, it returns “fizzbuzz”. Otherwise, it returns the number. Make sure you first write working code before you create the function."
   ]
  },
  {
   "cell_type": "code",
   "execution_count": 25,
   "metadata": {
    "vscode": {
     "languageId": "r"
    }
   },
   "outputs": [],
   "source": [
    "# your code here"
   ]
  },
  {
   "cell_type": "markdown",
   "metadata": {},
   "source": [
    "### 3. Trying out `switch()`\n",
    "\n",
    "What does thie `switch()` call do? What happens if `x` is \"e\"?\n",
    "\n",
    "Note 1: Testing out this `switch` call will require you to either set `x` as a global variable first, or create a function with this statement.\n",
    "\n",
    "Note 2: There are lines in this `switch` statement that won't make sense because we didn't cover it. R (and every other programming language) is full of syntax details with things like this that we won't get to in class because it's not necessarily core to learning how to write code for data science, but you can always learn more about what they do by executing the code yourself, or looking at the help with `?function`, in this case, `?switch`."
   ]
  },
  {
   "cell_type": "code",
   "execution_count": 36,
   "metadata": {
    "vscode": {
     "languageId": "r"
    }
   },
   "outputs": [],
   "source": [
    "switch(x, \n",
    "  a = ,\n",
    "  b = \"ab\",\n",
    "  c = ,\n",
    "  d = \"cd\"\n",
    ")"
   ]
  },
  {
   "cell_type": "markdown",
   "metadata": {},
   "source": [
    "### 4. Combining conditional logic with indexing\n",
    "\n",
    "Since we can do logical indexing, we can use conditional logic to subset data structures. The following code block attempts to do so, but contains errors. Fix the errors so that the indexing works."
   ]
  },
  {
   "cell_type": "code",
   "execution_count": null,
   "metadata": {
    "vscode": {
     "languageId": "r"
    }
   },
   "outputs": [],
   "source": [
    "mtcars[mtcars$cyl = 4, ]\n",
    "mtcars[-1:4, ]\n",
    "mtcars[mtcars$cyl <= 5]\n",
    "mtcars[mtcars$cyl == 4 | 6, ]"
   ]
  },
  {
   "cell_type": "markdown",
   "metadata": {},
   "source": [
    "# 4. Control Flow Part 2: Iteration with loops\n",
    "\n",
    " * Iteration is the process of repeating an operation many times\n",
    " * Many methods of completing tasks with iteration, but looping is most intuitive"
   ]
  },
  {
   "cell_type": "markdown",
   "metadata": {},
   "source": [
    "## 4.1 `for` Loops\n",
    "\n",
    "`for` loops are used to iterate over items in a vector. They have the following basic form:\n",
    "\n",
    "```for (item in vector) perform_action```\n",
    "\n",
    "For eahc item in `vector`, `perform_action` is called once. `item` is the variable that gets updated with a new value from `vector` each loop."
   ]
  },
  {
   "cell_type": "code",
   "execution_count": 37,
   "metadata": {
    "vscode": {
     "languageId": "r"
    }
   },
   "outputs": [
    {
     "name": "stdout",
     "output_type": "stream",
     "text": [
      "[1] 1\n",
      "[1] 4\n",
      "[1] 9\n",
      "[1] 16\n",
      "[1] 25\n"
     ]
    }
   ],
   "source": [
    "for (i in 1:5) {\n",
    "    i2 <- i*i             # this code block is executed for each iteration\n",
    "    print(i2)\n",
    "}"
   ]
  },
  {
   "cell_type": "markdown",
   "metadata": {},
   "source": [
    "## 4.2 `while` Loops\n",
    "\n",
    "`while` loops are similar to `for` loops, but do not have a pre-defined stopping point. Instead they rely on a condition being fulfilled."
   ]
  },
  {
   "cell_type": "code",
   "execution_count": 41,
   "metadata": {
    "vscode": {
     "languageId": "r"
    }
   },
   "outputs": [
    {
     "name": "stdout",
     "output_type": "stream",
     "text": [
      "[1] 1\n",
      "[1] 2\n",
      "[1] 1\n"
     ]
    }
   ],
   "source": [
    "m <- 1\n",
    "\n",
    "while (m > 0) {\n",
    "    print(m) \n",
    "    m <- m - sample(-1:1, 1) # -1, 0, 1 \n",
    "}"
   ]
  },
  {
   "cell_type": "code",
   "execution_count": 43,
   "metadata": {
    "vscode": {
     "languageId": "r"
    }
   },
   "outputs": [
    {
     "name": "stdout",
     "output_type": "stream",
     "text": [
      "[1] 5\n",
      "[1] 6\n",
      "[1] 6\n",
      "[1] 6\n",
      "[1] \"uh, oh... exiting\"\n"
     ]
    }
   ],
   "source": [
    "m <- 5\n",
    "\n",
    "\n",
    "while (m > 0) {\n",
    "    print(m)\n",
    "    m <- m - sample(-2:2, 1)\n",
    "    \n",
    "    if (m > 6) {\n",
    "        print(\"uh, oh... exiting\")\n",
    "        break\n",
    "    }\n",
    "}"
   ]
  },
  {
   "cell_type": "code",
   "execution_count": 49,
   "metadata": {
    "vscode": {
     "languageId": "r"
    }
   },
   "outputs": [
    {
     "name": "stdout",
     "output_type": "stream",
     "text": [
      "[1] 3\n",
      "[1] 4\n",
      "[1] 5\n",
      "[1] 6\n",
      "[1] 8\n",
      "[1] 9\n",
      "[1] 10\n"
     ]
    }
   ],
   "source": [
    "for (x in 1:10) { # go back here\n",
    "    if (x < 3 | x == 7) {\n",
    "        next  \n",
    "    }\n",
    "    print(x)\n",
    "}"
   ]
  },
  {
   "cell_type": "markdown",
   "metadata": {},
   "source": [
    "### 4.3 Using `break` and `next`\n",
    "\n",
    " * `break`: exit a loop at will. In some cases, it's important to be able to exit a loop \"early\"\n",
    " * `next`: skip the current iteration and go to the next. In other cases, we just want to skip the current iteration."
   ]
  },
  {
   "cell_type": "markdown",
   "metadata": {},
   "source": [
    "## Review Questions"
   ]
  },
  {
   "cell_type": "markdown",
   "metadata": {},
   "source": [
    "### 1. `for` loop\n",
    "\n",
    "`mtcars` is a preloaded dataset in R. Write a function that uses a `for` loop to compute the mean of every column in `mtcars`. Make sure to use best practices for function writing."
   ]
  },
  {
   "cell_type": "code",
   "execution_count": 38,
   "metadata": {
    "vscode": {
     "languageId": "r"
    }
   },
   "outputs": [
    {
     "data": {
      "text/html": [
       "<table class=\"dataframe\">\n",
       "<caption>A data.frame: 6 × 11</caption>\n",
       "<thead>\n",
       "\t<tr><th></th><th scope=col>mpg</th><th scope=col>cyl</th><th scope=col>disp</th><th scope=col>hp</th><th scope=col>drat</th><th scope=col>wt</th><th scope=col>qsec</th><th scope=col>vs</th><th scope=col>am</th><th scope=col>gear</th><th scope=col>carb</th></tr>\n",
       "\t<tr><th></th><th scope=col>&lt;dbl&gt;</th><th scope=col>&lt;dbl&gt;</th><th scope=col>&lt;dbl&gt;</th><th scope=col>&lt;dbl&gt;</th><th scope=col>&lt;dbl&gt;</th><th scope=col>&lt;dbl&gt;</th><th scope=col>&lt;dbl&gt;</th><th scope=col>&lt;dbl&gt;</th><th scope=col>&lt;dbl&gt;</th><th scope=col>&lt;dbl&gt;</th><th scope=col>&lt;dbl&gt;</th></tr>\n",
       "</thead>\n",
       "<tbody>\n",
       "\t<tr><th scope=row>Mazda RX4</th><td>21.0</td><td>6</td><td>160</td><td>110</td><td>3.90</td><td>2.620</td><td>16.46</td><td>0</td><td>1</td><td>4</td><td>4</td></tr>\n",
       "\t<tr><th scope=row>Mazda RX4 Wag</th><td>21.0</td><td>6</td><td>160</td><td>110</td><td>3.90</td><td>2.875</td><td>17.02</td><td>0</td><td>1</td><td>4</td><td>4</td></tr>\n",
       "\t<tr><th scope=row>Datsun 710</th><td>22.8</td><td>4</td><td>108</td><td> 93</td><td>3.85</td><td>2.320</td><td>18.61</td><td>1</td><td>1</td><td>4</td><td>1</td></tr>\n",
       "\t<tr><th scope=row>Hornet 4 Drive</th><td>21.4</td><td>6</td><td>258</td><td>110</td><td>3.08</td><td>3.215</td><td>19.44</td><td>1</td><td>0</td><td>3</td><td>1</td></tr>\n",
       "\t<tr><th scope=row>Hornet Sportabout</th><td>18.7</td><td>8</td><td>360</td><td>175</td><td>3.15</td><td>3.440</td><td>17.02</td><td>0</td><td>0</td><td>3</td><td>2</td></tr>\n",
       "\t<tr><th scope=row>Valiant</th><td>18.1</td><td>6</td><td>225</td><td>105</td><td>2.76</td><td>3.460</td><td>20.22</td><td>1</td><td>0</td><td>3</td><td>1</td></tr>\n",
       "</tbody>\n",
       "</table>\n"
      ],
      "text/latex": [
       "A data.frame: 6 × 11\n",
       "\\begin{tabular}{r|lllllllllll}\n",
       "  & mpg & cyl & disp & hp & drat & wt & qsec & vs & am & gear & carb\\\\\n",
       "  & <dbl> & <dbl> & <dbl> & <dbl> & <dbl> & <dbl> & <dbl> & <dbl> & <dbl> & <dbl> & <dbl>\\\\\n",
       "\\hline\n",
       "\tMazda RX4 & 21.0 & 6 & 160 & 110 & 3.90 & 2.620 & 16.46 & 0 & 1 & 4 & 4\\\\\n",
       "\tMazda RX4 Wag & 21.0 & 6 & 160 & 110 & 3.90 & 2.875 & 17.02 & 0 & 1 & 4 & 4\\\\\n",
       "\tDatsun 710 & 22.8 & 4 & 108 &  93 & 3.85 & 2.320 & 18.61 & 1 & 1 & 4 & 1\\\\\n",
       "\tHornet 4 Drive & 21.4 & 6 & 258 & 110 & 3.08 & 3.215 & 19.44 & 1 & 0 & 3 & 1\\\\\n",
       "\tHornet Sportabout & 18.7 & 8 & 360 & 175 & 3.15 & 3.440 & 17.02 & 0 & 0 & 3 & 2\\\\\n",
       "\tValiant & 18.1 & 6 & 225 & 105 & 2.76 & 3.460 & 20.22 & 1 & 0 & 3 & 1\\\\\n",
       "\\end{tabular}\n"
      ],
      "text/markdown": [
       "\n",
       "A data.frame: 6 × 11\n",
       "\n",
       "| <!--/--> | mpg &lt;dbl&gt; | cyl &lt;dbl&gt; | disp &lt;dbl&gt; | hp &lt;dbl&gt; | drat &lt;dbl&gt; | wt &lt;dbl&gt; | qsec &lt;dbl&gt; | vs &lt;dbl&gt; | am &lt;dbl&gt; | gear &lt;dbl&gt; | carb &lt;dbl&gt; |\n",
       "|---|---|---|---|---|---|---|---|---|---|---|---|\n",
       "| Mazda RX4 | 21.0 | 6 | 160 | 110 | 3.90 | 2.620 | 16.46 | 0 | 1 | 4 | 4 |\n",
       "| Mazda RX4 Wag | 21.0 | 6 | 160 | 110 | 3.90 | 2.875 | 17.02 | 0 | 1 | 4 | 4 |\n",
       "| Datsun 710 | 22.8 | 4 | 108 |  93 | 3.85 | 2.320 | 18.61 | 1 | 1 | 4 | 1 |\n",
       "| Hornet 4 Drive | 21.4 | 6 | 258 | 110 | 3.08 | 3.215 | 19.44 | 1 | 0 | 3 | 1 |\n",
       "| Hornet Sportabout | 18.7 | 8 | 360 | 175 | 3.15 | 3.440 | 17.02 | 0 | 0 | 3 | 2 |\n",
       "| Valiant | 18.1 | 6 | 225 | 105 | 2.76 | 3.460 | 20.22 | 1 | 0 | 3 | 1 |\n",
       "\n"
      ],
      "text/plain": [
       "                  mpg  cyl disp hp  drat wt    qsec  vs am gear carb\n",
       "Mazda RX4         21.0 6   160  110 3.90 2.620 16.46 0  1  4    4   \n",
       "Mazda RX4 Wag     21.0 6   160  110 3.90 2.875 17.02 0  1  4    4   \n",
       "Datsun 710        22.8 4   108   93 3.85 2.320 18.61 1  1  4    1   \n",
       "Hornet 4 Drive    21.4 6   258  110 3.08 3.215 19.44 1  0  3    1   \n",
       "Hornet Sportabout 18.7 8   360  175 3.15 3.440 17.02 0  0  3    2   \n",
       "Valiant           18.1 6   225  105 2.76 3.460 20.22 1  0  3    1   "
      ]
     },
     "metadata": {},
     "output_type": "display_data"
    }
   ],
   "source": [
    "head(mtcars, 6) # to give you an idea of what's in mtcars"
   ]
  },
  {
   "cell_type": "markdown",
   "metadata": {},
   "source": [
    "### 2. `while` loop\n",
    "\n",
    "Create a function called `generate_until_target` that continuously generates random integers between 1 and 10 and adds them to the total until a specified target number is reached or exceeded. The function should keep track of the total sum of the generated numbers and the count of how many numbers were generated. Once the target is reached, the function should print the total sum, the number of generated numbers, and the final value that reached or exceeded the target."
   ]
  },
  {
   "cell_type": "code",
   "execution_count": null,
   "metadata": {
    "vscode": {
     "languageId": "r"
    }
   },
   "outputs": [],
   "source": []
  },
  {
   "cell_type": "markdown",
   "metadata": {},
   "source": [
    "### 3. Using `break` and `next`\n",
    "\n",
    "Create a function named `filter_even` that takes a vector of numbers and prints only the even numbers. Use a `for` loop and implement break to stop the loop if you encounter a negative number, and next to skip odd numbers."
   ]
  },
  {
   "cell_type": "code",
   "execution_count": null,
   "metadata": {
    "vscode": {
     "languageId": "r"
    }
   },
   "outputs": [],
   "source": [
    "# your code here"
   ]
  },
  {
   "cell_type": "markdown",
   "metadata": {},
   "source": [
    "### 4. Synthesizing it all\n",
    "\n",
    "You are tasked with simulating an ATM withdrawal system. Write a function called `atm_withdrawal` that simulates the following scenario:\n",
    " * The ATM starts with a balance, `user_balance`.\n",
    " * A vector of withdrawal amounts, `withdrawals` will be provided as the argument, simulating the user making multiple withdrawals.\n",
    " * With each withdrawal, check if the withdrawal amount will leave the remaining balance as less than $0. If so, notify that the balance is insufficient and move to the next amount. If not, withdraw the amount from the current balance and print the remaining balance.\n",
    " * If the remaining balance is $0, print that all funds have been withdrawn and exit the loop.\n",
    " * The function should check for valid withdrawal amounts as well."
   ]
  },
  {
   "cell_type": "code",
   "execution_count": null,
   "metadata": {
    "vscode": {
     "languageId": "r"
    }
   },
   "outputs": [],
   "source": [
    "# your code here"
   ]
  },
  {
   "cell_type": "code",
   "execution_count": null,
   "metadata": {
    "vscode": {
     "languageId": "r"
    }
   },
   "outputs": [],
   "source": [
    "atm_withdrawal(1000, c(100,800,900,-50,100))"
   ]
  }
 ],
 "metadata": {
  "kernelspec": {
   "display_name": "R",
   "language": "R",
   "name": "ir"
  },
  "language_info": {
   "codemirror_mode": "r",
   "file_extension": ".r",
   "mimetype": "text/x-r-source",
   "name": "R",
   "pygments_lexer": "r",
   "version": "4.3.1"
  }
 },
 "nbformat": 4,
 "nbformat_minor": 2
}
