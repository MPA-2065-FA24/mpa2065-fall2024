{
 "cells": [
  {
   "cell_type": "markdown",
   "metadata": {},
   "source": [
    "# Intro to R Review\n",
    "\n",
    "### August Guang\n",
    "### Ellen Duong\n",
    "### 2024-09-16"
   ]
  },
  {
   "cell_type": "markdown",
   "metadata": {},
   "source": [
    "## Structure\n",
    "\n",
    "We will be reviewing through some (not all) of the material again, starting from R Data Structures and giving everyone more time to practice actually writing their own code vs executing. At the end of each review section there will be a set of coding practice questions to answer - you are welcome to work in pairs, but you can work on your own if you need to. All questions we will work on in class."
   ]
  },
  {
   "cell_type": "markdown",
   "metadata": {},
   "source": [
    "# 1. R Data Structures\n",
    "\n",
    " * We went over:\n",
    "   * `vector`\n",
    "   * `matrix`\n",
    "   * `list`\n",
    "   * `dataframe`"
   ]
  },
  {
   "cell_type": "markdown",
   "metadata": {},
   "source": [
    "## 1.1 `vector`\n",
    "\n",
    " * `vector` type in R is a 1D array that holds data that is all the same type.\n",
    " * The `c()` function combines elements to form a vector"
   ]
  },
  {
   "cell_type": "code",
   "execution_count": 1,
   "metadata": {
    "vscode": {
     "languageId": "r"
    }
   },
   "outputs": [
    {
     "data": {
      "text/html": [
       "<style>\n",
       ".list-inline {list-style: none; margin:0; padding: 0}\n",
       ".list-inline>li {display: inline-block}\n",
       ".list-inline>li:not(:last-child)::after {content: \"\\00b7\"; padding: 0 .5ex}\n",
       "</style>\n",
       "<ol class=list-inline><li>42</li><li>137</li><li>34</li></ol>\n"
      ],
      "text/latex": [
       "\\begin{enumerate*}\n",
       "\\item 42\n",
       "\\item 137\n",
       "\\item 34\n",
       "\\end{enumerate*}\n"
      ],
      "text/markdown": [
       "1. 42\n",
       "2. 137\n",
       "3. 34\n",
       "\n",
       "\n"
      ],
      "text/plain": [
       "[1]  42 137  34"
      ]
     },
     "metadata": {},
     "output_type": "display_data"
    }
   ],
   "source": [
    "my_vec <- c(42, 137, 34)\n",
    "my_vec"
   ]
  },
  {
   "cell_type": "markdown",
   "metadata": {},
   "source": [
    "## 1.2 Indexing - accessing elements\n",
    "\n",
    "There are multiple ways to access the elements of a vector (or any other data structure).\n",
    "\n",
    " * The `[]` notation is what is used for access."
   ]
  },
  {
   "cell_type": "code",
   "execution_count": 18,
   "metadata": {
    "vscode": {
     "languageId": "r"
    }
   },
   "outputs": [
    {
     "data": {
      "text/html": [
       "'august'"
      ],
      "text/latex": [
       "'august'"
      ],
      "text/markdown": [
       "'august'"
      ],
      "text/plain": [
       "[1] \"august\""
      ]
     },
     "metadata": {},
     "output_type": "display_data"
    }
   ],
   "source": [
    "people <- c(\"august\", \"ellen\", \"paul\")\n",
    "people[1]"
   ]
  },
  {
   "cell_type": "markdown",
   "metadata": {},
   "source": [
    "### 1.2.1 Range-based indexing\n",
    "\n",
    "Range-based indexing allows you to get multiple elements of a vector, or multiple \"slices\" (i.e. contiguous elements)"
   ]
  },
  {
   "cell_type": "code",
   "execution_count": 19,
   "metadata": {
    "vscode": {
     "languageId": "r"
    }
   },
   "outputs": [
    {
     "data": {
      "text/html": [
       "<style>\n",
       ".list-inline {list-style: none; margin:0; padding: 0}\n",
       ".list-inline>li {display: inline-block}\n",
       ".list-inline>li:not(:last-child)::after {content: \"\\00b7\"; padding: 0 .5ex}\n",
       "</style>\n",
       "<ol class=list-inline><li>'ellen'</li><li>'paul'</li></ol>\n"
      ],
      "text/latex": [
       "\\begin{enumerate*}\n",
       "\\item 'ellen'\n",
       "\\item 'paul'\n",
       "\\end{enumerate*}\n"
      ],
      "text/markdown": [
       "1. 'ellen'\n",
       "2. 'paul'\n",
       "\n",
       "\n"
      ],
      "text/plain": [
       "[1] \"ellen\" \"paul\" "
      ]
     },
     "metadata": {},
     "output_type": "display_data"
    }
   ],
   "source": [
    "people[2:3]"
   ]
  },
  {
   "cell_type": "markdown",
   "metadata": {},
   "source": [
    "### 1.2.2 Vector indexing\n",
    "\n",
    "We can use a vector of integers for indexing when we want multiple elements that are not all one after another"
   ]
  },
  {
   "cell_type": "code",
   "execution_count": 20,
   "metadata": {
    "vscode": {
     "languageId": "r"
    }
   },
   "outputs": [
    {
     "data": {
      "text/html": [
       "<style>\n",
       ".list-inline {list-style: none; margin:0; padding: 0}\n",
       ".list-inline>li {display: inline-block}\n",
       ".list-inline>li:not(:last-child)::after {content: \"\\00b7\"; padding: 0 .5ex}\n",
       "</style>\n",
       "<ol class=list-inline><li>'august'</li><li>'paul'</li></ol>\n"
      ],
      "text/latex": [
       "\\begin{enumerate*}\n",
       "\\item 'august'\n",
       "\\item 'paul'\n",
       "\\end{enumerate*}\n"
      ],
      "text/markdown": [
       "1. 'august'\n",
       "2. 'paul'\n",
       "\n",
       "\n"
      ],
      "text/plain": [
       "[1] \"august\" \"paul\"  "
      ]
     },
     "metadata": {},
     "output_type": "display_data"
    }
   ],
   "source": [
    "people[c(1,3)]"
   ]
  },
  {
   "cell_type": "markdown",
   "metadata": {},
   "source": [
    "### 1.2.3 Logical (boolean) indexing [new]\n",
    "\n",
    "We can use logical (or boolean) values to index as well"
   ]
  },
  {
   "cell_type": "code",
   "execution_count": 21,
   "metadata": {
    "vscode": {
     "languageId": "r"
    }
   },
   "outputs": [
    {
     "data": {
      "text/html": [
       "'august'"
      ],
      "text/latex": [
       "'august'"
      ],
      "text/markdown": [
       "'august'"
      ],
      "text/plain": [
       "[1] \"august\""
      ]
     },
     "metadata": {},
     "output_type": "display_data"
    }
   ],
   "source": [
    "people[c(TRUE,FALSE,FALSE)]"
   ]
  },
  {
   "cell_type": "markdown",
   "metadata": {},
   "source": [
    "### 1.2.4 Modifying elements with indexing [new]\n",
    "\n",
    "We can use indexing to modify a vector's elements."
   ]
  },
  {
   "cell_type": "code",
   "execution_count": 22,
   "metadata": {
    "vscode": {
     "languageId": "r"
    }
   },
   "outputs": [
    {
     "data": {
      "text/html": [
       "<style>\n",
       ".list-inline {list-style: none; margin:0; padding: 0}\n",
       ".list-inline>li {display: inline-block}\n",
       ".list-inline>li:not(:last-child)::after {content: \"\\00b7\"; padding: 0 .5ex}\n",
       "</style>\n",
       "<ol class=list-inline><li>'august'</li><li>'ellen'</li><li>'not paul'</li></ol>\n"
      ],
      "text/latex": [
       "\\begin{enumerate*}\n",
       "\\item 'august'\n",
       "\\item 'ellen'\n",
       "\\item 'not paul'\n",
       "\\end{enumerate*}\n"
      ],
      "text/markdown": [
       "1. 'august'\n",
       "2. 'ellen'\n",
       "3. 'not paul'\n",
       "\n",
       "\n"
      ],
      "text/plain": [
       "[1] \"august\"   \"ellen\"    \"not paul\""
      ]
     },
     "metadata": {},
     "output_type": "display_data"
    }
   ],
   "source": [
    "people[3] <- \"not paul\"\n",
    "people"
   ]
  },
  {
   "cell_type": "markdown",
   "metadata": {},
   "source": [
    "You can replace multiple elements all at once:"
   ]
  },
  {
   "cell_type": "code",
   "execution_count": 32,
   "metadata": {
    "vscode": {
     "languageId": "r"
    }
   },
   "outputs": [
    {
     "data": {
      "text/html": [
       "<style>\n",
       ".list-inline {list-style: none; margin:0; padding: 0}\n",
       ".list-inline>li {display: inline-block}\n",
       ".list-inline>li:not(:last-child)::after {content: \"\\00b7\"; padding: 0 .5ex}\n",
       "</style>\n",
       "<ol class=list-inline><li>'august'</li><li>'no one'</li><li>'no one'</li><li>NA</li><li>NA</li><li>'paul h'</li></ol>\n"
      ],
      "text/latex": [
       "\\begin{enumerate*}\n",
       "\\item 'august'\n",
       "\\item 'no one'\n",
       "\\item 'no one'\n",
       "\\item NA\n",
       "\\item NA\n",
       "\\item 'paul h'\n",
       "\\end{enumerate*}\n"
      ],
      "text/markdown": [
       "1. 'august'\n",
       "2. 'no one'\n",
       "3. 'no one'\n",
       "4. NA\n",
       "5. NA\n",
       "6. 'paul h'\n",
       "\n",
       "\n"
      ],
      "text/plain": [
       "[1] \"august\" \"no one\" \"no one\" NA       NA       \"paul h\""
      ]
     },
     "metadata": {},
     "output_type": "display_data"
    }
   ],
   "source": [
    "people[2:3] <- \"no one\"\n",
    "people"
   ]
  },
  {
   "cell_type": "code",
   "execution_count": 33,
   "metadata": {
    "vscode": {
     "languageId": "r"
    }
   },
   "outputs": [
    {
     "data": {
      "text/html": [
       "<style>\n",
       ".list-inline {list-style: none; margin:0; padding: 0}\n",
       ".list-inline>li {display: inline-block}\n",
       ".list-inline>li:not(:last-child)::after {content: \"\\00b7\"; padding: 0 .5ex}\n",
       "</style>\n",
       "<ol class=list-inline><li>'august'</li><li>'ellen d'</li><li>'perhaps paul'</li><li>NA</li><li>NA</li><li>'paul h'</li></ol>\n"
      ],
      "text/latex": [
       "\\begin{enumerate*}\n",
       "\\item 'august'\n",
       "\\item 'ellen d'\n",
       "\\item 'perhaps paul'\n",
       "\\item NA\n",
       "\\item NA\n",
       "\\item 'paul h'\n",
       "\\end{enumerate*}\n"
      ],
      "text/markdown": [
       "1. 'august'\n",
       "2. 'ellen d'\n",
       "3. 'perhaps paul'\n",
       "4. NA\n",
       "5. NA\n",
       "6. 'paul h'\n",
       "\n",
       "\n"
      ],
      "text/plain": [
       "[1] \"august\"       \"ellen d\"      \"perhaps paul\" NA             NA            \n",
       "[6] \"paul h\"      "
      ]
     },
     "metadata": {},
     "output_type": "display_data"
    }
   ],
   "source": [
    "people[2:3] <- c(\"ellen d\", \"perhaps paul\")\n",
    "people"
   ]
  },
  {
   "cell_type": "markdown",
   "metadata": {},
   "source": [
    "### 1.2.5 Adding elements or concatenating vectors\n",
    "\n",
    "You can add elements to a vector by specifying the index you want the element to be added at. R will autofill any indices without a present element at them as `NA`, or missing.\n",
    "\n",
    "You can also concatenate vectors with the `c()` function."
   ]
  },
  {
   "cell_type": "code",
   "execution_count": 23,
   "metadata": {
    "vscode": {
     "languageId": "r"
    }
   },
   "outputs": [
    {
     "data": {
      "text/html": [
       "<style>\n",
       ".list-inline {list-style: none; margin:0; padding: 0}\n",
       ".list-inline>li {display: inline-block}\n",
       ".list-inline>li:not(:last-child)::after {content: \"\\00b7\"; padding: 0 .5ex}\n",
       "</style>\n",
       "<ol class=list-inline><li>'august'</li><li>'ellen'</li><li>'not paul'</li><li>NA</li><li>NA</li><li>'paul h'</li></ol>\n"
      ],
      "text/latex": [
       "\\begin{enumerate*}\n",
       "\\item 'august'\n",
       "\\item 'ellen'\n",
       "\\item 'not paul'\n",
       "\\item NA\n",
       "\\item NA\n",
       "\\item 'paul h'\n",
       "\\end{enumerate*}\n"
      ],
      "text/markdown": [
       "1. 'august'\n",
       "2. 'ellen'\n",
       "3. 'not paul'\n",
       "4. NA\n",
       "5. NA\n",
       "6. 'paul h'\n",
       "\n",
       "\n"
      ],
      "text/plain": [
       "[1] \"august\"   \"ellen\"    \"not paul\" NA         NA         \"paul h\"  "
      ]
     },
     "metadata": {},
     "output_type": "display_data"
    }
   ],
   "source": [
    "people[6] <- \"paul h\"\n",
    "people"
   ]
  },
  {
   "cell_type": "code",
   "execution_count": 25,
   "metadata": {
    "vscode": {
     "languageId": "r"
    }
   },
   "outputs": [
    {
     "data": {
      "text/html": [
       "<style>\n",
       ".list-inline {list-style: none; margin:0; padding: 0}\n",
       ".list-inline>li {display: inline-block}\n",
       ".list-inline>li:not(:last-child)::after {content: \"\\00b7\"; padding: 0 .5ex}\n",
       "</style>\n",
       "<ol class=list-inline><li>'august'</li><li>'ellen'</li><li>'not paul'</li><li>NA</li><li>NA</li><li>'paul h'</li><li>'paul c'</li><li>'paul s'</li><li>'paul x'</li></ol>\n"
      ],
      "text/latex": [
       "\\begin{enumerate*}\n",
       "\\item 'august'\n",
       "\\item 'ellen'\n",
       "\\item 'not paul'\n",
       "\\item NA\n",
       "\\item NA\n",
       "\\item 'paul h'\n",
       "\\item 'paul c'\n",
       "\\item 'paul s'\n",
       "\\item 'paul x'\n",
       "\\end{enumerate*}\n"
      ],
      "text/markdown": [
       "1. 'august'\n",
       "2. 'ellen'\n",
       "3. 'not paul'\n",
       "4. NA\n",
       "5. NA\n",
       "6. 'paul h'\n",
       "7. 'paul c'\n",
       "8. 'paul s'\n",
       "9. 'paul x'\n",
       "\n",
       "\n"
      ],
      "text/plain": [
       "[1] \"august\"   \"ellen\"    \"not paul\" NA         NA         \"paul h\"   \"paul c\"  \n",
       "[8] \"paul s\"   \"paul x\"  "
      ]
     },
     "metadata": {},
     "output_type": "display_data"
    }
   ],
   "source": [
    "people2 <- c(people, c(\"paul c\", \"paul s\", \"paul x\"))\n",
    "people2"
   ]
  },
  {
   "cell_type": "markdown",
   "metadata": {},
   "source": [
    "## 1.3 `matrix`\n",
    "\n",
    "* 2-dimensional array\n",
    "* Has to store data of all the same types\n",
    "* First argument is vector of data to be arranged as a matrix.\n",
    "* Additional arguments:\n",
    "    * You use `nrow` to specify the number of rows, and `ncol` to specify the number of columns. These are required arguments, but only 1 is needed.\n",
    "    * The `byrow` argument will determine whether the values are arranged by row or by column. The default is by column."
   ]
  },
  {
   "cell_type": "code",
   "execution_count": 10,
   "metadata": {
    "vscode": {
     "languageId": "r"
    }
   },
   "outputs": [
    {
     "data": {
      "text/html": [
       "<table class=\"dataframe\">\n",
       "<caption>A matrix: 3 × 4 of type int</caption>\n",
       "<tbody>\n",
       "\t<tr><td>1</td><td>4</td><td>7</td><td>10</td></tr>\n",
       "\t<tr><td>2</td><td>5</td><td>8</td><td>11</td></tr>\n",
       "\t<tr><td>3</td><td>6</td><td>9</td><td>12</td></tr>\n",
       "</tbody>\n",
       "</table>\n"
      ],
      "text/latex": [
       "A matrix: 3 × 4 of type int\n",
       "\\begin{tabular}{llll}\n",
       "\t 1 & 4 & 7 & 10\\\\\n",
       "\t 2 & 5 & 8 & 11\\\\\n",
       "\t 3 & 6 & 9 & 12\\\\\n",
       "\\end{tabular}\n"
      ],
      "text/markdown": [
       "\n",
       "A matrix: 3 × 4 of type int\n",
       "\n",
       "| 1 | 4 | 7 | 10 |\n",
       "| 2 | 5 | 8 | 11 |\n",
       "| 3 | 6 | 9 | 12 |\n",
       "\n"
      ],
      "text/plain": [
       "     [,1] [,2] [,3] [,4]\n",
       "[1,] 1    4    7    10  \n",
       "[2,] 2    5    8    11  \n",
       "[3,] 3    6    9    12  "
      ]
     },
     "metadata": {},
     "output_type": "display_data"
    }
   ],
   "source": [
    "m <- matrix(1:12, nrow=3) # specifying nrow as 3\n",
    "m"
   ]
  },
  {
   "cell_type": "code",
   "execution_count": 37,
   "metadata": {
    "vscode": {
     "languageId": "r"
    }
   },
   "outputs": [
    {
     "data": {
      "text/html": [
       "<table class=\"dataframe\">\n",
       "<caption>A matrix: 4 × 3 of type int</caption>\n",
       "<tbody>\n",
       "\t<tr><td>1</td><td>5</td><td> 9</td></tr>\n",
       "\t<tr><td>2</td><td>6</td><td>10</td></tr>\n",
       "\t<tr><td>3</td><td>7</td><td>11</td></tr>\n",
       "\t<tr><td>4</td><td>8</td><td>12</td></tr>\n",
       "</tbody>\n",
       "</table>\n"
      ],
      "text/latex": [
       "A matrix: 4 × 3 of type int\n",
       "\\begin{tabular}{lll}\n",
       "\t 1 & 5 &  9\\\\\n",
       "\t 2 & 6 & 10\\\\\n",
       "\t 3 & 7 & 11\\\\\n",
       "\t 4 & 8 & 12\\\\\n",
       "\\end{tabular}\n"
      ],
      "text/markdown": [
       "\n",
       "A matrix: 4 × 3 of type int\n",
       "\n",
       "| 1 | 5 |  9 |\n",
       "| 2 | 6 | 10 |\n",
       "| 3 | 7 | 11 |\n",
       "| 4 | 8 | 12 |\n",
       "\n"
      ],
      "text/plain": [
       "     [,1] [,2] [,3]\n",
       "[1,] 1    5     9  \n",
       "[2,] 2    6    10  \n",
       "[3,] 3    7    11  \n",
       "[4,] 4    8    12  "
      ]
     },
     "metadata": {},
     "output_type": "display_data"
    }
   ],
   "source": [
    "m <- matrix(1:12, ncol=3) # can also have 3 columns instead\n",
    "m"
   ]
  },
  {
   "cell_type": "code",
   "execution_count": 38,
   "metadata": {
    "vscode": {
     "languageId": "r"
    }
   },
   "outputs": [
    {
     "data": {
      "text/html": [
       "<table class=\"dataframe\">\n",
       "<caption>A matrix: 4 × 3 of type int</caption>\n",
       "<tbody>\n",
       "\t<tr><td> 1</td><td> 2</td><td> 3</td></tr>\n",
       "\t<tr><td> 4</td><td> 5</td><td> 6</td></tr>\n",
       "\t<tr><td> 7</td><td> 8</td><td> 9</td></tr>\n",
       "\t<tr><td>10</td><td>11</td><td>12</td></tr>\n",
       "</tbody>\n",
       "</table>\n"
      ],
      "text/latex": [
       "A matrix: 4 × 3 of type int\n",
       "\\begin{tabular}{lll}\n",
       "\t  1 &  2 &  3\\\\\n",
       "\t  4 &  5 &  6\\\\\n",
       "\t  7 &  8 &  9\\\\\n",
       "\t 10 & 11 & 12\\\\\n",
       "\\end{tabular}\n"
      ],
      "text/markdown": [
       "\n",
       "A matrix: 4 × 3 of type int\n",
       "\n",
       "|  1 |  2 |  3 |\n",
       "|  4 |  5 |  6 |\n",
       "|  7 |  8 |  9 |\n",
       "| 10 | 11 | 12 |\n",
       "\n"
      ],
      "text/plain": [
       "     [,1] [,2] [,3]\n",
       "[1,]  1    2    3  \n",
       "[2,]  4    5    6  \n",
       "[3,]  7    8    9  \n",
       "[4,] 10   11   12  "
      ]
     },
     "metadata": {},
     "output_type": "display_data"
    }
   ],
   "source": [
    "matrix(1:12, ncol=3, byrow=TRUE) # will set it so that it goes by row instead"
   ]
  },
  {
   "cell_type": "markdown",
   "metadata": {},
   "source": [
    "### 1.3.1 Non-numeric data (new)\n",
    "\n",
    "We didn't go over this last class, but matrices can store non-numeric data as well, they just all have to be the same type."
   ]
  },
  {
   "cell_type": "code",
   "execution_count": 27,
   "metadata": {
    "vscode": {
     "languageId": "r"
    }
   },
   "outputs": [
    {
     "data": {
      "text/html": [
       "<table class=\"dataframe\">\n",
       "<caption>A matrix: 3 × 3 of type chr</caption>\n",
       "<tbody>\n",
       "\t<tr><td>august  </td><td>NA    </td><td>paul c</td></tr>\n",
       "\t<tr><td>ellen   </td><td>NA    </td><td>paul s</td></tr>\n",
       "\t<tr><td>not paul</td><td>paul h</td><td>paul x</td></tr>\n",
       "</tbody>\n",
       "</table>\n"
      ],
      "text/latex": [
       "A matrix: 3 × 3 of type chr\n",
       "\\begin{tabular}{lll}\n",
       "\t august   & NA     & paul c\\\\\n",
       "\t ellen    & NA     & paul s\\\\\n",
       "\t not paul & paul h & paul x\\\\\n",
       "\\end{tabular}\n"
      ],
      "text/markdown": [
       "\n",
       "A matrix: 3 × 3 of type chr\n",
       "\n",
       "| august   | NA     | paul c |\n",
       "| ellen    | NA     | paul s |\n",
       "| not paul | paul h | paul x |\n",
       "\n"
      ],
      "text/plain": [
       "     [,1]     [,2]   [,3]  \n",
       "[1,] august   NA     paul c\n",
       "[2,] ellen    NA     paul s\n",
       "[3,] not paul paul h paul x"
      ]
     },
     "metadata": {},
     "output_type": "display_data"
    }
   ],
   "source": [
    "matrix(people2, nrow=3)"
   ]
  },
  {
   "cell_type": "markdown",
   "metadata": {},
   "source": [
    "### 1.3.2 Matrix indexing\n",
    "\n",
    "Matrix indexing works much like `vector`, except that now you choose the elements in each dimension with `[,]` notation. Additionally, you can specify a whole row or a whole column."
   ]
  },
  {
   "cell_type": "code",
   "execution_count": 28,
   "metadata": {
    "vscode": {
     "languageId": "r"
    }
   },
   "outputs": [
    {
     "data": {
      "text/html": [
       "4"
      ],
      "text/latex": [
       "4"
      ],
      "text/markdown": [
       "4"
      ],
      "text/plain": [
       "[1] 4"
      ]
     },
     "metadata": {},
     "output_type": "display_data"
    }
   ],
   "source": [
    "m[1,2] # first row, second column"
   ]
  },
  {
   "cell_type": "code",
   "execution_count": 29,
   "metadata": {
    "vscode": {
     "languageId": "r"
    }
   },
   "outputs": [
    {
     "data": {
      "text/html": [
       "<style>\n",
       ".list-inline {list-style: none; margin:0; padding: 0}\n",
       ".list-inline>li {display: inline-block}\n",
       ".list-inline>li:not(:last-child)::after {content: \"\\00b7\"; padding: 0 .5ex}\n",
       "</style>\n",
       "<ol class=list-inline><li>2</li><li>5</li><li>8</li><li>11</li></ol>\n"
      ],
      "text/latex": [
       "\\begin{enumerate*}\n",
       "\\item 2\n",
       "\\item 5\n",
       "\\item 8\n",
       "\\item 11\n",
       "\\end{enumerate*}\n"
      ],
      "text/markdown": [
       "1. 2\n",
       "2. 5\n",
       "3. 8\n",
       "4. 11\n",
       "\n",
       "\n"
      ],
      "text/plain": [
       "[1]  2  5  8 11"
      ]
     },
     "metadata": {},
     "output_type": "display_data"
    }
   ],
   "source": [
    "m[2,] # just second row"
   ]
  },
  {
   "cell_type": "markdown",
   "metadata": {},
   "source": [
    "## Review Questions\n",
    "\n",
    "### 1. How would we make a vector with the following elements?\n",
    "\n",
    " * `dog`\n",
    " * `cat`\n",
    " * `bird`\n",
    " * `potato`"
   ]
  },
  {
   "cell_type": "code",
   "execution_count": null,
   "metadata": {
    "vscode": {
     "languageId": "r"
    }
   },
   "outputs": [],
   "source": [
    "# code for review q\n",
    "animal_vec <- 0 # replace 0 with what?"
   ]
  },
  {
   "cell_type": "markdown",
   "metadata": {},
   "source": [
    "### 2. Matrix indexing\n",
    "\n",
    "Suppose we have the matrix `m` below. How do we get the 2nd and 4th elements from the 3rd column? "
   ]
  },
  {
   "cell_type": "code",
   "execution_count": 39,
   "metadata": {
    "vscode": {
     "languageId": "r"
    }
   },
   "outputs": [
    {
     "data": {
      "text/html": [
       "<table class=\"dataframe\">\n",
       "<caption>A matrix: 4 × 3 of type int</caption>\n",
       "<tbody>\n",
       "\t<tr><td>1</td><td>5</td><td> 9</td></tr>\n",
       "\t<tr><td>2</td><td>6</td><td>10</td></tr>\n",
       "\t<tr><td>3</td><td>7</td><td>11</td></tr>\n",
       "\t<tr><td>4</td><td>8</td><td>12</td></tr>\n",
       "</tbody>\n",
       "</table>\n"
      ],
      "text/latex": [
       "A matrix: 4 × 3 of type int\n",
       "\\begin{tabular}{lll}\n",
       "\t 1 & 5 &  9\\\\\n",
       "\t 2 & 6 & 10\\\\\n",
       "\t 3 & 7 & 11\\\\\n",
       "\t 4 & 8 & 12\\\\\n",
       "\\end{tabular}\n"
      ],
      "text/markdown": [
       "\n",
       "A matrix: 4 × 3 of type int\n",
       "\n",
       "| 1 | 5 |  9 |\n",
       "| 2 | 6 | 10 |\n",
       "| 3 | 7 | 11 |\n",
       "| 4 | 8 | 12 |\n",
       "\n"
      ],
      "text/plain": [
       "     [,1] [,2] [,3]\n",
       "[1,] 1    5     9  \n",
       "[2,] 2    6    10  \n",
       "[3,] 3    7    11  \n",
       "[4,] 4    8    12  "
      ]
     },
     "metadata": {},
     "output_type": "display_data"
    }
   ],
   "source": [
    "m <- matrix(1:12, ncol=3)\n",
    "m"
   ]
  },
  {
   "cell_type": "code",
   "execution_count": null,
   "metadata": {
    "vscode": {
     "languageId": "r"
    }
   },
   "outputs": [],
   "source": [
    "# your code here"
   ]
  },
  {
   "cell_type": "markdown",
   "metadata": {},
   "source": [
    "Let's say we want to replace these 2 elements with 100 and 100, respectively. How would we do that?"
   ]
  },
  {
   "cell_type": "code",
   "execution_count": 40,
   "metadata": {
    "vscode": {
     "languageId": "r"
    }
   },
   "outputs": [],
   "source": [
    "# your code here"
   ]
  },
  {
   "cell_type": "markdown",
   "metadata": {},
   "source": [
    "### 3. Lists and Dataframes\n",
    "\n",
    "Last class we also went over `list` and `dataframe` as data structures.\n",
    "\n",
    " * How would we make a list with `dog`, `cat`, `bird`, `potato` instead of a vector?\n",
    " * How about a list with `dog`, `cat`, `bird`, `potato`, 1, 2, 3?\n",
    " * How would we make a dataframe with the same number of columns as `m` above?"
   ]
  },
  {
   "cell_type": "code",
   "execution_count": null,
   "metadata": {
    "vscode": {
     "languageId": "r"
    }
   },
   "outputs": [],
   "source": []
  }
 ],
 "metadata": {
  "kernelspec": {
   "display_name": "R",
   "language": "R",
   "name": "ir"
  },
  "language_info": {
   "codemirror_mode": "r",
   "file_extension": ".r",
   "mimetype": "text/x-r-source",
   "name": "R",
   "pygments_lexer": "r",
   "version": "4.3.1"
  }
 },
 "nbformat": 4,
 "nbformat_minor": 2
}
