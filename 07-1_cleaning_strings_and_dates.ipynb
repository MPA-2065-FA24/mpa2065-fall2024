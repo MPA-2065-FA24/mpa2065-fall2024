{
 "cells": [
  {
   "cell_type": "markdown",
   "metadata": {
    "slideshow": {
     "slide_type": "slide"
    }
   },
   "source": [
    "<center><h1>Cleaning Strings and Dates in R</h1></center>\n",
    "<center><h3>Ellen Duong</h3></center>\n",
    "<center><h3>Paul Stey</h3></center>\n",
    "<center><h3>2023-10-19</h3></center>"
   ]
  },
  {
   "cell_type": "markdown",
   "metadata": {
    "slideshow": {
     "slide_type": "slide"
    }
   },
   "source": [
    "# 1. What is Data Cleaning?\n",
    "  - No uniform definition \"data cleaning\"\n",
    "  - Roughly speaking, refers to exploring the idiosyncrasies of a data set, and then addressing them in a principled manner so as to allow for data analysis"
   ]
  },
  {
   "cell_type": "markdown",
   "metadata": {
    "slideshow": {
     "slide_type": "subslide"
    }
   },
   "source": [
    "## 1.1 Examples of Data Cleaning\n",
    "\n",
    "  - Recoding `\"NULL\"`, `\" \"`, `\"\"`, to be `NA`\n",
    "  - Eliminating duplicate entries\n",
    "  - Ensure numeric data is being treated as numerics (e.g., `\"2\" + 2 != 4`)\n",
    "  - Treating dates or timestamps as `Date` or `POSIXct` data type "
   ]
  },
  {
   "cell_type": "markdown",
   "metadata": {
    "slideshow": {
     "slide_type": "slide"
    }
   },
   "source": [
    "# 2. Cleaning Strings\n",
    "\n",
    "  - Parsing/cleaning/extracting info from strings is extremely common\n",
    "  - Parsing timestamp strings is a great example"
   ]
  },
  {
   "cell_type": "markdown",
   "metadata": {
    "tags": []
   },
   "source": [
    "## `stringr` package\n"
   ]
  },
  {
   "cell_type": "code",
   "execution_count": 2,
   "metadata": {
    "tags": []
   },
   "outputs": [],
   "source": [
    "# Load stringr package\n",
    "library(stringr)"
   ]
  },
  {
   "cell_type": "markdown",
   "metadata": {},
   "source": [
    "Common `stringr` functions\n",
    "\n",
    "[Source with examples](https://appsilon.com/stringr-examples/)\n",
    "\n",
    "| Function | Description | Format |\n",
    "| --- | --- | --- |\n",
    "| `str_length` | Returns the number of characters in a given string | `str_length(x)`\n",
    "| `str_sub` | Returns a substring of a given string | `str_sub(x, start = <int: starting index>, end = <int: ending index>)` |\n",
    "| `str_detect` | Returns a boolean or a vector of booleans that determin if the pattern exists in the given string. | `str_detect(x, <str: pattern>)` |\n",
    "| `str_replace` | Replaces the first occurance of the pattern with the replacement string | `str_replace(x, <str: pattern>, <str: replacement string>)` |\n",
    "| `str_replace_all` | Replaces all occurances of the pattern with the replacement string | `str_replace_all(x, <str: pattern>, <str: replacement string>)` |"
   ]
  },
  {
   "cell_type": "markdown",
   "metadata": {
    "tags": []
   },
   "source": [
    "| Function | Description | Format |\n",
    "| --- | --- | --- |\n",
    "| `str_count` | Counts the number of times a patter appears in a string | `str_count(x, <str: pattern>)` |\n",
    "| `str_subset` | Returns a subset of vectors of strings that match a pattern | `str_subset(x, <str: pattern>)` |\n",
    "| `str_trim` | Removes leading and trailing whitespaces | `str_trim(x)` |\n",
    "| `str_split` | Splits a string or a vector of strings into a vector of substrings or a list of vectors of substrings, depending on the format of data passed in. | `str_split(x, <str: delimiter>)`"
   ]
  },
  {
   "cell_type": "markdown",
   "metadata": {},
   "source": [
    "More common `stringr` functions\n",
    "\n",
    "| Function | Description | Format |\n",
    "| --- | --- | --- |\n",
    "| `str_to_title` | Capitalizes the first letter of each word in a string | `str_to_title(x)` |\n",
    "| `str_to_sentence` | Capitalizes the first letter of a string | `str_to_sentence(x)` |\n",
    "| `str_to_upper` | Uppercase the entire string | `str_to_upper(x)` |\n",
    "| `str_to_lower` | Lowercase the entire string | `str_to_lower(x)` |"
   ]
  },
  {
   "cell_type": "markdown",
   "metadata": {
    "slideshow": {
     "slide_type": "subslide"
    }
   },
   "source": [
    "## 2.1 Errors in our `officer_cnt`"
   ]
  },
  {
   "cell_type": "code",
   "execution_count": 1,
   "metadata": {
    "slideshow": {
     "slide_type": "fragment"
    },
    "tags": []
   },
   "outputs": [
    {
     "name": "stderr",
     "output_type": "stream",
     "text": [
      "\n",
      "Attaching package: ‘dplyr’\n",
      "\n",
      "\n",
      "The following objects are masked from ‘package:stats’:\n",
      "\n",
      "    filter, lag\n",
      "\n",
      "\n",
      "The following objects are masked from ‘package:base’:\n",
      "\n",
      "    intersect, setdiff, setequal, union\n",
      "\n",
      "\n"
     ]
    }
   ],
   "source": [
    "# Load necessary packages and arrests data\n",
    "library(stringr)\n",
    "library(dplyr)\n",
    "\n",
    "arrests_df <- read.csv(\"data/pvd_arrests_2021-10-03.csv\")"
   ]
  },
  {
   "cell_type": "code",
   "execution_count": 2,
   "metadata": {
    "slideshow": {
     "slide_type": "fragment"
    },
    "tags": []
   },
   "outputs": [],
   "source": [
    "count_names <- function(names_str) {\n",
    "    # This function should return the number of names in \n",
    "    # the string `names_str` that we pass to the function. \n",
    "    \n",
    "    name_list <- str_split(names_str, \", \")\n",
    "    name_vec <- unlist(name_list)\n",
    "    k <- length(name_vec)\n",
    "    \n",
    "    return(k)\n",
    "}"
   ]
  },
  {
   "cell_type": "markdown",
   "metadata": {
    "slideshow": {
     "slide_type": "subslide"
    }
   },
   "source": [
    "### 2.1.1 Inconsistencies in `arresting_officers` Column"
   ]
  },
  {
   "cell_type": "code",
   "execution_count": 3,
   "metadata": {
    "slideshow": {
     "slide_type": "fragment"
    },
    "tags": []
   },
   "outputs": [
    {
     "data": {
      "text/html": [
       "<style>\n",
       ".list-inline {list-style: none; margin:0; padding: 0}\n",
       ".list-inline>li {display: inline-block}\n",
       ".list-inline>li:not(:last-child)::after {content: \"\\00b7\"; padding: 0 .5ex}\n",
       "</style>\n",
       "<ol class=list-inline><li>' YGonzalez, LTaveras'</li><li>' NManfredi'</li><li>' MPlace, JPerez, ASantos'</li><li>' MPlace, JPerez, ASantos'</li><li>' MPlace, JPerez, ASantos'</li><li>' MPlace, JPerez, ASantos'</li><li>' MPlace, JPerez, ASantos'</li><li>' CVingi, SCooney'</li><li>' CVingi, SCooney'</li><li>' CVingi, SCooney'</li></ol>\n"
      ],
      "text/latex": [
       "\\begin{enumerate*}\n",
       "\\item ' YGonzalez, LTaveras'\n",
       "\\item ' NManfredi'\n",
       "\\item ' MPlace, JPerez, ASantos'\n",
       "\\item ' MPlace, JPerez, ASantos'\n",
       "\\item ' MPlace, JPerez, ASantos'\n",
       "\\item ' MPlace, JPerez, ASantos'\n",
       "\\item ' MPlace, JPerez, ASantos'\n",
       "\\item ' CVingi, SCooney'\n",
       "\\item ' CVingi, SCooney'\n",
       "\\item ' CVingi, SCooney'\n",
       "\\end{enumerate*}\n"
      ],
      "text/markdown": [
       "1. ' YGonzalez, LTaveras'\n",
       "2. ' NManfredi'\n",
       "3. ' MPlace, JPerez, ASantos'\n",
       "4. ' MPlace, JPerez, ASantos'\n",
       "5. ' MPlace, JPerez, ASantos'\n",
       "6. ' MPlace, JPerez, ASantos'\n",
       "7. ' MPlace, JPerez, ASantos'\n",
       "8. ' CVingi, SCooney'\n",
       "9. ' CVingi, SCooney'\n",
       "10. ' CVingi, SCooney'\n",
       "\n",
       "\n"
      ],
      "text/plain": [
       " [1] \" YGonzalez, LTaveras\"     \" NManfredi\"              \n",
       " [3] \" MPlace, JPerez, ASantos\" \" MPlace, JPerez, ASantos\"\n",
       " [5] \" MPlace, JPerez, ASantos\" \" MPlace, JPerez, ASantos\"\n",
       " [7] \" MPlace, JPerez, ASantos\" \" CVingi, SCooney\"        \n",
       " [9] \" CVingi, SCooney\"         \" CVingi, SCooney\"        "
      ]
     },
     "metadata": {},
     "output_type": "display_data"
    }
   ],
   "source": [
    "head(arrests_df$arresting_officers, 10)"
   ]
  },
  {
   "cell_type": "code",
   "execution_count": 4,
   "metadata": {
    "slideshow": {
     "slide_type": "fragment"
    },
    "tags": []
   },
   "outputs": [
    {
     "data": {
      "text/html": [
       "<style>\n",
       ".list-inline {list-style: none; margin:0; padding: 0}\n",
       ".list-inline>li {display: inline-block}\n",
       ".list-inline>li:not(:last-child)::after {content: \"\\00b7\"; padding: 0 .5ex}\n",
       "</style>\n",
       "<ol class=list-inline><li>'Dyer, Brian/ Georges, Wilkens'</li><li>'Morgan, Glen/ Bass, Khari'</li><li>'Levesque, Alexa/ Georges, Wilkens'</li><li>'Bustamante, Genifer'</li><li>'Colicci, Nathaniel/ Heeder, Jenna/ Prete, Louis/ Wagoner, Alexander'</li><li>'Colicci, Nathaniel/ Heeder, Jenna/ Prete, Louis/ Wagoner, Alexander'</li><li>'Colicci, Nathaniel/ Heeder, Jenna/ Prete, Louis/ Wagoner, Alexander'</li><li>'Colicci, Nathaniel/ Heeder, Jenna/ Prete, Louis/ Wagoner, Alexander'</li><li>'Silva, Eric'</li><li>'Cooney, Sean'</li></ol>\n"
      ],
      "text/latex": [
       "\\begin{enumerate*}\n",
       "\\item 'Dyer, Brian/ Georges, Wilkens'\n",
       "\\item 'Morgan, Glen/ Bass, Khari'\n",
       "\\item 'Levesque, Alexa/ Georges, Wilkens'\n",
       "\\item 'Bustamante, Genifer'\n",
       "\\item 'Colicci, Nathaniel/ Heeder, Jenna/ Prete, Louis/ Wagoner, Alexander'\n",
       "\\item 'Colicci, Nathaniel/ Heeder, Jenna/ Prete, Louis/ Wagoner, Alexander'\n",
       "\\item 'Colicci, Nathaniel/ Heeder, Jenna/ Prete, Louis/ Wagoner, Alexander'\n",
       "\\item 'Colicci, Nathaniel/ Heeder, Jenna/ Prete, Louis/ Wagoner, Alexander'\n",
       "\\item 'Silva, Eric'\n",
       "\\item 'Cooney, Sean'\n",
       "\\end{enumerate*}\n"
      ],
      "text/markdown": [
       "1. 'Dyer, Brian/ Georges, Wilkens'\n",
       "2. 'Morgan, Glen/ Bass, Khari'\n",
       "3. 'Levesque, Alexa/ Georges, Wilkens'\n",
       "4. 'Bustamante, Genifer'\n",
       "5. 'Colicci, Nathaniel/ Heeder, Jenna/ Prete, Louis/ Wagoner, Alexander'\n",
       "6. 'Colicci, Nathaniel/ Heeder, Jenna/ Prete, Louis/ Wagoner, Alexander'\n",
       "7. 'Colicci, Nathaniel/ Heeder, Jenna/ Prete, Louis/ Wagoner, Alexander'\n",
       "8. 'Colicci, Nathaniel/ Heeder, Jenna/ Prete, Louis/ Wagoner, Alexander'\n",
       "9. 'Silva, Eric'\n",
       "10. 'Cooney, Sean'\n",
       "\n",
       "\n"
      ],
      "text/plain": [
       " [1] \"Dyer, Brian/ Georges, Wilkens\"                                      \n",
       " [2] \"Morgan, Glen/ Bass, Khari\"                                          \n",
       " [3] \"Levesque, Alexa/ Georges, Wilkens\"                                  \n",
       " [4] \"Bustamante, Genifer\"                                                \n",
       " [5] \"Colicci, Nathaniel/ Heeder, Jenna/ Prete, Louis/ Wagoner, Alexander\"\n",
       " [6] \"Colicci, Nathaniel/ Heeder, Jenna/ Prete, Louis/ Wagoner, Alexander\"\n",
       " [7] \"Colicci, Nathaniel/ Heeder, Jenna/ Prete, Louis/ Wagoner, Alexander\"\n",
       " [8] \"Colicci, Nathaniel/ Heeder, Jenna/ Prete, Louis/ Wagoner, Alexander\"\n",
       " [9] \"Silva, Eric\"                                                        \n",
       "[10] \"Cooney, Sean\"                                                       "
      ]
     },
     "metadata": {},
     "output_type": "display_data"
    }
   ],
   "source": [
    "tail(arrests_df$arresting_officers, 10)"
   ]
  },
  {
   "cell_type": "markdown",
   "metadata": {
    "slideshow": {
     "slide_type": "subslide"
    }
   },
   "source": [
    "## 2.2 Addressing the Inconsistency\n",
    "  - Use different criteria for counting names with full-name format\n",
    "    + Define function to identify full-name vs. first-initial format\n",
    "    + Note: first-inital format always starts with two capital letters"
   ]
  },
  {
   "cell_type": "code",
   "execution_count": 5,
   "metadata": {
    "slideshow": {
     "slide_type": "fragment"
    },
    "tags": []
   },
   "outputs": [
    {
     "data": {
      "text/html": [
       "<style>\n",
       ".list-inline {list-style: none; margin:0; padding: 0}\n",
       ".list-inline>li {display: inline-block}\n",
       ".list-inline>li:not(:last-child)::after {content: \"\\00b7\"; padding: 0 .5ex}\n",
       "</style>\n",
       "<ol class=list-inline><li>'A'</li><li>'B'</li><li>'C'</li><li>'D'</li><li>'E'</li><li>'F'</li><li>'G'</li><li>'H'</li><li>'I'</li><li>'J'</li><li>'K'</li><li>'L'</li><li>'M'</li><li>'N'</li><li>'O'</li><li>'P'</li><li>'Q'</li><li>'R'</li><li>'S'</li><li>'T'</li><li>'U'</li><li>'V'</li><li>'W'</li><li>'X'</li><li>'Y'</li><li>'Z'</li></ol>\n"
      ],
      "text/latex": [
       "\\begin{enumerate*}\n",
       "\\item 'A'\n",
       "\\item 'B'\n",
       "\\item 'C'\n",
       "\\item 'D'\n",
       "\\item 'E'\n",
       "\\item 'F'\n",
       "\\item 'G'\n",
       "\\item 'H'\n",
       "\\item 'I'\n",
       "\\item 'J'\n",
       "\\item 'K'\n",
       "\\item 'L'\n",
       "\\item 'M'\n",
       "\\item 'N'\n",
       "\\item 'O'\n",
       "\\item 'P'\n",
       "\\item 'Q'\n",
       "\\item 'R'\n",
       "\\item 'S'\n",
       "\\item 'T'\n",
       "\\item 'U'\n",
       "\\item 'V'\n",
       "\\item 'W'\n",
       "\\item 'X'\n",
       "\\item 'Y'\n",
       "\\item 'Z'\n",
       "\\end{enumerate*}\n"
      ],
      "text/markdown": [
       "1. 'A'\n",
       "2. 'B'\n",
       "3. 'C'\n",
       "4. 'D'\n",
       "5. 'E'\n",
       "6. 'F'\n",
       "7. 'G'\n",
       "8. 'H'\n",
       "9. 'I'\n",
       "10. 'J'\n",
       "11. 'K'\n",
       "12. 'L'\n",
       "13. 'M'\n",
       "14. 'N'\n",
       "15. 'O'\n",
       "16. 'P'\n",
       "17. 'Q'\n",
       "18. 'R'\n",
       "19. 'S'\n",
       "20. 'T'\n",
       "21. 'U'\n",
       "22. 'V'\n",
       "23. 'W'\n",
       "24. 'X'\n",
       "25. 'Y'\n",
       "26. 'Z'\n",
       "\n",
       "\n"
      ],
      "text/plain": [
       " [1] \"A\" \"B\" \"C\" \"D\" \"E\" \"F\" \"G\" \"H\" \"I\" \"J\" \"K\" \"L\" \"M\" \"N\" \"O\" \"P\" \"Q\" \"R\" \"S\"\n",
       "[20] \"T\" \"U\" \"V\" \"W\" \"X\" \"Y\" \"Z\""
      ]
     },
     "metadata": {},
     "output_type": "display_data"
    }
   ],
   "source": [
    "LETTERS               # This is a built-in object in R"
   ]
  },
  {
   "cell_type": "code",
   "execution_count": 6,
   "metadata": {
    "slideshow": {
     "slide_type": "fragment"
    },
    "tags": []
   },
   "outputs": [
    {
     "data": {
      "text/html": [
       "TRUE"
      ],
      "text/latex": [
       "TRUE"
      ],
      "text/markdown": [
       "TRUE"
      ],
      "text/plain": [
       "[1] TRUE"
      ]
     },
     "metadata": {},
     "output_type": "display_data"
    }
   ],
   "source": [
    "\"B\" %in% LETTERS"
   ]
  },
  {
   "cell_type": "markdown",
   "metadata": {
    "slideshow": {
     "slide_type": "subslide"
    }
   },
   "source": [
    "## 2.3 Identifying Full-Name Format \n",
    "  - If the first two characters are uppercase, it's full-name format"
   ]
  },
  {
   "cell_type": "code",
   "execution_count": 7,
   "metadata": {
    "slideshow": {
     "slide_type": "fragment"
    },
    "tags": []
   },
   "outputs": [],
   "source": [
    "is_uppercase <- function(chr) {\n",
    "    res <- chr %in% LETTERS\n",
    "    return(res)\n",
    "}\n",
    "\n",
    "has_full_names <- function(names_str) {\n",
    "    char1 <- str_sub(names_str, 1, 1)\n",
    "    char2 <- str_sub(names_str, 2, 2)\n",
    "    \n",
    "    res <- !(is_uppercase(char1) && is_uppercase(char2))\n",
    "    return(res)\n",
    "}"
   ]
  },
  {
   "cell_type": "markdown",
   "metadata": {
    "slideshow": {
     "slide_type": "subslide"
    }
   },
   "source": [
    "### 2.3.1 Testing our Functions"
   ]
  },
  {
   "cell_type": "code",
   "execution_count": 8,
   "metadata": {
    "slideshow": {
     "slide_type": "fragment"
    },
    "tags": []
   },
   "outputs": [
    {
     "data": {
      "text/html": [
       "FALSE"
      ],
      "text/latex": [
       "FALSE"
      ],
      "text/markdown": [
       "FALSE"
      ],
      "text/plain": [
       "[1] FALSE"
      ]
     },
     "metadata": {},
     "output_type": "display_data"
    },
    {
     "data": {
      "text/html": [
       "FALSE"
      ],
      "text/latex": [
       "FALSE"
      ],
      "text/markdown": [
       "FALSE"
      ],
      "text/plain": [
       "[1] FALSE"
      ]
     },
     "metadata": {},
     "output_type": "display_data"
    },
    {
     "data": {
      "text/html": [
       "FALSE"
      ],
      "text/latex": [
       "FALSE"
      ],
      "text/markdown": [
       "FALSE"
      ],
      "text/plain": [
       "[1] FALSE"
      ]
     },
     "metadata": {},
     "output_type": "display_data"
    },
    {
     "data": {
      "text/html": [
       "FALSE"
      ],
      "text/latex": [
       "FALSE"
      ],
      "text/markdown": [
       "FALSE"
      ],
      "text/plain": [
       "[1] FALSE"
      ]
     },
     "metadata": {},
     "output_type": "display_data"
    },
    {
     "data": {
      "text/html": [
       "TRUE"
      ],
      "text/latex": [
       "TRUE"
      ],
      "text/markdown": [
       "TRUE"
      ],
      "text/plain": [
       "[1] TRUE"
      ]
     },
     "metadata": {},
     "output_type": "display_data"
    },
    {
     "data": {
      "text/html": [
       "TRUE"
      ],
      "text/latex": [
       "TRUE"
      ],
      "text/markdown": [
       "TRUE"
      ],
      "text/plain": [
       "[1] TRUE"
      ]
     },
     "metadata": {},
     "output_type": "display_data"
    },
    {
     "data": {
      "text/html": [
       "TRUE"
      ],
      "text/latex": [
       "TRUE"
      ],
      "text/markdown": [
       "TRUE"
      ],
      "text/plain": [
       "[1] TRUE"
      ]
     },
     "metadata": {},
     "output_type": "display_data"
    },
    {
     "data": {
      "text/html": [
       "TRUE"
      ],
      "text/latex": [
       "TRUE"
      ],
      "text/markdown": [
       "TRUE"
      ],
      "text/plain": [
       "[1] TRUE"
      ]
     },
     "metadata": {},
     "output_type": "display_data"
    }
   ],
   "source": [
    "is_uppercase(\"a\")                            # false\n",
    "is_uppercase(\"b\")                            # false\n",
    "has_full_names(\"NManfredi\")                  # Not full name\n",
    "has_full_names(\"MPlace, JPerez, ASantos\")    # Not full name\n",
    "\n",
    "is_uppercase(\"A\")\n",
    "is_uppercase(\"B\")\n",
    "has_full_names(\"Newton, Frank\")\n",
    "has_full_names(\"Newton, Frank/ Chin, Rosemarie\")"
   ]
  },
  {
   "cell_type": "markdown",
   "metadata": {
    "slideshow": {
     "slide_type": "subslide"
    }
   },
   "source": [
    "## 2.4 Fixing our `count_names()` Function"
   ]
  },
  {
   "cell_type": "code",
   "execution_count": null,
   "metadata": {
    "slideshow": {
     "slide_type": "fragment"
    }
   },
   "outputs": [],
   "source": [
    "old_count_names <- function(names_str) {\n",
    "    name_list <- str_split(names_str, \", \")\n",
    "    name_vec <- unlist(name_list)\n",
    "    k <- length(name_vec)\n",
    "    \n",
    "    return(k)\n",
    "}"
   ]
  },
  {
   "cell_type": "code",
   "execution_count": null,
   "metadata": {
    "slideshow": {
     "slide_type": "fragment"
    }
   },
   "outputs": [],
   "source": [
    "count_names <- function(names_str) {\n",
    "    names_str_trm <- str_trim(names_str)     # remove whitespace\n",
    "    \n",
    "    if (has_full_names(names_str_trm)) {\n",
    "        split_char <- \"/ \"\n",
    "    } else {\n",
    "        split_char <- \", \"\n",
    "    }\n",
    "    \n",
    "    name_list <- str_split(names_str_trm, split_char)\n",
    "    name_vec <- unlist(name_list)\n",
    "    k <- length(name_vec)\n",
    "    \n",
    "    return(k)\n",
    "}"
   ]
  },
  {
   "cell_type": "markdown",
   "metadata": {
    "slideshow": {
     "slide_type": "subslide"
    }
   },
   "source": [
    "### 2.4.1 Testing New `count_names()`"
   ]
  },
  {
   "cell_type": "code",
   "execution_count": null,
   "metadata": {
    "slideshow": {
     "slide_type": "fragment"
    }
   },
   "outputs": [],
   "source": [
    "old_count_names(\"YGonzalez, LTaveras\") == 2\n",
    "old_count_names(\"Newton, Frank/ Chin, Rosemarie\") == 2     # function is wrong\n",
    "count_names(\"YGonzalez, LTaveras\") == 2\n",
    "count_names(\"Newton, Frank/ Chin, Rosemarie\") == 2"
   ]
  },
  {
   "cell_type": "markdown",
   "metadata": {
    "slideshow": {
     "slide_type": "subslide"
    }
   },
   "source": [
    "## 2.5 Re-Counting Officers\n",
    "  - Let's compare how the \"old\" (i.e., incorrect) method did relative to our new `count_names()`"
   ]
  },
  {
   "cell_type": "code",
   "execution_count": null,
   "metadata": {
    "slideshow": {
     "slide_type": "fragment"
    }
   },
   "outputs": [],
   "source": [
    "count_all_names <- function(col, old = FALSE) {\n",
    "\n",
    "    n <- length(col)   # get the length of our input column\n",
    "    cnts <- rep(0, n)  # allocate vector of zeros to populate with counts\n",
    "\n",
    "    for (i in 1:n) {\n",
    "        if (old) {\n",
    "            cnts[i] <- old_count_names(col[i])\n",
    "        } else {\n",
    "            cnts[i] <- count_names(col[i])\n",
    "        }\n",
    "    }\n",
    "    return(cnts) \n",
    "}"
   ]
  },
  {
   "cell_type": "code",
   "execution_count": null,
   "metadata": {
    "slideshow": {
     "slide_type": "fragment"
    }
   },
   "outputs": [],
   "source": [
    "arrests_df$old_officer_cnt <- count_all_names(arrests_df$arresting_officers, old = TRUE)\n",
    "\n",
    "arrests_df$officer_cnt <- count_all_names(arrests_df$arresting_officers)"
   ]
  },
  {
   "cell_type": "code",
   "execution_count": null,
   "metadata": {
    "slideshow": {
     "slide_type": "subslide"
    }
   },
   "outputs": [],
   "source": [
    "head(arrests_df)"
   ]
  },
  {
   "cell_type": "code",
   "execution_count": null,
   "metadata": {
    "slideshow": {
     "slide_type": "subslide"
    }
   },
   "outputs": [],
   "source": [
    "tail(arrests_df, 12)"
   ]
  },
  {
   "cell_type": "markdown",
   "metadata": {
    "slideshow": {
     "slide_type": "subslide"
    }
   },
   "source": [
    "## 2.6 How Many Errors?"
   ]
  },
  {
   "cell_type": "code",
   "execution_count": null,
   "metadata": {
    "slideshow": {
     "slide_type": "fragment"
    }
   },
   "outputs": [],
   "source": [
    "\n",
    "sum(arrests_df$old_officer_cnt != arrests_df$officer_cnt)"
   ]
  },
  {
   "cell_type": "code",
   "execution_count": null,
   "metadata": {},
   "outputs": [],
   "source": [
    "nrow(arrests_df)"
   ]
  },
  {
   "cell_type": "markdown",
   "metadata": {
    "slideshow": {
     "slide_type": "slide"
    }
   },
   "source": [
    "<h1><center>Challenge Problem</center></h1>\n",
    "    \n",
    "\n",
    "Suppose that we have addresses in the form of strings such as `\"123 Main St. Providence, RI, 02901\"`. Now suppose that we want to write a function that gets the state abbreviation from that string, and returns that. Let's call our function `get_state_code()`. So, for example, from the string above, we would want our `get_state_code()` function to return `RI`.\n",
    "\n",
    "As a hint, somewhere in our function we will want to use the `str_extract()` function to extract the following pattern `\", ..,\"`. This will match the state abbreviation, to get us started. We will also want to use the `str_sub()` function to extract only the characters that we want (i.e., the 3rd and 4th).\n",
    "\n",
    "When our function is complete, the three tests below should print `TRUE`."
   ]
  },
  {
   "cell_type": "code",
   "execution_count": null,
   "metadata": {
    "slideshow": {
     "slide_type": "-"
    }
   },
   "outputs": [],
   "source": [
    "print(get_state_code(\"123 Main St. Providence, RI, 02901\") == \"RI\")\n",
    "print(get_state_code(\"915 Adams Street South East Hutchinson, MN, 55350\") == \"MN\")\n",
    "print(get_state_code(\"1200 Pennsylvania Avenue NW. Washington, DC, 20004\") == \"DC\")"
   ]
  },
  {
   "cell_type": "markdown",
   "metadata": {
    "slideshow": {
     "slide_type": "slide"
    }
   },
   "source": [
    "<center><h1>Cleaning Dates in R</h1></center>"
   ]
  },
  {
   "cell_type": "markdown",
   "metadata": {
    "slideshow": {
     "slide_type": "slide"
    }
   },
   "source": [
    "# 3. The _lubridate_ Package\n",
    "\n",
    "  - Extremely powerful R package for working with dates and timestamps\n",
    "  - Part of the _tidyverse_ family of packages (e.g., _dplyr_, _ggplot_, _stringr_)"
   ]
  },
  {
   "cell_type": "code",
   "execution_count": null,
   "metadata": {
    "slideshow": {
     "slide_type": "fragment"
    }
   },
   "outputs": [],
   "source": [
    "# load pacakges\n",
    "# read in data\n",
    "\n",
    "library(dplyr)\n",
    "library(lubridate)\n",
    "\n",
    "arrests_df <- read.csv(\"data/pvd_arrests_2021-10-03.csv\")"
   ]
  },
  {
   "cell_type": "markdown",
   "metadata": {
    "slideshow": {
     "slide_type": "subslide"
    }
   },
   "source": [
    "## 3.1 Working with Timestamps\n",
    "  - The _lubridate_ package has many built-in functions for timestamp data\n",
    "  - Also often easily recognizes when a string _is_ a timestamp"
   ]
  },
  {
   "cell_type": "code",
   "execution_count": null,
   "metadata": {
    "slideshow": {
     "slide_type": "fragment"
    }
   },
   "outputs": [],
   "source": [
    "ts <- \"2020-10-11 02:30:59\"     # ISO 8601 format: YYYY-MM-DD HH:MM:SS\n",
    "\n",
    "year(ts)                        "
   ]
  },
  {
   "cell_type": "code",
   "execution_count": null,
   "metadata": {
    "slideshow": {
     "slide_type": "fragment"
    }
   },
   "outputs": [],
   "source": [
    "month(ts)"
   ]
  },
  {
   "cell_type": "code",
   "execution_count": null,
   "metadata": {
    "slideshow": {
     "slide_type": "fragment"
    }
   },
   "outputs": [],
   "source": [
    "day(ts)"
   ]
  },
  {
   "cell_type": "markdown",
   "metadata": {
    "slideshow": {
     "slide_type": "subslide"
    }
   },
   "source": [
    "### 3.1.1 Extracting Time"
   ]
  },
  {
   "cell_type": "code",
   "execution_count": null,
   "metadata": {
    "slideshow": {
     "slide_type": "fragment"
    }
   },
   "outputs": [],
   "source": [
    "ts <- \"2020-10-11 02:30:59\"\n",
    "\n",
    "hour(ts)\n",
    "minute(ts)\n",
    "second(ts)"
   ]
  },
  {
   "cell_type": "code",
   "execution_count": null,
   "metadata": {
    "slideshow": {
     "slide_type": "fragment"
    }
   },
   "outputs": [],
   "source": [
    "am(ts)             # is it AM time (i.e., morning)?\n",
    "\n",
    "dst(ts)"
   ]
  },
  {
   "cell_type": "markdown",
   "metadata": {
    "slideshow": {
     "slide_type": "subslide"
    }
   },
   "source": [
    "### 3.1.2 Extracting Day-of-Week"
   ]
  },
  {
   "cell_type": "code",
   "execution_count": null,
   "metadata": {
    "slideshow": {
     "slide_type": "fragment"
    }
   },
   "outputs": [],
   "source": [
    "ts <- \"2020-10-11 02:30:59\"\n",
    "\n",
    "wday(ts)"
   ]
  },
  {
   "cell_type": "code",
   "execution_count": null,
   "metadata": {
    "slideshow": {
     "slide_type": "fragment"
    }
   },
   "outputs": [],
   "source": [
    "toString(wday(ts, label = TRUE))"
   ]
  },
  {
   "cell_type": "markdown",
   "metadata": {
    "slideshow": {
     "slide_type": "subslide"
    }
   },
   "source": [
    "## 3.2 Other Timestamp Formats"
   ]
  },
  {
   "cell_type": "code",
   "execution_count": null,
   "metadata": {
    "slideshow": {
     "slide_type": "fragment"
    }
   },
   "outputs": [],
   "source": [
    "ts2 <- \"2020-10-11\"\n",
    "\n",
    "toString(wday(ts2, label = TRUE))"
   ]
  },
  {
   "cell_type": "code",
   "execution_count": null,
   "metadata": {
    "slideshow": {
     "slide_type": "fragment"
    }
   },
   "outputs": [],
   "source": [
    "ts3 <- as_datetime(\"20201011\")\n",
    "\n",
    "toString(wday(ts3, label = TRUE))"
   ]
  },
  {
   "cell_type": "markdown",
   "metadata": {
    "slideshow": {
     "slide_type": "subslide"
    }
   },
   "source": [
    "### 3.2.1 Non ISO 8601 Format\n",
    "  - We can also tell _lubridate_ package how to parse non-obvious timestamps"
   ]
  },
  {
   "cell_type": "code",
   "execution_count": null,
   "metadata": {
    "slideshow": {
     "slide_type": "fragment"
    }
   },
   "outputs": [],
   "source": [
    "ts3 <- \"October 11, 2020\"\n",
    "\n",
    "month(ts3)             "
   ]
  },
  {
   "cell_type": "code",
   "execution_count": null,
   "metadata": {
    "slideshow": {
     "slide_type": "fragment"
    }
   },
   "outputs": [],
   "source": [
    "mdy(ts3)             # Month-day-year format (also dmy(), ymd(), and others)"
   ]
  },
  {
   "cell_type": "code",
   "execution_count": null,
   "metadata": {
    "slideshow": {
     "slide_type": "fragment"
    }
   },
   "outputs": [],
   "source": [
    "month(mdy(ts3))"
   ]
  },
  {
   "cell_type": "markdown",
   "metadata": {
    "slideshow": {
     "slide_type": "subslide"
    }
   },
   "source": [
    "# 4. Math with Dates and Timestamps\n",
    "\n",
    "  - The _lubridate_ package also makes it easy to do math with dates and times"
   ]
  },
  {
   "cell_type": "code",
   "execution_count": null,
   "metadata": {
    "slideshow": {
     "slide_type": "fragment"
    }
   },
   "outputs": [],
   "source": [
    "end_of_october <- as_date(\"2020-10-31\")"
   ]
  },
  {
   "cell_type": "code",
   "execution_count": null,
   "metadata": {
    "slideshow": {
     "slide_type": "fragment"
    }
   },
   "outputs": [],
   "source": [
    "end_of_october + days(1)"
   ]
  },
  {
   "cell_type": "code",
   "execution_count": null,
   "metadata": {
    "slideshow": {
     "slide_type": "fragment"
    }
   },
   "outputs": [],
   "source": [
    "time1 <- as_datetime(\"2020-10-11 03:45:52\")\n",
    "time2 <- as_datetime(\"2020-10-13 23:41:09\")\n",
    "\n",
    "time2 - time1"
   ]
  },
  {
   "cell_type": "markdown",
   "metadata": {
    "slideshow": {
     "slide_type": "subslide"
    }
   },
   "source": [
    "## 4.1 Date/Time Intervals"
   ]
  },
  {
   "cell_type": "code",
   "execution_count": null,
   "metadata": {
    "slideshow": {
     "slide_type": "fragment"
    }
   },
   "outputs": [],
   "source": [
    "time1 <- as_datetime(\"2020-10-12\")\n",
    "time2 <- as_datetime(\"2020-10-15\")\n",
    "\n",
    "\n",
    "dt_intr <- interval(time1, time2)"
   ]
  },
  {
   "cell_type": "code",
   "execution_count": null,
   "metadata": {
    "slideshow": {
     "slide_type": "fragment"
    }
   },
   "outputs": [],
   "source": [
    "as_datetime(\"2020-10-13\") %within% dt_intr"
   ]
  },
  {
   "cell_type": "code",
   "execution_count": null,
   "metadata": {
    "slideshow": {
     "slide_type": "fragment"
    }
   },
   "outputs": [],
   "source": [
    "now() %within% dt_intr"
   ]
  },
  {
   "cell_type": "markdown",
   "metadata": {
    "slideshow": {
     "slide_type": "slide"
    }
   },
   "source": [
    "<h1><center>Challenge Problem</h1></center>\n",
    "\n",
    "\n",
    "Let's write a function called `is_within_range()` that takes the following three arguement: `start_day`, `end_day`, and `test_day`. These three arguments will be dates in the form of strings. The function will return a boolean value, indicating whether or not `test_day` is within the range from `start_day` to `end_day`. \n",
    "\n",
    "Three points are worth noting. First, we will need to use the `as_date()` function to \"cast\" the string form of the arguments in to the date type. And second, we'll want to use the `interval()` function to take the beginning and ending dates an create an interval range. Finally, we will almost certainly want to use the `%within%` operator to check wether our test day is within our range.\n",
    "\n",
    "When our function is working, the test below should all print `TRUE`."
   ]
  },
  {
   "cell_type": "code",
   "execution_count": null,
   "metadata": {
    "slideshow": {
     "slide_type": "-"
    }
   },
   "outputs": [],
   "source": [
    "print(is_within_range(\"2021-09-10\", \"2021-11-10\", \"2021-10-10\"))\n",
    "print(is_within_range(\"2021-09-10\", \"2022-05-03\", \"2021-10-10\"))\n",
    "print(is_within_range(\"2011-09-10\", \"2020-01-10\", \"2021-12-08\") == FALSE)"
   ]
  },
  {
   "cell_type": "markdown",
   "metadata": {
    "slideshow": {
     "slide_type": "slide"
    }
   },
   "source": [
    "# 5. Arrests by Day-of-Week\n",
    "\n",
    "  - Suppose we want to explore the number of arrests by the day of the week\n",
    "  "
   ]
  },
  {
   "cell_type": "markdown",
   "metadata": {
    "slideshow": {
     "slide_type": "subslide"
    }
   },
   "source": [
    "## 5.1 Create `day_of_week()` Function"
   ]
  },
  {
   "cell_type": "code",
   "execution_count": null,
   "metadata": {
    "slideshow": {
     "slide_type": "fragment"
    }
   },
   "outputs": [],
   "source": [
    "\n",
    "day_of_week <- function(timestamps) {\n",
    "    \n",
    "    n <- length(timestamps)  # get length of input column\n",
    "    day <- rep(\"\", n)        # allocate vector for day of week\n",
    "    \n",
    "    # iterate over elements of input column and return \n",
    "    # the day of the week for each timestamp\n",
    "    \n",
    "    for (i in 1:n) {\n",
    "        day[i] <- toString(wday(timestamps[i], label = TRUE))\n",
    "    }\n",
    "    return(day)\n",
    "}\n"
   ]
  },
  {
   "cell_type": "markdown",
   "metadata": {
    "slideshow": {
     "slide_type": "subslide"
    }
   },
   "source": [
    "### 5.1.1 Creating `weekday` Column\n",
    "   - Now we can use our newly created `day_of_week()` function to add a new column"
   ]
  },
  {
   "cell_type": "code",
   "execution_count": null,
   "metadata": {
    "slideshow": {
     "slide_type": "fragment"
    }
   },
   "outputs": [],
   "source": [
    "# use out `day_of_week()` function to create new column\n",
    "# in our original dataframe\n",
    "\n",
    "arrests_df$weekday <- day_of_week(arrests_df$arrest_date)"
   ]
  },
  {
   "cell_type": "code",
   "execution_count": null,
   "metadata": {
    "slideshow": {
     "slide_type": "fragment"
    }
   },
   "outputs": [],
   "source": [
    "# use head() to examine updated dataframe\n",
    "\n",
    "head(arrests_df)"
   ]
  },
  {
   "cell_type": "markdown",
   "metadata": {
    "slideshow": {
     "slide_type": "subslide"
    }
   },
   "source": [
    "### 5.1.2 Counts by `weekday`\n",
    "\n",
    "We can now obtain the counts by day of the week using the `table()` function. We simply pass it the column of the dataframe for which we want to create a tabular summary."
   ]
  },
  {
   "cell_type": "code",
   "execution_count": null,
   "metadata": {
    "slideshow": {
     "slide_type": "fragment"
    }
   },
   "outputs": [],
   "source": [
    "# use table() to get counts of arrests by `weekday`\n",
    "\n",
    "table(arrests_df$weekday)"
   ]
  }
 ],
 "metadata": {
  "@webio": {
   "lastCommId": null,
   "lastKernelId": null
  },
  "celltoolbar": "Slideshow",
  "kernelspec": {
   "display_name": "R",
   "language": "R",
   "name": "ir"
  },
  "language_info": {
   "codemirror_mode": "r",
   "file_extension": ".r",
   "mimetype": "text/x-r-source",
   "name": "R",
   "pygments_lexer": "r",
   "version": "4.2.3"
  }
 },
 "nbformat": 4,
 "nbformat_minor": 4
}
