{
 "cells": [
  {
   "cell_type": "markdown",
   "id": "e59f8e65-30d1-432c-85a3-307cbf910221",
   "metadata": {},
   "source": [
    "<center><h1>Interpretation and Reflection</h1></center>\n",
    "<center><h3>Ellen Duong</h3></center>\n",
    "<center><h3>2023-11-30</h3></center>"
   ]
  },
  {
   "cell_type": "code",
   "execution_count": null,
   "id": "484d8aee-8536-4bee-9130-08dc9587c3f7",
   "metadata": {},
   "outputs": [],
   "source": [
    "# https://www.nejm.org/doi/full/10.1056/NEJMp2016822\n"
   ]
  }
 ],
 "metadata": {
  "kernelspec": {
   "display_name": "R",
   "language": "R",
   "name": "ir"
  },
  "language_info": {
   "codemirror_mode": "r",
   "file_extension": ".r",
   "mimetype": "text/x-r-source",
   "name": "R",
   "pygments_lexer": "r",
   "version": "4.2.3"
  }
 },
 "nbformat": 4,
 "nbformat_minor": 5
}
