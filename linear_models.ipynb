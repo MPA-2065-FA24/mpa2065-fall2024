{
 "cells": [
  {
   "cell_type": "markdown",
   "metadata": {
    "slideshow": {
     "slide_type": "slide"
    }
   },
   "source": [
    "<center><h1>Linear Regression Models in R</h1></center>\n"
   ]
  },
  {
   "cell_type": "markdown",
   "metadata": {
    "slideshow": {
     "slide_type": "slide"
    }
   },
   "source": [
    "# 1 Linear Regression Models"
   ]
  },
  {
   "cell_type": "markdown",
   "metadata": {
    "slideshow": {
     "slide_type": "-"
    }
   },
   "source": [
    "<center><img src=\"images/age_height.png\" width=720 /></center>"
   ]
  },
  {
   "cell_type": "markdown",
   "metadata": {
    "slideshow": {
     "slide_type": "subslide"
    }
   },
   "source": [
    "<center><img src=\"images/age_height_lm.png\" width=720 /></center>"
   ]
  },
  {
   "cell_type": "code",
   "execution_count": null,
   "metadata": {
    "slideshow": {
     "slide_type": "skip"
    }
   },
   "outputs": [],
   "source": [
    "## Below is the code for simulating the child height, weight, and age data\n",
    "\n",
    "library(ggplot2)\n",
    "library(plotly)\n",
    "\n",
    "set.seed(137)\n",
    "\n",
    "n <- 500\n",
    "\n",
    "beta0 <- 80\n",
    "beta1 <- 3.5\n",
    "beta2 <- 2.0\n",
    "\n",
    "age <- rnorm(n, 3.5, 1.5)\n",
    "weight <- rnorm(n, 16, 3)\n",
    "height <- beta0 + beta1*age + beta2*weight + rnorm(n, 8, 3.5)\n",
    "\n",
    "ds <- data.frame(age, weight, height)\n",
    "\n",
    "## We can use the plot_ly() function to generate a 3-d plot\n",
    "plot_ly(ds, x = ~age, y = ~weight, z = ~height, marker = list(symbol = 'circle', \n",
    "                                                              size = 5, \n",
    "                                                              color = \"blueviolet\"))\n"
   ]
  },
  {
   "cell_type": "markdown",
   "metadata": {
    "slideshow": {
     "slide_type": "subslide"
    }
   },
   "source": [
    "## 1.1 Linear Regression Models (Review)\n",
    "        \n",
    "$$ y_i = \\beta_0 + \\beta_1 x_{i1} + \\beta_2 x_{i2} + ... + \\beta_p x_{ip} + \\varepsilon_i $$  \n",
    "  - Outcome variable ($y$) is continuous\n",
    "  - Can have one or many predictor variables\n",
    "  - Predictors can be continuous or categorical\n",
    "  - Examples: \n",
    "    + Estimating effect square footage on home price             \n",
    "    + Effect of age and weight on blood pressure\n"
   ]
  },
  {
   "cell_type": "markdown",
   "metadata": {
    "slideshow": {
     "slide_type": "subslide"
    }
   },
   "source": [
    "### 1.1.1 Linear Regression Models (cont.)\n",
    " $$ \\text{height}_i = \\beta_0 + \\beta_1 \\text{age}_i + \\varepsilon_i $$  \n",
    " \n",
    "$\\texttt{height}_i$: dependent/outcome variable\n",
    "\n",
    "$\\texttt{age}_i$: predictor variable"
   ]
  },
  {
   "cell_type": "markdown",
   "metadata": {
    "slideshow": {
     "slide_type": "subslide"
    }
   },
   "source": [
    "## 1.2 Assumptions of Linear Regression Models\n",
    "                \n",
    "\n",
    "- $E(y_i) = \\mu_i = \\beta_0 + \\beta_1 x_i $ \n",
    "  + Or equivalently $E(\\varepsilon_i) = 0$\n",
    "  + The means of $E(y_i)$ are on a straight line\n",
    "- $var(y_i) = \\sigma^2$\n",
    "  + Or equivalently $var(\\varepsilon_i) = \\sigma^2$\n",
    "  + Known as _homoscedasticity_\n",
    "- $cov(y_i, y_j) = 0$ \n",
    "  + Or equivalently $cov(\\varepsilon_i, \\varepsilon_j) = 0$\n",
    "  + Errors are uncorrelated\n",
    "- $\\varepsilon_i$ is normally distributed\n",
    "  + Needed when using maximum likelihood estimation (MLE), but not ordinary least squares (OLS)\n"
   ]
  },
  {
   "cell_type": "markdown",
   "metadata": {
    "slideshow": {
     "slide_type": "subslide"
    }
   },
   "source": [
    "## 1.3 Single-Variable Linear Regression\n",
    "Suppose we are interested in predicting the total area destroyed by wildfires using air temperature measurements. We can do this using linear regression."
   ]
  },
  {
   "cell_type": "code",
   "execution_count": null,
   "metadata": {
    "slideshow": {
     "slide_type": "fragment"
    }
   },
   "outputs": [],
   "source": [
    "library(ggplot2)  \n",
    "\n",
    "fires_df <- read.csv(\"data/montesinho_forestfires.csv\")\n",
    "\n",
    "head(fires_df)"
   ]
  },
  {
   "cell_type": "markdown",
   "metadata": {
    "slideshow": {
     "slide_type": "subslide"
    }
   },
   "source": [
    "### 1.3.1 Plotting Data (_always!!_)"
   ]
  },
  {
   "cell_type": "code",
   "execution_count": null,
   "metadata": {
    "slideshow": {
     "slide_type": "fragment"
    }
   },
   "outputs": [],
   "source": [
    "ggplot(fires_df, aes(x = temp, y = area)) +\n",
    "    geom_point(colour = \"blueviolet\", alpha = 0.4) +\n",
    "    ylim(-5, 50)"
   ]
  },
  {
   "cell_type": "markdown",
   "metadata": {
    "slideshow": {
     "slide_type": "subslide"
    }
   },
   "source": [
    "### 1.3.2 The `lm()` Function in R\n",
    "\n",
    "  - Performs linear regression\n",
    "  - Create a fitted linear model object, which contains resultss"
   ]
  },
  {
   "cell_type": "code",
   "execution_count": null,
   "metadata": {
    "slideshow": {
     "slide_type": "fragment"
    }
   },
   "outputs": [],
   "source": [
    "fm1 <- lm(area ~ temp, fires_df)   # perform linear regression\n",
    "\n",
    "summary(fm1)                       # see output of regression"
   ]
  },
  {
   "cell_type": "markdown",
   "metadata": {
    "slideshow": {
     "slide_type": "subslide"
    }
   },
   "source": [
    "### 1.3.3 Using `tidy()` Instead of `summary()`\n",
    "\n",
    "- `tidy()` function from _broom_ package gives us (arguably) nicer output\n",
    "- Newer, and somewhat less common, but part of _tidyverse_ ecosystem (e.g., _dplyr_, _ggplot2_)"
   ]
  },
  {
   "cell_type": "code",
   "execution_count": null,
   "metadata": {
    "slideshow": {
     "slide_type": "fragment"
    }
   },
   "outputs": [],
   "source": [
    "library(broom)\n",
    "\n",
    "tidy(fm1)"
   ]
  },
  {
   "cell_type": "markdown",
   "metadata": {
    "slideshow": {
     "slide_type": "subslide"
    }
   },
   "source": [
    "## 1.4 Multivariate Linear Regression \n",
    "\n",
    "  - Regression modeles can have arbitrary number of predictor variales\n",
    "  - Simply add variable in the formula (e.g., `y ~ x1 + x2 + x3`)"
   ]
  },
  {
   "cell_type": "code",
   "execution_count": null,
   "metadata": {
    "slideshow": {
     "slide_type": "fragment"
    }
   },
   "outputs": [],
   "source": [
    "fm2 <- lm(area ~ temp + rain, fires_df)\n",
    "\n",
    "tidy(fm2)"
   ]
  },
  {
   "cell_type": "markdown",
   "metadata": {
    "slideshow": {
     "slide_type": "slide"
    }
   },
   "source": [
    "## 2. Model Fit and Diagnostics\n",
    "\n",
    " - How \"good\" is our model?\n",
    " - Which model is \"better\"?"
   ]
  },
  {
   "cell_type": "markdown",
   "metadata": {
    "slideshow": {
     "slide_type": "subslide"
    }
   },
   "source": [
    "## 2.1 Interpretting $R^2$\n",
    "\n",
    "- Represents the proportion of variance explained\n",
    "- Sometimes called \"_coefficient of determination_\"\n",
    "\n",
    "$$R^{2} = 1 - \\frac{SSE}{SST}$$\n",
    "\n",
    "where we have,\n",
    "\n",
    "$SSE = \\sum_{i}^{n} \\left( y_{i} - \\hat{y_{i}} \\right) ^{2}$, and \n",
    "\n",
    "$SST = \\sum_{i}^{n} \\left( y_{i} - \\bar{y} \\right) ^{2}$"
   ]
  },
  {
   "cell_type": "markdown",
   "metadata": {
    "slideshow": {
     "slide_type": "subslide"
    }
   },
   "source": [
    "### 2.1.1 $R^2$ with `glance()` "
   ]
  },
  {
   "cell_type": "code",
   "execution_count": null,
   "metadata": {
    "slideshow": {
     "slide_type": "fragment"
    }
   },
   "outputs": [],
   "source": [
    "glance(fm1)        # using glance() on our fitted model object"
   ]
  },
  {
   "cell_type": "markdown",
   "metadata": {
    "slideshow": {
     "slide_type": "subslide"
    }
   },
   "source": [
    "### 2.1.2 $R^2$ with `summary()`"
   ]
  },
  {
   "cell_type": "code",
   "execution_count": null,
   "metadata": {
    "slideshow": {
     "slide_type": "fragment"
    }
   },
   "outputs": [],
   "source": [
    "summary(fm2)"
   ]
  },
  {
   "cell_type": "markdown",
   "metadata": {
    "slideshow": {
     "slide_type": "subslide"
    }
   },
   "source": [
    "## 2.2 What is a \"good\" $R^2$ Value?\n",
    "\n"
   ]
  },
  {
   "cell_type": "markdown",
   "metadata": {
    "slideshow": {
     "slide_type": "fragment"
    }
   },
   "source": [
    "<center>It depends...</center>\n",
    "\n",
    "\n",
    "<center>¯\\_(ツ)_/¯</center>"
   ]
  },
  {
   "cell_type": "markdown",
   "metadata": {
    "slideshow": {
     "slide_type": "subslide"
    }
   },
   "source": [
    "## 2.3 Residuals and Outliers"
   ]
  },
  {
   "cell_type": "code",
   "execution_count": null,
   "metadata": {
    "slideshow": {
     "slide_type": "fragment"
    }
   },
   "outputs": [],
   "source": [
    "fm1_aug <- augment(fm1)\n",
    "\n",
    "head(fm1_aug) "
   ]
  },
  {
   "cell_type": "markdown",
   "metadata": {
    "slideshow": {
     "slide_type": "subslide"
    }
   },
   "source": [
    "### 2.3.1 Distribution of Residuals"
   ]
  },
  {
   "cell_type": "code",
   "execution_count": null,
   "metadata": {
    "slideshow": {
     "slide_type": "fragment"
    }
   },
   "outputs": [],
   "source": [
    "ggplot(fm1_aug, aes(x = .resid)) +\n",
    "    geom_histogram(colour = \"lightblue\", fill = \"skyblue\", bins = 50) +\n",
    "    xlim(-40, 40)"
   ]
  },
  {
   "cell_type": "markdown",
   "metadata": {
    "slideshow": {
     "slide_type": "subslide"
    }
   },
   "source": [
    "### 2.3.2 Cook's Distance (Cook's D)"
   ]
  },
  {
   "cell_type": "code",
   "execution_count": null,
   "metadata": {
    "slideshow": {
     "slide_type": "fragment"
    }
   },
   "outputs": [],
   "source": [
    "fm1_aug$row_num <- 1:nrow(fm1_aug)\n",
    "\n",
    "ggplot(fm1_aug, aes(x = row_num, y = .cooksd)) +\n",
    "    geom_point(colour = \"blue\") "
   ]
  },
  {
   "cell_type": "markdown",
   "metadata": {
    "slideshow": {
     "slide_type": "subslide"
    }
   },
   "source": [
    "### 2.3.3 Residuals vs. Fitted Values"
   ]
  },
  {
   "cell_type": "code",
   "execution_count": null,
   "metadata": {
    "slideshow": {
     "slide_type": "fragment"
    }
   },
   "outputs": [],
   "source": [
    "ggplot(fm1_aug, aes(x = .fitted, y = .resid)) +\n",
    "    geom_point(colour = \"blue\") "
   ]
  },
  {
   "cell_type": "code",
   "execution_count": null,
   "metadata": {},
   "outputs": [],
   "source": [
    "library(dplyr)\n",
    "library(stringr)\n",
    "\n",
    "arrests_df <- read.csv(\"data/pvd_arrests_2021-10-03.csv\", na.strings = c(\"Unknown\", \"NULL\", \"\"))"
   ]
  },
  {
   "cell_type": "markdown",
   "metadata": {
    "slideshow": {
     "slide_type": "slide"
    }
   },
   "source": [
    "<center><h1>Challenge Problem</h1></center>\n",
    "\n",
    "Suppose we are interested in what factor might contribute to the number of Police officers taking part in arresting someone. For example, maybe violent offenders tend to have more police officers involved in their arrests. \n",
    "\n",
    "Let's use the Providence Police Department data to test whether `age`, `gender`, and the proportion of violent offenses (i.e., `prop_violent` below) are statistically significant predictors of the average number of arresting officers (i.e., `mean_officer_cnt` below). \n",
    "\n",
    "\n",
    "The code below from our prior lesson should help us get started by creating the `person_df` dataframe. Let's use this dataframe for our model fitting.\n",
    "\n",
    "Let's build 4 models, one with each predictor (i.e., `age`, `gender`, and `prop_violent`) regressed on our outcome variable (i.e., `mean_officer_cnt`) and then one with all three predictors regressed on `mean_officer_cnt`. What do we observe? Are there statistically significant effects?\n"
   ]
  },
  {
   "cell_type": "code",
   "execution_count": null,
   "metadata": {
    "slideshow": {
     "slide_type": "subslide"
    }
   },
   "outputs": [],
   "source": [
    "is_uppercase <- function(chr) {\n",
    "    res <- chr %in% LETTERS\n",
    "    return(res)\n",
    "}\n",
    "\n",
    "has_full_names <- function(names_str) {\n",
    "    char1 <- str_sub(names_str, 1, 1)\n",
    "    char2 <- str_sub(names_str, 2, 2)\n",
    "    \n",
    "    res <- !(is_uppercase(char1) && is_uppercase(char2))\n",
    "    return(res)\n",
    "}"
   ]
  },
  {
   "cell_type": "code",
   "execution_count": null,
   "metadata": {
    "slideshow": {
     "slide_type": "subslide"
    }
   },
   "outputs": [],
   "source": [
    "count_names <- function(names_str) {\n",
    "    names_str_trm <- str_trim(names_str)     # remove whitespace\n",
    "    \n",
    "    if (has_full_names(names_str_trm)) {\n",
    "        split_char <- \"/ \"\n",
    "    } else {\n",
    "        split_char <- \", \"\n",
    "    }\n",
    "    \n",
    "    name_list <- str_split(names_str_trm, split_char)\n",
    "    \n",
    "    name_vec <- unlist(name_list)\n",
    "    \n",
    "    k <- length(name_vec)\n",
    "    \n",
    "    return(k)\n",
    "}\n",
    "\n",
    "\n",
    "count_all_names <- function(col) {\n",
    "\n",
    "    n <- length(col)   # get the length of our input column\n",
    "    cnts <- rep(0, n)  # allocate vector of zeros to populate with counts\n",
    "\n",
    "    for (i in 1:n) {\n",
    "        cnts[i] <- count_names(col[i])\n",
    "    }\n",
    "    return(cnts) \n",
    "}"
   ]
  },
  {
   "cell_type": "code",
   "execution_count": null,
   "metadata": {
    "slideshow": {
     "slide_type": "subslide"
    }
   },
   "outputs": [],
   "source": [
    "is_violent_offense <- function(v) {\n",
    "\n",
    "    violent_terms <- c(\"domestic-asslt\", \"assault\", \"battery\", \"murder\")\n",
    "    n_obs <- length(v)\n",
    "    is_violent <- rep(FALSE, n_obs)\n",
    "    \n",
    "    # iterate over all statute descriptions\n",
    "    for (i in 1:n_obs) {\n",
    "        \n",
    "        # iterate over the 4 terms associated with violence\n",
    "        for (term in violent_terms) {\n",
    "            if (!is.na(v[i]) && str_detect(tolower(v[i]), term)) {\n",
    "\n",
    "                is_violent[i] <- TRUE\n",
    "            }\n",
    "        }\n",
    "    }\n",
    "    return(is_violent)\n",
    "}"
   ]
  },
  {
   "cell_type": "code",
   "execution_count": null,
   "metadata": {
    "slideshow": {
     "slide_type": "subslide"
    }
   },
   "outputs": [],
   "source": [
    "arrests_df$violent <- is_violent_offense(arrests_df$statute_desc)\n",
    "arrests_df$officer_cnt <- count_all_names(arrests_df$arresting_officers)"
   ]
  },
  {
   "cell_type": "code",
   "execution_count": null,
   "metadata": {
    "slideshow": {
     "slide_type": "subslide"
    }
   },
   "outputs": [],
   "source": [
    "person_df <- arrests_df %>%\n",
    "    group_by(id) %>%\n",
    "    summarise(\n",
    "        total_charges = n(),\n",
    "        num_uniq_arrests = length(unique(case_number)),\n",
    "        prop_violent = mean(violent),\n",
    "        mean_officer_cnt = mean(officer_cnt),\n",
    "        age = age[1],\n",
    "        gender = gender[1]\n",
    "    ) "
   ]
  }
 ],
 "metadata": {
  "@webio": {
   "lastCommId": null,
   "lastKernelId": null
  },
  "celltoolbar": "Slideshow",
  "kernelspec": {
   "display_name": "R",
   "language": "R",
   "name": "ir"
  },
  "language_info": {
   "codemirror_mode": "r",
   "file_extension": ".r",
   "mimetype": "text/x-r-source",
   "name": "R",
   "pygments_lexer": "r",
   "version": "4.0.2"
  }
 },
 "nbformat": 4,
 "nbformat_minor": 2
}
