{
 "cells": [
  {
   "cell_type": "markdown",
   "id": "bb08891c-2627-42c8-9c39-3c54aff8f1c0",
   "metadata": {},
   "source": [
    "<center><h1>Data.Frame Challenge Questions</h1></center>"
   ]
  },
  {
   "cell_type": "markdown",
   "id": "5138eb8a-1fb0-4bfd-9b7e-e4271e29156f",
   "metadata": {},
   "source": [
    "### Question 1.\n",
    "Create a `data.frame` object called `state_df` with two columns, one called `state` and one called `population`. Each column should have five elements. For the `state` column, select the abbreviations for five US states (e.g., \"OH\", \"RI\", \"NY\", \"MA\", \"CT\"). For the `population` column, use the `sample()` function to create \"populations\" at random from the range `1` to `1000000`."
   ]
  },
  {
   "cell_type": "code",
   "execution_count": 9,
   "id": "f6a3b113-cc33-460f-955b-cf51a2c12da8",
   "metadata": {},
   "outputs": [
    {
     "data": {
      "text/html": [
       "<table class=\"dataframe\">\n",
       "<caption>A data.frame: 5 × 2</caption>\n",
       "<thead>\n",
       "\t<tr><th scope=col>state</th><th scope=col>population</th></tr>\n",
       "\t<tr><th scope=col>&lt;chr&gt;</th><th scope=col>&lt;int&gt;</th></tr>\n",
       "</thead>\n",
       "<tbody>\n",
       "\t<tr><td>OH</td><td>548676</td></tr>\n",
       "\t<tr><td>RI</td><td>452737</td></tr>\n",
       "\t<tr><td>NY</td><td>124413</td></tr>\n",
       "\t<tr><td>MA</td><td>436523</td></tr>\n",
       "\t<tr><td>CT</td><td>856018</td></tr>\n",
       "</tbody>\n",
       "</table>\n"
      ],
      "text/latex": [
       "A data.frame: 5 × 2\n",
       "\\begin{tabular}{ll}\n",
       " state & population\\\\\n",
       " <chr> & <int>\\\\\n",
       "\\hline\n",
       "\t OH & 548676\\\\\n",
       "\t RI & 452737\\\\\n",
       "\t NY & 124413\\\\\n",
       "\t MA & 436523\\\\\n",
       "\t CT & 856018\\\\\n",
       "\\end{tabular}\n"
      ],
      "text/markdown": [
       "\n",
       "A data.frame: 5 × 2\n",
       "\n",
       "| state &lt;chr&gt; | population &lt;int&gt; |\n",
       "|---|---|\n",
       "| OH | 548676 |\n",
       "| RI | 452737 |\n",
       "| NY | 124413 |\n",
       "| MA | 436523 |\n",
       "| CT | 856018 |\n",
       "\n"
      ],
      "text/plain": [
       "  state population\n",
       "1 OH    548676    \n",
       "2 RI    452737    \n",
       "3 NY    124413    \n",
       "4 MA    436523    \n",
       "5 CT    856018    "
      ]
     },
     "metadata": {},
     "output_type": "display_data"
    }
   ],
   "source": [
    "state <- c(\"OH\", \"RI\", \"NY\", \"MA\", \"CT\")\n",
    "\n",
    "set.seed(1) # sets the state of the random number generator stored in .Random.seed\n",
    "population <- sample(1:1000000, 5)\n",
    "\n",
    "state_df <- data.frame(state, population)\n",
    "\n",
    "state_df"
   ]
  },
  {
   "cell_type": "markdown",
   "id": "4e7cf37d-c429-4e1e-9d65-b3616eccfa4a",
   "metadata": {},
   "source": [
    "### Question 2.\n",
    "Add a third column to the `state_df` dataframe called `size`. In particular, use boolean indexing to assign elements of the third column to be `\"large\"` if that row's `population` value is larger than or equal to `500000`, and be `\"small\"`  if the row's `population` is less than `500000`."
   ]
  },
  {
   "cell_type": "code",
   "execution_count": 10,
   "id": "e3d79841-7964-4e59-adda-944f6d3dffbe",
   "metadata": {},
   "outputs": [
    {
     "data": {
      "text/html": [
       "<style>\n",
       ".list-inline {list-style: none; margin:0; padding: 0}\n",
       ".list-inline>li {display: inline-block}\n",
       ".list-inline>li:not(:last-child)::after {content: \"\\00b7\"; padding: 0 .5ex}\n",
       "</style>\n",
       "<ol class=list-inline><li>FALSE</li><li>TRUE</li><li>TRUE</li><li>TRUE</li><li>FALSE</li></ol>\n"
      ],
      "text/latex": [
       "\\begin{enumerate*}\n",
       "\\item FALSE\n",
       "\\item TRUE\n",
       "\\item TRUE\n",
       "\\item TRUE\n",
       "\\item FALSE\n",
       "\\end{enumerate*}\n"
      ],
      "text/markdown": [
       "1. FALSE\n",
       "2. TRUE\n",
       "3. TRUE\n",
       "4. TRUE\n",
       "5. FALSE\n",
       "\n",
       "\n"
      ],
      "text/plain": [
       "[1] FALSE  TRUE  TRUE  TRUE FALSE"
      ]
     },
     "metadata": {},
     "output_type": "display_data"
    },
    {
     "data": {
      "text/html": [
       "<table class=\"dataframe\">\n",
       "<caption>A data.frame: 5 × 3</caption>\n",
       "<thead>\n",
       "\t<tr><th scope=col>state</th><th scope=col>population</th><th scope=col>size</th></tr>\n",
       "\t<tr><th scope=col>&lt;chr&gt;</th><th scope=col>&lt;int&gt;</th><th scope=col>&lt;chr&gt;</th></tr>\n",
       "</thead>\n",
       "<tbody>\n",
       "\t<tr><td>OH</td><td>548676</td><td>large</td></tr>\n",
       "\t<tr><td>RI</td><td>452737</td><td>small</td></tr>\n",
       "\t<tr><td>NY</td><td>124413</td><td>small</td></tr>\n",
       "\t<tr><td>MA</td><td>436523</td><td>small</td></tr>\n",
       "\t<tr><td>CT</td><td>856018</td><td>large</td></tr>\n",
       "</tbody>\n",
       "</table>\n"
      ],
      "text/latex": [
       "A data.frame: 5 × 3\n",
       "\\begin{tabular}{lll}\n",
       " state & population & size\\\\\n",
       " <chr> & <int> & <chr>\\\\\n",
       "\\hline\n",
       "\t OH & 548676 & large\\\\\n",
       "\t RI & 452737 & small\\\\\n",
       "\t NY & 124413 & small\\\\\n",
       "\t MA & 436523 & small\\\\\n",
       "\t CT & 856018 & large\\\\\n",
       "\\end{tabular}\n"
      ],
      "text/markdown": [
       "\n",
       "A data.frame: 5 × 3\n",
       "\n",
       "| state &lt;chr&gt; | population &lt;int&gt; | size &lt;chr&gt; |\n",
       "|---|---|---|\n",
       "| OH | 548676 | large |\n",
       "| RI | 452737 | small |\n",
       "| NY | 124413 | small |\n",
       "| MA | 436523 | small |\n",
       "| CT | 856018 | large |\n",
       "\n"
      ],
      "text/plain": [
       "  state population size \n",
       "1 OH    548676     large\n",
       "2 RI    452737     small\n",
       "3 NY    124413     small\n",
       "4 MA    436523     small\n",
       "5 CT    856018     large"
      ]
     },
     "metadata": {},
     "output_type": "display_data"
    }
   ],
   "source": [
    "# Example Solution\n",
    "is_small <- state_df$population < 500000   # create vector of booleans\n",
    "\n",
    "is_small\n",
    "\n",
    "state_df$size <- rep(NA, 5)                # create column of 5 NAs\n",
    "\n",
    "state_df[is_small, \"size\"] <- \"small\"      # assigning \"small\" wherever `is_small` is TRUE\n",
    "state_df[!is_small, \"size\"] <- \"large\"     # assigning \"large\" wherever !is_small\n",
    "\n",
    "state_df"
   ]
  },
  {
   "cell_type": "code",
   "execution_count": 11,
   "id": "93394e2d-26a7-47ae-b159-2598af75034d",
   "metadata": {},
   "outputs": [
    {
     "data": {
      "text/html": [
       "<table class=\"dataframe\">\n",
       "<caption>A data.frame: 5 × 3</caption>\n",
       "<thead>\n",
       "\t<tr><th scope=col>state</th><th scope=col>population</th><th scope=col>size</th></tr>\n",
       "\t<tr><th scope=col>&lt;chr&gt;</th><th scope=col>&lt;int&gt;</th><th scope=col>&lt;chr&gt;</th></tr>\n",
       "</thead>\n",
       "<tbody>\n",
       "\t<tr><td>OH</td><td>548676</td><td>large</td></tr>\n",
       "\t<tr><td>RI</td><td>452737</td><td>small</td></tr>\n",
       "\t<tr><td>NY</td><td>124413</td><td>small</td></tr>\n",
       "\t<tr><td>MA</td><td>436523</td><td>small</td></tr>\n",
       "\t<tr><td>CT</td><td>856018</td><td>large</td></tr>\n",
       "</tbody>\n",
       "</table>\n"
      ],
      "text/latex": [
       "A data.frame: 5 × 3\n",
       "\\begin{tabular}{lll}\n",
       " state & population & size\\\\\n",
       " <chr> & <int> & <chr>\\\\\n",
       "\\hline\n",
       "\t OH & 548676 & large\\\\\n",
       "\t RI & 452737 & small\\\\\n",
       "\t NY & 124413 & small\\\\\n",
       "\t MA & 436523 & small\\\\\n",
       "\t CT & 856018 & large\\\\\n",
       "\\end{tabular}\n"
      ],
      "text/markdown": [
       "\n",
       "A data.frame: 5 × 3\n",
       "\n",
       "| state &lt;chr&gt; | population &lt;int&gt; | size &lt;chr&gt; |\n",
       "|---|---|---|\n",
       "| OH | 548676 | large |\n",
       "| RI | 452737 | small |\n",
       "| NY | 124413 | small |\n",
       "| MA | 436523 | small |\n",
       "| CT | 856018 | large |\n",
       "\n"
      ],
      "text/plain": [
       "  state population size \n",
       "1 OH    548676     large\n",
       "2 RI    452737     small\n",
       "3 NY    124413     small\n",
       "4 MA    436523     small\n",
       "5 CT    856018     large"
      ]
     },
     "metadata": {},
     "output_type": "display_data"
    }
   ],
   "source": [
    "# Alternate Solution\n",
    "n <- nrow(state_df)                        # get number of rows in dataframe\n",
    "state_df$size <- rep(NA, n)                # create empty column of NAs\n",
    "\n",
    "for (i in 1:n) {\n",
    "    if (state_df[i, \"population\"] < 500000) {\n",
    "        state_df[i, \"size\"] <- \"small\"\n",
    "    }\n",
    "    else {\n",
    "        state_df[i, \"size\"] <- \"large\"\n",
    "    }\n",
    "}\n",
    "\n",
    "state_df"
   ]
  },
  {
   "cell_type": "code",
   "execution_count": 12,
   "id": "700dcdfd-e865-4346-89aa-b176d00b0b71",
   "metadata": {},
   "outputs": [
    {
     "data": {
      "text/html": [
       "<table class=\"dataframe\">\n",
       "<caption>A data.frame: 5 × 3</caption>\n",
       "<thead>\n",
       "\t<tr><th scope=col>state</th><th scope=col>population</th><th scope=col>size</th></tr>\n",
       "\t<tr><th scope=col>&lt;chr&gt;</th><th scope=col>&lt;int&gt;</th><th scope=col>&lt;chr&gt;</th></tr>\n",
       "</thead>\n",
       "<tbody>\n",
       "\t<tr><td>OH</td><td>548676</td><td>large</td></tr>\n",
       "\t<tr><td>RI</td><td>452737</td><td>small</td></tr>\n",
       "\t<tr><td>NY</td><td>124413</td><td>small</td></tr>\n",
       "\t<tr><td>MA</td><td>436523</td><td>small</td></tr>\n",
       "\t<tr><td>CT</td><td>856018</td><td>large</td></tr>\n",
       "</tbody>\n",
       "</table>\n"
      ],
      "text/latex": [
       "A data.frame: 5 × 3\n",
       "\\begin{tabular}{lll}\n",
       " state & population & size\\\\\n",
       " <chr> & <int> & <chr>\\\\\n",
       "\\hline\n",
       "\t OH & 548676 & large\\\\\n",
       "\t RI & 452737 & small\\\\\n",
       "\t NY & 124413 & small\\\\\n",
       "\t MA & 436523 & small\\\\\n",
       "\t CT & 856018 & large\\\\\n",
       "\\end{tabular}\n"
      ],
      "text/markdown": [
       "\n",
       "A data.frame: 5 × 3\n",
       "\n",
       "| state &lt;chr&gt; | population &lt;int&gt; | size &lt;chr&gt; |\n",
       "|---|---|---|\n",
       "| OH | 548676 | large |\n",
       "| RI | 452737 | small |\n",
       "| NY | 124413 | small |\n",
       "| MA | 436523 | small |\n",
       "| CT | 856018 | large |\n",
       "\n"
      ],
      "text/plain": [
       "  state population size \n",
       "1 OH    548676     large\n",
       "2 RI    452737     small\n",
       "3 NY    124413     small\n",
       "4 MA    436523     small\n",
       "5 CT    856018     large"
      ]
     },
     "metadata": {},
     "output_type": "display_data"
    }
   ],
   "source": [
    "# Alternate Solution\n",
    "state_df$size <- ifelse(state_df$population < 500000, \"small\", \"large\")\n",
    "\n",
    "state_df"
   ]
  },
  {
   "cell_type": "markdown",
   "id": "200edf26-952d-4b5f-8ac0-06de0372cdf4",
   "metadata": {},
   "source": []
  },
  {
   "cell_type": "markdown",
   "id": "570d2635-f386-4abc-b868-117cd3ea29fe",
   "metadata": {},
   "source": [
    "<center><h1>Dplyr Challenge Questions</h1></center>"
   ]
  },
  {
   "cell_type": "code",
   "execution_count": null,
   "id": "1fd7f5c9-5aac-4490-9a98-0ae94f295e9a",
   "metadata": {},
   "outputs": [],
   "source": []
  },
  {
   "cell_type": "code",
   "execution_count": null,
   "id": "3f1f2c35-4e09-4e3f-a4d4-6ba26fa8fc1e",
   "metadata": {},
   "outputs": [],
   "source": []
  }
 ],
 "metadata": {
  "kernelspec": {
   "display_name": "R",
   "language": "R",
   "name": "ir"
  },
  "language_info": {
   "codemirror_mode": "r",
   "file_extension": ".r",
   "mimetype": "text/x-r-source",
   "name": "R",
   "pygments_lexer": "r",
   "version": "4.2.3"
  }
 },
 "nbformat": 4,
 "nbformat_minor": 5
}
