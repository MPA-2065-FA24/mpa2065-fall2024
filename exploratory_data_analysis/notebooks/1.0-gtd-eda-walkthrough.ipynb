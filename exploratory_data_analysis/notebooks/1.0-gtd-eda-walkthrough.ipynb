{
 "cells": [
  {
   "cell_type": "markdown",
   "metadata": {},
   "source": [
    "# Exploratory Data Analysis: Walkthrough\n",
    "Today we will be demonstrating the following key exploratory data analysis techniques using an example dataset:\n",
    "\n",
    "**Agenda:**\n",
    "1. Importing libraries & packages\n",
    "2. Importing tabular data to a DataFrame\n",
    "3. Inspecting DataFrame structure\n",
    "4. Concatenation\n",
    "5. Renaming Columns\n",
    "6. Exploring values\n",
    "7. Exporting DataFrames\n",
    "8. Merging\n",
    "9. Plotting\n",
    "\n",
    "\n",
    "\n",
    "## The Data\n",
    "Our example dataset is daily summaries of air quality data from Providence, RI. It will give you some experience with working with temporal data.\n",
    "\n",
    "The Rhode Island Department of Environmental Management (RIDEM) and Rhode Island Department of Health (RIDOH) collects air quality data at several sites across Rhode Island. We will be examining data from one site at the Community of Rhode Island (CCRI) Liston Campus. Here's some background:\n",
    "\n",
    "* The CCRI site is part of the EPA's *State or Local Air Monitoring Stations* (SLAMS) and *National Air Toxics Trends Sites* (NATTS) networks.\n",
    "* A variety of air pollutants (particulate matter (PM), volatile organic carbon (VOCs),  polycyclic aromatic hydrocarbons (PAHs), carbonyls, black carbon) have been monitored at this site since 2005.\n",
    "* A reference for some of the dataset's [field descriptions](https://aqs.epa.gov/aqsweb/airdata/FileFormats.html#_daily_summary_files).\n",
    "* The data was obtained from the Environmental Protection Agency (EPA) [Air Quality Data website](https://www.epa.gov/outdoor-air-quality-data).\n",
    "\n",
    "<table><tr>\n",
    "<td> <img src=\"images/aq-site-info.png\" alt=\"Drawing\" style=\"width: 400px;\"/> </td>\n",
    "<td> <img src=\"images/aq-site-table.png\" alt=\"Drawing\" style=\"width: 450px;\"/> </td>\n",
    "</tr></table>\n",
    "\n",
    "![](./images/aq-site-gearth-dist.png)\n",
    "\n",
    "We will use a subset of this data in the demonstrations below and give you a chance to work with a larger dataset during the hands-on lab.\n",
    "\n",
    "*Links*\n",
    "\n",
    "* [EPA Air Quality Data Interactive Map](https://www.epa.gov/outdoor-air-quality-data/interactive-map-air-quality-monitors) - Data source\n",
    "* [RIDEM 2022 Annual Monitoring Report](https://dem.ri.gov/sites/g/files/xkgbur861/files/2023-01/airnet22.pdf) - More information about the site and other monitoring locations across the state.\n",
    "* [National Air Toxics Tends Sites Quality Assurance Project Plan](https://www3.epa.gov/ttnamti1/files/ambient/airtox/NATTS-UATMP-PAMS-SNOC-Analytical-Support-QAPP-2019.pdf) - Detailed measurement guidelines for the toxins in this dataset\n",
    "* [National Ambient Air Quality Standards](https://www.epa.gov/criteria-air-pollutants/naaqs-table)\n",
    "\n",
    "---"
   ]
  },
  {
   "cell_type": "code",
   "execution_count": null,
   "metadata": {},
   "outputs": [],
   "source": []
  },
  {
   "cell_type": "markdown",
   "metadata": {},
   "source": [
    "## 1. Importing libraries & packages\n",
    "Importing packages typically appears at the top of the file.\n",
    "* `install.packages(\"<package_name>\")` installs the package. Only needed once. We've set up the JupyterHub to include packages in our environment. So you'll likely only need the following to load your package.\n",
    "* `library(<package_name>)` loads the package into your R session"
   ]
  },
  {
   "cell_type": "code",
   "execution_count": 205,
   "metadata": {},
   "outputs": [],
   "source": [
    "library(dplyr)\n",
    "library(tidyr)\n",
    "library(readr)"
   ]
  },
  {
   "cell_type": "markdown",
   "metadata": {},
   "source": [
    "## 2. Importing tabular data to a DataFrame\n",
    "The pandas package reads tabular data into a data structure called a `DataFrame`. \n",
    "\n",
    "### Structure of a DataFrame\n",
    "![series](./images/pandas_df.png)\n",
    "Source: Edited from [geeksforgeeks.org](https://www.geeksforgeeks.org/python-pandas-dataframe/)\n",
    "\n",
    "![series](./images/df_axes.jpeg)\n",
    "\n",
    "Source: [stackoverflow](https://stackoverflow.com/questions/25773245/ambiguity-in-pandas-dataframe-numpy-array-axis-definition)"
   ]
  },
  {
   "cell_type": "markdown",
   "metadata": {},
   "source": [
    "\n",
    "### You can read data from many types of formats:\n",
    "* [`read_csv(\"path/to/your/file.csv\")`](https://readr.tidyverse.org/reference/read_delim.html) - Comma-delimited or other delimited files\n",
    "* Other common formats include Excel files, Text files, JSON files, SQL databases, and XML files. You'll need different packages and functions to import those formats.\n",
    "\n",
    "We will be working with the `read_csv()` because our data is comma-delimited. This function defaults to read comma-delimited files, but can be used on any delimited text file when the seperator is specified.\n",
    "\n",
    "A. To start we need specify the path to our data directory:\n",
    "```\n",
    "project\n",
    "├── data\n",
    "│   └── raw\n",
    "│       └── monthly   <- Data is here\n",
    "│\n",
    "└── notebooks         <- Our working directory is here\n",
    "```\n",
    "We will be using package `os` and `Path` from `pathlib` to create out directory path because it standardizes pathing between operating systems. Path separators are different between Unix (Mac & Linux; using `/`) and Windows (using `\\`) operating systems. Avoiding full string paths makes the code universal."
   ]
  },
  {
   "cell_type": "code",
   "execution_count": 206,
   "metadata": {},
   "outputs": [
    {
     "name": "stdout",
     "output_type": "stream",
     "text": [
      "[1] \"This is the monthly data directory:  ../data/raw/monthly\"\n"
     ]
    }
   ],
   "source": [
    "# Create a path to the data directory. The `..` means go up one level from the current working directory\n",
    "data_path <- file.path(\"..\", \"data\")\n",
    "\n",
    "## We extend the path to the monthly data directory\n",
    "path_to_monthly_data = file.path(data_path, 'raw', 'monthly')\n",
    "\n",
    "print(paste('This is the monthly data directory: ', path_to_monthly_data))"
   ]
  },
  {
   "cell_type": "markdown",
   "metadata": {},
   "source": [
    "Using the path generated above, we will read the first month of data (January 2022)."
   ]
  },
  {
   "cell_type": "code",
   "execution_count": 207,
   "metadata": {},
   "outputs": [
    {
     "name": "stderr",
     "output_type": "stream",
     "text": [
      "\u001b[1mRows: \u001b[22m\u001b[34m743\u001b[39m \u001b[1mColumns: \u001b[22m\u001b[34m34\u001b[39m\n",
      "\u001b[36m──\u001b[39m \u001b[1mColumn specification\u001b[22m \u001b[36m────────────────────────────────────────────────────────\u001b[39m\n",
      "\u001b[1mDelimiter:\u001b[22m \",\"\n",
      "\u001b[31mchr\u001b[39m  (14): Datum, Parameter Name, Duration Description, Pollutant Standard, ...\n",
      "\u001b[32mdbl\u001b[39m  (14): State Code, County Code, Site Number, Parameter Code, POC, Latitu...\n",
      "\u001b[33mlgl\u001b[39m   (5): Exceptional Data Type, Nonreg Observation Count, Nonreg Arithmeti...\n",
      "\u001b[34mdate\u001b[39m  (1): Date (Local)\n",
      "\n",
      "\u001b[36mℹ\u001b[39m Use `spec()` to retrieve the full column specification for this data.\n",
      "\u001b[36mℹ\u001b[39m Specify the column types or set `show_col_types = FALSE` to quiet this message.\n"
     ]
    }
   ],
   "source": [
    "# Read and save the DataFrame object to a variable 'df_2022_01'\n",
    "df_2022_01 <- read_csv(file.path(path_to_monthly_data, 'daily_44_007_0022_2022_01.csv'))"
   ]
  },
  {
   "cell_type": "code",
   "execution_count": 208,
   "metadata": {},
   "outputs": [
    {
     "data": {
      "text/html": [
       "<table class=\"dataframe\">\n",
       "<caption>A tibble: 6 × 34</caption>\n",
       "<thead>\n",
       "\t<tr><th scope=col>State Code</th><th scope=col>County Code</th><th scope=col>Site Number</th><th scope=col>Parameter Code</th><th scope=col>POC</th><th scope=col>Latitude</th><th scope=col>Longitude</th><th scope=col>Datum</th><th scope=col>Parameter Name</th><th scope=col>Duration Description</th><th scope=col>⋯</th><th scope=col>AQI</th><th scope=col>Daily Criteria Indicator</th><th scope=col>Tribe Name</th><th scope=col>State Name</th><th scope=col>County Name</th><th scope=col>City Name</th><th scope=col>Local Site Name</th><th scope=col>Address</th><th scope=col>MSA or CBSA Name</th><th scope=col>Data Source</th></tr>\n",
       "\t<tr><th scope=col>&lt;dbl&gt;</th><th scope=col>&lt;dbl&gt;</th><th scope=col>&lt;dbl&gt;</th><th scope=col>&lt;dbl&gt;</th><th scope=col>&lt;dbl&gt;</th><th scope=col>&lt;dbl&gt;</th><th scope=col>&lt;dbl&gt;</th><th scope=col>&lt;chr&gt;</th><th scope=col>&lt;chr&gt;</th><th scope=col>&lt;chr&gt;</th><th scope=col>⋯</th><th scope=col>&lt;chr&gt;</th><th scope=col>&lt;chr&gt;</th><th scope=col>&lt;lgl&gt;</th><th scope=col>&lt;chr&gt;</th><th scope=col>&lt;chr&gt;</th><th scope=col>&lt;chr&gt;</th><th scope=col>&lt;chr&gt;</th><th scope=col>&lt;chr&gt;</th><th scope=col>&lt;chr&gt;</th><th scope=col>&lt;chr&gt;</th></tr>\n",
       "</thead>\n",
       "<tbody>\n",
       "\t<tr><td>44</td><td>7</td><td>22</td><td>87101</td><td>1</td><td>41.80747</td><td>-71.41297</td><td>NAD83</td><td>Particle Number, Total Count</td><td>1 HOUR       </td><td>⋯</td><td>. </td><td>Y</td><td>NA</td><td>Rhode Island</td><td>Providence</td><td>Providence</td><td>CCRI Liston Campus ROOFTOP</td><td>1 Hilton St, PROVIDENCE RI</td><td>Providence-Warwick, RI-MA</td><td>AQS Data Mart</td></tr>\n",
       "\t<tr><td>44</td><td>7</td><td>22</td><td>61107</td><td>1</td><td>41.80747</td><td>-71.41297</td><td>NAD83</td><td>Std Dev Vt Wind Direction   </td><td>1 HOUR       </td><td>⋯</td><td>. </td><td>Y</td><td>NA</td><td>Rhode Island</td><td>Providence</td><td>Providence</td><td>CCRI Liston Campus ROOFTOP</td><td>1 Hilton St, PROVIDENCE RI</td><td>Providence-Warwick, RI-MA</td><td>AQS Data Mart</td></tr>\n",
       "\t<tr><td>44</td><td>7</td><td>22</td><td>62101</td><td>1</td><td>41.80747</td><td>-71.41297</td><td>NAD83</td><td>Outdoor Temperature         </td><td>1 HOUR       </td><td>⋯</td><td>. </td><td>Y</td><td>NA</td><td>Rhode Island</td><td>Providence</td><td>Providence</td><td>CCRI Liston Campus ROOFTOP</td><td>1 Hilton St, PROVIDENCE RI</td><td>Providence-Warwick, RI-MA</td><td>AQS Data Mart</td></tr>\n",
       "\t<tr><td>44</td><td>7</td><td>22</td><td>61104</td><td>1</td><td>41.80747</td><td>-71.41297</td><td>NAD83</td><td>Wind Direction - Resultant  </td><td>1 HOUR       </td><td>⋯</td><td>. </td><td>Y</td><td>NA</td><td>Rhode Island</td><td>Providence</td><td>Providence</td><td>CCRI Liston Campus ROOFTOP</td><td>1 Hilton St, PROVIDENCE RI</td><td>Providence-Warwick, RI-MA</td><td>AQS Data Mart</td></tr>\n",
       "\t<tr><td>44</td><td>7</td><td>22</td><td>84313</td><td>1</td><td>41.80747</td><td>-71.41297</td><td>NAD83</td><td>Black carbon PM2.5 STP      </td><td>1 HOUR       </td><td>⋯</td><td>. </td><td>Y</td><td>NA</td><td>Rhode Island</td><td>Providence</td><td>Providence</td><td>CCRI Liston Campus ROOFTOP</td><td>1 Hilton St, PROVIDENCE RI</td><td>Providence-Warwick, RI-MA</td><td>AQS Data Mart</td></tr>\n",
       "\t<tr><td>44</td><td>7</td><td>22</td><td>88101</td><td>3</td><td>41.80747</td><td>-71.41297</td><td>NAD83</td><td>PM2.5 - Local Conditions    </td><td>24-HR BLK AVG</td><td>⋯</td><td>30</td><td>Y</td><td>NA</td><td>Rhode Island</td><td>Providence</td><td>Providence</td><td>CCRI Liston Campus ROOFTOP</td><td>1 Hilton St, PROVIDENCE RI</td><td>Providence-Warwick, RI-MA</td><td>AQS Data Mart</td></tr>\n",
       "</tbody>\n",
       "</table>\n"
      ],
      "text/latex": [
       "A tibble: 6 × 34\n",
       "\\begin{tabular}{lllllllllllllllllllll}\n",
       " State Code & County Code & Site Number & Parameter Code & POC & Latitude & Longitude & Datum & Parameter Name & Duration Description & ⋯ & AQI & Daily Criteria Indicator & Tribe Name & State Name & County Name & City Name & Local Site Name & Address & MSA or CBSA Name & Data Source\\\\\n",
       " <dbl> & <dbl> & <dbl> & <dbl> & <dbl> & <dbl> & <dbl> & <chr> & <chr> & <chr> & ⋯ & <chr> & <chr> & <lgl> & <chr> & <chr> & <chr> & <chr> & <chr> & <chr> & <chr>\\\\\n",
       "\\hline\n",
       "\t 44 & 7 & 22 & 87101 & 1 & 41.80747 & -71.41297 & NAD83 & Particle Number, Total Count & 1 HOUR        & ⋯ & .  & Y & NA & Rhode Island & Providence & Providence & CCRI Liston Campus ROOFTOP & 1 Hilton St, PROVIDENCE RI & Providence-Warwick, RI-MA & AQS Data Mart\\\\\n",
       "\t 44 & 7 & 22 & 61107 & 1 & 41.80747 & -71.41297 & NAD83 & Std Dev Vt Wind Direction    & 1 HOUR        & ⋯ & .  & Y & NA & Rhode Island & Providence & Providence & CCRI Liston Campus ROOFTOP & 1 Hilton St, PROVIDENCE RI & Providence-Warwick, RI-MA & AQS Data Mart\\\\\n",
       "\t 44 & 7 & 22 & 62101 & 1 & 41.80747 & -71.41297 & NAD83 & Outdoor Temperature          & 1 HOUR        & ⋯ & .  & Y & NA & Rhode Island & Providence & Providence & CCRI Liston Campus ROOFTOP & 1 Hilton St, PROVIDENCE RI & Providence-Warwick, RI-MA & AQS Data Mart\\\\\n",
       "\t 44 & 7 & 22 & 61104 & 1 & 41.80747 & -71.41297 & NAD83 & Wind Direction - Resultant   & 1 HOUR        & ⋯ & .  & Y & NA & Rhode Island & Providence & Providence & CCRI Liston Campus ROOFTOP & 1 Hilton St, PROVIDENCE RI & Providence-Warwick, RI-MA & AQS Data Mart\\\\\n",
       "\t 44 & 7 & 22 & 84313 & 1 & 41.80747 & -71.41297 & NAD83 & Black carbon PM2.5 STP       & 1 HOUR        & ⋯ & .  & Y & NA & Rhode Island & Providence & Providence & CCRI Liston Campus ROOFTOP & 1 Hilton St, PROVIDENCE RI & Providence-Warwick, RI-MA & AQS Data Mart\\\\\n",
       "\t 44 & 7 & 22 & 88101 & 3 & 41.80747 & -71.41297 & NAD83 & PM2.5 - Local Conditions     & 24-HR BLK AVG & ⋯ & 30 & Y & NA & Rhode Island & Providence & Providence & CCRI Liston Campus ROOFTOP & 1 Hilton St, PROVIDENCE RI & Providence-Warwick, RI-MA & AQS Data Mart\\\\\n",
       "\\end{tabular}\n"
      ],
      "text/markdown": [
       "\n",
       "A tibble: 6 × 34\n",
       "\n",
       "| State Code &lt;dbl&gt; | County Code &lt;dbl&gt; | Site Number &lt;dbl&gt; | Parameter Code &lt;dbl&gt; | POC &lt;dbl&gt; | Latitude &lt;dbl&gt; | Longitude &lt;dbl&gt; | Datum &lt;chr&gt; | Parameter Name &lt;chr&gt; | Duration Description &lt;chr&gt; | ⋯ ⋯ | AQI &lt;chr&gt; | Daily Criteria Indicator &lt;chr&gt; | Tribe Name &lt;lgl&gt; | State Name &lt;chr&gt; | County Name &lt;chr&gt; | City Name &lt;chr&gt; | Local Site Name &lt;chr&gt; | Address &lt;chr&gt; | MSA or CBSA Name &lt;chr&gt; | Data Source &lt;chr&gt; |\n",
       "|---|---|---|---|---|---|---|---|---|---|---|---|---|---|---|---|---|---|---|---|---|\n",
       "| 44 | 7 | 22 | 87101 | 1 | 41.80747 | -71.41297 | NAD83 | Particle Number, Total Count | 1 HOUR        | ⋯ | .  | Y | NA | Rhode Island | Providence | Providence | CCRI Liston Campus ROOFTOP | 1 Hilton St, PROVIDENCE RI | Providence-Warwick, RI-MA | AQS Data Mart |\n",
       "| 44 | 7 | 22 | 61107 | 1 | 41.80747 | -71.41297 | NAD83 | Std Dev Vt Wind Direction    | 1 HOUR        | ⋯ | .  | Y | NA | Rhode Island | Providence | Providence | CCRI Liston Campus ROOFTOP | 1 Hilton St, PROVIDENCE RI | Providence-Warwick, RI-MA | AQS Data Mart |\n",
       "| 44 | 7 | 22 | 62101 | 1 | 41.80747 | -71.41297 | NAD83 | Outdoor Temperature          | 1 HOUR        | ⋯ | .  | Y | NA | Rhode Island | Providence | Providence | CCRI Liston Campus ROOFTOP | 1 Hilton St, PROVIDENCE RI | Providence-Warwick, RI-MA | AQS Data Mart |\n",
       "| 44 | 7 | 22 | 61104 | 1 | 41.80747 | -71.41297 | NAD83 | Wind Direction - Resultant   | 1 HOUR        | ⋯ | .  | Y | NA | Rhode Island | Providence | Providence | CCRI Liston Campus ROOFTOP | 1 Hilton St, PROVIDENCE RI | Providence-Warwick, RI-MA | AQS Data Mart |\n",
       "| 44 | 7 | 22 | 84313 | 1 | 41.80747 | -71.41297 | NAD83 | Black carbon PM2.5 STP       | 1 HOUR        | ⋯ | .  | Y | NA | Rhode Island | Providence | Providence | CCRI Liston Campus ROOFTOP | 1 Hilton St, PROVIDENCE RI | Providence-Warwick, RI-MA | AQS Data Mart |\n",
       "| 44 | 7 | 22 | 88101 | 3 | 41.80747 | -71.41297 | NAD83 | PM2.5 - Local Conditions     | 24-HR BLK AVG | ⋯ | 30 | Y | NA | Rhode Island | Providence | Providence | CCRI Liston Campus ROOFTOP | 1 Hilton St, PROVIDENCE RI | Providence-Warwick, RI-MA | AQS Data Mart |\n",
       "\n"
      ],
      "text/plain": [
       "  State Code County Code Site Number Parameter Code POC Latitude Longitude\n",
       "1 44         7           22          87101          1   41.80747 -71.41297\n",
       "2 44         7           22          61107          1   41.80747 -71.41297\n",
       "3 44         7           22          62101          1   41.80747 -71.41297\n",
       "4 44         7           22          61104          1   41.80747 -71.41297\n",
       "5 44         7           22          84313          1   41.80747 -71.41297\n",
       "6 44         7           22          88101          3   41.80747 -71.41297\n",
       "  Datum Parameter Name               Duration Description ⋯ AQI\n",
       "1 NAD83 Particle Number, Total Count 1 HOUR               ⋯ .  \n",
       "2 NAD83 Std Dev Vt Wind Direction    1 HOUR               ⋯ .  \n",
       "3 NAD83 Outdoor Temperature          1 HOUR               ⋯ .  \n",
       "4 NAD83 Wind Direction - Resultant   1 HOUR               ⋯ .  \n",
       "5 NAD83 Black carbon PM2.5 STP       1 HOUR               ⋯ .  \n",
       "6 NAD83 PM2.5 - Local Conditions     24-HR BLK AVG        ⋯ 30 \n",
       "  Daily Criteria Indicator Tribe Name State Name   County Name City Name \n",
       "1 Y                        NA         Rhode Island Providence  Providence\n",
       "2 Y                        NA         Rhode Island Providence  Providence\n",
       "3 Y                        NA         Rhode Island Providence  Providence\n",
       "4 Y                        NA         Rhode Island Providence  Providence\n",
       "5 Y                        NA         Rhode Island Providence  Providence\n",
       "6 Y                        NA         Rhode Island Providence  Providence\n",
       "  Local Site Name            Address                   \n",
       "1 CCRI Liston Campus ROOFTOP 1 Hilton St, PROVIDENCE RI\n",
       "2 CCRI Liston Campus ROOFTOP 1 Hilton St, PROVIDENCE RI\n",
       "3 CCRI Liston Campus ROOFTOP 1 Hilton St, PROVIDENCE RI\n",
       "4 CCRI Liston Campus ROOFTOP 1 Hilton St, PROVIDENCE RI\n",
       "5 CCRI Liston Campus ROOFTOP 1 Hilton St, PROVIDENCE RI\n",
       "6 CCRI Liston Campus ROOFTOP 1 Hilton St, PROVIDENCE RI\n",
       "  MSA or CBSA Name          Data Source  \n",
       "1 Providence-Warwick, RI-MA AQS Data Mart\n",
       "2 Providence-Warwick, RI-MA AQS Data Mart\n",
       "3 Providence-Warwick, RI-MA AQS Data Mart\n",
       "4 Providence-Warwick, RI-MA AQS Data Mart\n",
       "5 Providence-Warwick, RI-MA AQS Data Mart\n",
       "6 Providence-Warwick, RI-MA AQS Data Mart"
      ]
     },
     "metadata": {},
     "output_type": "display_data"
    }
   ],
   "source": [
    "head(df_2022_01)"
   ]
  },
  {
   "cell_type": "markdown",
   "metadata": {},
   "source": [
    "## 3. Inspecting DataFrame Structure\n",
    "Now that we have imported the data to a DataFrame. Some questions we are curious about:\n",
    "1. Did it import correctly?\n",
    "2. What does the table look like? Number of rows? Columns?\n",
    "3. Do we need all the data we are importing?\n",
    "4. Is the data in the correct format?\n",
    "\n",
    "We can inspect the DataFrame object by looking at its **attributes** and using DataFrame **methods**.\n",
    "\n",
    "Here are useful **attributes** of the dataframe\n",
    "* `names`:  The names of the columns in the data frame\n",
    "* `row.names`:  The names of the rows in the data frame\n",
    "* `class`:  The class of the object, which is typically `data.frame` for data frames\n",
    "* `dim`: The dimensions of the dataframe\n",
    "\n",
    "Here are a few useful **methods** to inspect a dataframe:\n",
    "* `str()`: Shows a listing of the variables and thier variable types\n",
    "* `attributes()`: Shows a listing of attributes such as name, row.name, class, and dim\n",
    "* `nrow()`: Shows the length of the data frame\n",
    "* `ncol()`: Shows the number of columns in the data frame\n",
    "* `head()`: Shows the first 6 rows of the data by default, but you can specify a different number of rows\n",
    "* `tail()`: Shows the last 6 rows of the data by default, bur you can specify a different number of rows\n"
   ]
  },
  {
   "cell_type": "code",
   "execution_count": 209,
   "metadata": {},
   "outputs": [
    {
     "data": {
      "text/html": [
       "<table class=\"dataframe\">\n",
       "<caption>A tibble: 6 × 34</caption>\n",
       "<thead>\n",
       "\t<tr><th scope=col>State Code</th><th scope=col>County Code</th><th scope=col>Site Number</th><th scope=col>Parameter Code</th><th scope=col>POC</th><th scope=col>Latitude</th><th scope=col>Longitude</th><th scope=col>Datum</th><th scope=col>Parameter Name</th><th scope=col>Duration Description</th><th scope=col>⋯</th><th scope=col>AQI</th><th scope=col>Daily Criteria Indicator</th><th scope=col>Tribe Name</th><th scope=col>State Name</th><th scope=col>County Name</th><th scope=col>City Name</th><th scope=col>Local Site Name</th><th scope=col>Address</th><th scope=col>MSA or CBSA Name</th><th scope=col>Data Source</th></tr>\n",
       "\t<tr><th scope=col>&lt;dbl&gt;</th><th scope=col>&lt;dbl&gt;</th><th scope=col>&lt;dbl&gt;</th><th scope=col>&lt;dbl&gt;</th><th scope=col>&lt;dbl&gt;</th><th scope=col>&lt;dbl&gt;</th><th scope=col>&lt;dbl&gt;</th><th scope=col>&lt;chr&gt;</th><th scope=col>&lt;chr&gt;</th><th scope=col>&lt;chr&gt;</th><th scope=col>⋯</th><th scope=col>&lt;chr&gt;</th><th scope=col>&lt;chr&gt;</th><th scope=col>&lt;lgl&gt;</th><th scope=col>&lt;chr&gt;</th><th scope=col>&lt;chr&gt;</th><th scope=col>&lt;chr&gt;</th><th scope=col>&lt;chr&gt;</th><th scope=col>&lt;chr&gt;</th><th scope=col>&lt;chr&gt;</th><th scope=col>&lt;chr&gt;</th></tr>\n",
       "</thead>\n",
       "<tbody>\n",
       "\t<tr><td>44</td><td>7</td><td>22</td><td>87101</td><td>1</td><td>41.80747</td><td>-71.41297</td><td>NAD83</td><td>Particle Number, Total Count</td><td>1 HOUR       </td><td>⋯</td><td>. </td><td>Y</td><td>NA</td><td>Rhode Island</td><td>Providence</td><td>Providence</td><td>CCRI Liston Campus ROOFTOP</td><td>1 Hilton St, PROVIDENCE RI</td><td>Providence-Warwick, RI-MA</td><td>AQS Data Mart</td></tr>\n",
       "\t<tr><td>44</td><td>7</td><td>22</td><td>61107</td><td>1</td><td>41.80747</td><td>-71.41297</td><td>NAD83</td><td>Std Dev Vt Wind Direction   </td><td>1 HOUR       </td><td>⋯</td><td>. </td><td>Y</td><td>NA</td><td>Rhode Island</td><td>Providence</td><td>Providence</td><td>CCRI Liston Campus ROOFTOP</td><td>1 Hilton St, PROVIDENCE RI</td><td>Providence-Warwick, RI-MA</td><td>AQS Data Mart</td></tr>\n",
       "\t<tr><td>44</td><td>7</td><td>22</td><td>62101</td><td>1</td><td>41.80747</td><td>-71.41297</td><td>NAD83</td><td>Outdoor Temperature         </td><td>1 HOUR       </td><td>⋯</td><td>. </td><td>Y</td><td>NA</td><td>Rhode Island</td><td>Providence</td><td>Providence</td><td>CCRI Liston Campus ROOFTOP</td><td>1 Hilton St, PROVIDENCE RI</td><td>Providence-Warwick, RI-MA</td><td>AQS Data Mart</td></tr>\n",
       "\t<tr><td>44</td><td>7</td><td>22</td><td>61104</td><td>1</td><td>41.80747</td><td>-71.41297</td><td>NAD83</td><td>Wind Direction - Resultant  </td><td>1 HOUR       </td><td>⋯</td><td>. </td><td>Y</td><td>NA</td><td>Rhode Island</td><td>Providence</td><td>Providence</td><td>CCRI Liston Campus ROOFTOP</td><td>1 Hilton St, PROVIDENCE RI</td><td>Providence-Warwick, RI-MA</td><td>AQS Data Mart</td></tr>\n",
       "\t<tr><td>44</td><td>7</td><td>22</td><td>84313</td><td>1</td><td>41.80747</td><td>-71.41297</td><td>NAD83</td><td>Black carbon PM2.5 STP      </td><td>1 HOUR       </td><td>⋯</td><td>. </td><td>Y</td><td>NA</td><td>Rhode Island</td><td>Providence</td><td>Providence</td><td>CCRI Liston Campus ROOFTOP</td><td>1 Hilton St, PROVIDENCE RI</td><td>Providence-Warwick, RI-MA</td><td>AQS Data Mart</td></tr>\n",
       "\t<tr><td>44</td><td>7</td><td>22</td><td>88101</td><td>3</td><td>41.80747</td><td>-71.41297</td><td>NAD83</td><td>PM2.5 - Local Conditions    </td><td>24-HR BLK AVG</td><td>⋯</td><td>30</td><td>Y</td><td>NA</td><td>Rhode Island</td><td>Providence</td><td>Providence</td><td>CCRI Liston Campus ROOFTOP</td><td>1 Hilton St, PROVIDENCE RI</td><td>Providence-Warwick, RI-MA</td><td>AQS Data Mart</td></tr>\n",
       "</tbody>\n",
       "</table>\n"
      ],
      "text/latex": [
       "A tibble: 6 × 34\n",
       "\\begin{tabular}{lllllllllllllllllllll}\n",
       " State Code & County Code & Site Number & Parameter Code & POC & Latitude & Longitude & Datum & Parameter Name & Duration Description & ⋯ & AQI & Daily Criteria Indicator & Tribe Name & State Name & County Name & City Name & Local Site Name & Address & MSA or CBSA Name & Data Source\\\\\n",
       " <dbl> & <dbl> & <dbl> & <dbl> & <dbl> & <dbl> & <dbl> & <chr> & <chr> & <chr> & ⋯ & <chr> & <chr> & <lgl> & <chr> & <chr> & <chr> & <chr> & <chr> & <chr> & <chr>\\\\\n",
       "\\hline\n",
       "\t 44 & 7 & 22 & 87101 & 1 & 41.80747 & -71.41297 & NAD83 & Particle Number, Total Count & 1 HOUR        & ⋯ & .  & Y & NA & Rhode Island & Providence & Providence & CCRI Liston Campus ROOFTOP & 1 Hilton St, PROVIDENCE RI & Providence-Warwick, RI-MA & AQS Data Mart\\\\\n",
       "\t 44 & 7 & 22 & 61107 & 1 & 41.80747 & -71.41297 & NAD83 & Std Dev Vt Wind Direction    & 1 HOUR        & ⋯ & .  & Y & NA & Rhode Island & Providence & Providence & CCRI Liston Campus ROOFTOP & 1 Hilton St, PROVIDENCE RI & Providence-Warwick, RI-MA & AQS Data Mart\\\\\n",
       "\t 44 & 7 & 22 & 62101 & 1 & 41.80747 & -71.41297 & NAD83 & Outdoor Temperature          & 1 HOUR        & ⋯ & .  & Y & NA & Rhode Island & Providence & Providence & CCRI Liston Campus ROOFTOP & 1 Hilton St, PROVIDENCE RI & Providence-Warwick, RI-MA & AQS Data Mart\\\\\n",
       "\t 44 & 7 & 22 & 61104 & 1 & 41.80747 & -71.41297 & NAD83 & Wind Direction - Resultant   & 1 HOUR        & ⋯ & .  & Y & NA & Rhode Island & Providence & Providence & CCRI Liston Campus ROOFTOP & 1 Hilton St, PROVIDENCE RI & Providence-Warwick, RI-MA & AQS Data Mart\\\\\n",
       "\t 44 & 7 & 22 & 84313 & 1 & 41.80747 & -71.41297 & NAD83 & Black carbon PM2.5 STP       & 1 HOUR        & ⋯ & .  & Y & NA & Rhode Island & Providence & Providence & CCRI Liston Campus ROOFTOP & 1 Hilton St, PROVIDENCE RI & Providence-Warwick, RI-MA & AQS Data Mart\\\\\n",
       "\t 44 & 7 & 22 & 88101 & 3 & 41.80747 & -71.41297 & NAD83 & PM2.5 - Local Conditions     & 24-HR BLK AVG & ⋯ & 30 & Y & NA & Rhode Island & Providence & Providence & CCRI Liston Campus ROOFTOP & 1 Hilton St, PROVIDENCE RI & Providence-Warwick, RI-MA & AQS Data Mart\\\\\n",
       "\\end{tabular}\n"
      ],
      "text/markdown": [
       "\n",
       "A tibble: 6 × 34\n",
       "\n",
       "| State Code &lt;dbl&gt; | County Code &lt;dbl&gt; | Site Number &lt;dbl&gt; | Parameter Code &lt;dbl&gt; | POC &lt;dbl&gt; | Latitude &lt;dbl&gt; | Longitude &lt;dbl&gt; | Datum &lt;chr&gt; | Parameter Name &lt;chr&gt; | Duration Description &lt;chr&gt; | ⋯ ⋯ | AQI &lt;chr&gt; | Daily Criteria Indicator &lt;chr&gt; | Tribe Name &lt;lgl&gt; | State Name &lt;chr&gt; | County Name &lt;chr&gt; | City Name &lt;chr&gt; | Local Site Name &lt;chr&gt; | Address &lt;chr&gt; | MSA or CBSA Name &lt;chr&gt; | Data Source &lt;chr&gt; |\n",
       "|---|---|---|---|---|---|---|---|---|---|---|---|---|---|---|---|---|---|---|---|---|\n",
       "| 44 | 7 | 22 | 87101 | 1 | 41.80747 | -71.41297 | NAD83 | Particle Number, Total Count | 1 HOUR        | ⋯ | .  | Y | NA | Rhode Island | Providence | Providence | CCRI Liston Campus ROOFTOP | 1 Hilton St, PROVIDENCE RI | Providence-Warwick, RI-MA | AQS Data Mart |\n",
       "| 44 | 7 | 22 | 61107 | 1 | 41.80747 | -71.41297 | NAD83 | Std Dev Vt Wind Direction    | 1 HOUR        | ⋯ | .  | Y | NA | Rhode Island | Providence | Providence | CCRI Liston Campus ROOFTOP | 1 Hilton St, PROVIDENCE RI | Providence-Warwick, RI-MA | AQS Data Mart |\n",
       "| 44 | 7 | 22 | 62101 | 1 | 41.80747 | -71.41297 | NAD83 | Outdoor Temperature          | 1 HOUR        | ⋯ | .  | Y | NA | Rhode Island | Providence | Providence | CCRI Liston Campus ROOFTOP | 1 Hilton St, PROVIDENCE RI | Providence-Warwick, RI-MA | AQS Data Mart |\n",
       "| 44 | 7 | 22 | 61104 | 1 | 41.80747 | -71.41297 | NAD83 | Wind Direction - Resultant   | 1 HOUR        | ⋯ | .  | Y | NA | Rhode Island | Providence | Providence | CCRI Liston Campus ROOFTOP | 1 Hilton St, PROVIDENCE RI | Providence-Warwick, RI-MA | AQS Data Mart |\n",
       "| 44 | 7 | 22 | 84313 | 1 | 41.80747 | -71.41297 | NAD83 | Black carbon PM2.5 STP       | 1 HOUR        | ⋯ | .  | Y | NA | Rhode Island | Providence | Providence | CCRI Liston Campus ROOFTOP | 1 Hilton St, PROVIDENCE RI | Providence-Warwick, RI-MA | AQS Data Mart |\n",
       "| 44 | 7 | 22 | 88101 | 3 | 41.80747 | -71.41297 | NAD83 | PM2.5 - Local Conditions     | 24-HR BLK AVG | ⋯ | 30 | Y | NA | Rhode Island | Providence | Providence | CCRI Liston Campus ROOFTOP | 1 Hilton St, PROVIDENCE RI | Providence-Warwick, RI-MA | AQS Data Mart |\n",
       "\n"
      ],
      "text/plain": [
       "  State Code County Code Site Number Parameter Code POC Latitude Longitude\n",
       "1 44         7           22          87101          1   41.80747 -71.41297\n",
       "2 44         7           22          61107          1   41.80747 -71.41297\n",
       "3 44         7           22          62101          1   41.80747 -71.41297\n",
       "4 44         7           22          61104          1   41.80747 -71.41297\n",
       "5 44         7           22          84313          1   41.80747 -71.41297\n",
       "6 44         7           22          88101          3   41.80747 -71.41297\n",
       "  Datum Parameter Name               Duration Description ⋯ AQI\n",
       "1 NAD83 Particle Number, Total Count 1 HOUR               ⋯ .  \n",
       "2 NAD83 Std Dev Vt Wind Direction    1 HOUR               ⋯ .  \n",
       "3 NAD83 Outdoor Temperature          1 HOUR               ⋯ .  \n",
       "4 NAD83 Wind Direction - Resultant   1 HOUR               ⋯ .  \n",
       "5 NAD83 Black carbon PM2.5 STP       1 HOUR               ⋯ .  \n",
       "6 NAD83 PM2.5 - Local Conditions     24-HR BLK AVG        ⋯ 30 \n",
       "  Daily Criteria Indicator Tribe Name State Name   County Name City Name \n",
       "1 Y                        NA         Rhode Island Providence  Providence\n",
       "2 Y                        NA         Rhode Island Providence  Providence\n",
       "3 Y                        NA         Rhode Island Providence  Providence\n",
       "4 Y                        NA         Rhode Island Providence  Providence\n",
       "5 Y                        NA         Rhode Island Providence  Providence\n",
       "6 Y                        NA         Rhode Island Providence  Providence\n",
       "  Local Site Name            Address                   \n",
       "1 CCRI Liston Campus ROOFTOP 1 Hilton St, PROVIDENCE RI\n",
       "2 CCRI Liston Campus ROOFTOP 1 Hilton St, PROVIDENCE RI\n",
       "3 CCRI Liston Campus ROOFTOP 1 Hilton St, PROVIDENCE RI\n",
       "4 CCRI Liston Campus ROOFTOP 1 Hilton St, PROVIDENCE RI\n",
       "5 CCRI Liston Campus ROOFTOP 1 Hilton St, PROVIDENCE RI\n",
       "6 CCRI Liston Campus ROOFTOP 1 Hilton St, PROVIDENCE RI\n",
       "  MSA or CBSA Name          Data Source  \n",
       "1 Providence-Warwick, RI-MA AQS Data Mart\n",
       "2 Providence-Warwick, RI-MA AQS Data Mart\n",
       "3 Providence-Warwick, RI-MA AQS Data Mart\n",
       "4 Providence-Warwick, RI-MA AQS Data Mart\n",
       "5 Providence-Warwick, RI-MA AQS Data Mart\n",
       "6 Providence-Warwick, RI-MA AQS Data Mart"
      ]
     },
     "metadata": {},
     "output_type": "display_data"
    }
   ],
   "source": [
    "# Let's take a look at the head of the data frame!\n",
    "head(df_2022_01)"
   ]
  },
  {
   "cell_type": "code",
   "execution_count": 210,
   "metadata": {},
   "outputs": [
    {
     "name": "stdout",
     "output_type": "stream",
     "text": [
      "spc_tbl_ [743 × 34] (S3: spec_tbl_df/tbl_df/tbl/data.frame)\n",
      " $ State Code                : num [1:743] 44 44 44 44 44 44 44 44 44 44 ...\n",
      " $ County Code               : num [1:743] 7 7 7 7 7 7 7 7 7 7 ...\n",
      " $ Site Number               : num [1:743] 22 22 22 22 22 22 22 22 22 22 ...\n",
      " $ Parameter Code            : num [1:743] 87101 61107 62101 61104 84313 ...\n",
      " $ POC                       : num [1:743] 1 1 1 1 1 3 3 3 1 1 ...\n",
      " $ Latitude                  : num [1:743] 41.8 41.8 41.8 41.8 41.8 ...\n",
      " $ Longitude                 : num [1:743] -71.4 -71.4 -71.4 -71.4 -71.4 ...\n",
      " $ Datum                     : chr [1:743] \"NAD83\" \"NAD83\" \"NAD83\" \"NAD83\" ...\n",
      " $ Parameter Name            : chr [1:743] \"Particle Number, Total Count\" \"Std Dev Vt Wind Direction\" \"Outdoor Temperature\" \"Wind Direction - Resultant\" ...\n",
      " $ Duration Description      : chr [1:743] \"1 HOUR\" \"1 HOUR\" \"1 HOUR\" \"1 HOUR\" ...\n",
      " $ Pollutant Standard        : chr [1:743] NA NA NA NA ...\n",
      " $ Date (Local)              : Date[1:743], format: \"2022-01-01\" \"2022-01-01\" ...\n",
      " $ Year                      : num [1:743] 2022 2022 2022 2022 2022 ...\n",
      " $ Day In Year (Local)       : num [1:743] 1 1 1 1 1 1 1 1 1 2 ...\n",
      " $ Units of Measure          : chr [1:743] \"Count per cm^3\" \"Degrees Compass\" \"Degrees Fahrenheit\" \"Degrees Compass\" ...\n",
      " $ Exceptional Data Type     : logi [1:743] NA NA NA NA NA NA ...\n",
      " $ Nonreg Observation Count  : logi [1:743] NA NA NA NA NA NA ...\n",
      " $ Observation Count         : num [1:743] 24 24 24 24 24 1 1 24 24 24 ...\n",
      " $ Observation Percent       : num [1:743] 100 100 100 100 100 100 100 100 100 100 ...\n",
      " $ Nonreg Arithmetic Mean    : logi [1:743] NA NA NA NA NA NA ...\n",
      " $ Arithmetic Mean           : num [1:743] 7062.208 17.167 48.958 140.792 0.458 ...\n",
      " $ Nonreg First Maximum Value: logi [1:743] NA NA NA NA NA NA ...\n",
      " $ First Maximum Value       : num [1:743] 14300 25 54 195 1.25 7.1 7.1 38 100 0.56 ...\n",
      " $ First Maximum Hour        : num [1:743] 17 7 15 15 1 0 0 0 0 13 ...\n",
      " $ AQI                       : chr [1:743] \".\" \".\" \".\" \".\" ...\n",
      " $ Daily Criteria Indicator  : chr [1:743] \"Y\" \"Y\" \"Y\" \"Y\" ...\n",
      " $ Tribe Name                : logi [1:743] NA NA NA NA NA NA ...\n",
      " $ State Name                : chr [1:743] \"Rhode Island\" \"Rhode Island\" \"Rhode Island\" \"Rhode Island\" ...\n",
      " $ County Name               : chr [1:743] \"Providence\" \"Providence\" \"Providence\" \"Providence\" ...\n",
      " $ City Name                 : chr [1:743] \"Providence\" \"Providence\" \"Providence\" \"Providence\" ...\n",
      " $ Local Site Name           : chr [1:743] \"CCRI Liston Campus ROOFTOP\" \"CCRI Liston Campus ROOFTOP\" \"CCRI Liston Campus ROOFTOP\" \"CCRI Liston Campus ROOFTOP\" ...\n",
      " $ Address                   : chr [1:743] \"1 Hilton St, PROVIDENCE RI\" \"1 Hilton St, PROVIDENCE RI\" \"1 Hilton St, PROVIDENCE RI\" \"1 Hilton St, PROVIDENCE RI\" ...\n",
      " $ MSA or CBSA Name          : chr [1:743] \"Providence-Warwick, RI-MA\" \"Providence-Warwick, RI-MA\" \"Providence-Warwick, RI-MA\" \"Providence-Warwick, RI-MA\" ...\n",
      " $ Data Source               : chr [1:743] \"AQS Data Mart\" \"AQS Data Mart\" \"AQS Data Mart\" \"AQS Data Mart\" ...\n",
      " - attr(*, \"spec\")=\n",
      "  .. cols(\n",
      "  ..   `State Code` = \u001b[32mcol_double()\u001b[39m,\n",
      "  ..   `County Code` = \u001b[32mcol_double()\u001b[39m,\n",
      "  ..   `Site Number` = \u001b[32mcol_double()\u001b[39m,\n",
      "  ..   `Parameter Code` = \u001b[32mcol_double()\u001b[39m,\n",
      "  ..   POC = \u001b[32mcol_double()\u001b[39m,\n",
      "  ..   Latitude = \u001b[32mcol_double()\u001b[39m,\n",
      "  ..   Longitude = \u001b[32mcol_double()\u001b[39m,\n",
      "  ..   Datum = \u001b[31mcol_character()\u001b[39m,\n",
      "  ..   `Parameter Name` = \u001b[31mcol_character()\u001b[39m,\n",
      "  ..   `Duration Description` = \u001b[31mcol_character()\u001b[39m,\n",
      "  ..   `Pollutant Standard` = \u001b[31mcol_character()\u001b[39m,\n",
      "  ..   `Date (Local)` = \u001b[34mcol_date(format = \"\")\u001b[39m,\n",
      "  ..   Year = \u001b[32mcol_double()\u001b[39m,\n",
      "  ..   `Day In Year (Local)` = \u001b[32mcol_double()\u001b[39m,\n",
      "  ..   `Units of Measure` = \u001b[31mcol_character()\u001b[39m,\n",
      "  ..   `Exceptional Data Type` = \u001b[33mcol_logical()\u001b[39m,\n",
      "  ..   `Nonreg Observation Count` = \u001b[33mcol_logical()\u001b[39m,\n",
      "  ..   `Observation Count` = \u001b[32mcol_double()\u001b[39m,\n",
      "  ..   `Observation Percent` = \u001b[32mcol_double()\u001b[39m,\n",
      "  ..   `Nonreg Arithmetic Mean` = \u001b[33mcol_logical()\u001b[39m,\n",
      "  ..   `Arithmetic Mean` = \u001b[32mcol_double()\u001b[39m,\n",
      "  ..   `Nonreg First Maximum Value` = \u001b[33mcol_logical()\u001b[39m,\n",
      "  ..   `First Maximum Value` = \u001b[32mcol_double()\u001b[39m,\n",
      "  ..   `First Maximum Hour` = \u001b[32mcol_double()\u001b[39m,\n",
      "  ..   AQI = \u001b[31mcol_character()\u001b[39m,\n",
      "  ..   `Daily Criteria Indicator` = \u001b[31mcol_character()\u001b[39m,\n",
      "  ..   `Tribe Name` = \u001b[33mcol_logical()\u001b[39m,\n",
      "  ..   `State Name` = \u001b[31mcol_character()\u001b[39m,\n",
      "  ..   `County Name` = \u001b[31mcol_character()\u001b[39m,\n",
      "  ..   `City Name` = \u001b[31mcol_character()\u001b[39m,\n",
      "  ..   `Local Site Name` = \u001b[31mcol_character()\u001b[39m,\n",
      "  ..   Address = \u001b[31mcol_character()\u001b[39m,\n",
      "  ..   `MSA or CBSA Name` = \u001b[31mcol_character()\u001b[39m,\n",
      "  ..   `Data Source` = \u001b[31mcol_character()\u001b[39m\n",
      "  .. )\n",
      " - attr(*, \"problems\")=<externalptr> \n"
     ]
    }
   ],
   "source": [
    "# Let's take a look at the variables and thier variable types\n",
    "str(df_2022_01)"
   ]
  },
  {
   "cell_type": "markdown",
   "metadata": {},
   "source": [
    "<div class=\"alert alert-block alert-info\">\n",
    "Some observations:\n",
    "\n",
    "This is a *long format* dataframe. Each row is composed of a date-parameter pair. See below, there are multiple parameters associated with the same date.\n",
    "\n",
    "A *wide format* dataframe would have each row as a single date and measurements for each parameter would be in individual columns.\n",
    "</div>\n",
    "\n"
   ]
  },
  {
   "cell_type": "code",
   "execution_count": 211,
   "metadata": {},
   "outputs": [
    {
     "data": {
      "text/html": [
       "<table class=\"dataframe\">\n",
       "<caption>A tibble: 6 × 3</caption>\n",
       "<thead>\n",
       "\t<tr><th scope=col>Parameter Name</th><th scope=col>Date (Local)</th><th scope=col>Observation Count</th></tr>\n",
       "\t<tr><th scope=col>&lt;chr&gt;</th><th scope=col>&lt;date&gt;</th><th scope=col>&lt;dbl&gt;</th></tr>\n",
       "</thead>\n",
       "<tbody>\n",
       "\t<tr><td>Particle Number, Total Count</td><td>2022-01-01</td><td>24</td></tr>\n",
       "\t<tr><td>Std Dev Vt Wind Direction   </td><td>2022-01-01</td><td>24</td></tr>\n",
       "\t<tr><td>Outdoor Temperature         </td><td>2022-01-01</td><td>24</td></tr>\n",
       "\t<tr><td>Wind Direction - Resultant  </td><td>2022-01-01</td><td>24</td></tr>\n",
       "\t<tr><td>Black carbon PM2.5 STP      </td><td>2022-01-01</td><td>24</td></tr>\n",
       "\t<tr><td>PM2.5 - Local Conditions    </td><td>2022-01-01</td><td> 1</td></tr>\n",
       "</tbody>\n",
       "</table>\n"
      ],
      "text/latex": [
       "A tibble: 6 × 3\n",
       "\\begin{tabular}{lll}\n",
       " Parameter Name & Date (Local) & Observation Count\\\\\n",
       " <chr> & <date> & <dbl>\\\\\n",
       "\\hline\n",
       "\t Particle Number, Total Count & 2022-01-01 & 24\\\\\n",
       "\t Std Dev Vt Wind Direction    & 2022-01-01 & 24\\\\\n",
       "\t Outdoor Temperature          & 2022-01-01 & 24\\\\\n",
       "\t Wind Direction - Resultant   & 2022-01-01 & 24\\\\\n",
       "\t Black carbon PM2.5 STP       & 2022-01-01 & 24\\\\\n",
       "\t PM2.5 - Local Conditions     & 2022-01-01 &  1\\\\\n",
       "\\end{tabular}\n"
      ],
      "text/markdown": [
       "\n",
       "A tibble: 6 × 3\n",
       "\n",
       "| Parameter Name &lt;chr&gt; | Date (Local) &lt;date&gt; | Observation Count &lt;dbl&gt; |\n",
       "|---|---|---|\n",
       "| Particle Number, Total Count | 2022-01-01 | 24 |\n",
       "| Std Dev Vt Wind Direction    | 2022-01-01 | 24 |\n",
       "| Outdoor Temperature          | 2022-01-01 | 24 |\n",
       "| Wind Direction - Resultant   | 2022-01-01 | 24 |\n",
       "| Black carbon PM2.5 STP       | 2022-01-01 | 24 |\n",
       "| PM2.5 - Local Conditions     | 2022-01-01 |  1 |\n",
       "\n"
      ],
      "text/plain": [
       "  Parameter Name               Date (Local) Observation Count\n",
       "1 Particle Number, Total Count 2022-01-01   24               \n",
       "2 Std Dev Vt Wind Direction    2022-01-01   24               \n",
       "3 Outdoor Temperature          2022-01-01   24               \n",
       "4 Wind Direction - Resultant   2022-01-01   24               \n",
       "5 Black carbon PM2.5 STP       2022-01-01   24               \n",
       "6 PM2.5 - Local Conditions     2022-01-01    1               "
      ]
     },
     "metadata": {},
     "output_type": "display_data"
    }
   ],
   "source": [
    "# Highlighting the long format by filtering the columns and getting the head of the data frame\n",
    "long_data <- df_2022_01 %>% \n",
    "    select(\"Parameter Name\", \"Date (Local)\", \"Observation Count\") %>%\n",
    "    head()\n",
    "\n",
    "long_data"
   ]
  },
  {
   "cell_type": "code",
   "execution_count": 212,
   "metadata": {},
   "outputs": [
    {
     "data": {
      "text/html": [
       "<table class=\"dataframe\">\n",
       "<caption>A tibble: 1 × 7</caption>\n",
       "<thead>\n",
       "\t<tr><th scope=col>Date (Local)</th><th scope=col>Particle Number, Total Count</th><th scope=col>Std Dev Vt Wind Direction</th><th scope=col>Outdoor Temperature</th><th scope=col>Wind Direction - Resultant</th><th scope=col>Black carbon PM2.5 STP</th><th scope=col>PM2.5 - Local Conditions</th></tr>\n",
       "\t<tr><th scope=col>&lt;date&gt;</th><th scope=col>&lt;dbl&gt;</th><th scope=col>&lt;dbl&gt;</th><th scope=col>&lt;dbl&gt;</th><th scope=col>&lt;dbl&gt;</th><th scope=col>&lt;dbl&gt;</th><th scope=col>&lt;dbl&gt;</th></tr>\n",
       "</thead>\n",
       "<tbody>\n",
       "\t<tr><td>2022-01-01</td><td>24</td><td>24</td><td>24</td><td>24</td><td>24</td><td>1</td></tr>\n",
       "</tbody>\n",
       "</table>\n"
      ],
      "text/latex": [
       "A tibble: 1 × 7\n",
       "\\begin{tabular}{lllllll}\n",
       " Date (Local) & Particle Number, Total Count & Std Dev Vt Wind Direction & Outdoor Temperature & Wind Direction - Resultant & Black carbon PM2.5 STP & PM2.5 - Local Conditions\\\\\n",
       " <date> & <dbl> & <dbl> & <dbl> & <dbl> & <dbl> & <dbl>\\\\\n",
       "\\hline\n",
       "\t 2022-01-01 & 24 & 24 & 24 & 24 & 24 & 1\\\\\n",
       "\\end{tabular}\n"
      ],
      "text/markdown": [
       "\n",
       "A tibble: 1 × 7\n",
       "\n",
       "| Date (Local) &lt;date&gt; | Particle Number, Total Count &lt;dbl&gt; | Std Dev Vt Wind Direction &lt;dbl&gt; | Outdoor Temperature &lt;dbl&gt; | Wind Direction - Resultant &lt;dbl&gt; | Black carbon PM2.5 STP &lt;dbl&gt; | PM2.5 - Local Conditions &lt;dbl&gt; |\n",
       "|---|---|---|---|---|---|---|\n",
       "| 2022-01-01 | 24 | 24 | 24 | 24 | 24 | 1 |\n",
       "\n"
      ],
      "text/plain": [
       "  Date (Local) Particle Number, Total Count Std Dev Vt Wind Direction\n",
       "1 2022-01-01   24                           24                       \n",
       "  Outdoor Temperature Wind Direction - Resultant Black carbon PM2.5 STP\n",
       "1 24                  24                         24                    \n",
       "  PM2.5 - Local Conditions\n",
       "1 1                       "
      ]
     },
     "metadata": {},
     "output_type": "display_data"
    }
   ],
   "source": [
    "# This is what it would look like as wide data wherein each row is a single date and the measurement for each parameter is in individual columns\n",
    "pivot_wider(long_data, names_from = \"Parameter Name\", values_from = \"Observation Count\")"
   ]
  },
  {
   "cell_type": "code",
   "execution_count": 213,
   "metadata": {},
   "outputs": [
    {
     "data": {
      "text/html": [
       "<table class=\"dataframe\">\n",
       "<caption>A tibble: 6 × 34</caption>\n",
       "<thead>\n",
       "\t<tr><th scope=col>State Code</th><th scope=col>County Code</th><th scope=col>Site Number</th><th scope=col>Parameter Code</th><th scope=col>POC</th><th scope=col>Latitude</th><th scope=col>Longitude</th><th scope=col>Datum</th><th scope=col>Parameter Name</th><th scope=col>Duration Description</th><th scope=col>⋯</th><th scope=col>AQI</th><th scope=col>Daily Criteria Indicator</th><th scope=col>Tribe Name</th><th scope=col>State Name</th><th scope=col>County Name</th><th scope=col>City Name</th><th scope=col>Local Site Name</th><th scope=col>Address</th><th scope=col>MSA or CBSA Name</th><th scope=col>Data Source</th></tr>\n",
       "\t<tr><th scope=col>&lt;dbl&gt;</th><th scope=col>&lt;dbl&gt;</th><th scope=col>&lt;dbl&gt;</th><th scope=col>&lt;dbl&gt;</th><th scope=col>&lt;dbl&gt;</th><th scope=col>&lt;dbl&gt;</th><th scope=col>&lt;dbl&gt;</th><th scope=col>&lt;chr&gt;</th><th scope=col>&lt;chr&gt;</th><th scope=col>&lt;chr&gt;</th><th scope=col>⋯</th><th scope=col>&lt;chr&gt;</th><th scope=col>&lt;chr&gt;</th><th scope=col>&lt;lgl&gt;</th><th scope=col>&lt;chr&gt;</th><th scope=col>&lt;chr&gt;</th><th scope=col>&lt;chr&gt;</th><th scope=col>&lt;chr&gt;</th><th scope=col>&lt;chr&gt;</th><th scope=col>&lt;chr&gt;</th><th scope=col>&lt;chr&gt;</th></tr>\n",
       "</thead>\n",
       "<tbody>\n",
       "\t<tr><td>44</td><td>7</td><td>22</td><td>88101</td><td>3</td><td>41.80747</td><td>-71.41297</td><td>NAD83</td><td>PM2.5 - Local Conditions  </td><td>24-HR BLK AVG</td><td>⋯</td><td>57</td><td>Y</td><td>NA</td><td>Rhode Island</td><td>Providence</td><td>Providence</td><td>CCRI Liston Campus ROOFTOP</td><td>1 Hilton St, PROVIDENCE RI</td><td>Providence-Warwick, RI-MA</td><td>AQS Data Mart</td></tr>\n",
       "\t<tr><td>44</td><td>7</td><td>22</td><td>62201</td><td>1</td><td>41.80747</td><td>-71.41297</td><td>NAD83</td><td>Relative Humidity         </td><td>1 HOUR       </td><td>⋯</td><td>. </td><td>Y</td><td>NA</td><td>Rhode Island</td><td>Providence</td><td>Providence</td><td>CCRI Liston Campus ROOFTOP</td><td>1 Hilton St, PROVIDENCE RI</td><td>Providence-Warwick, RI-MA</td><td>AQS Data Mart</td></tr>\n",
       "\t<tr><td>44</td><td>7</td><td>22</td><td>84313</td><td>1</td><td>41.80747</td><td>-71.41297</td><td>NAD83</td><td>Black carbon PM2.5 STP    </td><td>1 HOUR       </td><td>⋯</td><td>. </td><td>Y</td><td>NA</td><td>Rhode Island</td><td>Providence</td><td>Providence</td><td>CCRI Liston Campus ROOFTOP</td><td>1 Hilton St, PROVIDENCE RI</td><td>Providence-Warwick, RI-MA</td><td>AQS Data Mart</td></tr>\n",
       "\t<tr><td>44</td><td>7</td><td>22</td><td>61107</td><td>1</td><td>41.80747</td><td>-71.41297</td><td>NAD83</td><td>Std Dev Vt Wind Direction </td><td>1 HOUR       </td><td>⋯</td><td>. </td><td>Y</td><td>NA</td><td>Rhode Island</td><td>Providence</td><td>Providence</td><td>CCRI Liston Campus ROOFTOP</td><td>1 Hilton St, PROVIDENCE RI</td><td>Providence-Warwick, RI-MA</td><td>AQS Data Mart</td></tr>\n",
       "\t<tr><td>44</td><td>7</td><td>22</td><td>61103</td><td>1</td><td>41.80747</td><td>-71.41297</td><td>NAD83</td><td>Wind Speed - Resultant    </td><td>1 HOUR       </td><td>⋯</td><td>. </td><td>Y</td><td>NA</td><td>Rhode Island</td><td>Providence</td><td>Providence</td><td>CCRI Liston Campus ROOFTOP</td><td>1 Hilton St, PROVIDENCE RI</td><td>Providence-Warwick, RI-MA</td><td>AQS Data Mart</td></tr>\n",
       "\t<tr><td>44</td><td>7</td><td>22</td><td>61104</td><td>1</td><td>41.80747</td><td>-71.41297</td><td>NAD83</td><td>Wind Direction - Resultant</td><td>1 HOUR       </td><td>⋯</td><td>. </td><td>Y</td><td>NA</td><td>Rhode Island</td><td>Providence</td><td>Providence</td><td>CCRI Liston Campus ROOFTOP</td><td>1 Hilton St, PROVIDENCE RI</td><td>Providence-Warwick, RI-MA</td><td>AQS Data Mart</td></tr>\n",
       "</tbody>\n",
       "</table>\n"
      ],
      "text/latex": [
       "A tibble: 6 × 34\n",
       "\\begin{tabular}{lllllllllllllllllllll}\n",
       " State Code & County Code & Site Number & Parameter Code & POC & Latitude & Longitude & Datum & Parameter Name & Duration Description & ⋯ & AQI & Daily Criteria Indicator & Tribe Name & State Name & County Name & City Name & Local Site Name & Address & MSA or CBSA Name & Data Source\\\\\n",
       " <dbl> & <dbl> & <dbl> & <dbl> & <dbl> & <dbl> & <dbl> & <chr> & <chr> & <chr> & ⋯ & <chr> & <chr> & <lgl> & <chr> & <chr> & <chr> & <chr> & <chr> & <chr> & <chr>\\\\\n",
       "\\hline\n",
       "\t 44 & 7 & 22 & 88101 & 3 & 41.80747 & -71.41297 & NAD83 & PM2.5 - Local Conditions   & 24-HR BLK AVG & ⋯ & 57 & Y & NA & Rhode Island & Providence & Providence & CCRI Liston Campus ROOFTOP & 1 Hilton St, PROVIDENCE RI & Providence-Warwick, RI-MA & AQS Data Mart\\\\\n",
       "\t 44 & 7 & 22 & 62201 & 1 & 41.80747 & -71.41297 & NAD83 & Relative Humidity          & 1 HOUR        & ⋯ & .  & Y & NA & Rhode Island & Providence & Providence & CCRI Liston Campus ROOFTOP & 1 Hilton St, PROVIDENCE RI & Providence-Warwick, RI-MA & AQS Data Mart\\\\\n",
       "\t 44 & 7 & 22 & 84313 & 1 & 41.80747 & -71.41297 & NAD83 & Black carbon PM2.5 STP     & 1 HOUR        & ⋯ & .  & Y & NA & Rhode Island & Providence & Providence & CCRI Liston Campus ROOFTOP & 1 Hilton St, PROVIDENCE RI & Providence-Warwick, RI-MA & AQS Data Mart\\\\\n",
       "\t 44 & 7 & 22 & 61107 & 1 & 41.80747 & -71.41297 & NAD83 & Std Dev Vt Wind Direction  & 1 HOUR        & ⋯ & .  & Y & NA & Rhode Island & Providence & Providence & CCRI Liston Campus ROOFTOP & 1 Hilton St, PROVIDENCE RI & Providence-Warwick, RI-MA & AQS Data Mart\\\\\n",
       "\t 44 & 7 & 22 & 61103 & 1 & 41.80747 & -71.41297 & NAD83 & Wind Speed - Resultant     & 1 HOUR        & ⋯ & .  & Y & NA & Rhode Island & Providence & Providence & CCRI Liston Campus ROOFTOP & 1 Hilton St, PROVIDENCE RI & Providence-Warwick, RI-MA & AQS Data Mart\\\\\n",
       "\t 44 & 7 & 22 & 61104 & 1 & 41.80747 & -71.41297 & NAD83 & Wind Direction - Resultant & 1 HOUR        & ⋯ & .  & Y & NA & Rhode Island & Providence & Providence & CCRI Liston Campus ROOFTOP & 1 Hilton St, PROVIDENCE RI & Providence-Warwick, RI-MA & AQS Data Mart\\\\\n",
       "\\end{tabular}\n"
      ],
      "text/markdown": [
       "\n",
       "A tibble: 6 × 34\n",
       "\n",
       "| State Code &lt;dbl&gt; | County Code &lt;dbl&gt; | Site Number &lt;dbl&gt; | Parameter Code &lt;dbl&gt; | POC &lt;dbl&gt; | Latitude &lt;dbl&gt; | Longitude &lt;dbl&gt; | Datum &lt;chr&gt; | Parameter Name &lt;chr&gt; | Duration Description &lt;chr&gt; | ⋯ ⋯ | AQI &lt;chr&gt; | Daily Criteria Indicator &lt;chr&gt; | Tribe Name &lt;lgl&gt; | State Name &lt;chr&gt; | County Name &lt;chr&gt; | City Name &lt;chr&gt; | Local Site Name &lt;chr&gt; | Address &lt;chr&gt; | MSA or CBSA Name &lt;chr&gt; | Data Source &lt;chr&gt; |\n",
       "|---|---|---|---|---|---|---|---|---|---|---|---|---|---|---|---|---|---|---|---|---|\n",
       "| 44 | 7 | 22 | 88101 | 3 | 41.80747 | -71.41297 | NAD83 | PM2.5 - Local Conditions   | 24-HR BLK AVG | ⋯ | 57 | Y | NA | Rhode Island | Providence | Providence | CCRI Liston Campus ROOFTOP | 1 Hilton St, PROVIDENCE RI | Providence-Warwick, RI-MA | AQS Data Mart |\n",
       "| 44 | 7 | 22 | 62201 | 1 | 41.80747 | -71.41297 | NAD83 | Relative Humidity          | 1 HOUR        | ⋯ | .  | Y | NA | Rhode Island | Providence | Providence | CCRI Liston Campus ROOFTOP | 1 Hilton St, PROVIDENCE RI | Providence-Warwick, RI-MA | AQS Data Mart |\n",
       "| 44 | 7 | 22 | 84313 | 1 | 41.80747 | -71.41297 | NAD83 | Black carbon PM2.5 STP     | 1 HOUR        | ⋯ | .  | Y | NA | Rhode Island | Providence | Providence | CCRI Liston Campus ROOFTOP | 1 Hilton St, PROVIDENCE RI | Providence-Warwick, RI-MA | AQS Data Mart |\n",
       "| 44 | 7 | 22 | 61107 | 1 | 41.80747 | -71.41297 | NAD83 | Std Dev Vt Wind Direction  | 1 HOUR        | ⋯ | .  | Y | NA | Rhode Island | Providence | Providence | CCRI Liston Campus ROOFTOP | 1 Hilton St, PROVIDENCE RI | Providence-Warwick, RI-MA | AQS Data Mart |\n",
       "| 44 | 7 | 22 | 61103 | 1 | 41.80747 | -71.41297 | NAD83 | Wind Speed - Resultant     | 1 HOUR        | ⋯ | .  | Y | NA | Rhode Island | Providence | Providence | CCRI Liston Campus ROOFTOP | 1 Hilton St, PROVIDENCE RI | Providence-Warwick, RI-MA | AQS Data Mart |\n",
       "| 44 | 7 | 22 | 61104 | 1 | 41.80747 | -71.41297 | NAD83 | Wind Direction - Resultant | 1 HOUR        | ⋯ | .  | Y | NA | Rhode Island | Providence | Providence | CCRI Liston Campus ROOFTOP | 1 Hilton St, PROVIDENCE RI | Providence-Warwick, RI-MA | AQS Data Mart |\n",
       "\n"
      ],
      "text/plain": [
       "  State Code County Code Site Number Parameter Code POC Latitude Longitude\n",
       "1 44         7           22          88101          3   41.80747 -71.41297\n",
       "2 44         7           22          62201          1   41.80747 -71.41297\n",
       "3 44         7           22          84313          1   41.80747 -71.41297\n",
       "4 44         7           22          61107          1   41.80747 -71.41297\n",
       "5 44         7           22          61103          1   41.80747 -71.41297\n",
       "6 44         7           22          61104          1   41.80747 -71.41297\n",
       "  Datum Parameter Name             Duration Description ⋯ AQI\n",
       "1 NAD83 PM2.5 - Local Conditions   24-HR BLK AVG        ⋯ 57 \n",
       "2 NAD83 Relative Humidity          1 HOUR               ⋯ .  \n",
       "3 NAD83 Black carbon PM2.5 STP     1 HOUR               ⋯ .  \n",
       "4 NAD83 Std Dev Vt Wind Direction  1 HOUR               ⋯ .  \n",
       "5 NAD83 Wind Speed - Resultant     1 HOUR               ⋯ .  \n",
       "6 NAD83 Wind Direction - Resultant 1 HOUR               ⋯ .  \n",
       "  Daily Criteria Indicator Tribe Name State Name   County Name City Name \n",
       "1 Y                        NA         Rhode Island Providence  Providence\n",
       "2 Y                        NA         Rhode Island Providence  Providence\n",
       "3 Y                        NA         Rhode Island Providence  Providence\n",
       "4 Y                        NA         Rhode Island Providence  Providence\n",
       "5 Y                        NA         Rhode Island Providence  Providence\n",
       "6 Y                        NA         Rhode Island Providence  Providence\n",
       "  Local Site Name            Address                   \n",
       "1 CCRI Liston Campus ROOFTOP 1 Hilton St, PROVIDENCE RI\n",
       "2 CCRI Liston Campus ROOFTOP 1 Hilton St, PROVIDENCE RI\n",
       "3 CCRI Liston Campus ROOFTOP 1 Hilton St, PROVIDENCE RI\n",
       "4 CCRI Liston Campus ROOFTOP 1 Hilton St, PROVIDENCE RI\n",
       "5 CCRI Liston Campus ROOFTOP 1 Hilton St, PROVIDENCE RI\n",
       "6 CCRI Liston Campus ROOFTOP 1 Hilton St, PROVIDENCE RI\n",
       "  MSA or CBSA Name          Data Source  \n",
       "1 Providence-Warwick, RI-MA AQS Data Mart\n",
       "2 Providence-Warwick, RI-MA AQS Data Mart\n",
       "3 Providence-Warwick, RI-MA AQS Data Mart\n",
       "4 Providence-Warwick, RI-MA AQS Data Mart\n",
       "5 Providence-Warwick, RI-MA AQS Data Mart\n",
       "6 Providence-Warwick, RI-MA AQS Data Mart"
      ]
     },
     "metadata": {},
     "output_type": "display_data"
    }
   ],
   "source": [
    "# Onwards to looking at the tail of the data\n",
    "tail(df_2022_01)"
   ]
  },
  {
   "cell_type": "code",
   "execution_count": 214,
   "metadata": {},
   "outputs": [
    {
     "data": {
      "text/html": [
       "<style>\n",
       ".list-inline {list-style: none; margin:0; padding: 0}\n",
       ".list-inline>li {display: inline-block}\n",
       ".list-inline>li:not(:last-child)::after {content: \"\\00b7\"; padding: 0 .5ex}\n",
       "</style>\n",
       "<ol class=list-inline><li>743</li><li>34</li></ol>\n"
      ],
      "text/latex": [
       "\\begin{enumerate*}\n",
       "\\item 743\n",
       "\\item 34\n",
       "\\end{enumerate*}\n"
      ],
      "text/markdown": [
       "1. 743\n",
       "2. 34\n",
       "\n",
       "\n"
      ],
      "text/plain": [
       "[1] 743  34"
      ]
     },
     "metadata": {},
     "output_type": "display_data"
    }
   ],
   "source": [
    "# Let's get the dimensions\n",
    "dim(df_2022_01)"
   ]
  },
  {
   "cell_type": "code",
   "execution_count": 215,
   "metadata": {},
   "outputs": [
    {
     "data": {
      "text/html": [
       "<style>\n",
       ".list-inline {list-style: none; margin:0; padding: 0}\n",
       ".list-inline>li {display: inline-block}\n",
       ".list-inline>li:not(:last-child)::after {content: \"\\00b7\"; padding: 0 .5ex}\n",
       "</style>\n",
       "<ol class=list-inline><li>'State Code'</li><li>'County Code'</li><li>'Site Number'</li><li>'Parameter Code'</li><li>'POC'</li><li>'Latitude'</li><li>'Longitude'</li><li>'Datum'</li><li>'Parameter Name'</li><li>'Duration Description'</li><li>'Pollutant Standard'</li><li>'Date (Local)'</li><li>'Year'</li><li>'Day In Year (Local)'</li><li>'Units of Measure'</li><li>'Exceptional Data Type'</li><li>'Nonreg Observation Count'</li><li>'Observation Count'</li><li>'Observation Percent'</li><li>'Nonreg Arithmetic Mean'</li><li>'Arithmetic Mean'</li><li>'Nonreg First Maximum Value'</li><li>'First Maximum Value'</li><li>'First Maximum Hour'</li><li>'AQI'</li><li>'Daily Criteria Indicator'</li><li>'Tribe Name'</li><li>'State Name'</li><li>'County Name'</li><li>'City Name'</li><li>'Local Site Name'</li><li>'Address'</li><li>'MSA or CBSA Name'</li><li>'Data Source'</li></ol>\n"
      ],
      "text/latex": [
       "\\begin{enumerate*}\n",
       "\\item 'State Code'\n",
       "\\item 'County Code'\n",
       "\\item 'Site Number'\n",
       "\\item 'Parameter Code'\n",
       "\\item 'POC'\n",
       "\\item 'Latitude'\n",
       "\\item 'Longitude'\n",
       "\\item 'Datum'\n",
       "\\item 'Parameter Name'\n",
       "\\item 'Duration Description'\n",
       "\\item 'Pollutant Standard'\n",
       "\\item 'Date (Local)'\n",
       "\\item 'Year'\n",
       "\\item 'Day In Year (Local)'\n",
       "\\item 'Units of Measure'\n",
       "\\item 'Exceptional Data Type'\n",
       "\\item 'Nonreg Observation Count'\n",
       "\\item 'Observation Count'\n",
       "\\item 'Observation Percent'\n",
       "\\item 'Nonreg Arithmetic Mean'\n",
       "\\item 'Arithmetic Mean'\n",
       "\\item 'Nonreg First Maximum Value'\n",
       "\\item 'First Maximum Value'\n",
       "\\item 'First Maximum Hour'\n",
       "\\item 'AQI'\n",
       "\\item 'Daily Criteria Indicator'\n",
       "\\item 'Tribe Name'\n",
       "\\item 'State Name'\n",
       "\\item 'County Name'\n",
       "\\item 'City Name'\n",
       "\\item 'Local Site Name'\n",
       "\\item 'Address'\n",
       "\\item 'MSA or CBSA Name'\n",
       "\\item 'Data Source'\n",
       "\\end{enumerate*}\n"
      ],
      "text/markdown": [
       "1. 'State Code'\n",
       "2. 'County Code'\n",
       "3. 'Site Number'\n",
       "4. 'Parameter Code'\n",
       "5. 'POC'\n",
       "6. 'Latitude'\n",
       "7. 'Longitude'\n",
       "8. 'Datum'\n",
       "9. 'Parameter Name'\n",
       "10. 'Duration Description'\n",
       "11. 'Pollutant Standard'\n",
       "12. 'Date (Local)'\n",
       "13. 'Year'\n",
       "14. 'Day In Year (Local)'\n",
       "15. 'Units of Measure'\n",
       "16. 'Exceptional Data Type'\n",
       "17. 'Nonreg Observation Count'\n",
       "18. 'Observation Count'\n",
       "19. 'Observation Percent'\n",
       "20. 'Nonreg Arithmetic Mean'\n",
       "21. 'Arithmetic Mean'\n",
       "22. 'Nonreg First Maximum Value'\n",
       "23. 'First Maximum Value'\n",
       "24. 'First Maximum Hour'\n",
       "25. 'AQI'\n",
       "26. 'Daily Criteria Indicator'\n",
       "27. 'Tribe Name'\n",
       "28. 'State Name'\n",
       "29. 'County Name'\n",
       "30. 'City Name'\n",
       "31. 'Local Site Name'\n",
       "32. 'Address'\n",
       "33. 'MSA or CBSA Name'\n",
       "34. 'Data Source'\n",
       "\n",
       "\n"
      ],
      "text/plain": [
       " [1] \"State Code\"                 \"County Code\"               \n",
       " [3] \"Site Number\"                \"Parameter Code\"            \n",
       " [5] \"POC\"                        \"Latitude\"                  \n",
       " [7] \"Longitude\"                  \"Datum\"                     \n",
       " [9] \"Parameter Name\"             \"Duration Description\"      \n",
       "[11] \"Pollutant Standard\"         \"Date (Local)\"              \n",
       "[13] \"Year\"                       \"Day In Year (Local)\"       \n",
       "[15] \"Units of Measure\"           \"Exceptional Data Type\"     \n",
       "[17] \"Nonreg Observation Count\"   \"Observation Count\"         \n",
       "[19] \"Observation Percent\"        \"Nonreg Arithmetic Mean\"    \n",
       "[21] \"Arithmetic Mean\"            \"Nonreg First Maximum Value\"\n",
       "[23] \"First Maximum Value\"        \"First Maximum Hour\"        \n",
       "[25] \"AQI\"                        \"Daily Criteria Indicator\"  \n",
       "[27] \"Tribe Name\"                 \"State Name\"                \n",
       "[29] \"County Name\"                \"City Name\"                 \n",
       "[31] \"Local Site Name\"            \"Address\"                   \n",
       "[33] \"MSA or CBSA Name\"           \"Data Source\"               "
      ]
     },
     "metadata": {},
     "output_type": "display_data"
    }
   ],
   "source": [
    "# Column names\n",
    "names(df_2022_01)"
   ]
  },
  {
   "cell_type": "code",
   "execution_count": 216,
   "metadata": {},
   "outputs": [
    {
     "data": {
      "text/html": [
       "<table class=\"dataframe\">\n",
       "<caption>A tibble: 5 × 14</caption>\n",
       "<thead>\n",
       "\t<tr><th scope=col>State Code</th><th scope=col>County Code</th><th scope=col>Site Number</th><th scope=col>Parameter Code</th><th scope=col>POC</th><th scope=col>Latitude</th><th scope=col>Longitude</th><th scope=col>Year</th><th scope=col>Day In Year (Local)</th><th scope=col>Observation Count</th><th scope=col>Observation Percent</th><th scope=col>Arithmetic Mean</th><th scope=col>First Maximum Value</th><th scope=col>First Maximum Hour</th></tr>\n",
       "\t<tr><th scope=col>&lt;dbl&gt;</th><th scope=col>&lt;dbl&gt;</th><th scope=col>&lt;dbl&gt;</th><th scope=col>&lt;dbl&gt;</th><th scope=col>&lt;dbl&gt;</th><th scope=col>&lt;dbl&gt;</th><th scope=col>&lt;dbl&gt;</th><th scope=col>&lt;dbl&gt;</th><th scope=col>&lt;dbl&gt;</th><th scope=col>&lt;dbl&gt;</th><th scope=col>&lt;dbl&gt;</th><th scope=col>&lt;dbl&gt;</th><th scope=col>&lt;dbl&gt;</th><th scope=col>&lt;dbl&gt;</th></tr>\n",
       "</thead>\n",
       "<tbody>\n",
       "\t<tr><td>44</td><td>7</td><td>22</td><td>87101</td><td>1</td><td>41.80747</td><td>-71.41297</td><td>2022</td><td>1</td><td>24</td><td>100</td><td>7062.208333</td><td>14300.00</td><td>17</td></tr>\n",
       "\t<tr><td>44</td><td>7</td><td>22</td><td>61107</td><td>1</td><td>41.80747</td><td>-71.41297</td><td>2022</td><td>1</td><td>24</td><td>100</td><td>  17.166667</td><td>   25.00</td><td> 7</td></tr>\n",
       "\t<tr><td>44</td><td>7</td><td>22</td><td>62101</td><td>1</td><td>41.80747</td><td>-71.41297</td><td>2022</td><td>1</td><td>24</td><td>100</td><td>  48.958333</td><td>   54.00</td><td>15</td></tr>\n",
       "\t<tr><td>44</td><td>7</td><td>22</td><td>61104</td><td>1</td><td>41.80747</td><td>-71.41297</td><td>2022</td><td>1</td><td>24</td><td>100</td><td> 140.791667</td><td>  195.00</td><td>15</td></tr>\n",
       "\t<tr><td>44</td><td>7</td><td>22</td><td>84313</td><td>1</td><td>41.80747</td><td>-71.41297</td><td>2022</td><td>1</td><td>24</td><td>100</td><td>   0.458333</td><td>    1.25</td><td> 1</td></tr>\n",
       "</tbody>\n",
       "</table>\n"
      ],
      "text/latex": [
       "A tibble: 5 × 14\n",
       "\\begin{tabular}{llllllllllllll}\n",
       " State Code & County Code & Site Number & Parameter Code & POC & Latitude & Longitude & Year & Day In Year (Local) & Observation Count & Observation Percent & Arithmetic Mean & First Maximum Value & First Maximum Hour\\\\\n",
       " <dbl> & <dbl> & <dbl> & <dbl> & <dbl> & <dbl> & <dbl> & <dbl> & <dbl> & <dbl> & <dbl> & <dbl> & <dbl> & <dbl>\\\\\n",
       "\\hline\n",
       "\t 44 & 7 & 22 & 87101 & 1 & 41.80747 & -71.41297 & 2022 & 1 & 24 & 100 & 7062.208333 & 14300.00 & 17\\\\\n",
       "\t 44 & 7 & 22 & 61107 & 1 & 41.80747 & -71.41297 & 2022 & 1 & 24 & 100 &   17.166667 &    25.00 &  7\\\\\n",
       "\t 44 & 7 & 22 & 62101 & 1 & 41.80747 & -71.41297 & 2022 & 1 & 24 & 100 &   48.958333 &    54.00 & 15\\\\\n",
       "\t 44 & 7 & 22 & 61104 & 1 & 41.80747 & -71.41297 & 2022 & 1 & 24 & 100 &  140.791667 &   195.00 & 15\\\\\n",
       "\t 44 & 7 & 22 & 84313 & 1 & 41.80747 & -71.41297 & 2022 & 1 & 24 & 100 &    0.458333 &     1.25 &  1\\\\\n",
       "\\end{tabular}\n"
      ],
      "text/markdown": [
       "\n",
       "A tibble: 5 × 14\n",
       "\n",
       "| State Code &lt;dbl&gt; | County Code &lt;dbl&gt; | Site Number &lt;dbl&gt; | Parameter Code &lt;dbl&gt; | POC &lt;dbl&gt; | Latitude &lt;dbl&gt; | Longitude &lt;dbl&gt; | Year &lt;dbl&gt; | Day In Year (Local) &lt;dbl&gt; | Observation Count &lt;dbl&gt; | Observation Percent &lt;dbl&gt; | Arithmetic Mean &lt;dbl&gt; | First Maximum Value &lt;dbl&gt; | First Maximum Hour &lt;dbl&gt; |\n",
       "|---|---|---|---|---|---|---|---|---|---|---|---|---|---|\n",
       "| 44 | 7 | 22 | 87101 | 1 | 41.80747 | -71.41297 | 2022 | 1 | 24 | 100 | 7062.208333 | 14300.00 | 17 |\n",
       "| 44 | 7 | 22 | 61107 | 1 | 41.80747 | -71.41297 | 2022 | 1 | 24 | 100 |   17.166667 |    25.00 |  7 |\n",
       "| 44 | 7 | 22 | 62101 | 1 | 41.80747 | -71.41297 | 2022 | 1 | 24 | 100 |   48.958333 |    54.00 | 15 |\n",
       "| 44 | 7 | 22 | 61104 | 1 | 41.80747 | -71.41297 | 2022 | 1 | 24 | 100 |  140.791667 |   195.00 | 15 |\n",
       "| 44 | 7 | 22 | 84313 | 1 | 41.80747 | -71.41297 | 2022 | 1 | 24 | 100 |    0.458333 |     1.25 |  1 |\n",
       "\n"
      ],
      "text/plain": [
       "  State Code County Code Site Number Parameter Code POC Latitude Longitude Year\n",
       "1 44         7           22          87101          1   41.80747 -71.41297 2022\n",
       "2 44         7           22          61107          1   41.80747 -71.41297 2022\n",
       "3 44         7           22          62101          1   41.80747 -71.41297 2022\n",
       "4 44         7           22          61104          1   41.80747 -71.41297 2022\n",
       "5 44         7           22          84313          1   41.80747 -71.41297 2022\n",
       "  Day In Year (Local) Observation Count Observation Percent Arithmetic Mean\n",
       "1 1                   24                100                 7062.208333    \n",
       "2 1                   24                100                   17.166667    \n",
       "3 1                   24                100                   48.958333    \n",
       "4 1                   24                100                  140.791667    \n",
       "5 1                   24                100                    0.458333    \n",
       "  First Maximum Value First Maximum Hour\n",
       "1 14300.00            17                \n",
       "2    25.00             7                \n",
       "3    54.00            15                \n",
       "4   195.00            15                \n",
       "5     1.25             1                "
      ]
     },
     "metadata": {},
     "output_type": "display_data"
    }
   ],
   "source": [
    "# Inspect Numerical Fields\n",
    "df_2022_01 %>%\n",
    "    select_if(is.numeric) %>%\n",
    "    head(5)"
   ]
  },
  {
   "cell_type": "code",
   "execution_count": 217,
   "metadata": {},
   "outputs": [
    {
     "data": {
      "text/html": [
       "<table class=\"dataframe\">\n",
       "<caption>A tibble: 6 × 14</caption>\n",
       "<thead>\n",
       "\t<tr><th scope=col>Datum</th><th scope=col>Parameter Name</th><th scope=col>Duration Description</th><th scope=col>Pollutant Standard</th><th scope=col>Units of Measure</th><th scope=col>AQI</th><th scope=col>Daily Criteria Indicator</th><th scope=col>State Name</th><th scope=col>County Name</th><th scope=col>City Name</th><th scope=col>Local Site Name</th><th scope=col>Address</th><th scope=col>MSA or CBSA Name</th><th scope=col>Data Source</th></tr>\n",
       "\t<tr><th scope=col>&lt;chr&gt;</th><th scope=col>&lt;chr&gt;</th><th scope=col>&lt;chr&gt;</th><th scope=col>&lt;chr&gt;</th><th scope=col>&lt;chr&gt;</th><th scope=col>&lt;chr&gt;</th><th scope=col>&lt;chr&gt;</th><th scope=col>&lt;chr&gt;</th><th scope=col>&lt;chr&gt;</th><th scope=col>&lt;chr&gt;</th><th scope=col>&lt;chr&gt;</th><th scope=col>&lt;chr&gt;</th><th scope=col>&lt;chr&gt;</th><th scope=col>&lt;chr&gt;</th></tr>\n",
       "</thead>\n",
       "<tbody>\n",
       "\t<tr><td>NAD83</td><td>Particle Number, Total Count</td><td>1 HOUR       </td><td>NA              </td><td>Count per cm^3               </td><td>. </td><td>Y</td><td>Rhode Island</td><td>Providence</td><td>Providence</td><td>CCRI Liston Campus ROOFTOP</td><td>1 Hilton St, PROVIDENCE RI</td><td>Providence-Warwick, RI-MA</td><td>AQS Data Mart</td></tr>\n",
       "\t<tr><td>NAD83</td><td>Std Dev Vt Wind Direction   </td><td>1 HOUR       </td><td>NA              </td><td>Degrees Compass              </td><td>. </td><td>Y</td><td>Rhode Island</td><td>Providence</td><td>Providence</td><td>CCRI Liston Campus ROOFTOP</td><td>1 Hilton St, PROVIDENCE RI</td><td>Providence-Warwick, RI-MA</td><td>AQS Data Mart</td></tr>\n",
       "\t<tr><td>NAD83</td><td>Outdoor Temperature         </td><td>1 HOUR       </td><td>NA              </td><td>Degrees Fahrenheit           </td><td>. </td><td>Y</td><td>Rhode Island</td><td>Providence</td><td>Providence</td><td>CCRI Liston Campus ROOFTOP</td><td>1 Hilton St, PROVIDENCE RI</td><td>Providence-Warwick, RI-MA</td><td>AQS Data Mart</td></tr>\n",
       "\t<tr><td>NAD83</td><td>Wind Direction - Resultant  </td><td>1 HOUR       </td><td>NA              </td><td>Degrees Compass              </td><td>. </td><td>Y</td><td>Rhode Island</td><td>Providence</td><td>Providence</td><td>CCRI Liston Campus ROOFTOP</td><td>1 Hilton St, PROVIDENCE RI</td><td>Providence-Warwick, RI-MA</td><td>AQS Data Mart</td></tr>\n",
       "\t<tr><td>NAD83</td><td>Black carbon PM2.5 STP      </td><td>1 HOUR       </td><td>NA              </td><td>Micrograms/cubic meter (25 C)</td><td>. </td><td>Y</td><td>Rhode Island</td><td>Providence</td><td>Providence</td><td>CCRI Liston Campus ROOFTOP</td><td>1 Hilton St, PROVIDENCE RI</td><td>Providence-Warwick, RI-MA</td><td>AQS Data Mart</td></tr>\n",
       "\t<tr><td>NAD83</td><td>PM2.5 - Local Conditions    </td><td>24-HR BLK AVG</td><td>PM25 Annual 2012</td><td>Micrograms/cubic meter (LC)  </td><td>30</td><td>Y</td><td>Rhode Island</td><td>Providence</td><td>Providence</td><td>CCRI Liston Campus ROOFTOP</td><td>1 Hilton St, PROVIDENCE RI</td><td>Providence-Warwick, RI-MA</td><td>AQS Data Mart</td></tr>\n",
       "</tbody>\n",
       "</table>\n"
      ],
      "text/latex": [
       "A tibble: 6 × 14\n",
       "\\begin{tabular}{llllllllllllll}\n",
       " Datum & Parameter Name & Duration Description & Pollutant Standard & Units of Measure & AQI & Daily Criteria Indicator & State Name & County Name & City Name & Local Site Name & Address & MSA or CBSA Name & Data Source\\\\\n",
       " <chr> & <chr> & <chr> & <chr> & <chr> & <chr> & <chr> & <chr> & <chr> & <chr> & <chr> & <chr> & <chr> & <chr>\\\\\n",
       "\\hline\n",
       "\t NAD83 & Particle Number, Total Count & 1 HOUR        & NA               & Count per cm\\textasciicircum{}3                & .  & Y & Rhode Island & Providence & Providence & CCRI Liston Campus ROOFTOP & 1 Hilton St, PROVIDENCE RI & Providence-Warwick, RI-MA & AQS Data Mart\\\\\n",
       "\t NAD83 & Std Dev Vt Wind Direction    & 1 HOUR        & NA               & Degrees Compass               & .  & Y & Rhode Island & Providence & Providence & CCRI Liston Campus ROOFTOP & 1 Hilton St, PROVIDENCE RI & Providence-Warwick, RI-MA & AQS Data Mart\\\\\n",
       "\t NAD83 & Outdoor Temperature          & 1 HOUR        & NA               & Degrees Fahrenheit            & .  & Y & Rhode Island & Providence & Providence & CCRI Liston Campus ROOFTOP & 1 Hilton St, PROVIDENCE RI & Providence-Warwick, RI-MA & AQS Data Mart\\\\\n",
       "\t NAD83 & Wind Direction - Resultant   & 1 HOUR        & NA               & Degrees Compass               & .  & Y & Rhode Island & Providence & Providence & CCRI Liston Campus ROOFTOP & 1 Hilton St, PROVIDENCE RI & Providence-Warwick, RI-MA & AQS Data Mart\\\\\n",
       "\t NAD83 & Black carbon PM2.5 STP       & 1 HOUR        & NA               & Micrograms/cubic meter (25 C) & .  & Y & Rhode Island & Providence & Providence & CCRI Liston Campus ROOFTOP & 1 Hilton St, PROVIDENCE RI & Providence-Warwick, RI-MA & AQS Data Mart\\\\\n",
       "\t NAD83 & PM2.5 - Local Conditions     & 24-HR BLK AVG & PM25 Annual 2012 & Micrograms/cubic meter (LC)   & 30 & Y & Rhode Island & Providence & Providence & CCRI Liston Campus ROOFTOP & 1 Hilton St, PROVIDENCE RI & Providence-Warwick, RI-MA & AQS Data Mart\\\\\n",
       "\\end{tabular}\n"
      ],
      "text/markdown": [
       "\n",
       "A tibble: 6 × 14\n",
       "\n",
       "| Datum &lt;chr&gt; | Parameter Name &lt;chr&gt; | Duration Description &lt;chr&gt; | Pollutant Standard &lt;chr&gt; | Units of Measure &lt;chr&gt; | AQI &lt;chr&gt; | Daily Criteria Indicator &lt;chr&gt; | State Name &lt;chr&gt; | County Name &lt;chr&gt; | City Name &lt;chr&gt; | Local Site Name &lt;chr&gt; | Address &lt;chr&gt; | MSA or CBSA Name &lt;chr&gt; | Data Source &lt;chr&gt; |\n",
       "|---|---|---|---|---|---|---|---|---|---|---|---|---|---|\n",
       "| NAD83 | Particle Number, Total Count | 1 HOUR        | NA               | Count per cm^3                | .  | Y | Rhode Island | Providence | Providence | CCRI Liston Campus ROOFTOP | 1 Hilton St, PROVIDENCE RI | Providence-Warwick, RI-MA | AQS Data Mart |\n",
       "| NAD83 | Std Dev Vt Wind Direction    | 1 HOUR        | NA               | Degrees Compass               | .  | Y | Rhode Island | Providence | Providence | CCRI Liston Campus ROOFTOP | 1 Hilton St, PROVIDENCE RI | Providence-Warwick, RI-MA | AQS Data Mart |\n",
       "| NAD83 | Outdoor Temperature          | 1 HOUR        | NA               | Degrees Fahrenheit            | .  | Y | Rhode Island | Providence | Providence | CCRI Liston Campus ROOFTOP | 1 Hilton St, PROVIDENCE RI | Providence-Warwick, RI-MA | AQS Data Mart |\n",
       "| NAD83 | Wind Direction - Resultant   | 1 HOUR        | NA               | Degrees Compass               | .  | Y | Rhode Island | Providence | Providence | CCRI Liston Campus ROOFTOP | 1 Hilton St, PROVIDENCE RI | Providence-Warwick, RI-MA | AQS Data Mart |\n",
       "| NAD83 | Black carbon PM2.5 STP       | 1 HOUR        | NA               | Micrograms/cubic meter (25 C) | .  | Y | Rhode Island | Providence | Providence | CCRI Liston Campus ROOFTOP | 1 Hilton St, PROVIDENCE RI | Providence-Warwick, RI-MA | AQS Data Mart |\n",
       "| NAD83 | PM2.5 - Local Conditions     | 24-HR BLK AVG | PM25 Annual 2012 | Micrograms/cubic meter (LC)   | 30 | Y | Rhode Island | Providence | Providence | CCRI Liston Campus ROOFTOP | 1 Hilton St, PROVIDENCE RI | Providence-Warwick, RI-MA | AQS Data Mart |\n",
       "\n"
      ],
      "text/plain": [
       "  Datum Parameter Name               Duration Description Pollutant Standard\n",
       "1 NAD83 Particle Number, Total Count 1 HOUR               NA                \n",
       "2 NAD83 Std Dev Vt Wind Direction    1 HOUR               NA                \n",
       "3 NAD83 Outdoor Temperature          1 HOUR               NA                \n",
       "4 NAD83 Wind Direction - Resultant   1 HOUR               NA                \n",
       "5 NAD83 Black carbon PM2.5 STP       1 HOUR               NA                \n",
       "6 NAD83 PM2.5 - Local Conditions     24-HR BLK AVG        PM25 Annual 2012  \n",
       "  Units of Measure              AQI Daily Criteria Indicator State Name  \n",
       "1 Count per cm^3                .   Y                        Rhode Island\n",
       "2 Degrees Compass               .   Y                        Rhode Island\n",
       "3 Degrees Fahrenheit            .   Y                        Rhode Island\n",
       "4 Degrees Compass               .   Y                        Rhode Island\n",
       "5 Micrograms/cubic meter (25 C) .   Y                        Rhode Island\n",
       "6 Micrograms/cubic meter (LC)   30  Y                        Rhode Island\n",
       "  County Name City Name  Local Site Name            Address                   \n",
       "1 Providence  Providence CCRI Liston Campus ROOFTOP 1 Hilton St, PROVIDENCE RI\n",
       "2 Providence  Providence CCRI Liston Campus ROOFTOP 1 Hilton St, PROVIDENCE RI\n",
       "3 Providence  Providence CCRI Liston Campus ROOFTOP 1 Hilton St, PROVIDENCE RI\n",
       "4 Providence  Providence CCRI Liston Campus ROOFTOP 1 Hilton St, PROVIDENCE RI\n",
       "5 Providence  Providence CCRI Liston Campus ROOFTOP 1 Hilton St, PROVIDENCE RI\n",
       "6 Providence  Providence CCRI Liston Campus ROOFTOP 1 Hilton St, PROVIDENCE RI\n",
       "  MSA or CBSA Name          Data Source  \n",
       "1 Providence-Warwick, RI-MA AQS Data Mart\n",
       "2 Providence-Warwick, RI-MA AQS Data Mart\n",
       "3 Providence-Warwick, RI-MA AQS Data Mart\n",
       "4 Providence-Warwick, RI-MA AQS Data Mart\n",
       "5 Providence-Warwick, RI-MA AQS Data Mart\n",
       "6 Providence-Warwick, RI-MA AQS Data Mart"
      ]
     },
     "metadata": {},
     "output_type": "display_data"
    }
   ],
   "source": [
    "# Inspect Character Fields\n",
    "df_2022_01 %>%\n",
    "    select_if(is.character) %>%\n",
    "    head()"
   ]
  },
  {
   "cell_type": "markdown",
   "metadata": {},
   "source": [
    "**Back to our questions:**\n",
    "\n",
    "1. Did it import correctly?\n",
    "2. What does the table look like? Number of rows? Columns?\n",
    "3. Do we need all the data we are importing?\n",
    "4. Is the data in the correct format?\n",
    "\n",
    "* There are many columns we could drop because they all have the same value such as: \"Local Site Name\" and \"Address\". We know we are only working with one site for this analysis so these columns don't provide much value. These columns are long string fields that take up more memory. Dropping them would improve performance if this dataset gets really large.\n",
    "* The date would be more useful as a datetime data type rather than as string. This will allow for filtering by time and other useful datetime operations.\n",
    "* The column names, while R converted them into valid variable names, are not in a more conventional format like snake case\n"
   ]
  },
  {
   "cell_type": "code",
   "execution_count": 218,
   "metadata": {},
   "outputs": [
    {
     "name": "stderr",
     "output_type": "stream",
     "text": [
      "Warning message:\n",
      "“unable to access index for repository http://cran.services.brown.edu/src/contrib:\n",
      "  cannot open URL 'http://cran.services.brown.edu/src/contrib/PACKAGES'”\n",
      "Warning message:\n",
      "“package ‘snakecase’ is not available for this version of R\n",
      "\n",
      "A version of this package for your version of R might be available elsewhere,\n",
      "see the ideas at\n",
      "https://cran.r-project.org/doc/manuals/r-patched/R-admin.html#Installing-packages”\n"
     ]
    }
   ],
   "source": [
    "install.packages('snakecase', repos=\"http://cran.services.brown.edu\")"
   ]
  },
  {
   "cell_type": "code",
   "execution_count": 219,
   "metadata": {},
   "outputs": [],
   "source": [
    "library(snakecase)"
   ]
  },
  {
   "cell_type": "code",
   "execution_count": 220,
   "metadata": {},
   "outputs": [
    {
     "data": {
      "text/html": [
       "<table class=\"dataframe\">\n",
       "<caption>A tibble: 6 × 34</caption>\n",
       "<thead>\n",
       "\t<tr><th scope=col>state_code</th><th scope=col>county_code</th><th scope=col>site_number</th><th scope=col>parameter_code</th><th scope=col>poc</th><th scope=col>latitude</th><th scope=col>longitude</th><th scope=col>datum</th><th scope=col>parameter_name</th><th scope=col>duration_description</th><th scope=col>⋯</th><th scope=col>aqi</th><th scope=col>daily_criteria_indicator</th><th scope=col>tribe_name</th><th scope=col>state_name</th><th scope=col>county_name</th><th scope=col>city_name</th><th scope=col>local_site_name</th><th scope=col>address</th><th scope=col>msa_or_cbsa_name</th><th scope=col>data_source</th></tr>\n",
       "\t<tr><th scope=col>&lt;dbl&gt;</th><th scope=col>&lt;dbl&gt;</th><th scope=col>&lt;dbl&gt;</th><th scope=col>&lt;dbl&gt;</th><th scope=col>&lt;dbl&gt;</th><th scope=col>&lt;dbl&gt;</th><th scope=col>&lt;dbl&gt;</th><th scope=col>&lt;chr&gt;</th><th scope=col>&lt;chr&gt;</th><th scope=col>&lt;chr&gt;</th><th scope=col>⋯</th><th scope=col>&lt;chr&gt;</th><th scope=col>&lt;chr&gt;</th><th scope=col>&lt;lgl&gt;</th><th scope=col>&lt;chr&gt;</th><th scope=col>&lt;chr&gt;</th><th scope=col>&lt;chr&gt;</th><th scope=col>&lt;chr&gt;</th><th scope=col>&lt;chr&gt;</th><th scope=col>&lt;chr&gt;</th><th scope=col>&lt;chr&gt;</th></tr>\n",
       "</thead>\n",
       "<tbody>\n",
       "\t<tr><td>44</td><td>7</td><td>22</td><td>87101</td><td>1</td><td>41.80747</td><td>-71.41297</td><td>NAD83</td><td>Particle Number, Total Count</td><td>1 HOUR       </td><td>⋯</td><td>. </td><td>Y</td><td>NA</td><td>Rhode Island</td><td>Providence</td><td>Providence</td><td>CCRI Liston Campus ROOFTOP</td><td>1 Hilton St, PROVIDENCE RI</td><td>Providence-Warwick, RI-MA</td><td>AQS Data Mart</td></tr>\n",
       "\t<tr><td>44</td><td>7</td><td>22</td><td>61107</td><td>1</td><td>41.80747</td><td>-71.41297</td><td>NAD83</td><td>Std Dev Vt Wind Direction   </td><td>1 HOUR       </td><td>⋯</td><td>. </td><td>Y</td><td>NA</td><td>Rhode Island</td><td>Providence</td><td>Providence</td><td>CCRI Liston Campus ROOFTOP</td><td>1 Hilton St, PROVIDENCE RI</td><td>Providence-Warwick, RI-MA</td><td>AQS Data Mart</td></tr>\n",
       "\t<tr><td>44</td><td>7</td><td>22</td><td>62101</td><td>1</td><td>41.80747</td><td>-71.41297</td><td>NAD83</td><td>Outdoor Temperature         </td><td>1 HOUR       </td><td>⋯</td><td>. </td><td>Y</td><td>NA</td><td>Rhode Island</td><td>Providence</td><td>Providence</td><td>CCRI Liston Campus ROOFTOP</td><td>1 Hilton St, PROVIDENCE RI</td><td>Providence-Warwick, RI-MA</td><td>AQS Data Mart</td></tr>\n",
       "\t<tr><td>44</td><td>7</td><td>22</td><td>61104</td><td>1</td><td>41.80747</td><td>-71.41297</td><td>NAD83</td><td>Wind Direction - Resultant  </td><td>1 HOUR       </td><td>⋯</td><td>. </td><td>Y</td><td>NA</td><td>Rhode Island</td><td>Providence</td><td>Providence</td><td>CCRI Liston Campus ROOFTOP</td><td>1 Hilton St, PROVIDENCE RI</td><td>Providence-Warwick, RI-MA</td><td>AQS Data Mart</td></tr>\n",
       "\t<tr><td>44</td><td>7</td><td>22</td><td>84313</td><td>1</td><td>41.80747</td><td>-71.41297</td><td>NAD83</td><td>Black carbon PM2.5 STP      </td><td>1 HOUR       </td><td>⋯</td><td>. </td><td>Y</td><td>NA</td><td>Rhode Island</td><td>Providence</td><td>Providence</td><td>CCRI Liston Campus ROOFTOP</td><td>1 Hilton St, PROVIDENCE RI</td><td>Providence-Warwick, RI-MA</td><td>AQS Data Mart</td></tr>\n",
       "\t<tr><td>44</td><td>7</td><td>22</td><td>88101</td><td>3</td><td>41.80747</td><td>-71.41297</td><td>NAD83</td><td>PM2.5 - Local Conditions    </td><td>24-HR BLK AVG</td><td>⋯</td><td>30</td><td>Y</td><td>NA</td><td>Rhode Island</td><td>Providence</td><td>Providence</td><td>CCRI Liston Campus ROOFTOP</td><td>1 Hilton St, PROVIDENCE RI</td><td>Providence-Warwick, RI-MA</td><td>AQS Data Mart</td></tr>\n",
       "</tbody>\n",
       "</table>\n"
      ],
      "text/latex": [
       "A tibble: 6 × 34\n",
       "\\begin{tabular}{lllllllllllllllllllll}\n",
       " state\\_code & county\\_code & site\\_number & parameter\\_code & poc & latitude & longitude & datum & parameter\\_name & duration\\_description & ⋯ & aqi & daily\\_criteria\\_indicator & tribe\\_name & state\\_name & county\\_name & city\\_name & local\\_site\\_name & address & msa\\_or\\_cbsa\\_name & data\\_source\\\\\n",
       " <dbl> & <dbl> & <dbl> & <dbl> & <dbl> & <dbl> & <dbl> & <chr> & <chr> & <chr> & ⋯ & <chr> & <chr> & <lgl> & <chr> & <chr> & <chr> & <chr> & <chr> & <chr> & <chr>\\\\\n",
       "\\hline\n",
       "\t 44 & 7 & 22 & 87101 & 1 & 41.80747 & -71.41297 & NAD83 & Particle Number, Total Count & 1 HOUR        & ⋯ & .  & Y & NA & Rhode Island & Providence & Providence & CCRI Liston Campus ROOFTOP & 1 Hilton St, PROVIDENCE RI & Providence-Warwick, RI-MA & AQS Data Mart\\\\\n",
       "\t 44 & 7 & 22 & 61107 & 1 & 41.80747 & -71.41297 & NAD83 & Std Dev Vt Wind Direction    & 1 HOUR        & ⋯ & .  & Y & NA & Rhode Island & Providence & Providence & CCRI Liston Campus ROOFTOP & 1 Hilton St, PROVIDENCE RI & Providence-Warwick, RI-MA & AQS Data Mart\\\\\n",
       "\t 44 & 7 & 22 & 62101 & 1 & 41.80747 & -71.41297 & NAD83 & Outdoor Temperature          & 1 HOUR        & ⋯ & .  & Y & NA & Rhode Island & Providence & Providence & CCRI Liston Campus ROOFTOP & 1 Hilton St, PROVIDENCE RI & Providence-Warwick, RI-MA & AQS Data Mart\\\\\n",
       "\t 44 & 7 & 22 & 61104 & 1 & 41.80747 & -71.41297 & NAD83 & Wind Direction - Resultant   & 1 HOUR        & ⋯ & .  & Y & NA & Rhode Island & Providence & Providence & CCRI Liston Campus ROOFTOP & 1 Hilton St, PROVIDENCE RI & Providence-Warwick, RI-MA & AQS Data Mart\\\\\n",
       "\t 44 & 7 & 22 & 84313 & 1 & 41.80747 & -71.41297 & NAD83 & Black carbon PM2.5 STP       & 1 HOUR        & ⋯ & .  & Y & NA & Rhode Island & Providence & Providence & CCRI Liston Campus ROOFTOP & 1 Hilton St, PROVIDENCE RI & Providence-Warwick, RI-MA & AQS Data Mart\\\\\n",
       "\t 44 & 7 & 22 & 88101 & 3 & 41.80747 & -71.41297 & NAD83 & PM2.5 - Local Conditions     & 24-HR BLK AVG & ⋯ & 30 & Y & NA & Rhode Island & Providence & Providence & CCRI Liston Campus ROOFTOP & 1 Hilton St, PROVIDENCE RI & Providence-Warwick, RI-MA & AQS Data Mart\\\\\n",
       "\\end{tabular}\n"
      ],
      "text/markdown": [
       "\n",
       "A tibble: 6 × 34\n",
       "\n",
       "| state_code &lt;dbl&gt; | county_code &lt;dbl&gt; | site_number &lt;dbl&gt; | parameter_code &lt;dbl&gt; | poc &lt;dbl&gt; | latitude &lt;dbl&gt; | longitude &lt;dbl&gt; | datum &lt;chr&gt; | parameter_name &lt;chr&gt; | duration_description &lt;chr&gt; | ⋯ ⋯ | aqi &lt;chr&gt; | daily_criteria_indicator &lt;chr&gt; | tribe_name &lt;lgl&gt; | state_name &lt;chr&gt; | county_name &lt;chr&gt; | city_name &lt;chr&gt; | local_site_name &lt;chr&gt; | address &lt;chr&gt; | msa_or_cbsa_name &lt;chr&gt; | data_source &lt;chr&gt; |\n",
       "|---|---|---|---|---|---|---|---|---|---|---|---|---|---|---|---|---|---|---|---|---|\n",
       "| 44 | 7 | 22 | 87101 | 1 | 41.80747 | -71.41297 | NAD83 | Particle Number, Total Count | 1 HOUR        | ⋯ | .  | Y | NA | Rhode Island | Providence | Providence | CCRI Liston Campus ROOFTOP | 1 Hilton St, PROVIDENCE RI | Providence-Warwick, RI-MA | AQS Data Mart |\n",
       "| 44 | 7 | 22 | 61107 | 1 | 41.80747 | -71.41297 | NAD83 | Std Dev Vt Wind Direction    | 1 HOUR        | ⋯ | .  | Y | NA | Rhode Island | Providence | Providence | CCRI Liston Campus ROOFTOP | 1 Hilton St, PROVIDENCE RI | Providence-Warwick, RI-MA | AQS Data Mart |\n",
       "| 44 | 7 | 22 | 62101 | 1 | 41.80747 | -71.41297 | NAD83 | Outdoor Temperature          | 1 HOUR        | ⋯ | .  | Y | NA | Rhode Island | Providence | Providence | CCRI Liston Campus ROOFTOP | 1 Hilton St, PROVIDENCE RI | Providence-Warwick, RI-MA | AQS Data Mart |\n",
       "| 44 | 7 | 22 | 61104 | 1 | 41.80747 | -71.41297 | NAD83 | Wind Direction - Resultant   | 1 HOUR        | ⋯ | .  | Y | NA | Rhode Island | Providence | Providence | CCRI Liston Campus ROOFTOP | 1 Hilton St, PROVIDENCE RI | Providence-Warwick, RI-MA | AQS Data Mart |\n",
       "| 44 | 7 | 22 | 84313 | 1 | 41.80747 | -71.41297 | NAD83 | Black carbon PM2.5 STP       | 1 HOUR        | ⋯ | .  | Y | NA | Rhode Island | Providence | Providence | CCRI Liston Campus ROOFTOP | 1 Hilton St, PROVIDENCE RI | Providence-Warwick, RI-MA | AQS Data Mart |\n",
       "| 44 | 7 | 22 | 88101 | 3 | 41.80747 | -71.41297 | NAD83 | PM2.5 - Local Conditions     | 24-HR BLK AVG | ⋯ | 30 | Y | NA | Rhode Island | Providence | Providence | CCRI Liston Campus ROOFTOP | 1 Hilton St, PROVIDENCE RI | Providence-Warwick, RI-MA | AQS Data Mart |\n",
       "\n"
      ],
      "text/plain": [
       "  state_code county_code site_number parameter_code poc latitude longitude\n",
       "1 44         7           22          87101          1   41.80747 -71.41297\n",
       "2 44         7           22          61107          1   41.80747 -71.41297\n",
       "3 44         7           22          62101          1   41.80747 -71.41297\n",
       "4 44         7           22          61104          1   41.80747 -71.41297\n",
       "5 44         7           22          84313          1   41.80747 -71.41297\n",
       "6 44         7           22          88101          3   41.80747 -71.41297\n",
       "  datum parameter_name               duration_description ⋯ aqi\n",
       "1 NAD83 Particle Number, Total Count 1 HOUR               ⋯ .  \n",
       "2 NAD83 Std Dev Vt Wind Direction    1 HOUR               ⋯ .  \n",
       "3 NAD83 Outdoor Temperature          1 HOUR               ⋯ .  \n",
       "4 NAD83 Wind Direction - Resultant   1 HOUR               ⋯ .  \n",
       "5 NAD83 Black carbon PM2.5 STP       1 HOUR               ⋯ .  \n",
       "6 NAD83 PM2.5 - Local Conditions     24-HR BLK AVG        ⋯ 30 \n",
       "  daily_criteria_indicator tribe_name state_name   county_name city_name \n",
       "1 Y                        NA         Rhode Island Providence  Providence\n",
       "2 Y                        NA         Rhode Island Providence  Providence\n",
       "3 Y                        NA         Rhode Island Providence  Providence\n",
       "4 Y                        NA         Rhode Island Providence  Providence\n",
       "5 Y                        NA         Rhode Island Providence  Providence\n",
       "6 Y                        NA         Rhode Island Providence  Providence\n",
       "  local_site_name            address                   \n",
       "1 CCRI Liston Campus ROOFTOP 1 Hilton St, PROVIDENCE RI\n",
       "2 CCRI Liston Campus ROOFTOP 1 Hilton St, PROVIDENCE RI\n",
       "3 CCRI Liston Campus ROOFTOP 1 Hilton St, PROVIDENCE RI\n",
       "4 CCRI Liston Campus ROOFTOP 1 Hilton St, PROVIDENCE RI\n",
       "5 CCRI Liston Campus ROOFTOP 1 Hilton St, PROVIDENCE RI\n",
       "6 CCRI Liston Campus ROOFTOP 1 Hilton St, PROVIDENCE RI\n",
       "  msa_or_cbsa_name          data_source  \n",
       "1 Providence-Warwick, RI-MA AQS Data Mart\n",
       "2 Providence-Warwick, RI-MA AQS Data Mart\n",
       "3 Providence-Warwick, RI-MA AQS Data Mart\n",
       "4 Providence-Warwick, RI-MA AQS Data Mart\n",
       "5 Providence-Warwick, RI-MA AQS Data Mart\n",
       "6 Providence-Warwick, RI-MA AQS Data Mart"
      ]
     },
     "metadata": {},
     "output_type": "display_data"
    },
    {
     "data": {
      "text/html": [
       "<style>\n",
       ".list-inline {list-style: none; margin:0; padding: 0}\n",
       ".list-inline>li {display: inline-block}\n",
       ".list-inline>li:not(:last-child)::after {content: \"\\00b7\"; padding: 0 .5ex}\n",
       "</style>\n",
       "<ol class=list-inline><li>'state_code'</li><li>'county_code'</li><li>'site_number'</li><li>'parameter_code'</li><li>'poc'</li><li>'latitude'</li><li>'longitude'</li><li>'datum'</li><li>'parameter_name'</li><li>'duration_description'</li><li>'pollutant_standard'</li><li>'date_local'</li><li>'year'</li><li>'day_in_year_local'</li><li>'units_of_measure'</li><li>'exceptional_data_type'</li><li>'nonreg_observation_count'</li><li>'observation_count'</li><li>'observation_percent'</li><li>'nonreg_arithmetic_mean'</li><li>'arithmetic_mean'</li><li>'nonreg_first_maximum_value'</li><li>'first_maximum_value'</li><li>'first_maximum_hour'</li><li>'aqi'</li><li>'daily_criteria_indicator'</li><li>'tribe_name'</li><li>'state_name'</li><li>'county_name'</li><li>'city_name'</li><li>'local_site_name'</li><li>'address'</li><li>'msa_or_cbsa_name'</li><li>'data_source'</li></ol>\n"
      ],
      "text/latex": [
       "\\begin{enumerate*}\n",
       "\\item 'state\\_code'\n",
       "\\item 'county\\_code'\n",
       "\\item 'site\\_number'\n",
       "\\item 'parameter\\_code'\n",
       "\\item 'poc'\n",
       "\\item 'latitude'\n",
       "\\item 'longitude'\n",
       "\\item 'datum'\n",
       "\\item 'parameter\\_name'\n",
       "\\item 'duration\\_description'\n",
       "\\item 'pollutant\\_standard'\n",
       "\\item 'date\\_local'\n",
       "\\item 'year'\n",
       "\\item 'day\\_in\\_year\\_local'\n",
       "\\item 'units\\_of\\_measure'\n",
       "\\item 'exceptional\\_data\\_type'\n",
       "\\item 'nonreg\\_observation\\_count'\n",
       "\\item 'observation\\_count'\n",
       "\\item 'observation\\_percent'\n",
       "\\item 'nonreg\\_arithmetic\\_mean'\n",
       "\\item 'arithmetic\\_mean'\n",
       "\\item 'nonreg\\_first\\_maximum\\_value'\n",
       "\\item 'first\\_maximum\\_value'\n",
       "\\item 'first\\_maximum\\_hour'\n",
       "\\item 'aqi'\n",
       "\\item 'daily\\_criteria\\_indicator'\n",
       "\\item 'tribe\\_name'\n",
       "\\item 'state\\_name'\n",
       "\\item 'county\\_name'\n",
       "\\item 'city\\_name'\n",
       "\\item 'local\\_site\\_name'\n",
       "\\item 'address'\n",
       "\\item 'msa\\_or\\_cbsa\\_name'\n",
       "\\item 'data\\_source'\n",
       "\\end{enumerate*}\n"
      ],
      "text/markdown": [
       "1. 'state_code'\n",
       "2. 'county_code'\n",
       "3. 'site_number'\n",
       "4. 'parameter_code'\n",
       "5. 'poc'\n",
       "6. 'latitude'\n",
       "7. 'longitude'\n",
       "8. 'datum'\n",
       "9. 'parameter_name'\n",
       "10. 'duration_description'\n",
       "11. 'pollutant_standard'\n",
       "12. 'date_local'\n",
       "13. 'year'\n",
       "14. 'day_in_year_local'\n",
       "15. 'units_of_measure'\n",
       "16. 'exceptional_data_type'\n",
       "17. 'nonreg_observation_count'\n",
       "18. 'observation_count'\n",
       "19. 'observation_percent'\n",
       "20. 'nonreg_arithmetic_mean'\n",
       "21. 'arithmetic_mean'\n",
       "22. 'nonreg_first_maximum_value'\n",
       "23. 'first_maximum_value'\n",
       "24. 'first_maximum_hour'\n",
       "25. 'aqi'\n",
       "26. 'daily_criteria_indicator'\n",
       "27. 'tribe_name'\n",
       "28. 'state_name'\n",
       "29. 'county_name'\n",
       "30. 'city_name'\n",
       "31. 'local_site_name'\n",
       "32. 'address'\n",
       "33. 'msa_or_cbsa_name'\n",
       "34. 'data_source'\n",
       "\n",
       "\n"
      ],
      "text/plain": [
       " [1] \"state_code\"                 \"county_code\"               \n",
       " [3] \"site_number\"                \"parameter_code\"            \n",
       " [5] \"poc\"                        \"latitude\"                  \n",
       " [7] \"longitude\"                  \"datum\"                     \n",
       " [9] \"parameter_name\"             \"duration_description\"      \n",
       "[11] \"pollutant_standard\"         \"date_local\"                \n",
       "[13] \"year\"                       \"day_in_year_local\"         \n",
       "[15] \"units_of_measure\"           \"exceptional_data_type\"     \n",
       "[17] \"nonreg_observation_count\"   \"observation_count\"         \n",
       "[19] \"observation_percent\"        \"nonreg_arithmetic_mean\"    \n",
       "[21] \"arithmetic_mean\"            \"nonreg_first_maximum_value\"\n",
       "[23] \"first_maximum_value\"        \"first_maximum_hour\"        \n",
       "[25] \"aqi\"                        \"daily_criteria_indicator\"  \n",
       "[27] \"tribe_name\"                 \"state_name\"                \n",
       "[29] \"county_name\"                \"city_name\"                 \n",
       "[31] \"local_site_name\"            \"address\"                   \n",
       "[33] \"msa_or_cbsa_name\"           \"data_source\"               "
      ]
     },
     "metadata": {},
     "output_type": "display_data"
    }
   ],
   "source": [
    "# Clean up the column names\n",
    "df_2022_01_curated <- df_2022_01 %>%\n",
    "    rename_with(to_snake_case)\n",
    "\n",
    "# Print out\n",
    "head(df_2022_01_curated)\n",
    "names(df_2022_01_curated)"
   ]
  },
  {
   "cell_type": "code",
   "execution_count": 221,
   "metadata": {},
   "outputs": [
    {
     "data": {
      "text/html": [
       "<table class=\"dataframe\">\n",
       "<caption>A tibble: 6 × 17</caption>\n",
       "<thead>\n",
       "\t<tr><th scope=col>parameter_code</th><th scope=col>poc</th><th scope=col>parameter_name</th><th scope=col>duration_description</th><th scope=col>pollutant_standard</th><th scope=col>date_local</th><th scope=col>year</th><th scope=col>day_in_year_local</th><th scope=col>units_of_measure</th><th scope=col>exceptional_data_type</th><th scope=col>observation_count</th><th scope=col>observation_percent</th><th scope=col>arithmetic_mean</th><th scope=col>first_maximum_value</th><th scope=col>first_maximum_hour</th><th scope=col>aqi</th><th scope=col>daily_criteria_indicator</th></tr>\n",
       "\t<tr><th scope=col>&lt;dbl&gt;</th><th scope=col>&lt;dbl&gt;</th><th scope=col>&lt;chr&gt;</th><th scope=col>&lt;chr&gt;</th><th scope=col>&lt;chr&gt;</th><th scope=col>&lt;date&gt;</th><th scope=col>&lt;dbl&gt;</th><th scope=col>&lt;dbl&gt;</th><th scope=col>&lt;chr&gt;</th><th scope=col>&lt;lgl&gt;</th><th scope=col>&lt;dbl&gt;</th><th scope=col>&lt;dbl&gt;</th><th scope=col>&lt;dbl&gt;</th><th scope=col>&lt;dbl&gt;</th><th scope=col>&lt;dbl&gt;</th><th scope=col>&lt;chr&gt;</th><th scope=col>&lt;chr&gt;</th></tr>\n",
       "</thead>\n",
       "<tbody>\n",
       "\t<tr><td>87101</td><td>1</td><td>Particle Number, Total Count</td><td>1 HOUR       </td><td>NA              </td><td>2022-01-01</td><td>2022</td><td>1</td><td>Count per cm^3               </td><td>NA</td><td>24</td><td>100</td><td>7062.208333</td><td>14300.00</td><td>17</td><td>. </td><td>Y</td></tr>\n",
       "\t<tr><td>61107</td><td>1</td><td>Std Dev Vt Wind Direction   </td><td>1 HOUR       </td><td>NA              </td><td>2022-01-01</td><td>2022</td><td>1</td><td>Degrees Compass              </td><td>NA</td><td>24</td><td>100</td><td>  17.166667</td><td>   25.00</td><td> 7</td><td>. </td><td>Y</td></tr>\n",
       "\t<tr><td>62101</td><td>1</td><td>Outdoor Temperature         </td><td>1 HOUR       </td><td>NA              </td><td>2022-01-01</td><td>2022</td><td>1</td><td>Degrees Fahrenheit           </td><td>NA</td><td>24</td><td>100</td><td>  48.958333</td><td>   54.00</td><td>15</td><td>. </td><td>Y</td></tr>\n",
       "\t<tr><td>61104</td><td>1</td><td>Wind Direction - Resultant  </td><td>1 HOUR       </td><td>NA              </td><td>2022-01-01</td><td>2022</td><td>1</td><td>Degrees Compass              </td><td>NA</td><td>24</td><td>100</td><td> 140.791667</td><td>  195.00</td><td>15</td><td>. </td><td>Y</td></tr>\n",
       "\t<tr><td>84313</td><td>1</td><td>Black carbon PM2.5 STP      </td><td>1 HOUR       </td><td>NA              </td><td>2022-01-01</td><td>2022</td><td>1</td><td>Micrograms/cubic meter (25 C)</td><td>NA</td><td>24</td><td>100</td><td>   0.458333</td><td>    1.25</td><td> 1</td><td>. </td><td>Y</td></tr>\n",
       "\t<tr><td>88101</td><td>3</td><td>PM2.5 - Local Conditions    </td><td>24-HR BLK AVG</td><td>PM25 Annual 2012</td><td>2022-01-01</td><td>2022</td><td>1</td><td>Micrograms/cubic meter (LC)  </td><td>NA</td><td> 1</td><td>100</td><td>   7.100000</td><td>    7.10</td><td> 0</td><td>30</td><td>Y</td></tr>\n",
       "</tbody>\n",
       "</table>\n"
      ],
      "text/latex": [
       "A tibble: 6 × 17\n",
       "\\begin{tabular}{lllllllllllllllll}\n",
       " parameter\\_code & poc & parameter\\_name & duration\\_description & pollutant\\_standard & date\\_local & year & day\\_in\\_year\\_local & units\\_of\\_measure & exceptional\\_data\\_type & observation\\_count & observation\\_percent & arithmetic\\_mean & first\\_maximum\\_value & first\\_maximum\\_hour & aqi & daily\\_criteria\\_indicator\\\\\n",
       " <dbl> & <dbl> & <chr> & <chr> & <chr> & <date> & <dbl> & <dbl> & <chr> & <lgl> & <dbl> & <dbl> & <dbl> & <dbl> & <dbl> & <chr> & <chr>\\\\\n",
       "\\hline\n",
       "\t 87101 & 1 & Particle Number, Total Count & 1 HOUR        & NA               & 2022-01-01 & 2022 & 1 & Count per cm\\textasciicircum{}3                & NA & 24 & 100 & 7062.208333 & 14300.00 & 17 & .  & Y\\\\\n",
       "\t 61107 & 1 & Std Dev Vt Wind Direction    & 1 HOUR        & NA               & 2022-01-01 & 2022 & 1 & Degrees Compass               & NA & 24 & 100 &   17.166667 &    25.00 &  7 & .  & Y\\\\\n",
       "\t 62101 & 1 & Outdoor Temperature          & 1 HOUR        & NA               & 2022-01-01 & 2022 & 1 & Degrees Fahrenheit            & NA & 24 & 100 &   48.958333 &    54.00 & 15 & .  & Y\\\\\n",
       "\t 61104 & 1 & Wind Direction - Resultant   & 1 HOUR        & NA               & 2022-01-01 & 2022 & 1 & Degrees Compass               & NA & 24 & 100 &  140.791667 &   195.00 & 15 & .  & Y\\\\\n",
       "\t 84313 & 1 & Black carbon PM2.5 STP       & 1 HOUR        & NA               & 2022-01-01 & 2022 & 1 & Micrograms/cubic meter (25 C) & NA & 24 & 100 &    0.458333 &     1.25 &  1 & .  & Y\\\\\n",
       "\t 88101 & 3 & PM2.5 - Local Conditions     & 24-HR BLK AVG & PM25 Annual 2012 & 2022-01-01 & 2022 & 1 & Micrograms/cubic meter (LC)   & NA &  1 & 100 &    7.100000 &     7.10 &  0 & 30 & Y\\\\\n",
       "\\end{tabular}\n"
      ],
      "text/markdown": [
       "\n",
       "A tibble: 6 × 17\n",
       "\n",
       "| parameter_code &lt;dbl&gt; | poc &lt;dbl&gt; | parameter_name &lt;chr&gt; | duration_description &lt;chr&gt; | pollutant_standard &lt;chr&gt; | date_local &lt;date&gt; | year &lt;dbl&gt; | day_in_year_local &lt;dbl&gt; | units_of_measure &lt;chr&gt; | exceptional_data_type &lt;lgl&gt; | observation_count &lt;dbl&gt; | observation_percent &lt;dbl&gt; | arithmetic_mean &lt;dbl&gt; | first_maximum_value &lt;dbl&gt; | first_maximum_hour &lt;dbl&gt; | aqi &lt;chr&gt; | daily_criteria_indicator &lt;chr&gt; |\n",
       "|---|---|---|---|---|---|---|---|---|---|---|---|---|---|---|---|---|\n",
       "| 87101 | 1 | Particle Number, Total Count | 1 HOUR        | NA               | 2022-01-01 | 2022 | 1 | Count per cm^3                | NA | 24 | 100 | 7062.208333 | 14300.00 | 17 | .  | Y |\n",
       "| 61107 | 1 | Std Dev Vt Wind Direction    | 1 HOUR        | NA               | 2022-01-01 | 2022 | 1 | Degrees Compass               | NA | 24 | 100 |   17.166667 |    25.00 |  7 | .  | Y |\n",
       "| 62101 | 1 | Outdoor Temperature          | 1 HOUR        | NA               | 2022-01-01 | 2022 | 1 | Degrees Fahrenheit            | NA | 24 | 100 |   48.958333 |    54.00 | 15 | .  | Y |\n",
       "| 61104 | 1 | Wind Direction - Resultant   | 1 HOUR        | NA               | 2022-01-01 | 2022 | 1 | Degrees Compass               | NA | 24 | 100 |  140.791667 |   195.00 | 15 | .  | Y |\n",
       "| 84313 | 1 | Black carbon PM2.5 STP       | 1 HOUR        | NA               | 2022-01-01 | 2022 | 1 | Micrograms/cubic meter (25 C) | NA | 24 | 100 |    0.458333 |     1.25 |  1 | .  | Y |\n",
       "| 88101 | 3 | PM2.5 - Local Conditions     | 24-HR BLK AVG | PM25 Annual 2012 | 2022-01-01 | 2022 | 1 | Micrograms/cubic meter (LC)   | NA |  1 | 100 |    7.100000 |     7.10 |  0 | 30 | Y |\n",
       "\n"
      ],
      "text/plain": [
       "  parameter_code poc parameter_name               duration_description\n",
       "1 87101          1   Particle Number, Total Count 1 HOUR              \n",
       "2 61107          1   Std Dev Vt Wind Direction    1 HOUR              \n",
       "3 62101          1   Outdoor Temperature          1 HOUR              \n",
       "4 61104          1   Wind Direction - Resultant   1 HOUR              \n",
       "5 84313          1   Black carbon PM2.5 STP       1 HOUR              \n",
       "6 88101          3   PM2.5 - Local Conditions     24-HR BLK AVG       \n",
       "  pollutant_standard date_local year day_in_year_local\n",
       "1 NA                 2022-01-01 2022 1                \n",
       "2 NA                 2022-01-01 2022 1                \n",
       "3 NA                 2022-01-01 2022 1                \n",
       "4 NA                 2022-01-01 2022 1                \n",
       "5 NA                 2022-01-01 2022 1                \n",
       "6 PM25 Annual 2012   2022-01-01 2022 1                \n",
       "  units_of_measure              exceptional_data_type observation_count\n",
       "1 Count per cm^3                NA                    24               \n",
       "2 Degrees Compass               NA                    24               \n",
       "3 Degrees Fahrenheit            NA                    24               \n",
       "4 Degrees Compass               NA                    24               \n",
       "5 Micrograms/cubic meter (25 C) NA                    24               \n",
       "6 Micrograms/cubic meter (LC)   NA                     1               \n",
       "  observation_percent arithmetic_mean first_maximum_value first_maximum_hour\n",
       "1 100                 7062.208333     14300.00            17                \n",
       "2 100                   17.166667        25.00             7                \n",
       "3 100                   48.958333        54.00            15                \n",
       "4 100                  140.791667       195.00            15                \n",
       "5 100                    0.458333         1.25             1                \n",
       "6 100                    7.100000         7.10             0                \n",
       "  aqi daily_criteria_indicator\n",
       "1 .   Y                       \n",
       "2 .   Y                       \n",
       "3 .   Y                       \n",
       "4 .   Y                       \n",
       "5 .   Y                       \n",
       "6 30  Y                       "
      ]
     },
     "metadata": {},
     "output_type": "display_data"
    }
   ],
   "source": [
    "# Create a list of the columns we wish to keep\n",
    "keep_cols <- c(\n",
    "    \"parameter_code\",\n",
    "    \"poc\",\n",
    "    \"parameter_name\",\n",
    "    \"duration_description\",\n",
    "    \"pollutant_standard\",\n",
    "    \"date_local\",\n",
    "    \"year\",\n",
    "    \"day_in_year_local\",\n",
    "    \"units_of_measure\",\n",
    "    \"exceptional_data_type\",\n",
    "    \"observation_count\",\n",
    "    \"observation_percent\",\n",
    "    \"arithmetic_mean\",\n",
    "    \"first_maximum_value\",\n",
    "    \"first_maximum_hour\",\n",
    "    \"aqi\",\n",
    "    \"daily_criteria_indicator\")\n",
    "\n",
    "df_2022_01_curated <- df_2022_01_curated %>% select(all_of(keep_cols))\n",
    "head(df_2022_01_curated)"
   ]
  },
  {
   "cell_type": "code",
   "execution_count": 222,
   "metadata": {},
   "outputs": [
    {
     "data": {
      "text/html": [
       "<table class=\"dataframe\">\n",
       "<caption>A tibble: 6 × 17</caption>\n",
       "<thead>\n",
       "\t<tr><th scope=col>parameter_code</th><th scope=col>poc</th><th scope=col>parameter_name</th><th scope=col>duration_description</th><th scope=col>pollutant_standard</th><th scope=col>date_local</th><th scope=col>year</th><th scope=col>day_in_year_local</th><th scope=col>units_of_measure</th><th scope=col>exceptional_data_type</th><th scope=col>observation_count</th><th scope=col>observation_percent</th><th scope=col>arithmetic_mean</th><th scope=col>first_maximum_value</th><th scope=col>first_maximum_hour</th><th scope=col>aqi</th><th scope=col>daily_criteria_indicator</th></tr>\n",
       "\t<tr><th scope=col>&lt;dbl&gt;</th><th scope=col>&lt;dbl&gt;</th><th scope=col>&lt;chr&gt;</th><th scope=col>&lt;chr&gt;</th><th scope=col>&lt;chr&gt;</th><th scope=col>&lt;date&gt;</th><th scope=col>&lt;dbl&gt;</th><th scope=col>&lt;dbl&gt;</th><th scope=col>&lt;chr&gt;</th><th scope=col>&lt;lgl&gt;</th><th scope=col>&lt;dbl&gt;</th><th scope=col>&lt;dbl&gt;</th><th scope=col>&lt;dbl&gt;</th><th scope=col>&lt;dbl&gt;</th><th scope=col>&lt;dbl&gt;</th><th scope=col>&lt;chr&gt;</th><th scope=col>&lt;chr&gt;</th></tr>\n",
       "</thead>\n",
       "<tbody>\n",
       "\t<tr><td>87101</td><td>1</td><td>Particle Number, Total Count</td><td>1 HOUR       </td><td>NA              </td><td>2022-01-01</td><td>2022</td><td>1</td><td>Count per cm^3               </td><td>NA</td><td>24</td><td>100</td><td>7062.208333</td><td>14300.00</td><td>17</td><td>. </td><td>Y</td></tr>\n",
       "\t<tr><td>61107</td><td>1</td><td>Std Dev Vt Wind Direction   </td><td>1 HOUR       </td><td>NA              </td><td>2022-01-01</td><td>2022</td><td>1</td><td>Degrees Compass              </td><td>NA</td><td>24</td><td>100</td><td>  17.166667</td><td>   25.00</td><td> 7</td><td>. </td><td>Y</td></tr>\n",
       "\t<tr><td>62101</td><td>1</td><td>Outdoor Temperature         </td><td>1 HOUR       </td><td>NA              </td><td>2022-01-01</td><td>2022</td><td>1</td><td>Degrees Fahrenheit           </td><td>NA</td><td>24</td><td>100</td><td>  48.958333</td><td>   54.00</td><td>15</td><td>. </td><td>Y</td></tr>\n",
       "\t<tr><td>61104</td><td>1</td><td>Wind Direction - Resultant  </td><td>1 HOUR       </td><td>NA              </td><td>2022-01-01</td><td>2022</td><td>1</td><td>Degrees Compass              </td><td>NA</td><td>24</td><td>100</td><td> 140.791667</td><td>  195.00</td><td>15</td><td>. </td><td>Y</td></tr>\n",
       "\t<tr><td>84313</td><td>1</td><td>Black carbon PM2.5 STP      </td><td>1 HOUR       </td><td>NA              </td><td>2022-01-01</td><td>2022</td><td>1</td><td>Micrograms/cubic meter (25 C)</td><td>NA</td><td>24</td><td>100</td><td>   0.458333</td><td>    1.25</td><td> 1</td><td>. </td><td>Y</td></tr>\n",
       "\t<tr><td>88101</td><td>3</td><td>PM2.5 - Local Conditions    </td><td>24-HR BLK AVG</td><td>PM25 Annual 2012</td><td>2022-01-01</td><td>2022</td><td>1</td><td>Micrograms/cubic meter (LC)  </td><td>NA</td><td> 1</td><td>100</td><td>   7.100000</td><td>    7.10</td><td> 0</td><td>30</td><td>Y</td></tr>\n",
       "</tbody>\n",
       "</table>\n"
      ],
      "text/latex": [
       "A tibble: 6 × 17\n",
       "\\begin{tabular}{lllllllllllllllll}\n",
       " parameter\\_code & poc & parameter\\_name & duration\\_description & pollutant\\_standard & date\\_local & year & day\\_in\\_year\\_local & units\\_of\\_measure & exceptional\\_data\\_type & observation\\_count & observation\\_percent & arithmetic\\_mean & first\\_maximum\\_value & first\\_maximum\\_hour & aqi & daily\\_criteria\\_indicator\\\\\n",
       " <dbl> & <dbl> & <chr> & <chr> & <chr> & <date> & <dbl> & <dbl> & <chr> & <lgl> & <dbl> & <dbl> & <dbl> & <dbl> & <dbl> & <chr> & <chr>\\\\\n",
       "\\hline\n",
       "\t 87101 & 1 & Particle Number, Total Count & 1 HOUR        & NA               & 2022-01-01 & 2022 & 1 & Count per cm\\textasciicircum{}3                & NA & 24 & 100 & 7062.208333 & 14300.00 & 17 & .  & Y\\\\\n",
       "\t 61107 & 1 & Std Dev Vt Wind Direction    & 1 HOUR        & NA               & 2022-01-01 & 2022 & 1 & Degrees Compass               & NA & 24 & 100 &   17.166667 &    25.00 &  7 & .  & Y\\\\\n",
       "\t 62101 & 1 & Outdoor Temperature          & 1 HOUR        & NA               & 2022-01-01 & 2022 & 1 & Degrees Fahrenheit            & NA & 24 & 100 &   48.958333 &    54.00 & 15 & .  & Y\\\\\n",
       "\t 61104 & 1 & Wind Direction - Resultant   & 1 HOUR        & NA               & 2022-01-01 & 2022 & 1 & Degrees Compass               & NA & 24 & 100 &  140.791667 &   195.00 & 15 & .  & Y\\\\\n",
       "\t 84313 & 1 & Black carbon PM2.5 STP       & 1 HOUR        & NA               & 2022-01-01 & 2022 & 1 & Micrograms/cubic meter (25 C) & NA & 24 & 100 &    0.458333 &     1.25 &  1 & .  & Y\\\\\n",
       "\t 88101 & 3 & PM2.5 - Local Conditions     & 24-HR BLK AVG & PM25 Annual 2012 & 2022-01-01 & 2022 & 1 & Micrograms/cubic meter (LC)   & NA &  1 & 100 &    7.100000 &     7.10 &  0 & 30 & Y\\\\\n",
       "\\end{tabular}\n"
      ],
      "text/markdown": [
       "\n",
       "A tibble: 6 × 17\n",
       "\n",
       "| parameter_code &lt;dbl&gt; | poc &lt;dbl&gt; | parameter_name &lt;chr&gt; | duration_description &lt;chr&gt; | pollutant_standard &lt;chr&gt; | date_local &lt;date&gt; | year &lt;dbl&gt; | day_in_year_local &lt;dbl&gt; | units_of_measure &lt;chr&gt; | exceptional_data_type &lt;lgl&gt; | observation_count &lt;dbl&gt; | observation_percent &lt;dbl&gt; | arithmetic_mean &lt;dbl&gt; | first_maximum_value &lt;dbl&gt; | first_maximum_hour &lt;dbl&gt; | aqi &lt;chr&gt; | daily_criteria_indicator &lt;chr&gt; |\n",
       "|---|---|---|---|---|---|---|---|---|---|---|---|---|---|---|---|---|\n",
       "| 87101 | 1 | Particle Number, Total Count | 1 HOUR        | NA               | 2022-01-01 | 2022 | 1 | Count per cm^3                | NA | 24 | 100 | 7062.208333 | 14300.00 | 17 | .  | Y |\n",
       "| 61107 | 1 | Std Dev Vt Wind Direction    | 1 HOUR        | NA               | 2022-01-01 | 2022 | 1 | Degrees Compass               | NA | 24 | 100 |   17.166667 |    25.00 |  7 | .  | Y |\n",
       "| 62101 | 1 | Outdoor Temperature          | 1 HOUR        | NA               | 2022-01-01 | 2022 | 1 | Degrees Fahrenheit            | NA | 24 | 100 |   48.958333 |    54.00 | 15 | .  | Y |\n",
       "| 61104 | 1 | Wind Direction - Resultant   | 1 HOUR        | NA               | 2022-01-01 | 2022 | 1 | Degrees Compass               | NA | 24 | 100 |  140.791667 |   195.00 | 15 | .  | Y |\n",
       "| 84313 | 1 | Black carbon PM2.5 STP       | 1 HOUR        | NA               | 2022-01-01 | 2022 | 1 | Micrograms/cubic meter (25 C) | NA | 24 | 100 |    0.458333 |     1.25 |  1 | .  | Y |\n",
       "| 88101 | 3 | PM2.5 - Local Conditions     | 24-HR BLK AVG | PM25 Annual 2012 | 2022-01-01 | 2022 | 1 | Micrograms/cubic meter (LC)   | NA |  1 | 100 |    7.100000 |     7.10 |  0 | 30 | Y |\n",
       "\n"
      ],
      "text/plain": [
       "  parameter_code poc parameter_name               duration_description\n",
       "1 87101          1   Particle Number, Total Count 1 HOUR              \n",
       "2 61107          1   Std Dev Vt Wind Direction    1 HOUR              \n",
       "3 62101          1   Outdoor Temperature          1 HOUR              \n",
       "4 61104          1   Wind Direction - Resultant   1 HOUR              \n",
       "5 84313          1   Black carbon PM2.5 STP       1 HOUR              \n",
       "6 88101          3   PM2.5 - Local Conditions     24-HR BLK AVG       \n",
       "  pollutant_standard date_local year day_in_year_local\n",
       "1 NA                 2022-01-01 2022 1                \n",
       "2 NA                 2022-01-01 2022 1                \n",
       "3 NA                 2022-01-01 2022 1                \n",
       "4 NA                 2022-01-01 2022 1                \n",
       "5 NA                 2022-01-01 2022 1                \n",
       "6 PM25 Annual 2012   2022-01-01 2022 1                \n",
       "  units_of_measure              exceptional_data_type observation_count\n",
       "1 Count per cm^3                NA                    24               \n",
       "2 Degrees Compass               NA                    24               \n",
       "3 Degrees Fahrenheit            NA                    24               \n",
       "4 Degrees Compass               NA                    24               \n",
       "5 Micrograms/cubic meter (25 C) NA                    24               \n",
       "6 Micrograms/cubic meter (LC)   NA                     1               \n",
       "  observation_percent arithmetic_mean first_maximum_value first_maximum_hour\n",
       "1 100                 7062.208333     14300.00            17                \n",
       "2 100                   17.166667        25.00             7                \n",
       "3 100                   48.958333        54.00            15                \n",
       "4 100                  140.791667       195.00            15                \n",
       "5 100                    0.458333         1.25             1                \n",
       "6 100                    7.100000         7.10             0                \n",
       "  aqi daily_criteria_indicator\n",
       "1 .   Y                       \n",
       "2 .   Y                       \n",
       "3 .   Y                       \n",
       "4 .   Y                       \n",
       "5 .   Y                       \n",
       "6 30  Y                       "
      ]
     },
     "metadata": {},
     "output_type": "display_data"
    }
   ],
   "source": [
    "# Convert string date to Date field type\n",
    "df_2022_01_curated <- df_2022_01_curated %>%\n",
    "    mutate(date_local = as.Date(date_local, format = \"%Y-%m-%d\"))\n",
    "\n",
    "# See the updated data type\n",
    "head(df_2022_01_curated)"
   ]
  },
  {
   "cell_type": "code",
   "execution_count": 223,
   "metadata": {},
   "outputs": [
    {
     "name": "stdout",
     "output_type": "stream",
     "text": [
      "tibble [743 × 17] (S3: tbl_df/tbl/data.frame)\n",
      " $ parameter_code          : num [1:743] 87101 61107 62101 61104 84313 ...\n",
      " $ poc                     : num [1:743] 1 1 1 1 1 3 3 3 1 1 ...\n",
      " $ parameter_name          : chr [1:743] \"Particle Number, Total Count\" \"Std Dev Vt Wind Direction\" \"Outdoor Temperature\" \"Wind Direction - Resultant\" ...\n",
      " $ duration_description    : chr [1:743] \"1 HOUR\" \"1 HOUR\" \"1 HOUR\" \"1 HOUR\" ...\n",
      " $ pollutant_standard      : chr [1:743] NA NA NA NA ...\n",
      " $ date_local              : Date[1:743], format: \"2022-01-01\" \"2022-01-01\" ...\n",
      " $ year                    : num [1:743] 2022 2022 2022 2022 2022 ...\n",
      " $ day_in_year_local       : num [1:743] 1 1 1 1 1 1 1 1 1 2 ...\n",
      " $ units_of_measure        : chr [1:743] \"Count per cm^3\" \"Degrees Compass\" \"Degrees Fahrenheit\" \"Degrees Compass\" ...\n",
      " $ exceptional_data_type   : logi [1:743] NA NA NA NA NA NA ...\n",
      " $ observation_count       : num [1:743] 24 24 24 24 24 1 1 24 24 24 ...\n",
      " $ observation_percent     : num [1:743] 100 100 100 100 100 100 100 100 100 100 ...\n",
      " $ arithmetic_mean         : num [1:743] 7062.208 17.167 48.958 140.792 0.458 ...\n",
      " $ first_maximum_value     : num [1:743] 14300 25 54 195 1.25 7.1 7.1 38 100 0.56 ...\n",
      " $ first_maximum_hour      : num [1:743] 17 7 15 15 1 0 0 0 0 13 ...\n",
      " $ aqi                     : chr [1:743] \".\" \".\" \".\" \".\" ...\n",
      " $ daily_criteria_indicator: chr [1:743] \"Y\" \"Y\" \"Y\" \"Y\" ...\n"
     ]
    }
   ],
   "source": [
    "str(df_2022_01_curated)"
   ]
  },
  {
   "cell_type": "markdown",
   "metadata": {},
   "source": [
    "Great! We've cut down the number of columns and converted the date field to a datetime format!\n",
    "Next lets see how we can add more data from other files."
   ]
  },
  {
   "cell_type": "markdown",
   "metadata": {},
   "source": [
    "## 4. Concatenation\n",
    "So far we've worked with one month's worth of data. Let's see how we can combine DataFrames together.\n",
    "\n",
    "We will be using the [`bind_rows`](https://dplyr.tidyverse.org/reference/bind.html) function to combine two or more DataFrames.\n"
   ]
  },
  {
   "cell_type": "code",
   "execution_count": 224,
   "metadata": {},
   "outputs": [
    {
     "name": "stderr",
     "output_type": "stream",
     "text": [
      "\u001b[1mRows: \u001b[22m\u001b[34m699\u001b[39m \u001b[1mColumns: \u001b[22m\u001b[34m34\u001b[39m\n",
      "\u001b[36m──\u001b[39m \u001b[1mColumn specification\u001b[22m \u001b[36m────────────────────────────────────────────────────────\u001b[39m\n",
      "\u001b[1mDelimiter:\u001b[22m \",\"\n",
      "\u001b[31mchr\u001b[39m  (14): Datum, Parameter Name, Duration Description, Pollutant Standard, ...\n",
      "\u001b[32mdbl\u001b[39m  (14): State Code, County Code, Site Number, Parameter Code, POC, Latitu...\n",
      "\u001b[33mlgl\u001b[39m   (5): Exceptional Data Type, Nonreg Observation Count, Nonreg Arithmeti...\n",
      "\u001b[34mdate\u001b[39m  (1): Date (Local)\n",
      "\n",
      "\u001b[36mℹ\u001b[39m Use `spec()` to retrieve the full column specification for this data.\n",
      "\u001b[36mℹ\u001b[39m Specify the column types or set `show_col_types = FALSE` to quiet this message.\n"
     ]
    },
    {
     "data": {
      "text/html": [
       "<table class=\"dataframe\">\n",
       "<caption>A tibble: 6 × 17</caption>\n",
       "<thead>\n",
       "\t<tr><th scope=col>parameter_code</th><th scope=col>poc</th><th scope=col>parameter_name</th><th scope=col>duration_description</th><th scope=col>pollutant_standard</th><th scope=col>date_local</th><th scope=col>year</th><th scope=col>day_in_year_local</th><th scope=col>units_of_measure</th><th scope=col>exceptional_data_type</th><th scope=col>observation_count</th><th scope=col>observation_percent</th><th scope=col>arithmetic_mean</th><th scope=col>first_maximum_value</th><th scope=col>first_maximum_hour</th><th scope=col>aqi</th><th scope=col>daily_criteria_indicator</th></tr>\n",
       "\t<tr><th scope=col>&lt;dbl&gt;</th><th scope=col>&lt;dbl&gt;</th><th scope=col>&lt;chr&gt;</th><th scope=col>&lt;chr&gt;</th><th scope=col>&lt;chr&gt;</th><th scope=col>&lt;date&gt;</th><th scope=col>&lt;dbl&gt;</th><th scope=col>&lt;dbl&gt;</th><th scope=col>&lt;chr&gt;</th><th scope=col>&lt;lgl&gt;</th><th scope=col>&lt;dbl&gt;</th><th scope=col>&lt;dbl&gt;</th><th scope=col>&lt;dbl&gt;</th><th scope=col>&lt;dbl&gt;</th><th scope=col>&lt;dbl&gt;</th><th scope=col>&lt;chr&gt;</th><th scope=col>&lt;chr&gt;</th></tr>\n",
       "</thead>\n",
       "<tbody>\n",
       "\t<tr><td>61107</td><td>1</td><td>Std Dev Vt Wind Direction   </td><td>1 HOUR</td><td>NA</td><td>2022-02-01</td><td>2022</td><td>32</td><td>Degrees Compass            </td><td>NA</td><td>24</td><td>100</td><td>   30.12500</td><td>   44.0</td><td>17</td><td>.</td><td>Y</td></tr>\n",
       "\t<tr><td>88101</td><td>3</td><td>PM2.5 - Local Conditions    </td><td>1 HOUR</td><td>NA</td><td>2022-02-01</td><td>2022</td><td>32</td><td>Micrograms/cubic meter (LC)</td><td>NA</td><td>12</td><td> 50</td><td>   18.33333</td><td>   29.0</td><td> 0</td><td>.</td><td>N</td></tr>\n",
       "\t<tr><td>61104</td><td>1</td><td>Wind Direction - Resultant  </td><td>1 HOUR</td><td>NA</td><td>2022-02-01</td><td>2022</td><td>32</td><td>Degrees Compass            </td><td>NA</td><td>24</td><td>100</td><td>  241.58333</td><td>  357.0</td><td>12</td><td>.</td><td>Y</td></tr>\n",
       "\t<tr><td>87101</td><td>1</td><td>Particle Number, Total Count</td><td>1 HOUR</td><td>NA</td><td>2022-02-01</td><td>2022</td><td>32</td><td>Count per cm^3             </td><td>NA</td><td>24</td><td>100</td><td>25241.33333</td><td>39175.0</td><td> 7</td><td>.</td><td>Y</td></tr>\n",
       "\t<tr><td>62101</td><td>1</td><td>Outdoor Temperature         </td><td>1 HOUR</td><td>NA</td><td>2022-02-01</td><td>2022</td><td>32</td><td>Degrees Fahrenheit         </td><td>NA</td><td>24</td><td>100</td><td>   25.20833</td><td>   34.0</td><td>13</td><td>.</td><td>Y</td></tr>\n",
       "\t<tr><td>61103</td><td>1</td><td>Wind Speed - Resultant      </td><td>1 HOUR</td><td>NA</td><td>2022-02-01</td><td>2022</td><td>32</td><td>Knots                      </td><td>NA</td><td>24</td><td>100</td><td>    3.11250</td><td>    4.4</td><td>14</td><td>.</td><td>Y</td></tr>\n",
       "</tbody>\n",
       "</table>\n"
      ],
      "text/latex": [
       "A tibble: 6 × 17\n",
       "\\begin{tabular}{lllllllllllllllll}\n",
       " parameter\\_code & poc & parameter\\_name & duration\\_description & pollutant\\_standard & date\\_local & year & day\\_in\\_year\\_local & units\\_of\\_measure & exceptional\\_data\\_type & observation\\_count & observation\\_percent & arithmetic\\_mean & first\\_maximum\\_value & first\\_maximum\\_hour & aqi & daily\\_criteria\\_indicator\\\\\n",
       " <dbl> & <dbl> & <chr> & <chr> & <chr> & <date> & <dbl> & <dbl> & <chr> & <lgl> & <dbl> & <dbl> & <dbl> & <dbl> & <dbl> & <chr> & <chr>\\\\\n",
       "\\hline\n",
       "\t 61107 & 1 & Std Dev Vt Wind Direction    & 1 HOUR & NA & 2022-02-01 & 2022 & 32 & Degrees Compass             & NA & 24 & 100 &    30.12500 &    44.0 & 17 & . & Y\\\\\n",
       "\t 88101 & 3 & PM2.5 - Local Conditions     & 1 HOUR & NA & 2022-02-01 & 2022 & 32 & Micrograms/cubic meter (LC) & NA & 12 &  50 &    18.33333 &    29.0 &  0 & . & N\\\\\n",
       "\t 61104 & 1 & Wind Direction - Resultant   & 1 HOUR & NA & 2022-02-01 & 2022 & 32 & Degrees Compass             & NA & 24 & 100 &   241.58333 &   357.0 & 12 & . & Y\\\\\n",
       "\t 87101 & 1 & Particle Number, Total Count & 1 HOUR & NA & 2022-02-01 & 2022 & 32 & Count per cm\\textasciicircum{}3              & NA & 24 & 100 & 25241.33333 & 39175.0 &  7 & . & Y\\\\\n",
       "\t 62101 & 1 & Outdoor Temperature          & 1 HOUR & NA & 2022-02-01 & 2022 & 32 & Degrees Fahrenheit          & NA & 24 & 100 &    25.20833 &    34.0 & 13 & . & Y\\\\\n",
       "\t 61103 & 1 & Wind Speed - Resultant       & 1 HOUR & NA & 2022-02-01 & 2022 & 32 & Knots                       & NA & 24 & 100 &     3.11250 &     4.4 & 14 & . & Y\\\\\n",
       "\\end{tabular}\n"
      ],
      "text/markdown": [
       "\n",
       "A tibble: 6 × 17\n",
       "\n",
       "| parameter_code &lt;dbl&gt; | poc &lt;dbl&gt; | parameter_name &lt;chr&gt; | duration_description &lt;chr&gt; | pollutant_standard &lt;chr&gt; | date_local &lt;date&gt; | year &lt;dbl&gt; | day_in_year_local &lt;dbl&gt; | units_of_measure &lt;chr&gt; | exceptional_data_type &lt;lgl&gt; | observation_count &lt;dbl&gt; | observation_percent &lt;dbl&gt; | arithmetic_mean &lt;dbl&gt; | first_maximum_value &lt;dbl&gt; | first_maximum_hour &lt;dbl&gt; | aqi &lt;chr&gt; | daily_criteria_indicator &lt;chr&gt; |\n",
       "|---|---|---|---|---|---|---|---|---|---|---|---|---|---|---|---|---|\n",
       "| 61107 | 1 | Std Dev Vt Wind Direction    | 1 HOUR | NA | 2022-02-01 | 2022 | 32 | Degrees Compass             | NA | 24 | 100 |    30.12500 |    44.0 | 17 | . | Y |\n",
       "| 88101 | 3 | PM2.5 - Local Conditions     | 1 HOUR | NA | 2022-02-01 | 2022 | 32 | Micrograms/cubic meter (LC) | NA | 12 |  50 |    18.33333 |    29.0 |  0 | . | N |\n",
       "| 61104 | 1 | Wind Direction - Resultant   | 1 HOUR | NA | 2022-02-01 | 2022 | 32 | Degrees Compass             | NA | 24 | 100 |   241.58333 |   357.0 | 12 | . | Y |\n",
       "| 87101 | 1 | Particle Number, Total Count | 1 HOUR | NA | 2022-02-01 | 2022 | 32 | Count per cm^3              | NA | 24 | 100 | 25241.33333 | 39175.0 |  7 | . | Y |\n",
       "| 62101 | 1 | Outdoor Temperature          | 1 HOUR | NA | 2022-02-01 | 2022 | 32 | Degrees Fahrenheit          | NA | 24 | 100 |    25.20833 |    34.0 | 13 | . | Y |\n",
       "| 61103 | 1 | Wind Speed - Resultant       | 1 HOUR | NA | 2022-02-01 | 2022 | 32 | Knots                       | NA | 24 | 100 |     3.11250 |     4.4 | 14 | . | Y |\n",
       "\n"
      ],
      "text/plain": [
       "  parameter_code poc parameter_name               duration_description\n",
       "1 61107          1   Std Dev Vt Wind Direction    1 HOUR              \n",
       "2 88101          3   PM2.5 - Local Conditions     1 HOUR              \n",
       "3 61104          1   Wind Direction - Resultant   1 HOUR              \n",
       "4 87101          1   Particle Number, Total Count 1 HOUR              \n",
       "5 62101          1   Outdoor Temperature          1 HOUR              \n",
       "6 61103          1   Wind Speed - Resultant       1 HOUR              \n",
       "  pollutant_standard date_local year day_in_year_local\n",
       "1 NA                 2022-02-01 2022 32               \n",
       "2 NA                 2022-02-01 2022 32               \n",
       "3 NA                 2022-02-01 2022 32               \n",
       "4 NA                 2022-02-01 2022 32               \n",
       "5 NA                 2022-02-01 2022 32               \n",
       "6 NA                 2022-02-01 2022 32               \n",
       "  units_of_measure            exceptional_data_type observation_count\n",
       "1 Degrees Compass             NA                    24               \n",
       "2 Micrograms/cubic meter (LC) NA                    12               \n",
       "3 Degrees Compass             NA                    24               \n",
       "4 Count per cm^3              NA                    24               \n",
       "5 Degrees Fahrenheit          NA                    24               \n",
       "6 Knots                       NA                    24               \n",
       "  observation_percent arithmetic_mean first_maximum_value first_maximum_hour\n",
       "1 100                    30.12500        44.0             17                \n",
       "2  50                    18.33333        29.0              0                \n",
       "3 100                   241.58333       357.0             12                \n",
       "4 100                 25241.33333     39175.0              7                \n",
       "5 100                    25.20833        34.0             13                \n",
       "6 100                     3.11250         4.4             14                \n",
       "  aqi daily_criteria_indicator\n",
       "1 .   Y                       \n",
       "2 .   N                       \n",
       "3 .   Y                       \n",
       "4 .   Y                       \n",
       "5 .   Y                       \n",
       "6 .   Y                       "
      ]
     },
     "metadata": {},
     "output_type": "display_data"
    }
   ],
   "source": [
    "# Read in Feburary data\n",
    "df_2022_02 <- read_csv(file.path(path_to_monthly_data, 'daily_44_007_0022_2022_02.csv'))\n",
    "\n",
    "df_2022_02_curated <- df_2022_02 %>%\n",
    "    rename_with(to_snake_case) %>%\n",
    "    select(all_of(keep_cols)) %>%\n",
    "    mutate(date_local = as.Date(date_local, format = \"%Y-%m-%d\"))\n",
    "    \n",
    "head(df_2022_02_curated)"
   ]
  },
  {
   "cell_type": "markdown",
   "metadata": {},
   "source": [
    "<div class=\"alert alert-block alert-info\">\n",
    "<b>Bind multiple data frames by row</b>\n",
    "\n",
    "Bind any number of data frames by row, making a longer result. This is similar to do.call(rbind, dfs), but the output will contain all columns that appear in any of the inputs.\n",
    "\n",
    "`bind_rows(..., .id=NULL)`\n",
    "\n",
    "[Documentation Link](https://dplyr.tidyverse.org/reference/bind_rows.html)\n",
    "</div>\n"
   ]
  },
  {
   "cell_type": "code",
   "execution_count": 225,
   "metadata": {},
   "outputs": [],
   "source": [
    "# Concatenate\n",
    "df_combined <- bind_rows(df_2022_01_curated, df_2022_02_curated)"
   ]
  },
  {
   "cell_type": "code",
   "execution_count": 226,
   "metadata": {},
   "outputs": [
    {
     "data": {
      "text/html": [
       "<style>\n",
       ".list-inline {list-style: none; margin:0; padding: 0}\n",
       ".list-inline>li {display: inline-block}\n",
       ".list-inline>li:not(:last-child)::after {content: \"\\00b7\"; padding: 0 .5ex}\n",
       "</style>\n",
       "<ol class=list-inline><li>743</li><li>17</li></ol>\n"
      ],
      "text/latex": [
       "\\begin{enumerate*}\n",
       "\\item 743\n",
       "\\item 17\n",
       "\\end{enumerate*}\n"
      ],
      "text/markdown": [
       "1. 743\n",
       "2. 17\n",
       "\n",
       "\n"
      ],
      "text/plain": [
       "[1] 743  17"
      ]
     },
     "metadata": {},
     "output_type": "display_data"
    },
    {
     "data": {
      "text/html": [
       "<style>\n",
       ".list-inline {list-style: none; margin:0; padding: 0}\n",
       ".list-inline>li {display: inline-block}\n",
       ".list-inline>li:not(:last-child)::after {content: \"\\00b7\"; padding: 0 .5ex}\n",
       "</style>\n",
       "<ol class=list-inline><li>699</li><li>17</li></ol>\n"
      ],
      "text/latex": [
       "\\begin{enumerate*}\n",
       "\\item 699\n",
       "\\item 17\n",
       "\\end{enumerate*}\n"
      ],
      "text/markdown": [
       "1. 699\n",
       "2. 17\n",
       "\n",
       "\n"
      ],
      "text/plain": [
       "[1] 699  17"
      ]
     },
     "metadata": {},
     "output_type": "display_data"
    },
    {
     "data": {
      "text/html": [
       "<style>\n",
       ".list-inline {list-style: none; margin:0; padding: 0}\n",
       ".list-inline>li {display: inline-block}\n",
       ".list-inline>li:not(:last-child)::after {content: \"\\00b7\"; padding: 0 .5ex}\n",
       "</style>\n",
       "<ol class=list-inline><li>1442</li><li>17</li></ol>\n"
      ],
      "text/latex": [
       "\\begin{enumerate*}\n",
       "\\item 1442\n",
       "\\item 17\n",
       "\\end{enumerate*}\n"
      ],
      "text/markdown": [
       "1. 1442\n",
       "2. 17\n",
       "\n",
       "\n"
      ],
      "text/plain": [
       "[1] 1442   17"
      ]
     },
     "metadata": {},
     "output_type": "display_data"
    }
   ],
   "source": [
    "# Observe dimensions\n",
    "dim(df_2022_01_curated)\n",
    "dim(df_2022_02_curated)\n",
    "dim(df_combined)"
   ]
  },
  {
   "cell_type": "code",
   "execution_count": 227,
   "metadata": {},
   "outputs": [
    {
     "data": {
      "text/html": [
       "<table class=\"dataframe\">\n",
       "<caption>A tibble: 6 × 17</caption>\n",
       "<thead>\n",
       "\t<tr><th scope=col>parameter_code</th><th scope=col>poc</th><th scope=col>parameter_name</th><th scope=col>duration_description</th><th scope=col>pollutant_standard</th><th scope=col>date_local</th><th scope=col>year</th><th scope=col>day_in_year_local</th><th scope=col>units_of_measure</th><th scope=col>exceptional_data_type</th><th scope=col>observation_count</th><th scope=col>observation_percent</th><th scope=col>arithmetic_mean</th><th scope=col>first_maximum_value</th><th scope=col>first_maximum_hour</th><th scope=col>aqi</th><th scope=col>daily_criteria_indicator</th></tr>\n",
       "\t<tr><th scope=col>&lt;dbl&gt;</th><th scope=col>&lt;dbl&gt;</th><th scope=col>&lt;chr&gt;</th><th scope=col>&lt;chr&gt;</th><th scope=col>&lt;chr&gt;</th><th scope=col>&lt;date&gt;</th><th scope=col>&lt;dbl&gt;</th><th scope=col>&lt;dbl&gt;</th><th scope=col>&lt;chr&gt;</th><th scope=col>&lt;lgl&gt;</th><th scope=col>&lt;dbl&gt;</th><th scope=col>&lt;dbl&gt;</th><th scope=col>&lt;dbl&gt;</th><th scope=col>&lt;dbl&gt;</th><th scope=col>&lt;dbl&gt;</th><th scope=col>&lt;chr&gt;</th><th scope=col>&lt;chr&gt;</th></tr>\n",
       "</thead>\n",
       "<tbody>\n",
       "\t<tr><td>87101</td><td>1</td><td>Particle Number, Total Count</td><td>1 HOUR       </td><td>NA              </td><td>2022-01-01</td><td>2022</td><td>1</td><td>Count per cm^3               </td><td>NA</td><td>24</td><td>100</td><td>7062.208333</td><td>14300.00</td><td>17</td><td>. </td><td>Y</td></tr>\n",
       "\t<tr><td>61107</td><td>1</td><td>Std Dev Vt Wind Direction   </td><td>1 HOUR       </td><td>NA              </td><td>2022-01-01</td><td>2022</td><td>1</td><td>Degrees Compass              </td><td>NA</td><td>24</td><td>100</td><td>  17.166667</td><td>   25.00</td><td> 7</td><td>. </td><td>Y</td></tr>\n",
       "\t<tr><td>62101</td><td>1</td><td>Outdoor Temperature         </td><td>1 HOUR       </td><td>NA              </td><td>2022-01-01</td><td>2022</td><td>1</td><td>Degrees Fahrenheit           </td><td>NA</td><td>24</td><td>100</td><td>  48.958333</td><td>   54.00</td><td>15</td><td>. </td><td>Y</td></tr>\n",
       "\t<tr><td>61104</td><td>1</td><td>Wind Direction - Resultant  </td><td>1 HOUR       </td><td>NA              </td><td>2022-01-01</td><td>2022</td><td>1</td><td>Degrees Compass              </td><td>NA</td><td>24</td><td>100</td><td> 140.791667</td><td>  195.00</td><td>15</td><td>. </td><td>Y</td></tr>\n",
       "\t<tr><td>84313</td><td>1</td><td>Black carbon PM2.5 STP      </td><td>1 HOUR       </td><td>NA              </td><td>2022-01-01</td><td>2022</td><td>1</td><td>Micrograms/cubic meter (25 C)</td><td>NA</td><td>24</td><td>100</td><td>   0.458333</td><td>    1.25</td><td> 1</td><td>. </td><td>Y</td></tr>\n",
       "\t<tr><td>88101</td><td>3</td><td>PM2.5 - Local Conditions    </td><td>24-HR BLK AVG</td><td>PM25 Annual 2012</td><td>2022-01-01</td><td>2022</td><td>1</td><td>Micrograms/cubic meter (LC)  </td><td>NA</td><td> 1</td><td>100</td><td>   7.100000</td><td>    7.10</td><td> 0</td><td>30</td><td>Y</td></tr>\n",
       "</tbody>\n",
       "</table>\n"
      ],
      "text/latex": [
       "A tibble: 6 × 17\n",
       "\\begin{tabular}{lllllllllllllllll}\n",
       " parameter\\_code & poc & parameter\\_name & duration\\_description & pollutant\\_standard & date\\_local & year & day\\_in\\_year\\_local & units\\_of\\_measure & exceptional\\_data\\_type & observation\\_count & observation\\_percent & arithmetic\\_mean & first\\_maximum\\_value & first\\_maximum\\_hour & aqi & daily\\_criteria\\_indicator\\\\\n",
       " <dbl> & <dbl> & <chr> & <chr> & <chr> & <date> & <dbl> & <dbl> & <chr> & <lgl> & <dbl> & <dbl> & <dbl> & <dbl> & <dbl> & <chr> & <chr>\\\\\n",
       "\\hline\n",
       "\t 87101 & 1 & Particle Number, Total Count & 1 HOUR        & NA               & 2022-01-01 & 2022 & 1 & Count per cm\\textasciicircum{}3                & NA & 24 & 100 & 7062.208333 & 14300.00 & 17 & .  & Y\\\\\n",
       "\t 61107 & 1 & Std Dev Vt Wind Direction    & 1 HOUR        & NA               & 2022-01-01 & 2022 & 1 & Degrees Compass               & NA & 24 & 100 &   17.166667 &    25.00 &  7 & .  & Y\\\\\n",
       "\t 62101 & 1 & Outdoor Temperature          & 1 HOUR        & NA               & 2022-01-01 & 2022 & 1 & Degrees Fahrenheit            & NA & 24 & 100 &   48.958333 &    54.00 & 15 & .  & Y\\\\\n",
       "\t 61104 & 1 & Wind Direction - Resultant   & 1 HOUR        & NA               & 2022-01-01 & 2022 & 1 & Degrees Compass               & NA & 24 & 100 &  140.791667 &   195.00 & 15 & .  & Y\\\\\n",
       "\t 84313 & 1 & Black carbon PM2.5 STP       & 1 HOUR        & NA               & 2022-01-01 & 2022 & 1 & Micrograms/cubic meter (25 C) & NA & 24 & 100 &    0.458333 &     1.25 &  1 & .  & Y\\\\\n",
       "\t 88101 & 3 & PM2.5 - Local Conditions     & 24-HR BLK AVG & PM25 Annual 2012 & 2022-01-01 & 2022 & 1 & Micrograms/cubic meter (LC)   & NA &  1 & 100 &    7.100000 &     7.10 &  0 & 30 & Y\\\\\n",
       "\\end{tabular}\n"
      ],
      "text/markdown": [
       "\n",
       "A tibble: 6 × 17\n",
       "\n",
       "| parameter_code &lt;dbl&gt; | poc &lt;dbl&gt; | parameter_name &lt;chr&gt; | duration_description &lt;chr&gt; | pollutant_standard &lt;chr&gt; | date_local &lt;date&gt; | year &lt;dbl&gt; | day_in_year_local &lt;dbl&gt; | units_of_measure &lt;chr&gt; | exceptional_data_type &lt;lgl&gt; | observation_count &lt;dbl&gt; | observation_percent &lt;dbl&gt; | arithmetic_mean &lt;dbl&gt; | first_maximum_value &lt;dbl&gt; | first_maximum_hour &lt;dbl&gt; | aqi &lt;chr&gt; | daily_criteria_indicator &lt;chr&gt; |\n",
       "|---|---|---|---|---|---|---|---|---|---|---|---|---|---|---|---|---|\n",
       "| 87101 | 1 | Particle Number, Total Count | 1 HOUR        | NA               | 2022-01-01 | 2022 | 1 | Count per cm^3                | NA | 24 | 100 | 7062.208333 | 14300.00 | 17 | .  | Y |\n",
       "| 61107 | 1 | Std Dev Vt Wind Direction    | 1 HOUR        | NA               | 2022-01-01 | 2022 | 1 | Degrees Compass               | NA | 24 | 100 |   17.166667 |    25.00 |  7 | .  | Y |\n",
       "| 62101 | 1 | Outdoor Temperature          | 1 HOUR        | NA               | 2022-01-01 | 2022 | 1 | Degrees Fahrenheit            | NA | 24 | 100 |   48.958333 |    54.00 | 15 | .  | Y |\n",
       "| 61104 | 1 | Wind Direction - Resultant   | 1 HOUR        | NA               | 2022-01-01 | 2022 | 1 | Degrees Compass               | NA | 24 | 100 |  140.791667 |   195.00 | 15 | .  | Y |\n",
       "| 84313 | 1 | Black carbon PM2.5 STP       | 1 HOUR        | NA               | 2022-01-01 | 2022 | 1 | Micrograms/cubic meter (25 C) | NA | 24 | 100 |    0.458333 |     1.25 |  1 | .  | Y |\n",
       "| 88101 | 3 | PM2.5 - Local Conditions     | 24-HR BLK AVG | PM25 Annual 2012 | 2022-01-01 | 2022 | 1 | Micrograms/cubic meter (LC)   | NA |  1 | 100 |    7.100000 |     7.10 |  0 | 30 | Y |\n",
       "\n"
      ],
      "text/plain": [
       "  parameter_code poc parameter_name               duration_description\n",
       "1 87101          1   Particle Number, Total Count 1 HOUR              \n",
       "2 61107          1   Std Dev Vt Wind Direction    1 HOUR              \n",
       "3 62101          1   Outdoor Temperature          1 HOUR              \n",
       "4 61104          1   Wind Direction - Resultant   1 HOUR              \n",
       "5 84313          1   Black carbon PM2.5 STP       1 HOUR              \n",
       "6 88101          3   PM2.5 - Local Conditions     24-HR BLK AVG       \n",
       "  pollutant_standard date_local year day_in_year_local\n",
       "1 NA                 2022-01-01 2022 1                \n",
       "2 NA                 2022-01-01 2022 1                \n",
       "3 NA                 2022-01-01 2022 1                \n",
       "4 NA                 2022-01-01 2022 1                \n",
       "5 NA                 2022-01-01 2022 1                \n",
       "6 PM25 Annual 2012   2022-01-01 2022 1                \n",
       "  units_of_measure              exceptional_data_type observation_count\n",
       "1 Count per cm^3                NA                    24               \n",
       "2 Degrees Compass               NA                    24               \n",
       "3 Degrees Fahrenheit            NA                    24               \n",
       "4 Degrees Compass               NA                    24               \n",
       "5 Micrograms/cubic meter (25 C) NA                    24               \n",
       "6 Micrograms/cubic meter (LC)   NA                     1               \n",
       "  observation_percent arithmetic_mean first_maximum_value first_maximum_hour\n",
       "1 100                 7062.208333     14300.00            17                \n",
       "2 100                   17.166667        25.00             7                \n",
       "3 100                   48.958333        54.00            15                \n",
       "4 100                  140.791667       195.00            15                \n",
       "5 100                    0.458333         1.25             1                \n",
       "6 100                    7.100000         7.10             0                \n",
       "  aqi daily_criteria_indicator\n",
       "1 .   Y                       \n",
       "2 .   Y                       \n",
       "3 .   Y                       \n",
       "4 .   Y                       \n",
       "5 .   Y                       \n",
       "6 30  Y                       "
      ]
     },
     "metadata": {},
     "output_type": "display_data"
    },
    {
     "data": {
      "text/html": [
       "<table class=\"dataframe\">\n",
       "<caption>A tibble: 6 × 17</caption>\n",
       "<thead>\n",
       "\t<tr><th scope=col>parameter_code</th><th scope=col>poc</th><th scope=col>parameter_name</th><th scope=col>duration_description</th><th scope=col>pollutant_standard</th><th scope=col>date_local</th><th scope=col>year</th><th scope=col>day_in_year_local</th><th scope=col>units_of_measure</th><th scope=col>exceptional_data_type</th><th scope=col>observation_count</th><th scope=col>observation_percent</th><th scope=col>arithmetic_mean</th><th scope=col>first_maximum_value</th><th scope=col>first_maximum_hour</th><th scope=col>aqi</th><th scope=col>daily_criteria_indicator</th></tr>\n",
       "\t<tr><th scope=col>&lt;dbl&gt;</th><th scope=col>&lt;dbl&gt;</th><th scope=col>&lt;chr&gt;</th><th scope=col>&lt;chr&gt;</th><th scope=col>&lt;chr&gt;</th><th scope=col>&lt;date&gt;</th><th scope=col>&lt;dbl&gt;</th><th scope=col>&lt;dbl&gt;</th><th scope=col>&lt;chr&gt;</th><th scope=col>&lt;lgl&gt;</th><th scope=col>&lt;dbl&gt;</th><th scope=col>&lt;dbl&gt;</th><th scope=col>&lt;dbl&gt;</th><th scope=col>&lt;dbl&gt;</th><th scope=col>&lt;dbl&gt;</th><th scope=col>&lt;chr&gt;</th><th scope=col>&lt;chr&gt;</th></tr>\n",
       "</thead>\n",
       "<tbody>\n",
       "\t<tr><td>43815</td><td>2</td><td>Ethylene dichloride    </td><td>24 HOUR</td><td>NA</td><td>2022-02-28</td><td>2022</td><td>59</td><td>Parts per billion Carbon</td><td>NA</td><td>1</td><td>100</td><td>0.0</td><td>0.0</td><td>0</td><td>.</td><td>Y</td></tr>\n",
       "\t<tr><td>43802</td><td>2</td><td>Dichloromethane        </td><td>24 HOUR</td><td>NA</td><td>2022-02-28</td><td>2022</td><td>59</td><td>Parts per billion Carbon</td><td>NA</td><td>1</td><td>100</td><td>0.1</td><td>0.1</td><td>0</td><td>.</td><td>Y</td></tr>\n",
       "\t<tr><td>43817</td><td>2</td><td>Tetrachloroethylene    </td><td>24 HOUR</td><td>NA</td><td>2022-02-28</td><td>2022</td><td>59</td><td>Parts per billion Carbon</td><td>NA</td><td>1</td><td>100</td><td>0.0</td><td>0.0</td><td>0</td><td>.</td><td>Y</td></tr>\n",
       "\t<tr><td>43824</td><td>2</td><td>Trichloroethylene      </td><td>24 HOUR</td><td>NA</td><td>2022-02-28</td><td>2022</td><td>59</td><td>Parts per billion Carbon</td><td>NA</td><td>1</td><td>100</td><td>0.0</td><td>0.0</td><td>0</td><td>.</td><td>Y</td></tr>\n",
       "\t<tr><td>45807</td><td>2</td><td>1,4-Dichlorobenzene    </td><td>24 HOUR</td><td>NA</td><td>2022-02-28</td><td>2022</td><td>59</td><td>Parts per billion Carbon</td><td>NA</td><td>1</td><td>100</td><td>0.0</td><td>0.0</td><td>0</td><td>.</td><td>Y</td></tr>\n",
       "\t<tr><td>43372</td><td>2</td><td>Methyl tert-butyl ether</td><td>24 HOUR</td><td>NA</td><td>2022-02-28</td><td>2022</td><td>59</td><td>Parts per billion Carbon</td><td>NA</td><td>1</td><td>100</td><td>0.0</td><td>0.0</td><td>0</td><td>.</td><td>Y</td></tr>\n",
       "</tbody>\n",
       "</table>\n"
      ],
      "text/latex": [
       "A tibble: 6 × 17\n",
       "\\begin{tabular}{lllllllllllllllll}\n",
       " parameter\\_code & poc & parameter\\_name & duration\\_description & pollutant\\_standard & date\\_local & year & day\\_in\\_year\\_local & units\\_of\\_measure & exceptional\\_data\\_type & observation\\_count & observation\\_percent & arithmetic\\_mean & first\\_maximum\\_value & first\\_maximum\\_hour & aqi & daily\\_criteria\\_indicator\\\\\n",
       " <dbl> & <dbl> & <chr> & <chr> & <chr> & <date> & <dbl> & <dbl> & <chr> & <lgl> & <dbl> & <dbl> & <dbl> & <dbl> & <dbl> & <chr> & <chr>\\\\\n",
       "\\hline\n",
       "\t 43815 & 2 & Ethylene dichloride     & 24 HOUR & NA & 2022-02-28 & 2022 & 59 & Parts per billion Carbon & NA & 1 & 100 & 0.0 & 0.0 & 0 & . & Y\\\\\n",
       "\t 43802 & 2 & Dichloromethane         & 24 HOUR & NA & 2022-02-28 & 2022 & 59 & Parts per billion Carbon & NA & 1 & 100 & 0.1 & 0.1 & 0 & . & Y\\\\\n",
       "\t 43817 & 2 & Tetrachloroethylene     & 24 HOUR & NA & 2022-02-28 & 2022 & 59 & Parts per billion Carbon & NA & 1 & 100 & 0.0 & 0.0 & 0 & . & Y\\\\\n",
       "\t 43824 & 2 & Trichloroethylene       & 24 HOUR & NA & 2022-02-28 & 2022 & 59 & Parts per billion Carbon & NA & 1 & 100 & 0.0 & 0.0 & 0 & . & Y\\\\\n",
       "\t 45807 & 2 & 1,4-Dichlorobenzene     & 24 HOUR & NA & 2022-02-28 & 2022 & 59 & Parts per billion Carbon & NA & 1 & 100 & 0.0 & 0.0 & 0 & . & Y\\\\\n",
       "\t 43372 & 2 & Methyl tert-butyl ether & 24 HOUR & NA & 2022-02-28 & 2022 & 59 & Parts per billion Carbon & NA & 1 & 100 & 0.0 & 0.0 & 0 & . & Y\\\\\n",
       "\\end{tabular}\n"
      ],
      "text/markdown": [
       "\n",
       "A tibble: 6 × 17\n",
       "\n",
       "| parameter_code &lt;dbl&gt; | poc &lt;dbl&gt; | parameter_name &lt;chr&gt; | duration_description &lt;chr&gt; | pollutant_standard &lt;chr&gt; | date_local &lt;date&gt; | year &lt;dbl&gt; | day_in_year_local &lt;dbl&gt; | units_of_measure &lt;chr&gt; | exceptional_data_type &lt;lgl&gt; | observation_count &lt;dbl&gt; | observation_percent &lt;dbl&gt; | arithmetic_mean &lt;dbl&gt; | first_maximum_value &lt;dbl&gt; | first_maximum_hour &lt;dbl&gt; | aqi &lt;chr&gt; | daily_criteria_indicator &lt;chr&gt; |\n",
       "|---|---|---|---|---|---|---|---|---|---|---|---|---|---|---|---|---|\n",
       "| 43815 | 2 | Ethylene dichloride     | 24 HOUR | NA | 2022-02-28 | 2022 | 59 | Parts per billion Carbon | NA | 1 | 100 | 0.0 | 0.0 | 0 | . | Y |\n",
       "| 43802 | 2 | Dichloromethane         | 24 HOUR | NA | 2022-02-28 | 2022 | 59 | Parts per billion Carbon | NA | 1 | 100 | 0.1 | 0.1 | 0 | . | Y |\n",
       "| 43817 | 2 | Tetrachloroethylene     | 24 HOUR | NA | 2022-02-28 | 2022 | 59 | Parts per billion Carbon | NA | 1 | 100 | 0.0 | 0.0 | 0 | . | Y |\n",
       "| 43824 | 2 | Trichloroethylene       | 24 HOUR | NA | 2022-02-28 | 2022 | 59 | Parts per billion Carbon | NA | 1 | 100 | 0.0 | 0.0 | 0 | . | Y |\n",
       "| 45807 | 2 | 1,4-Dichlorobenzene     | 24 HOUR | NA | 2022-02-28 | 2022 | 59 | Parts per billion Carbon | NA | 1 | 100 | 0.0 | 0.0 | 0 | . | Y |\n",
       "| 43372 | 2 | Methyl tert-butyl ether | 24 HOUR | NA | 2022-02-28 | 2022 | 59 | Parts per billion Carbon | NA | 1 | 100 | 0.0 | 0.0 | 0 | . | Y |\n",
       "\n"
      ],
      "text/plain": [
       "  parameter_code poc parameter_name          duration_description\n",
       "1 43815          2   Ethylene dichloride     24 HOUR             \n",
       "2 43802          2   Dichloromethane         24 HOUR             \n",
       "3 43817          2   Tetrachloroethylene     24 HOUR             \n",
       "4 43824          2   Trichloroethylene       24 HOUR             \n",
       "5 45807          2   1,4-Dichlorobenzene     24 HOUR             \n",
       "6 43372          2   Methyl tert-butyl ether 24 HOUR             \n",
       "  pollutant_standard date_local year day_in_year_local units_of_measure        \n",
       "1 NA                 2022-02-28 2022 59                Parts per billion Carbon\n",
       "2 NA                 2022-02-28 2022 59                Parts per billion Carbon\n",
       "3 NA                 2022-02-28 2022 59                Parts per billion Carbon\n",
       "4 NA                 2022-02-28 2022 59                Parts per billion Carbon\n",
       "5 NA                 2022-02-28 2022 59                Parts per billion Carbon\n",
       "6 NA                 2022-02-28 2022 59                Parts per billion Carbon\n",
       "  exceptional_data_type observation_count observation_percent arithmetic_mean\n",
       "1 NA                    1                 100                 0.0            \n",
       "2 NA                    1                 100                 0.1            \n",
       "3 NA                    1                 100                 0.0            \n",
       "4 NA                    1                 100                 0.0            \n",
       "5 NA                    1                 100                 0.0            \n",
       "6 NA                    1                 100                 0.0            \n",
       "  first_maximum_value first_maximum_hour aqi daily_criteria_indicator\n",
       "1 0.0                 0                  .   Y                       \n",
       "2 0.1                 0                  .   Y                       \n",
       "3 0.0                 0                  .   Y                       \n",
       "4 0.0                 0                  .   Y                       \n",
       "5 0.0                 0                  .   Y                       \n",
       "6 0.0                 0                  .   Y                       "
      ]
     },
     "metadata": {},
     "output_type": "display_data"
    }
   ],
   "source": [
    "head(df_combined)\n",
    "tail(df_combined)"
   ]
  },
  {
   "cell_type": "markdown",
   "metadata": {},
   "source": [
    "### Concat all the files!\n",
    "Now that we've learned how to concatenate files. Let's combine all the monthly data.\n",
    "Doing it manually for each file would be cumbersome. So lets use a function!\n",
    "\n",
    "We won't have time to walk through this function in detail, but we encourage you to take a look on your own time. It covers concepts of:\n",
    "1) Defining a function with: arguments, defaults, and variable keyword arguments\n",
    "2) Listing files in a directory\n",
    "3) for loops\n",
    "4) if/else constructs\n",
    "5) What we just learned about reading csv and concatenation\n"
   ]
  },
  {
   "cell_type": "code",
   "execution_count": 228,
   "metadata": {},
   "outputs": [],
   "source": [
    "#' Combine CSV Files\n",
    "#'\n",
    "#' Searches a directory for text files, imports as a data frame and concatenates\n",
    "#' to a single data frame\n",
    "#' \n",
    "#' @param path path to directory\n",
    "#' @param prefix string prefix to search for\n",
    "#' @param suffix string suffix to search for, option, default \".csv\"\n",
    "#'\n",
    "#' @return dataFrame\n",
    "#'\n",
    "#' @examples\n",
    "combine_csv_files <- function(path, prefix, suffix=\".csv\") {\n",
    "    # List files in the directory\n",
    "    list_files_in_path <- sort(list.files(path_to_monthly_data))\n",
    "\n",
    "    # Initialize an empty list to store data frames\n",
    "    list_df <- list()\n",
    "\n",
    "    # Loop through files\n",
    "    for (file in list_files_in_path) {\n",
    "        # Check if the files starts with the prefix and ends with the suffix\n",
    "        if (startsWith(file, prefix) && endsWith(file, suffix)) {\n",
    "            # Read the CSV file\n",
    "            temp_df <- read_csv(file.path(path, file))\n",
    "\n",
    "            # Curate the data frame\n",
    "            temp_df_curated <- temp_df %>%\n",
    "                rename_with(to_snake_case) %>%\n",
    "                select(all_of(keep_cols)) %>%\n",
    "                mutate(date_local = as.Date(date_local, format = \"%Y-%m-%d\"))\n",
    "            \n",
    "            # Add to the list of data frames\n",
    "            # When appending a data frame to a list, it needs to be wraped in `list()` to ensure\n",
    "            # that is it treated as a single element within the list. Otherwise, R may try to \n",
    "            # append each column of data as separate elements\n",
    "            list_df <- append(list_df, list(temp_df_curated))\n",
    "        }\n",
    "    }\n",
    "\n",
    "    # Concatenate all of the data frames\n",
    "    return(bind_rows(list_df))\n",
    "}"
   ]
  },
  {
   "cell_type": "code",
   "execution_count": 229,
   "metadata": {},
   "outputs": [
    {
     "name": "stderr",
     "output_type": "stream",
     "text": [
      "\u001b[1mRows: \u001b[22m\u001b[34m743\u001b[39m \u001b[1mColumns: \u001b[22m\u001b[34m34\u001b[39m\n",
      "\u001b[36m──\u001b[39m \u001b[1mColumn specification\u001b[22m \u001b[36m────────────────────────────────────────────────────────\u001b[39m\n",
      "\u001b[1mDelimiter:\u001b[22m \",\"\n",
      "\u001b[31mchr\u001b[39m  (14): Datum, Parameter Name, Duration Description, Pollutant Standard, ...\n",
      "\u001b[32mdbl\u001b[39m  (14): State Code, County Code, Site Number, Parameter Code, POC, Latitu...\n",
      "\u001b[33mlgl\u001b[39m   (5): Exceptional Data Type, Nonreg Observation Count, Nonreg Arithmeti...\n",
      "\u001b[34mdate\u001b[39m  (1): Date (Local)\n",
      "\n",
      "\u001b[36mℹ\u001b[39m Use `spec()` to retrieve the full column specification for this data.\n",
      "\u001b[36mℹ\u001b[39m Specify the column types or set `show_col_types = FALSE` to quiet this message.\n",
      "\u001b[1mRows: \u001b[22m\u001b[34m699\u001b[39m \u001b[1mColumns: \u001b[22m\u001b[34m34\u001b[39m\n",
      "\u001b[36m──\u001b[39m \u001b[1mColumn specification\u001b[22m \u001b[36m────────────────────────────────────────────────────────\u001b[39m\n",
      "\u001b[1mDelimiter:\u001b[22m \",\"\n",
      "\u001b[31mchr\u001b[39m  (14): Datum, Parameter Name, Duration Description, Pollutant Standard, ...\n",
      "\u001b[32mdbl\u001b[39m  (14): State Code, County Code, Site Number, Parameter Code, POC, Latitu...\n",
      "\u001b[33mlgl\u001b[39m   (5): Exceptional Data Type, Nonreg Observation Count, Nonreg Arithmeti...\n",
      "\u001b[34mdate\u001b[39m  (1): Date (Local)\n",
      "\n",
      "\u001b[36mℹ\u001b[39m Use `spec()` to retrieve the full column specification for this data.\n",
      "\u001b[36mℹ\u001b[39m Specify the column types or set `show_col_types = FALSE` to quiet this message.\n",
      "\u001b[1mRows: \u001b[22m\u001b[34m757\u001b[39m \u001b[1mColumns: \u001b[22m\u001b[34m34\u001b[39m\n",
      "\u001b[36m──\u001b[39m \u001b[1mColumn specification\u001b[22m \u001b[36m────────────────────────────────────────────────────────\u001b[39m\n",
      "\u001b[1mDelimiter:\u001b[22m \",\"\n",
      "\u001b[31mchr\u001b[39m  (14): Datum, Parameter Name, Duration Description, Pollutant Standard, ...\n",
      "\u001b[32mdbl\u001b[39m  (14): State Code, County Code, Site Number, Parameter Code, POC, Latitu...\n",
      "\u001b[33mlgl\u001b[39m   (5): Exceptional Data Type, Nonreg Observation Count, Nonreg Arithmeti...\n",
      "\u001b[34mdate\u001b[39m  (1): Date (Local)\n",
      "\n",
      "\u001b[36mℹ\u001b[39m Use `spec()` to retrieve the full column specification for this data.\n",
      "\u001b[36mℹ\u001b[39m Specify the column types or set `show_col_types = FALSE` to quiet this message.\n",
      "\u001b[1mRows: \u001b[22m\u001b[34m649\u001b[39m \u001b[1mColumns: \u001b[22m\u001b[34m34\u001b[39m\n",
      "\u001b[36m──\u001b[39m \u001b[1mColumn specification\u001b[22m \u001b[36m────────────────────────────────────────────────────────\u001b[39m\n",
      "\u001b[1mDelimiter:\u001b[22m \",\"\n",
      "\u001b[31mchr\u001b[39m  (14): Datum, Parameter Name, Duration Description, Pollutant Standard, ...\n",
      "\u001b[32mdbl\u001b[39m  (14): State Code, County Code, Site Number, Parameter Code, POC, Latitu...\n",
      "\u001b[33mlgl\u001b[39m   (5): Exceptional Data Type, Nonreg Observation Count, Nonreg Arithmeti...\n",
      "\u001b[34mdate\u001b[39m  (1): Date (Local)\n",
      "\n",
      "\u001b[36mℹ\u001b[39m Use `spec()` to retrieve the full column specification for this data.\n",
      "\u001b[36mℹ\u001b[39m Specify the column types or set `show_col_types = FALSE` to quiet this message.\n",
      "\u001b[1mRows: \u001b[22m\u001b[34m741\u001b[39m \u001b[1mColumns: \u001b[22m\u001b[34m34\u001b[39m\n",
      "\u001b[36m──\u001b[39m \u001b[1mColumn specification\u001b[22m \u001b[36m────────────────────────────────────────────────────────\u001b[39m\n",
      "\u001b[1mDelimiter:\u001b[22m \",\"\n",
      "\u001b[31mchr\u001b[39m  (14): Datum, Parameter Name, Duration Description, Pollutant Standard, ...\n",
      "\u001b[32mdbl\u001b[39m  (14): State Code, County Code, Site Number, Parameter Code, POC, Latitu...\n",
      "\u001b[33mlgl\u001b[39m   (5): Exceptional Data Type, Nonreg Observation Count, Nonreg Arithmeti...\n",
      "\u001b[34mdate\u001b[39m  (1): Date (Local)\n",
      "\n",
      "\u001b[36mℹ\u001b[39m Use `spec()` to retrieve the full column specification for this data.\n",
      "\u001b[36mℹ\u001b[39m Specify the column types or set `show_col_types = FALSE` to quiet this message.\n",
      "\u001b[1mRows: \u001b[22m\u001b[34m745\u001b[39m \u001b[1mColumns: \u001b[22m\u001b[34m34\u001b[39m\n",
      "\u001b[36m──\u001b[39m \u001b[1mColumn specification\u001b[22m \u001b[36m────────────────────────────────────────────────────────\u001b[39m\n",
      "\u001b[1mDelimiter:\u001b[22m \",\"\n",
      "\u001b[31mchr\u001b[39m  (14): Datum, Parameter Name, Duration Description, Pollutant Standard, ...\n",
      "\u001b[32mdbl\u001b[39m  (14): State Code, County Code, Site Number, Parameter Code, POC, Latitu...\n",
      "\u001b[33mlgl\u001b[39m   (5): Exceptional Data Type, Nonreg Observation Count, Nonreg Arithmeti...\n",
      "\u001b[34mdate\u001b[39m  (1): Date (Local)\n",
      "\n",
      "\u001b[36mℹ\u001b[39m Use `spec()` to retrieve the full column specification for this data.\n",
      "\u001b[36mℹ\u001b[39m Specify the column types or set `show_col_types = FALSE` to quiet this message.\n",
      "\u001b[1mRows: \u001b[22m\u001b[34m714\u001b[39m \u001b[1mColumns: \u001b[22m\u001b[34m34\u001b[39m\n",
      "\u001b[36m──\u001b[39m \u001b[1mColumn specification\u001b[22m \u001b[36m────────────────────────────────────────────────────────\u001b[39m\n",
      "\u001b[1mDelimiter:\u001b[22m \",\"\n",
      "\u001b[31mchr\u001b[39m  (14): Datum, Parameter Name, Duration Description, Pollutant Standard, ...\n",
      "\u001b[32mdbl\u001b[39m  (14): State Code, County Code, Site Number, Parameter Code, POC, Latitu...\n",
      "\u001b[33mlgl\u001b[39m   (5): Exceptional Data Type, Nonreg Observation Count, Nonreg Arithmeti...\n",
      "\u001b[34mdate\u001b[39m  (1): Date (Local)\n",
      "\n",
      "\u001b[36mℹ\u001b[39m Use `spec()` to retrieve the full column specification for this data.\n",
      "\u001b[36mℹ\u001b[39m Specify the column types or set `show_col_types = FALSE` to quiet this message.\n",
      "\u001b[1mRows: \u001b[22m\u001b[34m705\u001b[39m \u001b[1mColumns: \u001b[22m\u001b[34m34\u001b[39m\n",
      "\u001b[36m──\u001b[39m \u001b[1mColumn specification\u001b[22m \u001b[36m────────────────────────────────────────────────────────\u001b[39m\n",
      "\u001b[1mDelimiter:\u001b[22m \",\"\n",
      "\u001b[31mchr\u001b[39m  (14): Datum, Parameter Name, Duration Description, Pollutant Standard, ...\n",
      "\u001b[32mdbl\u001b[39m  (14): State Code, County Code, Site Number, Parameter Code, POC, Latitu...\n",
      "\u001b[33mlgl\u001b[39m   (5): Exceptional Data Type, Nonreg Observation Count, Nonreg Arithmeti...\n",
      "\u001b[34mdate\u001b[39m  (1): Date (Local)\n",
      "\n",
      "\u001b[36mℹ\u001b[39m Use `spec()` to retrieve the full column specification for this data.\n",
      "\u001b[36mℹ\u001b[39m Specify the column types or set `show_col_types = FALSE` to quiet this message.\n",
      "\u001b[1mRows: \u001b[22m\u001b[34m728\u001b[39m \u001b[1mColumns: \u001b[22m\u001b[34m34\u001b[39m\n",
      "\u001b[36m──\u001b[39m \u001b[1mColumn specification\u001b[22m \u001b[36m────────────────────────────────────────────────────────\u001b[39m\n",
      "\u001b[1mDelimiter:\u001b[22m \",\"\n",
      "\u001b[31mchr\u001b[39m  (14): Datum, Parameter Name, Duration Description, Pollutant Standard, ...\n",
      "\u001b[32mdbl\u001b[39m  (14): State Code, County Code, Site Number, Parameter Code, POC, Latitu...\n",
      "\u001b[33mlgl\u001b[39m   (5): Exceptional Data Type, Nonreg Observation Count, Nonreg Arithmeti...\n",
      "\u001b[34mdate\u001b[39m  (1): Date (Local)\n",
      "\n",
      "\u001b[36mℹ\u001b[39m Use `spec()` to retrieve the full column specification for this data.\n",
      "\u001b[36mℹ\u001b[39m Specify the column types or set `show_col_types = FALSE` to quiet this message.\n",
      "\u001b[1mRows: \u001b[22m\u001b[34m741\u001b[39m \u001b[1mColumns: \u001b[22m\u001b[34m34\u001b[39m\n",
      "\u001b[36m──\u001b[39m \u001b[1mColumn specification\u001b[22m \u001b[36m────────────────────────────────────────────────────────\u001b[39m\n",
      "\u001b[1mDelimiter:\u001b[22m \",\"\n",
      "\u001b[31mchr\u001b[39m  (14): Datum, Parameter Name, Duration Description, Pollutant Standard, ...\n",
      "\u001b[32mdbl\u001b[39m  (14): State Code, County Code, Site Number, Parameter Code, POC, Latitu...\n",
      "\u001b[33mlgl\u001b[39m   (5): Exceptional Data Type, Nonreg Observation Count, Nonreg Arithmeti...\n",
      "\u001b[34mdate\u001b[39m  (1): Date (Local)\n",
      "\n",
      "\u001b[36mℹ\u001b[39m Use `spec()` to retrieve the full column specification for this data.\n",
      "\u001b[36mℹ\u001b[39m Specify the column types or set `show_col_types = FALSE` to quiet this message.\n",
      "\u001b[1mRows: \u001b[22m\u001b[34m674\u001b[39m \u001b[1mColumns: \u001b[22m\u001b[34m34\u001b[39m\n",
      "\u001b[36m──\u001b[39m \u001b[1mColumn specification\u001b[22m \u001b[36m────────────────────────────────────────────────────────\u001b[39m\n",
      "\u001b[1mDelimiter:\u001b[22m \",\"\n",
      "\u001b[31mchr\u001b[39m  (14): Datum, Parameter Name, Duration Description, Pollutant Standard, ...\n",
      "\u001b[32mdbl\u001b[39m  (14): State Code, County Code, Site Number, Parameter Code, POC, Latitu...\n",
      "\u001b[33mlgl\u001b[39m   (5): Exceptional Data Type, Nonreg Observation Count, Nonreg Arithmeti...\n",
      "\u001b[34mdate\u001b[39m  (1): Date (Local)\n",
      "\n",
      "\u001b[36mℹ\u001b[39m Use `spec()` to retrieve the full column specification for this data.\n",
      "\u001b[36mℹ\u001b[39m Specify the column types or set `show_col_types = FALSE` to quiet this message.\n",
      "\u001b[1mRows: \u001b[22m\u001b[34m695\u001b[39m \u001b[1mColumns: \u001b[22m\u001b[34m34\u001b[39m\n",
      "\u001b[36m──\u001b[39m \u001b[1mColumn specification\u001b[22m \u001b[36m────────────────────────────────────────────────────────\u001b[39m\n",
      "\u001b[1mDelimiter:\u001b[22m \",\"\n",
      "\u001b[31mchr\u001b[39m  (14): Datum, Parameter Name, Duration Description, Pollutant Standard, ...\n",
      "\u001b[32mdbl\u001b[39m  (14): State Code, County Code, Site Number, Parameter Code, POC, Latitu...\n",
      "\u001b[33mlgl\u001b[39m   (5): Exceptional Data Type, Nonreg Observation Count, Nonreg Arithmeti...\n",
      "\u001b[34mdate\u001b[39m  (1): Date (Local)\n",
      "\n",
      "\u001b[36mℹ\u001b[39m Use `spec()` to retrieve the full column specification for this data.\n",
      "\u001b[36mℹ\u001b[39m Specify the column types or set `show_col_types = FALSE` to quiet this message.\n"
     ]
    }
   ],
   "source": [
    "# Use the function defined above\n",
    "df_2022 <- combine_csv_files(path_to_monthly_data, prefix='daily_44_007_0022_2022_')"
   ]
  },
  {
   "cell_type": "code",
   "execution_count": 230,
   "metadata": {},
   "outputs": [
    {
     "data": {
      "text/html": [
       "<style>\n",
       ".list-inline {list-style: none; margin:0; padding: 0}\n",
       ".list-inline>li {display: inline-block}\n",
       ".list-inline>li:not(:last-child)::after {content: \"\\00b7\"; padding: 0 .5ex}\n",
       "</style>\n",
       "<ol class=list-inline><li>8591</li><li>17</li></ol>\n"
      ],
      "text/latex": [
       "\\begin{enumerate*}\n",
       "\\item 8591\n",
       "\\item 17\n",
       "\\end{enumerate*}\n"
      ],
      "text/markdown": [
       "1. 8591\n",
       "2. 17\n",
       "\n",
       "\n"
      ],
      "text/plain": [
       "[1] 8591   17"
      ]
     },
     "metadata": {},
     "output_type": "display_data"
    }
   ],
   "source": [
    "dim(df_2022)"
   ]
  },
  {
   "cell_type": "code",
   "execution_count": 231,
   "metadata": {},
   "outputs": [
    {
     "data": {
      "text/html": [
       "<table class=\"dataframe\">\n",
       "<caption>A tibble: 6 × 17</caption>\n",
       "<thead>\n",
       "\t<tr><th scope=col>parameter_code</th><th scope=col>poc</th><th scope=col>parameter_name</th><th scope=col>duration_description</th><th scope=col>pollutant_standard</th><th scope=col>date_local</th><th scope=col>year</th><th scope=col>day_in_year_local</th><th scope=col>units_of_measure</th><th scope=col>exceptional_data_type</th><th scope=col>observation_count</th><th scope=col>observation_percent</th><th scope=col>arithmetic_mean</th><th scope=col>first_maximum_value</th><th scope=col>first_maximum_hour</th><th scope=col>aqi</th><th scope=col>daily_criteria_indicator</th></tr>\n",
       "\t<tr><th scope=col>&lt;dbl&gt;</th><th scope=col>&lt;dbl&gt;</th><th scope=col>&lt;chr&gt;</th><th scope=col>&lt;chr&gt;</th><th scope=col>&lt;chr&gt;</th><th scope=col>&lt;date&gt;</th><th scope=col>&lt;dbl&gt;</th><th scope=col>&lt;dbl&gt;</th><th scope=col>&lt;chr&gt;</th><th scope=col>&lt;lgl&gt;</th><th scope=col>&lt;dbl&gt;</th><th scope=col>&lt;dbl&gt;</th><th scope=col>&lt;dbl&gt;</th><th scope=col>&lt;dbl&gt;</th><th scope=col>&lt;dbl&gt;</th><th scope=col>&lt;chr&gt;</th><th scope=col>&lt;chr&gt;</th></tr>\n",
       "</thead>\n",
       "<tbody>\n",
       "\t<tr><td>87101</td><td>1</td><td>Particle Number, Total Count</td><td>1 HOUR       </td><td>NA              </td><td>2022-01-01</td><td>2022</td><td>1</td><td>Count per cm^3               </td><td>NA</td><td>24</td><td>100</td><td>7062.208333</td><td>14300.00</td><td>17</td><td>. </td><td>Y</td></tr>\n",
       "\t<tr><td>61107</td><td>1</td><td>Std Dev Vt Wind Direction   </td><td>1 HOUR       </td><td>NA              </td><td>2022-01-01</td><td>2022</td><td>1</td><td>Degrees Compass              </td><td>NA</td><td>24</td><td>100</td><td>  17.166667</td><td>   25.00</td><td> 7</td><td>. </td><td>Y</td></tr>\n",
       "\t<tr><td>62101</td><td>1</td><td>Outdoor Temperature         </td><td>1 HOUR       </td><td>NA              </td><td>2022-01-01</td><td>2022</td><td>1</td><td>Degrees Fahrenheit           </td><td>NA</td><td>24</td><td>100</td><td>  48.958333</td><td>   54.00</td><td>15</td><td>. </td><td>Y</td></tr>\n",
       "\t<tr><td>61104</td><td>1</td><td>Wind Direction - Resultant  </td><td>1 HOUR       </td><td>NA              </td><td>2022-01-01</td><td>2022</td><td>1</td><td>Degrees Compass              </td><td>NA</td><td>24</td><td>100</td><td> 140.791667</td><td>  195.00</td><td>15</td><td>. </td><td>Y</td></tr>\n",
       "\t<tr><td>84313</td><td>1</td><td>Black carbon PM2.5 STP      </td><td>1 HOUR       </td><td>NA              </td><td>2022-01-01</td><td>2022</td><td>1</td><td>Micrograms/cubic meter (25 C)</td><td>NA</td><td>24</td><td>100</td><td>   0.458333</td><td>    1.25</td><td> 1</td><td>. </td><td>Y</td></tr>\n",
       "\t<tr><td>88101</td><td>3</td><td>PM2.5 - Local Conditions    </td><td>24-HR BLK AVG</td><td>PM25 Annual 2012</td><td>2022-01-01</td><td>2022</td><td>1</td><td>Micrograms/cubic meter (LC)  </td><td>NA</td><td> 1</td><td>100</td><td>   7.100000</td><td>    7.10</td><td> 0</td><td>30</td><td>Y</td></tr>\n",
       "</tbody>\n",
       "</table>\n"
      ],
      "text/latex": [
       "A tibble: 6 × 17\n",
       "\\begin{tabular}{lllllllllllllllll}\n",
       " parameter\\_code & poc & parameter\\_name & duration\\_description & pollutant\\_standard & date\\_local & year & day\\_in\\_year\\_local & units\\_of\\_measure & exceptional\\_data\\_type & observation\\_count & observation\\_percent & arithmetic\\_mean & first\\_maximum\\_value & first\\_maximum\\_hour & aqi & daily\\_criteria\\_indicator\\\\\n",
       " <dbl> & <dbl> & <chr> & <chr> & <chr> & <date> & <dbl> & <dbl> & <chr> & <lgl> & <dbl> & <dbl> & <dbl> & <dbl> & <dbl> & <chr> & <chr>\\\\\n",
       "\\hline\n",
       "\t 87101 & 1 & Particle Number, Total Count & 1 HOUR        & NA               & 2022-01-01 & 2022 & 1 & Count per cm\\textasciicircum{}3                & NA & 24 & 100 & 7062.208333 & 14300.00 & 17 & .  & Y\\\\\n",
       "\t 61107 & 1 & Std Dev Vt Wind Direction    & 1 HOUR        & NA               & 2022-01-01 & 2022 & 1 & Degrees Compass               & NA & 24 & 100 &   17.166667 &    25.00 &  7 & .  & Y\\\\\n",
       "\t 62101 & 1 & Outdoor Temperature          & 1 HOUR        & NA               & 2022-01-01 & 2022 & 1 & Degrees Fahrenheit            & NA & 24 & 100 &   48.958333 &    54.00 & 15 & .  & Y\\\\\n",
       "\t 61104 & 1 & Wind Direction - Resultant   & 1 HOUR        & NA               & 2022-01-01 & 2022 & 1 & Degrees Compass               & NA & 24 & 100 &  140.791667 &   195.00 & 15 & .  & Y\\\\\n",
       "\t 84313 & 1 & Black carbon PM2.5 STP       & 1 HOUR        & NA               & 2022-01-01 & 2022 & 1 & Micrograms/cubic meter (25 C) & NA & 24 & 100 &    0.458333 &     1.25 &  1 & .  & Y\\\\\n",
       "\t 88101 & 3 & PM2.5 - Local Conditions     & 24-HR BLK AVG & PM25 Annual 2012 & 2022-01-01 & 2022 & 1 & Micrograms/cubic meter (LC)   & NA &  1 & 100 &    7.100000 &     7.10 &  0 & 30 & Y\\\\\n",
       "\\end{tabular}\n"
      ],
      "text/markdown": [
       "\n",
       "A tibble: 6 × 17\n",
       "\n",
       "| parameter_code &lt;dbl&gt; | poc &lt;dbl&gt; | parameter_name &lt;chr&gt; | duration_description &lt;chr&gt; | pollutant_standard &lt;chr&gt; | date_local &lt;date&gt; | year &lt;dbl&gt; | day_in_year_local &lt;dbl&gt; | units_of_measure &lt;chr&gt; | exceptional_data_type &lt;lgl&gt; | observation_count &lt;dbl&gt; | observation_percent &lt;dbl&gt; | arithmetic_mean &lt;dbl&gt; | first_maximum_value &lt;dbl&gt; | first_maximum_hour &lt;dbl&gt; | aqi &lt;chr&gt; | daily_criteria_indicator &lt;chr&gt; |\n",
       "|---|---|---|---|---|---|---|---|---|---|---|---|---|---|---|---|---|\n",
       "| 87101 | 1 | Particle Number, Total Count | 1 HOUR        | NA               | 2022-01-01 | 2022 | 1 | Count per cm^3                | NA | 24 | 100 | 7062.208333 | 14300.00 | 17 | .  | Y |\n",
       "| 61107 | 1 | Std Dev Vt Wind Direction    | 1 HOUR        | NA               | 2022-01-01 | 2022 | 1 | Degrees Compass               | NA | 24 | 100 |   17.166667 |    25.00 |  7 | .  | Y |\n",
       "| 62101 | 1 | Outdoor Temperature          | 1 HOUR        | NA               | 2022-01-01 | 2022 | 1 | Degrees Fahrenheit            | NA | 24 | 100 |   48.958333 |    54.00 | 15 | .  | Y |\n",
       "| 61104 | 1 | Wind Direction - Resultant   | 1 HOUR        | NA               | 2022-01-01 | 2022 | 1 | Degrees Compass               | NA | 24 | 100 |  140.791667 |   195.00 | 15 | .  | Y |\n",
       "| 84313 | 1 | Black carbon PM2.5 STP       | 1 HOUR        | NA               | 2022-01-01 | 2022 | 1 | Micrograms/cubic meter (25 C) | NA | 24 | 100 |    0.458333 |     1.25 |  1 | .  | Y |\n",
       "| 88101 | 3 | PM2.5 - Local Conditions     | 24-HR BLK AVG | PM25 Annual 2012 | 2022-01-01 | 2022 | 1 | Micrograms/cubic meter (LC)   | NA |  1 | 100 |    7.100000 |     7.10 |  0 | 30 | Y |\n",
       "\n"
      ],
      "text/plain": [
       "  parameter_code poc parameter_name               duration_description\n",
       "1 87101          1   Particle Number, Total Count 1 HOUR              \n",
       "2 61107          1   Std Dev Vt Wind Direction    1 HOUR              \n",
       "3 62101          1   Outdoor Temperature          1 HOUR              \n",
       "4 61104          1   Wind Direction - Resultant   1 HOUR              \n",
       "5 84313          1   Black carbon PM2.5 STP       1 HOUR              \n",
       "6 88101          3   PM2.5 - Local Conditions     24-HR BLK AVG       \n",
       "  pollutant_standard date_local year day_in_year_local\n",
       "1 NA                 2022-01-01 2022 1                \n",
       "2 NA                 2022-01-01 2022 1                \n",
       "3 NA                 2022-01-01 2022 1                \n",
       "4 NA                 2022-01-01 2022 1                \n",
       "5 NA                 2022-01-01 2022 1                \n",
       "6 PM25 Annual 2012   2022-01-01 2022 1                \n",
       "  units_of_measure              exceptional_data_type observation_count\n",
       "1 Count per cm^3                NA                    24               \n",
       "2 Degrees Compass               NA                    24               \n",
       "3 Degrees Fahrenheit            NA                    24               \n",
       "4 Degrees Compass               NA                    24               \n",
       "5 Micrograms/cubic meter (25 C) NA                    24               \n",
       "6 Micrograms/cubic meter (LC)   NA                     1               \n",
       "  observation_percent arithmetic_mean first_maximum_value first_maximum_hour\n",
       "1 100                 7062.208333     14300.00            17                \n",
       "2 100                   17.166667        25.00             7                \n",
       "3 100                   48.958333        54.00            15                \n",
       "4 100                  140.791667       195.00            15                \n",
       "5 100                    0.458333         1.25             1                \n",
       "6 100                    7.100000         7.10             0                \n",
       "  aqi daily_criteria_indicator\n",
       "1 .   Y                       \n",
       "2 .   Y                       \n",
       "3 .   Y                       \n",
       "4 .   Y                       \n",
       "5 .   Y                       \n",
       "6 30  Y                       "
      ]
     },
     "metadata": {},
     "output_type": "display_data"
    }
   ],
   "source": [
    "head(df_2022)"
   ]
  },
  {
   "cell_type": "code",
   "execution_count": 232,
   "metadata": {},
   "outputs": [
    {
     "data": {
      "text/html": [
       "<table class=\"dataframe\">\n",
       "<caption>A tibble: 6 × 17</caption>\n",
       "<thead>\n",
       "\t<tr><th scope=col>parameter_code</th><th scope=col>poc</th><th scope=col>parameter_name</th><th scope=col>duration_description</th><th scope=col>pollutant_standard</th><th scope=col>date_local</th><th scope=col>year</th><th scope=col>day_in_year_local</th><th scope=col>units_of_measure</th><th scope=col>exceptional_data_type</th><th scope=col>observation_count</th><th scope=col>observation_percent</th><th scope=col>arithmetic_mean</th><th scope=col>first_maximum_value</th><th scope=col>first_maximum_hour</th><th scope=col>aqi</th><th scope=col>daily_criteria_indicator</th></tr>\n",
       "\t<tr><th scope=col>&lt;dbl&gt;</th><th scope=col>&lt;dbl&gt;</th><th scope=col>&lt;chr&gt;</th><th scope=col>&lt;chr&gt;</th><th scope=col>&lt;chr&gt;</th><th scope=col>&lt;date&gt;</th><th scope=col>&lt;dbl&gt;</th><th scope=col>&lt;dbl&gt;</th><th scope=col>&lt;chr&gt;</th><th scope=col>&lt;lgl&gt;</th><th scope=col>&lt;dbl&gt;</th><th scope=col>&lt;dbl&gt;</th><th scope=col>&lt;dbl&gt;</th><th scope=col>&lt;dbl&gt;</th><th scope=col>&lt;dbl&gt;</th><th scope=col>&lt;chr&gt;</th><th scope=col>&lt;chr&gt;</th></tr>\n",
       "</thead>\n",
       "<tbody>\n",
       "\t<tr><td>43826</td><td>2</td><td>1,1-Dichloroethylene     </td><td>24 HOUR</td><td>NA</td><td>2022-12-31</td><td>2022</td><td>365</td><td>Parts per billion Carbon</td><td>NA</td><td> 1</td><td>100</td><td> 0.00000</td><td> 0.0</td><td> 0</td><td>.</td><td>Y</td></tr>\n",
       "\t<tr><td>43860</td><td>2</td><td>Vinyl chloride           </td><td>24 HOUR</td><td>NA</td><td>2022-12-31</td><td>2022</td><td>365</td><td>Parts per billion Carbon</td><td>NA</td><td> 1</td><td>100</td><td> 0.00000</td><td> 0.0</td><td> 0</td><td>.</td><td>Y</td></tr>\n",
       "\t<tr><td>43815</td><td>2</td><td>Ethylene dichloride      </td><td>24 HOUR</td><td>NA</td><td>2022-12-31</td><td>2022</td><td>365</td><td>Parts per billion Carbon</td><td>NA</td><td> 1</td><td>100</td><td> 0.00000</td><td> 0.0</td><td> 0</td><td>.</td><td>Y</td></tr>\n",
       "\t<tr><td>61107</td><td>1</td><td>Std Dev Vt Wind Direction</td><td>1 HOUR </td><td>NA</td><td>2022-12-31</td><td>2022</td><td>365</td><td>Degrees Compass         </td><td>NA</td><td>24</td><td>100</td><td>17.16667</td><td>24.0</td><td>10</td><td>.</td><td>Y</td></tr>\n",
       "\t<tr><td>43552</td><td>2</td><td>Methyl ethyl ketone      </td><td>24 HOUR</td><td>NA</td><td>2022-12-31</td><td>2022</td><td>365</td><td>Parts per billion Carbon</td><td>NA</td><td> 1</td><td>100</td><td> 1.20000</td><td> 1.2</td><td> 0</td><td>.</td><td>Y</td></tr>\n",
       "\t<tr><td>43372</td><td>2</td><td>Methyl tert-butyl ether  </td><td>24 HOUR</td><td>NA</td><td>2022-12-31</td><td>2022</td><td>365</td><td>Parts per billion Carbon</td><td>NA</td><td> 1</td><td>100</td><td> 0.00000</td><td> 0.0</td><td> 0</td><td>.</td><td>Y</td></tr>\n",
       "</tbody>\n",
       "</table>\n"
      ],
      "text/latex": [
       "A tibble: 6 × 17\n",
       "\\begin{tabular}{lllllllllllllllll}\n",
       " parameter\\_code & poc & parameter\\_name & duration\\_description & pollutant\\_standard & date\\_local & year & day\\_in\\_year\\_local & units\\_of\\_measure & exceptional\\_data\\_type & observation\\_count & observation\\_percent & arithmetic\\_mean & first\\_maximum\\_value & first\\_maximum\\_hour & aqi & daily\\_criteria\\_indicator\\\\\n",
       " <dbl> & <dbl> & <chr> & <chr> & <chr> & <date> & <dbl> & <dbl> & <chr> & <lgl> & <dbl> & <dbl> & <dbl> & <dbl> & <dbl> & <chr> & <chr>\\\\\n",
       "\\hline\n",
       "\t 43826 & 2 & 1,1-Dichloroethylene      & 24 HOUR & NA & 2022-12-31 & 2022 & 365 & Parts per billion Carbon & NA &  1 & 100 &  0.00000 &  0.0 &  0 & . & Y\\\\\n",
       "\t 43860 & 2 & Vinyl chloride            & 24 HOUR & NA & 2022-12-31 & 2022 & 365 & Parts per billion Carbon & NA &  1 & 100 &  0.00000 &  0.0 &  0 & . & Y\\\\\n",
       "\t 43815 & 2 & Ethylene dichloride       & 24 HOUR & NA & 2022-12-31 & 2022 & 365 & Parts per billion Carbon & NA &  1 & 100 &  0.00000 &  0.0 &  0 & . & Y\\\\\n",
       "\t 61107 & 1 & Std Dev Vt Wind Direction & 1 HOUR  & NA & 2022-12-31 & 2022 & 365 & Degrees Compass          & NA & 24 & 100 & 17.16667 & 24.0 & 10 & . & Y\\\\\n",
       "\t 43552 & 2 & Methyl ethyl ketone       & 24 HOUR & NA & 2022-12-31 & 2022 & 365 & Parts per billion Carbon & NA &  1 & 100 &  1.20000 &  1.2 &  0 & . & Y\\\\\n",
       "\t 43372 & 2 & Methyl tert-butyl ether   & 24 HOUR & NA & 2022-12-31 & 2022 & 365 & Parts per billion Carbon & NA &  1 & 100 &  0.00000 &  0.0 &  0 & . & Y\\\\\n",
       "\\end{tabular}\n"
      ],
      "text/markdown": [
       "\n",
       "A tibble: 6 × 17\n",
       "\n",
       "| parameter_code &lt;dbl&gt; | poc &lt;dbl&gt; | parameter_name &lt;chr&gt; | duration_description &lt;chr&gt; | pollutant_standard &lt;chr&gt; | date_local &lt;date&gt; | year &lt;dbl&gt; | day_in_year_local &lt;dbl&gt; | units_of_measure &lt;chr&gt; | exceptional_data_type &lt;lgl&gt; | observation_count &lt;dbl&gt; | observation_percent &lt;dbl&gt; | arithmetic_mean &lt;dbl&gt; | first_maximum_value &lt;dbl&gt; | first_maximum_hour &lt;dbl&gt; | aqi &lt;chr&gt; | daily_criteria_indicator &lt;chr&gt; |\n",
       "|---|---|---|---|---|---|---|---|---|---|---|---|---|---|---|---|---|\n",
       "| 43826 | 2 | 1,1-Dichloroethylene      | 24 HOUR | NA | 2022-12-31 | 2022 | 365 | Parts per billion Carbon | NA |  1 | 100 |  0.00000 |  0.0 |  0 | . | Y |\n",
       "| 43860 | 2 | Vinyl chloride            | 24 HOUR | NA | 2022-12-31 | 2022 | 365 | Parts per billion Carbon | NA |  1 | 100 |  0.00000 |  0.0 |  0 | . | Y |\n",
       "| 43815 | 2 | Ethylene dichloride       | 24 HOUR | NA | 2022-12-31 | 2022 | 365 | Parts per billion Carbon | NA |  1 | 100 |  0.00000 |  0.0 |  0 | . | Y |\n",
       "| 61107 | 1 | Std Dev Vt Wind Direction | 1 HOUR  | NA | 2022-12-31 | 2022 | 365 | Degrees Compass          | NA | 24 | 100 | 17.16667 | 24.0 | 10 | . | Y |\n",
       "| 43552 | 2 | Methyl ethyl ketone       | 24 HOUR | NA | 2022-12-31 | 2022 | 365 | Parts per billion Carbon | NA |  1 | 100 |  1.20000 |  1.2 |  0 | . | Y |\n",
       "| 43372 | 2 | Methyl tert-butyl ether   | 24 HOUR | NA | 2022-12-31 | 2022 | 365 | Parts per billion Carbon | NA |  1 | 100 |  0.00000 |  0.0 |  0 | . | Y |\n",
       "\n"
      ],
      "text/plain": [
       "  parameter_code poc parameter_name            duration_description\n",
       "1 43826          2   1,1-Dichloroethylene      24 HOUR             \n",
       "2 43860          2   Vinyl chloride            24 HOUR             \n",
       "3 43815          2   Ethylene dichloride       24 HOUR             \n",
       "4 61107          1   Std Dev Vt Wind Direction 1 HOUR              \n",
       "5 43552          2   Methyl ethyl ketone       24 HOUR             \n",
       "6 43372          2   Methyl tert-butyl ether   24 HOUR             \n",
       "  pollutant_standard date_local year day_in_year_local units_of_measure        \n",
       "1 NA                 2022-12-31 2022 365               Parts per billion Carbon\n",
       "2 NA                 2022-12-31 2022 365               Parts per billion Carbon\n",
       "3 NA                 2022-12-31 2022 365               Parts per billion Carbon\n",
       "4 NA                 2022-12-31 2022 365               Degrees Compass         \n",
       "5 NA                 2022-12-31 2022 365               Parts per billion Carbon\n",
       "6 NA                 2022-12-31 2022 365               Parts per billion Carbon\n",
       "  exceptional_data_type observation_count observation_percent arithmetic_mean\n",
       "1 NA                     1                100                  0.00000       \n",
       "2 NA                     1                100                  0.00000       \n",
       "3 NA                     1                100                  0.00000       \n",
       "4 NA                    24                100                 17.16667       \n",
       "5 NA                     1                100                  1.20000       \n",
       "6 NA                     1                100                  0.00000       \n",
       "  first_maximum_value first_maximum_hour aqi daily_criteria_indicator\n",
       "1  0.0                 0                 .   Y                       \n",
       "2  0.0                 0                 .   Y                       \n",
       "3  0.0                 0                 .   Y                       \n",
       "4 24.0                10                 .   Y                       \n",
       "5  1.2                 0                 .   Y                       \n",
       "6  0.0                 0                 .   Y                       "
      ]
     },
     "metadata": {},
     "output_type": "display_data"
    }
   ],
   "source": [
    "tail(df_2022)"
   ]
  },
  {
   "cell_type": "markdown",
   "metadata": {},
   "source": [
    "## 5. Renaming Columns\n",
    "Before we jump into more detailed EDA we'll want to update the DataFrame to make our lives a bit easier. We'll be typing column names often to query the data so let's start by renaming the columns to a standard format.\n",
    "\n",
    "* standard naming convention: snake_case\n",
    "  * During our import, we have already converted the column names to snake_case using `rename_with(to_snake_case)`. \n",
    "* simplify complex names\n",
    "  * We can reword some of the column names to make them more concise"
   ]
  },
  {
   "cell_type": "code",
   "execution_count": 233,
   "metadata": {},
   "outputs": [
    {
     "data": {
      "text/html": [
       "<style>\n",
       ".list-inline {list-style: none; margin:0; padding: 0}\n",
       ".list-inline>li {display: inline-block}\n",
       ".list-inline>li:not(:last-child)::after {content: \"\\00b7\"; padding: 0 .5ex}\n",
       "</style>\n",
       "<ol class=list-inline><li>'parameter_code'</li><li>'poc'</li><li>'parameter_name'</li><li>'duration_description'</li><li>'pollutant_standard'</li><li>'date_local'</li><li>'year'</li><li>'day_in_year_local'</li><li>'units_of_measure'</li><li>'exceptional_data_type'</li><li>'observation_count'</li><li>'observation_percent'</li><li>'arithmetic_mean'</li><li>'first_maximum_value'</li><li>'first_maximum_hour'</li><li>'aqi'</li><li>'daily_criteria_indicator'</li></ol>\n"
      ],
      "text/latex": [
       "\\begin{enumerate*}\n",
       "\\item 'parameter\\_code'\n",
       "\\item 'poc'\n",
       "\\item 'parameter\\_name'\n",
       "\\item 'duration\\_description'\n",
       "\\item 'pollutant\\_standard'\n",
       "\\item 'date\\_local'\n",
       "\\item 'year'\n",
       "\\item 'day\\_in\\_year\\_local'\n",
       "\\item 'units\\_of\\_measure'\n",
       "\\item 'exceptional\\_data\\_type'\n",
       "\\item 'observation\\_count'\n",
       "\\item 'observation\\_percent'\n",
       "\\item 'arithmetic\\_mean'\n",
       "\\item 'first\\_maximum\\_value'\n",
       "\\item 'first\\_maximum\\_hour'\n",
       "\\item 'aqi'\n",
       "\\item 'daily\\_criteria\\_indicator'\n",
       "\\end{enumerate*}\n"
      ],
      "text/markdown": [
       "1. 'parameter_code'\n",
       "2. 'poc'\n",
       "3. 'parameter_name'\n",
       "4. 'duration_description'\n",
       "5. 'pollutant_standard'\n",
       "6. 'date_local'\n",
       "7. 'year'\n",
       "8. 'day_in_year_local'\n",
       "9. 'units_of_measure'\n",
       "10. 'exceptional_data_type'\n",
       "11. 'observation_count'\n",
       "12. 'observation_percent'\n",
       "13. 'arithmetic_mean'\n",
       "14. 'first_maximum_value'\n",
       "15. 'first_maximum_hour'\n",
       "16. 'aqi'\n",
       "17. 'daily_criteria_indicator'\n",
       "\n",
       "\n"
      ],
      "text/plain": [
       " [1] \"parameter_code\"           \"poc\"                     \n",
       " [3] \"parameter_name\"           \"duration_description\"    \n",
       " [5] \"pollutant_standard\"       \"date_local\"              \n",
       " [7] \"year\"                     \"day_in_year_local\"       \n",
       " [9] \"units_of_measure\"         \"exceptional_data_type\"   \n",
       "[11] \"observation_count\"        \"observation_percent\"     \n",
       "[13] \"arithmetic_mean\"          \"first_maximum_value\"     \n",
       "[15] \"first_maximum_hour\"       \"aqi\"                     \n",
       "[17] \"daily_criteria_indicator\""
      ]
     },
     "metadata": {},
     "output_type": "display_data"
    }
   ],
   "source": [
    "# Column Names\n",
    "colnames(df_2022)"
   ]
  },
  {
   "cell_type": "markdown",
   "metadata": {},
   "source": [
    "There are two columns `date_local` and `day_in_year_local` that we can more concisely name as `date` and `day_in_year`. Let's use "
   ]
  },
  {
   "cell_type": "code",
   "execution_count": 234,
   "metadata": {},
   "outputs": [],
   "source": [
    "# Rename date_local to date\n",
    "colnames(df_2022)[colnames(df_2022) == 'date_local'] <- 'date'"
   ]
  },
  {
   "cell_type": "code",
   "execution_count": 235,
   "metadata": {},
   "outputs": [],
   "source": [
    "# Rename date_in_year_local to date_in_year\n",
    "colnames(df_2022)[colnames(df_2022) == 'day_in_year_local'] <- 'day_in_year'"
   ]
  },
  {
   "cell_type": "code",
   "execution_count": 236,
   "metadata": {},
   "outputs": [
    {
     "data": {
      "text/html": [
       "<style>\n",
       ".list-inline {list-style: none; margin:0; padding: 0}\n",
       ".list-inline>li {display: inline-block}\n",
       ".list-inline>li:not(:last-child)::after {content: \"\\00b7\"; padding: 0 .5ex}\n",
       "</style>\n",
       "<ol class=list-inline><li>'parameter_code'</li><li>'poc'</li><li>'parameter_name'</li><li>'duration_description'</li><li>'pollutant_standard'</li><li>'date'</li><li>'year'</li><li>'day_in_year'</li><li>'units_of_measure'</li><li>'exceptional_data_type'</li><li>'observation_count'</li><li>'observation_percent'</li><li>'arithmetic_mean'</li><li>'first_maximum_value'</li><li>'first_maximum_hour'</li><li>'aqi'</li><li>'daily_criteria_indicator'</li></ol>\n"
      ],
      "text/latex": [
       "\\begin{enumerate*}\n",
       "\\item 'parameter\\_code'\n",
       "\\item 'poc'\n",
       "\\item 'parameter\\_name'\n",
       "\\item 'duration\\_description'\n",
       "\\item 'pollutant\\_standard'\n",
       "\\item 'date'\n",
       "\\item 'year'\n",
       "\\item 'day\\_in\\_year'\n",
       "\\item 'units\\_of\\_measure'\n",
       "\\item 'exceptional\\_data\\_type'\n",
       "\\item 'observation\\_count'\n",
       "\\item 'observation\\_percent'\n",
       "\\item 'arithmetic\\_mean'\n",
       "\\item 'first\\_maximum\\_value'\n",
       "\\item 'first\\_maximum\\_hour'\n",
       "\\item 'aqi'\n",
       "\\item 'daily\\_criteria\\_indicator'\n",
       "\\end{enumerate*}\n"
      ],
      "text/markdown": [
       "1. 'parameter_code'\n",
       "2. 'poc'\n",
       "3. 'parameter_name'\n",
       "4. 'duration_description'\n",
       "5. 'pollutant_standard'\n",
       "6. 'date'\n",
       "7. 'year'\n",
       "8. 'day_in_year'\n",
       "9. 'units_of_measure'\n",
       "10. 'exceptional_data_type'\n",
       "11. 'observation_count'\n",
       "12. 'observation_percent'\n",
       "13. 'arithmetic_mean'\n",
       "14. 'first_maximum_value'\n",
       "15. 'first_maximum_hour'\n",
       "16. 'aqi'\n",
       "17. 'daily_criteria_indicator'\n",
       "\n",
       "\n"
      ],
      "text/plain": [
       " [1] \"parameter_code\"           \"poc\"                     \n",
       " [3] \"parameter_name\"           \"duration_description\"    \n",
       " [5] \"pollutant_standard\"       \"date\"                    \n",
       " [7] \"year\"                     \"day_in_year\"             \n",
       " [9] \"units_of_measure\"         \"exceptional_data_type\"   \n",
       "[11] \"observation_count\"        \"observation_percent\"     \n",
       "[13] \"arithmetic_mean\"          \"first_maximum_value\"     \n",
       "[15] \"first_maximum_hour\"       \"aqi\"                     \n",
       "[17] \"daily_criteria_indicator\""
      ]
     },
     "metadata": {},
     "output_type": "display_data"
    }
   ],
   "source": [
    "# Let's check! \n",
    "colnames(df_2022)"
   ]
  },
  {
   "cell_type": "markdown",
   "metadata": {},
   "source": [
    "Great! Now are column names are much more manageable."
   ]
  },
  {
   "cell_type": "markdown",
   "metadata": {},
   "source": [
    "## 6. Exploring Values\n",
    "Let's start exploring the dataset.\n",
    "\n",
    "Questions:\n",
    "1. How complete is the data?\n",
    "2. Are there duplicates?\n",
    "3. How many parameters are measured?\n",
    "4. How often are the parameters measured?\n",
    "5. What are the descriptive stats of the numeral data?\n",
    "\n",
    "We will cover the following topics:\n",
    "1. Indexing\n",
    "2. Checking for Nulls and Duplicates\n",
    "3. Counts and Uniques\n",
    "4. Querying\n",
    "5. Descriptive Stats and groupby"
   ]
  },
  {
   "cell_type": "markdown",
   "metadata": {},
   "source": [
    "### 6.1 Indexing\n",
    "We often will need to look different slices of the dataframe.\n",
    "* Slices are different groups of rows and/or columns.\n",
    "* We perform indexing using brackets `[]`, similar to indexing lists.\n",
    "\n",
    "```python\n",
    "# For a single column\n",
    "df_2022['parameter_name']\n",
    "\n",
    "# For multiple columns, put column names into a vector\n",
    "df_2022[c('parameter_name', 'date')]\n",
    "\n",
    "# For a slice of rows (same as list indexing)\n",
    "df_2022[5:10, ] # Note the comma. It indicates [rows, columns].\n",
    "\n",
    "# For a slice of rows and columns\n",
    "df_2022[5:10, c('parameter_name', 'parameter_code')]\n",
    "```\n"
   ]
  },
  {
   "cell_type": "code",
   "execution_count": 237,
   "metadata": {},
   "outputs": [
    {
     "data": {
      "text/html": [
       "<table class=\"dataframe\">\n",
       "<caption>A tibble: 6 × 2</caption>\n",
       "<thead>\n",
       "\t<tr><th scope=col>parameter_name</th><th scope=col>parameter_code</th></tr>\n",
       "\t<tr><th scope=col>&lt;chr&gt;</th><th scope=col>&lt;dbl&gt;</th></tr>\n",
       "</thead>\n",
       "<tbody>\n",
       "\t<tr><td>Black carbon PM2.5 STP  </td><td>84313</td></tr>\n",
       "\t<tr><td>PM2.5 - Local Conditions</td><td>88101</td></tr>\n",
       "\t<tr><td>PM2.5 - Local Conditions</td><td>88101</td></tr>\n",
       "\t<tr><td>PM2.5 - Local Conditions</td><td>88101</td></tr>\n",
       "\t<tr><td>Relative Humidity       </td><td>62201</td></tr>\n",
       "\t<tr><td>Black carbon PM2.5 STP  </td><td>84313</td></tr>\n",
       "</tbody>\n",
       "</table>\n"
      ],
      "text/latex": [
       "A tibble: 6 × 2\n",
       "\\begin{tabular}{ll}\n",
       " parameter\\_name & parameter\\_code\\\\\n",
       " <chr> & <dbl>\\\\\n",
       "\\hline\n",
       "\t Black carbon PM2.5 STP   & 84313\\\\\n",
       "\t PM2.5 - Local Conditions & 88101\\\\\n",
       "\t PM2.5 - Local Conditions & 88101\\\\\n",
       "\t PM2.5 - Local Conditions & 88101\\\\\n",
       "\t Relative Humidity        & 62201\\\\\n",
       "\t Black carbon PM2.5 STP   & 84313\\\\\n",
       "\\end{tabular}\n"
      ],
      "text/markdown": [
       "\n",
       "A tibble: 6 × 2\n",
       "\n",
       "| parameter_name &lt;chr&gt; | parameter_code &lt;dbl&gt; |\n",
       "|---|---|\n",
       "| Black carbon PM2.5 STP   | 84313 |\n",
       "| PM2.5 - Local Conditions | 88101 |\n",
       "| PM2.5 - Local Conditions | 88101 |\n",
       "| PM2.5 - Local Conditions | 88101 |\n",
       "| Relative Humidity        | 62201 |\n",
       "| Black carbon PM2.5 STP   | 84313 |\n",
       "\n"
      ],
      "text/plain": [
       "  parameter_name           parameter_code\n",
       "1 Black carbon PM2.5 STP   84313         \n",
       "2 PM2.5 - Local Conditions 88101         \n",
       "3 PM2.5 - Local Conditions 88101         \n",
       "4 PM2.5 - Local Conditions 88101         \n",
       "5 Relative Humidity        62201         \n",
       "6 Black carbon PM2.5 STP   84313         "
      ]
     },
     "metadata": {},
     "output_type": "display_data"
    }
   ],
   "source": [
    "df_2022[5:10, c('parameter_name', 'parameter_code')]"
   ]
  },
  {
   "cell_type": "markdown",
   "metadata": {},
   "source": [
    "### 6.2.0 Checking for Nulls\n",
    "Nulls or NAs are values that represent no data or missing data.\n",
    "* They are often represented as **NA** for \"Not Available\"\n",
    "* The tidyverse readr package `read_csv` function fill NAs for blank values upon import.\n",
    "* Be aware that scientific datasets often use large negative numbers outside of the normal range (like -999) to represent null data.\n",
    "\n",
    "We can check for the number of null values quickly using the method `is.na()` and summing the results\n",
    "* `is.na()` will create a boolean matrix and `colSum()` will sum by columns.\n"
   ]
  },
  {
   "cell_type": "code",
   "execution_count": 238,
   "metadata": {},
   "outputs": [
    {
     "data": {
      "text/html": [
       "<table class=\"dataframe\">\n",
       "<caption>A data.frame: 4 × 2</caption>\n",
       "<thead>\n",
       "\t<tr><th scope=col>numbers</th><th scope=col>strings</th></tr>\n",
       "\t<tr><th scope=col>&lt;dbl&gt;</th><th scope=col>&lt;chr&gt;</th></tr>\n",
       "</thead>\n",
       "<tbody>\n",
       "\t<tr><td> 1</td><td>NA   </td></tr>\n",
       "\t<tr><td> 2</td><td>hello</td></tr>\n",
       "\t<tr><td> 3</td><td>world</td></tr>\n",
       "\t<tr><td>NA</td><td>NA   </td></tr>\n",
       "</tbody>\n",
       "</table>\n"
      ],
      "text/latex": [
       "A data.frame: 4 × 2\n",
       "\\begin{tabular}{ll}\n",
       " numbers & strings\\\\\n",
       " <dbl> & <chr>\\\\\n",
       "\\hline\n",
       "\t  1 & NA   \\\\\n",
       "\t  2 & hello\\\\\n",
       "\t  3 & world\\\\\n",
       "\t NA & NA   \\\\\n",
       "\\end{tabular}\n"
      ],
      "text/markdown": [
       "\n",
       "A data.frame: 4 × 2\n",
       "\n",
       "| numbers &lt;dbl&gt; | strings &lt;chr&gt; |\n",
       "|---|---|\n",
       "|  1 | NA    |\n",
       "|  2 | hello |\n",
       "|  3 | world |\n",
       "| NA | NA    |\n",
       "\n"
      ],
      "text/plain": [
       "  numbers strings\n",
       "1  1      NA     \n",
       "2  2      hello  \n",
       "3  3      world  \n",
       "4 NA      NA     "
      ]
     },
     "metadata": {},
     "output_type": "display_data"
    }
   ],
   "source": [
    "df_example <- data.frame(\n",
    "    numbers = c(1, 2, 3, NA), \n",
    "    strings = c(NA, 'hello', 'world', NA)\n",
    ")\n",
    "\n",
    "df_example"
   ]
  },
  {
   "cell_type": "code",
   "execution_count": 239,
   "metadata": {},
   "outputs": [
    {
     "data": {
      "text/html": [
       "<table class=\"dataframe\">\n",
       "<caption>A matrix: 4 × 2 of type lgl</caption>\n",
       "<thead>\n",
       "\t<tr><th scope=col>numbers</th><th scope=col>strings</th></tr>\n",
       "</thead>\n",
       "<tbody>\n",
       "\t<tr><td>FALSE</td><td> TRUE</td></tr>\n",
       "\t<tr><td>FALSE</td><td>FALSE</td></tr>\n",
       "\t<tr><td>FALSE</td><td>FALSE</td></tr>\n",
       "\t<tr><td> TRUE</td><td> TRUE</td></tr>\n",
       "</tbody>\n",
       "</table>\n"
      ],
      "text/latex": [
       "A matrix: 4 × 2 of type lgl\n",
       "\\begin{tabular}{ll}\n",
       " numbers & strings\\\\\n",
       "\\hline\n",
       "\t FALSE &  TRUE\\\\\n",
       "\t FALSE & FALSE\\\\\n",
       "\t FALSE & FALSE\\\\\n",
       "\t  TRUE &  TRUE\\\\\n",
       "\\end{tabular}\n"
      ],
      "text/markdown": [
       "\n",
       "A matrix: 4 × 2 of type lgl\n",
       "\n",
       "| numbers | strings |\n",
       "|---|---|\n",
       "| FALSE |  TRUE |\n",
       "| FALSE | FALSE |\n",
       "| FALSE | FALSE |\n",
       "|  TRUE |  TRUE |\n",
       "\n"
      ],
      "text/plain": [
       "     numbers strings\n",
       "[1,] FALSE    TRUE  \n",
       "[2,] FALSE   FALSE  \n",
       "[3,] FALSE   FALSE  \n",
       "[4,]  TRUE    TRUE  "
      ]
     },
     "metadata": {},
     "output_type": "display_data"
    }
   ],
   "source": [
    "# Example usage of is.na\n",
    "df_example_na <- is.na(df_example)\n",
    "\n",
    "df_example_na"
   ]
  },
  {
   "cell_type": "code",
   "execution_count": 240,
   "metadata": {},
   "outputs": [
    {
     "data": {
      "text/html": [
       "<style>\n",
       ".dl-inline {width: auto; margin:0; padding: 0}\n",
       ".dl-inline>dt, .dl-inline>dd {float: none; width: auto; display: inline-block}\n",
       ".dl-inline>dt::after {content: \":\\0020\"; padding-right: .5ex}\n",
       ".dl-inline>dt:not(:first-of-type) {padding-left: .5ex}\n",
       "</style><dl class=dl-inline><dt>numbers</dt><dd>1</dd><dt>strings</dt><dd>2</dd></dl>\n"
      ],
      "text/latex": [
       "\\begin{description*}\n",
       "\\item[numbers] 1\n",
       "\\item[strings] 2\n",
       "\\end{description*}\n"
      ],
      "text/markdown": [
       "numbers\n",
       ":   1strings\n",
       ":   2\n",
       "\n"
      ],
      "text/plain": [
       "numbers strings \n",
       "      1       2 "
      ]
     },
     "metadata": {},
     "output_type": "display_data"
    }
   ],
   "source": [
    "colSums(df_example_na)"
   ]
  },
  {
   "cell_type": "code",
   "execution_count": 241,
   "metadata": {},
   "outputs": [
    {
     "data": {
      "text/html": [
       "<table class=\"dataframe\">\n",
       "<caption>A matrix: 6 × 17 of type lgl</caption>\n",
       "<thead>\n",
       "\t<tr><th scope=col>parameter_code</th><th scope=col>poc</th><th scope=col>parameter_name</th><th scope=col>duration_description</th><th scope=col>pollutant_standard</th><th scope=col>date</th><th scope=col>year</th><th scope=col>day_in_year</th><th scope=col>units_of_measure</th><th scope=col>exceptional_data_type</th><th scope=col>observation_count</th><th scope=col>observation_percent</th><th scope=col>arithmetic_mean</th><th scope=col>first_maximum_value</th><th scope=col>first_maximum_hour</th><th scope=col>aqi</th><th scope=col>daily_criteria_indicator</th></tr>\n",
       "</thead>\n",
       "<tbody>\n",
       "\t<tr><td>FALSE</td><td>FALSE</td><td>FALSE</td><td>FALSE</td><td> TRUE</td><td>FALSE</td><td>FALSE</td><td>FALSE</td><td>FALSE</td><td>TRUE</td><td>FALSE</td><td>FALSE</td><td>FALSE</td><td>FALSE</td><td>FALSE</td><td>FALSE</td><td>FALSE</td></tr>\n",
       "\t<tr><td>FALSE</td><td>FALSE</td><td>FALSE</td><td>FALSE</td><td> TRUE</td><td>FALSE</td><td>FALSE</td><td>FALSE</td><td>FALSE</td><td>TRUE</td><td>FALSE</td><td>FALSE</td><td>FALSE</td><td>FALSE</td><td>FALSE</td><td>FALSE</td><td>FALSE</td></tr>\n",
       "\t<tr><td>FALSE</td><td>FALSE</td><td>FALSE</td><td>FALSE</td><td> TRUE</td><td>FALSE</td><td>FALSE</td><td>FALSE</td><td>FALSE</td><td>TRUE</td><td>FALSE</td><td>FALSE</td><td>FALSE</td><td>FALSE</td><td>FALSE</td><td>FALSE</td><td>FALSE</td></tr>\n",
       "\t<tr><td>FALSE</td><td>FALSE</td><td>FALSE</td><td>FALSE</td><td> TRUE</td><td>FALSE</td><td>FALSE</td><td>FALSE</td><td>FALSE</td><td>TRUE</td><td>FALSE</td><td>FALSE</td><td>FALSE</td><td>FALSE</td><td>FALSE</td><td>FALSE</td><td>FALSE</td></tr>\n",
       "\t<tr><td>FALSE</td><td>FALSE</td><td>FALSE</td><td>FALSE</td><td> TRUE</td><td>FALSE</td><td>FALSE</td><td>FALSE</td><td>FALSE</td><td>TRUE</td><td>FALSE</td><td>FALSE</td><td>FALSE</td><td>FALSE</td><td>FALSE</td><td>FALSE</td><td>FALSE</td></tr>\n",
       "\t<tr><td>FALSE</td><td>FALSE</td><td>FALSE</td><td>FALSE</td><td>FALSE</td><td>FALSE</td><td>FALSE</td><td>FALSE</td><td>FALSE</td><td>TRUE</td><td>FALSE</td><td>FALSE</td><td>FALSE</td><td>FALSE</td><td>FALSE</td><td>FALSE</td><td>FALSE</td></tr>\n",
       "</tbody>\n",
       "</table>\n"
      ],
      "text/latex": [
       "A matrix: 6 × 17 of type lgl\n",
       "\\begin{tabular}{lllllllllllllllll}\n",
       " parameter\\_code & poc & parameter\\_name & duration\\_description & pollutant\\_standard & date & year & day\\_in\\_year & units\\_of\\_measure & exceptional\\_data\\_type & observation\\_count & observation\\_percent & arithmetic\\_mean & first\\_maximum\\_value & first\\_maximum\\_hour & aqi & daily\\_criteria\\_indicator\\\\\n",
       "\\hline\n",
       "\t FALSE & FALSE & FALSE & FALSE &  TRUE & FALSE & FALSE & FALSE & FALSE & TRUE & FALSE & FALSE & FALSE & FALSE & FALSE & FALSE & FALSE\\\\\n",
       "\t FALSE & FALSE & FALSE & FALSE &  TRUE & FALSE & FALSE & FALSE & FALSE & TRUE & FALSE & FALSE & FALSE & FALSE & FALSE & FALSE & FALSE\\\\\n",
       "\t FALSE & FALSE & FALSE & FALSE &  TRUE & FALSE & FALSE & FALSE & FALSE & TRUE & FALSE & FALSE & FALSE & FALSE & FALSE & FALSE & FALSE\\\\\n",
       "\t FALSE & FALSE & FALSE & FALSE &  TRUE & FALSE & FALSE & FALSE & FALSE & TRUE & FALSE & FALSE & FALSE & FALSE & FALSE & FALSE & FALSE\\\\\n",
       "\t FALSE & FALSE & FALSE & FALSE &  TRUE & FALSE & FALSE & FALSE & FALSE & TRUE & FALSE & FALSE & FALSE & FALSE & FALSE & FALSE & FALSE\\\\\n",
       "\t FALSE & FALSE & FALSE & FALSE & FALSE & FALSE & FALSE & FALSE & FALSE & TRUE & FALSE & FALSE & FALSE & FALSE & FALSE & FALSE & FALSE\\\\\n",
       "\\end{tabular}\n"
      ],
      "text/markdown": [
       "\n",
       "A matrix: 6 × 17 of type lgl\n",
       "\n",
       "| parameter_code | poc | parameter_name | duration_description | pollutant_standard | date | year | day_in_year | units_of_measure | exceptional_data_type | observation_count | observation_percent | arithmetic_mean | first_maximum_value | first_maximum_hour | aqi | daily_criteria_indicator |\n",
       "|---|---|---|---|---|---|---|---|---|---|---|---|---|---|---|---|---|\n",
       "| FALSE | FALSE | FALSE | FALSE |  TRUE | FALSE | FALSE | FALSE | FALSE | TRUE | FALSE | FALSE | FALSE | FALSE | FALSE | FALSE | FALSE |\n",
       "| FALSE | FALSE | FALSE | FALSE |  TRUE | FALSE | FALSE | FALSE | FALSE | TRUE | FALSE | FALSE | FALSE | FALSE | FALSE | FALSE | FALSE |\n",
       "| FALSE | FALSE | FALSE | FALSE |  TRUE | FALSE | FALSE | FALSE | FALSE | TRUE | FALSE | FALSE | FALSE | FALSE | FALSE | FALSE | FALSE |\n",
       "| FALSE | FALSE | FALSE | FALSE |  TRUE | FALSE | FALSE | FALSE | FALSE | TRUE | FALSE | FALSE | FALSE | FALSE | FALSE | FALSE | FALSE |\n",
       "| FALSE | FALSE | FALSE | FALSE |  TRUE | FALSE | FALSE | FALSE | FALSE | TRUE | FALSE | FALSE | FALSE | FALSE | FALSE | FALSE | FALSE |\n",
       "| FALSE | FALSE | FALSE | FALSE | FALSE | FALSE | FALSE | FALSE | FALSE | TRUE | FALSE | FALSE | FALSE | FALSE | FALSE | FALSE | FALSE |\n",
       "\n"
      ],
      "text/plain": [
       "     parameter_code poc   parameter_name duration_description\n",
       "[1,] FALSE          FALSE FALSE          FALSE               \n",
       "[2,] FALSE          FALSE FALSE          FALSE               \n",
       "[3,] FALSE          FALSE FALSE          FALSE               \n",
       "[4,] FALSE          FALSE FALSE          FALSE               \n",
       "[5,] FALSE          FALSE FALSE          FALSE               \n",
       "[6,] FALSE          FALSE FALSE          FALSE               \n",
       "     pollutant_standard date  year  day_in_year units_of_measure\n",
       "[1,]  TRUE              FALSE FALSE FALSE       FALSE           \n",
       "[2,]  TRUE              FALSE FALSE FALSE       FALSE           \n",
       "[3,]  TRUE              FALSE FALSE FALSE       FALSE           \n",
       "[4,]  TRUE              FALSE FALSE FALSE       FALSE           \n",
       "[5,]  TRUE              FALSE FALSE FALSE       FALSE           \n",
       "[6,] FALSE              FALSE FALSE FALSE       FALSE           \n",
       "     exceptional_data_type observation_count observation_percent\n",
       "[1,] TRUE                  FALSE             FALSE              \n",
       "[2,] TRUE                  FALSE             FALSE              \n",
       "[3,] TRUE                  FALSE             FALSE              \n",
       "[4,] TRUE                  FALSE             FALSE              \n",
       "[5,] TRUE                  FALSE             FALSE              \n",
       "[6,] TRUE                  FALSE             FALSE              \n",
       "     arithmetic_mean first_maximum_value first_maximum_hour aqi  \n",
       "[1,] FALSE           FALSE               FALSE              FALSE\n",
       "[2,] FALSE           FALSE               FALSE              FALSE\n",
       "[3,] FALSE           FALSE               FALSE              FALSE\n",
       "[4,] FALSE           FALSE               FALSE              FALSE\n",
       "[5,] FALSE           FALSE               FALSE              FALSE\n",
       "[6,] FALSE           FALSE               FALSE              FALSE\n",
       "     daily_criteria_indicator\n",
       "[1,] FALSE                   \n",
       "[2,] FALSE                   \n",
       "[3,] FALSE                   \n",
       "[4,] FALSE                   \n",
       "[5,] FALSE                   \n",
       "[6,] FALSE                   "
      ]
     },
     "metadata": {},
     "output_type": "display_data"
    }
   ],
   "source": [
    "# Now let's try our data\n",
    "df_2022_na <- is.na(df_2022)\n",
    "head(df_2022_na)"
   ]
  },
  {
   "cell_type": "code",
   "execution_count": 242,
   "metadata": {},
   "outputs": [
    {
     "data": {
      "text/html": [
       "<style>\n",
       ".dl-inline {width: auto; margin:0; padding: 0}\n",
       ".dl-inline>dt, .dl-inline>dd {float: none; width: auto; display: inline-block}\n",
       ".dl-inline>dt::after {content: \":\\0020\"; padding-right: .5ex}\n",
       ".dl-inline>dt:not(:first-of-type) {padding-left: .5ex}\n",
       "</style><dl class=dl-inline><dt>parameter_code</dt><dd>0</dd><dt>poc</dt><dd>0</dd><dt>parameter_name</dt><dd>0</dd><dt>duration_description</dt><dd>0</dd><dt>pollutant_standard</dt><dd>7787</dd><dt>date</dt><dd>0</dd><dt>year</dt><dd>0</dd><dt>day_in_year</dt><dd>0</dd><dt>units_of_measure</dt><dd>0</dd><dt>exceptional_data_type</dt><dd>8591</dd><dt>observation_count</dt><dd>0</dd><dt>observation_percent</dt><dd>0</dd><dt>arithmetic_mean</dt><dd>0</dd><dt>first_maximum_value</dt><dd>0</dd><dt>first_maximum_hour</dt><dd>0</dd><dt>aqi</dt><dd>0</dd><dt>daily_criteria_indicator</dt><dd>0</dd></dl>\n"
      ],
      "text/latex": [
       "\\begin{description*}\n",
       "\\item[parameter\\textbackslash{}\\_code] 0\n",
       "\\item[poc] 0\n",
       "\\item[parameter\\textbackslash{}\\_name] 0\n",
       "\\item[duration\\textbackslash{}\\_description] 0\n",
       "\\item[pollutant\\textbackslash{}\\_standard] 7787\n",
       "\\item[date] 0\n",
       "\\item[year] 0\n",
       "\\item[day\\textbackslash{}\\_in\\textbackslash{}\\_year] 0\n",
       "\\item[units\\textbackslash{}\\_of\\textbackslash{}\\_measure] 0\n",
       "\\item[exceptional\\textbackslash{}\\_data\\textbackslash{}\\_type] 8591\n",
       "\\item[observation\\textbackslash{}\\_count] 0\n",
       "\\item[observation\\textbackslash{}\\_percent] 0\n",
       "\\item[arithmetic\\textbackslash{}\\_mean] 0\n",
       "\\item[first\\textbackslash{}\\_maximum\\textbackslash{}\\_value] 0\n",
       "\\item[first\\textbackslash{}\\_maximum\\textbackslash{}\\_hour] 0\n",
       "\\item[aqi] 0\n",
       "\\item[daily\\textbackslash{}\\_criteria\\textbackslash{}\\_indicator] 0\n",
       "\\end{description*}\n"
      ],
      "text/markdown": [
       "parameter_code\n",
       ":   0poc\n",
       ":   0parameter_name\n",
       ":   0duration_description\n",
       ":   0pollutant_standard\n",
       ":   7787date\n",
       ":   0year\n",
       ":   0day_in_year\n",
       ":   0units_of_measure\n",
       ":   0exceptional_data_type\n",
       ":   8591observation_count\n",
       ":   0observation_percent\n",
       ":   0arithmetic_mean\n",
       ":   0first_maximum_value\n",
       ":   0first_maximum_hour\n",
       ":   0aqi\n",
       ":   0daily_criteria_indicator\n",
       ":   0\n",
       "\n"
      ],
      "text/plain": [
       "          parameter_code                      poc           parameter_name \n",
       "                       0                        0                        0 \n",
       "    duration_description       pollutant_standard                     date \n",
       "                       0                     7787                        0 \n",
       "                    year              day_in_year         units_of_measure \n",
       "                       0                        0                        0 \n",
       "   exceptional_data_type        observation_count      observation_percent \n",
       "                    8591                        0                        0 \n",
       "         arithmetic_mean      first_maximum_value       first_maximum_hour \n",
       "                       0                        0                        0 \n",
       "                     aqi daily_criteria_indicator \n",
       "                       0                        0 "
      ]
     },
     "metadata": {},
     "output_type": "display_data"
    }
   ],
   "source": [
    "# Count\n",
    "colSums(df_2022_na)"
   ]
  },
  {
   "cell_type": "markdown",
   "metadata": {},
   "source": [
    "Luckily this dataset does not have missing data in important fields. The fields with null values make sense.\n",
    "* Not all chemicals measured have a regulatory standard that would be in the **pollutant_standard** field, only the most toxic.\n",
    "* **exceptional_data_type** is a flag field for anomalous conditions and events."
   ]
  },
  {
   "cell_type": "markdown",
   "metadata": {},
   "source": [
    "### 6.2.1 Handling missing data\n",
    "Missing data is handled on a case-by-case basis. Some options are: \n",
    "* Drop missing data\n",
    "    * If you have enough data otherwise   \n",
    "* Impute data\n",
    "    * Method will depend what data you have available\n",
    "    * Some examples\n",
    "        1. Extrapolate small gaps in a timeseries\n",
    "        2. Use mean or median values from similar data points\n",
    "        3. Sampling from a probability distribution\n",
    "\n"
   ]
  },
  {
   "cell_type": "markdown",
   "metadata": {},
   "source": [
    "### 6.3 Checking for Duplicates\n",
    "We use the [`duplicated()`](https://pandas.pydata.org/docs/reference/api/pandas.DataFrame.duplicated.html) method to check for duplicates.\n",
    "\n",
    "The `duplicated()` method generates a boolean array of indicating the duplicates based on a subset of keys.\n",
    "\n",
    "Our intuition is that this dataset should have one record per day for each parameter. Let's check if that assumption is correct."
   ]
  },
  {
   "cell_type": "code",
   "execution_count": null,
   "metadata": {},
   "outputs": [],
   "source": [
    "# Get a boolean array of duplicates\n",
    "mask_duplicates = df_2022.duplicated(subset=['date', 'parameter_code'], keep=False)\n",
    "mask_duplicates"
   ]
  },
  {
   "cell_type": "markdown",
   "metadata": {},
   "source": [
    "* We supplied duplicated method with the `date` and `parameter_code` as the subset of columns to act as a unique key.\n",
    "* We also supply a keyword `keep=False`.\n",
    "    * This logic is very confusing.\n",
    "        * The default behavior of this method is to mark only duplicates after the first occurrence as the duplicates.\n",
    "        * This makes it easy to \"keep\" the first occurrence and remove all subsequent duplicates.\n",
    "        * By supplying `False` we are turning off that behavior because we want to consider all duplicates."
   ]
  },
  {
   "cell_type": "code",
   "execution_count": null,
   "metadata": {},
   "outputs": [],
   "source": [
    "any(mask_duplicates)"
   ]
  },
  {
   "cell_type": "code",
   "execution_count": null,
   "metadata": {},
   "outputs": [],
   "source": [
    "mask_duplicates.sum()"
   ]
  },
  {
   "cell_type": "markdown",
   "metadata": {},
   "source": [
    "OK. There are clearly some duplicates in this dataset. Let's take a closer look at these in the next section."
   ]
  },
  {
   "cell_type": "markdown",
   "metadata": {},
   "source": [
    "### 6.4 Querying and Sorting\n",
    "By querying the dataframe we can better examine the duplicates we identified in the previous section.\n",
    "\n",
    "There are two main ways to query a DataFrame:\n",
    "1. Masking and Indexing\n",
    "2. [`query()`](https://pandas.pydata.org/docs/reference/api/pandas.DataFrame.query.html) method\n",
    "\n",
    "The choice depends on preference and context.\n",
    "* Masking and Indxing is clearer for complex queries with multiple conditions.\n",
    "* The `query()` method good for short and quick queries.\n",
    "\n",
    "Syntax example:\n",
    "```Python\n",
    "# Masking and Indexing\n",
    "mask_param = df_2022['parameter_name'] == 'PM2.5 - Local Conditions'\n",
    "df_2022[mask_param]\n",
    "\n",
    "# Query method\n",
    "df_2022.query('parameter_name == \"PM2.5 - Local Conditions\"')\n",
    "```\n",
    "\n",
    "Conveniently we just created a mask of duplicate values in the last section so let's examine that.\n",
    "We will also use the [`sort_values()`](https://pandas.pydata.org/docs/reference/api/pandas.DataFrame.sort_values.html) method to order the DataFrame."
   ]
  },
  {
   "cell_type": "code",
   "execution_count": null,
   "metadata": {},
   "outputs": [],
   "source": [
    "# Masking and Indexing\n",
    "df_2022[mask_duplicates].sort_values(by=['date', 'parameter_name'])"
   ]
  },
  {
   "cell_type": "markdown",
   "metadata": {},
   "source": [
    "The PM2.5 measurment seems to have something different going on than the other duplicates. Let's take a look at that parameter first."
   ]
  },
  {
   "cell_type": "code",
   "execution_count": null,
   "metadata": {},
   "outputs": [],
   "source": [
    "(df_2022.loc[mask_duplicates, ['date', 'parameter_name', 'duration_description', 'pollutant_standard', 'arithmetic_mean', 'first_maximum_value', 'first_maximum_hour','aqi']]\n",
    " .sort_values(by=['date', 'parameter_name', 'duration_description', 'pollutant_standard'])\n",
    " .head(12))"
   ]
  },
  {
   "cell_type": "markdown",
   "metadata": {},
   "source": [
    "*What do we notice about the PM2.5 measurement?*\n",
    "* There are 3 records per day. They differ in duration_description and pollutant_standard.\n",
    "* The \"1 HOUR\" duration seems to have the most accurate information for our purposes because it has more \"arithmetic_mean\" precision, and better information about the first maximum value and hour over the day.\n",
    "* The \"1 Hour\" duration records does not have Air Quality Index \"aqi\" information\n",
    "\n",
    "**Conclusion**\n",
    "* We should keep only the \"1 HOUR\" duration and remove the others.\n",
    "* We'll save the other durations in a separate DataFrame in the case we want the daily AQI information.\n",
    "\n",
    "We can do this with querying!"
   ]
  },
  {
   "cell_type": "code",
   "execution_count": null,
   "metadata": {},
   "outputs": [],
   "source": [
    "# Create a mask for the values we want to remove\n",
    "mask_remove = (df_2022['parameter_name'] == 'PM2.5 - Local Conditions') & (df_2022['duration_description'] != '1 HOUR')\n",
    "\n",
    "# Create dataframe of PM2.5 records we remove\n",
    "df_removed_records = df_2022[mask_remove].reset_index(drop=True)\n",
    "\n",
    "# Create dataframe of everything we want to keep. The NOT (~) operator reverses the mask.\n",
    "df_2022_cleaned_v1 = df_2022[~mask_remove].reset_index(drop=True)"
   ]
  },
  {
   "cell_type": "code",
   "execution_count": null,
   "metadata": {},
   "outputs": [],
   "source": [
    "df_2022_cleaned_v1.query(\"parameter_name == 'PM2.5 - Local Conditions'\").head(10)"
   ]
  },
  {
   "cell_type": "markdown",
   "metadata": {},
   "source": [
    "Now let's return to look at those other duplicate parameters. Below we will combine two masks. Note that we are referencing the pre-cleaned dataframe."
   ]
  },
  {
   "cell_type": "code",
   "execution_count": null,
   "metadata": {},
   "outputs": [],
   "source": [
    "# This is an example of combining two masks. The duplicate mask and the not PM2.5 mask\n",
    "mask_not_pm2p5 = df_2022['parameter_name'] != 'PM2.5 - Local Conditions'\n",
    "df_2022[mask_duplicates & mask_not_pm2p5].sort_values(by=['date', 'parameter_name'])"
   ]
  },
  {
   "cell_type": "markdown",
   "metadata": {},
   "source": [
    "*What do we notice here?*\n",
    "* It appears these duplicates are pairs with a different 'poc' code.\n",
    "    * The 'poc' code is an identifier for sampling instruments at the site. These parameters are sampled in replicates on separate instruments as a quality-control check. If replicate results differ too much, it may signal sampling error.\n",
    "* At this point we have several options:\n",
    "    1. Drop one of the duplicates\n",
    "    2. Average the duplicates\n",
    "    3. Leave the data alone\n",
    "\n",
    "We'll choose option 3 for now because the duplicate treatment may depend on the type of analysis being performed. The decision can be made at that point."
   ]
  },
  {
   "cell_type": "markdown",
   "metadata": {},
   "source": [
    "### 6.5 Counts and Uniques\n",
    "Counts and unique values are great for looking at categorical data."
   ]
  },
  {
   "cell_type": "code",
   "execution_count": null,
   "metadata": {},
   "outputs": [],
   "source": [
    "# Get the count of unique values in each column\n",
    "df_2022_cleaned_v1.nunique()"
   ]
  },
  {
   "cell_type": "code",
   "execution_count": null,
   "metadata": {},
   "outputs": [],
   "source": [
    "# Get a list of unique values in a column\n",
    "df_2022_cleaned_v1['parameter_name'].unique()"
   ]
  },
  {
   "cell_type": "code",
   "execution_count": null,
   "metadata": {},
   "outputs": [],
   "source": [
    "# Get the counts of each parameter\n",
    "counts = df_2022_cleaned_v1['parameter_name'].value_counts()\n",
    "counts"
   ]
  },
  {
   "cell_type": "markdown",
   "metadata": {},
   "source": [
    "The output is abbreviated. To see specific analytes you need index with a list."
   ]
  },
  {
   "cell_type": "code",
   "execution_count": null,
   "metadata": {},
   "outputs": [],
   "source": [
    "counts[['PM2.5 - Local Conditions', 'Lead PM10 STP', 'Acetaldehyde', 'Cyclohexane']]"
   ]
  },
  {
   "cell_type": "code",
   "execution_count": null,
   "metadata": {},
   "outputs": [],
   "source": [
    "counts.head(10)"
   ]
  },
  {
   "cell_type": "markdown",
   "metadata": {},
   "source": [
    "### 6.5 Descriptive Stats and groupby\n",
    "The method `.describe()` is a great way to get descriptive statistics on numerical columns. When called on the dataframe, it will automatically provide statistics on each numerical column."
   ]
  },
  {
   "cell_type": "code",
   "execution_count": null,
   "metadata": {},
   "outputs": [],
   "source": [
    "df_2022_cleaned_v1.describe()"
   ]
  },
  {
   "cell_type": "markdown",
   "metadata": {},
   "source": [
    "Though this isn't very useful for our dataset at the moment because it's creating statistics across 90+ parameters. It would be better to chunk the DataFrame by parameter and run describe. This is where a powerful method called `groupby` is useful."
   ]
  },
  {
   "cell_type": "code",
   "execution_count": null,
   "metadata": {},
   "outputs": [],
   "source": [
    "# Create a Groupby object with parameter_name\n",
    "# This object chunks the dataframe by parameter_name\n",
    "gb_param = df_2022_cleaned_v1.groupby(by='parameter_name')\n",
    "gb_param['arithmetic_mean'].describe()"
   ]
  },
  {
   "cell_type": "code",
   "execution_count": null,
   "metadata": {},
   "outputs": [],
   "source": [
    "# To look at the PM2.5 stats\n",
    "df_gb_stats = gb_param['arithmetic_mean'].describe()\n",
    "df_gb_stats.loc['PM2.5 - Local Conditions']"
   ]
  },
  {
   "cell_type": "markdown",
   "metadata": {},
   "source": [
    "You can groupby multiple columns. Here's an example of sample counts by parameter and month."
   ]
  },
  {
   "cell_type": "code",
   "execution_count": null,
   "metadata": {},
   "outputs": [],
   "source": [
    "# We group by parameter name and the data column converted to the month number\n",
    "gb_param_month = df_2022_cleaned_v1.groupby(by=['parameter_name', df_2022_cleaned_v1['date'].dt.month])\n",
    "df_param_monthly_counts = gb_param_month['arithmetic_mean'].count()  # Count the number of records\n",
    "df_param_monthly_counts.loc[['PM2.5 - Local Conditions', '1,1,1,2-Tetrachloroethane']]  # View two specific parameters"
   ]
  },
  {
   "cell_type": "markdown",
   "metadata": {},
   "source": [
    "We can see that the frequency of sampling between these parameters is different."
   ]
  },
  {
   "cell_type": "markdown",
   "metadata": {},
   "source": [
    "Previously we found that some parameters had duplicate values. We can use groupby to average and count the values."
   ]
  },
  {
   "cell_type": "code",
   "execution_count": null,
   "metadata": {},
   "outputs": [],
   "source": [
    "gb_param_date = df_2022_cleaned_v1.groupby(by=['parameter_name', 'date'])\n",
    "(gb_param_date['arithmetic_mean']\n",
    " .agg(['mean', 'count'])  # We use the aggregate method to apply both 'mean' and 'count'\n",
    " .query(\"count > 1\")  # Query for only those with more than one record\n",
    " )"
   ]
  },
  {
   "cell_type": "markdown",
   "metadata": {},
   "source": [
    "## 7. Exporting DataFrames\n",
    "We made some interesting groupby tables with summary stats in the last section. Let's try exporting them so we can view in another application or import them in a future analysis.\n",
    "\n",
    "We use the `to_csv()` method to export to csv.\n",
    "See the [Pandas documentation](https://pandas.pydata.org/docs/reference/api/pandas.DataFrame.to_csv.html) to see all the other formats you can export to."
   ]
  },
  {
   "cell_type": "code",
   "execution_count": null,
   "metadata": {},
   "outputs": [],
   "source": [
    "# Create a Path object to the reports folder\n",
    "outputs_path = Path('..', 'reports')\n",
    "\n",
    "# Save the groupby parameters and descriptive stats of the arithmetic mean to a DataFrame\n",
    "df_gb_param_mean_describe = gb_param['arithmetic_mean'].describe()\n",
    "\n",
    "# Call the to_csv method on the dataframe specifying path and filename\n",
    "df_gb_param_mean_describe.to_csv(outputs_path / 'stats-arithmetic_mean-by-param.csv')"
   ]
  },
  {
   "cell_type": "markdown",
   "metadata": {},
   "source": [
    "Navigate to the reports directory and confirm that a file was written."
   ]
  },
  {
   "cell_type": "markdown",
   "metadata": {},
   "source": [
    "## 8. Merging\n",
    "If we wanted to join two tables based on common key we would use the [`merge()`](https://pandas.pydata.org/docs/reference/api/pandas.DataFrame.merge.html) method.\n",
    "\n",
    "There is a file with parameter classes that categorizes the parameters. This might help us make sense of which parameters are related to each other. Let's join it to our dataframe!\n",
    "```\n",
    "project\n",
    "├── data\n",
    "│   └── raw\n",
    "│       └── params_class.csv\n",
    "```"
   ]
  },
  {
   "cell_type": "code",
   "execution_count": null,
   "metadata": {},
   "outputs": [],
   "source": [
    "df_param_classes = pd.read_csv(data_path / 'raw' / 'params_class.csv')\n",
    "df_param_classes.head()"
   ]
  },
  {
   "cell_type": "markdown",
   "metadata": {},
   "source": [
    "This file has two new columns:\n",
    "1. **param_class** - The parameter classification\n",
    "2. **tier1** - A boolean field for EPA designated Tier 1 major risk toxins.\n",
    "    * Note that this does not apply to particulate matter which are criteria pollutants but are not designated as toxins."
   ]
  },
  {
   "cell_type": "code",
   "execution_count": null,
   "metadata": {},
   "outputs": [],
   "source": [
    "# Count of the number of parameters in each class\n",
    "df_param_classes['param_class'].value_counts()"
   ]
  },
  {
   "cell_type": "code",
   "execution_count": null,
   "metadata": {},
   "outputs": [],
   "source": [
    "# Query the 18 Tier 1 toxins\n",
    "df_param_classes.query(\"tier1 == True\")"
   ]
  },
  {
   "cell_type": "code",
   "execution_count": null,
   "metadata": {},
   "outputs": [],
   "source": [
    "# Merge the dataframes using parameter_code as the key with a left-join\n",
    "df_2022_cleaned_v2 = df_2022_cleaned_v1.merge(df_param_classes, on='parameter_code', how='left')\n",
    "df_2022_cleaned_v2.head()"
   ]
  },
  {
   "cell_type": "markdown",
   "metadata": {},
   "source": [
    "We used a left-join here. This means that only keys from the left table matter in the join. Keys that are in the right table but not the left will not be joined.\n",
    "\n",
    "Notice that parameter_name is duplicated with an appended \"_x\" and \"_y\" because the column existed in both tables. You can prevent this by indexing only the columns you want to join. For now we are just going to drop and rename the columns for an example of the `drop()` method!"
   ]
  },
  {
   "cell_type": "code",
   "execution_count": null,
   "metadata": {},
   "outputs": [],
   "source": [
    "df_2022_cleaned_v3 = (df_2022_cleaned_v2\n",
    "                      .drop(columns='parameter_name_y')  # Remove the column\n",
    "                      .rename(columns={'parameter_name_x': 'parameter_name'})  # We've seen this method previously!\n",
    "                      )\n",
    "df_2022_cleaned_v3.columns"
   ]
  },
  {
   "cell_type": "markdown",
   "metadata": {},
   "source": [
    "Great! Lets save a copy of our processed dataset to the processed directory of the data folder.\n",
    "This is good practice so that future analysis can start from a cleaner version of the data."
   ]
  },
  {
   "cell_type": "code",
   "execution_count": null,
   "metadata": {},
   "outputs": [],
   "source": [
    "df_2022_cleaned_v3.to_csv(data_path / 'processed' / 'df_2022_processed.csv', index=False)"
   ]
  },
  {
   "cell_type": "markdown",
   "metadata": {},
   "source": [
    "## 9. Reshaping and Plotting\n",
    "\n",
    "We will be plotting with Pandas' built-in plotting methods and functions.\n",
    "* Pandas plotting is built as a front-end to the Matplotlib package.\n",
    "* The plotting functionalities are bare-bones but are good for quick EDA.\n",
    "* There are many other plotting packages out there here are a few:\n",
    "    * [matplotlib](https://matplotlib.org) - The cornerstone of several plotting libraries, including pandas. It's hard to learn but necessary for fine-tuning figures.\n",
    "    * [seaborn](https://seaborn.pydata.org) - Based on matplotlib but with a higher-level API easier to start with.\n",
    "    * [plotnine](https://plotnine.readthedocs.io/en/stable/) - Implementation of R's popular ggplot2 in python. Also based matplotlib.\n",
    "    * [vega-altair](https://altair-viz.github.io) - Declarative graphing library built upon vega-lite grammar. Great for those with JavaScript background.\n",
    "    * [plotly](https://plotly.com/python/) - For interactive graphics\n",
    "    * [bokeh](https://bokeh.org) -Also for interactive graphics\n"
   ]
  },
  {
   "cell_type": "markdown",
   "metadata": {},
   "source": [
    "### Reshaping\n",
    "Plotting will require many dataframe transformations to shape the dataframe into a plot-able structure.\n",
    "* With timeseries data we typically want a structure where rows are a single date/time and plot values are along columns.\n",
    "\n",
    "| Date | param1 | param_2 | ...   | param_n |\n",
    "|-----|-------|-------|-------|-------|\n",
    "| Date1 | value | value | value | value |\n",
    "| Date2 | value | value | value | value |\n",
    "| ... | value | value | value | value |\n",
    "\n",
    "The [`pd.pivot_table()`](https://pandas.pydata.org/docs/reference/api/pandas.pivot_table.html) function will help us reshape the table to this format."
   ]
  },
  {
   "cell_type": "markdown",
   "metadata": {},
   "source": [
    "We will only look at particulate matter for plotting."
   ]
  },
  {
   "cell_type": "code",
   "execution_count": null,
   "metadata": {},
   "outputs": [],
   "source": [
    "df_2022_c = df_2022_cleaned_v3 # saving as a shorter name for convenience\n",
    "\n",
    "mask_pm = (df_2022_c['param_class'] == 'particulate')  # mask for just the particulate parameters\n",
    "df_pm = pd.pivot_table(df_2022_c[mask_pm],\n",
    "                       values='arithmetic_mean',  # The column we want as values\n",
    "                       index='date',  # Set the date as the index of the new dataframe\n",
    "                       columns='parameter_name'  # The column with labels we wish to appear as columns\n",
    "                       )\n",
    "df_pm.columns = ['Black Carbon', 'PM10', 'PM2.5', 'Particle Number']  # Rename columns for convenience\n",
    "df_pm.head()"
   ]
  },
  {
   "cell_type": "markdown",
   "metadata": {},
   "source": [
    "Now we have a wide table with the index as dates and parameters as columns! Let's begin plotting!"
   ]
  },
  {
   "cell_type": "markdown",
   "metadata": {},
   "source": [
    "### Plotting\n",
    "1. Boxplots - Distribution and outliers\n",
    "2. Time Series - Temporal trends\n",
    "3. Scatter - Relationships between variables\n",
    "4. Autocorrelation & Lag Plots - Relationships with previous measurements\n",
    "\n",
    "Please check out panda's [Chart visualization](https://pandas.pydata.org/docs/user_guide/visualization.html) documentation for many more plot types."
   ]
  },
  {
   "cell_type": "markdown",
   "metadata": {},
   "source": [
    "### 9.1 Boxplots\n",
    "Boxplots can be generated by either then [`boxplot()`](https://matplotlib.org/stable/api/_as_gen/matplotlib.axes.Axes.boxplot.html#matplotlib.axes.Axes.boxplot) or [`plot.box()`](https://pandas.pydata.org/docs/reference/api/pandas.DataFrame.plot.box.html) methods. They are aliases.\n"
   ]
  },
  {
   "cell_type": "code",
   "execution_count": null,
   "metadata": {},
   "outputs": [],
   "source": [
    "# We'll first drop the \"Particle Number\" parameter because it's a completely different measure and magnitude.\n",
    "df_pm_nopn = df_pm.drop(columns=['Particle Number'])\n",
    "df_pm_nopn.plot.box(ylabel='ug/m3');"
   ]
  },
  {
   "cell_type": "markdown",
   "metadata": {},
   "source": [
    "We should probably plot the parameters on their own panel due the differences in magnitude."
   ]
  },
  {
   "cell_type": "code",
   "execution_count": null,
   "metadata": {},
   "outputs": [],
   "source": [
    "df_pm_nopn.plot.box(subplots=True,  # Plot each column in on its own panel\n",
    "                    ylabel='ug/m3');\n",
    "plt.subplots_adjust(wspace=.5)  # Adjust space between subplots so they don't overlap"
   ]
  },
  {
   "cell_type": "markdown",
   "metadata": {},
   "source": [
    "Seems like there are outliers that may be worth removing in future analysis.\n",
    "Collecting more years of data could give us a better idea of these are true outliers."
   ]
  },
  {
   "cell_type": "markdown",
   "metadata": {},
   "source": [
    "### 9.2 Time Series\n",
    "Time series are useful to look at temporal trends.\n",
    "To plot a time series we simply call the method [`plot()`](https://pandas.pydata.org/docs/reference/api/pandas.DataFrame.plot.html).\n",
    "\n",
    "Our dataframe's index is set to the date so the plot function will assume that as the x-axis."
   ]
  },
  {
   "cell_type": "code",
   "execution_count": null,
   "metadata": {},
   "outputs": [],
   "source": [
    "# Plot a time series\n",
    "df_pm_nopn.plot();"
   ]
  },
  {
   "cell_type": "markdown",
   "metadata": {},
   "source": [
    "PM10 did not show up because it has a lot of NaNs. We can plot the data points to see this by providing keyword arguments to the plot command. Here we add many other keyword arguments.\n",
    "\n",
    "See the [`plot()`](https://pandas.pydata.org/docs/reference/api/pandas.DataFrame.plot.html) documentation for other options."
   ]
  },
  {
   "cell_type": "code",
   "execution_count": null,
   "metadata": {},
   "outputs": [],
   "source": [
    "ax = df_pm_nopn.plot(marker='o',  # Add circle markers\n",
    "                     ylabel='ug/m3',  # Adds y-axis label\n",
    "                     logy=True,  # Converts y-axis to a log-scal\n",
    "                     alpha=.6,   # Transparency scale from 0-1, 0 being invisible\n",
    "                     figsize=(12, 5));  # width and height of the figure\n",
    "\n",
    "# Add a dashed line for PM2.5 criteria value at 9 ug/m3\n",
    "ax.axhline(9, linestyle='--', color='gray');"
   ]
  },
  {
   "cell_type": "markdown",
   "metadata": {},
   "source": [
    "Environmental data can be noisy. Applying a rolling mean is a technique to smooth-out noise and look at underlying trends.\n",
    "We use the [`rolling()`](https://pandas.pydata.org/docs/reference/api/pandas.DataFrame.rolling.html) method to the DataFrame to calculate this."
   ]
  },
  {
   "cell_type": "code",
   "execution_count": null,
   "metadata": {},
   "outputs": [],
   "source": [
    "df_pm_nopn_rm5 = df_pm_nopn.drop(columns=['PM10']).rolling(5).mean()  # Compute a 5-day rolling average\n",
    "df_pm_nopn_rm5.plot(marker='o',  # Add circle markers\n",
    "                    ylabel='ug/m3',  # Adds y-axis label\n",
    "                    alpha=.6,   # Transparency scale from 0-1, 0 being invisible\n",
    "                    subplots=True,\n",
    "                    figsize=(12, 5));"
   ]
  },
  {
   "cell_type": "markdown",
   "metadata": {},
   "source": [
    "* There's not enough data to compute a rolling average for PM10.\n",
    "* Black carbon and PM2.5 seem paired. This makes sense because Black carbon PM2.5 is a subset of PM2.5.\n",
    "* There seems to be some temporal trends."
   ]
  },
  {
   "cell_type": "markdown",
   "metadata": {},
   "source": [
    "### 9.3 Scatter\n",
    "Scatter plots help determine relationship between two variables.\n",
    "Let's plot a scatter plot between PM2.5 and Black Carbon. We can specify this with the [`plot.scatter()`](https://pandas.pydata.org/docs/reference/api/pandas.DataFrame.plot.scatter.html#pandas.DataFrame.plot.scatter) method."
   ]
  },
  {
   "cell_type": "code",
   "execution_count": null,
   "metadata": {},
   "outputs": [],
   "source": [
    "df_pm.plot.scatter(x='PM2.5', y='Black Carbon');"
   ]
  },
  {
   "cell_type": "markdown",
   "metadata": {},
   "source": [
    "A [`scatter_matrix`](https://pandas.pydata.org/docs/reference/api/pandas.plotting.scatter_matrix.html) function is a quick method to look at relationships between all parameters simultaneously.\n",
    "\n",
    "Note that this a function and not a method called on the DataFrame. We pass the DataFrame as an argument into the function."
   ]
  },
  {
   "cell_type": "code",
   "execution_count": null,
   "metadata": {},
   "outputs": [],
   "source": [
    "from pandas.plotting import scatter_matrix\n",
    "df_pm_renamed = df_pm.copy()\n",
    "scatter_matrix(df_pm, figsize=(6,6));"
   ]
  },
  {
   "cell_type": "markdown",
   "metadata": {},
   "source": [
    "We can see that the parameters are generally positively correlated."
   ]
  },
  {
   "cell_type": "markdown",
   "metadata": {},
   "source": [
    "### 9.4 Autocorrelation & Lag Plots\n",
    "Autocorrelation and lag plots help us determine if there are relationship with a measurement and previous measurements (lags).\n",
    "Autocorrelation can find periodic trends in the data like seasonality.\n",
    "\n",
    "pandas [`autocorrelation_plot`](https://pandas.pydata.org/docs/reference/api/pandas.plotting.autocorrelation_plot.html) function computes the correlation across all the lags for a set of measurements."
   ]
  },
  {
   "cell_type": "code",
   "execution_count": null,
   "metadata": {},
   "outputs": [],
   "source": [
    "from pandas.plotting import autocorrelation_plot, lag_plot\n",
    "\n",
    "# We pass a single column into an autocorrelation plot function.\n",
    "# The column cannot have null values. We call the method `fillna` to backward-fill null values with the subsequent values. This isn't an issue because there are few nulls.\n",
    "autocorrelation_plot(df_pm_renamed['PM2.5'].fillna(method=\"bfill\"))"
   ]
  },
  {
   "cell_type": "code",
   "execution_count": null,
   "metadata": {},
   "outputs": [],
   "source": [
    "autocorrelation_plot(df_pm_renamed['PM2.5'].fillna(method=\"ffill\")).set_xlim(1,20)"
   ]
  },
  {
   "cell_type": "markdown",
   "metadata": {},
   "source": [
    "The horizontal lines correspond to the 99 (dashed) and 95 (solid) confidence bands. When the line is outside the bands the correlation is more confidently non-zero. The lags represent days. There is a steep drop-off in correlation after the first day.\n",
    "\n",
    "We can look at the scatter plots with specific lags with the [`lag_plot`](https://pandas.pydata.org/pandas-docs/stable/reference/api/pandas.plotting.lag_plot.html) function.\n",
    "\n",
    "Below we plot progressively larger lags. The plotting method below is an example of matplotlib syntax."
   ]
  },
  {
   "cell_type": "code",
   "execution_count": null,
   "metadata": {},
   "outputs": [],
   "source": [
    "# Create figure with 4 subplots. The fig variable is the object for configuring the entire figure (all subplots) the axs variable is an array with 4 axis objects corresponding to each subplot.\n",
    "fig, axs = plt.subplots(nrows=2, ncols=2, figsize=(6,6))\n",
    "axs = axs.ravel()  # Flatten the array\n",
    "# Plot each lag and specify which subpanel it should go to with the `ax` keyword\n",
    "lag_plot(df_pm_renamed['PM2.5'], lag=1, ax=axs[0]);\n",
    "lag_plot(df_pm_renamed['PM2.5'], lag=2, ax=axs[1]);\n",
    "lag_plot(df_pm_renamed['PM2.5'], lag=4, ax=axs[2]);\n",
    "lag_plot(df_pm_renamed['PM2.5'], lag=12, ax=axs[3]);\n",
    "plt.tight_layout()  # Adjust the subplot layout so they don't overlap\n"
   ]
  },
  {
   "cell_type": "markdown",
   "metadata": {},
   "source": [
    "### 9.5 Resampling a timeseries \n",
    "In time series analysis you'll often be faced with data sampled at different scales (hourly, daily, weekly, etc.). Resampling is a method of __upscaling__ or __downscaling__ timeseries data.\n",
    "* __upscaling__ - Make more datapoints by moving to a finer-scale sample (days -> hours). New data can be imputed or left as NaNs.\n",
    "* __downscaling__ - Reduce datapoints by moving to a coaser-scale sample (hours -> days). Requires an aggregation metric like mean or sum.\n",
    "  \n",
    "Methods we'll use:\n",
    "* `resample()` - [Documentation](https://pandas.pydata.org/docs/reference/api/pandas.DataFrame.resample.html#pandas.DataFrame.resample)\n",
    "    * Must supply a valid [*Date Offset*](https://pandas.pydata.org/pandas-docs/stable/user_guide/timeseries.html#dateoffset-objects) as an argument"
   ]
  },
  {
   "cell_type": "code",
   "execution_count": null,
   "metadata": {},
   "outputs": [],
   "source": [
    "df_pm.head()"
   ]
  },
  {
   "cell_type": "code",
   "execution_count": null,
   "metadata": {},
   "outputs": [],
   "source": [
    "# Downscale from daily to monthly means using Month Start (MS) \n",
    "df_pm.resample('MS').mean()"
   ]
  },
  {
   "cell_type": "code",
   "execution_count": null,
   "metadata": {},
   "outputs": [],
   "source": [
    "# Downscale from daily to 7-day \n",
    "df_pm.resample('7D').max().head()"
   ]
  },
  {
   "cell_type": "code",
   "execution_count": null,
   "metadata": {},
   "outputs": [],
   "source": [
    "# Upscale from daily to 12-hour, no fill \n",
    "df_pm.resample('12h').asfreq().head(6)"
   ]
  },
  {
   "cell_type": "code",
   "execution_count": null,
   "metadata": {},
   "outputs": [],
   "source": [
    "# Upscale from daily to 12-hour, with forward-fill\n",
    "df_pm.resample('12h').asfreq().ffill().head()"
   ]
  },
  {
   "cell_type": "code",
   "execution_count": null,
   "metadata": {},
   "outputs": [],
   "source": []
  }
 ],
 "metadata": {
  "kernelspec": {
   "display_name": "R",
   "language": "R",
   "name": "ir"
  },
  "language_info": {
   "codemirror_mode": "r",
   "file_extension": ".r",
   "mimetype": "text/x-r-source",
   "name": "R",
   "pygments_lexer": "r",
   "version": "4.2.3"
  }
 },
 "nbformat": 4,
 "nbformat_minor": 4
}
