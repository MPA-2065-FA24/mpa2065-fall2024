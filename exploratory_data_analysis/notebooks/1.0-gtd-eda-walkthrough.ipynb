{
 "cells": [
  {
   "cell_type": "markdown",
   "metadata": {},
   "source": [
    "# Exploratory Data Analysis: Walkthrough\n",
    "Today we will be demonstrating the following key exploratory data analysis techniques using an example dataset:\n",
    "\n",
    "**Agenda:**\n",
    "1. Importing libraries & packages\n",
    "2. Importing tabular data to a DataFrame\n",
    "3. Inspecting DataFrame structure\n",
    "4. Concatenation\n",
    "5. Renaming Columns\n",
    "6. Exploring values\n",
    "7. Exporting DataFrames\n",
    "8. Merging\n",
    "9. Plotting\n",
    "\n",
    "\n",
    "\n",
    "## The Data\n",
    "Our example dataset is daily summaries of air quality data from Providence, RI. It will give you some experience with working with temporal data.\n",
    "\n",
    "The Rhode Island Department of Environmental Management (RIDEM) and Rhode Island Department of Health (RIDOH) collects air quality data at several sites across Rhode Island. We will be examining data from one site at the Community of Rhode Island (CCRI) Liston Campus. Here's some background:\n",
    "\n",
    "* The CCRI site is part of the EPA's *State or Local Air Monitoring Stations* (SLAMS) and *National Air Toxics Trends Sites* (NATTS) networks.\n",
    "* A variety of air pollutants (particulate matter (PM), volatile organic carbon (VOCs),  polycyclic aromatic hydrocarbons (PAHs), carbonyls, black carbon) have been monitored at this site since 2005.\n",
    "* A reference for some of the dataset's [field descriptions](https://aqs.epa.gov/aqsweb/airdata/FileFormats.html#_daily_summary_files).\n",
    "* The data was obtained from the Environmental Protection Agency (EPA) [Air Quality Data website](https://www.epa.gov/outdoor-air-quality-data).\n",
    "\n",
    "<table><tr>\n",
    "<td> <img src=\"images/aq-site-info.png\" alt=\"Drawing\" style=\"width: 400px;\"/> </td>\n",
    "<td> <img src=\"images/aq-site-table.png\" alt=\"Drawing\" style=\"width: 450px;\"/> </td>\n",
    "</tr></table>\n",
    "\n",
    "![](./images/aq-site-gearth-dist.png)\n",
    "\n",
    "We will use a subset of this data in the demonstrations below and give you a chance to work with a larger dataset during the hands-on lab.\n",
    "\n",
    "*Links*\n",
    "\n",
    "* [EPA Air Quality Data Interactive Map](https://www.epa.gov/outdoor-air-quality-data/interactive-map-air-quality-monitors) - Data source\n",
    "* [RIDEM 2022 Annual Monitoring Report](https://dem.ri.gov/sites/g/files/xkgbur861/files/2023-01/airnet22.pdf) - More information about the site and other monitoring locations across the state.\n",
    "* [National Air Toxics Tends Sites Quality Assurance Project Plan](https://www3.epa.gov/ttnamti1/files/ambient/airtox/NATTS-UATMP-PAMS-SNOC-Analytical-Support-QAPP-2019.pdf) - Detailed measurement guidelines for the toxins in this dataset\n",
    "* [National Ambient Air Quality Standards](https://www.epa.gov/criteria-air-pollutants/naaqs-table)\n",
    "\n",
    "---"
   ]
  },
  {
   "cell_type": "code",
   "execution_count": null,
   "metadata": {},
   "outputs": [],
   "source": []
  },
  {
   "cell_type": "markdown",
   "metadata": {},
   "source": [
    "## 1. Importing libraries & packages\n",
    "Importing packages typically appears at the top of the file.\n",
    "* `install.packages(\"<package_name>\")` installs the package. Only needed once. We've set up the JupyterHub to include packages in our environment. So you'll likely only need the following to load your package.\n",
    "* `library(<package_name>)` loads the package into your R session"
   ]
  },
  {
   "cell_type": "code",
   "execution_count": 2,
   "metadata": {},
   "outputs": [
    {
     "name": "stderr",
     "output_type": "stream",
     "text": [
      "\n",
      "Attaching package: ‘dplyr’\n",
      "\n",
      "\n",
      "The following objects are masked from ‘package:stats’:\n",
      "\n",
      "    filter, lag\n",
      "\n",
      "\n",
      "The following objects are masked from ‘package:base’:\n",
      "\n",
      "    intersect, setdiff, setequal, union\n",
      "\n",
      "\n"
     ]
    }
   ],
   "source": [
    "library(dplyr)\n",
    "library(tidyr)"
   ]
  },
  {
   "cell_type": "markdown",
   "metadata": {},
   "source": [
    "## 2. Importing tabular data to a DataFrame\n",
    "The pandas package reads tabular data into a data structure called a `DataFrame`. \n",
    "\n",
    "### Structure of a DataFrame\n",
    "![series](./images/pandas_df.png)\n",
    "Source: Edited from [geeksforgeeks.org](https://www.geeksforgeeks.org/python-pandas-dataframe/)\n",
    "\n",
    "![series](./images/df_axes.jpeg)\n",
    "\n",
    "Source: [stackoverflow](https://stackoverflow.com/questions/25773245/ambiguity-in-pandas-dataframe-numpy-array-axis-definition)"
   ]
  },
  {
   "cell_type": "markdown",
   "metadata": {},
   "source": [
    "\n",
    "### You can read data from many types of formats:\n",
    "* [`read.csv(\"path/to/your/file.csv\")`](https://www.rdocumentation.org/packages/utils/versions/3.6.2/topics/read.table) - Comma-delimited or other delimited files\n",
    "* Other common formats include Excel files, Text files, JSON files, SQL databases, and XML files. You'll need different packages and functions to import those formats.\n",
    "\n",
    "We will be working with the `read.csv()` because our data is comma-delimited. This function defaults to read comma-delimited files, but can be used on any delimited text file when the seperator is specified.\n",
    "\n",
    "A. To start we need specify the path to our data directory:\n",
    "```\n",
    "project\n",
    "├── data\n",
    "│   └── raw\n",
    "│       └── monthly   <- Data is here\n",
    "│\n",
    "└── notebooks         <- Our working directory is here\n",
    "```\n",
    "We will be using package `os` and `Path` from `pathlib` to create out directory path because it standardizes pathing between operating systems. Path separators are different between Unix (Mac & Linux; using `/`) and Windows (using `\\`) operating systems. Avoiding full string paths makes the code universal."
   ]
  },
  {
   "cell_type": "code",
   "execution_count": 3,
   "metadata": {},
   "outputs": [
    {
     "name": "stdout",
     "output_type": "stream",
     "text": [
      "[1] \"This is the monthly data directory:  ../data/raw/monthly\"\n"
     ]
    }
   ],
   "source": [
    "# Create a path to the data directory. The `..` means go up one level from the current working directory\n",
    "data_path <- file.path(\"..\", \"data\")\n",
    "\n",
    "## We extend the path to the monthly data directory\n",
    "path_to_monthly_data = file.path(data_path, 'raw', 'monthly')\n",
    "\n",
    "print(paste('This is the monthly data directory: ', path_to_monthly_data))"
   ]
  },
  {
   "cell_type": "markdown",
   "metadata": {},
   "source": [
    "Using the path generated above, we will read the first month of data (January 2022)."
   ]
  },
  {
   "cell_type": "code",
   "execution_count": 4,
   "metadata": {},
   "outputs": [],
   "source": [
    "# Read and save the DataFrame object to a variable 'df_2022_01'\n",
    "df_2022_01 <- read.csv(file.path(path_to_monthly_data, 'daily_44_007_0022_2022_01.csv'))"
   ]
  },
  {
   "cell_type": "markdown",
   "metadata": {},
   "source": [
    "## 3. Inspecting DataFrame Structure\n",
    "Now that we have imported the data to a DataFrame. Some questions we are curious about:\n",
    "1. Did it import correctly?\n",
    "2. What does the table look like? Number of rows? Columns?\n",
    "3. Do we need all the data we are importing?\n",
    "4. Is the data in the correct format?\n",
    "\n",
    "We can inspect the DataFrame object by looking at its **attributes** and using DataFrame **methods**.\n",
    "\n",
    "Here are useful **attributes** of the dataframe\n",
    "* `names`:  The names of the columns in the data frame\n",
    "* `row.names`:  The names of the rows in the data frame\n",
    "* `class`:  The class of the object, which is typically `data.frame` for data frames\n",
    "* `dim`: The dimensions of the dataframe\n",
    "\n",
    "Here are a few useful **methods** to inspect a dataframe:\n",
    "* `str()`: Shows a listing of the variables and thier variable types\n",
    "* `attributes()`: Shows a listing of attributes such as name, row.name, class, and dim\n",
    "* `nrow()`: Shows the length of the data frame\n",
    "* `ncol()`: Shows the number of columns in the data frame\n",
    "* `head()`: Shows the first 6 rows of the data by default, but you can specify a different number of rows\n",
    "* `tail()`: Shows the last 6 rows of the data by default, bur you can specify a different number of rows\n"
   ]
  },
  {
   "cell_type": "code",
   "execution_count": 5,
   "metadata": {},
   "outputs": [
    {
     "data": {
      "text/html": [
       "<table class=\"dataframe\">\n",
       "<caption>A data.frame: 6 × 34</caption>\n",
       "<thead>\n",
       "\t<tr><th></th><th scope=col>State.Code</th><th scope=col>County.Code</th><th scope=col>Site.Number</th><th scope=col>Parameter.Code</th><th scope=col>POC</th><th scope=col>Latitude</th><th scope=col>Longitude</th><th scope=col>Datum</th><th scope=col>Parameter.Name</th><th scope=col>Duration.Description</th><th scope=col>⋯</th><th scope=col>AQI</th><th scope=col>Daily.Criteria.Indicator</th><th scope=col>Tribe.Name</th><th scope=col>State.Name</th><th scope=col>County.Name</th><th scope=col>City.Name</th><th scope=col>Local.Site.Name</th><th scope=col>Address</th><th scope=col>MSA.or.CBSA.Name</th><th scope=col>Data.Source</th></tr>\n",
       "\t<tr><th></th><th scope=col>&lt;int&gt;</th><th scope=col>&lt;int&gt;</th><th scope=col>&lt;int&gt;</th><th scope=col>&lt;int&gt;</th><th scope=col>&lt;int&gt;</th><th scope=col>&lt;dbl&gt;</th><th scope=col>&lt;dbl&gt;</th><th scope=col>&lt;chr&gt;</th><th scope=col>&lt;chr&gt;</th><th scope=col>&lt;chr&gt;</th><th scope=col>⋯</th><th scope=col>&lt;chr&gt;</th><th scope=col>&lt;chr&gt;</th><th scope=col>&lt;lgl&gt;</th><th scope=col>&lt;chr&gt;</th><th scope=col>&lt;chr&gt;</th><th scope=col>&lt;chr&gt;</th><th scope=col>&lt;chr&gt;</th><th scope=col>&lt;chr&gt;</th><th scope=col>&lt;chr&gt;</th><th scope=col>&lt;chr&gt;</th></tr>\n",
       "</thead>\n",
       "<tbody>\n",
       "\t<tr><th scope=row>1</th><td>44</td><td>7</td><td>22</td><td>87101</td><td>1</td><td>41.80747</td><td>-71.41297</td><td>NAD83</td><td>Particle Number, Total Count</td><td>1 HOUR       </td><td>⋯</td><td>. </td><td>Y</td><td>NA</td><td>Rhode Island</td><td>Providence</td><td>Providence</td><td>CCRI Liston Campus ROOFTOP</td><td>1 Hilton St, PROVIDENCE RI</td><td>Providence-Warwick, RI-MA</td><td>AQS Data Mart</td></tr>\n",
       "\t<tr><th scope=row>2</th><td>44</td><td>7</td><td>22</td><td>61107</td><td>1</td><td>41.80747</td><td>-71.41297</td><td>NAD83</td><td>Std Dev Vt Wind Direction   </td><td>1 HOUR       </td><td>⋯</td><td>. </td><td>Y</td><td>NA</td><td>Rhode Island</td><td>Providence</td><td>Providence</td><td>CCRI Liston Campus ROOFTOP</td><td>1 Hilton St, PROVIDENCE RI</td><td>Providence-Warwick, RI-MA</td><td>AQS Data Mart</td></tr>\n",
       "\t<tr><th scope=row>3</th><td>44</td><td>7</td><td>22</td><td>62101</td><td>1</td><td>41.80747</td><td>-71.41297</td><td>NAD83</td><td>Outdoor Temperature         </td><td>1 HOUR       </td><td>⋯</td><td>. </td><td>Y</td><td>NA</td><td>Rhode Island</td><td>Providence</td><td>Providence</td><td>CCRI Liston Campus ROOFTOP</td><td>1 Hilton St, PROVIDENCE RI</td><td>Providence-Warwick, RI-MA</td><td>AQS Data Mart</td></tr>\n",
       "\t<tr><th scope=row>4</th><td>44</td><td>7</td><td>22</td><td>61104</td><td>1</td><td>41.80747</td><td>-71.41297</td><td>NAD83</td><td>Wind Direction - Resultant  </td><td>1 HOUR       </td><td>⋯</td><td>. </td><td>Y</td><td>NA</td><td>Rhode Island</td><td>Providence</td><td>Providence</td><td>CCRI Liston Campus ROOFTOP</td><td>1 Hilton St, PROVIDENCE RI</td><td>Providence-Warwick, RI-MA</td><td>AQS Data Mart</td></tr>\n",
       "\t<tr><th scope=row>5</th><td>44</td><td>7</td><td>22</td><td>84313</td><td>1</td><td>41.80747</td><td>-71.41297</td><td>NAD83</td><td>Black carbon PM2.5 STP      </td><td>1 HOUR       </td><td>⋯</td><td>. </td><td>Y</td><td>NA</td><td>Rhode Island</td><td>Providence</td><td>Providence</td><td>CCRI Liston Campus ROOFTOP</td><td>1 Hilton St, PROVIDENCE RI</td><td>Providence-Warwick, RI-MA</td><td>AQS Data Mart</td></tr>\n",
       "\t<tr><th scope=row>6</th><td>44</td><td>7</td><td>22</td><td>88101</td><td>3</td><td>41.80747</td><td>-71.41297</td><td>NAD83</td><td>PM2.5 - Local Conditions    </td><td>24-HR BLK AVG</td><td>⋯</td><td>30</td><td>Y</td><td>NA</td><td>Rhode Island</td><td>Providence</td><td>Providence</td><td>CCRI Liston Campus ROOFTOP</td><td>1 Hilton St, PROVIDENCE RI</td><td>Providence-Warwick, RI-MA</td><td>AQS Data Mart</td></tr>\n",
       "</tbody>\n",
       "</table>\n"
      ],
      "text/latex": [
       "A data.frame: 6 × 34\n",
       "\\begin{tabular}{r|lllllllllllllllllllll}\n",
       "  & State.Code & County.Code & Site.Number & Parameter.Code & POC & Latitude & Longitude & Datum & Parameter.Name & Duration.Description & ⋯ & AQI & Daily.Criteria.Indicator & Tribe.Name & State.Name & County.Name & City.Name & Local.Site.Name & Address & MSA.or.CBSA.Name & Data.Source\\\\\n",
       "  & <int> & <int> & <int> & <int> & <int> & <dbl> & <dbl> & <chr> & <chr> & <chr> & ⋯ & <chr> & <chr> & <lgl> & <chr> & <chr> & <chr> & <chr> & <chr> & <chr> & <chr>\\\\\n",
       "\\hline\n",
       "\t1 & 44 & 7 & 22 & 87101 & 1 & 41.80747 & -71.41297 & NAD83 & Particle Number, Total Count & 1 HOUR        & ⋯ & .  & Y & NA & Rhode Island & Providence & Providence & CCRI Liston Campus ROOFTOP & 1 Hilton St, PROVIDENCE RI & Providence-Warwick, RI-MA & AQS Data Mart\\\\\n",
       "\t2 & 44 & 7 & 22 & 61107 & 1 & 41.80747 & -71.41297 & NAD83 & Std Dev Vt Wind Direction    & 1 HOUR        & ⋯ & .  & Y & NA & Rhode Island & Providence & Providence & CCRI Liston Campus ROOFTOP & 1 Hilton St, PROVIDENCE RI & Providence-Warwick, RI-MA & AQS Data Mart\\\\\n",
       "\t3 & 44 & 7 & 22 & 62101 & 1 & 41.80747 & -71.41297 & NAD83 & Outdoor Temperature          & 1 HOUR        & ⋯ & .  & Y & NA & Rhode Island & Providence & Providence & CCRI Liston Campus ROOFTOP & 1 Hilton St, PROVIDENCE RI & Providence-Warwick, RI-MA & AQS Data Mart\\\\\n",
       "\t4 & 44 & 7 & 22 & 61104 & 1 & 41.80747 & -71.41297 & NAD83 & Wind Direction - Resultant   & 1 HOUR        & ⋯ & .  & Y & NA & Rhode Island & Providence & Providence & CCRI Liston Campus ROOFTOP & 1 Hilton St, PROVIDENCE RI & Providence-Warwick, RI-MA & AQS Data Mart\\\\\n",
       "\t5 & 44 & 7 & 22 & 84313 & 1 & 41.80747 & -71.41297 & NAD83 & Black carbon PM2.5 STP       & 1 HOUR        & ⋯ & .  & Y & NA & Rhode Island & Providence & Providence & CCRI Liston Campus ROOFTOP & 1 Hilton St, PROVIDENCE RI & Providence-Warwick, RI-MA & AQS Data Mart\\\\\n",
       "\t6 & 44 & 7 & 22 & 88101 & 3 & 41.80747 & -71.41297 & NAD83 & PM2.5 - Local Conditions     & 24-HR BLK AVG & ⋯ & 30 & Y & NA & Rhode Island & Providence & Providence & CCRI Liston Campus ROOFTOP & 1 Hilton St, PROVIDENCE RI & Providence-Warwick, RI-MA & AQS Data Mart\\\\\n",
       "\\end{tabular}\n"
      ],
      "text/markdown": [
       "\n",
       "A data.frame: 6 × 34\n",
       "\n",
       "| <!--/--> | State.Code &lt;int&gt; | County.Code &lt;int&gt; | Site.Number &lt;int&gt; | Parameter.Code &lt;int&gt; | POC &lt;int&gt; | Latitude &lt;dbl&gt; | Longitude &lt;dbl&gt; | Datum &lt;chr&gt; | Parameter.Name &lt;chr&gt; | Duration.Description &lt;chr&gt; | ⋯ ⋯ | AQI &lt;chr&gt; | Daily.Criteria.Indicator &lt;chr&gt; | Tribe.Name &lt;lgl&gt; | State.Name &lt;chr&gt; | County.Name &lt;chr&gt; | City.Name &lt;chr&gt; | Local.Site.Name &lt;chr&gt; | Address &lt;chr&gt; | MSA.or.CBSA.Name &lt;chr&gt; | Data.Source &lt;chr&gt; |\n",
       "|---|---|---|---|---|---|---|---|---|---|---|---|---|---|---|---|---|---|---|---|---|---|\n",
       "| 1 | 44 | 7 | 22 | 87101 | 1 | 41.80747 | -71.41297 | NAD83 | Particle Number, Total Count | 1 HOUR        | ⋯ | .  | Y | NA | Rhode Island | Providence | Providence | CCRI Liston Campus ROOFTOP | 1 Hilton St, PROVIDENCE RI | Providence-Warwick, RI-MA | AQS Data Mart |\n",
       "| 2 | 44 | 7 | 22 | 61107 | 1 | 41.80747 | -71.41297 | NAD83 | Std Dev Vt Wind Direction    | 1 HOUR        | ⋯ | .  | Y | NA | Rhode Island | Providence | Providence | CCRI Liston Campus ROOFTOP | 1 Hilton St, PROVIDENCE RI | Providence-Warwick, RI-MA | AQS Data Mart |\n",
       "| 3 | 44 | 7 | 22 | 62101 | 1 | 41.80747 | -71.41297 | NAD83 | Outdoor Temperature          | 1 HOUR        | ⋯ | .  | Y | NA | Rhode Island | Providence | Providence | CCRI Liston Campus ROOFTOP | 1 Hilton St, PROVIDENCE RI | Providence-Warwick, RI-MA | AQS Data Mart |\n",
       "| 4 | 44 | 7 | 22 | 61104 | 1 | 41.80747 | -71.41297 | NAD83 | Wind Direction - Resultant   | 1 HOUR        | ⋯ | .  | Y | NA | Rhode Island | Providence | Providence | CCRI Liston Campus ROOFTOP | 1 Hilton St, PROVIDENCE RI | Providence-Warwick, RI-MA | AQS Data Mart |\n",
       "| 5 | 44 | 7 | 22 | 84313 | 1 | 41.80747 | -71.41297 | NAD83 | Black carbon PM2.5 STP       | 1 HOUR        | ⋯ | .  | Y | NA | Rhode Island | Providence | Providence | CCRI Liston Campus ROOFTOP | 1 Hilton St, PROVIDENCE RI | Providence-Warwick, RI-MA | AQS Data Mart |\n",
       "| 6 | 44 | 7 | 22 | 88101 | 3 | 41.80747 | -71.41297 | NAD83 | PM2.5 - Local Conditions     | 24-HR BLK AVG | ⋯ | 30 | Y | NA | Rhode Island | Providence | Providence | CCRI Liston Campus ROOFTOP | 1 Hilton St, PROVIDENCE RI | Providence-Warwick, RI-MA | AQS Data Mart |\n",
       "\n"
      ],
      "text/plain": [
       "  State.Code County.Code Site.Number Parameter.Code POC Latitude Longitude\n",
       "1 44         7           22          87101          1   41.80747 -71.41297\n",
       "2 44         7           22          61107          1   41.80747 -71.41297\n",
       "3 44         7           22          62101          1   41.80747 -71.41297\n",
       "4 44         7           22          61104          1   41.80747 -71.41297\n",
       "5 44         7           22          84313          1   41.80747 -71.41297\n",
       "6 44         7           22          88101          3   41.80747 -71.41297\n",
       "  Datum Parameter.Name               Duration.Description ⋯ AQI\n",
       "1 NAD83 Particle Number, Total Count 1 HOUR               ⋯ .  \n",
       "2 NAD83 Std Dev Vt Wind Direction    1 HOUR               ⋯ .  \n",
       "3 NAD83 Outdoor Temperature          1 HOUR               ⋯ .  \n",
       "4 NAD83 Wind Direction - Resultant   1 HOUR               ⋯ .  \n",
       "5 NAD83 Black carbon PM2.5 STP       1 HOUR               ⋯ .  \n",
       "6 NAD83 PM2.5 - Local Conditions     24-HR BLK AVG        ⋯ 30 \n",
       "  Daily.Criteria.Indicator Tribe.Name State.Name   County.Name City.Name \n",
       "1 Y                        NA         Rhode Island Providence  Providence\n",
       "2 Y                        NA         Rhode Island Providence  Providence\n",
       "3 Y                        NA         Rhode Island Providence  Providence\n",
       "4 Y                        NA         Rhode Island Providence  Providence\n",
       "5 Y                        NA         Rhode Island Providence  Providence\n",
       "6 Y                        NA         Rhode Island Providence  Providence\n",
       "  Local.Site.Name            Address                   \n",
       "1 CCRI Liston Campus ROOFTOP 1 Hilton St, PROVIDENCE RI\n",
       "2 CCRI Liston Campus ROOFTOP 1 Hilton St, PROVIDENCE RI\n",
       "3 CCRI Liston Campus ROOFTOP 1 Hilton St, PROVIDENCE RI\n",
       "4 CCRI Liston Campus ROOFTOP 1 Hilton St, PROVIDENCE RI\n",
       "5 CCRI Liston Campus ROOFTOP 1 Hilton St, PROVIDENCE RI\n",
       "6 CCRI Liston Campus ROOFTOP 1 Hilton St, PROVIDENCE RI\n",
       "  MSA.or.CBSA.Name          Data.Source  \n",
       "1 Providence-Warwick, RI-MA AQS Data Mart\n",
       "2 Providence-Warwick, RI-MA AQS Data Mart\n",
       "3 Providence-Warwick, RI-MA AQS Data Mart\n",
       "4 Providence-Warwick, RI-MA AQS Data Mart\n",
       "5 Providence-Warwick, RI-MA AQS Data Mart\n",
       "6 Providence-Warwick, RI-MA AQS Data Mart"
      ]
     },
     "metadata": {},
     "output_type": "display_data"
    }
   ],
   "source": [
    "# Let's take a look at the head of the data frame!\n",
    "head(df_2022_01)"
   ]
  },
  {
   "cell_type": "code",
   "execution_count": 6,
   "metadata": {},
   "outputs": [
    {
     "name": "stdout",
     "output_type": "stream",
     "text": [
      "'data.frame':\t743 obs. of  34 variables:\n",
      " $ State.Code                : int  44 44 44 44 44 44 44 44 44 44 ...\n",
      " $ County.Code               : int  7 7 7 7 7 7 7 7 7 7 ...\n",
      " $ Site.Number               : int  22 22 22 22 22 22 22 22 22 22 ...\n",
      " $ Parameter.Code            : int  87101 61107 62101 61104 84313 88101 88101 88101 62201 84313 ...\n",
      " $ POC                       : int  1 1 1 1 1 3 3 3 1 1 ...\n",
      " $ Latitude                  : num  41.8 41.8 41.8 41.8 41.8 ...\n",
      " $ Longitude                 : num  -71.4 -71.4 -71.4 -71.4 -71.4 ...\n",
      " $ Datum                     : chr  \"NAD83\" \"NAD83\" \"NAD83\" \"NAD83\" ...\n",
      " $ Parameter.Name            : chr  \"Particle Number, Total Count\" \"Std Dev Vt Wind Direction\" \"Outdoor Temperature\" \"Wind Direction - Resultant\" ...\n",
      " $ Duration.Description      : chr  \"1 HOUR\" \"1 HOUR\" \"1 HOUR\" \"1 HOUR\" ...\n",
      " $ Pollutant.Standard        : chr  \"\" \"\" \"\" \"\" ...\n",
      " $ Date..Local.              : chr  \"2022-01-01\" \"2022-01-01\" \"2022-01-01\" \"2022-01-01\" ...\n",
      " $ Year                      : int  2022 2022 2022 2022 2022 2022 2022 2022 2022 2022 ...\n",
      " $ Day.In.Year..Local.       : int  1 1 1 1 1 1 1 1 1 2 ...\n",
      " $ Units.of.Measure          : chr  \"Count per cm^3\" \"Degrees Compass\" \"Degrees Fahrenheit\" \"Degrees Compass\" ...\n",
      " $ Exceptional.Data.Type     : logi  NA NA NA NA NA NA ...\n",
      " $ Nonreg.Observation.Count  : logi  NA NA NA NA NA NA ...\n",
      " $ Observation.Count         : int  24 24 24 24 24 1 1 24 24 24 ...\n",
      " $ Observation.Percent       : num  100 100 100 100 100 100 100 100 100 100 ...\n",
      " $ Nonreg.Arithmetic.Mean    : logi  NA NA NA NA NA NA ...\n",
      " $ Arithmetic.Mean           : num  7062.208 17.167 48.958 140.792 0.458 ...\n",
      " $ Nonreg.First.Maximum.Value: logi  NA NA NA NA NA NA ...\n",
      " $ First.Maximum.Value       : num  14300 25 54 195 1.25 7.1 7.1 38 100 0.56 ...\n",
      " $ First.Maximum.Hour        : int  17 7 15 15 1 0 0 0 0 13 ...\n",
      " $ AQI                       : chr  \".\" \".\" \".\" \".\" ...\n",
      " $ Daily.Criteria.Indicator  : chr  \"Y\" \"Y\" \"Y\" \"Y\" ...\n",
      " $ Tribe.Name                : logi  NA NA NA NA NA NA ...\n",
      " $ State.Name                : chr  \"Rhode Island\" \"Rhode Island\" \"Rhode Island\" \"Rhode Island\" ...\n",
      " $ County.Name               : chr  \"Providence\" \"Providence\" \"Providence\" \"Providence\" ...\n",
      " $ City.Name                 : chr  \"Providence\" \"Providence\" \"Providence\" \"Providence\" ...\n",
      " $ Local.Site.Name           : chr  \"CCRI Liston Campus ROOFTOP\" \"CCRI Liston Campus ROOFTOP\" \"CCRI Liston Campus ROOFTOP\" \"CCRI Liston Campus ROOFTOP\" ...\n",
      " $ Address                   : chr  \"1 Hilton St, PROVIDENCE RI\" \"1 Hilton St, PROVIDENCE RI\" \"1 Hilton St, PROVIDENCE RI\" \"1 Hilton St, PROVIDENCE RI\" ...\n",
      " $ MSA.or.CBSA.Name          : chr  \"Providence-Warwick, RI-MA\" \"Providence-Warwick, RI-MA\" \"Providence-Warwick, RI-MA\" \"Providence-Warwick, RI-MA\" ...\n",
      " $ Data.Source               : chr  \"AQS Data Mart\" \"AQS Data Mart\" \"AQS Data Mart\" \"AQS Data Mart\" ...\n"
     ]
    }
   ],
   "source": [
    "# Let's take a look at the variables and thier variable types\n",
    "str(df_2022_01)"
   ]
  },
  {
   "cell_type": "markdown",
   "metadata": {},
   "source": [
    "<div class=\"alert alert-block alert-info\">\n",
    "Some observations:\n",
    "\n",
    "This is a *long format* dataframe. Each row is composed of a date-parameter pair. See below, there are multiple parameters associated with the same date.\n",
    "\n",
    "A *wide format* dataframe would have each row as a single date and measurements for each parameter would be in individual columns.\n",
    "</div>\n",
    "\n"
   ]
  },
  {
   "cell_type": "code",
   "execution_count": 7,
   "metadata": {},
   "outputs": [
    {
     "data": {
      "text/html": [
       "<table class=\"dataframe\">\n",
       "<caption>A data.frame: 6 × 3</caption>\n",
       "<thead>\n",
       "\t<tr><th></th><th scope=col>Parameter.Name</th><th scope=col>Date..Local.</th><th scope=col>Observation.Count</th></tr>\n",
       "\t<tr><th></th><th scope=col>&lt;chr&gt;</th><th scope=col>&lt;chr&gt;</th><th scope=col>&lt;int&gt;</th></tr>\n",
       "</thead>\n",
       "<tbody>\n",
       "\t<tr><th scope=row>1</th><td>Particle Number, Total Count</td><td>2022-01-01</td><td>24</td></tr>\n",
       "\t<tr><th scope=row>2</th><td>Std Dev Vt Wind Direction   </td><td>2022-01-01</td><td>24</td></tr>\n",
       "\t<tr><th scope=row>3</th><td>Outdoor Temperature         </td><td>2022-01-01</td><td>24</td></tr>\n",
       "\t<tr><th scope=row>4</th><td>Wind Direction - Resultant  </td><td>2022-01-01</td><td>24</td></tr>\n",
       "\t<tr><th scope=row>5</th><td>Black carbon PM2.5 STP      </td><td>2022-01-01</td><td>24</td></tr>\n",
       "\t<tr><th scope=row>6</th><td>PM2.5 - Local Conditions    </td><td>2022-01-01</td><td> 1</td></tr>\n",
       "</tbody>\n",
       "</table>\n"
      ],
      "text/latex": [
       "A data.frame: 6 × 3\n",
       "\\begin{tabular}{r|lll}\n",
       "  & Parameter.Name & Date..Local. & Observation.Count\\\\\n",
       "  & <chr> & <chr> & <int>\\\\\n",
       "\\hline\n",
       "\t1 & Particle Number, Total Count & 2022-01-01 & 24\\\\\n",
       "\t2 & Std Dev Vt Wind Direction    & 2022-01-01 & 24\\\\\n",
       "\t3 & Outdoor Temperature          & 2022-01-01 & 24\\\\\n",
       "\t4 & Wind Direction - Resultant   & 2022-01-01 & 24\\\\\n",
       "\t5 & Black carbon PM2.5 STP       & 2022-01-01 & 24\\\\\n",
       "\t6 & PM2.5 - Local Conditions     & 2022-01-01 &  1\\\\\n",
       "\\end{tabular}\n"
      ],
      "text/markdown": [
       "\n",
       "A data.frame: 6 × 3\n",
       "\n",
       "| <!--/--> | Parameter.Name &lt;chr&gt; | Date..Local. &lt;chr&gt; | Observation.Count &lt;int&gt; |\n",
       "|---|---|---|---|\n",
       "| 1 | Particle Number, Total Count | 2022-01-01 | 24 |\n",
       "| 2 | Std Dev Vt Wind Direction    | 2022-01-01 | 24 |\n",
       "| 3 | Outdoor Temperature          | 2022-01-01 | 24 |\n",
       "| 4 | Wind Direction - Resultant   | 2022-01-01 | 24 |\n",
       "| 5 | Black carbon PM2.5 STP       | 2022-01-01 | 24 |\n",
       "| 6 | PM2.5 - Local Conditions     | 2022-01-01 |  1 |\n",
       "\n"
      ],
      "text/plain": [
       "  Parameter.Name               Date..Local. Observation.Count\n",
       "1 Particle Number, Total Count 2022-01-01   24               \n",
       "2 Std Dev Vt Wind Direction    2022-01-01   24               \n",
       "3 Outdoor Temperature          2022-01-01   24               \n",
       "4 Wind Direction - Resultant   2022-01-01   24               \n",
       "5 Black carbon PM2.5 STP       2022-01-01   24               \n",
       "6 PM2.5 - Local Conditions     2022-01-01    1               "
      ]
     },
     "metadata": {},
     "output_type": "display_data"
    }
   ],
   "source": [
    "# Highlighting the long format by filtering the columns and getting the head of the data frame\n",
    "long_data <- df_2022_01 %>% \n",
    "select(Parameter.Name, Date..Local., Observation.Count) %>%\n",
    "head()\n",
    "\n",
    "long_data"
   ]
  },
  {
   "cell_type": "code",
   "execution_count": 8,
   "metadata": {},
   "outputs": [
    {
     "data": {
      "text/html": [
       "<table class=\"dataframe\">\n",
       "<caption>A tibble: 1 × 7</caption>\n",
       "<thead>\n",
       "\t<tr><th scope=col>Date..Local.</th><th scope=col>Particle Number, Total Count</th><th scope=col>Std Dev Vt Wind Direction</th><th scope=col>Outdoor Temperature</th><th scope=col>Wind Direction - Resultant</th><th scope=col>Black carbon PM2.5 STP</th><th scope=col>PM2.5 - Local Conditions</th></tr>\n",
       "\t<tr><th scope=col>&lt;chr&gt;</th><th scope=col>&lt;int&gt;</th><th scope=col>&lt;int&gt;</th><th scope=col>&lt;int&gt;</th><th scope=col>&lt;int&gt;</th><th scope=col>&lt;int&gt;</th><th scope=col>&lt;int&gt;</th></tr>\n",
       "</thead>\n",
       "<tbody>\n",
       "\t<tr><td>2022-01-01</td><td>24</td><td>24</td><td>24</td><td>24</td><td>24</td><td>1</td></tr>\n",
       "</tbody>\n",
       "</table>\n"
      ],
      "text/latex": [
       "A tibble: 1 × 7\n",
       "\\begin{tabular}{lllllll}\n",
       " Date..Local. & Particle Number, Total Count & Std Dev Vt Wind Direction & Outdoor Temperature & Wind Direction - Resultant & Black carbon PM2.5 STP & PM2.5 - Local Conditions\\\\\n",
       " <chr> & <int> & <int> & <int> & <int> & <int> & <int>\\\\\n",
       "\\hline\n",
       "\t 2022-01-01 & 24 & 24 & 24 & 24 & 24 & 1\\\\\n",
       "\\end{tabular}\n"
      ],
      "text/markdown": [
       "\n",
       "A tibble: 1 × 7\n",
       "\n",
       "| Date..Local. &lt;chr&gt; | Particle Number, Total Count &lt;int&gt; | Std Dev Vt Wind Direction &lt;int&gt; | Outdoor Temperature &lt;int&gt; | Wind Direction - Resultant &lt;int&gt; | Black carbon PM2.5 STP &lt;int&gt; | PM2.5 - Local Conditions &lt;int&gt; |\n",
       "|---|---|---|---|---|---|---|\n",
       "| 2022-01-01 | 24 | 24 | 24 | 24 | 24 | 1 |\n",
       "\n"
      ],
      "text/plain": [
       "  Date..Local. Particle Number, Total Count Std Dev Vt Wind Direction\n",
       "1 2022-01-01   24                           24                       \n",
       "  Outdoor Temperature Wind Direction - Resultant Black carbon PM2.5 STP\n",
       "1 24                  24                         24                    \n",
       "  PM2.5 - Local Conditions\n",
       "1 1                       "
      ]
     },
     "metadata": {},
     "output_type": "display_data"
    }
   ],
   "source": [
    "# This is what it would look like as wide data wherein each row is a single date and the measurement for each parameter is in individual columns\n",
    "pivot_wider(long_data, names_from = Parameter.Name, values_from = Observation.Count)"
   ]
  },
  {
   "cell_type": "code",
   "execution_count": 9,
   "metadata": {},
   "outputs": [
    {
     "data": {
      "text/html": [
       "<table class=\"dataframe\">\n",
       "<caption>A data.frame: 6 × 34</caption>\n",
       "<thead>\n",
       "\t<tr><th></th><th scope=col>State.Code</th><th scope=col>County.Code</th><th scope=col>Site.Number</th><th scope=col>Parameter.Code</th><th scope=col>POC</th><th scope=col>Latitude</th><th scope=col>Longitude</th><th scope=col>Datum</th><th scope=col>Parameter.Name</th><th scope=col>Duration.Description</th><th scope=col>⋯</th><th scope=col>AQI</th><th scope=col>Daily.Criteria.Indicator</th><th scope=col>Tribe.Name</th><th scope=col>State.Name</th><th scope=col>County.Name</th><th scope=col>City.Name</th><th scope=col>Local.Site.Name</th><th scope=col>Address</th><th scope=col>MSA.or.CBSA.Name</th><th scope=col>Data.Source</th></tr>\n",
       "\t<tr><th></th><th scope=col>&lt;int&gt;</th><th scope=col>&lt;int&gt;</th><th scope=col>&lt;int&gt;</th><th scope=col>&lt;int&gt;</th><th scope=col>&lt;int&gt;</th><th scope=col>&lt;dbl&gt;</th><th scope=col>&lt;dbl&gt;</th><th scope=col>&lt;chr&gt;</th><th scope=col>&lt;chr&gt;</th><th scope=col>&lt;chr&gt;</th><th scope=col>⋯</th><th scope=col>&lt;chr&gt;</th><th scope=col>&lt;chr&gt;</th><th scope=col>&lt;lgl&gt;</th><th scope=col>&lt;chr&gt;</th><th scope=col>&lt;chr&gt;</th><th scope=col>&lt;chr&gt;</th><th scope=col>&lt;chr&gt;</th><th scope=col>&lt;chr&gt;</th><th scope=col>&lt;chr&gt;</th><th scope=col>&lt;chr&gt;</th></tr>\n",
       "</thead>\n",
       "<tbody>\n",
       "\t<tr><th scope=row>738</th><td>44</td><td>7</td><td>22</td><td>88101</td><td>3</td><td>41.80747</td><td>-71.41297</td><td>NAD83</td><td>PM2.5 - Local Conditions  </td><td>24-HR BLK AVG</td><td>⋯</td><td>57</td><td>Y</td><td>NA</td><td>Rhode Island</td><td>Providence</td><td>Providence</td><td>CCRI Liston Campus ROOFTOP</td><td>1 Hilton St, PROVIDENCE RI</td><td>Providence-Warwick, RI-MA</td><td>AQS Data Mart</td></tr>\n",
       "\t<tr><th scope=row>739</th><td>44</td><td>7</td><td>22</td><td>62201</td><td>1</td><td>41.80747</td><td>-71.41297</td><td>NAD83</td><td>Relative Humidity         </td><td>1 HOUR       </td><td>⋯</td><td>. </td><td>Y</td><td>NA</td><td>Rhode Island</td><td>Providence</td><td>Providence</td><td>CCRI Liston Campus ROOFTOP</td><td>1 Hilton St, PROVIDENCE RI</td><td>Providence-Warwick, RI-MA</td><td>AQS Data Mart</td></tr>\n",
       "\t<tr><th scope=row>740</th><td>44</td><td>7</td><td>22</td><td>84313</td><td>1</td><td>41.80747</td><td>-71.41297</td><td>NAD83</td><td>Black carbon PM2.5 STP    </td><td>1 HOUR       </td><td>⋯</td><td>. </td><td>Y</td><td>NA</td><td>Rhode Island</td><td>Providence</td><td>Providence</td><td>CCRI Liston Campus ROOFTOP</td><td>1 Hilton St, PROVIDENCE RI</td><td>Providence-Warwick, RI-MA</td><td>AQS Data Mart</td></tr>\n",
       "\t<tr><th scope=row>741</th><td>44</td><td>7</td><td>22</td><td>61107</td><td>1</td><td>41.80747</td><td>-71.41297</td><td>NAD83</td><td>Std Dev Vt Wind Direction </td><td>1 HOUR       </td><td>⋯</td><td>. </td><td>Y</td><td>NA</td><td>Rhode Island</td><td>Providence</td><td>Providence</td><td>CCRI Liston Campus ROOFTOP</td><td>1 Hilton St, PROVIDENCE RI</td><td>Providence-Warwick, RI-MA</td><td>AQS Data Mart</td></tr>\n",
       "\t<tr><th scope=row>742</th><td>44</td><td>7</td><td>22</td><td>61103</td><td>1</td><td>41.80747</td><td>-71.41297</td><td>NAD83</td><td>Wind Speed - Resultant    </td><td>1 HOUR       </td><td>⋯</td><td>. </td><td>Y</td><td>NA</td><td>Rhode Island</td><td>Providence</td><td>Providence</td><td>CCRI Liston Campus ROOFTOP</td><td>1 Hilton St, PROVIDENCE RI</td><td>Providence-Warwick, RI-MA</td><td>AQS Data Mart</td></tr>\n",
       "\t<tr><th scope=row>743</th><td>44</td><td>7</td><td>22</td><td>61104</td><td>1</td><td>41.80747</td><td>-71.41297</td><td>NAD83</td><td>Wind Direction - Resultant</td><td>1 HOUR       </td><td>⋯</td><td>. </td><td>Y</td><td>NA</td><td>Rhode Island</td><td>Providence</td><td>Providence</td><td>CCRI Liston Campus ROOFTOP</td><td>1 Hilton St, PROVIDENCE RI</td><td>Providence-Warwick, RI-MA</td><td>AQS Data Mart</td></tr>\n",
       "</tbody>\n",
       "</table>\n"
      ],
      "text/latex": [
       "A data.frame: 6 × 34\n",
       "\\begin{tabular}{r|lllllllllllllllllllll}\n",
       "  & State.Code & County.Code & Site.Number & Parameter.Code & POC & Latitude & Longitude & Datum & Parameter.Name & Duration.Description & ⋯ & AQI & Daily.Criteria.Indicator & Tribe.Name & State.Name & County.Name & City.Name & Local.Site.Name & Address & MSA.or.CBSA.Name & Data.Source\\\\\n",
       "  & <int> & <int> & <int> & <int> & <int> & <dbl> & <dbl> & <chr> & <chr> & <chr> & ⋯ & <chr> & <chr> & <lgl> & <chr> & <chr> & <chr> & <chr> & <chr> & <chr> & <chr>\\\\\n",
       "\\hline\n",
       "\t738 & 44 & 7 & 22 & 88101 & 3 & 41.80747 & -71.41297 & NAD83 & PM2.5 - Local Conditions   & 24-HR BLK AVG & ⋯ & 57 & Y & NA & Rhode Island & Providence & Providence & CCRI Liston Campus ROOFTOP & 1 Hilton St, PROVIDENCE RI & Providence-Warwick, RI-MA & AQS Data Mart\\\\\n",
       "\t739 & 44 & 7 & 22 & 62201 & 1 & 41.80747 & -71.41297 & NAD83 & Relative Humidity          & 1 HOUR        & ⋯ & .  & Y & NA & Rhode Island & Providence & Providence & CCRI Liston Campus ROOFTOP & 1 Hilton St, PROVIDENCE RI & Providence-Warwick, RI-MA & AQS Data Mart\\\\\n",
       "\t740 & 44 & 7 & 22 & 84313 & 1 & 41.80747 & -71.41297 & NAD83 & Black carbon PM2.5 STP     & 1 HOUR        & ⋯ & .  & Y & NA & Rhode Island & Providence & Providence & CCRI Liston Campus ROOFTOP & 1 Hilton St, PROVIDENCE RI & Providence-Warwick, RI-MA & AQS Data Mart\\\\\n",
       "\t741 & 44 & 7 & 22 & 61107 & 1 & 41.80747 & -71.41297 & NAD83 & Std Dev Vt Wind Direction  & 1 HOUR        & ⋯ & .  & Y & NA & Rhode Island & Providence & Providence & CCRI Liston Campus ROOFTOP & 1 Hilton St, PROVIDENCE RI & Providence-Warwick, RI-MA & AQS Data Mart\\\\\n",
       "\t742 & 44 & 7 & 22 & 61103 & 1 & 41.80747 & -71.41297 & NAD83 & Wind Speed - Resultant     & 1 HOUR        & ⋯ & .  & Y & NA & Rhode Island & Providence & Providence & CCRI Liston Campus ROOFTOP & 1 Hilton St, PROVIDENCE RI & Providence-Warwick, RI-MA & AQS Data Mart\\\\\n",
       "\t743 & 44 & 7 & 22 & 61104 & 1 & 41.80747 & -71.41297 & NAD83 & Wind Direction - Resultant & 1 HOUR        & ⋯ & .  & Y & NA & Rhode Island & Providence & Providence & CCRI Liston Campus ROOFTOP & 1 Hilton St, PROVIDENCE RI & Providence-Warwick, RI-MA & AQS Data Mart\\\\\n",
       "\\end{tabular}\n"
      ],
      "text/markdown": [
       "\n",
       "A data.frame: 6 × 34\n",
       "\n",
       "| <!--/--> | State.Code &lt;int&gt; | County.Code &lt;int&gt; | Site.Number &lt;int&gt; | Parameter.Code &lt;int&gt; | POC &lt;int&gt; | Latitude &lt;dbl&gt; | Longitude &lt;dbl&gt; | Datum &lt;chr&gt; | Parameter.Name &lt;chr&gt; | Duration.Description &lt;chr&gt; | ⋯ ⋯ | AQI &lt;chr&gt; | Daily.Criteria.Indicator &lt;chr&gt; | Tribe.Name &lt;lgl&gt; | State.Name &lt;chr&gt; | County.Name &lt;chr&gt; | City.Name &lt;chr&gt; | Local.Site.Name &lt;chr&gt; | Address &lt;chr&gt; | MSA.or.CBSA.Name &lt;chr&gt; | Data.Source &lt;chr&gt; |\n",
       "|---|---|---|---|---|---|---|---|---|---|---|---|---|---|---|---|---|---|---|---|---|---|\n",
       "| 738 | 44 | 7 | 22 | 88101 | 3 | 41.80747 | -71.41297 | NAD83 | PM2.5 - Local Conditions   | 24-HR BLK AVG | ⋯ | 57 | Y | NA | Rhode Island | Providence | Providence | CCRI Liston Campus ROOFTOP | 1 Hilton St, PROVIDENCE RI | Providence-Warwick, RI-MA | AQS Data Mart |\n",
       "| 739 | 44 | 7 | 22 | 62201 | 1 | 41.80747 | -71.41297 | NAD83 | Relative Humidity          | 1 HOUR        | ⋯ | .  | Y | NA | Rhode Island | Providence | Providence | CCRI Liston Campus ROOFTOP | 1 Hilton St, PROVIDENCE RI | Providence-Warwick, RI-MA | AQS Data Mart |\n",
       "| 740 | 44 | 7 | 22 | 84313 | 1 | 41.80747 | -71.41297 | NAD83 | Black carbon PM2.5 STP     | 1 HOUR        | ⋯ | .  | Y | NA | Rhode Island | Providence | Providence | CCRI Liston Campus ROOFTOP | 1 Hilton St, PROVIDENCE RI | Providence-Warwick, RI-MA | AQS Data Mart |\n",
       "| 741 | 44 | 7 | 22 | 61107 | 1 | 41.80747 | -71.41297 | NAD83 | Std Dev Vt Wind Direction  | 1 HOUR        | ⋯ | .  | Y | NA | Rhode Island | Providence | Providence | CCRI Liston Campus ROOFTOP | 1 Hilton St, PROVIDENCE RI | Providence-Warwick, RI-MA | AQS Data Mart |\n",
       "| 742 | 44 | 7 | 22 | 61103 | 1 | 41.80747 | -71.41297 | NAD83 | Wind Speed - Resultant     | 1 HOUR        | ⋯ | .  | Y | NA | Rhode Island | Providence | Providence | CCRI Liston Campus ROOFTOP | 1 Hilton St, PROVIDENCE RI | Providence-Warwick, RI-MA | AQS Data Mart |\n",
       "| 743 | 44 | 7 | 22 | 61104 | 1 | 41.80747 | -71.41297 | NAD83 | Wind Direction - Resultant | 1 HOUR        | ⋯ | .  | Y | NA | Rhode Island | Providence | Providence | CCRI Liston Campus ROOFTOP | 1 Hilton St, PROVIDENCE RI | Providence-Warwick, RI-MA | AQS Data Mart |\n",
       "\n"
      ],
      "text/plain": [
       "    State.Code County.Code Site.Number Parameter.Code POC Latitude Longitude\n",
       "738 44         7           22          88101          3   41.80747 -71.41297\n",
       "739 44         7           22          62201          1   41.80747 -71.41297\n",
       "740 44         7           22          84313          1   41.80747 -71.41297\n",
       "741 44         7           22          61107          1   41.80747 -71.41297\n",
       "742 44         7           22          61103          1   41.80747 -71.41297\n",
       "743 44         7           22          61104          1   41.80747 -71.41297\n",
       "    Datum Parameter.Name             Duration.Description ⋯ AQI\n",
       "738 NAD83 PM2.5 - Local Conditions   24-HR BLK AVG        ⋯ 57 \n",
       "739 NAD83 Relative Humidity          1 HOUR               ⋯ .  \n",
       "740 NAD83 Black carbon PM2.5 STP     1 HOUR               ⋯ .  \n",
       "741 NAD83 Std Dev Vt Wind Direction  1 HOUR               ⋯ .  \n",
       "742 NAD83 Wind Speed - Resultant     1 HOUR               ⋯ .  \n",
       "743 NAD83 Wind Direction - Resultant 1 HOUR               ⋯ .  \n",
       "    Daily.Criteria.Indicator Tribe.Name State.Name   County.Name City.Name \n",
       "738 Y                        NA         Rhode Island Providence  Providence\n",
       "739 Y                        NA         Rhode Island Providence  Providence\n",
       "740 Y                        NA         Rhode Island Providence  Providence\n",
       "741 Y                        NA         Rhode Island Providence  Providence\n",
       "742 Y                        NA         Rhode Island Providence  Providence\n",
       "743 Y                        NA         Rhode Island Providence  Providence\n",
       "    Local.Site.Name            Address                   \n",
       "738 CCRI Liston Campus ROOFTOP 1 Hilton St, PROVIDENCE RI\n",
       "739 CCRI Liston Campus ROOFTOP 1 Hilton St, PROVIDENCE RI\n",
       "740 CCRI Liston Campus ROOFTOP 1 Hilton St, PROVIDENCE RI\n",
       "741 CCRI Liston Campus ROOFTOP 1 Hilton St, PROVIDENCE RI\n",
       "742 CCRI Liston Campus ROOFTOP 1 Hilton St, PROVIDENCE RI\n",
       "743 CCRI Liston Campus ROOFTOP 1 Hilton St, PROVIDENCE RI\n",
       "    MSA.or.CBSA.Name          Data.Source  \n",
       "738 Providence-Warwick, RI-MA AQS Data Mart\n",
       "739 Providence-Warwick, RI-MA AQS Data Mart\n",
       "740 Providence-Warwick, RI-MA AQS Data Mart\n",
       "741 Providence-Warwick, RI-MA AQS Data Mart\n",
       "742 Providence-Warwick, RI-MA AQS Data Mart\n",
       "743 Providence-Warwick, RI-MA AQS Data Mart"
      ]
     },
     "metadata": {},
     "output_type": "display_data"
    }
   ],
   "source": [
    "# Onwards to looking at the tail of the data\n",
    "tail(df_2022_01)"
   ]
  },
  {
   "cell_type": "code",
   "execution_count": 10,
   "metadata": {},
   "outputs": [
    {
     "data": {
      "text/html": [
       "<style>\n",
       ".list-inline {list-style: none; margin:0; padding: 0}\n",
       ".list-inline>li {display: inline-block}\n",
       ".list-inline>li:not(:last-child)::after {content: \"\\00b7\"; padding: 0 .5ex}\n",
       "</style>\n",
       "<ol class=list-inline><li>743</li><li>34</li></ol>\n"
      ],
      "text/latex": [
       "\\begin{enumerate*}\n",
       "\\item 743\n",
       "\\item 34\n",
       "\\end{enumerate*}\n"
      ],
      "text/markdown": [
       "1. 743\n",
       "2. 34\n",
       "\n",
       "\n"
      ],
      "text/plain": [
       "[1] 743  34"
      ]
     },
     "metadata": {},
     "output_type": "display_data"
    }
   ],
   "source": [
    "# Let's get the dimensions\n",
    "dim(df_2022_01)"
   ]
  },
  {
   "cell_type": "code",
   "execution_count": 11,
   "metadata": {},
   "outputs": [
    {
     "data": {
      "text/html": [
       "<style>\n",
       ".list-inline {list-style: none; margin:0; padding: 0}\n",
       ".list-inline>li {display: inline-block}\n",
       ".list-inline>li:not(:last-child)::after {content: \"\\00b7\"; padding: 0 .5ex}\n",
       "</style>\n",
       "<ol class=list-inline><li>'State.Code'</li><li>'County.Code'</li><li>'Site.Number'</li><li>'Parameter.Code'</li><li>'POC'</li><li>'Latitude'</li><li>'Longitude'</li><li>'Datum'</li><li>'Parameter.Name'</li><li>'Duration.Description'</li><li>'Pollutant.Standard'</li><li>'Date..Local.'</li><li>'Year'</li><li>'Day.In.Year..Local.'</li><li>'Units.of.Measure'</li><li>'Exceptional.Data.Type'</li><li>'Nonreg.Observation.Count'</li><li>'Observation.Count'</li><li>'Observation.Percent'</li><li>'Nonreg.Arithmetic.Mean'</li><li>'Arithmetic.Mean'</li><li>'Nonreg.First.Maximum.Value'</li><li>'First.Maximum.Value'</li><li>'First.Maximum.Hour'</li><li>'AQI'</li><li>'Daily.Criteria.Indicator'</li><li>'Tribe.Name'</li><li>'State.Name'</li><li>'County.Name'</li><li>'City.Name'</li><li>'Local.Site.Name'</li><li>'Address'</li><li>'MSA.or.CBSA.Name'</li><li>'Data.Source'</li></ol>\n"
      ],
      "text/latex": [
       "\\begin{enumerate*}\n",
       "\\item 'State.Code'\n",
       "\\item 'County.Code'\n",
       "\\item 'Site.Number'\n",
       "\\item 'Parameter.Code'\n",
       "\\item 'POC'\n",
       "\\item 'Latitude'\n",
       "\\item 'Longitude'\n",
       "\\item 'Datum'\n",
       "\\item 'Parameter.Name'\n",
       "\\item 'Duration.Description'\n",
       "\\item 'Pollutant.Standard'\n",
       "\\item 'Date..Local.'\n",
       "\\item 'Year'\n",
       "\\item 'Day.In.Year..Local.'\n",
       "\\item 'Units.of.Measure'\n",
       "\\item 'Exceptional.Data.Type'\n",
       "\\item 'Nonreg.Observation.Count'\n",
       "\\item 'Observation.Count'\n",
       "\\item 'Observation.Percent'\n",
       "\\item 'Nonreg.Arithmetic.Mean'\n",
       "\\item 'Arithmetic.Mean'\n",
       "\\item 'Nonreg.First.Maximum.Value'\n",
       "\\item 'First.Maximum.Value'\n",
       "\\item 'First.Maximum.Hour'\n",
       "\\item 'AQI'\n",
       "\\item 'Daily.Criteria.Indicator'\n",
       "\\item 'Tribe.Name'\n",
       "\\item 'State.Name'\n",
       "\\item 'County.Name'\n",
       "\\item 'City.Name'\n",
       "\\item 'Local.Site.Name'\n",
       "\\item 'Address'\n",
       "\\item 'MSA.or.CBSA.Name'\n",
       "\\item 'Data.Source'\n",
       "\\end{enumerate*}\n"
      ],
      "text/markdown": [
       "1. 'State.Code'\n",
       "2. 'County.Code'\n",
       "3. 'Site.Number'\n",
       "4. 'Parameter.Code'\n",
       "5. 'POC'\n",
       "6. 'Latitude'\n",
       "7. 'Longitude'\n",
       "8. 'Datum'\n",
       "9. 'Parameter.Name'\n",
       "10. 'Duration.Description'\n",
       "11. 'Pollutant.Standard'\n",
       "12. 'Date..Local.'\n",
       "13. 'Year'\n",
       "14. 'Day.In.Year..Local.'\n",
       "15. 'Units.of.Measure'\n",
       "16. 'Exceptional.Data.Type'\n",
       "17. 'Nonreg.Observation.Count'\n",
       "18. 'Observation.Count'\n",
       "19. 'Observation.Percent'\n",
       "20. 'Nonreg.Arithmetic.Mean'\n",
       "21. 'Arithmetic.Mean'\n",
       "22. 'Nonreg.First.Maximum.Value'\n",
       "23. 'First.Maximum.Value'\n",
       "24. 'First.Maximum.Hour'\n",
       "25. 'AQI'\n",
       "26. 'Daily.Criteria.Indicator'\n",
       "27. 'Tribe.Name'\n",
       "28. 'State.Name'\n",
       "29. 'County.Name'\n",
       "30. 'City.Name'\n",
       "31. 'Local.Site.Name'\n",
       "32. 'Address'\n",
       "33. 'MSA.or.CBSA.Name'\n",
       "34. 'Data.Source'\n",
       "\n",
       "\n"
      ],
      "text/plain": [
       " [1] \"State.Code\"                 \"County.Code\"               \n",
       " [3] \"Site.Number\"                \"Parameter.Code\"            \n",
       " [5] \"POC\"                        \"Latitude\"                  \n",
       " [7] \"Longitude\"                  \"Datum\"                     \n",
       " [9] \"Parameter.Name\"             \"Duration.Description\"      \n",
       "[11] \"Pollutant.Standard\"         \"Date..Local.\"              \n",
       "[13] \"Year\"                       \"Day.In.Year..Local.\"       \n",
       "[15] \"Units.of.Measure\"           \"Exceptional.Data.Type\"     \n",
       "[17] \"Nonreg.Observation.Count\"   \"Observation.Count\"         \n",
       "[19] \"Observation.Percent\"        \"Nonreg.Arithmetic.Mean\"    \n",
       "[21] \"Arithmetic.Mean\"            \"Nonreg.First.Maximum.Value\"\n",
       "[23] \"First.Maximum.Value\"        \"First.Maximum.Hour\"        \n",
       "[25] \"AQI\"                        \"Daily.Criteria.Indicator\"  \n",
       "[27] \"Tribe.Name\"                 \"State.Name\"                \n",
       "[29] \"County.Name\"                \"City.Name\"                 \n",
       "[31] \"Local.Site.Name\"            \"Address\"                   \n",
       "[33] \"MSA.or.CBSA.Name\"           \"Data.Source\"               "
      ]
     },
     "metadata": {},
     "output_type": "display_data"
    }
   ],
   "source": [
    "# Column names\n",
    "names(df_2022_01)"
   ]
  },
  {
   "cell_type": "code",
   "execution_count": 12,
   "metadata": {},
   "outputs": [
    {
     "data": {
      "text/html": [
       "<table class=\"dataframe\">\n",
       "<caption>A data.frame: 100 × 14</caption>\n",
       "<thead>\n",
       "\t<tr><th></th><th scope=col>State.Code</th><th scope=col>County.Code</th><th scope=col>Site.Number</th><th scope=col>Parameter.Code</th><th scope=col>POC</th><th scope=col>Latitude</th><th scope=col>Longitude</th><th scope=col>Year</th><th scope=col>Day.In.Year..Local.</th><th scope=col>Observation.Count</th><th scope=col>Observation.Percent</th><th scope=col>Arithmetic.Mean</th><th scope=col>First.Maximum.Value</th><th scope=col>First.Maximum.Hour</th></tr>\n",
       "\t<tr><th></th><th scope=col>&lt;int&gt;</th><th scope=col>&lt;int&gt;</th><th scope=col>&lt;int&gt;</th><th scope=col>&lt;int&gt;</th><th scope=col>&lt;int&gt;</th><th scope=col>&lt;dbl&gt;</th><th scope=col>&lt;dbl&gt;</th><th scope=col>&lt;int&gt;</th><th scope=col>&lt;int&gt;</th><th scope=col>&lt;int&gt;</th><th scope=col>&lt;dbl&gt;</th><th scope=col>&lt;dbl&gt;</th><th scope=col>&lt;dbl&gt;</th><th scope=col>&lt;int&gt;</th></tr>\n",
       "</thead>\n",
       "<tbody>\n",
       "\t<tr><th scope=row>1</th><td>44</td><td>7</td><td>22</td><td>87101</td><td>1</td><td>41.80747</td><td>-71.41297</td><td>2022</td><td>1</td><td>24</td><td>100</td><td>7062.208333</td><td>14300.00</td><td>17</td></tr>\n",
       "\t<tr><th scope=row>2</th><td>44</td><td>7</td><td>22</td><td>61107</td><td>1</td><td>41.80747</td><td>-71.41297</td><td>2022</td><td>1</td><td>24</td><td>100</td><td>  17.166667</td><td>   25.00</td><td> 7</td></tr>\n",
       "\t<tr><th scope=row>3</th><td>44</td><td>7</td><td>22</td><td>62101</td><td>1</td><td>41.80747</td><td>-71.41297</td><td>2022</td><td>1</td><td>24</td><td>100</td><td>  48.958333</td><td>   54.00</td><td>15</td></tr>\n",
       "\t<tr><th scope=row>4</th><td>44</td><td>7</td><td>22</td><td>61104</td><td>1</td><td>41.80747</td><td>-71.41297</td><td>2022</td><td>1</td><td>24</td><td>100</td><td> 140.791667</td><td>  195.00</td><td>15</td></tr>\n",
       "\t<tr><th scope=row>5</th><td>44</td><td>7</td><td>22</td><td>84313</td><td>1</td><td>41.80747</td><td>-71.41297</td><td>2022</td><td>1</td><td>24</td><td>100</td><td>   0.458333</td><td>    1.25</td><td> 1</td></tr>\n",
       "\t<tr><th scope=row>6</th><td>44</td><td>7</td><td>22</td><td>88101</td><td>3</td><td>41.80747</td><td>-71.41297</td><td>2022</td><td>1</td><td> 1</td><td>100</td><td>   7.100000</td><td>    7.10</td><td> 0</td></tr>\n",
       "\t<tr><th scope=row>7</th><td>44</td><td>7</td><td>22</td><td>88101</td><td>3</td><td>41.80747</td><td>-71.41297</td><td>2022</td><td>1</td><td> 1</td><td>100</td><td>   7.100000</td><td>    7.10</td><td> 0</td></tr>\n",
       "\t<tr><th scope=row>8</th><td>44</td><td>7</td><td>22</td><td>88101</td><td>3</td><td>41.80747</td><td>-71.41297</td><td>2022</td><td>1</td><td>24</td><td>100</td><td>   7.125000</td><td>   38.00</td><td> 0</td></tr>\n",
       "\t<tr><th scope=row>9</th><td>44</td><td>7</td><td>22</td><td>62201</td><td>1</td><td>41.80747</td><td>-71.41297</td><td>2022</td><td>1</td><td>24</td><td>100</td><td> 100.000000</td><td>  100.00</td><td> 0</td></tr>\n",
       "\t<tr><th scope=row>10</th><td>44</td><td>7</td><td>22</td><td>84313</td><td>1</td><td>41.80747</td><td>-71.41297</td><td>2022</td><td>2</td><td>24</td><td>100</td><td>   0.320833</td><td>    0.56</td><td>13</td></tr>\n",
       "\t<tr><th scope=row>11</th><td>44</td><td>7</td><td>22</td><td>61104</td><td>1</td><td>41.80747</td><td>-71.41297</td><td>2022</td><td>2</td><td>24</td><td>100</td><td> 197.208333</td><td>  339.00</td><td>21</td></tr>\n",
       "\t<tr><th scope=row>12</th><td>44</td><td>7</td><td>22</td><td>62201</td><td>1</td><td>41.80747</td><td>-71.41297</td><td>2022</td><td>2</td><td>24</td><td>100</td><td>  95.541667</td><td>  100.00</td><td> 0</td></tr>\n",
       "\t<tr><th scope=row>13</th><td>44</td><td>7</td><td>22</td><td>62101</td><td>1</td><td>41.80747</td><td>-71.41297</td><td>2022</td><td>2</td><td>24</td><td>100</td><td>  46.458333</td><td>   52.00</td><td>15</td></tr>\n",
       "\t<tr><th scope=row>14</th><td>44</td><td>7</td><td>22</td><td>61107</td><td>1</td><td>41.80747</td><td>-71.41297</td><td>2022</td><td>2</td><td>24</td><td>100</td><td>  27.208333</td><td>   43.00</td><td>20</td></tr>\n",
       "\t<tr><th scope=row>15</th><td>44</td><td>7</td><td>22</td><td>88101</td><td>3</td><td>41.80747</td><td>-71.41297</td><td>2022</td><td>2</td><td> 1</td><td>100</td><td>   3.100000</td><td>    3.10</td><td> 0</td></tr>\n",
       "\t<tr><th scope=row>16</th><td>44</td><td>7</td><td>22</td><td>88101</td><td>3</td><td>41.80747</td><td>-71.41297</td><td>2022</td><td>2</td><td>24</td><td>100</td><td>   3.166667</td><td>    7.00</td><td>16</td></tr>\n",
       "\t<tr><th scope=row>17</th><td>44</td><td>7</td><td>22</td><td>87101</td><td>1</td><td>41.80747</td><td>-71.41297</td><td>2022</td><td>2</td><td>24</td><td>100</td><td>4740.000000</td><td> 9031.00</td><td>14</td></tr>\n",
       "\t<tr><th scope=row>18</th><td>44</td><td>7</td><td>22</td><td>88101</td><td>3</td><td>41.80747</td><td>-71.41297</td><td>2022</td><td>2</td><td> 1</td><td>100</td><td>   3.100000</td><td>    3.10</td><td> 0</td></tr>\n",
       "\t<tr><th scope=row>19</th><td>44</td><td>7</td><td>22</td><td>61104</td><td>1</td><td>41.80747</td><td>-71.41297</td><td>2022</td><td>3</td><td>24</td><td>100</td><td> 172.250000</td><td>  350.00</td><td> 5</td></tr>\n",
       "\t<tr><th scope=row>20</th><td>44</td><td>7</td><td>22</td><td>88101</td><td>3</td><td>41.80747</td><td>-71.41297</td><td>2022</td><td>3</td><td> 1</td><td>100</td><td>   3.400000</td><td>    3.40</td><td> 0</td></tr>\n",
       "\t<tr><th scope=row>21</th><td>44</td><td>7</td><td>22</td><td>88101</td><td>3</td><td>41.80747</td><td>-71.41297</td><td>2022</td><td>3</td><td> 1</td><td>100</td><td>   3.400000</td><td>    3.40</td><td> 0</td></tr>\n",
       "\t<tr><th scope=row>22</th><td>44</td><td>7</td><td>22</td><td>88101</td><td>3</td><td>41.80747</td><td>-71.41297</td><td>2022</td><td>3</td><td>24</td><td>100</td><td>   3.458333</td><td>    6.00</td><td>22</td></tr>\n",
       "\t<tr><th scope=row>23</th><td>44</td><td>7</td><td>22</td><td>61107</td><td>1</td><td>41.80747</td><td>-71.41297</td><td>2022</td><td>3</td><td>24</td><td>100</td><td>  37.750000</td><td>   47.00</td><td>23</td></tr>\n",
       "\t<tr><th scope=row>24</th><td>44</td><td>7</td><td>22</td><td>84313</td><td>1</td><td>41.80747</td><td>-71.41297</td><td>2022</td><td>3</td><td>24</td><td>100</td><td>   0.197917</td><td>    0.33</td><td>15</td></tr>\n",
       "\t<tr><th scope=row>25</th><td>44</td><td>7</td><td>22</td><td>62101</td><td>1</td><td>41.80747</td><td>-71.41297</td><td>2022</td><td>3</td><td>24</td><td>100</td><td>  27.666667</td><td>   34.00</td><td> 0</td></tr>\n",
       "\t<tr><th scope=row>26</th><td>44</td><td>7</td><td>22</td><td>62201</td><td>1</td><td>41.80747</td><td>-71.41297</td><td>2022</td><td>3</td><td>24</td><td>100</td><td>  69.625000</td><td>   85.00</td><td> 1</td></tr>\n",
       "\t<tr><th scope=row>27</th><td>44</td><td>7</td><td>22</td><td>87101</td><td>1</td><td>41.80747</td><td>-71.41297</td><td>2022</td><td>3</td><td>24</td><td>100</td><td>8056.583333</td><td>12817.00</td><td>15</td></tr>\n",
       "\t<tr><th scope=row>28</th><td>44</td><td>7</td><td>22</td><td>88101</td><td>3</td><td>41.80747</td><td>-71.41297</td><td>2022</td><td>4</td><td> 1</td><td>100</td><td>   5.000000</td><td>    5.00</td><td> 0</td></tr>\n",
       "\t<tr><th scope=row>29</th><td>44</td><td>7</td><td>22</td><td>62201</td><td>1</td><td>41.80747</td><td>-71.41297</td><td>2022</td><td>4</td><td>24</td><td>100</td><td>  57.458333</td><td>   82.00</td><td>23</td></tr>\n",
       "\t<tr><th scope=row>30</th><td>44</td><td>7</td><td>22</td><td>62101</td><td>1</td><td>41.80747</td><td>-71.41297</td><td>2022</td><td>4</td><td>24</td><td>100</td><td>  24.166667</td><td>   33.00</td><td>14</td></tr>\n",
       "\t<tr><th scope=row>⋮</th><td>⋮</td><td>⋮</td><td>⋮</td><td>⋮</td><td>⋮</td><td>⋮</td><td>⋮</td><td>⋮</td><td>⋮</td><td>⋮</td><td>⋮</td><td>⋮</td><td>⋮</td><td>⋮</td></tr>\n",
       "\t<tr><th scope=row>71</th><td>44</td><td>7</td><td>22</td><td>81102</td><td>1</td><td>41.80747</td><td>-71.41297</td><td>2022</td><td>5</td><td> 1</td><td>100</td><td>    9.000</td><td>9.00e+00</td><td>0</td></tr>\n",
       "\t<tr><th scope=row>72</th><td>44</td><td>7</td><td>22</td><td>81102</td><td>2</td><td>41.80747</td><td>-71.41297</td><td>2022</td><td>5</td><td> 1</td><td>100</td><td>   10.000</td><td>1.00e+01</td><td>0</td></tr>\n",
       "\t<tr><th scope=row>73</th><td>44</td><td>7</td><td>22</td><td>45203</td><td>2</td><td>41.80747</td><td>-71.41297</td><td>2022</td><td>5</td><td> 1</td><td>100</td><td>    0.400</td><td>4.00e-01</td><td>0</td></tr>\n",
       "\t<tr><th scope=row>74</th><td>44</td><td>7</td><td>22</td><td>43502</td><td>7</td><td>41.80747</td><td>-71.41297</td><td>2022</td><td>5</td><td> 1</td><td>100</td><td>    1.100</td><td>1.10e+00</td><td>0</td></tr>\n",
       "\t<tr><th scope=row>75</th><td>44</td><td>7</td><td>22</td><td>43503</td><td>7</td><td>41.80747</td><td>-71.41297</td><td>2022</td><td>5</td><td> 1</td><td>100</td><td>    1.000</td><td>1.00e+00</td><td>0</td></tr>\n",
       "\t<tr><th scope=row>76</th><td>44</td><td>7</td><td>22</td><td>43551</td><td>7</td><td>41.80747</td><td>-71.41297</td><td>2022</td><td>5</td><td> 1</td><td>100</td><td>    4.200</td><td>4.20e+00</td><td>0</td></tr>\n",
       "\t<tr><th scope=row>77</th><td>44</td><td>7</td><td>22</td><td>82110</td><td>2</td><td>41.80747</td><td>-71.41297</td><td>2022</td><td>5</td><td> 1</td><td>100</td><td>    0.250</td><td>2.50e-01</td><td>0</td></tr>\n",
       "\t<tr><th scope=row>78</th><td>44</td><td>7</td><td>22</td><td>82103</td><td>1</td><td>41.80747</td><td>-71.41297</td><td>2022</td><td>5</td><td> 1</td><td>100</td><td>    0.460</td><td>4.60e-01</td><td>0</td></tr>\n",
       "\t<tr><th scope=row>79</th><td>44</td><td>7</td><td>22</td><td>17243</td><td>6</td><td>41.80747</td><td>-71.41297</td><td>2022</td><td>5</td><td> 1</td><td>100</td><td>    0.136</td><td>1.36e-01</td><td>0</td></tr>\n",
       "\t<tr><th scope=row>80</th><td>44</td><td>7</td><td>22</td><td>82105</td><td>2</td><td>41.80747</td><td>-71.41297</td><td>2022</td><td>5</td><td> 1</td><td>100</td><td>    0.000</td><td>0.00e+00</td><td>0</td></tr>\n",
       "\t<tr><th scope=row>81</th><td>44</td><td>7</td><td>22</td><td>82112</td><td>2</td><td>41.80747</td><td>-71.41297</td><td>2022</td><td>5</td><td> 1</td><td>100</td><td>    1.710</td><td>1.71e+00</td><td>0</td></tr>\n",
       "\t<tr><th scope=row>82</th><td>44</td><td>7</td><td>22</td><td>82132</td><td>2</td><td>41.80747</td><td>-71.41297</td><td>2022</td><td>5</td><td> 1</td><td>100</td><td>    1.690</td><td>1.69e+00</td><td>0</td></tr>\n",
       "\t<tr><th scope=row>83</th><td>44</td><td>7</td><td>22</td><td>43551</td><td>5</td><td>41.80747</td><td>-71.41297</td><td>2022</td><td>5</td><td> 1</td><td>100</td><td>    3.800</td><td>3.80e+00</td><td>0</td></tr>\n",
       "\t<tr><th scope=row>84</th><td>44</td><td>7</td><td>22</td><td>17220</td><td>6</td><td>41.80747</td><td>-71.41297</td><td>2022</td><td>5</td><td> 1</td><td>100</td><td>    0.153</td><td>1.53e-01</td><td>0</td></tr>\n",
       "\t<tr><th scope=row>85</th><td>44</td><td>7</td><td>22</td><td>17223</td><td>6</td><td>41.80747</td><td>-71.41297</td><td>2022</td><td>5</td><td> 1</td><td>100</td><td>    0.041</td><td>4.10e-02</td><td>0</td></tr>\n",
       "\t<tr><th scope=row>86</th><td>44</td><td>7</td><td>22</td><td>17237</td><td>6</td><td>41.80747</td><td>-71.41297</td><td>2022</td><td>5</td><td> 1</td><td>100</td><td>    0.102</td><td>1.02e-01</td><td>0</td></tr>\n",
       "\t<tr><th scope=row>87</th><td>44</td><td>7</td><td>22</td><td>17231</td><td>6</td><td>41.80747</td><td>-71.41297</td><td>2022</td><td>5</td><td> 1</td><td>100</td><td>    0.000</td><td>0.00e+00</td><td>0</td></tr>\n",
       "\t<tr><th scope=row>88</th><td>44</td><td>7</td><td>22</td><td>17242</td><td>6</td><td>41.80747</td><td>-71.41297</td><td>2022</td><td>5</td><td> 1</td><td>100</td><td>    0.034</td><td>3.40e-02</td><td>0</td></tr>\n",
       "\t<tr><th scope=row>89</th><td>44</td><td>7</td><td>22</td><td>17201</td><td>6</td><td>41.80747</td><td>-71.41297</td><td>2022</td><td>5</td><td> 1</td><td>100</td><td>    1.040</td><td>1.04e+00</td><td>0</td></tr>\n",
       "\t<tr><th scope=row>90</th><td>44</td><td>7</td><td>22</td><td>17211</td><td>6</td><td>41.80747</td><td>-71.41297</td><td>2022</td><td>5</td><td> 1</td><td>100</td><td>    0.111</td><td>1.11e-01</td><td>0</td></tr>\n",
       "\t<tr><th scope=row>91</th><td>44</td><td>7</td><td>22</td><td>17215</td><td>6</td><td>41.80747</td><td>-71.41297</td><td>2022</td><td>5</td><td> 1</td><td>100</td><td>    0.044</td><td>4.40e-02</td><td>0</td></tr>\n",
       "\t<tr><th scope=row>92</th><td>44</td><td>7</td><td>22</td><td>17212</td><td>6</td><td>41.80747</td><td>-71.41297</td><td>2022</td><td>5</td><td> 1</td><td>100</td><td>    0.000</td><td>0.00e+00</td><td>0</td></tr>\n",
       "\t<tr><th scope=row>93</th><td>44</td><td>7</td><td>22</td><td>17224</td><td>6</td><td>41.80747</td><td>-71.41297</td><td>2022</td><td>5</td><td> 1</td><td>100</td><td>    0.074</td><td>7.40e-02</td><td>0</td></tr>\n",
       "\t<tr><th scope=row>94</th><td>44</td><td>7</td><td>22</td><td>17141</td><td>6</td><td>41.80747</td><td>-71.41297</td><td>2022</td><td>5</td><td> 1</td><td>100</td><td>   39.700</td><td>3.97e+01</td><td>0</td></tr>\n",
       "\t<tr><th scope=row>95</th><td>44</td><td>7</td><td>22</td><td>17147</td><td>6</td><td>41.80747</td><td>-71.41297</td><td>2022</td><td>5</td><td> 1</td><td>100</td><td>    0.000</td><td>0.00e+00</td><td>0</td></tr>\n",
       "\t<tr><th scope=row>96</th><td>44</td><td>7</td><td>22</td><td>17149</td><td>6</td><td>41.80747</td><td>-71.41297</td><td>2022</td><td>5</td><td> 1</td><td>100</td><td>    1.130</td><td>1.13e+00</td><td>0</td></tr>\n",
       "\t<tr><th scope=row>97</th><td>44</td><td>7</td><td>22</td><td>17204</td><td>6</td><td>41.80747</td><td>-71.41297</td><td>2022</td><td>5</td><td> 1</td><td>100</td><td>    0.845</td><td>8.45e-01</td><td>0</td></tr>\n",
       "\t<tr><th scope=row>98</th><td>44</td><td>7</td><td>22</td><td>17151</td><td>6</td><td>41.80747</td><td>-71.41297</td><td>2022</td><td>5</td><td> 1</td><td>100</td><td>    0.211</td><td>2.11e-01</td><td>0</td></tr>\n",
       "\t<tr><th scope=row>99</th><td>44</td><td>7</td><td>22</td><td>17150</td><td>6</td><td>41.80747</td><td>-71.41297</td><td>2022</td><td>5</td><td> 1</td><td>100</td><td>    3.910</td><td>3.91e+00</td><td>0</td></tr>\n",
       "\t<tr><th scope=row>100</th><td>44</td><td>7</td><td>22</td><td>87101</td><td>1</td><td>41.80747</td><td>-71.41297</td><td>2022</td><td>5</td><td>24</td><td>100</td><td>12847.583</td><td>3.38e+04</td><td>6</td></tr>\n",
       "</tbody>\n",
       "</table>\n"
      ],
      "text/latex": [
       "A data.frame: 100 × 14\n",
       "\\begin{tabular}{r|llllllllllllll}\n",
       "  & State.Code & County.Code & Site.Number & Parameter.Code & POC & Latitude & Longitude & Year & Day.In.Year..Local. & Observation.Count & Observation.Percent & Arithmetic.Mean & First.Maximum.Value & First.Maximum.Hour\\\\\n",
       "  & <int> & <int> & <int> & <int> & <int> & <dbl> & <dbl> & <int> & <int> & <int> & <dbl> & <dbl> & <dbl> & <int>\\\\\n",
       "\\hline\n",
       "\t1 & 44 & 7 & 22 & 87101 & 1 & 41.80747 & -71.41297 & 2022 & 1 & 24 & 100 & 7062.208333 & 14300.00 & 17\\\\\n",
       "\t2 & 44 & 7 & 22 & 61107 & 1 & 41.80747 & -71.41297 & 2022 & 1 & 24 & 100 &   17.166667 &    25.00 &  7\\\\\n",
       "\t3 & 44 & 7 & 22 & 62101 & 1 & 41.80747 & -71.41297 & 2022 & 1 & 24 & 100 &   48.958333 &    54.00 & 15\\\\\n",
       "\t4 & 44 & 7 & 22 & 61104 & 1 & 41.80747 & -71.41297 & 2022 & 1 & 24 & 100 &  140.791667 &   195.00 & 15\\\\\n",
       "\t5 & 44 & 7 & 22 & 84313 & 1 & 41.80747 & -71.41297 & 2022 & 1 & 24 & 100 &    0.458333 &     1.25 &  1\\\\\n",
       "\t6 & 44 & 7 & 22 & 88101 & 3 & 41.80747 & -71.41297 & 2022 & 1 &  1 & 100 &    7.100000 &     7.10 &  0\\\\\n",
       "\t7 & 44 & 7 & 22 & 88101 & 3 & 41.80747 & -71.41297 & 2022 & 1 &  1 & 100 &    7.100000 &     7.10 &  0\\\\\n",
       "\t8 & 44 & 7 & 22 & 88101 & 3 & 41.80747 & -71.41297 & 2022 & 1 & 24 & 100 &    7.125000 &    38.00 &  0\\\\\n",
       "\t9 & 44 & 7 & 22 & 62201 & 1 & 41.80747 & -71.41297 & 2022 & 1 & 24 & 100 &  100.000000 &   100.00 &  0\\\\\n",
       "\t10 & 44 & 7 & 22 & 84313 & 1 & 41.80747 & -71.41297 & 2022 & 2 & 24 & 100 &    0.320833 &     0.56 & 13\\\\\n",
       "\t11 & 44 & 7 & 22 & 61104 & 1 & 41.80747 & -71.41297 & 2022 & 2 & 24 & 100 &  197.208333 &   339.00 & 21\\\\\n",
       "\t12 & 44 & 7 & 22 & 62201 & 1 & 41.80747 & -71.41297 & 2022 & 2 & 24 & 100 &   95.541667 &   100.00 &  0\\\\\n",
       "\t13 & 44 & 7 & 22 & 62101 & 1 & 41.80747 & -71.41297 & 2022 & 2 & 24 & 100 &   46.458333 &    52.00 & 15\\\\\n",
       "\t14 & 44 & 7 & 22 & 61107 & 1 & 41.80747 & -71.41297 & 2022 & 2 & 24 & 100 &   27.208333 &    43.00 & 20\\\\\n",
       "\t15 & 44 & 7 & 22 & 88101 & 3 & 41.80747 & -71.41297 & 2022 & 2 &  1 & 100 &    3.100000 &     3.10 &  0\\\\\n",
       "\t16 & 44 & 7 & 22 & 88101 & 3 & 41.80747 & -71.41297 & 2022 & 2 & 24 & 100 &    3.166667 &     7.00 & 16\\\\\n",
       "\t17 & 44 & 7 & 22 & 87101 & 1 & 41.80747 & -71.41297 & 2022 & 2 & 24 & 100 & 4740.000000 &  9031.00 & 14\\\\\n",
       "\t18 & 44 & 7 & 22 & 88101 & 3 & 41.80747 & -71.41297 & 2022 & 2 &  1 & 100 &    3.100000 &     3.10 &  0\\\\\n",
       "\t19 & 44 & 7 & 22 & 61104 & 1 & 41.80747 & -71.41297 & 2022 & 3 & 24 & 100 &  172.250000 &   350.00 &  5\\\\\n",
       "\t20 & 44 & 7 & 22 & 88101 & 3 & 41.80747 & -71.41297 & 2022 & 3 &  1 & 100 &    3.400000 &     3.40 &  0\\\\\n",
       "\t21 & 44 & 7 & 22 & 88101 & 3 & 41.80747 & -71.41297 & 2022 & 3 &  1 & 100 &    3.400000 &     3.40 &  0\\\\\n",
       "\t22 & 44 & 7 & 22 & 88101 & 3 & 41.80747 & -71.41297 & 2022 & 3 & 24 & 100 &    3.458333 &     6.00 & 22\\\\\n",
       "\t23 & 44 & 7 & 22 & 61107 & 1 & 41.80747 & -71.41297 & 2022 & 3 & 24 & 100 &   37.750000 &    47.00 & 23\\\\\n",
       "\t24 & 44 & 7 & 22 & 84313 & 1 & 41.80747 & -71.41297 & 2022 & 3 & 24 & 100 &    0.197917 &     0.33 & 15\\\\\n",
       "\t25 & 44 & 7 & 22 & 62101 & 1 & 41.80747 & -71.41297 & 2022 & 3 & 24 & 100 &   27.666667 &    34.00 &  0\\\\\n",
       "\t26 & 44 & 7 & 22 & 62201 & 1 & 41.80747 & -71.41297 & 2022 & 3 & 24 & 100 &   69.625000 &    85.00 &  1\\\\\n",
       "\t27 & 44 & 7 & 22 & 87101 & 1 & 41.80747 & -71.41297 & 2022 & 3 & 24 & 100 & 8056.583333 & 12817.00 & 15\\\\\n",
       "\t28 & 44 & 7 & 22 & 88101 & 3 & 41.80747 & -71.41297 & 2022 & 4 &  1 & 100 &    5.000000 &     5.00 &  0\\\\\n",
       "\t29 & 44 & 7 & 22 & 62201 & 1 & 41.80747 & -71.41297 & 2022 & 4 & 24 & 100 &   57.458333 &    82.00 & 23\\\\\n",
       "\t30 & 44 & 7 & 22 & 62101 & 1 & 41.80747 & -71.41297 & 2022 & 4 & 24 & 100 &   24.166667 &    33.00 & 14\\\\\n",
       "\t⋮ & ⋮ & ⋮ & ⋮ & ⋮ & ⋮ & ⋮ & ⋮ & ⋮ & ⋮ & ⋮ & ⋮ & ⋮ & ⋮ & ⋮\\\\\n",
       "\t71 & 44 & 7 & 22 & 81102 & 1 & 41.80747 & -71.41297 & 2022 & 5 &  1 & 100 &     9.000 & 9.00e+00 & 0\\\\\n",
       "\t72 & 44 & 7 & 22 & 81102 & 2 & 41.80747 & -71.41297 & 2022 & 5 &  1 & 100 &    10.000 & 1.00e+01 & 0\\\\\n",
       "\t73 & 44 & 7 & 22 & 45203 & 2 & 41.80747 & -71.41297 & 2022 & 5 &  1 & 100 &     0.400 & 4.00e-01 & 0\\\\\n",
       "\t74 & 44 & 7 & 22 & 43502 & 7 & 41.80747 & -71.41297 & 2022 & 5 &  1 & 100 &     1.100 & 1.10e+00 & 0\\\\\n",
       "\t75 & 44 & 7 & 22 & 43503 & 7 & 41.80747 & -71.41297 & 2022 & 5 &  1 & 100 &     1.000 & 1.00e+00 & 0\\\\\n",
       "\t76 & 44 & 7 & 22 & 43551 & 7 & 41.80747 & -71.41297 & 2022 & 5 &  1 & 100 &     4.200 & 4.20e+00 & 0\\\\\n",
       "\t77 & 44 & 7 & 22 & 82110 & 2 & 41.80747 & -71.41297 & 2022 & 5 &  1 & 100 &     0.250 & 2.50e-01 & 0\\\\\n",
       "\t78 & 44 & 7 & 22 & 82103 & 1 & 41.80747 & -71.41297 & 2022 & 5 &  1 & 100 &     0.460 & 4.60e-01 & 0\\\\\n",
       "\t79 & 44 & 7 & 22 & 17243 & 6 & 41.80747 & -71.41297 & 2022 & 5 &  1 & 100 &     0.136 & 1.36e-01 & 0\\\\\n",
       "\t80 & 44 & 7 & 22 & 82105 & 2 & 41.80747 & -71.41297 & 2022 & 5 &  1 & 100 &     0.000 & 0.00e+00 & 0\\\\\n",
       "\t81 & 44 & 7 & 22 & 82112 & 2 & 41.80747 & -71.41297 & 2022 & 5 &  1 & 100 &     1.710 & 1.71e+00 & 0\\\\\n",
       "\t82 & 44 & 7 & 22 & 82132 & 2 & 41.80747 & -71.41297 & 2022 & 5 &  1 & 100 &     1.690 & 1.69e+00 & 0\\\\\n",
       "\t83 & 44 & 7 & 22 & 43551 & 5 & 41.80747 & -71.41297 & 2022 & 5 &  1 & 100 &     3.800 & 3.80e+00 & 0\\\\\n",
       "\t84 & 44 & 7 & 22 & 17220 & 6 & 41.80747 & -71.41297 & 2022 & 5 &  1 & 100 &     0.153 & 1.53e-01 & 0\\\\\n",
       "\t85 & 44 & 7 & 22 & 17223 & 6 & 41.80747 & -71.41297 & 2022 & 5 &  1 & 100 &     0.041 & 4.10e-02 & 0\\\\\n",
       "\t86 & 44 & 7 & 22 & 17237 & 6 & 41.80747 & -71.41297 & 2022 & 5 &  1 & 100 &     0.102 & 1.02e-01 & 0\\\\\n",
       "\t87 & 44 & 7 & 22 & 17231 & 6 & 41.80747 & -71.41297 & 2022 & 5 &  1 & 100 &     0.000 & 0.00e+00 & 0\\\\\n",
       "\t88 & 44 & 7 & 22 & 17242 & 6 & 41.80747 & -71.41297 & 2022 & 5 &  1 & 100 &     0.034 & 3.40e-02 & 0\\\\\n",
       "\t89 & 44 & 7 & 22 & 17201 & 6 & 41.80747 & -71.41297 & 2022 & 5 &  1 & 100 &     1.040 & 1.04e+00 & 0\\\\\n",
       "\t90 & 44 & 7 & 22 & 17211 & 6 & 41.80747 & -71.41297 & 2022 & 5 &  1 & 100 &     0.111 & 1.11e-01 & 0\\\\\n",
       "\t91 & 44 & 7 & 22 & 17215 & 6 & 41.80747 & -71.41297 & 2022 & 5 &  1 & 100 &     0.044 & 4.40e-02 & 0\\\\\n",
       "\t92 & 44 & 7 & 22 & 17212 & 6 & 41.80747 & -71.41297 & 2022 & 5 &  1 & 100 &     0.000 & 0.00e+00 & 0\\\\\n",
       "\t93 & 44 & 7 & 22 & 17224 & 6 & 41.80747 & -71.41297 & 2022 & 5 &  1 & 100 &     0.074 & 7.40e-02 & 0\\\\\n",
       "\t94 & 44 & 7 & 22 & 17141 & 6 & 41.80747 & -71.41297 & 2022 & 5 &  1 & 100 &    39.700 & 3.97e+01 & 0\\\\\n",
       "\t95 & 44 & 7 & 22 & 17147 & 6 & 41.80747 & -71.41297 & 2022 & 5 &  1 & 100 &     0.000 & 0.00e+00 & 0\\\\\n",
       "\t96 & 44 & 7 & 22 & 17149 & 6 & 41.80747 & -71.41297 & 2022 & 5 &  1 & 100 &     1.130 & 1.13e+00 & 0\\\\\n",
       "\t97 & 44 & 7 & 22 & 17204 & 6 & 41.80747 & -71.41297 & 2022 & 5 &  1 & 100 &     0.845 & 8.45e-01 & 0\\\\\n",
       "\t98 & 44 & 7 & 22 & 17151 & 6 & 41.80747 & -71.41297 & 2022 & 5 &  1 & 100 &     0.211 & 2.11e-01 & 0\\\\\n",
       "\t99 & 44 & 7 & 22 & 17150 & 6 & 41.80747 & -71.41297 & 2022 & 5 &  1 & 100 &     3.910 & 3.91e+00 & 0\\\\\n",
       "\t100 & 44 & 7 & 22 & 87101 & 1 & 41.80747 & -71.41297 & 2022 & 5 & 24 & 100 & 12847.583 & 3.38e+04 & 6\\\\\n",
       "\\end{tabular}\n"
      ],
      "text/markdown": [
       "\n",
       "A data.frame: 100 × 14\n",
       "\n",
       "| <!--/--> | State.Code &lt;int&gt; | County.Code &lt;int&gt; | Site.Number &lt;int&gt; | Parameter.Code &lt;int&gt; | POC &lt;int&gt; | Latitude &lt;dbl&gt; | Longitude &lt;dbl&gt; | Year &lt;int&gt; | Day.In.Year..Local. &lt;int&gt; | Observation.Count &lt;int&gt; | Observation.Percent &lt;dbl&gt; | Arithmetic.Mean &lt;dbl&gt; | First.Maximum.Value &lt;dbl&gt; | First.Maximum.Hour &lt;int&gt; |\n",
       "|---|---|---|---|---|---|---|---|---|---|---|---|---|---|---|\n",
       "| 1 | 44 | 7 | 22 | 87101 | 1 | 41.80747 | -71.41297 | 2022 | 1 | 24 | 100 | 7062.208333 | 14300.00 | 17 |\n",
       "| 2 | 44 | 7 | 22 | 61107 | 1 | 41.80747 | -71.41297 | 2022 | 1 | 24 | 100 |   17.166667 |    25.00 |  7 |\n",
       "| 3 | 44 | 7 | 22 | 62101 | 1 | 41.80747 | -71.41297 | 2022 | 1 | 24 | 100 |   48.958333 |    54.00 | 15 |\n",
       "| 4 | 44 | 7 | 22 | 61104 | 1 | 41.80747 | -71.41297 | 2022 | 1 | 24 | 100 |  140.791667 |   195.00 | 15 |\n",
       "| 5 | 44 | 7 | 22 | 84313 | 1 | 41.80747 | -71.41297 | 2022 | 1 | 24 | 100 |    0.458333 |     1.25 |  1 |\n",
       "| 6 | 44 | 7 | 22 | 88101 | 3 | 41.80747 | -71.41297 | 2022 | 1 |  1 | 100 |    7.100000 |     7.10 |  0 |\n",
       "| 7 | 44 | 7 | 22 | 88101 | 3 | 41.80747 | -71.41297 | 2022 | 1 |  1 | 100 |    7.100000 |     7.10 |  0 |\n",
       "| 8 | 44 | 7 | 22 | 88101 | 3 | 41.80747 | -71.41297 | 2022 | 1 | 24 | 100 |    7.125000 |    38.00 |  0 |\n",
       "| 9 | 44 | 7 | 22 | 62201 | 1 | 41.80747 | -71.41297 | 2022 | 1 | 24 | 100 |  100.000000 |   100.00 |  0 |\n",
       "| 10 | 44 | 7 | 22 | 84313 | 1 | 41.80747 | -71.41297 | 2022 | 2 | 24 | 100 |    0.320833 |     0.56 | 13 |\n",
       "| 11 | 44 | 7 | 22 | 61104 | 1 | 41.80747 | -71.41297 | 2022 | 2 | 24 | 100 |  197.208333 |   339.00 | 21 |\n",
       "| 12 | 44 | 7 | 22 | 62201 | 1 | 41.80747 | -71.41297 | 2022 | 2 | 24 | 100 |   95.541667 |   100.00 |  0 |\n",
       "| 13 | 44 | 7 | 22 | 62101 | 1 | 41.80747 | -71.41297 | 2022 | 2 | 24 | 100 |   46.458333 |    52.00 | 15 |\n",
       "| 14 | 44 | 7 | 22 | 61107 | 1 | 41.80747 | -71.41297 | 2022 | 2 | 24 | 100 |   27.208333 |    43.00 | 20 |\n",
       "| 15 | 44 | 7 | 22 | 88101 | 3 | 41.80747 | -71.41297 | 2022 | 2 |  1 | 100 |    3.100000 |     3.10 |  0 |\n",
       "| 16 | 44 | 7 | 22 | 88101 | 3 | 41.80747 | -71.41297 | 2022 | 2 | 24 | 100 |    3.166667 |     7.00 | 16 |\n",
       "| 17 | 44 | 7 | 22 | 87101 | 1 | 41.80747 | -71.41297 | 2022 | 2 | 24 | 100 | 4740.000000 |  9031.00 | 14 |\n",
       "| 18 | 44 | 7 | 22 | 88101 | 3 | 41.80747 | -71.41297 | 2022 | 2 |  1 | 100 |    3.100000 |     3.10 |  0 |\n",
       "| 19 | 44 | 7 | 22 | 61104 | 1 | 41.80747 | -71.41297 | 2022 | 3 | 24 | 100 |  172.250000 |   350.00 |  5 |\n",
       "| 20 | 44 | 7 | 22 | 88101 | 3 | 41.80747 | -71.41297 | 2022 | 3 |  1 | 100 |    3.400000 |     3.40 |  0 |\n",
       "| 21 | 44 | 7 | 22 | 88101 | 3 | 41.80747 | -71.41297 | 2022 | 3 |  1 | 100 |    3.400000 |     3.40 |  0 |\n",
       "| 22 | 44 | 7 | 22 | 88101 | 3 | 41.80747 | -71.41297 | 2022 | 3 | 24 | 100 |    3.458333 |     6.00 | 22 |\n",
       "| 23 | 44 | 7 | 22 | 61107 | 1 | 41.80747 | -71.41297 | 2022 | 3 | 24 | 100 |   37.750000 |    47.00 | 23 |\n",
       "| 24 | 44 | 7 | 22 | 84313 | 1 | 41.80747 | -71.41297 | 2022 | 3 | 24 | 100 |    0.197917 |     0.33 | 15 |\n",
       "| 25 | 44 | 7 | 22 | 62101 | 1 | 41.80747 | -71.41297 | 2022 | 3 | 24 | 100 |   27.666667 |    34.00 |  0 |\n",
       "| 26 | 44 | 7 | 22 | 62201 | 1 | 41.80747 | -71.41297 | 2022 | 3 | 24 | 100 |   69.625000 |    85.00 |  1 |\n",
       "| 27 | 44 | 7 | 22 | 87101 | 1 | 41.80747 | -71.41297 | 2022 | 3 | 24 | 100 | 8056.583333 | 12817.00 | 15 |\n",
       "| 28 | 44 | 7 | 22 | 88101 | 3 | 41.80747 | -71.41297 | 2022 | 4 |  1 | 100 |    5.000000 |     5.00 |  0 |\n",
       "| 29 | 44 | 7 | 22 | 62201 | 1 | 41.80747 | -71.41297 | 2022 | 4 | 24 | 100 |   57.458333 |    82.00 | 23 |\n",
       "| 30 | 44 | 7 | 22 | 62101 | 1 | 41.80747 | -71.41297 | 2022 | 4 | 24 | 100 |   24.166667 |    33.00 | 14 |\n",
       "| ⋮ | ⋮ | ⋮ | ⋮ | ⋮ | ⋮ | ⋮ | ⋮ | ⋮ | ⋮ | ⋮ | ⋮ | ⋮ | ⋮ | ⋮ |\n",
       "| 71 | 44 | 7 | 22 | 81102 | 1 | 41.80747 | -71.41297 | 2022 | 5 |  1 | 100 |     9.000 | 9.00e+00 | 0 |\n",
       "| 72 | 44 | 7 | 22 | 81102 | 2 | 41.80747 | -71.41297 | 2022 | 5 |  1 | 100 |    10.000 | 1.00e+01 | 0 |\n",
       "| 73 | 44 | 7 | 22 | 45203 | 2 | 41.80747 | -71.41297 | 2022 | 5 |  1 | 100 |     0.400 | 4.00e-01 | 0 |\n",
       "| 74 | 44 | 7 | 22 | 43502 | 7 | 41.80747 | -71.41297 | 2022 | 5 |  1 | 100 |     1.100 | 1.10e+00 | 0 |\n",
       "| 75 | 44 | 7 | 22 | 43503 | 7 | 41.80747 | -71.41297 | 2022 | 5 |  1 | 100 |     1.000 | 1.00e+00 | 0 |\n",
       "| 76 | 44 | 7 | 22 | 43551 | 7 | 41.80747 | -71.41297 | 2022 | 5 |  1 | 100 |     4.200 | 4.20e+00 | 0 |\n",
       "| 77 | 44 | 7 | 22 | 82110 | 2 | 41.80747 | -71.41297 | 2022 | 5 |  1 | 100 |     0.250 | 2.50e-01 | 0 |\n",
       "| 78 | 44 | 7 | 22 | 82103 | 1 | 41.80747 | -71.41297 | 2022 | 5 |  1 | 100 |     0.460 | 4.60e-01 | 0 |\n",
       "| 79 | 44 | 7 | 22 | 17243 | 6 | 41.80747 | -71.41297 | 2022 | 5 |  1 | 100 |     0.136 | 1.36e-01 | 0 |\n",
       "| 80 | 44 | 7 | 22 | 82105 | 2 | 41.80747 | -71.41297 | 2022 | 5 |  1 | 100 |     0.000 | 0.00e+00 | 0 |\n",
       "| 81 | 44 | 7 | 22 | 82112 | 2 | 41.80747 | -71.41297 | 2022 | 5 |  1 | 100 |     1.710 | 1.71e+00 | 0 |\n",
       "| 82 | 44 | 7 | 22 | 82132 | 2 | 41.80747 | -71.41297 | 2022 | 5 |  1 | 100 |     1.690 | 1.69e+00 | 0 |\n",
       "| 83 | 44 | 7 | 22 | 43551 | 5 | 41.80747 | -71.41297 | 2022 | 5 |  1 | 100 |     3.800 | 3.80e+00 | 0 |\n",
       "| 84 | 44 | 7 | 22 | 17220 | 6 | 41.80747 | -71.41297 | 2022 | 5 |  1 | 100 |     0.153 | 1.53e-01 | 0 |\n",
       "| 85 | 44 | 7 | 22 | 17223 | 6 | 41.80747 | -71.41297 | 2022 | 5 |  1 | 100 |     0.041 | 4.10e-02 | 0 |\n",
       "| 86 | 44 | 7 | 22 | 17237 | 6 | 41.80747 | -71.41297 | 2022 | 5 |  1 | 100 |     0.102 | 1.02e-01 | 0 |\n",
       "| 87 | 44 | 7 | 22 | 17231 | 6 | 41.80747 | -71.41297 | 2022 | 5 |  1 | 100 |     0.000 | 0.00e+00 | 0 |\n",
       "| 88 | 44 | 7 | 22 | 17242 | 6 | 41.80747 | -71.41297 | 2022 | 5 |  1 | 100 |     0.034 | 3.40e-02 | 0 |\n",
       "| 89 | 44 | 7 | 22 | 17201 | 6 | 41.80747 | -71.41297 | 2022 | 5 |  1 | 100 |     1.040 | 1.04e+00 | 0 |\n",
       "| 90 | 44 | 7 | 22 | 17211 | 6 | 41.80747 | -71.41297 | 2022 | 5 |  1 | 100 |     0.111 | 1.11e-01 | 0 |\n",
       "| 91 | 44 | 7 | 22 | 17215 | 6 | 41.80747 | -71.41297 | 2022 | 5 |  1 | 100 |     0.044 | 4.40e-02 | 0 |\n",
       "| 92 | 44 | 7 | 22 | 17212 | 6 | 41.80747 | -71.41297 | 2022 | 5 |  1 | 100 |     0.000 | 0.00e+00 | 0 |\n",
       "| 93 | 44 | 7 | 22 | 17224 | 6 | 41.80747 | -71.41297 | 2022 | 5 |  1 | 100 |     0.074 | 7.40e-02 | 0 |\n",
       "| 94 | 44 | 7 | 22 | 17141 | 6 | 41.80747 | -71.41297 | 2022 | 5 |  1 | 100 |    39.700 | 3.97e+01 | 0 |\n",
       "| 95 | 44 | 7 | 22 | 17147 | 6 | 41.80747 | -71.41297 | 2022 | 5 |  1 | 100 |     0.000 | 0.00e+00 | 0 |\n",
       "| 96 | 44 | 7 | 22 | 17149 | 6 | 41.80747 | -71.41297 | 2022 | 5 |  1 | 100 |     1.130 | 1.13e+00 | 0 |\n",
       "| 97 | 44 | 7 | 22 | 17204 | 6 | 41.80747 | -71.41297 | 2022 | 5 |  1 | 100 |     0.845 | 8.45e-01 | 0 |\n",
       "| 98 | 44 | 7 | 22 | 17151 | 6 | 41.80747 | -71.41297 | 2022 | 5 |  1 | 100 |     0.211 | 2.11e-01 | 0 |\n",
       "| 99 | 44 | 7 | 22 | 17150 | 6 | 41.80747 | -71.41297 | 2022 | 5 |  1 | 100 |     3.910 | 3.91e+00 | 0 |\n",
       "| 100 | 44 | 7 | 22 | 87101 | 1 | 41.80747 | -71.41297 | 2022 | 5 | 24 | 100 | 12847.583 | 3.38e+04 | 6 |\n",
       "\n"
      ],
      "text/plain": [
       "    State.Code County.Code Site.Number Parameter.Code POC Latitude Longitude\n",
       "1   44         7           22          87101          1   41.80747 -71.41297\n",
       "2   44         7           22          61107          1   41.80747 -71.41297\n",
       "3   44         7           22          62101          1   41.80747 -71.41297\n",
       "4   44         7           22          61104          1   41.80747 -71.41297\n",
       "5   44         7           22          84313          1   41.80747 -71.41297\n",
       "6   44         7           22          88101          3   41.80747 -71.41297\n",
       "7   44         7           22          88101          3   41.80747 -71.41297\n",
       "8   44         7           22          88101          3   41.80747 -71.41297\n",
       "9   44         7           22          62201          1   41.80747 -71.41297\n",
       "10  44         7           22          84313          1   41.80747 -71.41297\n",
       "11  44         7           22          61104          1   41.80747 -71.41297\n",
       "12  44         7           22          62201          1   41.80747 -71.41297\n",
       "13  44         7           22          62101          1   41.80747 -71.41297\n",
       "14  44         7           22          61107          1   41.80747 -71.41297\n",
       "15  44         7           22          88101          3   41.80747 -71.41297\n",
       "16  44         7           22          88101          3   41.80747 -71.41297\n",
       "17  44         7           22          87101          1   41.80747 -71.41297\n",
       "18  44         7           22          88101          3   41.80747 -71.41297\n",
       "19  44         7           22          61104          1   41.80747 -71.41297\n",
       "20  44         7           22          88101          3   41.80747 -71.41297\n",
       "21  44         7           22          88101          3   41.80747 -71.41297\n",
       "22  44         7           22          88101          3   41.80747 -71.41297\n",
       "23  44         7           22          61107          1   41.80747 -71.41297\n",
       "24  44         7           22          84313          1   41.80747 -71.41297\n",
       "25  44         7           22          62101          1   41.80747 -71.41297\n",
       "26  44         7           22          62201          1   41.80747 -71.41297\n",
       "27  44         7           22          87101          1   41.80747 -71.41297\n",
       "28  44         7           22          88101          3   41.80747 -71.41297\n",
       "29  44         7           22          62201          1   41.80747 -71.41297\n",
       "30  44         7           22          62101          1   41.80747 -71.41297\n",
       "⋮   ⋮          ⋮           ⋮           ⋮              ⋮   ⋮        ⋮        \n",
       "71  44         7           22          81102          1   41.80747 -71.41297\n",
       "72  44         7           22          81102          2   41.80747 -71.41297\n",
       "73  44         7           22          45203          2   41.80747 -71.41297\n",
       "74  44         7           22          43502          7   41.80747 -71.41297\n",
       "75  44         7           22          43503          7   41.80747 -71.41297\n",
       "76  44         7           22          43551          7   41.80747 -71.41297\n",
       "77  44         7           22          82110          2   41.80747 -71.41297\n",
       "78  44         7           22          82103          1   41.80747 -71.41297\n",
       "79  44         7           22          17243          6   41.80747 -71.41297\n",
       "80  44         7           22          82105          2   41.80747 -71.41297\n",
       "81  44         7           22          82112          2   41.80747 -71.41297\n",
       "82  44         7           22          82132          2   41.80747 -71.41297\n",
       "83  44         7           22          43551          5   41.80747 -71.41297\n",
       "84  44         7           22          17220          6   41.80747 -71.41297\n",
       "85  44         7           22          17223          6   41.80747 -71.41297\n",
       "86  44         7           22          17237          6   41.80747 -71.41297\n",
       "87  44         7           22          17231          6   41.80747 -71.41297\n",
       "88  44         7           22          17242          6   41.80747 -71.41297\n",
       "89  44         7           22          17201          6   41.80747 -71.41297\n",
       "90  44         7           22          17211          6   41.80747 -71.41297\n",
       "91  44         7           22          17215          6   41.80747 -71.41297\n",
       "92  44         7           22          17212          6   41.80747 -71.41297\n",
       "93  44         7           22          17224          6   41.80747 -71.41297\n",
       "94  44         7           22          17141          6   41.80747 -71.41297\n",
       "95  44         7           22          17147          6   41.80747 -71.41297\n",
       "96  44         7           22          17149          6   41.80747 -71.41297\n",
       "97  44         7           22          17204          6   41.80747 -71.41297\n",
       "98  44         7           22          17151          6   41.80747 -71.41297\n",
       "99  44         7           22          17150          6   41.80747 -71.41297\n",
       "100 44         7           22          87101          1   41.80747 -71.41297\n",
       "    Year Day.In.Year..Local. Observation.Count Observation.Percent\n",
       "1   2022 1                   24                100                \n",
       "2   2022 1                   24                100                \n",
       "3   2022 1                   24                100                \n",
       "4   2022 1                   24                100                \n",
       "5   2022 1                   24                100                \n",
       "6   2022 1                    1                100                \n",
       "7   2022 1                    1                100                \n",
       "8   2022 1                   24                100                \n",
       "9   2022 1                   24                100                \n",
       "10  2022 2                   24                100                \n",
       "11  2022 2                   24                100                \n",
       "12  2022 2                   24                100                \n",
       "13  2022 2                   24                100                \n",
       "14  2022 2                   24                100                \n",
       "15  2022 2                    1                100                \n",
       "16  2022 2                   24                100                \n",
       "17  2022 2                   24                100                \n",
       "18  2022 2                    1                100                \n",
       "19  2022 3                   24                100                \n",
       "20  2022 3                    1                100                \n",
       "21  2022 3                    1                100                \n",
       "22  2022 3                   24                100                \n",
       "23  2022 3                   24                100                \n",
       "24  2022 3                   24                100                \n",
       "25  2022 3                   24                100                \n",
       "26  2022 3                   24                100                \n",
       "27  2022 3                   24                100                \n",
       "28  2022 4                    1                100                \n",
       "29  2022 4                   24                100                \n",
       "30  2022 4                   24                100                \n",
       "⋮   ⋮    ⋮                   ⋮                 ⋮                  \n",
       "71  2022 5                    1                100                \n",
       "72  2022 5                    1                100                \n",
       "73  2022 5                    1                100                \n",
       "74  2022 5                    1                100                \n",
       "75  2022 5                    1                100                \n",
       "76  2022 5                    1                100                \n",
       "77  2022 5                    1                100                \n",
       "78  2022 5                    1                100                \n",
       "79  2022 5                    1                100                \n",
       "80  2022 5                    1                100                \n",
       "81  2022 5                    1                100                \n",
       "82  2022 5                    1                100                \n",
       "83  2022 5                    1                100                \n",
       "84  2022 5                    1                100                \n",
       "85  2022 5                    1                100                \n",
       "86  2022 5                    1                100                \n",
       "87  2022 5                    1                100                \n",
       "88  2022 5                    1                100                \n",
       "89  2022 5                    1                100                \n",
       "90  2022 5                    1                100                \n",
       "91  2022 5                    1                100                \n",
       "92  2022 5                    1                100                \n",
       "93  2022 5                    1                100                \n",
       "94  2022 5                    1                100                \n",
       "95  2022 5                    1                100                \n",
       "96  2022 5                    1                100                \n",
       "97  2022 5                    1                100                \n",
       "98  2022 5                    1                100                \n",
       "99  2022 5                    1                100                \n",
       "100 2022 5                   24                100                \n",
       "    Arithmetic.Mean First.Maximum.Value First.Maximum.Hour\n",
       "1   7062.208333     14300.00            17                \n",
       "2     17.166667        25.00             7                \n",
       "3     48.958333        54.00            15                \n",
       "4    140.791667       195.00            15                \n",
       "5      0.458333         1.25             1                \n",
       "6      7.100000         7.10             0                \n",
       "7      7.100000         7.10             0                \n",
       "8      7.125000        38.00             0                \n",
       "9    100.000000       100.00             0                \n",
       "10     0.320833         0.56            13                \n",
       "11   197.208333       339.00            21                \n",
       "12    95.541667       100.00             0                \n",
       "13    46.458333        52.00            15                \n",
       "14    27.208333        43.00            20                \n",
       "15     3.100000         3.10             0                \n",
       "16     3.166667         7.00            16                \n",
       "17  4740.000000      9031.00            14                \n",
       "18     3.100000         3.10             0                \n",
       "19   172.250000       350.00             5                \n",
       "20     3.400000         3.40             0                \n",
       "21     3.400000         3.40             0                \n",
       "22     3.458333         6.00            22                \n",
       "23    37.750000        47.00            23                \n",
       "24     0.197917         0.33            15                \n",
       "25    27.666667        34.00             0                \n",
       "26    69.625000        85.00             1                \n",
       "27  8056.583333     12817.00            15                \n",
       "28     5.000000         5.00             0                \n",
       "29    57.458333        82.00            23                \n",
       "30    24.166667        33.00            14                \n",
       "⋮   ⋮               ⋮                   ⋮                 \n",
       "71      9.000       9.00e+00            0                 \n",
       "72     10.000       1.00e+01            0                 \n",
       "73      0.400       4.00e-01            0                 \n",
       "74      1.100       1.10e+00            0                 \n",
       "75      1.000       1.00e+00            0                 \n",
       "76      4.200       4.20e+00            0                 \n",
       "77      0.250       2.50e-01            0                 \n",
       "78      0.460       4.60e-01            0                 \n",
       "79      0.136       1.36e-01            0                 \n",
       "80      0.000       0.00e+00            0                 \n",
       "81      1.710       1.71e+00            0                 \n",
       "82      1.690       1.69e+00            0                 \n",
       "83      3.800       3.80e+00            0                 \n",
       "84      0.153       1.53e-01            0                 \n",
       "85      0.041       4.10e-02            0                 \n",
       "86      0.102       1.02e-01            0                 \n",
       "87      0.000       0.00e+00            0                 \n",
       "88      0.034       3.40e-02            0                 \n",
       "89      1.040       1.04e+00            0                 \n",
       "90      0.111       1.11e-01            0                 \n",
       "91      0.044       4.40e-02            0                 \n",
       "92      0.000       0.00e+00            0                 \n",
       "93      0.074       7.40e-02            0                 \n",
       "94     39.700       3.97e+01            0                 \n",
       "95      0.000       0.00e+00            0                 \n",
       "96      1.130       1.13e+00            0                 \n",
       "97      0.845       8.45e-01            0                 \n",
       "98      0.211       2.11e-01            0                 \n",
       "99      3.910       3.91e+00            0                 \n",
       "100 12847.583       3.38e+04            6                 "
      ]
     },
     "metadata": {},
     "output_type": "display_data"
    }
   ],
   "source": [
    "# Inspect Numerical Fields\n",
    "df_2022_01 %>%\n",
    "select_if(is.numeric) %>%\n",
    "head(100)"
   ]
  },
  {
   "cell_type": "code",
   "execution_count": 13,
   "metadata": {},
   "outputs": [
    {
     "data": {
      "text/html": [
       "<table class=\"dataframe\">\n",
       "<caption>A data.frame: 100 × 15</caption>\n",
       "<thead>\n",
       "\t<tr><th></th><th scope=col>Datum</th><th scope=col>Parameter.Name</th><th scope=col>Duration.Description</th><th scope=col>Pollutant.Standard</th><th scope=col>Date..Local.</th><th scope=col>Units.of.Measure</th><th scope=col>AQI</th><th scope=col>Daily.Criteria.Indicator</th><th scope=col>State.Name</th><th scope=col>County.Name</th><th scope=col>City.Name</th><th scope=col>Local.Site.Name</th><th scope=col>Address</th><th scope=col>MSA.or.CBSA.Name</th><th scope=col>Data.Source</th></tr>\n",
       "\t<tr><th></th><th scope=col>&lt;chr&gt;</th><th scope=col>&lt;chr&gt;</th><th scope=col>&lt;chr&gt;</th><th scope=col>&lt;chr&gt;</th><th scope=col>&lt;chr&gt;</th><th scope=col>&lt;chr&gt;</th><th scope=col>&lt;chr&gt;</th><th scope=col>&lt;chr&gt;</th><th scope=col>&lt;chr&gt;</th><th scope=col>&lt;chr&gt;</th><th scope=col>&lt;chr&gt;</th><th scope=col>&lt;chr&gt;</th><th scope=col>&lt;chr&gt;</th><th scope=col>&lt;chr&gt;</th><th scope=col>&lt;chr&gt;</th></tr>\n",
       "</thead>\n",
       "<tbody>\n",
       "\t<tr><th scope=row>1</th><td>NAD83</td><td>Particle Number, Total Count</td><td>1 HOUR       </td><td>                 </td><td>2022-01-01</td><td>Count per cm^3               </td><td>. </td><td>Y</td><td>Rhode Island</td><td>Providence</td><td>Providence</td><td>CCRI Liston Campus ROOFTOP</td><td>1 Hilton St, PROVIDENCE RI</td><td>Providence-Warwick, RI-MA</td><td>AQS Data Mart</td></tr>\n",
       "\t<tr><th scope=row>2</th><td>NAD83</td><td>Std Dev Vt Wind Direction   </td><td>1 HOUR       </td><td>                 </td><td>2022-01-01</td><td>Degrees Compass              </td><td>. </td><td>Y</td><td>Rhode Island</td><td>Providence</td><td>Providence</td><td>CCRI Liston Campus ROOFTOP</td><td>1 Hilton St, PROVIDENCE RI</td><td>Providence-Warwick, RI-MA</td><td>AQS Data Mart</td></tr>\n",
       "\t<tr><th scope=row>3</th><td>NAD83</td><td>Outdoor Temperature         </td><td>1 HOUR       </td><td>                 </td><td>2022-01-01</td><td>Degrees Fahrenheit           </td><td>. </td><td>Y</td><td>Rhode Island</td><td>Providence</td><td>Providence</td><td>CCRI Liston Campus ROOFTOP</td><td>1 Hilton St, PROVIDENCE RI</td><td>Providence-Warwick, RI-MA</td><td>AQS Data Mart</td></tr>\n",
       "\t<tr><th scope=row>4</th><td>NAD83</td><td>Wind Direction - Resultant  </td><td>1 HOUR       </td><td>                 </td><td>2022-01-01</td><td>Degrees Compass              </td><td>. </td><td>Y</td><td>Rhode Island</td><td>Providence</td><td>Providence</td><td>CCRI Liston Campus ROOFTOP</td><td>1 Hilton St, PROVIDENCE RI</td><td>Providence-Warwick, RI-MA</td><td>AQS Data Mart</td></tr>\n",
       "\t<tr><th scope=row>5</th><td>NAD83</td><td>Black carbon PM2.5 STP      </td><td>1 HOUR       </td><td>                 </td><td>2022-01-01</td><td>Micrograms/cubic meter (25 C)</td><td>. </td><td>Y</td><td>Rhode Island</td><td>Providence</td><td>Providence</td><td>CCRI Liston Campus ROOFTOP</td><td>1 Hilton St, PROVIDENCE RI</td><td>Providence-Warwick, RI-MA</td><td>AQS Data Mart</td></tr>\n",
       "\t<tr><th scope=row>6</th><td>NAD83</td><td>PM2.5 - Local Conditions    </td><td>24-HR BLK AVG</td><td>PM25 Annual 2012 </td><td>2022-01-01</td><td>Micrograms/cubic meter (LC)  </td><td>30</td><td>Y</td><td>Rhode Island</td><td>Providence</td><td>Providence</td><td>CCRI Liston Campus ROOFTOP</td><td>1 Hilton St, PROVIDENCE RI</td><td>Providence-Warwick, RI-MA</td><td>AQS Data Mart</td></tr>\n",
       "\t<tr><th scope=row>7</th><td>NAD83</td><td>PM2.5 - Local Conditions    </td><td>24-HR BLK AVG</td><td>PM25 24-hour 2012</td><td>2022-01-01</td><td>Micrograms/cubic meter (LC)  </td><td>30</td><td>Y</td><td>Rhode Island</td><td>Providence</td><td>Providence</td><td>CCRI Liston Campus ROOFTOP</td><td>1 Hilton St, PROVIDENCE RI</td><td>Providence-Warwick, RI-MA</td><td>AQS Data Mart</td></tr>\n",
       "\t<tr><th scope=row>8</th><td>NAD83</td><td>PM2.5 - Local Conditions    </td><td>1 HOUR       </td><td>                 </td><td>2022-01-01</td><td>Micrograms/cubic meter (LC)  </td><td>. </td><td>Y</td><td>Rhode Island</td><td>Providence</td><td>Providence</td><td>CCRI Liston Campus ROOFTOP</td><td>1 Hilton St, PROVIDENCE RI</td><td>Providence-Warwick, RI-MA</td><td>AQS Data Mart</td></tr>\n",
       "\t<tr><th scope=row>9</th><td>NAD83</td><td>Relative Humidity           </td><td>1 HOUR       </td><td>                 </td><td>2022-01-01</td><td>Percent relative humidity    </td><td>. </td><td>Y</td><td>Rhode Island</td><td>Providence</td><td>Providence</td><td>CCRI Liston Campus ROOFTOP</td><td>1 Hilton St, PROVIDENCE RI</td><td>Providence-Warwick, RI-MA</td><td>AQS Data Mart</td></tr>\n",
       "\t<tr><th scope=row>10</th><td>NAD83</td><td>Black carbon PM2.5 STP      </td><td>1 HOUR       </td><td>                 </td><td>2022-01-02</td><td>Micrograms/cubic meter (25 C)</td><td>. </td><td>Y</td><td>Rhode Island</td><td>Providence</td><td>Providence</td><td>CCRI Liston Campus ROOFTOP</td><td>1 Hilton St, PROVIDENCE RI</td><td>Providence-Warwick, RI-MA</td><td>AQS Data Mart</td></tr>\n",
       "\t<tr><th scope=row>11</th><td>NAD83</td><td>Wind Direction - Resultant  </td><td>1 HOUR       </td><td>                 </td><td>2022-01-02</td><td>Degrees Compass              </td><td>. </td><td>Y</td><td>Rhode Island</td><td>Providence</td><td>Providence</td><td>CCRI Liston Campus ROOFTOP</td><td>1 Hilton St, PROVIDENCE RI</td><td>Providence-Warwick, RI-MA</td><td>AQS Data Mart</td></tr>\n",
       "\t<tr><th scope=row>12</th><td>NAD83</td><td>Relative Humidity           </td><td>1 HOUR       </td><td>                 </td><td>2022-01-02</td><td>Percent relative humidity    </td><td>. </td><td>Y</td><td>Rhode Island</td><td>Providence</td><td>Providence</td><td>CCRI Liston Campus ROOFTOP</td><td>1 Hilton St, PROVIDENCE RI</td><td>Providence-Warwick, RI-MA</td><td>AQS Data Mart</td></tr>\n",
       "\t<tr><th scope=row>13</th><td>NAD83</td><td>Outdoor Temperature         </td><td>1 HOUR       </td><td>                 </td><td>2022-01-02</td><td>Degrees Fahrenheit           </td><td>. </td><td>Y</td><td>Rhode Island</td><td>Providence</td><td>Providence</td><td>CCRI Liston Campus ROOFTOP</td><td>1 Hilton St, PROVIDENCE RI</td><td>Providence-Warwick, RI-MA</td><td>AQS Data Mart</td></tr>\n",
       "\t<tr><th scope=row>14</th><td>NAD83</td><td>Std Dev Vt Wind Direction   </td><td>1 HOUR       </td><td>                 </td><td>2022-01-02</td><td>Degrees Compass              </td><td>. </td><td>Y</td><td>Rhode Island</td><td>Providence</td><td>Providence</td><td>CCRI Liston Campus ROOFTOP</td><td>1 Hilton St, PROVIDENCE RI</td><td>Providence-Warwick, RI-MA</td><td>AQS Data Mart</td></tr>\n",
       "\t<tr><th scope=row>15</th><td>NAD83</td><td>PM2.5 - Local Conditions    </td><td>24-HR BLK AVG</td><td>PM25 24-hour 2012</td><td>2022-01-02</td><td>Micrograms/cubic meter (LC)  </td><td>13</td><td>Y</td><td>Rhode Island</td><td>Providence</td><td>Providence</td><td>CCRI Liston Campus ROOFTOP</td><td>1 Hilton St, PROVIDENCE RI</td><td>Providence-Warwick, RI-MA</td><td>AQS Data Mart</td></tr>\n",
       "\t<tr><th scope=row>16</th><td>NAD83</td><td>PM2.5 - Local Conditions    </td><td>1 HOUR       </td><td>                 </td><td>2022-01-02</td><td>Micrograms/cubic meter (LC)  </td><td>. </td><td>Y</td><td>Rhode Island</td><td>Providence</td><td>Providence</td><td>CCRI Liston Campus ROOFTOP</td><td>1 Hilton St, PROVIDENCE RI</td><td>Providence-Warwick, RI-MA</td><td>AQS Data Mart</td></tr>\n",
       "\t<tr><th scope=row>17</th><td>NAD83</td><td>Particle Number, Total Count</td><td>1 HOUR       </td><td>                 </td><td>2022-01-02</td><td>Count per cm^3               </td><td>. </td><td>Y</td><td>Rhode Island</td><td>Providence</td><td>Providence</td><td>CCRI Liston Campus ROOFTOP</td><td>1 Hilton St, PROVIDENCE RI</td><td>Providence-Warwick, RI-MA</td><td>AQS Data Mart</td></tr>\n",
       "\t<tr><th scope=row>18</th><td>NAD83</td><td>PM2.5 - Local Conditions    </td><td>24-HR BLK AVG</td><td>PM25 Annual 2012 </td><td>2022-01-02</td><td>Micrograms/cubic meter (LC)  </td><td>13</td><td>Y</td><td>Rhode Island</td><td>Providence</td><td>Providence</td><td>CCRI Liston Campus ROOFTOP</td><td>1 Hilton St, PROVIDENCE RI</td><td>Providence-Warwick, RI-MA</td><td>AQS Data Mart</td></tr>\n",
       "\t<tr><th scope=row>19</th><td>NAD83</td><td>Wind Direction - Resultant  </td><td>1 HOUR       </td><td>                 </td><td>2022-01-03</td><td>Degrees Compass              </td><td>. </td><td>Y</td><td>Rhode Island</td><td>Providence</td><td>Providence</td><td>CCRI Liston Campus ROOFTOP</td><td>1 Hilton St, PROVIDENCE RI</td><td>Providence-Warwick, RI-MA</td><td>AQS Data Mart</td></tr>\n",
       "\t<tr><th scope=row>20</th><td>NAD83</td><td>PM2.5 - Local Conditions    </td><td>24-HR BLK AVG</td><td>PM25 Annual 2012 </td><td>2022-01-03</td><td>Micrograms/cubic meter (LC)  </td><td>14</td><td>Y</td><td>Rhode Island</td><td>Providence</td><td>Providence</td><td>CCRI Liston Campus ROOFTOP</td><td>1 Hilton St, PROVIDENCE RI</td><td>Providence-Warwick, RI-MA</td><td>AQS Data Mart</td></tr>\n",
       "\t<tr><th scope=row>21</th><td>NAD83</td><td>PM2.5 - Local Conditions    </td><td>24-HR BLK AVG</td><td>PM25 24-hour 2012</td><td>2022-01-03</td><td>Micrograms/cubic meter (LC)  </td><td>14</td><td>Y</td><td>Rhode Island</td><td>Providence</td><td>Providence</td><td>CCRI Liston Campus ROOFTOP</td><td>1 Hilton St, PROVIDENCE RI</td><td>Providence-Warwick, RI-MA</td><td>AQS Data Mart</td></tr>\n",
       "\t<tr><th scope=row>22</th><td>NAD83</td><td>PM2.5 - Local Conditions    </td><td>1 HOUR       </td><td>                 </td><td>2022-01-03</td><td>Micrograms/cubic meter (LC)  </td><td>. </td><td>Y</td><td>Rhode Island</td><td>Providence</td><td>Providence</td><td>CCRI Liston Campus ROOFTOP</td><td>1 Hilton St, PROVIDENCE RI</td><td>Providence-Warwick, RI-MA</td><td>AQS Data Mart</td></tr>\n",
       "\t<tr><th scope=row>23</th><td>NAD83</td><td>Std Dev Vt Wind Direction   </td><td>1 HOUR       </td><td>                 </td><td>2022-01-03</td><td>Degrees Compass              </td><td>. </td><td>Y</td><td>Rhode Island</td><td>Providence</td><td>Providence</td><td>CCRI Liston Campus ROOFTOP</td><td>1 Hilton St, PROVIDENCE RI</td><td>Providence-Warwick, RI-MA</td><td>AQS Data Mart</td></tr>\n",
       "\t<tr><th scope=row>24</th><td>NAD83</td><td>Black carbon PM2.5 STP      </td><td>1 HOUR       </td><td>                 </td><td>2022-01-03</td><td>Micrograms/cubic meter (25 C)</td><td>. </td><td>Y</td><td>Rhode Island</td><td>Providence</td><td>Providence</td><td>CCRI Liston Campus ROOFTOP</td><td>1 Hilton St, PROVIDENCE RI</td><td>Providence-Warwick, RI-MA</td><td>AQS Data Mart</td></tr>\n",
       "\t<tr><th scope=row>25</th><td>NAD83</td><td>Outdoor Temperature         </td><td>1 HOUR       </td><td>                 </td><td>2022-01-03</td><td>Degrees Fahrenheit           </td><td>. </td><td>Y</td><td>Rhode Island</td><td>Providence</td><td>Providence</td><td>CCRI Liston Campus ROOFTOP</td><td>1 Hilton St, PROVIDENCE RI</td><td>Providence-Warwick, RI-MA</td><td>AQS Data Mart</td></tr>\n",
       "\t<tr><th scope=row>26</th><td>NAD83</td><td>Relative Humidity           </td><td>1 HOUR       </td><td>                 </td><td>2022-01-03</td><td>Percent relative humidity    </td><td>. </td><td>Y</td><td>Rhode Island</td><td>Providence</td><td>Providence</td><td>CCRI Liston Campus ROOFTOP</td><td>1 Hilton St, PROVIDENCE RI</td><td>Providence-Warwick, RI-MA</td><td>AQS Data Mart</td></tr>\n",
       "\t<tr><th scope=row>27</th><td>NAD83</td><td>Particle Number, Total Count</td><td>1 HOUR       </td><td>                 </td><td>2022-01-03</td><td>Count per cm^3               </td><td>. </td><td>Y</td><td>Rhode Island</td><td>Providence</td><td>Providence</td><td>CCRI Liston Campus ROOFTOP</td><td>1 Hilton St, PROVIDENCE RI</td><td>Providence-Warwick, RI-MA</td><td>AQS Data Mart</td></tr>\n",
       "\t<tr><th scope=row>28</th><td>NAD83</td><td>PM2.5 - Local Conditions    </td><td>24-HR BLK AVG</td><td>PM25 24-hour 2012</td><td>2022-01-04</td><td>Micrograms/cubic meter (LC)  </td><td>21</td><td>Y</td><td>Rhode Island</td><td>Providence</td><td>Providence</td><td>CCRI Liston Campus ROOFTOP</td><td>1 Hilton St, PROVIDENCE RI</td><td>Providence-Warwick, RI-MA</td><td>AQS Data Mart</td></tr>\n",
       "\t<tr><th scope=row>29</th><td>NAD83</td><td>Relative Humidity           </td><td>1 HOUR       </td><td>                 </td><td>2022-01-04</td><td>Percent relative humidity    </td><td>. </td><td>Y</td><td>Rhode Island</td><td>Providence</td><td>Providence</td><td>CCRI Liston Campus ROOFTOP</td><td>1 Hilton St, PROVIDENCE RI</td><td>Providence-Warwick, RI-MA</td><td>AQS Data Mart</td></tr>\n",
       "\t<tr><th scope=row>30</th><td>NAD83</td><td>Outdoor Temperature         </td><td>1 HOUR       </td><td>                 </td><td>2022-01-04</td><td>Degrees Fahrenheit           </td><td>. </td><td>Y</td><td>Rhode Island</td><td>Providence</td><td>Providence</td><td>CCRI Liston Campus ROOFTOP</td><td>1 Hilton St, PROVIDENCE RI</td><td>Providence-Warwick, RI-MA</td><td>AQS Data Mart</td></tr>\n",
       "\t<tr><th scope=row>⋮</th><td>⋮</td><td>⋮</td><td>⋮</td><td>⋮</td><td>⋮</td><td>⋮</td><td>⋮</td><td>⋮</td><td>⋮</td><td>⋮</td><td>⋮</td><td>⋮</td><td>⋮</td><td>⋮</td><td>⋮</td></tr>\n",
       "\t<tr><th scope=row>71</th><td>NAD83</td><td>PM10 Total 0-10um STP           </td><td>24 HOUR</td><td>PM10 24-hour 2006</td><td>2022-01-05</td><td>Micrograms/cubic meter (25 C)</td><td>8</td><td>Y</td><td>Rhode Island</td><td>Providence</td><td>Providence</td><td>CCRI Liston Campus ROOFTOP</td><td>1 Hilton St, PROVIDENCE RI</td><td>Providence-Warwick, RI-MA</td><td>AQS Data Mart</td></tr>\n",
       "\t<tr><th scope=row>72</th><td>NAD83</td><td>PM10 Total 0-10um STP           </td><td>24 HOUR</td><td>PM10 24-hour 2006</td><td>2022-01-05</td><td>Micrograms/cubic meter (25 C)</td><td>9</td><td>Y</td><td>Rhode Island</td><td>Providence</td><td>Providence</td><td>CCRI Liston Campus ROOFTOP</td><td>1 Hilton St, PROVIDENCE RI</td><td>Providence-Warwick, RI-MA</td><td>AQS Data Mart</td></tr>\n",
       "\t<tr><th scope=row>73</th><td>NAD83</td><td>Ethylbenzene                    </td><td>24 HOUR</td><td>                 </td><td>2022-01-05</td><td>Parts per billion Carbon     </td><td>.</td><td>Y</td><td>Rhode Island</td><td>Providence</td><td>Providence</td><td>CCRI Liston Campus ROOFTOP</td><td>1 Hilton St, PROVIDENCE RI</td><td>Providence-Warwick, RI-MA</td><td>AQS Data Mart</td></tr>\n",
       "\t<tr><th scope=row>74</th><td>NAD83</td><td>Formaldehyde                    </td><td>24 HOUR</td><td>                 </td><td>2022-01-05</td><td>Parts per billion Carbon     </td><td>.</td><td>Y</td><td>Rhode Island</td><td>Providence</td><td>Providence</td><td>CCRI Liston Campus ROOFTOP</td><td>1 Hilton St, PROVIDENCE RI</td><td>Providence-Warwick, RI-MA</td><td>AQS Data Mart</td></tr>\n",
       "\t<tr><th scope=row>75</th><td>NAD83</td><td>Acetaldehyde                    </td><td>24 HOUR</td><td>                 </td><td>2022-01-05</td><td>Parts per billion Carbon     </td><td>.</td><td>Y</td><td>Rhode Island</td><td>Providence</td><td>Providence</td><td>CCRI Liston Campus ROOFTOP</td><td>1 Hilton St, PROVIDENCE RI</td><td>Providence-Warwick, RI-MA</td><td>AQS Data Mart</td></tr>\n",
       "\t<tr><th scope=row>76</th><td>NAD83</td><td>Acetone                         </td><td>24 HOUR</td><td>                 </td><td>2022-01-05</td><td>Parts per billion Carbon     </td><td>.</td><td>Y</td><td>Rhode Island</td><td>Providence</td><td>Providence</td><td>CCRI Liston Campus ROOFTOP</td><td>1 Hilton St, PROVIDENCE RI</td><td>Providence-Warwick, RI-MA</td><td>AQS Data Mart</td></tr>\n",
       "\t<tr><th scope=row>77</th><td>NAD83</td><td>Cadmium PM10 STP                </td><td>24 HOUR</td><td>                 </td><td>2022-01-05</td><td>Nanograms/cubic meter (25 C) </td><td>.</td><td>Y</td><td>Rhode Island</td><td>Providence</td><td>Providence</td><td>CCRI Liston Campus ROOFTOP</td><td>1 Hilton St, PROVIDENCE RI</td><td>Providence-Warwick, RI-MA</td><td>AQS Data Mart</td></tr>\n",
       "\t<tr><th scope=row>78</th><td>NAD83</td><td>Arsenic PM10 STP                </td><td>24 HOUR</td><td>                 </td><td>2022-01-05</td><td>Nanograms/cubic meter (25 C) </td><td>.</td><td>Y</td><td>Rhode Island</td><td>Providence</td><td>Providence</td><td>CCRI Liston Campus ROOFTOP</td><td>1 Hilton St, PROVIDENCE RI</td><td>Providence-Warwick, RI-MA</td><td>AQS Data Mart</td></tr>\n",
       "\t<tr><th scope=row>79</th><td>NAD83</td><td>Indeno[1,2,3-cd]pyrene (TSP) STP</td><td>24 HOUR</td><td>                 </td><td>2022-01-05</td><td>Nanograms/cubic meter (25 C) </td><td>.</td><td>Y</td><td>Rhode Island</td><td>Providence</td><td>Providence</td><td>CCRI Liston Campus ROOFTOP</td><td>1 Hilton St, PROVIDENCE RI</td><td>Providence-Warwick, RI-MA</td><td>AQS Data Mart</td></tr>\n",
       "\t<tr><th scope=row>80</th><td>NAD83</td><td>Beryllium PM10 STP              </td><td>24 HOUR</td><td>                 </td><td>2022-01-05</td><td>Nanograms/cubic meter (25 C) </td><td>.</td><td>Y</td><td>Rhode Island</td><td>Providence</td><td>Providence</td><td>CCRI Liston Campus ROOFTOP</td><td>1 Hilton St, PROVIDENCE RI</td><td>Providence-Warwick, RI-MA</td><td>AQS Data Mart</td></tr>\n",
       "\t<tr><th scope=row>81</th><td>NAD83</td><td>Chromium PM10 STP               </td><td>24 HOUR</td><td>                 </td><td>2022-01-05</td><td>Nanograms/cubic meter (25 C) </td><td>.</td><td>Y</td><td>Rhode Island</td><td>Providence</td><td>Providence</td><td>CCRI Liston Campus ROOFTOP</td><td>1 Hilton St, PROVIDENCE RI</td><td>Providence-Warwick, RI-MA</td><td>AQS Data Mart</td></tr>\n",
       "\t<tr><th scope=row>82</th><td>NAD83</td><td>Manganese PM10 STP              </td><td>24 HOUR</td><td>                 </td><td>2022-01-05</td><td>Nanograms/cubic meter (25 C) </td><td>.</td><td>Y</td><td>Rhode Island</td><td>Providence</td><td>Providence</td><td>CCRI Liston Campus ROOFTOP</td><td>1 Hilton St, PROVIDENCE RI</td><td>Providence-Warwick, RI-MA</td><td>AQS Data Mart</td></tr>\n",
       "\t<tr><th scope=row>83</th><td>NAD83</td><td>Acetone                         </td><td>24 HOUR</td><td>                 </td><td>2022-01-05</td><td>Parts per billion Carbon     </td><td>.</td><td>Y</td><td>Rhode Island</td><td>Providence</td><td>Providence</td><td>CCRI Liston Campus ROOFTOP</td><td>1 Hilton St, PROVIDENCE RI</td><td>Providence-Warwick, RI-MA</td><td>AQS Data Mart</td></tr>\n",
       "\t<tr><th scope=row>84</th><td>NAD83</td><td>Benzo[b]fluoranthene (TSP) STP  </td><td>24 HOUR</td><td>                 </td><td>2022-01-05</td><td>Nanograms/cubic meter (25 C) </td><td>.</td><td>Y</td><td>Rhode Island</td><td>Providence</td><td>Providence</td><td>CCRI Liston Campus ROOFTOP</td><td>1 Hilton St, PROVIDENCE RI</td><td>Providence-Warwick, RI-MA</td><td>AQS Data Mart</td></tr>\n",
       "\t<tr><th scope=row>85</th><td>NAD83</td><td>Benzo[k]fluoranthene (TSP) STP  </td><td>24 HOUR</td><td>                 </td><td>2022-01-05</td><td>Nanograms/cubic meter (25 C) </td><td>.</td><td>Y</td><td>Rhode Island</td><td>Providence</td><td>Providence</td><td>CCRI Liston Campus ROOFTOP</td><td>1 Hilton St, PROVIDENCE RI</td><td>Providence-Warwick, RI-MA</td><td>AQS Data Mart</td></tr>\n",
       "\t<tr><th scope=row>86</th><td>NAD83</td><td>Benzo[g,h,i]perylene (TSP) STP  </td><td>24 HOUR</td><td>                 </td><td>2022-01-05</td><td>Nanograms/cubic meter (25 C) </td><td>.</td><td>Y</td><td>Rhode Island</td><td>Providence</td><td>Providence</td><td>CCRI Liston Campus ROOFTOP</td><td>1 Hilton St, PROVIDENCE RI</td><td>Providence-Warwick, RI-MA</td><td>AQS Data Mart</td></tr>\n",
       "\t<tr><th scope=row>87</th><td>NAD83</td><td>Dibenzo[a,h]anthracene (TSP) STP</td><td>24 HOUR</td><td>                 </td><td>2022-01-05</td><td>Nanograms/cubic meter (25 C) </td><td>.</td><td>Y</td><td>Rhode Island</td><td>Providence</td><td>Providence</td><td>CCRI Liston Campus ROOFTOP</td><td>1 Hilton St, PROVIDENCE RI</td><td>Providence-Warwick, RI-MA</td><td>AQS Data Mart</td></tr>\n",
       "\t<tr><th scope=row>88</th><td>NAD83</td><td>Benzo[a]pyrene (TSP) STP        </td><td>24 HOUR</td><td>                 </td><td>2022-01-05</td><td>Nanograms/cubic meter (25 C) </td><td>.</td><td>Y</td><td>Rhode Island</td><td>Providence</td><td>Providence</td><td>CCRI Liston Campus ROOFTOP</td><td>1 Hilton St, PROVIDENCE RI</td><td>Providence-Warwick, RI-MA</td><td>AQS Data Mart</td></tr>\n",
       "\t<tr><th scope=row>89</th><td>NAD83</td><td>Fluoranthene (TSP) STP          </td><td>24 HOUR</td><td>                 </td><td>2022-01-05</td><td>Nanograms/cubic meter (25 C) </td><td>.</td><td>Y</td><td>Rhode Island</td><td>Providence</td><td>Providence</td><td>CCRI Liston Campus ROOFTOP</td><td>1 Hilton St, PROVIDENCE RI</td><td>Providence-Warwick, RI-MA</td><td>AQS Data Mart</td></tr>\n",
       "\t<tr><th scope=row>90</th><td>NAD83</td><td>Coronene (TSP) STP              </td><td>24 HOUR</td><td>                 </td><td>2022-01-05</td><td>Nanograms/cubic meter (25 C) </td><td>.</td><td>Y</td><td>Rhode Island</td><td>Providence</td><td>Providence</td><td>CCRI Liston Campus ROOFTOP</td><td>1 Hilton St, PROVIDENCE RI</td><td>Providence-Warwick, RI-MA</td><td>AQS Data Mart</td></tr>\n",
       "\t<tr><th scope=row>91</th><td>NAD83</td><td>Benzo[a]anthracene (TSP) STP    </td><td>24 HOUR</td><td>                 </td><td>2022-01-05</td><td>Nanograms/cubic meter (25 C) </td><td>.</td><td>Y</td><td>Rhode Island</td><td>Providence</td><td>Providence</td><td>CCRI Liston Campus ROOFTOP</td><td>1 Hilton St, PROVIDENCE RI</td><td>Providence-Warwick, RI-MA</td><td>AQS Data Mart</td></tr>\n",
       "\t<tr><th scope=row>92</th><td>NAD83</td><td>Perylene (TSP) STP              </td><td>24 HOUR</td><td>                 </td><td>2022-01-05</td><td>Nanograms/cubic meter (25 C) </td><td>.</td><td>Y</td><td>Rhode Island</td><td>Providence</td><td>Providence</td><td>CCRI Liston Campus ROOFTOP</td><td>1 Hilton St, PROVIDENCE RI</td><td>Providence-Warwick, RI-MA</td><td>AQS Data Mart</td></tr>\n",
       "\t<tr><th scope=row>93</th><td>NAD83</td><td>Benzo[e]pyrene (TSP) STP        </td><td>24 HOUR</td><td>                 </td><td>2022-01-05</td><td>Nanograms/cubic meter (25 C) </td><td>.</td><td>Y</td><td>Rhode Island</td><td>Providence</td><td>Providence</td><td>CCRI Liston Campus ROOFTOP</td><td>1 Hilton St, PROVIDENCE RI</td><td>Providence-Warwick, RI-MA</td><td>AQS Data Mart</td></tr>\n",
       "\t<tr><th scope=row>94</th><td>NAD83</td><td>Naphthalene (TSP) STP           </td><td>24 HOUR</td><td>                 </td><td>2022-01-05</td><td>Nanograms/cubic meter (25 C) </td><td>.</td><td>Y</td><td>Rhode Island</td><td>Providence</td><td>Providence</td><td>CCRI Liston Campus ROOFTOP</td><td>1 Hilton St, PROVIDENCE RI</td><td>Providence-Warwick, RI-MA</td><td>AQS Data Mart</td></tr>\n",
       "\t<tr><th scope=row>95</th><td>NAD83</td><td>Acenaphthene (TSP) STP          </td><td>24 HOUR</td><td>                 </td><td>2022-01-05</td><td>Nanograms/cubic meter (25 C) </td><td>.</td><td>Y</td><td>Rhode Island</td><td>Providence</td><td>Providence</td><td>CCRI Liston Campus ROOFTOP</td><td>1 Hilton St, PROVIDENCE RI</td><td>Providence-Warwick, RI-MA</td><td>AQS Data Mart</td></tr>\n",
       "\t<tr><th scope=row>96</th><td>NAD83</td><td>Fluorene (TSP) STP              </td><td>24 HOUR</td><td>                 </td><td>2022-01-05</td><td>Nanograms/cubic meter (25 C) </td><td>.</td><td>Y</td><td>Rhode Island</td><td>Providence</td><td>Providence</td><td>CCRI Liston Campus ROOFTOP</td><td>1 Hilton St, PROVIDENCE RI</td><td>Providence-Warwick, RI-MA</td><td>AQS Data Mart</td></tr>\n",
       "\t<tr><th scope=row>97</th><td>NAD83</td><td>Pyrene (TSP) STP                </td><td>24 HOUR</td><td>                 </td><td>2022-01-05</td><td>Nanograms/cubic meter (25 C) </td><td>.</td><td>Y</td><td>Rhode Island</td><td>Providence</td><td>Providence</td><td>CCRI Liston Campus ROOFTOP</td><td>1 Hilton St, PROVIDENCE RI</td><td>Providence-Warwick, RI-MA</td><td>AQS Data Mart</td></tr>\n",
       "\t<tr><th scope=row>98</th><td>NAD83</td><td>Anthracene (TSP) STP            </td><td>24 HOUR</td><td>                 </td><td>2022-01-05</td><td>Nanograms/cubic meter (25 C) </td><td>.</td><td>Y</td><td>Rhode Island</td><td>Providence</td><td>Providence</td><td>CCRI Liston Campus ROOFTOP</td><td>1 Hilton St, PROVIDENCE RI</td><td>Providence-Warwick, RI-MA</td><td>AQS Data Mart</td></tr>\n",
       "\t<tr><th scope=row>99</th><td>NAD83</td><td>Phenanthrene (TSP) STP          </td><td>24 HOUR</td><td>                 </td><td>2022-01-05</td><td>Nanograms/cubic meter (25 C) </td><td>.</td><td>Y</td><td>Rhode Island</td><td>Providence</td><td>Providence</td><td>CCRI Liston Campus ROOFTOP</td><td>1 Hilton St, PROVIDENCE RI</td><td>Providence-Warwick, RI-MA</td><td>AQS Data Mart</td></tr>\n",
       "\t<tr><th scope=row>100</th><td>NAD83</td><td>Particle Number, Total Count    </td><td>1 HOUR </td><td>                 </td><td>2022-01-05</td><td>Count per cm^3               </td><td>.</td><td>Y</td><td>Rhode Island</td><td>Providence</td><td>Providence</td><td>CCRI Liston Campus ROOFTOP</td><td>1 Hilton St, PROVIDENCE RI</td><td>Providence-Warwick, RI-MA</td><td>AQS Data Mart</td></tr>\n",
       "</tbody>\n",
       "</table>\n"
      ],
      "text/latex": [
       "A data.frame: 100 × 15\n",
       "\\begin{tabular}{r|lllllllllllllll}\n",
       "  & Datum & Parameter.Name & Duration.Description & Pollutant.Standard & Date..Local. & Units.of.Measure & AQI & Daily.Criteria.Indicator & State.Name & County.Name & City.Name & Local.Site.Name & Address & MSA.or.CBSA.Name & Data.Source\\\\\n",
       "  & <chr> & <chr> & <chr> & <chr> & <chr> & <chr> & <chr> & <chr> & <chr> & <chr> & <chr> & <chr> & <chr> & <chr> & <chr>\\\\\n",
       "\\hline\n",
       "\t1 & NAD83 & Particle Number, Total Count & 1 HOUR        &                   & 2022-01-01 & Count per cm\\textasciicircum{}3                & .  & Y & Rhode Island & Providence & Providence & CCRI Liston Campus ROOFTOP & 1 Hilton St, PROVIDENCE RI & Providence-Warwick, RI-MA & AQS Data Mart\\\\\n",
       "\t2 & NAD83 & Std Dev Vt Wind Direction    & 1 HOUR        &                   & 2022-01-01 & Degrees Compass               & .  & Y & Rhode Island & Providence & Providence & CCRI Liston Campus ROOFTOP & 1 Hilton St, PROVIDENCE RI & Providence-Warwick, RI-MA & AQS Data Mart\\\\\n",
       "\t3 & NAD83 & Outdoor Temperature          & 1 HOUR        &                   & 2022-01-01 & Degrees Fahrenheit            & .  & Y & Rhode Island & Providence & Providence & CCRI Liston Campus ROOFTOP & 1 Hilton St, PROVIDENCE RI & Providence-Warwick, RI-MA & AQS Data Mart\\\\\n",
       "\t4 & NAD83 & Wind Direction - Resultant   & 1 HOUR        &                   & 2022-01-01 & Degrees Compass               & .  & Y & Rhode Island & Providence & Providence & CCRI Liston Campus ROOFTOP & 1 Hilton St, PROVIDENCE RI & Providence-Warwick, RI-MA & AQS Data Mart\\\\\n",
       "\t5 & NAD83 & Black carbon PM2.5 STP       & 1 HOUR        &                   & 2022-01-01 & Micrograms/cubic meter (25 C) & .  & Y & Rhode Island & Providence & Providence & CCRI Liston Campus ROOFTOP & 1 Hilton St, PROVIDENCE RI & Providence-Warwick, RI-MA & AQS Data Mart\\\\\n",
       "\t6 & NAD83 & PM2.5 - Local Conditions     & 24-HR BLK AVG & PM25 Annual 2012  & 2022-01-01 & Micrograms/cubic meter (LC)   & 30 & Y & Rhode Island & Providence & Providence & CCRI Liston Campus ROOFTOP & 1 Hilton St, PROVIDENCE RI & Providence-Warwick, RI-MA & AQS Data Mart\\\\\n",
       "\t7 & NAD83 & PM2.5 - Local Conditions     & 24-HR BLK AVG & PM25 24-hour 2012 & 2022-01-01 & Micrograms/cubic meter (LC)   & 30 & Y & Rhode Island & Providence & Providence & CCRI Liston Campus ROOFTOP & 1 Hilton St, PROVIDENCE RI & Providence-Warwick, RI-MA & AQS Data Mart\\\\\n",
       "\t8 & NAD83 & PM2.5 - Local Conditions     & 1 HOUR        &                   & 2022-01-01 & Micrograms/cubic meter (LC)   & .  & Y & Rhode Island & Providence & Providence & CCRI Liston Campus ROOFTOP & 1 Hilton St, PROVIDENCE RI & Providence-Warwick, RI-MA & AQS Data Mart\\\\\n",
       "\t9 & NAD83 & Relative Humidity            & 1 HOUR        &                   & 2022-01-01 & Percent relative humidity     & .  & Y & Rhode Island & Providence & Providence & CCRI Liston Campus ROOFTOP & 1 Hilton St, PROVIDENCE RI & Providence-Warwick, RI-MA & AQS Data Mart\\\\\n",
       "\t10 & NAD83 & Black carbon PM2.5 STP       & 1 HOUR        &                   & 2022-01-02 & Micrograms/cubic meter (25 C) & .  & Y & Rhode Island & Providence & Providence & CCRI Liston Campus ROOFTOP & 1 Hilton St, PROVIDENCE RI & Providence-Warwick, RI-MA & AQS Data Mart\\\\\n",
       "\t11 & NAD83 & Wind Direction - Resultant   & 1 HOUR        &                   & 2022-01-02 & Degrees Compass               & .  & Y & Rhode Island & Providence & Providence & CCRI Liston Campus ROOFTOP & 1 Hilton St, PROVIDENCE RI & Providence-Warwick, RI-MA & AQS Data Mart\\\\\n",
       "\t12 & NAD83 & Relative Humidity            & 1 HOUR        &                   & 2022-01-02 & Percent relative humidity     & .  & Y & Rhode Island & Providence & Providence & CCRI Liston Campus ROOFTOP & 1 Hilton St, PROVIDENCE RI & Providence-Warwick, RI-MA & AQS Data Mart\\\\\n",
       "\t13 & NAD83 & Outdoor Temperature          & 1 HOUR        &                   & 2022-01-02 & Degrees Fahrenheit            & .  & Y & Rhode Island & Providence & Providence & CCRI Liston Campus ROOFTOP & 1 Hilton St, PROVIDENCE RI & Providence-Warwick, RI-MA & AQS Data Mart\\\\\n",
       "\t14 & NAD83 & Std Dev Vt Wind Direction    & 1 HOUR        &                   & 2022-01-02 & Degrees Compass               & .  & Y & Rhode Island & Providence & Providence & CCRI Liston Campus ROOFTOP & 1 Hilton St, PROVIDENCE RI & Providence-Warwick, RI-MA & AQS Data Mart\\\\\n",
       "\t15 & NAD83 & PM2.5 - Local Conditions     & 24-HR BLK AVG & PM25 24-hour 2012 & 2022-01-02 & Micrograms/cubic meter (LC)   & 13 & Y & Rhode Island & Providence & Providence & CCRI Liston Campus ROOFTOP & 1 Hilton St, PROVIDENCE RI & Providence-Warwick, RI-MA & AQS Data Mart\\\\\n",
       "\t16 & NAD83 & PM2.5 - Local Conditions     & 1 HOUR        &                   & 2022-01-02 & Micrograms/cubic meter (LC)   & .  & Y & Rhode Island & Providence & Providence & CCRI Liston Campus ROOFTOP & 1 Hilton St, PROVIDENCE RI & Providence-Warwick, RI-MA & AQS Data Mart\\\\\n",
       "\t17 & NAD83 & Particle Number, Total Count & 1 HOUR        &                   & 2022-01-02 & Count per cm\\textasciicircum{}3                & .  & Y & Rhode Island & Providence & Providence & CCRI Liston Campus ROOFTOP & 1 Hilton St, PROVIDENCE RI & Providence-Warwick, RI-MA & AQS Data Mart\\\\\n",
       "\t18 & NAD83 & PM2.5 - Local Conditions     & 24-HR BLK AVG & PM25 Annual 2012  & 2022-01-02 & Micrograms/cubic meter (LC)   & 13 & Y & Rhode Island & Providence & Providence & CCRI Liston Campus ROOFTOP & 1 Hilton St, PROVIDENCE RI & Providence-Warwick, RI-MA & AQS Data Mart\\\\\n",
       "\t19 & NAD83 & Wind Direction - Resultant   & 1 HOUR        &                   & 2022-01-03 & Degrees Compass               & .  & Y & Rhode Island & Providence & Providence & CCRI Liston Campus ROOFTOP & 1 Hilton St, PROVIDENCE RI & Providence-Warwick, RI-MA & AQS Data Mart\\\\\n",
       "\t20 & NAD83 & PM2.5 - Local Conditions     & 24-HR BLK AVG & PM25 Annual 2012  & 2022-01-03 & Micrograms/cubic meter (LC)   & 14 & Y & Rhode Island & Providence & Providence & CCRI Liston Campus ROOFTOP & 1 Hilton St, PROVIDENCE RI & Providence-Warwick, RI-MA & AQS Data Mart\\\\\n",
       "\t21 & NAD83 & PM2.5 - Local Conditions     & 24-HR BLK AVG & PM25 24-hour 2012 & 2022-01-03 & Micrograms/cubic meter (LC)   & 14 & Y & Rhode Island & Providence & Providence & CCRI Liston Campus ROOFTOP & 1 Hilton St, PROVIDENCE RI & Providence-Warwick, RI-MA & AQS Data Mart\\\\\n",
       "\t22 & NAD83 & PM2.5 - Local Conditions     & 1 HOUR        &                   & 2022-01-03 & Micrograms/cubic meter (LC)   & .  & Y & Rhode Island & Providence & Providence & CCRI Liston Campus ROOFTOP & 1 Hilton St, PROVIDENCE RI & Providence-Warwick, RI-MA & AQS Data Mart\\\\\n",
       "\t23 & NAD83 & Std Dev Vt Wind Direction    & 1 HOUR        &                   & 2022-01-03 & Degrees Compass               & .  & Y & Rhode Island & Providence & Providence & CCRI Liston Campus ROOFTOP & 1 Hilton St, PROVIDENCE RI & Providence-Warwick, RI-MA & AQS Data Mart\\\\\n",
       "\t24 & NAD83 & Black carbon PM2.5 STP       & 1 HOUR        &                   & 2022-01-03 & Micrograms/cubic meter (25 C) & .  & Y & Rhode Island & Providence & Providence & CCRI Liston Campus ROOFTOP & 1 Hilton St, PROVIDENCE RI & Providence-Warwick, RI-MA & AQS Data Mart\\\\\n",
       "\t25 & NAD83 & Outdoor Temperature          & 1 HOUR        &                   & 2022-01-03 & Degrees Fahrenheit            & .  & Y & Rhode Island & Providence & Providence & CCRI Liston Campus ROOFTOP & 1 Hilton St, PROVIDENCE RI & Providence-Warwick, RI-MA & AQS Data Mart\\\\\n",
       "\t26 & NAD83 & Relative Humidity            & 1 HOUR        &                   & 2022-01-03 & Percent relative humidity     & .  & Y & Rhode Island & Providence & Providence & CCRI Liston Campus ROOFTOP & 1 Hilton St, PROVIDENCE RI & Providence-Warwick, RI-MA & AQS Data Mart\\\\\n",
       "\t27 & NAD83 & Particle Number, Total Count & 1 HOUR        &                   & 2022-01-03 & Count per cm\\textasciicircum{}3                & .  & Y & Rhode Island & Providence & Providence & CCRI Liston Campus ROOFTOP & 1 Hilton St, PROVIDENCE RI & Providence-Warwick, RI-MA & AQS Data Mart\\\\\n",
       "\t28 & NAD83 & PM2.5 - Local Conditions     & 24-HR BLK AVG & PM25 24-hour 2012 & 2022-01-04 & Micrograms/cubic meter (LC)   & 21 & Y & Rhode Island & Providence & Providence & CCRI Liston Campus ROOFTOP & 1 Hilton St, PROVIDENCE RI & Providence-Warwick, RI-MA & AQS Data Mart\\\\\n",
       "\t29 & NAD83 & Relative Humidity            & 1 HOUR        &                   & 2022-01-04 & Percent relative humidity     & .  & Y & Rhode Island & Providence & Providence & CCRI Liston Campus ROOFTOP & 1 Hilton St, PROVIDENCE RI & Providence-Warwick, RI-MA & AQS Data Mart\\\\\n",
       "\t30 & NAD83 & Outdoor Temperature          & 1 HOUR        &                   & 2022-01-04 & Degrees Fahrenheit            & .  & Y & Rhode Island & Providence & Providence & CCRI Liston Campus ROOFTOP & 1 Hilton St, PROVIDENCE RI & Providence-Warwick, RI-MA & AQS Data Mart\\\\\n",
       "\t⋮ & ⋮ & ⋮ & ⋮ & ⋮ & ⋮ & ⋮ & ⋮ & ⋮ & ⋮ & ⋮ & ⋮ & ⋮ & ⋮ & ⋮ & ⋮\\\\\n",
       "\t71 & NAD83 & PM10 Total 0-10um STP            & 24 HOUR & PM10 24-hour 2006 & 2022-01-05 & Micrograms/cubic meter (25 C) & 8 & Y & Rhode Island & Providence & Providence & CCRI Liston Campus ROOFTOP & 1 Hilton St, PROVIDENCE RI & Providence-Warwick, RI-MA & AQS Data Mart\\\\\n",
       "\t72 & NAD83 & PM10 Total 0-10um STP            & 24 HOUR & PM10 24-hour 2006 & 2022-01-05 & Micrograms/cubic meter (25 C) & 9 & Y & Rhode Island & Providence & Providence & CCRI Liston Campus ROOFTOP & 1 Hilton St, PROVIDENCE RI & Providence-Warwick, RI-MA & AQS Data Mart\\\\\n",
       "\t73 & NAD83 & Ethylbenzene                     & 24 HOUR &                   & 2022-01-05 & Parts per billion Carbon      & . & Y & Rhode Island & Providence & Providence & CCRI Liston Campus ROOFTOP & 1 Hilton St, PROVIDENCE RI & Providence-Warwick, RI-MA & AQS Data Mart\\\\\n",
       "\t74 & NAD83 & Formaldehyde                     & 24 HOUR &                   & 2022-01-05 & Parts per billion Carbon      & . & Y & Rhode Island & Providence & Providence & CCRI Liston Campus ROOFTOP & 1 Hilton St, PROVIDENCE RI & Providence-Warwick, RI-MA & AQS Data Mart\\\\\n",
       "\t75 & NAD83 & Acetaldehyde                     & 24 HOUR &                   & 2022-01-05 & Parts per billion Carbon      & . & Y & Rhode Island & Providence & Providence & CCRI Liston Campus ROOFTOP & 1 Hilton St, PROVIDENCE RI & Providence-Warwick, RI-MA & AQS Data Mart\\\\\n",
       "\t76 & NAD83 & Acetone                          & 24 HOUR &                   & 2022-01-05 & Parts per billion Carbon      & . & Y & Rhode Island & Providence & Providence & CCRI Liston Campus ROOFTOP & 1 Hilton St, PROVIDENCE RI & Providence-Warwick, RI-MA & AQS Data Mart\\\\\n",
       "\t77 & NAD83 & Cadmium PM10 STP                 & 24 HOUR &                   & 2022-01-05 & Nanograms/cubic meter (25 C)  & . & Y & Rhode Island & Providence & Providence & CCRI Liston Campus ROOFTOP & 1 Hilton St, PROVIDENCE RI & Providence-Warwick, RI-MA & AQS Data Mart\\\\\n",
       "\t78 & NAD83 & Arsenic PM10 STP                 & 24 HOUR &                   & 2022-01-05 & Nanograms/cubic meter (25 C)  & . & Y & Rhode Island & Providence & Providence & CCRI Liston Campus ROOFTOP & 1 Hilton St, PROVIDENCE RI & Providence-Warwick, RI-MA & AQS Data Mart\\\\\n",
       "\t79 & NAD83 & Indeno{[}1,2,3-cd{]}pyrene (TSP) STP & 24 HOUR &                   & 2022-01-05 & Nanograms/cubic meter (25 C)  & . & Y & Rhode Island & Providence & Providence & CCRI Liston Campus ROOFTOP & 1 Hilton St, PROVIDENCE RI & Providence-Warwick, RI-MA & AQS Data Mart\\\\\n",
       "\t80 & NAD83 & Beryllium PM10 STP               & 24 HOUR &                   & 2022-01-05 & Nanograms/cubic meter (25 C)  & . & Y & Rhode Island & Providence & Providence & CCRI Liston Campus ROOFTOP & 1 Hilton St, PROVIDENCE RI & Providence-Warwick, RI-MA & AQS Data Mart\\\\\n",
       "\t81 & NAD83 & Chromium PM10 STP                & 24 HOUR &                   & 2022-01-05 & Nanograms/cubic meter (25 C)  & . & Y & Rhode Island & Providence & Providence & CCRI Liston Campus ROOFTOP & 1 Hilton St, PROVIDENCE RI & Providence-Warwick, RI-MA & AQS Data Mart\\\\\n",
       "\t82 & NAD83 & Manganese PM10 STP               & 24 HOUR &                   & 2022-01-05 & Nanograms/cubic meter (25 C)  & . & Y & Rhode Island & Providence & Providence & CCRI Liston Campus ROOFTOP & 1 Hilton St, PROVIDENCE RI & Providence-Warwick, RI-MA & AQS Data Mart\\\\\n",
       "\t83 & NAD83 & Acetone                          & 24 HOUR &                   & 2022-01-05 & Parts per billion Carbon      & . & Y & Rhode Island & Providence & Providence & CCRI Liston Campus ROOFTOP & 1 Hilton St, PROVIDENCE RI & Providence-Warwick, RI-MA & AQS Data Mart\\\\\n",
       "\t84 & NAD83 & Benzo{[}b{]}fluoranthene (TSP) STP   & 24 HOUR &                   & 2022-01-05 & Nanograms/cubic meter (25 C)  & . & Y & Rhode Island & Providence & Providence & CCRI Liston Campus ROOFTOP & 1 Hilton St, PROVIDENCE RI & Providence-Warwick, RI-MA & AQS Data Mart\\\\\n",
       "\t85 & NAD83 & Benzo{[}k{]}fluoranthene (TSP) STP   & 24 HOUR &                   & 2022-01-05 & Nanograms/cubic meter (25 C)  & . & Y & Rhode Island & Providence & Providence & CCRI Liston Campus ROOFTOP & 1 Hilton St, PROVIDENCE RI & Providence-Warwick, RI-MA & AQS Data Mart\\\\\n",
       "\t86 & NAD83 & Benzo{[}g,h,i{]}perylene (TSP) STP   & 24 HOUR &                   & 2022-01-05 & Nanograms/cubic meter (25 C)  & . & Y & Rhode Island & Providence & Providence & CCRI Liston Campus ROOFTOP & 1 Hilton St, PROVIDENCE RI & Providence-Warwick, RI-MA & AQS Data Mart\\\\\n",
       "\t87 & NAD83 & Dibenzo{[}a,h{]}anthracene (TSP) STP & 24 HOUR &                   & 2022-01-05 & Nanograms/cubic meter (25 C)  & . & Y & Rhode Island & Providence & Providence & CCRI Liston Campus ROOFTOP & 1 Hilton St, PROVIDENCE RI & Providence-Warwick, RI-MA & AQS Data Mart\\\\\n",
       "\t88 & NAD83 & Benzo{[}a{]}pyrene (TSP) STP         & 24 HOUR &                   & 2022-01-05 & Nanograms/cubic meter (25 C)  & . & Y & Rhode Island & Providence & Providence & CCRI Liston Campus ROOFTOP & 1 Hilton St, PROVIDENCE RI & Providence-Warwick, RI-MA & AQS Data Mart\\\\\n",
       "\t89 & NAD83 & Fluoranthene (TSP) STP           & 24 HOUR &                   & 2022-01-05 & Nanograms/cubic meter (25 C)  & . & Y & Rhode Island & Providence & Providence & CCRI Liston Campus ROOFTOP & 1 Hilton St, PROVIDENCE RI & Providence-Warwick, RI-MA & AQS Data Mart\\\\\n",
       "\t90 & NAD83 & Coronene (TSP) STP               & 24 HOUR &                   & 2022-01-05 & Nanograms/cubic meter (25 C)  & . & Y & Rhode Island & Providence & Providence & CCRI Liston Campus ROOFTOP & 1 Hilton St, PROVIDENCE RI & Providence-Warwick, RI-MA & AQS Data Mart\\\\\n",
       "\t91 & NAD83 & Benzo{[}a{]}anthracene (TSP) STP     & 24 HOUR &                   & 2022-01-05 & Nanograms/cubic meter (25 C)  & . & Y & Rhode Island & Providence & Providence & CCRI Liston Campus ROOFTOP & 1 Hilton St, PROVIDENCE RI & Providence-Warwick, RI-MA & AQS Data Mart\\\\\n",
       "\t92 & NAD83 & Perylene (TSP) STP               & 24 HOUR &                   & 2022-01-05 & Nanograms/cubic meter (25 C)  & . & Y & Rhode Island & Providence & Providence & CCRI Liston Campus ROOFTOP & 1 Hilton St, PROVIDENCE RI & Providence-Warwick, RI-MA & AQS Data Mart\\\\\n",
       "\t93 & NAD83 & Benzo{[}e{]}pyrene (TSP) STP         & 24 HOUR &                   & 2022-01-05 & Nanograms/cubic meter (25 C)  & . & Y & Rhode Island & Providence & Providence & CCRI Liston Campus ROOFTOP & 1 Hilton St, PROVIDENCE RI & Providence-Warwick, RI-MA & AQS Data Mart\\\\\n",
       "\t94 & NAD83 & Naphthalene (TSP) STP            & 24 HOUR &                   & 2022-01-05 & Nanograms/cubic meter (25 C)  & . & Y & Rhode Island & Providence & Providence & CCRI Liston Campus ROOFTOP & 1 Hilton St, PROVIDENCE RI & Providence-Warwick, RI-MA & AQS Data Mart\\\\\n",
       "\t95 & NAD83 & Acenaphthene (TSP) STP           & 24 HOUR &                   & 2022-01-05 & Nanograms/cubic meter (25 C)  & . & Y & Rhode Island & Providence & Providence & CCRI Liston Campus ROOFTOP & 1 Hilton St, PROVIDENCE RI & Providence-Warwick, RI-MA & AQS Data Mart\\\\\n",
       "\t96 & NAD83 & Fluorene (TSP) STP               & 24 HOUR &                   & 2022-01-05 & Nanograms/cubic meter (25 C)  & . & Y & Rhode Island & Providence & Providence & CCRI Liston Campus ROOFTOP & 1 Hilton St, PROVIDENCE RI & Providence-Warwick, RI-MA & AQS Data Mart\\\\\n",
       "\t97 & NAD83 & Pyrene (TSP) STP                 & 24 HOUR &                   & 2022-01-05 & Nanograms/cubic meter (25 C)  & . & Y & Rhode Island & Providence & Providence & CCRI Liston Campus ROOFTOP & 1 Hilton St, PROVIDENCE RI & Providence-Warwick, RI-MA & AQS Data Mart\\\\\n",
       "\t98 & NAD83 & Anthracene (TSP) STP             & 24 HOUR &                   & 2022-01-05 & Nanograms/cubic meter (25 C)  & . & Y & Rhode Island & Providence & Providence & CCRI Liston Campus ROOFTOP & 1 Hilton St, PROVIDENCE RI & Providence-Warwick, RI-MA & AQS Data Mart\\\\\n",
       "\t99 & NAD83 & Phenanthrene (TSP) STP           & 24 HOUR &                   & 2022-01-05 & Nanograms/cubic meter (25 C)  & . & Y & Rhode Island & Providence & Providence & CCRI Liston Campus ROOFTOP & 1 Hilton St, PROVIDENCE RI & Providence-Warwick, RI-MA & AQS Data Mart\\\\\n",
       "\t100 & NAD83 & Particle Number, Total Count     & 1 HOUR  &                   & 2022-01-05 & Count per cm\\textasciicircum{}3                & . & Y & Rhode Island & Providence & Providence & CCRI Liston Campus ROOFTOP & 1 Hilton St, PROVIDENCE RI & Providence-Warwick, RI-MA & AQS Data Mart\\\\\n",
       "\\end{tabular}\n"
      ],
      "text/markdown": [
       "\n",
       "A data.frame: 100 × 15\n",
       "\n",
       "| <!--/--> | Datum &lt;chr&gt; | Parameter.Name &lt;chr&gt; | Duration.Description &lt;chr&gt; | Pollutant.Standard &lt;chr&gt; | Date..Local. &lt;chr&gt; | Units.of.Measure &lt;chr&gt; | AQI &lt;chr&gt; | Daily.Criteria.Indicator &lt;chr&gt; | State.Name &lt;chr&gt; | County.Name &lt;chr&gt; | City.Name &lt;chr&gt; | Local.Site.Name &lt;chr&gt; | Address &lt;chr&gt; | MSA.or.CBSA.Name &lt;chr&gt; | Data.Source &lt;chr&gt; |\n",
       "|---|---|---|---|---|---|---|---|---|---|---|---|---|---|---|---|\n",
       "| 1 | NAD83 | Particle Number, Total Count | 1 HOUR        | <!----> | 2022-01-01 | Count per cm^3                | .  | Y | Rhode Island | Providence | Providence | CCRI Liston Campus ROOFTOP | 1 Hilton St, PROVIDENCE RI | Providence-Warwick, RI-MA | AQS Data Mart |\n",
       "| 2 | NAD83 | Std Dev Vt Wind Direction    | 1 HOUR        | <!----> | 2022-01-01 | Degrees Compass               | .  | Y | Rhode Island | Providence | Providence | CCRI Liston Campus ROOFTOP | 1 Hilton St, PROVIDENCE RI | Providence-Warwick, RI-MA | AQS Data Mart |\n",
       "| 3 | NAD83 | Outdoor Temperature          | 1 HOUR        | <!----> | 2022-01-01 | Degrees Fahrenheit            | .  | Y | Rhode Island | Providence | Providence | CCRI Liston Campus ROOFTOP | 1 Hilton St, PROVIDENCE RI | Providence-Warwick, RI-MA | AQS Data Mart |\n",
       "| 4 | NAD83 | Wind Direction - Resultant   | 1 HOUR        | <!----> | 2022-01-01 | Degrees Compass               | .  | Y | Rhode Island | Providence | Providence | CCRI Liston Campus ROOFTOP | 1 Hilton St, PROVIDENCE RI | Providence-Warwick, RI-MA | AQS Data Mart |\n",
       "| 5 | NAD83 | Black carbon PM2.5 STP       | 1 HOUR        | <!----> | 2022-01-01 | Micrograms/cubic meter (25 C) | .  | Y | Rhode Island | Providence | Providence | CCRI Liston Campus ROOFTOP | 1 Hilton St, PROVIDENCE RI | Providence-Warwick, RI-MA | AQS Data Mart |\n",
       "| 6 | NAD83 | PM2.5 - Local Conditions     | 24-HR BLK AVG | PM25 Annual 2012  | 2022-01-01 | Micrograms/cubic meter (LC)   | 30 | Y | Rhode Island | Providence | Providence | CCRI Liston Campus ROOFTOP | 1 Hilton St, PROVIDENCE RI | Providence-Warwick, RI-MA | AQS Data Mart |\n",
       "| 7 | NAD83 | PM2.5 - Local Conditions     | 24-HR BLK AVG | PM25 24-hour 2012 | 2022-01-01 | Micrograms/cubic meter (LC)   | 30 | Y | Rhode Island | Providence | Providence | CCRI Liston Campus ROOFTOP | 1 Hilton St, PROVIDENCE RI | Providence-Warwick, RI-MA | AQS Data Mart |\n",
       "| 8 | NAD83 | PM2.5 - Local Conditions     | 1 HOUR        | <!----> | 2022-01-01 | Micrograms/cubic meter (LC)   | .  | Y | Rhode Island | Providence | Providence | CCRI Liston Campus ROOFTOP | 1 Hilton St, PROVIDENCE RI | Providence-Warwick, RI-MA | AQS Data Mart |\n",
       "| 9 | NAD83 | Relative Humidity            | 1 HOUR        | <!----> | 2022-01-01 | Percent relative humidity     | .  | Y | Rhode Island | Providence | Providence | CCRI Liston Campus ROOFTOP | 1 Hilton St, PROVIDENCE RI | Providence-Warwick, RI-MA | AQS Data Mart |\n",
       "| 10 | NAD83 | Black carbon PM2.5 STP       | 1 HOUR        | <!----> | 2022-01-02 | Micrograms/cubic meter (25 C) | .  | Y | Rhode Island | Providence | Providence | CCRI Liston Campus ROOFTOP | 1 Hilton St, PROVIDENCE RI | Providence-Warwick, RI-MA | AQS Data Mart |\n",
       "| 11 | NAD83 | Wind Direction - Resultant   | 1 HOUR        | <!----> | 2022-01-02 | Degrees Compass               | .  | Y | Rhode Island | Providence | Providence | CCRI Liston Campus ROOFTOP | 1 Hilton St, PROVIDENCE RI | Providence-Warwick, RI-MA | AQS Data Mart |\n",
       "| 12 | NAD83 | Relative Humidity            | 1 HOUR        | <!----> | 2022-01-02 | Percent relative humidity     | .  | Y | Rhode Island | Providence | Providence | CCRI Liston Campus ROOFTOP | 1 Hilton St, PROVIDENCE RI | Providence-Warwick, RI-MA | AQS Data Mart |\n",
       "| 13 | NAD83 | Outdoor Temperature          | 1 HOUR        | <!----> | 2022-01-02 | Degrees Fahrenheit            | .  | Y | Rhode Island | Providence | Providence | CCRI Liston Campus ROOFTOP | 1 Hilton St, PROVIDENCE RI | Providence-Warwick, RI-MA | AQS Data Mart |\n",
       "| 14 | NAD83 | Std Dev Vt Wind Direction    | 1 HOUR        | <!----> | 2022-01-02 | Degrees Compass               | .  | Y | Rhode Island | Providence | Providence | CCRI Liston Campus ROOFTOP | 1 Hilton St, PROVIDENCE RI | Providence-Warwick, RI-MA | AQS Data Mart |\n",
       "| 15 | NAD83 | PM2.5 - Local Conditions     | 24-HR BLK AVG | PM25 24-hour 2012 | 2022-01-02 | Micrograms/cubic meter (LC)   | 13 | Y | Rhode Island | Providence | Providence | CCRI Liston Campus ROOFTOP | 1 Hilton St, PROVIDENCE RI | Providence-Warwick, RI-MA | AQS Data Mart |\n",
       "| 16 | NAD83 | PM2.5 - Local Conditions     | 1 HOUR        | <!----> | 2022-01-02 | Micrograms/cubic meter (LC)   | .  | Y | Rhode Island | Providence | Providence | CCRI Liston Campus ROOFTOP | 1 Hilton St, PROVIDENCE RI | Providence-Warwick, RI-MA | AQS Data Mart |\n",
       "| 17 | NAD83 | Particle Number, Total Count | 1 HOUR        | <!----> | 2022-01-02 | Count per cm^3                | .  | Y | Rhode Island | Providence | Providence | CCRI Liston Campus ROOFTOP | 1 Hilton St, PROVIDENCE RI | Providence-Warwick, RI-MA | AQS Data Mart |\n",
       "| 18 | NAD83 | PM2.5 - Local Conditions     | 24-HR BLK AVG | PM25 Annual 2012  | 2022-01-02 | Micrograms/cubic meter (LC)   | 13 | Y | Rhode Island | Providence | Providence | CCRI Liston Campus ROOFTOP | 1 Hilton St, PROVIDENCE RI | Providence-Warwick, RI-MA | AQS Data Mart |\n",
       "| 19 | NAD83 | Wind Direction - Resultant   | 1 HOUR        | <!----> | 2022-01-03 | Degrees Compass               | .  | Y | Rhode Island | Providence | Providence | CCRI Liston Campus ROOFTOP | 1 Hilton St, PROVIDENCE RI | Providence-Warwick, RI-MA | AQS Data Mart |\n",
       "| 20 | NAD83 | PM2.5 - Local Conditions     | 24-HR BLK AVG | PM25 Annual 2012  | 2022-01-03 | Micrograms/cubic meter (LC)   | 14 | Y | Rhode Island | Providence | Providence | CCRI Liston Campus ROOFTOP | 1 Hilton St, PROVIDENCE RI | Providence-Warwick, RI-MA | AQS Data Mart |\n",
       "| 21 | NAD83 | PM2.5 - Local Conditions     | 24-HR BLK AVG | PM25 24-hour 2012 | 2022-01-03 | Micrograms/cubic meter (LC)   | 14 | Y | Rhode Island | Providence | Providence | CCRI Liston Campus ROOFTOP | 1 Hilton St, PROVIDENCE RI | Providence-Warwick, RI-MA | AQS Data Mart |\n",
       "| 22 | NAD83 | PM2.5 - Local Conditions     | 1 HOUR        | <!----> | 2022-01-03 | Micrograms/cubic meter (LC)   | .  | Y | Rhode Island | Providence | Providence | CCRI Liston Campus ROOFTOP | 1 Hilton St, PROVIDENCE RI | Providence-Warwick, RI-MA | AQS Data Mart |\n",
       "| 23 | NAD83 | Std Dev Vt Wind Direction    | 1 HOUR        | <!----> | 2022-01-03 | Degrees Compass               | .  | Y | Rhode Island | Providence | Providence | CCRI Liston Campus ROOFTOP | 1 Hilton St, PROVIDENCE RI | Providence-Warwick, RI-MA | AQS Data Mart |\n",
       "| 24 | NAD83 | Black carbon PM2.5 STP       | 1 HOUR        | <!----> | 2022-01-03 | Micrograms/cubic meter (25 C) | .  | Y | Rhode Island | Providence | Providence | CCRI Liston Campus ROOFTOP | 1 Hilton St, PROVIDENCE RI | Providence-Warwick, RI-MA | AQS Data Mart |\n",
       "| 25 | NAD83 | Outdoor Temperature          | 1 HOUR        | <!----> | 2022-01-03 | Degrees Fahrenheit            | .  | Y | Rhode Island | Providence | Providence | CCRI Liston Campus ROOFTOP | 1 Hilton St, PROVIDENCE RI | Providence-Warwick, RI-MA | AQS Data Mart |\n",
       "| 26 | NAD83 | Relative Humidity            | 1 HOUR        | <!----> | 2022-01-03 | Percent relative humidity     | .  | Y | Rhode Island | Providence | Providence | CCRI Liston Campus ROOFTOP | 1 Hilton St, PROVIDENCE RI | Providence-Warwick, RI-MA | AQS Data Mart |\n",
       "| 27 | NAD83 | Particle Number, Total Count | 1 HOUR        | <!----> | 2022-01-03 | Count per cm^3                | .  | Y | Rhode Island | Providence | Providence | CCRI Liston Campus ROOFTOP | 1 Hilton St, PROVIDENCE RI | Providence-Warwick, RI-MA | AQS Data Mart |\n",
       "| 28 | NAD83 | PM2.5 - Local Conditions     | 24-HR BLK AVG | PM25 24-hour 2012 | 2022-01-04 | Micrograms/cubic meter (LC)   | 21 | Y | Rhode Island | Providence | Providence | CCRI Liston Campus ROOFTOP | 1 Hilton St, PROVIDENCE RI | Providence-Warwick, RI-MA | AQS Data Mart |\n",
       "| 29 | NAD83 | Relative Humidity            | 1 HOUR        | <!----> | 2022-01-04 | Percent relative humidity     | .  | Y | Rhode Island | Providence | Providence | CCRI Liston Campus ROOFTOP | 1 Hilton St, PROVIDENCE RI | Providence-Warwick, RI-MA | AQS Data Mart |\n",
       "| 30 | NAD83 | Outdoor Temperature          | 1 HOUR        | <!----> | 2022-01-04 | Degrees Fahrenheit            | .  | Y | Rhode Island | Providence | Providence | CCRI Liston Campus ROOFTOP | 1 Hilton St, PROVIDENCE RI | Providence-Warwick, RI-MA | AQS Data Mart |\n",
       "| ⋮ | ⋮ | ⋮ | ⋮ | ⋮ | ⋮ | ⋮ | ⋮ | ⋮ | ⋮ | ⋮ | ⋮ | ⋮ | ⋮ | ⋮ | ⋮ |\n",
       "| 71 | NAD83 | PM10 Total 0-10um STP            | 24 HOUR | PM10 24-hour 2006 | 2022-01-05 | Micrograms/cubic meter (25 C) | 8 | Y | Rhode Island | Providence | Providence | CCRI Liston Campus ROOFTOP | 1 Hilton St, PROVIDENCE RI | Providence-Warwick, RI-MA | AQS Data Mart |\n",
       "| 72 | NAD83 | PM10 Total 0-10um STP            | 24 HOUR | PM10 24-hour 2006 | 2022-01-05 | Micrograms/cubic meter (25 C) | 9 | Y | Rhode Island | Providence | Providence | CCRI Liston Campus ROOFTOP | 1 Hilton St, PROVIDENCE RI | Providence-Warwick, RI-MA | AQS Data Mart |\n",
       "| 73 | NAD83 | Ethylbenzene                     | 24 HOUR | <!----> | 2022-01-05 | Parts per billion Carbon      | . | Y | Rhode Island | Providence | Providence | CCRI Liston Campus ROOFTOP | 1 Hilton St, PROVIDENCE RI | Providence-Warwick, RI-MA | AQS Data Mart |\n",
       "| 74 | NAD83 | Formaldehyde                     | 24 HOUR | <!----> | 2022-01-05 | Parts per billion Carbon      | . | Y | Rhode Island | Providence | Providence | CCRI Liston Campus ROOFTOP | 1 Hilton St, PROVIDENCE RI | Providence-Warwick, RI-MA | AQS Data Mart |\n",
       "| 75 | NAD83 | Acetaldehyde                     | 24 HOUR | <!----> | 2022-01-05 | Parts per billion Carbon      | . | Y | Rhode Island | Providence | Providence | CCRI Liston Campus ROOFTOP | 1 Hilton St, PROVIDENCE RI | Providence-Warwick, RI-MA | AQS Data Mart |\n",
       "| 76 | NAD83 | Acetone                          | 24 HOUR | <!----> | 2022-01-05 | Parts per billion Carbon      | . | Y | Rhode Island | Providence | Providence | CCRI Liston Campus ROOFTOP | 1 Hilton St, PROVIDENCE RI | Providence-Warwick, RI-MA | AQS Data Mart |\n",
       "| 77 | NAD83 | Cadmium PM10 STP                 | 24 HOUR | <!----> | 2022-01-05 | Nanograms/cubic meter (25 C)  | . | Y | Rhode Island | Providence | Providence | CCRI Liston Campus ROOFTOP | 1 Hilton St, PROVIDENCE RI | Providence-Warwick, RI-MA | AQS Data Mart |\n",
       "| 78 | NAD83 | Arsenic PM10 STP                 | 24 HOUR | <!----> | 2022-01-05 | Nanograms/cubic meter (25 C)  | . | Y | Rhode Island | Providence | Providence | CCRI Liston Campus ROOFTOP | 1 Hilton St, PROVIDENCE RI | Providence-Warwick, RI-MA | AQS Data Mart |\n",
       "| 79 | NAD83 | Indeno[1,2,3-cd]pyrene (TSP) STP | 24 HOUR | <!----> | 2022-01-05 | Nanograms/cubic meter (25 C)  | . | Y | Rhode Island | Providence | Providence | CCRI Liston Campus ROOFTOP | 1 Hilton St, PROVIDENCE RI | Providence-Warwick, RI-MA | AQS Data Mart |\n",
       "| 80 | NAD83 | Beryllium PM10 STP               | 24 HOUR | <!----> | 2022-01-05 | Nanograms/cubic meter (25 C)  | . | Y | Rhode Island | Providence | Providence | CCRI Liston Campus ROOFTOP | 1 Hilton St, PROVIDENCE RI | Providence-Warwick, RI-MA | AQS Data Mart |\n",
       "| 81 | NAD83 | Chromium PM10 STP                | 24 HOUR | <!----> | 2022-01-05 | Nanograms/cubic meter (25 C)  | . | Y | Rhode Island | Providence | Providence | CCRI Liston Campus ROOFTOP | 1 Hilton St, PROVIDENCE RI | Providence-Warwick, RI-MA | AQS Data Mart |\n",
       "| 82 | NAD83 | Manganese PM10 STP               | 24 HOUR | <!----> | 2022-01-05 | Nanograms/cubic meter (25 C)  | . | Y | Rhode Island | Providence | Providence | CCRI Liston Campus ROOFTOP | 1 Hilton St, PROVIDENCE RI | Providence-Warwick, RI-MA | AQS Data Mart |\n",
       "| 83 | NAD83 | Acetone                          | 24 HOUR | <!----> | 2022-01-05 | Parts per billion Carbon      | . | Y | Rhode Island | Providence | Providence | CCRI Liston Campus ROOFTOP | 1 Hilton St, PROVIDENCE RI | Providence-Warwick, RI-MA | AQS Data Mart |\n",
       "| 84 | NAD83 | Benzo[b]fluoranthene (TSP) STP   | 24 HOUR | <!----> | 2022-01-05 | Nanograms/cubic meter (25 C)  | . | Y | Rhode Island | Providence | Providence | CCRI Liston Campus ROOFTOP | 1 Hilton St, PROVIDENCE RI | Providence-Warwick, RI-MA | AQS Data Mart |\n",
       "| 85 | NAD83 | Benzo[k]fluoranthene (TSP) STP   | 24 HOUR | <!----> | 2022-01-05 | Nanograms/cubic meter (25 C)  | . | Y | Rhode Island | Providence | Providence | CCRI Liston Campus ROOFTOP | 1 Hilton St, PROVIDENCE RI | Providence-Warwick, RI-MA | AQS Data Mart |\n",
       "| 86 | NAD83 | Benzo[g,h,i]perylene (TSP) STP   | 24 HOUR | <!----> | 2022-01-05 | Nanograms/cubic meter (25 C)  | . | Y | Rhode Island | Providence | Providence | CCRI Liston Campus ROOFTOP | 1 Hilton St, PROVIDENCE RI | Providence-Warwick, RI-MA | AQS Data Mart |\n",
       "| 87 | NAD83 | Dibenzo[a,h]anthracene (TSP) STP | 24 HOUR | <!----> | 2022-01-05 | Nanograms/cubic meter (25 C)  | . | Y | Rhode Island | Providence | Providence | CCRI Liston Campus ROOFTOP | 1 Hilton St, PROVIDENCE RI | Providence-Warwick, RI-MA | AQS Data Mart |\n",
       "| 88 | NAD83 | Benzo[a]pyrene (TSP) STP         | 24 HOUR | <!----> | 2022-01-05 | Nanograms/cubic meter (25 C)  | . | Y | Rhode Island | Providence | Providence | CCRI Liston Campus ROOFTOP | 1 Hilton St, PROVIDENCE RI | Providence-Warwick, RI-MA | AQS Data Mart |\n",
       "| 89 | NAD83 | Fluoranthene (TSP) STP           | 24 HOUR | <!----> | 2022-01-05 | Nanograms/cubic meter (25 C)  | . | Y | Rhode Island | Providence | Providence | CCRI Liston Campus ROOFTOP | 1 Hilton St, PROVIDENCE RI | Providence-Warwick, RI-MA | AQS Data Mart |\n",
       "| 90 | NAD83 | Coronene (TSP) STP               | 24 HOUR | <!----> | 2022-01-05 | Nanograms/cubic meter (25 C)  | . | Y | Rhode Island | Providence | Providence | CCRI Liston Campus ROOFTOP | 1 Hilton St, PROVIDENCE RI | Providence-Warwick, RI-MA | AQS Data Mart |\n",
       "| 91 | NAD83 | Benzo[a]anthracene (TSP) STP     | 24 HOUR | <!----> | 2022-01-05 | Nanograms/cubic meter (25 C)  | . | Y | Rhode Island | Providence | Providence | CCRI Liston Campus ROOFTOP | 1 Hilton St, PROVIDENCE RI | Providence-Warwick, RI-MA | AQS Data Mart |\n",
       "| 92 | NAD83 | Perylene (TSP) STP               | 24 HOUR | <!----> | 2022-01-05 | Nanograms/cubic meter (25 C)  | . | Y | Rhode Island | Providence | Providence | CCRI Liston Campus ROOFTOP | 1 Hilton St, PROVIDENCE RI | Providence-Warwick, RI-MA | AQS Data Mart |\n",
       "| 93 | NAD83 | Benzo[e]pyrene (TSP) STP         | 24 HOUR | <!----> | 2022-01-05 | Nanograms/cubic meter (25 C)  | . | Y | Rhode Island | Providence | Providence | CCRI Liston Campus ROOFTOP | 1 Hilton St, PROVIDENCE RI | Providence-Warwick, RI-MA | AQS Data Mart |\n",
       "| 94 | NAD83 | Naphthalene (TSP) STP            | 24 HOUR | <!----> | 2022-01-05 | Nanograms/cubic meter (25 C)  | . | Y | Rhode Island | Providence | Providence | CCRI Liston Campus ROOFTOP | 1 Hilton St, PROVIDENCE RI | Providence-Warwick, RI-MA | AQS Data Mart |\n",
       "| 95 | NAD83 | Acenaphthene (TSP) STP           | 24 HOUR | <!----> | 2022-01-05 | Nanograms/cubic meter (25 C)  | . | Y | Rhode Island | Providence | Providence | CCRI Liston Campus ROOFTOP | 1 Hilton St, PROVIDENCE RI | Providence-Warwick, RI-MA | AQS Data Mart |\n",
       "| 96 | NAD83 | Fluorene (TSP) STP               | 24 HOUR | <!----> | 2022-01-05 | Nanograms/cubic meter (25 C)  | . | Y | Rhode Island | Providence | Providence | CCRI Liston Campus ROOFTOP | 1 Hilton St, PROVIDENCE RI | Providence-Warwick, RI-MA | AQS Data Mart |\n",
       "| 97 | NAD83 | Pyrene (TSP) STP                 | 24 HOUR | <!----> | 2022-01-05 | Nanograms/cubic meter (25 C)  | . | Y | Rhode Island | Providence | Providence | CCRI Liston Campus ROOFTOP | 1 Hilton St, PROVIDENCE RI | Providence-Warwick, RI-MA | AQS Data Mart |\n",
       "| 98 | NAD83 | Anthracene (TSP) STP             | 24 HOUR | <!----> | 2022-01-05 | Nanograms/cubic meter (25 C)  | . | Y | Rhode Island | Providence | Providence | CCRI Liston Campus ROOFTOP | 1 Hilton St, PROVIDENCE RI | Providence-Warwick, RI-MA | AQS Data Mart |\n",
       "| 99 | NAD83 | Phenanthrene (TSP) STP           | 24 HOUR | <!----> | 2022-01-05 | Nanograms/cubic meter (25 C)  | . | Y | Rhode Island | Providence | Providence | CCRI Liston Campus ROOFTOP | 1 Hilton St, PROVIDENCE RI | Providence-Warwick, RI-MA | AQS Data Mart |\n",
       "| 100 | NAD83 | Particle Number, Total Count     | 1 HOUR  | <!----> | 2022-01-05 | Count per cm^3                | . | Y | Rhode Island | Providence | Providence | CCRI Liston Campus ROOFTOP | 1 Hilton St, PROVIDENCE RI | Providence-Warwick, RI-MA | AQS Data Mart |\n",
       "\n"
      ],
      "text/plain": [
       "    Datum Parameter.Name                   Duration.Description\n",
       "1   NAD83 Particle Number, Total Count     1 HOUR              \n",
       "2   NAD83 Std Dev Vt Wind Direction        1 HOUR              \n",
       "3   NAD83 Outdoor Temperature              1 HOUR              \n",
       "4   NAD83 Wind Direction - Resultant       1 HOUR              \n",
       "5   NAD83 Black carbon PM2.5 STP           1 HOUR              \n",
       "6   NAD83 PM2.5 - Local Conditions         24-HR BLK AVG       \n",
       "7   NAD83 PM2.5 - Local Conditions         24-HR BLK AVG       \n",
       "8   NAD83 PM2.5 - Local Conditions         1 HOUR              \n",
       "9   NAD83 Relative Humidity                1 HOUR              \n",
       "10  NAD83 Black carbon PM2.5 STP           1 HOUR              \n",
       "11  NAD83 Wind Direction - Resultant       1 HOUR              \n",
       "12  NAD83 Relative Humidity                1 HOUR              \n",
       "13  NAD83 Outdoor Temperature              1 HOUR              \n",
       "14  NAD83 Std Dev Vt Wind Direction        1 HOUR              \n",
       "15  NAD83 PM2.5 - Local Conditions         24-HR BLK AVG       \n",
       "16  NAD83 PM2.5 - Local Conditions         1 HOUR              \n",
       "17  NAD83 Particle Number, Total Count     1 HOUR              \n",
       "18  NAD83 PM2.5 - Local Conditions         24-HR BLK AVG       \n",
       "19  NAD83 Wind Direction - Resultant       1 HOUR              \n",
       "20  NAD83 PM2.5 - Local Conditions         24-HR BLK AVG       \n",
       "21  NAD83 PM2.5 - Local Conditions         24-HR BLK AVG       \n",
       "22  NAD83 PM2.5 - Local Conditions         1 HOUR              \n",
       "23  NAD83 Std Dev Vt Wind Direction        1 HOUR              \n",
       "24  NAD83 Black carbon PM2.5 STP           1 HOUR              \n",
       "25  NAD83 Outdoor Temperature              1 HOUR              \n",
       "26  NAD83 Relative Humidity                1 HOUR              \n",
       "27  NAD83 Particle Number, Total Count     1 HOUR              \n",
       "28  NAD83 PM2.5 - Local Conditions         24-HR BLK AVG       \n",
       "29  NAD83 Relative Humidity                1 HOUR              \n",
       "30  NAD83 Outdoor Temperature              1 HOUR              \n",
       "⋮   ⋮     ⋮                                ⋮                   \n",
       "71  NAD83 PM10 Total 0-10um STP            24 HOUR             \n",
       "72  NAD83 PM10 Total 0-10um STP            24 HOUR             \n",
       "73  NAD83 Ethylbenzene                     24 HOUR             \n",
       "74  NAD83 Formaldehyde                     24 HOUR             \n",
       "75  NAD83 Acetaldehyde                     24 HOUR             \n",
       "76  NAD83 Acetone                          24 HOUR             \n",
       "77  NAD83 Cadmium PM10 STP                 24 HOUR             \n",
       "78  NAD83 Arsenic PM10 STP                 24 HOUR             \n",
       "79  NAD83 Indeno[1,2,3-cd]pyrene (TSP) STP 24 HOUR             \n",
       "80  NAD83 Beryllium PM10 STP               24 HOUR             \n",
       "81  NAD83 Chromium PM10 STP                24 HOUR             \n",
       "82  NAD83 Manganese PM10 STP               24 HOUR             \n",
       "83  NAD83 Acetone                          24 HOUR             \n",
       "84  NAD83 Benzo[b]fluoranthene (TSP) STP   24 HOUR             \n",
       "85  NAD83 Benzo[k]fluoranthene (TSP) STP   24 HOUR             \n",
       "86  NAD83 Benzo[g,h,i]perylene (TSP) STP   24 HOUR             \n",
       "87  NAD83 Dibenzo[a,h]anthracene (TSP) STP 24 HOUR             \n",
       "88  NAD83 Benzo[a]pyrene (TSP) STP         24 HOUR             \n",
       "89  NAD83 Fluoranthene (TSP) STP           24 HOUR             \n",
       "90  NAD83 Coronene (TSP) STP               24 HOUR             \n",
       "91  NAD83 Benzo[a]anthracene (TSP) STP     24 HOUR             \n",
       "92  NAD83 Perylene (TSP) STP               24 HOUR             \n",
       "93  NAD83 Benzo[e]pyrene (TSP) STP         24 HOUR             \n",
       "94  NAD83 Naphthalene (TSP) STP            24 HOUR             \n",
       "95  NAD83 Acenaphthene (TSP) STP           24 HOUR             \n",
       "96  NAD83 Fluorene (TSP) STP               24 HOUR             \n",
       "97  NAD83 Pyrene (TSP) STP                 24 HOUR             \n",
       "98  NAD83 Anthracene (TSP) STP             24 HOUR             \n",
       "99  NAD83 Phenanthrene (TSP) STP           24 HOUR             \n",
       "100 NAD83 Particle Number, Total Count     1 HOUR              \n",
       "    Pollutant.Standard Date..Local. Units.of.Measure              AQI\n",
       "1                      2022-01-01   Count per cm^3                .  \n",
       "2                      2022-01-01   Degrees Compass               .  \n",
       "3                      2022-01-01   Degrees Fahrenheit            .  \n",
       "4                      2022-01-01   Degrees Compass               .  \n",
       "5                      2022-01-01   Micrograms/cubic meter (25 C) .  \n",
       "6   PM25 Annual 2012   2022-01-01   Micrograms/cubic meter (LC)   30 \n",
       "7   PM25 24-hour 2012  2022-01-01   Micrograms/cubic meter (LC)   30 \n",
       "8                      2022-01-01   Micrograms/cubic meter (LC)   .  \n",
       "9                      2022-01-01   Percent relative humidity     .  \n",
       "10                     2022-01-02   Micrograms/cubic meter (25 C) .  \n",
       "11                     2022-01-02   Degrees Compass               .  \n",
       "12                     2022-01-02   Percent relative humidity     .  \n",
       "13                     2022-01-02   Degrees Fahrenheit            .  \n",
       "14                     2022-01-02   Degrees Compass               .  \n",
       "15  PM25 24-hour 2012  2022-01-02   Micrograms/cubic meter (LC)   13 \n",
       "16                     2022-01-02   Micrograms/cubic meter (LC)   .  \n",
       "17                     2022-01-02   Count per cm^3                .  \n",
       "18  PM25 Annual 2012   2022-01-02   Micrograms/cubic meter (LC)   13 \n",
       "19                     2022-01-03   Degrees Compass               .  \n",
       "20  PM25 Annual 2012   2022-01-03   Micrograms/cubic meter (LC)   14 \n",
       "21  PM25 24-hour 2012  2022-01-03   Micrograms/cubic meter (LC)   14 \n",
       "22                     2022-01-03   Micrograms/cubic meter (LC)   .  \n",
       "23                     2022-01-03   Degrees Compass               .  \n",
       "24                     2022-01-03   Micrograms/cubic meter (25 C) .  \n",
       "25                     2022-01-03   Degrees Fahrenheit            .  \n",
       "26                     2022-01-03   Percent relative humidity     .  \n",
       "27                     2022-01-03   Count per cm^3                .  \n",
       "28  PM25 24-hour 2012  2022-01-04   Micrograms/cubic meter (LC)   21 \n",
       "29                     2022-01-04   Percent relative humidity     .  \n",
       "30                     2022-01-04   Degrees Fahrenheit            .  \n",
       "⋮   ⋮                  ⋮            ⋮                             ⋮  \n",
       "71  PM10 24-hour 2006  2022-01-05   Micrograms/cubic meter (25 C) 8  \n",
       "72  PM10 24-hour 2006  2022-01-05   Micrograms/cubic meter (25 C) 9  \n",
       "73                     2022-01-05   Parts per billion Carbon      .  \n",
       "74                     2022-01-05   Parts per billion Carbon      .  \n",
       "75                     2022-01-05   Parts per billion Carbon      .  \n",
       "76                     2022-01-05   Parts per billion Carbon      .  \n",
       "77                     2022-01-05   Nanograms/cubic meter (25 C)  .  \n",
       "78                     2022-01-05   Nanograms/cubic meter (25 C)  .  \n",
       "79                     2022-01-05   Nanograms/cubic meter (25 C)  .  \n",
       "80                     2022-01-05   Nanograms/cubic meter (25 C)  .  \n",
       "81                     2022-01-05   Nanograms/cubic meter (25 C)  .  \n",
       "82                     2022-01-05   Nanograms/cubic meter (25 C)  .  \n",
       "83                     2022-01-05   Parts per billion Carbon      .  \n",
       "84                     2022-01-05   Nanograms/cubic meter (25 C)  .  \n",
       "85                     2022-01-05   Nanograms/cubic meter (25 C)  .  \n",
       "86                     2022-01-05   Nanograms/cubic meter (25 C)  .  \n",
       "87                     2022-01-05   Nanograms/cubic meter (25 C)  .  \n",
       "88                     2022-01-05   Nanograms/cubic meter (25 C)  .  \n",
       "89                     2022-01-05   Nanograms/cubic meter (25 C)  .  \n",
       "90                     2022-01-05   Nanograms/cubic meter (25 C)  .  \n",
       "91                     2022-01-05   Nanograms/cubic meter (25 C)  .  \n",
       "92                     2022-01-05   Nanograms/cubic meter (25 C)  .  \n",
       "93                     2022-01-05   Nanograms/cubic meter (25 C)  .  \n",
       "94                     2022-01-05   Nanograms/cubic meter (25 C)  .  \n",
       "95                     2022-01-05   Nanograms/cubic meter (25 C)  .  \n",
       "96                     2022-01-05   Nanograms/cubic meter (25 C)  .  \n",
       "97                     2022-01-05   Nanograms/cubic meter (25 C)  .  \n",
       "98                     2022-01-05   Nanograms/cubic meter (25 C)  .  \n",
       "99                     2022-01-05   Nanograms/cubic meter (25 C)  .  \n",
       "100                    2022-01-05   Count per cm^3                .  \n",
       "    Daily.Criteria.Indicator State.Name   County.Name City.Name \n",
       "1   Y                        Rhode Island Providence  Providence\n",
       "2   Y                        Rhode Island Providence  Providence\n",
       "3   Y                        Rhode Island Providence  Providence\n",
       "4   Y                        Rhode Island Providence  Providence\n",
       "5   Y                        Rhode Island Providence  Providence\n",
       "6   Y                        Rhode Island Providence  Providence\n",
       "7   Y                        Rhode Island Providence  Providence\n",
       "8   Y                        Rhode Island Providence  Providence\n",
       "9   Y                        Rhode Island Providence  Providence\n",
       "10  Y                        Rhode Island Providence  Providence\n",
       "11  Y                        Rhode Island Providence  Providence\n",
       "12  Y                        Rhode Island Providence  Providence\n",
       "13  Y                        Rhode Island Providence  Providence\n",
       "14  Y                        Rhode Island Providence  Providence\n",
       "15  Y                        Rhode Island Providence  Providence\n",
       "16  Y                        Rhode Island Providence  Providence\n",
       "17  Y                        Rhode Island Providence  Providence\n",
       "18  Y                        Rhode Island Providence  Providence\n",
       "19  Y                        Rhode Island Providence  Providence\n",
       "20  Y                        Rhode Island Providence  Providence\n",
       "21  Y                        Rhode Island Providence  Providence\n",
       "22  Y                        Rhode Island Providence  Providence\n",
       "23  Y                        Rhode Island Providence  Providence\n",
       "24  Y                        Rhode Island Providence  Providence\n",
       "25  Y                        Rhode Island Providence  Providence\n",
       "26  Y                        Rhode Island Providence  Providence\n",
       "27  Y                        Rhode Island Providence  Providence\n",
       "28  Y                        Rhode Island Providence  Providence\n",
       "29  Y                        Rhode Island Providence  Providence\n",
       "30  Y                        Rhode Island Providence  Providence\n",
       "⋮   ⋮                        ⋮            ⋮           ⋮         \n",
       "71  Y                        Rhode Island Providence  Providence\n",
       "72  Y                        Rhode Island Providence  Providence\n",
       "73  Y                        Rhode Island Providence  Providence\n",
       "74  Y                        Rhode Island Providence  Providence\n",
       "75  Y                        Rhode Island Providence  Providence\n",
       "76  Y                        Rhode Island Providence  Providence\n",
       "77  Y                        Rhode Island Providence  Providence\n",
       "78  Y                        Rhode Island Providence  Providence\n",
       "79  Y                        Rhode Island Providence  Providence\n",
       "80  Y                        Rhode Island Providence  Providence\n",
       "81  Y                        Rhode Island Providence  Providence\n",
       "82  Y                        Rhode Island Providence  Providence\n",
       "83  Y                        Rhode Island Providence  Providence\n",
       "84  Y                        Rhode Island Providence  Providence\n",
       "85  Y                        Rhode Island Providence  Providence\n",
       "86  Y                        Rhode Island Providence  Providence\n",
       "87  Y                        Rhode Island Providence  Providence\n",
       "88  Y                        Rhode Island Providence  Providence\n",
       "89  Y                        Rhode Island Providence  Providence\n",
       "90  Y                        Rhode Island Providence  Providence\n",
       "91  Y                        Rhode Island Providence  Providence\n",
       "92  Y                        Rhode Island Providence  Providence\n",
       "93  Y                        Rhode Island Providence  Providence\n",
       "94  Y                        Rhode Island Providence  Providence\n",
       "95  Y                        Rhode Island Providence  Providence\n",
       "96  Y                        Rhode Island Providence  Providence\n",
       "97  Y                        Rhode Island Providence  Providence\n",
       "98  Y                        Rhode Island Providence  Providence\n",
       "99  Y                        Rhode Island Providence  Providence\n",
       "100 Y                        Rhode Island Providence  Providence\n",
       "    Local.Site.Name            Address                   \n",
       "1   CCRI Liston Campus ROOFTOP 1 Hilton St, PROVIDENCE RI\n",
       "2   CCRI Liston Campus ROOFTOP 1 Hilton St, PROVIDENCE RI\n",
       "3   CCRI Liston Campus ROOFTOP 1 Hilton St, PROVIDENCE RI\n",
       "4   CCRI Liston Campus ROOFTOP 1 Hilton St, PROVIDENCE RI\n",
       "5   CCRI Liston Campus ROOFTOP 1 Hilton St, PROVIDENCE RI\n",
       "6   CCRI Liston Campus ROOFTOP 1 Hilton St, PROVIDENCE RI\n",
       "7   CCRI Liston Campus ROOFTOP 1 Hilton St, PROVIDENCE RI\n",
       "8   CCRI Liston Campus ROOFTOP 1 Hilton St, PROVIDENCE RI\n",
       "9   CCRI Liston Campus ROOFTOP 1 Hilton St, PROVIDENCE RI\n",
       "10  CCRI Liston Campus ROOFTOP 1 Hilton St, PROVIDENCE RI\n",
       "11  CCRI Liston Campus ROOFTOP 1 Hilton St, PROVIDENCE RI\n",
       "12  CCRI Liston Campus ROOFTOP 1 Hilton St, PROVIDENCE RI\n",
       "13  CCRI Liston Campus ROOFTOP 1 Hilton St, PROVIDENCE RI\n",
       "14  CCRI Liston Campus ROOFTOP 1 Hilton St, PROVIDENCE RI\n",
       "15  CCRI Liston Campus ROOFTOP 1 Hilton St, PROVIDENCE RI\n",
       "16  CCRI Liston Campus ROOFTOP 1 Hilton St, PROVIDENCE RI\n",
       "17  CCRI Liston Campus ROOFTOP 1 Hilton St, PROVIDENCE RI\n",
       "18  CCRI Liston Campus ROOFTOP 1 Hilton St, PROVIDENCE RI\n",
       "19  CCRI Liston Campus ROOFTOP 1 Hilton St, PROVIDENCE RI\n",
       "20  CCRI Liston Campus ROOFTOP 1 Hilton St, PROVIDENCE RI\n",
       "21  CCRI Liston Campus ROOFTOP 1 Hilton St, PROVIDENCE RI\n",
       "22  CCRI Liston Campus ROOFTOP 1 Hilton St, PROVIDENCE RI\n",
       "23  CCRI Liston Campus ROOFTOP 1 Hilton St, PROVIDENCE RI\n",
       "24  CCRI Liston Campus ROOFTOP 1 Hilton St, PROVIDENCE RI\n",
       "25  CCRI Liston Campus ROOFTOP 1 Hilton St, PROVIDENCE RI\n",
       "26  CCRI Liston Campus ROOFTOP 1 Hilton St, PROVIDENCE RI\n",
       "27  CCRI Liston Campus ROOFTOP 1 Hilton St, PROVIDENCE RI\n",
       "28  CCRI Liston Campus ROOFTOP 1 Hilton St, PROVIDENCE RI\n",
       "29  CCRI Liston Campus ROOFTOP 1 Hilton St, PROVIDENCE RI\n",
       "30  CCRI Liston Campus ROOFTOP 1 Hilton St, PROVIDENCE RI\n",
       "⋮   ⋮                          ⋮                         \n",
       "71  CCRI Liston Campus ROOFTOP 1 Hilton St, PROVIDENCE RI\n",
       "72  CCRI Liston Campus ROOFTOP 1 Hilton St, PROVIDENCE RI\n",
       "73  CCRI Liston Campus ROOFTOP 1 Hilton St, PROVIDENCE RI\n",
       "74  CCRI Liston Campus ROOFTOP 1 Hilton St, PROVIDENCE RI\n",
       "75  CCRI Liston Campus ROOFTOP 1 Hilton St, PROVIDENCE RI\n",
       "76  CCRI Liston Campus ROOFTOP 1 Hilton St, PROVIDENCE RI\n",
       "77  CCRI Liston Campus ROOFTOP 1 Hilton St, PROVIDENCE RI\n",
       "78  CCRI Liston Campus ROOFTOP 1 Hilton St, PROVIDENCE RI\n",
       "79  CCRI Liston Campus ROOFTOP 1 Hilton St, PROVIDENCE RI\n",
       "80  CCRI Liston Campus ROOFTOP 1 Hilton St, PROVIDENCE RI\n",
       "81  CCRI Liston Campus ROOFTOP 1 Hilton St, PROVIDENCE RI\n",
       "82  CCRI Liston Campus ROOFTOP 1 Hilton St, PROVIDENCE RI\n",
       "83  CCRI Liston Campus ROOFTOP 1 Hilton St, PROVIDENCE RI\n",
       "84  CCRI Liston Campus ROOFTOP 1 Hilton St, PROVIDENCE RI\n",
       "85  CCRI Liston Campus ROOFTOP 1 Hilton St, PROVIDENCE RI\n",
       "86  CCRI Liston Campus ROOFTOP 1 Hilton St, PROVIDENCE RI\n",
       "87  CCRI Liston Campus ROOFTOP 1 Hilton St, PROVIDENCE RI\n",
       "88  CCRI Liston Campus ROOFTOP 1 Hilton St, PROVIDENCE RI\n",
       "89  CCRI Liston Campus ROOFTOP 1 Hilton St, PROVIDENCE RI\n",
       "90  CCRI Liston Campus ROOFTOP 1 Hilton St, PROVIDENCE RI\n",
       "91  CCRI Liston Campus ROOFTOP 1 Hilton St, PROVIDENCE RI\n",
       "92  CCRI Liston Campus ROOFTOP 1 Hilton St, PROVIDENCE RI\n",
       "93  CCRI Liston Campus ROOFTOP 1 Hilton St, PROVIDENCE RI\n",
       "94  CCRI Liston Campus ROOFTOP 1 Hilton St, PROVIDENCE RI\n",
       "95  CCRI Liston Campus ROOFTOP 1 Hilton St, PROVIDENCE RI\n",
       "96  CCRI Liston Campus ROOFTOP 1 Hilton St, PROVIDENCE RI\n",
       "97  CCRI Liston Campus ROOFTOP 1 Hilton St, PROVIDENCE RI\n",
       "98  CCRI Liston Campus ROOFTOP 1 Hilton St, PROVIDENCE RI\n",
       "99  CCRI Liston Campus ROOFTOP 1 Hilton St, PROVIDENCE RI\n",
       "100 CCRI Liston Campus ROOFTOP 1 Hilton St, PROVIDENCE RI\n",
       "    MSA.or.CBSA.Name          Data.Source  \n",
       "1   Providence-Warwick, RI-MA AQS Data Mart\n",
       "2   Providence-Warwick, RI-MA AQS Data Mart\n",
       "3   Providence-Warwick, RI-MA AQS Data Mart\n",
       "4   Providence-Warwick, RI-MA AQS Data Mart\n",
       "5   Providence-Warwick, RI-MA AQS Data Mart\n",
       "6   Providence-Warwick, RI-MA AQS Data Mart\n",
       "7   Providence-Warwick, RI-MA AQS Data Mart\n",
       "8   Providence-Warwick, RI-MA AQS Data Mart\n",
       "9   Providence-Warwick, RI-MA AQS Data Mart\n",
       "10  Providence-Warwick, RI-MA AQS Data Mart\n",
       "11  Providence-Warwick, RI-MA AQS Data Mart\n",
       "12  Providence-Warwick, RI-MA AQS Data Mart\n",
       "13  Providence-Warwick, RI-MA AQS Data Mart\n",
       "14  Providence-Warwick, RI-MA AQS Data Mart\n",
       "15  Providence-Warwick, RI-MA AQS Data Mart\n",
       "16  Providence-Warwick, RI-MA AQS Data Mart\n",
       "17  Providence-Warwick, RI-MA AQS Data Mart\n",
       "18  Providence-Warwick, RI-MA AQS Data Mart\n",
       "19  Providence-Warwick, RI-MA AQS Data Mart\n",
       "20  Providence-Warwick, RI-MA AQS Data Mart\n",
       "21  Providence-Warwick, RI-MA AQS Data Mart\n",
       "22  Providence-Warwick, RI-MA AQS Data Mart\n",
       "23  Providence-Warwick, RI-MA AQS Data Mart\n",
       "24  Providence-Warwick, RI-MA AQS Data Mart\n",
       "25  Providence-Warwick, RI-MA AQS Data Mart\n",
       "26  Providence-Warwick, RI-MA AQS Data Mart\n",
       "27  Providence-Warwick, RI-MA AQS Data Mart\n",
       "28  Providence-Warwick, RI-MA AQS Data Mart\n",
       "29  Providence-Warwick, RI-MA AQS Data Mart\n",
       "30  Providence-Warwick, RI-MA AQS Data Mart\n",
       "⋮   ⋮                         ⋮            \n",
       "71  Providence-Warwick, RI-MA AQS Data Mart\n",
       "72  Providence-Warwick, RI-MA AQS Data Mart\n",
       "73  Providence-Warwick, RI-MA AQS Data Mart\n",
       "74  Providence-Warwick, RI-MA AQS Data Mart\n",
       "75  Providence-Warwick, RI-MA AQS Data Mart\n",
       "76  Providence-Warwick, RI-MA AQS Data Mart\n",
       "77  Providence-Warwick, RI-MA AQS Data Mart\n",
       "78  Providence-Warwick, RI-MA AQS Data Mart\n",
       "79  Providence-Warwick, RI-MA AQS Data Mart\n",
       "80  Providence-Warwick, RI-MA AQS Data Mart\n",
       "81  Providence-Warwick, RI-MA AQS Data Mart\n",
       "82  Providence-Warwick, RI-MA AQS Data Mart\n",
       "83  Providence-Warwick, RI-MA AQS Data Mart\n",
       "84  Providence-Warwick, RI-MA AQS Data Mart\n",
       "85  Providence-Warwick, RI-MA AQS Data Mart\n",
       "86  Providence-Warwick, RI-MA AQS Data Mart\n",
       "87  Providence-Warwick, RI-MA AQS Data Mart\n",
       "88  Providence-Warwick, RI-MA AQS Data Mart\n",
       "89  Providence-Warwick, RI-MA AQS Data Mart\n",
       "90  Providence-Warwick, RI-MA AQS Data Mart\n",
       "91  Providence-Warwick, RI-MA AQS Data Mart\n",
       "92  Providence-Warwick, RI-MA AQS Data Mart\n",
       "93  Providence-Warwick, RI-MA AQS Data Mart\n",
       "94  Providence-Warwick, RI-MA AQS Data Mart\n",
       "95  Providence-Warwick, RI-MA AQS Data Mart\n",
       "96  Providence-Warwick, RI-MA AQS Data Mart\n",
       "97  Providence-Warwick, RI-MA AQS Data Mart\n",
       "98  Providence-Warwick, RI-MA AQS Data Mart\n",
       "99  Providence-Warwick, RI-MA AQS Data Mart\n",
       "100 Providence-Warwick, RI-MA AQS Data Mart"
      ]
     },
     "metadata": {},
     "output_type": "display_data"
    }
   ],
   "source": [
    "# Inspect Character Fields\n",
    "df_2022_01 %>%\n",
    "select_if(is.character) %>%\n",
    "head(100)"
   ]
  },
  {
   "cell_type": "markdown",
   "metadata": {},
   "source": [
    "**Back to our questions:**\n",
    "\n",
    "1. Did it import correctly?\n",
    "2. What does the table look like? Number of rows? Columns?\n",
    "3. Do we need all the data we are importing?\n",
    "4. Is the data in the correct format?\n",
    "\n",
    "* There are many columns we could drop because they all have the same value such as: \"Local Site Name\" and \"Address\". We know we are only working with one site for this analysis so these columns don't provide much value. These columns are long string fields that take up more memory. Dropping them would improve performance if this dataset gets really large.\n",
    "* The date would be more useful as a datetime data type rather than as string. This will allow for filtering by time and other useful datetime operations.\n",
    "* The column names, while R converted them into valid variable names, are not in a more conventional format like snake case\n",
    "\n",
    "We can supply additional arguments to the `read_csv` function to handle these specifications."
   ]
  },
  {
   "cell_type": "code",
   "execution_count": 14,
   "metadata": {},
   "outputs": [
    {
     "name": "stderr",
     "output_type": "stream",
     "text": [
      "Updating HTML index of packages in '.Library'\n",
      "\n",
      "Making 'packages.html' ...\n",
      " done\n",
      "\n"
     ]
    }
   ],
   "source": [
    "install.packages('snakecase')"
   ]
  },
  {
   "cell_type": "code",
   "execution_count": 15,
   "metadata": {},
   "outputs": [],
   "source": [
    "library(snakecase)"
   ]
  },
  {
   "cell_type": "code",
   "execution_count": 16,
   "metadata": {},
   "outputs": [
    {
     "data": {
      "text/html": [
       "<table class=\"dataframe\">\n",
       "<caption>A data.frame: 6 × 34</caption>\n",
       "<thead>\n",
       "\t<tr><th></th><th scope=col>state_code</th><th scope=col>county_code</th><th scope=col>site_number</th><th scope=col>parameter_code</th><th scope=col>poc</th><th scope=col>latitude</th><th scope=col>longitude</th><th scope=col>datum</th><th scope=col>parameter_name</th><th scope=col>duration_description</th><th scope=col>⋯</th><th scope=col>aqi</th><th scope=col>daily_criteria_indicator</th><th scope=col>tribe_name</th><th scope=col>state_name</th><th scope=col>county_name</th><th scope=col>city_name</th><th scope=col>local_site_name</th><th scope=col>address</th><th scope=col>msa_or_cbsa_name</th><th scope=col>data_source</th></tr>\n",
       "\t<tr><th></th><th scope=col>&lt;int&gt;</th><th scope=col>&lt;int&gt;</th><th scope=col>&lt;int&gt;</th><th scope=col>&lt;int&gt;</th><th scope=col>&lt;int&gt;</th><th scope=col>&lt;dbl&gt;</th><th scope=col>&lt;dbl&gt;</th><th scope=col>&lt;chr&gt;</th><th scope=col>&lt;chr&gt;</th><th scope=col>&lt;chr&gt;</th><th scope=col>⋯</th><th scope=col>&lt;chr&gt;</th><th scope=col>&lt;chr&gt;</th><th scope=col>&lt;lgl&gt;</th><th scope=col>&lt;chr&gt;</th><th scope=col>&lt;chr&gt;</th><th scope=col>&lt;chr&gt;</th><th scope=col>&lt;chr&gt;</th><th scope=col>&lt;chr&gt;</th><th scope=col>&lt;chr&gt;</th><th scope=col>&lt;chr&gt;</th></tr>\n",
       "</thead>\n",
       "<tbody>\n",
       "\t<tr><th scope=row>1</th><td>44</td><td>7</td><td>22</td><td>87101</td><td>1</td><td>41.80747</td><td>-71.41297</td><td>NAD83</td><td>Particle Number, Total Count</td><td>1 HOUR       </td><td>⋯</td><td>. </td><td>Y</td><td>NA</td><td>Rhode Island</td><td>Providence</td><td>Providence</td><td>CCRI Liston Campus ROOFTOP</td><td>1 Hilton St, PROVIDENCE RI</td><td>Providence-Warwick, RI-MA</td><td>AQS Data Mart</td></tr>\n",
       "\t<tr><th scope=row>2</th><td>44</td><td>7</td><td>22</td><td>61107</td><td>1</td><td>41.80747</td><td>-71.41297</td><td>NAD83</td><td>Std Dev Vt Wind Direction   </td><td>1 HOUR       </td><td>⋯</td><td>. </td><td>Y</td><td>NA</td><td>Rhode Island</td><td>Providence</td><td>Providence</td><td>CCRI Liston Campus ROOFTOP</td><td>1 Hilton St, PROVIDENCE RI</td><td>Providence-Warwick, RI-MA</td><td>AQS Data Mart</td></tr>\n",
       "\t<tr><th scope=row>3</th><td>44</td><td>7</td><td>22</td><td>62101</td><td>1</td><td>41.80747</td><td>-71.41297</td><td>NAD83</td><td>Outdoor Temperature         </td><td>1 HOUR       </td><td>⋯</td><td>. </td><td>Y</td><td>NA</td><td>Rhode Island</td><td>Providence</td><td>Providence</td><td>CCRI Liston Campus ROOFTOP</td><td>1 Hilton St, PROVIDENCE RI</td><td>Providence-Warwick, RI-MA</td><td>AQS Data Mart</td></tr>\n",
       "\t<tr><th scope=row>4</th><td>44</td><td>7</td><td>22</td><td>61104</td><td>1</td><td>41.80747</td><td>-71.41297</td><td>NAD83</td><td>Wind Direction - Resultant  </td><td>1 HOUR       </td><td>⋯</td><td>. </td><td>Y</td><td>NA</td><td>Rhode Island</td><td>Providence</td><td>Providence</td><td>CCRI Liston Campus ROOFTOP</td><td>1 Hilton St, PROVIDENCE RI</td><td>Providence-Warwick, RI-MA</td><td>AQS Data Mart</td></tr>\n",
       "\t<tr><th scope=row>5</th><td>44</td><td>7</td><td>22</td><td>84313</td><td>1</td><td>41.80747</td><td>-71.41297</td><td>NAD83</td><td>Black carbon PM2.5 STP      </td><td>1 HOUR       </td><td>⋯</td><td>. </td><td>Y</td><td>NA</td><td>Rhode Island</td><td>Providence</td><td>Providence</td><td>CCRI Liston Campus ROOFTOP</td><td>1 Hilton St, PROVIDENCE RI</td><td>Providence-Warwick, RI-MA</td><td>AQS Data Mart</td></tr>\n",
       "\t<tr><th scope=row>6</th><td>44</td><td>7</td><td>22</td><td>88101</td><td>3</td><td>41.80747</td><td>-71.41297</td><td>NAD83</td><td>PM2.5 - Local Conditions    </td><td>24-HR BLK AVG</td><td>⋯</td><td>30</td><td>Y</td><td>NA</td><td>Rhode Island</td><td>Providence</td><td>Providence</td><td>CCRI Liston Campus ROOFTOP</td><td>1 Hilton St, PROVIDENCE RI</td><td>Providence-Warwick, RI-MA</td><td>AQS Data Mart</td></tr>\n",
       "</tbody>\n",
       "</table>\n"
      ],
      "text/latex": [
       "A data.frame: 6 × 34\n",
       "\\begin{tabular}{r|lllllllllllllllllllll}\n",
       "  & state\\_code & county\\_code & site\\_number & parameter\\_code & poc & latitude & longitude & datum & parameter\\_name & duration\\_description & ⋯ & aqi & daily\\_criteria\\_indicator & tribe\\_name & state\\_name & county\\_name & city\\_name & local\\_site\\_name & address & msa\\_or\\_cbsa\\_name & data\\_source\\\\\n",
       "  & <int> & <int> & <int> & <int> & <int> & <dbl> & <dbl> & <chr> & <chr> & <chr> & ⋯ & <chr> & <chr> & <lgl> & <chr> & <chr> & <chr> & <chr> & <chr> & <chr> & <chr>\\\\\n",
       "\\hline\n",
       "\t1 & 44 & 7 & 22 & 87101 & 1 & 41.80747 & -71.41297 & NAD83 & Particle Number, Total Count & 1 HOUR        & ⋯ & .  & Y & NA & Rhode Island & Providence & Providence & CCRI Liston Campus ROOFTOP & 1 Hilton St, PROVIDENCE RI & Providence-Warwick, RI-MA & AQS Data Mart\\\\\n",
       "\t2 & 44 & 7 & 22 & 61107 & 1 & 41.80747 & -71.41297 & NAD83 & Std Dev Vt Wind Direction    & 1 HOUR        & ⋯ & .  & Y & NA & Rhode Island & Providence & Providence & CCRI Liston Campus ROOFTOP & 1 Hilton St, PROVIDENCE RI & Providence-Warwick, RI-MA & AQS Data Mart\\\\\n",
       "\t3 & 44 & 7 & 22 & 62101 & 1 & 41.80747 & -71.41297 & NAD83 & Outdoor Temperature          & 1 HOUR        & ⋯ & .  & Y & NA & Rhode Island & Providence & Providence & CCRI Liston Campus ROOFTOP & 1 Hilton St, PROVIDENCE RI & Providence-Warwick, RI-MA & AQS Data Mart\\\\\n",
       "\t4 & 44 & 7 & 22 & 61104 & 1 & 41.80747 & -71.41297 & NAD83 & Wind Direction - Resultant   & 1 HOUR        & ⋯ & .  & Y & NA & Rhode Island & Providence & Providence & CCRI Liston Campus ROOFTOP & 1 Hilton St, PROVIDENCE RI & Providence-Warwick, RI-MA & AQS Data Mart\\\\\n",
       "\t5 & 44 & 7 & 22 & 84313 & 1 & 41.80747 & -71.41297 & NAD83 & Black carbon PM2.5 STP       & 1 HOUR        & ⋯ & .  & Y & NA & Rhode Island & Providence & Providence & CCRI Liston Campus ROOFTOP & 1 Hilton St, PROVIDENCE RI & Providence-Warwick, RI-MA & AQS Data Mart\\\\\n",
       "\t6 & 44 & 7 & 22 & 88101 & 3 & 41.80747 & -71.41297 & NAD83 & PM2.5 - Local Conditions     & 24-HR BLK AVG & ⋯ & 30 & Y & NA & Rhode Island & Providence & Providence & CCRI Liston Campus ROOFTOP & 1 Hilton St, PROVIDENCE RI & Providence-Warwick, RI-MA & AQS Data Mart\\\\\n",
       "\\end{tabular}\n"
      ],
      "text/markdown": [
       "\n",
       "A data.frame: 6 × 34\n",
       "\n",
       "| <!--/--> | state_code &lt;int&gt; | county_code &lt;int&gt; | site_number &lt;int&gt; | parameter_code &lt;int&gt; | poc &lt;int&gt; | latitude &lt;dbl&gt; | longitude &lt;dbl&gt; | datum &lt;chr&gt; | parameter_name &lt;chr&gt; | duration_description &lt;chr&gt; | ⋯ ⋯ | aqi &lt;chr&gt; | daily_criteria_indicator &lt;chr&gt; | tribe_name &lt;lgl&gt; | state_name &lt;chr&gt; | county_name &lt;chr&gt; | city_name &lt;chr&gt; | local_site_name &lt;chr&gt; | address &lt;chr&gt; | msa_or_cbsa_name &lt;chr&gt; | data_source &lt;chr&gt; |\n",
       "|---|---|---|---|---|---|---|---|---|---|---|---|---|---|---|---|---|---|---|---|---|---|\n",
       "| 1 | 44 | 7 | 22 | 87101 | 1 | 41.80747 | -71.41297 | NAD83 | Particle Number, Total Count | 1 HOUR        | ⋯ | .  | Y | NA | Rhode Island | Providence | Providence | CCRI Liston Campus ROOFTOP | 1 Hilton St, PROVIDENCE RI | Providence-Warwick, RI-MA | AQS Data Mart |\n",
       "| 2 | 44 | 7 | 22 | 61107 | 1 | 41.80747 | -71.41297 | NAD83 | Std Dev Vt Wind Direction    | 1 HOUR        | ⋯ | .  | Y | NA | Rhode Island | Providence | Providence | CCRI Liston Campus ROOFTOP | 1 Hilton St, PROVIDENCE RI | Providence-Warwick, RI-MA | AQS Data Mart |\n",
       "| 3 | 44 | 7 | 22 | 62101 | 1 | 41.80747 | -71.41297 | NAD83 | Outdoor Temperature          | 1 HOUR        | ⋯ | .  | Y | NA | Rhode Island | Providence | Providence | CCRI Liston Campus ROOFTOP | 1 Hilton St, PROVIDENCE RI | Providence-Warwick, RI-MA | AQS Data Mart |\n",
       "| 4 | 44 | 7 | 22 | 61104 | 1 | 41.80747 | -71.41297 | NAD83 | Wind Direction - Resultant   | 1 HOUR        | ⋯ | .  | Y | NA | Rhode Island | Providence | Providence | CCRI Liston Campus ROOFTOP | 1 Hilton St, PROVIDENCE RI | Providence-Warwick, RI-MA | AQS Data Mart |\n",
       "| 5 | 44 | 7 | 22 | 84313 | 1 | 41.80747 | -71.41297 | NAD83 | Black carbon PM2.5 STP       | 1 HOUR        | ⋯ | .  | Y | NA | Rhode Island | Providence | Providence | CCRI Liston Campus ROOFTOP | 1 Hilton St, PROVIDENCE RI | Providence-Warwick, RI-MA | AQS Data Mart |\n",
       "| 6 | 44 | 7 | 22 | 88101 | 3 | 41.80747 | -71.41297 | NAD83 | PM2.5 - Local Conditions     | 24-HR BLK AVG | ⋯ | 30 | Y | NA | Rhode Island | Providence | Providence | CCRI Liston Campus ROOFTOP | 1 Hilton St, PROVIDENCE RI | Providence-Warwick, RI-MA | AQS Data Mart |\n",
       "\n"
      ],
      "text/plain": [
       "  state_code county_code site_number parameter_code poc latitude longitude\n",
       "1 44         7           22          87101          1   41.80747 -71.41297\n",
       "2 44         7           22          61107          1   41.80747 -71.41297\n",
       "3 44         7           22          62101          1   41.80747 -71.41297\n",
       "4 44         7           22          61104          1   41.80747 -71.41297\n",
       "5 44         7           22          84313          1   41.80747 -71.41297\n",
       "6 44         7           22          88101          3   41.80747 -71.41297\n",
       "  datum parameter_name               duration_description ⋯ aqi\n",
       "1 NAD83 Particle Number, Total Count 1 HOUR               ⋯ .  \n",
       "2 NAD83 Std Dev Vt Wind Direction    1 HOUR               ⋯ .  \n",
       "3 NAD83 Outdoor Temperature          1 HOUR               ⋯ .  \n",
       "4 NAD83 Wind Direction - Resultant   1 HOUR               ⋯ .  \n",
       "5 NAD83 Black carbon PM2.5 STP       1 HOUR               ⋯ .  \n",
       "6 NAD83 PM2.5 - Local Conditions     24-HR BLK AVG        ⋯ 30 \n",
       "  daily_criteria_indicator tribe_name state_name   county_name city_name \n",
       "1 Y                        NA         Rhode Island Providence  Providence\n",
       "2 Y                        NA         Rhode Island Providence  Providence\n",
       "3 Y                        NA         Rhode Island Providence  Providence\n",
       "4 Y                        NA         Rhode Island Providence  Providence\n",
       "5 Y                        NA         Rhode Island Providence  Providence\n",
       "6 Y                        NA         Rhode Island Providence  Providence\n",
       "  local_site_name            address                   \n",
       "1 CCRI Liston Campus ROOFTOP 1 Hilton St, PROVIDENCE RI\n",
       "2 CCRI Liston Campus ROOFTOP 1 Hilton St, PROVIDENCE RI\n",
       "3 CCRI Liston Campus ROOFTOP 1 Hilton St, PROVIDENCE RI\n",
       "4 CCRI Liston Campus ROOFTOP 1 Hilton St, PROVIDENCE RI\n",
       "5 CCRI Liston Campus ROOFTOP 1 Hilton St, PROVIDENCE RI\n",
       "6 CCRI Liston Campus ROOFTOP 1 Hilton St, PROVIDENCE RI\n",
       "  msa_or_cbsa_name          data_source  \n",
       "1 Providence-Warwick, RI-MA AQS Data Mart\n",
       "2 Providence-Warwick, RI-MA AQS Data Mart\n",
       "3 Providence-Warwick, RI-MA AQS Data Mart\n",
       "4 Providence-Warwick, RI-MA AQS Data Mart\n",
       "5 Providence-Warwick, RI-MA AQS Data Mart\n",
       "6 Providence-Warwick, RI-MA AQS Data Mart"
      ]
     },
     "metadata": {},
     "output_type": "display_data"
    },
    {
     "data": {
      "text/html": [
       "<style>\n",
       ".list-inline {list-style: none; margin:0; padding: 0}\n",
       ".list-inline>li {display: inline-block}\n",
       ".list-inline>li:not(:last-child)::after {content: \"\\00b7\"; padding: 0 .5ex}\n",
       "</style>\n",
       "<ol class=list-inline><li>'state_code'</li><li>'county_code'</li><li>'site_number'</li><li>'parameter_code'</li><li>'poc'</li><li>'latitude'</li><li>'longitude'</li><li>'datum'</li><li>'parameter_name'</li><li>'duration_description'</li><li>'pollutant_standard'</li><li>'date_local'</li><li>'year'</li><li>'day_in_year_local'</li><li>'units_of_measure'</li><li>'exceptional_data_type'</li><li>'nonreg_observation_count'</li><li>'observation_count'</li><li>'observation_percent'</li><li>'nonreg_arithmetic_mean'</li><li>'arithmetic_mean'</li><li>'nonreg_first_maximum_value'</li><li>'first_maximum_value'</li><li>'first_maximum_hour'</li><li>'aqi'</li><li>'daily_criteria_indicator'</li><li>'tribe_name'</li><li>'state_name'</li><li>'county_name'</li><li>'city_name'</li><li>'local_site_name'</li><li>'address'</li><li>'msa_or_cbsa_name'</li><li>'data_source'</li></ol>\n"
      ],
      "text/latex": [
       "\\begin{enumerate*}\n",
       "\\item 'state\\_code'\n",
       "\\item 'county\\_code'\n",
       "\\item 'site\\_number'\n",
       "\\item 'parameter\\_code'\n",
       "\\item 'poc'\n",
       "\\item 'latitude'\n",
       "\\item 'longitude'\n",
       "\\item 'datum'\n",
       "\\item 'parameter\\_name'\n",
       "\\item 'duration\\_description'\n",
       "\\item 'pollutant\\_standard'\n",
       "\\item 'date\\_local'\n",
       "\\item 'year'\n",
       "\\item 'day\\_in\\_year\\_local'\n",
       "\\item 'units\\_of\\_measure'\n",
       "\\item 'exceptional\\_data\\_type'\n",
       "\\item 'nonreg\\_observation\\_count'\n",
       "\\item 'observation\\_count'\n",
       "\\item 'observation\\_percent'\n",
       "\\item 'nonreg\\_arithmetic\\_mean'\n",
       "\\item 'arithmetic\\_mean'\n",
       "\\item 'nonreg\\_first\\_maximum\\_value'\n",
       "\\item 'first\\_maximum\\_value'\n",
       "\\item 'first\\_maximum\\_hour'\n",
       "\\item 'aqi'\n",
       "\\item 'daily\\_criteria\\_indicator'\n",
       "\\item 'tribe\\_name'\n",
       "\\item 'state\\_name'\n",
       "\\item 'county\\_name'\n",
       "\\item 'city\\_name'\n",
       "\\item 'local\\_site\\_name'\n",
       "\\item 'address'\n",
       "\\item 'msa\\_or\\_cbsa\\_name'\n",
       "\\item 'data\\_source'\n",
       "\\end{enumerate*}\n"
      ],
      "text/markdown": [
       "1. 'state_code'\n",
       "2. 'county_code'\n",
       "3. 'site_number'\n",
       "4. 'parameter_code'\n",
       "5. 'poc'\n",
       "6. 'latitude'\n",
       "7. 'longitude'\n",
       "8. 'datum'\n",
       "9. 'parameter_name'\n",
       "10. 'duration_description'\n",
       "11. 'pollutant_standard'\n",
       "12. 'date_local'\n",
       "13. 'year'\n",
       "14. 'day_in_year_local'\n",
       "15. 'units_of_measure'\n",
       "16. 'exceptional_data_type'\n",
       "17. 'nonreg_observation_count'\n",
       "18. 'observation_count'\n",
       "19. 'observation_percent'\n",
       "20. 'nonreg_arithmetic_mean'\n",
       "21. 'arithmetic_mean'\n",
       "22. 'nonreg_first_maximum_value'\n",
       "23. 'first_maximum_value'\n",
       "24. 'first_maximum_hour'\n",
       "25. 'aqi'\n",
       "26. 'daily_criteria_indicator'\n",
       "27. 'tribe_name'\n",
       "28. 'state_name'\n",
       "29. 'county_name'\n",
       "30. 'city_name'\n",
       "31. 'local_site_name'\n",
       "32. 'address'\n",
       "33. 'msa_or_cbsa_name'\n",
       "34. 'data_source'\n",
       "\n",
       "\n"
      ],
      "text/plain": [
       " [1] \"state_code\"                 \"county_code\"               \n",
       " [3] \"site_number\"                \"parameter_code\"            \n",
       " [5] \"poc\"                        \"latitude\"                  \n",
       " [7] \"longitude\"                  \"datum\"                     \n",
       " [9] \"parameter_name\"             \"duration_description\"      \n",
       "[11] \"pollutant_standard\"         \"date_local\"                \n",
       "[13] \"year\"                       \"day_in_year_local\"         \n",
       "[15] \"units_of_measure\"           \"exceptional_data_type\"     \n",
       "[17] \"nonreg_observation_count\"   \"observation_count\"         \n",
       "[19] \"observation_percent\"        \"nonreg_arithmetic_mean\"    \n",
       "[21] \"arithmetic_mean\"            \"nonreg_first_maximum_value\"\n",
       "[23] \"first_maximum_value\"        \"first_maximum_hour\"        \n",
       "[25] \"aqi\"                        \"daily_criteria_indicator\"  \n",
       "[27] \"tribe_name\"                 \"state_name\"                \n",
       "[29] \"county_name\"                \"city_name\"                 \n",
       "[31] \"local_site_name\"            \"address\"                   \n",
       "[33] \"msa_or_cbsa_name\"           \"data_source\"               "
      ]
     },
     "metadata": {},
     "output_type": "display_data"
    }
   ],
   "source": [
    "# Clean up the column names\n",
    "df_2022_01_curated <- df_2022_01 %>%\n",
    "    rename_with(to_snake_case)\n",
    "\n",
    "# Print out\n",
    "head(df_2022_01_curated)\n",
    "names(df_2022_01_curated)"
   ]
  },
  {
   "cell_type": "code",
   "execution_count": 17,
   "metadata": {},
   "outputs": [
    {
     "data": {
      "text/html": [
       "<table class=\"dataframe\">\n",
       "<caption>A data.frame: 6 × 17</caption>\n",
       "<thead>\n",
       "\t<tr><th></th><th scope=col>parameter_code</th><th scope=col>poc</th><th scope=col>parameter_name</th><th scope=col>duration_description</th><th scope=col>pollutant_standard</th><th scope=col>date_local</th><th scope=col>year</th><th scope=col>day_in_year_local</th><th scope=col>units_of_measure</th><th scope=col>exceptional_data_type</th><th scope=col>observation_count</th><th scope=col>observation_percent</th><th scope=col>arithmetic_mean</th><th scope=col>first_maximum_value</th><th scope=col>first_maximum_hour</th><th scope=col>aqi</th><th scope=col>daily_criteria_indicator</th></tr>\n",
       "\t<tr><th></th><th scope=col>&lt;int&gt;</th><th scope=col>&lt;int&gt;</th><th scope=col>&lt;chr&gt;</th><th scope=col>&lt;chr&gt;</th><th scope=col>&lt;chr&gt;</th><th scope=col>&lt;chr&gt;</th><th scope=col>&lt;int&gt;</th><th scope=col>&lt;int&gt;</th><th scope=col>&lt;chr&gt;</th><th scope=col>&lt;lgl&gt;</th><th scope=col>&lt;int&gt;</th><th scope=col>&lt;dbl&gt;</th><th scope=col>&lt;dbl&gt;</th><th scope=col>&lt;dbl&gt;</th><th scope=col>&lt;int&gt;</th><th scope=col>&lt;chr&gt;</th><th scope=col>&lt;chr&gt;</th></tr>\n",
       "</thead>\n",
       "<tbody>\n",
       "\t<tr><th scope=row>1</th><td>87101</td><td>1</td><td>Particle Number, Total Count</td><td>1 HOUR       </td><td>                </td><td>2022-01-01</td><td>2022</td><td>1</td><td>Count per cm^3               </td><td>NA</td><td>24</td><td>100</td><td>7062.208333</td><td>14300.00</td><td>17</td><td>. </td><td>Y</td></tr>\n",
       "\t<tr><th scope=row>2</th><td>61107</td><td>1</td><td>Std Dev Vt Wind Direction   </td><td>1 HOUR       </td><td>                </td><td>2022-01-01</td><td>2022</td><td>1</td><td>Degrees Compass              </td><td>NA</td><td>24</td><td>100</td><td>  17.166667</td><td>   25.00</td><td> 7</td><td>. </td><td>Y</td></tr>\n",
       "\t<tr><th scope=row>3</th><td>62101</td><td>1</td><td>Outdoor Temperature         </td><td>1 HOUR       </td><td>                </td><td>2022-01-01</td><td>2022</td><td>1</td><td>Degrees Fahrenheit           </td><td>NA</td><td>24</td><td>100</td><td>  48.958333</td><td>   54.00</td><td>15</td><td>. </td><td>Y</td></tr>\n",
       "\t<tr><th scope=row>4</th><td>61104</td><td>1</td><td>Wind Direction - Resultant  </td><td>1 HOUR       </td><td>                </td><td>2022-01-01</td><td>2022</td><td>1</td><td>Degrees Compass              </td><td>NA</td><td>24</td><td>100</td><td> 140.791667</td><td>  195.00</td><td>15</td><td>. </td><td>Y</td></tr>\n",
       "\t<tr><th scope=row>5</th><td>84313</td><td>1</td><td>Black carbon PM2.5 STP      </td><td>1 HOUR       </td><td>                </td><td>2022-01-01</td><td>2022</td><td>1</td><td>Micrograms/cubic meter (25 C)</td><td>NA</td><td>24</td><td>100</td><td>   0.458333</td><td>    1.25</td><td> 1</td><td>. </td><td>Y</td></tr>\n",
       "\t<tr><th scope=row>6</th><td>88101</td><td>3</td><td>PM2.5 - Local Conditions    </td><td>24-HR BLK AVG</td><td>PM25 Annual 2012</td><td>2022-01-01</td><td>2022</td><td>1</td><td>Micrograms/cubic meter (LC)  </td><td>NA</td><td> 1</td><td>100</td><td>   7.100000</td><td>    7.10</td><td> 0</td><td>30</td><td>Y</td></tr>\n",
       "</tbody>\n",
       "</table>\n"
      ],
      "text/latex": [
       "A data.frame: 6 × 17\n",
       "\\begin{tabular}{r|lllllllllllllllll}\n",
       "  & parameter\\_code & poc & parameter\\_name & duration\\_description & pollutant\\_standard & date\\_local & year & day\\_in\\_year\\_local & units\\_of\\_measure & exceptional\\_data\\_type & observation\\_count & observation\\_percent & arithmetic\\_mean & first\\_maximum\\_value & first\\_maximum\\_hour & aqi & daily\\_criteria\\_indicator\\\\\n",
       "  & <int> & <int> & <chr> & <chr> & <chr> & <chr> & <int> & <int> & <chr> & <lgl> & <int> & <dbl> & <dbl> & <dbl> & <int> & <chr> & <chr>\\\\\n",
       "\\hline\n",
       "\t1 & 87101 & 1 & Particle Number, Total Count & 1 HOUR        &                  & 2022-01-01 & 2022 & 1 & Count per cm\\textasciicircum{}3                & NA & 24 & 100 & 7062.208333 & 14300.00 & 17 & .  & Y\\\\\n",
       "\t2 & 61107 & 1 & Std Dev Vt Wind Direction    & 1 HOUR        &                  & 2022-01-01 & 2022 & 1 & Degrees Compass               & NA & 24 & 100 &   17.166667 &    25.00 &  7 & .  & Y\\\\\n",
       "\t3 & 62101 & 1 & Outdoor Temperature          & 1 HOUR        &                  & 2022-01-01 & 2022 & 1 & Degrees Fahrenheit            & NA & 24 & 100 &   48.958333 &    54.00 & 15 & .  & Y\\\\\n",
       "\t4 & 61104 & 1 & Wind Direction - Resultant   & 1 HOUR        &                  & 2022-01-01 & 2022 & 1 & Degrees Compass               & NA & 24 & 100 &  140.791667 &   195.00 & 15 & .  & Y\\\\\n",
       "\t5 & 84313 & 1 & Black carbon PM2.5 STP       & 1 HOUR        &                  & 2022-01-01 & 2022 & 1 & Micrograms/cubic meter (25 C) & NA & 24 & 100 &    0.458333 &     1.25 &  1 & .  & Y\\\\\n",
       "\t6 & 88101 & 3 & PM2.5 - Local Conditions     & 24-HR BLK AVG & PM25 Annual 2012 & 2022-01-01 & 2022 & 1 & Micrograms/cubic meter (LC)   & NA &  1 & 100 &    7.100000 &     7.10 &  0 & 30 & Y\\\\\n",
       "\\end{tabular}\n"
      ],
      "text/markdown": [
       "\n",
       "A data.frame: 6 × 17\n",
       "\n",
       "| <!--/--> | parameter_code &lt;int&gt; | poc &lt;int&gt; | parameter_name &lt;chr&gt; | duration_description &lt;chr&gt; | pollutant_standard &lt;chr&gt; | date_local &lt;chr&gt; | year &lt;int&gt; | day_in_year_local &lt;int&gt; | units_of_measure &lt;chr&gt; | exceptional_data_type &lt;lgl&gt; | observation_count &lt;int&gt; | observation_percent &lt;dbl&gt; | arithmetic_mean &lt;dbl&gt; | first_maximum_value &lt;dbl&gt; | first_maximum_hour &lt;int&gt; | aqi &lt;chr&gt; | daily_criteria_indicator &lt;chr&gt; |\n",
       "|---|---|---|---|---|---|---|---|---|---|---|---|---|---|---|---|---|---|\n",
       "| 1 | 87101 | 1 | Particle Number, Total Count | 1 HOUR        | <!----> | 2022-01-01 | 2022 | 1 | Count per cm^3                | NA | 24 | 100 | 7062.208333 | 14300.00 | 17 | .  | Y |\n",
       "| 2 | 61107 | 1 | Std Dev Vt Wind Direction    | 1 HOUR        | <!----> | 2022-01-01 | 2022 | 1 | Degrees Compass               | NA | 24 | 100 |   17.166667 |    25.00 |  7 | .  | Y |\n",
       "| 3 | 62101 | 1 | Outdoor Temperature          | 1 HOUR        | <!----> | 2022-01-01 | 2022 | 1 | Degrees Fahrenheit            | NA | 24 | 100 |   48.958333 |    54.00 | 15 | .  | Y |\n",
       "| 4 | 61104 | 1 | Wind Direction - Resultant   | 1 HOUR        | <!----> | 2022-01-01 | 2022 | 1 | Degrees Compass               | NA | 24 | 100 |  140.791667 |   195.00 | 15 | .  | Y |\n",
       "| 5 | 84313 | 1 | Black carbon PM2.5 STP       | 1 HOUR        | <!----> | 2022-01-01 | 2022 | 1 | Micrograms/cubic meter (25 C) | NA | 24 | 100 |    0.458333 |     1.25 |  1 | .  | Y |\n",
       "| 6 | 88101 | 3 | PM2.5 - Local Conditions     | 24-HR BLK AVG | PM25 Annual 2012 | 2022-01-01 | 2022 | 1 | Micrograms/cubic meter (LC)   | NA |  1 | 100 |    7.100000 |     7.10 |  0 | 30 | Y |\n",
       "\n"
      ],
      "text/plain": [
       "  parameter_code poc parameter_name               duration_description\n",
       "1 87101          1   Particle Number, Total Count 1 HOUR              \n",
       "2 61107          1   Std Dev Vt Wind Direction    1 HOUR              \n",
       "3 62101          1   Outdoor Temperature          1 HOUR              \n",
       "4 61104          1   Wind Direction - Resultant   1 HOUR              \n",
       "5 84313          1   Black carbon PM2.5 STP       1 HOUR              \n",
       "6 88101          3   PM2.5 - Local Conditions     24-HR BLK AVG       \n",
       "  pollutant_standard date_local year day_in_year_local\n",
       "1                    2022-01-01 2022 1                \n",
       "2                    2022-01-01 2022 1                \n",
       "3                    2022-01-01 2022 1                \n",
       "4                    2022-01-01 2022 1                \n",
       "5                    2022-01-01 2022 1                \n",
       "6 PM25 Annual 2012   2022-01-01 2022 1                \n",
       "  units_of_measure              exceptional_data_type observation_count\n",
       "1 Count per cm^3                NA                    24               \n",
       "2 Degrees Compass               NA                    24               \n",
       "3 Degrees Fahrenheit            NA                    24               \n",
       "4 Degrees Compass               NA                    24               \n",
       "5 Micrograms/cubic meter (25 C) NA                    24               \n",
       "6 Micrograms/cubic meter (LC)   NA                     1               \n",
       "  observation_percent arithmetic_mean first_maximum_value first_maximum_hour\n",
       "1 100                 7062.208333     14300.00            17                \n",
       "2 100                   17.166667        25.00             7                \n",
       "3 100                   48.958333        54.00            15                \n",
       "4 100                  140.791667       195.00            15                \n",
       "5 100                    0.458333         1.25             1                \n",
       "6 100                    7.100000         7.10             0                \n",
       "  aqi daily_criteria_indicator\n",
       "1 .   Y                       \n",
       "2 .   Y                       \n",
       "3 .   Y                       \n",
       "4 .   Y                       \n",
       "5 .   Y                       \n",
       "6 30  Y                       "
      ]
     },
     "metadata": {},
     "output_type": "display_data"
    }
   ],
   "source": [
    "# Create a list of the columns we wish to keep\n",
    "keep_cols <- c(\n",
    "    \"parameter_code\",\n",
    "    \"poc\",\n",
    "    \"parameter_name\",\n",
    "    \"duration_description\",\n",
    "    \"pollutant_standard\",\n",
    "    \"date_local\",\n",
    "    \"year\",\n",
    "    \"day_in_year_local\",\n",
    "    \"units_of_measure\",\n",
    "    \"exceptional_data_type\",\n",
    "    \"observation_count\",\n",
    "    \"observation_percent\",\n",
    "    \"arithmetic_mean\",\n",
    "    \"first_maximum_value\",\n",
    "    \"first_maximum_hour\",\n",
    "    \"aqi\",\n",
    "    \"daily_criteria_indicator\")\n",
    "\n",
    "df_2022_01_curated <- df_2022_01_curated %>% select(all_of(keep_cols))\n",
    "head(df_2022_01_curated)"
   ]
  },
  {
   "cell_type": "code",
   "execution_count": 18,
   "metadata": {},
   "outputs": [
    {
     "name": "stdout",
     "output_type": "stream",
     "text": [
      "'data.frame':\t743 obs. of  17 variables:\n",
      " $ parameter_code          : int  87101 61107 62101 61104 84313 88101 88101 88101 62201 84313 ...\n",
      " $ poc                     : int  1 1 1 1 1 3 3 3 1 1 ...\n",
      " $ parameter_name          : chr  \"Particle Number, Total Count\" \"Std Dev Vt Wind Direction\" \"Outdoor Temperature\" \"Wind Direction - Resultant\" ...\n",
      " $ duration_description    : chr  \"1 HOUR\" \"1 HOUR\" \"1 HOUR\" \"1 HOUR\" ...\n",
      " $ pollutant_standard      : chr  \"\" \"\" \"\" \"\" ...\n",
      " $ date_local              : Date, format: \"2022-01-01\" \"2022-01-01\" ...\n",
      " $ year                    : int  2022 2022 2022 2022 2022 2022 2022 2022 2022 2022 ...\n",
      " $ day_in_year_local       : int  1 1 1 1 1 1 1 1 1 2 ...\n",
      " $ units_of_measure        : chr  \"Count per cm^3\" \"Degrees Compass\" \"Degrees Fahrenheit\" \"Degrees Compass\" ...\n",
      " $ exceptional_data_type   : logi  NA NA NA NA NA NA ...\n",
      " $ observation_count       : int  24 24 24 24 24 1 1 24 24 24 ...\n",
      " $ observation_percent     : num  100 100 100 100 100 100 100 100 100 100 ...\n",
      " $ arithmetic_mean         : num  7062.208 17.167 48.958 140.792 0.458 ...\n",
      " $ first_maximum_value     : num  14300 25 54 195 1.25 7.1 7.1 38 100 0.56 ...\n",
      " $ first_maximum_hour      : int  17 7 15 15 1 0 0 0 0 13 ...\n",
      " $ aqi                     : chr  \".\" \".\" \".\" \".\" ...\n",
      " $ daily_criteria_indicator: chr  \"Y\" \"Y\" \"Y\" \"Y\" ...\n"
     ]
    }
   ],
   "source": [
    "# Convert string date to Date field type\n",
    "df_2022_01_curated <- df_2022_01_curated %>%\n",
    "    mutate(date_local = as.Date(date_local, format = \"%Y-%m-%d\"))\n",
    "\n",
    "# See the updated data type\n",
    "str(df_2022_01_curated)"
   ]
  },
  {
   "cell_type": "code",
   "execution_count": 25,
   "metadata": {},
   "outputs": [
    {
     "ename": "ERROR",
     "evalue": "Error in parse(text = x, srcfile = src): <text>:12:14: unexpected '['\n11:     \n12: keep_cols <- [\n                 ^\n",
     "output_type": "error",
     "traceback": [
      "Error in parse(text = x, srcfile = src): <text>:12:14: unexpected '['\n11:     \n12: keep_cols <- [\n                 ^\nTraceback:\n"
     ]
    }
   ],
   "source": [
    "# Create a list of the columns we wish to keep\n",
    "keep_cols <- c(\n",
    "    \"parameter_code\",\n",
    "    \"poc\",\n",
    "    \"parameter_name\",\n",
    "    \"duration_description\",\n",
    "    \"pollutant_standard\",\n",
    "    \"date_local\",\n",
    "    \"year\",\n",
    "    \"day_in_year_local\",\n",
    "    \"units_of_measure\",\n",
    "    \"exceptional_data_type\",\n",
    "    \"observation_count\",\n",
    "    \"observation_percent\",\n",
    "    \"arithmetic_mean\",\n",
    "    \"first_maximum_value\",\n",
    "    \"first_maximum_hour\",\n",
    "    \"aqi\",\n",
    "    \"daily_criteria_indicator\"\n",
    "    \n",
    "keep_cols <- ['Parameter Code', 'POC', 'Parameter Name', 'Duration Description',\n",
    "             'Pollutant Standard',\n",
    "             'Date (Local)', 'Year', 'Day In Year (Local)', 'Units of Measure',\n",
    "             'Exceptional Data Type',\n",
    "             'Observation Count', 'Observation Percent', 'Arithmetic Mean', 'First Maximum Value',\n",
    "             'First Maximum Hour', 'AQI', 'Daily Criteria Indicator', ]\n",
    "\n",
    "# Read in the csv with additional arguments\n",
    "df_2022_01_curated = pd.read_csv(path_to_monthly_data / 'daily_44_007_0022_2022_01.csv',\n",
    "                                 usecols=keep_cols,  # Specify columns to keep\n",
    "                                 parse_dates=['Date (Local)'],\n",
    "                                 # Specify column to parse as a date instead of string\n",
    "                                 date_format='%Y-%m-%d',  # Specify the format of date strings\n",
    "                                 )\n",
    "df_2022_01_curated.head()"
   ]
  },
  {
   "cell_type": "code",
   "execution_count": null,
   "metadata": {},
   "outputs": [],
   "source": [
    "df_2022_01_curated.info()"
   ]
  },
  {
   "cell_type": "markdown",
   "metadata": {},
   "source": [
    "Great! We've cut down the number of columns and converted the date field to a datetime format!\n",
    "Next lets see how we can add more data from other files."
   ]
  },
  {
   "cell_type": "markdown",
   "metadata": {},
   "source": [
    "## 4. Concatenation\n",
    "So far we've worked with one month's worth of data. Let's see how we can combine DataFrames together.\n",
    "\n",
    "We will be using the [`pd.concat`](https://pandas.pydata.org/docs/reference/api/pandas.concat.html) function to combine two or more DataFrames.\n"
   ]
  },
  {
   "cell_type": "code",
   "execution_count": null,
   "metadata": {},
   "outputs": [],
   "source": [
    "# Read in February data\n",
    "df_2022_02_curated = pd.read_csv(path_to_monthly_data / 'daily_44_007_0022_2022_02.csv',\n",
    "                                 usecols=keep_cols,  # Specify columns to keep\n",
    "                                 parse_dates=['Date (Local)'],\n",
    "                                 # Specify column to parse as a date instead of string\n",
    "                                 date_format='%Y-%m-%d',  # Specify the format of date strings\n",
    "                                 )\n",
    "list_df_to_concat = [df_2022_01_curated, df_2022_02_curated]\n",
    "df_combined = pd.concat(list_df_to_concat)\n",
    "df_combined.head()"
   ]
  },
  {
   "cell_type": "code",
   "execution_count": null,
   "metadata": {},
   "outputs": [],
   "source": [
    "df_combined.tail()"
   ]
  },
  {
   "cell_type": "markdown",
   "metadata": {},
   "source": [
    "<div class=\"alert alert-block alert-warning\">\n",
    "After we concat we need to remember to reset the index because it does not do this automatically! We use the method `reset_index()` to do this.\n",
    "</div>"
   ]
  },
  {
   "cell_type": "code",
   "execution_count": null,
   "metadata": {},
   "outputs": [],
   "source": [
    "# Notice how the index is not the length of the dataframe?\n",
    "df_combined.index"
   ]
  },
  {
   "cell_type": "code",
   "execution_count": null,
   "metadata": {},
   "outputs": [],
   "source": [
    "# Resetting index\n",
    "df_combined = df_combined.reset_index(drop=True)\n",
    "df_combined.tail()"
   ]
  },
  {
   "cell_type": "markdown",
   "metadata": {},
   "source": [
    "### Concat all the files!\n",
    "Now that we've learned how to concatenate files. Let's combine all the monthly data.\n",
    "Doing it manually for each file would be cumbersome. So lets use a function!\n",
    "\n",
    "We won't have time to walk through this function in detail, but we encourage you to take a look on your own time. It covers concepts of:\n",
    "1) Defining a function with: arguments, defaults, and variable keyword arguments\n",
    "2) Listing files in a directory\n",
    "3) for loops\n",
    "4) if/else constructs\n",
    "5) What we just learned about reading csv and concatenation\n"
   ]
  },
  {
   "cell_type": "code",
   "execution_count": null,
   "metadata": {},
   "outputs": [],
   "source": [
    "# This cell defines the function below. Then we can call and reuse it in future cells.\n",
    "\n",
    "def combine_csv_files(path, prefix, suffix='.csv', **kwargs):\n",
    "    \"\"\"\n",
    "    Searches a directory for text files, imports as pandas.DataFrames and\n",
    "    concatenates to a single DataFrame.\n",
    "\n",
    "    Args:\n",
    "        path: pathlib.Path object of a directory\n",
    "        prefix: String prefix to search for\n",
    "        suffix: String suffix to search for, Optional, Default '.csv'\n",
    "        **kwargs: Variable additional arguments pass to the pandas.read_csv function\n",
    "\n",
    "    Returns: pandas.DataFrame\n",
    "\n",
    "    \"\"\"\n",
    "    # List files in the directory\n",
    "    list_files_in_path = sorted(os.listdir(path))\n",
    "\n",
    "    # Initialize an empty list to store DataFrames\n",
    "    list_df = []\n",
    "\n",
    "    # Loop through files\n",
    "    for file in list_files_in_path:\n",
    "        # Check if the file starts with the prefix and ends with the suffix\n",
    "        if file.startswith(prefix) and file.endswith(suffix):\n",
    "            # Read in csv as DataFrame and append it to the list\n",
    "            list_df.append(pd.read_csv(path / file, **kwargs))\n",
    "        else:\n",
    "            continue\n",
    "\n",
    "    # Concatenate the DataFrames\n",
    "    df_return = pd.concat(list_df).reset_index(drop=True)\n",
    "\n",
    "    # Return the concatenated DataFrame\n",
    "    return df_return"
   ]
  },
  {
   "cell_type": "code",
   "execution_count": null,
   "metadata": {},
   "outputs": [],
   "source": [
    "# Use the function defined above\n",
    "df_2022 = combine_csv_files(path_to_monthly_data,\n",
    "                            prefix='daily_44_007_0022_2022_', # Read in files only starting with this prefix\n",
    "                            suffix='.csv',  # Read in files only ending with this suffix\n",
    "                            usecols=keep_cols,  # Specify columns to keep\n",
    "                            parse_dates=['Date (Local)'], # Specify column to parse as a date instead of string\n",
    "                            date_format='%Y-%m-%d', )  # Specify the format of date strings"
   ]
  },
  {
   "cell_type": "code",
   "execution_count": null,
   "metadata": {},
   "outputs": [],
   "source": [
    "df_2022.shape"
   ]
  },
  {
   "cell_type": "code",
   "execution_count": null,
   "metadata": {},
   "outputs": [],
   "source": [
    "df_2022.head()"
   ]
  },
  {
   "cell_type": "code",
   "execution_count": null,
   "metadata": {},
   "outputs": [],
   "source": [
    "df_2022.tail()"
   ]
  },
  {
   "cell_type": "markdown",
   "metadata": {},
   "source": [
    "## 5. Renaming Columns\n",
    "Before we jump into more detailed EDA we'll want to update the DataFrame to make our lives a bit easier. We'll be typing column names often to query the data so let's start by renaming the columns to a standard format.\n",
    "\n",
    "1. lowercase\n",
    "2. underscores instead of spaces\n",
    "3. simplify complex names\n",
    "\n",
    "Methods we'll use:\n",
    "1. [`str.lower()`](https://pandas.pydata.org/docs/reference/api/pandas.Series.str.lower.html): Lowercases the column names\n",
    "2. [`str.replace()`](https://pandas.pydata.org/docs/reference/api/pandas.Series.str.replace.html): Finds and replaces sub-strings\n",
    "3. [`rename()`](https://pandas.pydata.org/docs/reference/api/pandas.DataFrame.rename.html): Renames columns or index labels\n",
    "\n"
   ]
  },
  {
   "cell_type": "code",
   "execution_count": null,
   "metadata": {},
   "outputs": [],
   "source": [
    "# Remember we access columns with the columns attribute\n",
    "df_2022.columns"
   ]
  },
  {
   "cell_type": "code",
   "execution_count": null,
   "metadata": {},
   "outputs": [],
   "source": [
    "# We can cast a lowercase method across the columns with the `str.lower()` method\n",
    "df_2022.columns.str.lower()"
   ]
  },
  {
   "cell_type": "code",
   "execution_count": null,
   "metadata": {},
   "outputs": [],
   "source": [
    "# We cast a `str.replace()` method after the lowercase method. Though this starts to look hard to read.\n",
    "df_2022.columns.str.lower().str.replace(' ', '_')\n",
    "\n",
    "# A cleaner way is to wrap it in (), allowing us to separate the dot connectors to multiple lines\n",
    "(df_2022.columns\n",
    " .str.lower()  # Lowercase the names\n",
    " .str.replace(' ', '_')  # Replace Spaces with underscores\n",
    " )"
   ]
  },
  {
   "cell_type": "code",
   "execution_count": null,
   "metadata": {},
   "outputs": [],
   "source": [
    "# The above examples are output demonstrations. It doesn't actually change the dataframe's column until we assign the output.\n",
    "print('---Before Assignment---')\n",
    "print(df_2022.columns)\n",
    "\n",
    "# Assigning reformatted column names to the DataFrame's columns attribute\n",
    "df_2022.columns = (df_2022.columns\n",
    "                   .str.lower()  # Lowercase the names\n",
    "                   .str.replace(' ', '_')  # Replace Spaces with underscores\n",
    "                   )\n",
    "print('---After Assignment---')\n",
    "print(df_2022.columns)"
   ]
  },
  {
   "cell_type": "code",
   "execution_count": null,
   "metadata": {},
   "outputs": [],
   "source": [
    "# Use the rename method to rename specific columns with complex symbols\n",
    "# We supply a dictionary mapping the column names we want to change as the key and the new name as the value.\n",
    "df_2022 = df_2022.rename(columns={'date_(local)': 'date',\n",
    "                                  'day_in_year_(local)': 'day_in_year',\n",
    "                                  }\n",
    "                         )\n",
    "df_2022.columns"
   ]
  },
  {
   "cell_type": "markdown",
   "metadata": {},
   "source": [
    "Great! Now are column names are much more manageable."
   ]
  },
  {
   "cell_type": "markdown",
   "metadata": {},
   "source": [
    "## 6. Exploring Values\n",
    "Let's start exploring the dataset.\n",
    "\n",
    "Questions:\n",
    "1. How complete is the data?\n",
    "2. Are there duplicates?\n",
    "3. How many parameters are measured?\n",
    "4. How often are the parameters measured?\n",
    "5. What are the descriptive stats of the numeral data?\n",
    "\n",
    "We will cover the following topics:\n",
    "1. Indexing\n",
    "2. Checking for Nulls and Duplicates\n",
    "3. Counts and Uniques\n",
    "4. Querying\n",
    "5. Descriptive Stats and groupby"
   ]
  },
  {
   "cell_type": "markdown",
   "metadata": {},
   "source": [
    "### 6.1 Indexing\n",
    "We often will need to look different slices of the dataframe.\n",
    "* Slices are different groups of rows and/or columns.\n",
    "* We perform indexing using brackets `[]`, similar to indexing lists.\n",
    "\n",
    "```python\n",
    "# For a single column\n",
    "df_2022['parameter_name']\n",
    "\n",
    "# For multiple columns\n",
    "df_2022[['parameter_name', 'parameter_code']]\n",
    "\n",
    "# For a slice of rows (same as list indexing)\n",
    "df_2022[5:10]\n",
    "\n",
    "# For a slice of rows and columns use the .loc method\n",
    "df_2022.loc[5:10, ['parameter_name', 'parameter_code']]\n",
    "```\n"
   ]
  },
  {
   "cell_type": "code",
   "execution_count": null,
   "metadata": {},
   "outputs": [],
   "source": [
    "df_2022.loc[5:10, ['parameter_name', 'date']]"
   ]
  },
  {
   "cell_type": "markdown",
   "metadata": {},
   "source": [
    "### 6.2.0 Checking for Nulls\n",
    "Nulls or NAs are values that represent no data or missing data.\n",
    "* They are often represented as **NaN** for \"not a number\"\n",
    "* Pandas will typically fill NaNs for blank values upon import.\n",
    "* Be aware that scientific datasets often use large negative numbers outside of the normal range (like -999) to represent null data.\n",
    "\n",
    "We can check for the number of null values quickly using the method `isna()` and summing the results\n",
    "* `isna()` will create a boolean matrix and `sum()` will sum by columns.\n"
   ]
  },
  {
   "cell_type": "code",
   "execution_count": null,
   "metadata": {},
   "outputs": [],
   "source": [
    "df_2022.isna().sum()"
   ]
  },
  {
   "cell_type": "markdown",
   "metadata": {},
   "source": [
    "Luckily this dataset does not have missing data in important fields. The fields with null values make sense.\n",
    "* Not all chemicals measured have a regulatory standard that would be in the *pollutant_standard* field, only the most toxic.\n",
    "* *exceptional_data_type* is a flag field for anomalous conditions and events."
   ]
  },
  {
   "cell_type": "markdown",
   "metadata": {},
   "source": [
    "### 6.2.1 Handling missing data\n",
    "Missing data is handled on a case-by-case basis. Some options are: \n",
    "* Drop missing data\n",
    "    * If you have enough data otherwise   \n",
    "* Impute data\n",
    "    * Method will depend what data you have available\n",
    "    * Some examples\n",
    "        1. Extrapolate small gaps in a timeseries\n",
    "        2. Use mean or median values from similar data points\n",
    "        3. Sampling from a probability distribution\n",
    "\n",
    "Pandas has great [documentation for working with and filling in missing data](https://pandas.pydata.org/docs/user_guide/missing_data.html) that we recommend reviewing. \n",
    "\n"
   ]
  },
  {
   "cell_type": "markdown",
   "metadata": {},
   "source": [
    "### 6.3 Checking for Duplicates\n",
    "We use the [`duplicated()`](https://pandas.pydata.org/docs/reference/api/pandas.DataFrame.duplicated.html) method to check for duplicates.\n",
    "\n",
    "The `duplicated()` method generates a boolean array of indicating the duplicates based on a subset of keys.\n",
    "\n",
    "Our intuition is that this dataset should have one record per day for each parameter. Let's check if that assumption is correct."
   ]
  },
  {
   "cell_type": "code",
   "execution_count": null,
   "metadata": {},
   "outputs": [],
   "source": [
    "# Get a boolean array of duplicates\n",
    "mask_duplicates = df_2022.duplicated(subset=['date', 'parameter_code'], keep=False)\n",
    "mask_duplicates"
   ]
  },
  {
   "cell_type": "markdown",
   "metadata": {},
   "source": [
    "* We supplied duplicated method with the `date` and `parameter_code` as the subset of columns to act as a unique key.\n",
    "* We also supply a keyword `keep=False`.\n",
    "    * This logic is very confusing.\n",
    "        * The default behavior of this method is to mark only duplicates after the first occurrence as the duplicates.\n",
    "        * This makes it easy to \"keep\" the first occurrence and remove all subsequent duplicates.\n",
    "        * By supplying `False` we are turning off that behavior because we want to consider all duplicates."
   ]
  },
  {
   "cell_type": "code",
   "execution_count": null,
   "metadata": {},
   "outputs": [],
   "source": [
    "any(mask_duplicates)"
   ]
  },
  {
   "cell_type": "code",
   "execution_count": null,
   "metadata": {},
   "outputs": [],
   "source": [
    "mask_duplicates.sum()"
   ]
  },
  {
   "cell_type": "markdown",
   "metadata": {},
   "source": [
    "OK. There are clearly some duplicates in this dataset. Let's take a closer look at these in the next section."
   ]
  },
  {
   "cell_type": "markdown",
   "metadata": {},
   "source": [
    "### 6.4 Querying and Sorting\n",
    "By querying the dataframe we can better examine the duplicates we identified in the previous section.\n",
    "\n",
    "There are two main ways to query a DataFrame:\n",
    "1. Masking and Indexing\n",
    "2. [`query()`](https://pandas.pydata.org/docs/reference/api/pandas.DataFrame.query.html) method\n",
    "\n",
    "The choice depends on preference and context.\n",
    "* Masking and Indxing is clearer for complex queries with multiple conditions.\n",
    "* The `query()` method good for short and quick queries.\n",
    "\n",
    "Syntax example:\n",
    "```Python\n",
    "# Masking and Indexing\n",
    "mask_param = df_2022['parameter_name'] == 'PM2.5 - Local Conditions'\n",
    "df_2022[mask_param]\n",
    "\n",
    "# Query method\n",
    "df_2022.query('parameter_name == \"PM2.5 - Local Conditions\"')\n",
    "```\n",
    "\n",
    "Conveniently we just created a mask of duplicate values in the last section so let's examine that.\n",
    "We will also use the [`sort_values()`](https://pandas.pydata.org/docs/reference/api/pandas.DataFrame.sort_values.html) method to order the DataFrame."
   ]
  },
  {
   "cell_type": "code",
   "execution_count": null,
   "metadata": {},
   "outputs": [],
   "source": [
    "# Masking and Indexing\n",
    "df_2022[mask_duplicates].sort_values(by=['date', 'parameter_name'])"
   ]
  },
  {
   "cell_type": "markdown",
   "metadata": {},
   "source": [
    "The PM2.5 measurment seems to have something different going on than the other duplicates. Let's take a look at that parameter first."
   ]
  },
  {
   "cell_type": "code",
   "execution_count": null,
   "metadata": {},
   "outputs": [],
   "source": [
    "(df_2022.loc[mask_duplicates, ['date', 'parameter_name', 'duration_description', 'pollutant_standard', 'arithmetic_mean', 'first_maximum_value', 'first_maximum_hour','aqi']]\n",
    " .sort_values(by=['date', 'parameter_name', 'duration_description', 'pollutant_standard'])\n",
    " .head(12))"
   ]
  },
  {
   "cell_type": "markdown",
   "metadata": {},
   "source": [
    "*What do we notice about the PM2.5 measurement?*\n",
    "* There are 3 records per day. They differ in duration_description and pollutant_standard.\n",
    "* The \"1 HOUR\" duration seems to have the most accurate information for our purposes because it has more \"arithmetic_mean\" precision, and better information about the first maximum value and hour over the day.\n",
    "* The \"1 Hour\" duration records does not have Air Quality Index \"aqi\" information\n",
    "\n",
    "**Conclusion**\n",
    "* We should keep only the \"1 HOUR\" duration and remove the others.\n",
    "* We'll save the other durations in a separate DataFrame in the case we want the daily AQI information.\n",
    "\n",
    "We can do this with querying!"
   ]
  },
  {
   "cell_type": "code",
   "execution_count": null,
   "metadata": {},
   "outputs": [],
   "source": [
    "# Create a mask for the values we want to remove\n",
    "mask_remove = (df_2022['parameter_name'] == 'PM2.5 - Local Conditions') & (df_2022['duration_description'] != '1 HOUR')\n",
    "\n",
    "# Create dataframe of PM2.5 records we remove\n",
    "df_removed_records = df_2022[mask_remove].reset_index(drop=True)\n",
    "\n",
    "# Create dataframe of everything we want to keep. The NOT (~) operator reverses the mask.\n",
    "df_2022_cleaned_v1 = df_2022[~mask_remove].reset_index(drop=True)"
   ]
  },
  {
   "cell_type": "code",
   "execution_count": null,
   "metadata": {},
   "outputs": [],
   "source": [
    "df_2022_cleaned_v1.query(\"parameter_name == 'PM2.5 - Local Conditions'\").head(10)"
   ]
  },
  {
   "cell_type": "markdown",
   "metadata": {},
   "source": [
    "Now let's return to look at those other duplicate parameters. Below we will combine two masks. Note that we are referencing the pre-cleaned dataframe."
   ]
  },
  {
   "cell_type": "code",
   "execution_count": null,
   "metadata": {},
   "outputs": [],
   "source": [
    "# This is an example of combining two masks. The duplicate mask and the not PM2.5 mask\n",
    "mask_not_pm2p5 = df_2022['parameter_name'] != 'PM2.5 - Local Conditions'\n",
    "df_2022[mask_duplicates & mask_not_pm2p5].sort_values(by=['date', 'parameter_name'])"
   ]
  },
  {
   "cell_type": "markdown",
   "metadata": {},
   "source": [
    "*What do we notice here?*\n",
    "* It appears these duplicates are pairs with a different 'poc' code.\n",
    "    * The 'poc' code is an identifier for sampling instruments at the site. These parameters are sampled in replicates on separate instruments as a quality-control check. If replicate results differ too much, it may signal sampling error.\n",
    "* At this point we have several options:\n",
    "    1. Drop one of the duplicates\n",
    "    2. Average the duplicates\n",
    "    3. Leave the data alone\n",
    "\n",
    "We'll choose option 3 for now because the duplicate treatment may depend on the type of analysis being performed. The decision can be made at that point."
   ]
  },
  {
   "cell_type": "markdown",
   "metadata": {},
   "source": [
    "### 6.5 Counts and Uniques\n",
    "Counts and unique values are great for looking at categorical data."
   ]
  },
  {
   "cell_type": "code",
   "execution_count": null,
   "metadata": {},
   "outputs": [],
   "source": [
    "# Get the count of unique values in each column\n",
    "df_2022_cleaned_v1.nunique()"
   ]
  },
  {
   "cell_type": "code",
   "execution_count": null,
   "metadata": {},
   "outputs": [],
   "source": [
    "# Get a list of unique values in a column\n",
    "df_2022_cleaned_v1['parameter_name'].unique()"
   ]
  },
  {
   "cell_type": "code",
   "execution_count": null,
   "metadata": {},
   "outputs": [],
   "source": [
    "# Get the counts of each parameter\n",
    "counts = df_2022_cleaned_v1['parameter_name'].value_counts()\n",
    "counts"
   ]
  },
  {
   "cell_type": "markdown",
   "metadata": {},
   "source": [
    "The output is abbreviated. To see specific analytes you need index with a list."
   ]
  },
  {
   "cell_type": "code",
   "execution_count": null,
   "metadata": {},
   "outputs": [],
   "source": [
    "counts[['PM2.5 - Local Conditions', 'Lead PM10 STP', 'Acetaldehyde', 'Cyclohexane']]"
   ]
  },
  {
   "cell_type": "code",
   "execution_count": null,
   "metadata": {},
   "outputs": [],
   "source": [
    "counts.head(10)"
   ]
  },
  {
   "cell_type": "markdown",
   "metadata": {},
   "source": [
    "### 6.5 Descriptive Stats and groupby\n",
    "The method `.describe()` is a great way to get descriptive statistics on numerical columns. When called on the dataframe, it will automatically provide statistics on each numerical column."
   ]
  },
  {
   "cell_type": "code",
   "execution_count": null,
   "metadata": {},
   "outputs": [],
   "source": [
    "df_2022_cleaned_v1.describe()"
   ]
  },
  {
   "cell_type": "markdown",
   "metadata": {},
   "source": [
    "Though this isn't very useful for our dataset at the moment because it's creating statistics across 90+ parameters. It would be better to chunk the DataFrame by parameter and run describe. This is where a powerful method called `groupby` is useful."
   ]
  },
  {
   "cell_type": "code",
   "execution_count": null,
   "metadata": {},
   "outputs": [],
   "source": [
    "# Create a Groupby object with parameter_name\n",
    "# This object chunks the dataframe by parameter_name\n",
    "gb_param = df_2022_cleaned_v1.groupby(by='parameter_name')\n",
    "gb_param['arithmetic_mean'].describe()"
   ]
  },
  {
   "cell_type": "code",
   "execution_count": null,
   "metadata": {},
   "outputs": [],
   "source": [
    "# To look at the PM2.5 stats\n",
    "df_gb_stats = gb_param['arithmetic_mean'].describe()\n",
    "df_gb_stats.loc['PM2.5 - Local Conditions']"
   ]
  },
  {
   "cell_type": "markdown",
   "metadata": {},
   "source": [
    "You can groupby multiple columns. Here's an example of sample counts by parameter and month."
   ]
  },
  {
   "cell_type": "code",
   "execution_count": null,
   "metadata": {},
   "outputs": [],
   "source": [
    "# We group by parameter name and the data column converted to the month number\n",
    "gb_param_month = df_2022_cleaned_v1.groupby(by=['parameter_name', df_2022_cleaned_v1['date'].dt.month])\n",
    "df_param_monthly_counts = gb_param_month['arithmetic_mean'].count()  # Count the number of records\n",
    "df_param_monthly_counts.loc[['PM2.5 - Local Conditions', '1,1,1,2-Tetrachloroethane']]  # View two specific parameters"
   ]
  },
  {
   "cell_type": "markdown",
   "metadata": {},
   "source": [
    "We can see that the frequency of sampling between these parameters is different."
   ]
  },
  {
   "cell_type": "markdown",
   "metadata": {},
   "source": [
    "Previously we found that some parameters had duplicate values. We can use groupby to average and count the values."
   ]
  },
  {
   "cell_type": "code",
   "execution_count": null,
   "metadata": {},
   "outputs": [],
   "source": [
    "gb_param_date = df_2022_cleaned_v1.groupby(by=['parameter_name', 'date'])\n",
    "(gb_param_date['arithmetic_mean']\n",
    " .agg(['mean', 'count'])  # We use the aggregate method to apply both 'mean' and 'count'\n",
    " .query(\"count > 1\")  # Query for only those with more than one record\n",
    " )"
   ]
  },
  {
   "cell_type": "markdown",
   "metadata": {},
   "source": [
    "## 7. Exporting DataFrames\n",
    "We made some interesting groupby tables with summary stats in the last section. Let's try exporting them so we can view in another application or import them in a future analysis.\n",
    "\n",
    "We use the `to_csv()` method to export to csv.\n",
    "See the [Pandas documentation](https://pandas.pydata.org/docs/reference/api/pandas.DataFrame.to_csv.html) to see all the other formats you can export to."
   ]
  },
  {
   "cell_type": "code",
   "execution_count": null,
   "metadata": {},
   "outputs": [],
   "source": [
    "# Create a Path object to the reports folder\n",
    "outputs_path = Path('..', 'reports')\n",
    "\n",
    "# Save the groupby parameters and descriptive stats of the arithmetic mean to a DataFrame\n",
    "df_gb_param_mean_describe = gb_param['arithmetic_mean'].describe()\n",
    "\n",
    "# Call the to_csv method on the dataframe specifying path and filename\n",
    "df_gb_param_mean_describe.to_csv(outputs_path / 'stats-arithmetic_mean-by-param.csv')"
   ]
  },
  {
   "cell_type": "markdown",
   "metadata": {},
   "source": [
    "Navigate to the reports directory and confirm that a file was written."
   ]
  },
  {
   "cell_type": "markdown",
   "metadata": {},
   "source": [
    "## 8. Merging\n",
    "If we wanted to join two tables based on common key we would use the [`merge()`](https://pandas.pydata.org/docs/reference/api/pandas.DataFrame.merge.html) method.\n",
    "\n",
    "There is a file with parameter classes that categorizes the parameters. This might help us make sense of which parameters are related to each other. Let's join it to our dataframe!\n",
    "```\n",
    "project\n",
    "├── data\n",
    "│   └── raw\n",
    "│       └── params_class.csv\n",
    "```"
   ]
  },
  {
   "cell_type": "code",
   "execution_count": null,
   "metadata": {},
   "outputs": [],
   "source": [
    "df_param_classes = pd.read_csv(data_path / 'raw' / 'params_class.csv')\n",
    "df_param_classes.head()"
   ]
  },
  {
   "cell_type": "markdown",
   "metadata": {},
   "source": [
    "This file has two new columns:\n",
    "1. **param_class** - The parameter classification\n",
    "2. **tier1** - A boolean field for EPA designated Tier 1 major risk toxins.\n",
    "    * Note that this does not apply to particulate matter which are criteria pollutants but are not designated as toxins."
   ]
  },
  {
   "cell_type": "code",
   "execution_count": null,
   "metadata": {},
   "outputs": [],
   "source": [
    "# Count of the number of parameters in each class\n",
    "df_param_classes['param_class'].value_counts()"
   ]
  },
  {
   "cell_type": "code",
   "execution_count": null,
   "metadata": {},
   "outputs": [],
   "source": [
    "# Query the 18 Tier 1 toxins\n",
    "df_param_classes.query(\"tier1 == True\")"
   ]
  },
  {
   "cell_type": "code",
   "execution_count": null,
   "metadata": {},
   "outputs": [],
   "source": [
    "# Merge the dataframes using parameter_code as the key with a left-join\n",
    "df_2022_cleaned_v2 = df_2022_cleaned_v1.merge(df_param_classes, on='parameter_code', how='left')\n",
    "df_2022_cleaned_v2.head()"
   ]
  },
  {
   "cell_type": "markdown",
   "metadata": {},
   "source": [
    "We used a left-join here. This means that only keys from the left table matter in the join. Keys that are in the right table but not the left will not be joined.\n",
    "\n",
    "Notice that parameter_name is duplicated with an appended \"_x\" and \"_y\" because the column existed in both tables. You can prevent this by indexing only the columns you want to join. For now we are just going to drop and rename the columns for an example of the `drop()` method!"
   ]
  },
  {
   "cell_type": "code",
   "execution_count": null,
   "metadata": {},
   "outputs": [],
   "source": [
    "df_2022_cleaned_v3 = (df_2022_cleaned_v2\n",
    "                      .drop(columns='parameter_name_y')  # Remove the column\n",
    "                      .rename(columns={'parameter_name_x': 'parameter_name'})  # We've seen this method previously!\n",
    "                      )\n",
    "df_2022_cleaned_v3.columns"
   ]
  },
  {
   "cell_type": "markdown",
   "metadata": {},
   "source": [
    "Great! Lets save a copy of our processed dataset to the processed directory of the data folder.\n",
    "This is good practice so that future analysis can start from a cleaner version of the data."
   ]
  },
  {
   "cell_type": "code",
   "execution_count": null,
   "metadata": {},
   "outputs": [],
   "source": [
    "df_2022_cleaned_v3.to_csv(data_path / 'processed' / 'df_2022_processed.csv', index=False)"
   ]
  },
  {
   "cell_type": "markdown",
   "metadata": {},
   "source": [
    "## 9. Reshaping and Plotting\n",
    "\n",
    "We will be plotting with Pandas' built-in plotting methods and functions.\n",
    "* Pandas plotting is built as a front-end to the Matplotlib package.\n",
    "* The plotting functionalities are bare-bones but are good for quick EDA.\n",
    "* There are many other plotting packages out there here are a few:\n",
    "    * [matplotlib](https://matplotlib.org) - The cornerstone of several plotting libraries, including pandas. It's hard to learn but necessary for fine-tuning figures.\n",
    "    * [seaborn](https://seaborn.pydata.org) - Based on matplotlib but with a higher-level API easier to start with.\n",
    "    * [plotnine](https://plotnine.readthedocs.io/en/stable/) - Implementation of R's popular ggplot2 in python. Also based matplotlib.\n",
    "    * [vega-altair](https://altair-viz.github.io) - Declarative graphing library built upon vega-lite grammar. Great for those with JavaScript background.\n",
    "    * [plotly](https://plotly.com/python/) - For interactive graphics\n",
    "    * [bokeh](https://bokeh.org) -Also for interactive graphics\n"
   ]
  },
  {
   "cell_type": "markdown",
   "metadata": {},
   "source": [
    "### Reshaping\n",
    "Plotting will require many dataframe transformations to shape the dataframe into a plot-able structure.\n",
    "* With timeseries data we typically want a structure where rows are a single date/time and plot values are along columns.\n",
    "\n",
    "| Date | param1 | param_2 | ...   | param_n |\n",
    "|-----|-------|-------|-------|-------|\n",
    "| Date1 | value | value | value | value |\n",
    "| Date2 | value | value | value | value |\n",
    "| ... | value | value | value | value |\n",
    "\n",
    "The [`pd.pivot_table()`](https://pandas.pydata.org/docs/reference/api/pandas.pivot_table.html) function will help us reshape the table to this format."
   ]
  },
  {
   "cell_type": "markdown",
   "metadata": {},
   "source": [
    "We will only look at particulate matter for plotting."
   ]
  },
  {
   "cell_type": "code",
   "execution_count": null,
   "metadata": {},
   "outputs": [],
   "source": [
    "df_2022_c = df_2022_cleaned_v3 # saving as a shorter name for convenience\n",
    "\n",
    "mask_pm = (df_2022_c['param_class'] == 'particulate')  # mask for just the particulate parameters\n",
    "df_pm = pd.pivot_table(df_2022_c[mask_pm],\n",
    "                       values='arithmetic_mean',  # The column we want as values\n",
    "                       index='date',  # Set the date as the index of the new dataframe\n",
    "                       columns='parameter_name'  # The column with labels we wish to appear as columns\n",
    "                       )\n",
    "df_pm.columns = ['Black Carbon', 'PM10', 'PM2.5', 'Particle Number']  # Rename columns for convenience\n",
    "df_pm.head()"
   ]
  },
  {
   "cell_type": "markdown",
   "metadata": {},
   "source": [
    "Now we have a wide table with the index as dates and parameters as columns! Let's begin plotting!"
   ]
  },
  {
   "cell_type": "markdown",
   "metadata": {},
   "source": [
    "### Plotting\n",
    "1. Boxplots - Distribution and outliers\n",
    "2. Time Series - Temporal trends\n",
    "3. Scatter - Relationships between variables\n",
    "4. Autocorrelation & Lag Plots - Relationships with previous measurements\n",
    "\n",
    "Please check out panda's [Chart visualization](https://pandas.pydata.org/docs/user_guide/visualization.html) documentation for many more plot types."
   ]
  },
  {
   "cell_type": "markdown",
   "metadata": {},
   "source": [
    "### 9.1 Boxplots\n",
    "Boxplots can be generated by either then [`boxplot()`](https://matplotlib.org/stable/api/_as_gen/matplotlib.axes.Axes.boxplot.html#matplotlib.axes.Axes.boxplot) or [`plot.box()`](https://pandas.pydata.org/docs/reference/api/pandas.DataFrame.plot.box.html) methods. They are aliases.\n"
   ]
  },
  {
   "cell_type": "code",
   "execution_count": null,
   "metadata": {},
   "outputs": [],
   "source": [
    "# We'll first drop the \"Particle Number\" parameter because it's a completely different measure and magnitude.\n",
    "df_pm_nopn = df_pm.drop(columns=['Particle Number'])\n",
    "df_pm_nopn.plot.box(ylabel='ug/m3');"
   ]
  },
  {
   "cell_type": "markdown",
   "metadata": {},
   "source": [
    "We should probably plot the parameters on their own panel due the differences in magnitude."
   ]
  },
  {
   "cell_type": "code",
   "execution_count": null,
   "metadata": {},
   "outputs": [],
   "source": [
    "df_pm_nopn.plot.box(subplots=True,  # Plot each column in on its own panel\n",
    "                    ylabel='ug/m3');\n",
    "plt.subplots_adjust(wspace=.5)  # Adjust space between subplots so they don't overlap"
   ]
  },
  {
   "cell_type": "markdown",
   "metadata": {},
   "source": [
    "Seems like there are outliers that may be worth removing in future analysis.\n",
    "Collecting more years of data could give us a better idea of these are true outliers."
   ]
  },
  {
   "cell_type": "markdown",
   "metadata": {},
   "source": [
    "### 9.2 Time Series\n",
    "Time series are useful to look at temporal trends.\n",
    "To plot a time series we simply call the method [`plot()`](https://pandas.pydata.org/docs/reference/api/pandas.DataFrame.plot.html).\n",
    "\n",
    "Our dataframe's index is set to the date so the plot function will assume that as the x-axis."
   ]
  },
  {
   "cell_type": "code",
   "execution_count": null,
   "metadata": {},
   "outputs": [],
   "source": [
    "# Plot a time series\n",
    "df_pm_nopn.plot();"
   ]
  },
  {
   "cell_type": "markdown",
   "metadata": {},
   "source": [
    "PM10 did not show up because it has a lot of NaNs. We can plot the data points to see this by providing keyword arguments to the plot command. Here we add many other keyword arguments.\n",
    "\n",
    "See the [`plot()`](https://pandas.pydata.org/docs/reference/api/pandas.DataFrame.plot.html) documentation for other options."
   ]
  },
  {
   "cell_type": "code",
   "execution_count": null,
   "metadata": {},
   "outputs": [],
   "source": [
    "ax = df_pm_nopn.plot(marker='o',  # Add circle markers\n",
    "                     ylabel='ug/m3',  # Adds y-axis label\n",
    "                     logy=True,  # Converts y-axis to a log-scal\n",
    "                     alpha=.6,   # Transparency scale from 0-1, 0 being invisible\n",
    "                     figsize=(12, 5));  # width and height of the figure\n",
    "\n",
    "# Add a dashed line for PM2.5 criteria value at 9 ug/m3\n",
    "ax.axhline(9, linestyle='--', color='gray');"
   ]
  },
  {
   "cell_type": "markdown",
   "metadata": {},
   "source": [
    "Environmental data can be noisy. Applying a rolling mean is a technique to smooth-out noise and look at underlying trends.\n",
    "We use the [`rolling()`](https://pandas.pydata.org/docs/reference/api/pandas.DataFrame.rolling.html) method to the DataFrame to calculate this."
   ]
  },
  {
   "cell_type": "code",
   "execution_count": null,
   "metadata": {},
   "outputs": [],
   "source": [
    "df_pm_nopn_rm5 = df_pm_nopn.drop(columns=['PM10']).rolling(5).mean()  # Compute a 5-day rolling average\n",
    "df_pm_nopn_rm5.plot(marker='o',  # Add circle markers\n",
    "                    ylabel='ug/m3',  # Adds y-axis label\n",
    "                    alpha=.6,   # Transparency scale from 0-1, 0 being invisible\n",
    "                    subplots=True,\n",
    "                    figsize=(12, 5));"
   ]
  },
  {
   "cell_type": "markdown",
   "metadata": {},
   "source": [
    "* There's not enough data to compute a rolling average for PM10.\n",
    "* Black carbon and PM2.5 seem paired. This makes sense because Black carbon PM2.5 is a subset of PM2.5.\n",
    "* There seems to be some temporal trends."
   ]
  },
  {
   "cell_type": "markdown",
   "metadata": {},
   "source": [
    "### 9.3 Scatter\n",
    "Scatter plots help determine relationship between two variables.\n",
    "Let's plot a scatter plot between PM2.5 and Black Carbon. We can specify this with the [`plot.scatter()`](https://pandas.pydata.org/docs/reference/api/pandas.DataFrame.plot.scatter.html#pandas.DataFrame.plot.scatter) method."
   ]
  },
  {
   "cell_type": "code",
   "execution_count": null,
   "metadata": {},
   "outputs": [],
   "source": [
    "df_pm.plot.scatter(x='PM2.5', y='Black Carbon');"
   ]
  },
  {
   "cell_type": "markdown",
   "metadata": {},
   "source": [
    "A [`scatter_matrix`](https://pandas.pydata.org/docs/reference/api/pandas.plotting.scatter_matrix.html) function is a quick method to look at relationships between all parameters simultaneously.\n",
    "\n",
    "Note that this a function and not a method called on the DataFrame. We pass the DataFrame as an argument into the function."
   ]
  },
  {
   "cell_type": "code",
   "execution_count": null,
   "metadata": {},
   "outputs": [],
   "source": [
    "from pandas.plotting import scatter_matrix\n",
    "df_pm_renamed = df_pm.copy()\n",
    "scatter_matrix(df_pm, figsize=(6,6));"
   ]
  },
  {
   "cell_type": "markdown",
   "metadata": {},
   "source": [
    "We can see that the parameters are generally positively correlated."
   ]
  },
  {
   "cell_type": "markdown",
   "metadata": {},
   "source": [
    "### 9.4 Autocorrelation & Lag Plots\n",
    "Autocorrelation and lag plots help us determine if there are relationship with a measurement and previous measurements (lags).\n",
    "Autocorrelation can find periodic trends in the data like seasonality.\n",
    "\n",
    "pandas [`autocorrelation_plot`](https://pandas.pydata.org/docs/reference/api/pandas.plotting.autocorrelation_plot.html) function computes the correlation across all the lags for a set of measurements."
   ]
  },
  {
   "cell_type": "code",
   "execution_count": null,
   "metadata": {},
   "outputs": [],
   "source": [
    "from pandas.plotting import autocorrelation_plot, lag_plot\n",
    "\n",
    "# We pass a single column into an autocorrelation plot function.\n",
    "# The column cannot have null values. We call the method `fillna` to backward-fill null values with the subsequent values. This isn't an issue because there are few nulls.\n",
    "autocorrelation_plot(df_pm_renamed['PM2.5'].fillna(method=\"bfill\"))"
   ]
  },
  {
   "cell_type": "code",
   "execution_count": null,
   "metadata": {},
   "outputs": [],
   "source": [
    "autocorrelation_plot(df_pm_renamed['PM2.5'].fillna(method=\"ffill\")).set_xlim(1,20)"
   ]
  },
  {
   "cell_type": "markdown",
   "metadata": {},
   "source": [
    "The horizontal lines correspond to the 99 (dashed) and 95 (solid) confidence bands. When the line is outside the bands the correlation is more confidently non-zero. The lags represent days. There is a steep drop-off in correlation after the first day.\n",
    "\n",
    "We can look at the scatter plots with specific lags with the [`lag_plot`](https://pandas.pydata.org/pandas-docs/stable/reference/api/pandas.plotting.lag_plot.html) function.\n",
    "\n",
    "Below we plot progressively larger lags. The plotting method below is an example of matplotlib syntax."
   ]
  },
  {
   "cell_type": "code",
   "execution_count": null,
   "metadata": {},
   "outputs": [],
   "source": [
    "# Create figure with 4 subplots. The fig variable is the object for configuring the entire figure (all subplots) the axs variable is an array with 4 axis objects corresponding to each subplot.\n",
    "fig, axs = plt.subplots(nrows=2, ncols=2, figsize=(6,6))\n",
    "axs = axs.ravel()  # Flatten the array\n",
    "# Plot each lag and specify which subpanel it should go to with the `ax` keyword\n",
    "lag_plot(df_pm_renamed['PM2.5'], lag=1, ax=axs[0]);\n",
    "lag_plot(df_pm_renamed['PM2.5'], lag=2, ax=axs[1]);\n",
    "lag_plot(df_pm_renamed['PM2.5'], lag=4, ax=axs[2]);\n",
    "lag_plot(df_pm_renamed['PM2.5'], lag=12, ax=axs[3]);\n",
    "plt.tight_layout()  # Adjust the subplot layout so they don't overlap\n"
   ]
  },
  {
   "cell_type": "markdown",
   "metadata": {},
   "source": [
    "### 9.5 Resampling a timeseries \n",
    "In time series analysis you'll often be faced with data sampled at different scales (hourly, daily, weekly, etc.). Resampling is a method of __upscaling__ or __downscaling__ timeseries data.\n",
    "* __upscaling__ - Make more datapoints by moving to a finer-scale sample (days -> hours). New data can be imputed or left as NaNs.\n",
    "* __downscaling__ - Reduce datapoints by moving to a coaser-scale sample (hours -> days). Requires an aggregation metric like mean or sum.\n",
    "  \n",
    "Methods we'll use:\n",
    "* `resample()` - [Documentation](https://pandas.pydata.org/docs/reference/api/pandas.DataFrame.resample.html#pandas.DataFrame.resample)\n",
    "    * Must supply a valid [*Date Offset*](https://pandas.pydata.org/pandas-docs/stable/user_guide/timeseries.html#dateoffset-objects) as an argument"
   ]
  },
  {
   "cell_type": "code",
   "execution_count": null,
   "metadata": {},
   "outputs": [],
   "source": [
    "df_pm.head()"
   ]
  },
  {
   "cell_type": "code",
   "execution_count": null,
   "metadata": {},
   "outputs": [],
   "source": [
    "# Downscale from daily to monthly means using Month Start (MS) \n",
    "df_pm.resample('MS').mean()"
   ]
  },
  {
   "cell_type": "code",
   "execution_count": null,
   "metadata": {},
   "outputs": [],
   "source": [
    "# Downscale from daily to 7-day \n",
    "df_pm.resample('7D').max().head()"
   ]
  },
  {
   "cell_type": "code",
   "execution_count": null,
   "metadata": {},
   "outputs": [],
   "source": [
    "# Upscale from daily to 12-hour, no fill \n",
    "df_pm.resample('12h').asfreq().head(6)"
   ]
  },
  {
   "cell_type": "code",
   "execution_count": null,
   "metadata": {},
   "outputs": [],
   "source": [
    "# Upscale from daily to 12-hour, with forward-fill\n",
    "df_pm.resample('12h').asfreq().ffill().head()"
   ]
  },
  {
   "cell_type": "code",
   "execution_count": null,
   "metadata": {},
   "outputs": [],
   "source": []
  }
 ],
 "metadata": {
  "kernelspec": {
   "display_name": "R",
   "language": "R",
   "name": "ir"
  },
  "language_info": {
   "codemirror_mode": "r",
   "file_extension": ".r",
   "mimetype": "text/x-r-source",
   "name": "R",
   "pygments_lexer": "r",
   "version": "4.2.3"
  }
 },
 "nbformat": 4,
 "nbformat_minor": 4
}
