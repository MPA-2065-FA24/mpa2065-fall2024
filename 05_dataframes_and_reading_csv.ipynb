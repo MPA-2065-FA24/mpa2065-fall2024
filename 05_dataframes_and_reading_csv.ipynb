{
 "cells": [
  {
   "cell_type": "markdown",
   "metadata": {
    "slideshow": {
     "slide_type": "slide"
    }
   },
   "source": [
    "<center><h1>The DataFrame Object in R</h1></center>"
   ]
  },
  {
   "cell_type": "markdown",
   "metadata": {
    "slideshow": {
     "slide_type": "slide"
    }
   },
   "source": [
    "# 1. What is a `data.frame`?\n",
    "\n",
    "  - Tabular data structure (i.e., like Excel spreadsheet)\n",
    "  - Canonical data structure for data analysis\n",
    "  - Capable of storing heterogeneous data"
   ]
  },
  {
   "cell_type": "markdown",
   "metadata": {
    "slideshow": {
     "slide_type": "subslide"
    }
   },
   "source": [
    "## 1.1 What does it look like?"
   ]
  },
  {
   "cell_type": "code",
   "execution_count": 2,
   "metadata": {
    "slideshow": {
     "slide_type": "fragment"
    }
   },
   "outputs": [
    {
     "data": {
      "text/html": [
       "<table class=\"dataframe\">\n",
       "<caption>A data.frame: 4 × 4</caption>\n",
       "<thead>\n",
       "\t<tr><th scope=col>idx</th><th scope=col>firstname</th><th scope=col>score</th><th scope=col>vocals</th></tr>\n",
       "\t<tr><th scope=col>&lt;int&gt;</th><th scope=col>&lt;chr&gt;</th><th scope=col>&lt;dbl&gt;</th><th scope=col>&lt;lgl&gt;</th></tr>\n",
       "</thead>\n",
       "<tbody>\n",
       "\t<tr><td>1</td><td>john  </td><td> 0.80531144</td><td> TRUE</td></tr>\n",
       "\t<tr><td>2</td><td>george</td><td> 0.18674302</td><td> TRUE</td></tr>\n",
       "\t<tr><td>3</td><td>paul  </td><td>-0.03858071</td><td> TRUE</td></tr>\n",
       "\t<tr><td>4</td><td>ringo </td><td> 0.06816614</td><td>FALSE</td></tr>\n",
       "</tbody>\n",
       "</table>\n"
      ],
      "text/latex": [
       "A data.frame: 4 × 4\n",
       "\\begin{tabular}{llll}\n",
       " idx & firstname & score & vocals\\\\\n",
       " <int> & <chr> & <dbl> & <lgl>\\\\\n",
       "\\hline\n",
       "\t 1 & john   &  0.80531144 &  TRUE\\\\\n",
       "\t 2 & george &  0.18674302 &  TRUE\\\\\n",
       "\t 3 & paul   & -0.03858071 &  TRUE\\\\\n",
       "\t 4 & ringo  &  0.06816614 & FALSE\\\\\n",
       "\\end{tabular}\n"
      ],
      "text/markdown": [
       "\n",
       "A data.frame: 4 × 4\n",
       "\n",
       "| idx &lt;int&gt; | firstname &lt;chr&gt; | score &lt;dbl&gt; | vocals &lt;lgl&gt; |\n",
       "|---|---|---|---|\n",
       "| 1 | john   |  0.80531144 |  TRUE |\n",
       "| 2 | george |  0.18674302 |  TRUE |\n",
       "| 3 | paul   | -0.03858071 |  TRUE |\n",
       "| 4 | ringo  |  0.06816614 | FALSE |\n",
       "\n"
      ],
      "text/plain": [
       "  idx firstname score       vocals\n",
       "1 1   john       0.80531144  TRUE \n",
       "2 2   george     0.18674302  TRUE \n",
       "3 3   paul      -0.03858071  TRUE \n",
       "4 4   ringo      0.06816614 FALSE "
      ]
     },
     "metadata": {},
     "output_type": "display_data"
    }
   ],
   "source": [
    "idx <- 1:4\n",
    "score <- rnorm(4)\n",
    "vocals <- c(TRUE, TRUE, TRUE, FALSE)\n",
    "firstname <- c(\"john\", \"george\", \"paul\", \"ringo\")\n",
    "\n",
    "dat <- data.frame(idx, firstname, score, vocals)\n",
    "\n",
    "dat "
   ]
  },
  {
   "cell_type": "markdown",
   "metadata": {
    "slideshow": {
     "slide_type": "subslide"
    }
   },
   "source": [
    "## 1.2 Indexing and Slicing a `data.frame`\n",
    "\n",
    "  - Similar to `vector`, `matrix`, and `array` objects"
   ]
  },
  {
   "cell_type": "code",
   "execution_count": 3,
   "metadata": {
    "slideshow": {
     "slide_type": "fragment"
    }
   },
   "outputs": [
    {
     "data": {
      "text/html": [
       "'john'"
      ],
      "text/latex": [
       "'john'"
      ],
      "text/markdown": [
       "'john'"
      ],
      "text/plain": [
       "[1] \"john\""
      ]
     },
     "metadata": {},
     "output_type": "display_data"
    }
   ],
   "source": [
    "dat[1, 2]           # get element in first row, second column"
   ]
  },
  {
   "cell_type": "code",
   "execution_count": 4,
   "metadata": {
    "slideshow": {
     "slide_type": "fragment"
    }
   },
   "outputs": [
    {
     "data": {
      "text/html": [
       "<style>\n",
       ".list-inline {list-style: none; margin:0; padding: 0}\n",
       ".list-inline>li {display: inline-block}\n",
       ".list-inline>li:not(:last-child)::after {content: \"\\00b7\"; padding: 0 .5ex}\n",
       "</style>\n",
       "<ol class=list-inline><li>'john'</li><li>'george'</li><li>'paul'</li><li>'ringo'</li></ol>\n"
      ],
      "text/latex": [
       "\\begin{enumerate*}\n",
       "\\item 'john'\n",
       "\\item 'george'\n",
       "\\item 'paul'\n",
       "\\item 'ringo'\n",
       "\\end{enumerate*}\n"
      ],
      "text/markdown": [
       "1. 'john'\n",
       "2. 'george'\n",
       "3. 'paul'\n",
       "4. 'ringo'\n",
       "\n",
       "\n"
      ],
      "text/plain": [
       "[1] \"john\"   \"george\" \"paul\"   \"ringo\" "
      ]
     },
     "metadata": {},
     "output_type": "display_data"
    }
   ],
   "source": [
    "dat[, 2]            # get all of second column"
   ]
  },
  {
   "cell_type": "code",
   "execution_count": 5,
   "metadata": {
    "slideshow": {
     "slide_type": "fragment"
    }
   },
   "outputs": [
    {
     "data": {
      "text/html": [
       "<table class=\"dataframe\">\n",
       "<caption>A data.frame: 1 × 4</caption>\n",
       "<thead>\n",
       "\t<tr><th></th><th scope=col>idx</th><th scope=col>firstname</th><th scope=col>score</th><th scope=col>vocals</th></tr>\n",
       "\t<tr><th></th><th scope=col>&lt;int&gt;</th><th scope=col>&lt;chr&gt;</th><th scope=col>&lt;dbl&gt;</th><th scope=col>&lt;lgl&gt;</th></tr>\n",
       "</thead>\n",
       "<tbody>\n",
       "\t<tr><th scope=row>3</th><td>3</td><td>paul</td><td>-0.03858071</td><td>TRUE</td></tr>\n",
       "</tbody>\n",
       "</table>\n"
      ],
      "text/latex": [
       "A data.frame: 1 × 4\n",
       "\\begin{tabular}{r|llll}\n",
       "  & idx & firstname & score & vocals\\\\\n",
       "  & <int> & <chr> & <dbl> & <lgl>\\\\\n",
       "\\hline\n",
       "\t3 & 3 & paul & -0.03858071 & TRUE\\\\\n",
       "\\end{tabular}\n"
      ],
      "text/markdown": [
       "\n",
       "A data.frame: 1 × 4\n",
       "\n",
       "| <!--/--> | idx &lt;int&gt; | firstname &lt;chr&gt; | score &lt;dbl&gt; | vocals &lt;lgl&gt; |\n",
       "|---|---|---|---|---|\n",
       "| 3 | 3 | paul | -0.03858071 | TRUE |\n",
       "\n"
      ],
      "text/plain": [
       "  idx firstname score       vocals\n",
       "3 3   paul      -0.03858071 TRUE  "
      ]
     },
     "metadata": {},
     "output_type": "display_data"
    }
   ],
   "source": [
    "dat[3, ]            # get third row"
   ]
  },
  {
   "cell_type": "markdown",
   "metadata": {
    "slideshow": {
     "slide_type": "subslide"
    }
   },
   "source": [
    "### 1.2.1 Indexing using Column Names"
   ]
  },
  {
   "cell_type": "code",
   "execution_count": 7,
   "metadata": {
    "slideshow": {
     "slide_type": "fragment"
    }
   },
   "outputs": [
    {
     "data": {
      "text/html": [
       "-0.038580706112356"
      ],
      "text/latex": [
       "-0.038580706112356"
      ],
      "text/markdown": [
       "-0.038580706112356"
      ],
      "text/plain": [
       "[1] -0.03858071"
      ]
     },
     "metadata": {},
     "output_type": "display_data"
    }
   ],
   "source": [
    "dat[3, \"score\"]          # element from row 3 and \"score\" column"
   ]
  },
  {
   "cell_type": "code",
   "execution_count": 9,
   "metadata": {
    "slideshow": {
     "slide_type": "fragment"
    }
   },
   "outputs": [
    {
     "data": {
      "text/html": [
       "<style>\n",
       ".list-inline {list-style: none; margin:0; padding: 0}\n",
       ".list-inline>li {display: inline-block}\n",
       ".list-inline>li:not(:last-child)::after {content: \"\\00b7\"; padding: 0 .5ex}\n",
       "</style>\n",
       "<ol class=list-inline><li>'george'</li><li>'paul'</li><li>'ringo'</li></ol>\n"
      ],
      "text/latex": [
       "\\begin{enumerate*}\n",
       "\\item 'george'\n",
       "\\item 'paul'\n",
       "\\item 'ringo'\n",
       "\\end{enumerate*}\n"
      ],
      "text/markdown": [
       "1. 'george'\n",
       "2. 'paul'\n",
       "3. 'ringo'\n",
       "\n",
       "\n"
      ],
      "text/plain": [
       "[1] \"george\" \"paul\"   \"ringo\" "
      ]
     },
     "metadata": {},
     "output_type": "display_data"
    }
   ],
   "source": [
    "dat[2:4, \"firstname\"]    # get elements 2, 3, and 4 from \"firstname\" column"
   ]
  },
  {
   "cell_type": "markdown",
   "metadata": {
    "slideshow": {
     "slide_type": "subslide"
    }
   },
   "source": [
    "## 1.3 The `$` Operator and `data.frame` Objects "
   ]
  },
  {
   "cell_type": "code",
   "execution_count": 12,
   "metadata": {
    "slideshow": {
     "slide_type": "fragment"
    }
   },
   "outputs": [
    {
     "data": {
      "text/html": [
       "<style>\n",
       ".list-inline {list-style: none; margin:0; padding: 0}\n",
       ".list-inline>li {display: inline-block}\n",
       ".list-inline>li:not(:last-child)::after {content: \"\\00b7\"; padding: 0 .5ex}\n",
       "</style>\n",
       "<ol class=list-inline><li>'john'</li><li>'george'</li><li>'paul'</li><li>'ringo'</li></ol>\n"
      ],
      "text/latex": [
       "\\begin{enumerate*}\n",
       "\\item 'john'\n",
       "\\item 'george'\n",
       "\\item 'paul'\n",
       "\\item 'ringo'\n",
       "\\end{enumerate*}\n"
      ],
      "text/markdown": [
       "1. 'john'\n",
       "2. 'george'\n",
       "3. 'paul'\n",
       "4. 'ringo'\n",
       "\n",
       "\n"
      ],
      "text/plain": [
       "[1] \"john\"   \"george\" \"paul\"   \"ringo\" "
      ]
     },
     "metadata": {},
     "output_type": "display_data"
    }
   ],
   "source": [
    "dat$firstname            # get the \"firstname\" column"
   ]
  },
  {
   "cell_type": "markdown",
   "metadata": {
    "slideshow": {
     "slide_type": "subslide"
    }
   },
   "source": [
    "# 2. Filter `data.frame` using Logical Indexing"
   ]
  },
  {
   "cell_type": "code",
   "execution_count": 13,
   "metadata": {
    "slideshow": {
     "slide_type": "fragment"
    }
   },
   "outputs": [
    {
     "data": {
      "text/html": [
       "<table class=\"dataframe\">\n",
       "<caption>A data.frame: 4 × 4</caption>\n",
       "<thead>\n",
       "\t<tr><th scope=col>idx</th><th scope=col>firstname</th><th scope=col>score</th><th scope=col>vocals</th></tr>\n",
       "\t<tr><th scope=col>&lt;int&gt;</th><th scope=col>&lt;chr&gt;</th><th scope=col>&lt;dbl&gt;</th><th scope=col>&lt;lgl&gt;</th></tr>\n",
       "</thead>\n",
       "<tbody>\n",
       "\t<tr><td>1</td><td>john  </td><td> 0.80531144</td><td> TRUE</td></tr>\n",
       "\t<tr><td>2</td><td>george</td><td> 0.18674302</td><td> TRUE</td></tr>\n",
       "\t<tr><td>3</td><td>paul  </td><td>-0.03858071</td><td> TRUE</td></tr>\n",
       "\t<tr><td>4</td><td>ringo </td><td> 0.06816614</td><td>FALSE</td></tr>\n",
       "</tbody>\n",
       "</table>\n"
      ],
      "text/latex": [
       "A data.frame: 4 × 4\n",
       "\\begin{tabular}{llll}\n",
       " idx & firstname & score & vocals\\\\\n",
       " <int> & <chr> & <dbl> & <lgl>\\\\\n",
       "\\hline\n",
       "\t 1 & john   &  0.80531144 &  TRUE\\\\\n",
       "\t 2 & george &  0.18674302 &  TRUE\\\\\n",
       "\t 3 & paul   & -0.03858071 &  TRUE\\\\\n",
       "\t 4 & ringo  &  0.06816614 & FALSE\\\\\n",
       "\\end{tabular}\n"
      ],
      "text/markdown": [
       "\n",
       "A data.frame: 4 × 4\n",
       "\n",
       "| idx &lt;int&gt; | firstname &lt;chr&gt; | score &lt;dbl&gt; | vocals &lt;lgl&gt; |\n",
       "|---|---|---|---|\n",
       "| 1 | john   |  0.80531144 |  TRUE |\n",
       "| 2 | george |  0.18674302 |  TRUE |\n",
       "| 3 | paul   | -0.03858071 |  TRUE |\n",
       "| 4 | ringo  |  0.06816614 | FALSE |\n",
       "\n"
      ],
      "text/plain": [
       "  idx firstname score       vocals\n",
       "1 1   john       0.80531144  TRUE \n",
       "2 2   george     0.18674302  TRUE \n",
       "3 3   paul      -0.03858071  TRUE \n",
       "4 4   ringo      0.06816614 FALSE "
      ]
     },
     "metadata": {},
     "output_type": "display_data"
    }
   ],
   "source": [
    "dat"
   ]
  },
  {
   "cell_type": "code",
   "execution_count": 15,
   "metadata": {
    "slideshow": {
     "slide_type": "fragment"
    }
   },
   "outputs": [
    {
     "data": {
      "text/html": [
       "<table class=\"dataframe\">\n",
       "<caption>A data.frame: 3 × 4</caption>\n",
       "<thead>\n",
       "\t<tr><th></th><th scope=col>idx</th><th scope=col>firstname</th><th scope=col>score</th><th scope=col>vocals</th></tr>\n",
       "\t<tr><th></th><th scope=col>&lt;int&gt;</th><th scope=col>&lt;chr&gt;</th><th scope=col>&lt;dbl&gt;</th><th scope=col>&lt;lgl&gt;</th></tr>\n",
       "</thead>\n",
       "<tbody>\n",
       "\t<tr><th scope=row>1</th><td>1</td><td>john  </td><td> 0.80531144</td><td>TRUE</td></tr>\n",
       "\t<tr><th scope=row>2</th><td>2</td><td>george</td><td> 0.18674302</td><td>TRUE</td></tr>\n",
       "\t<tr><th scope=row>3</th><td>3</td><td>paul  </td><td>-0.03858071</td><td>TRUE</td></tr>\n",
       "</tbody>\n",
       "</table>\n"
      ],
      "text/latex": [
       "A data.frame: 3 × 4\n",
       "\\begin{tabular}{r|llll}\n",
       "  & idx & firstname & score & vocals\\\\\n",
       "  & <int> & <chr> & <dbl> & <lgl>\\\\\n",
       "\\hline\n",
       "\t1 & 1 & john   &  0.80531144 & TRUE\\\\\n",
       "\t2 & 2 & george &  0.18674302 & TRUE\\\\\n",
       "\t3 & 3 & paul   & -0.03858071 & TRUE\\\\\n",
       "\\end{tabular}\n"
      ],
      "text/markdown": [
       "\n",
       "A data.frame: 3 × 4\n",
       "\n",
       "| <!--/--> | idx &lt;int&gt; | firstname &lt;chr&gt; | score &lt;dbl&gt; | vocals &lt;lgl&gt; |\n",
       "|---|---|---|---|---|\n",
       "| 1 | 1 | john   |  0.80531144 | TRUE |\n",
       "| 2 | 2 | george |  0.18674302 | TRUE |\n",
       "| 3 | 3 | paul   | -0.03858071 | TRUE |\n",
       "\n"
      ],
      "text/plain": [
       "  idx firstname score       vocals\n",
       "1 1   john       0.80531144 TRUE  \n",
       "2 2   george     0.18674302 TRUE  \n",
       "3 3   paul      -0.03858071 TRUE  "
      ]
     },
     "metadata": {},
     "output_type": "display_data"
    }
   ],
   "source": [
    "idx_keep <- c(TRUE, TRUE, TRUE, FALSE)\n",
    "\n",
    "dat[idx_keep, ]"
   ]
  },
  {
   "cell_type": "markdown",
   "metadata": {
    "slideshow": {
     "slide_type": "subslide"
    }
   },
   "source": [
    "## 2.1 Create New `data.frame` from Another"
   ]
  },
  {
   "cell_type": "code",
   "execution_count": 17,
   "metadata": {
    "slideshow": {
     "slide_type": "fragment"
    }
   },
   "outputs": [
    {
     "data": {
      "text/html": [
       "<table class=\"dataframe\">\n",
       "<caption>A data.frame: 3 × 4</caption>\n",
       "<thead>\n",
       "\t<tr><th></th><th scope=col>idx</th><th scope=col>firstname</th><th scope=col>score</th><th scope=col>vocals</th></tr>\n",
       "\t<tr><th></th><th scope=col>&lt;int&gt;</th><th scope=col>&lt;chr&gt;</th><th scope=col>&lt;dbl&gt;</th><th scope=col>&lt;lgl&gt;</th></tr>\n",
       "</thead>\n",
       "<tbody>\n",
       "\t<tr><th scope=row>1</th><td>1</td><td>john  </td><td> 0.80531144</td><td>TRUE</td></tr>\n",
       "\t<tr><th scope=row>2</th><td>2</td><td>george</td><td> 0.18674302</td><td>TRUE</td></tr>\n",
       "\t<tr><th scope=row>3</th><td>3</td><td>paul  </td><td>-0.03858071</td><td>TRUE</td></tr>\n",
       "</tbody>\n",
       "</table>\n"
      ],
      "text/latex": [
       "A data.frame: 3 × 4\n",
       "\\begin{tabular}{r|llll}\n",
       "  & idx & firstname & score & vocals\\\\\n",
       "  & <int> & <chr> & <dbl> & <lgl>\\\\\n",
       "\\hline\n",
       "\t1 & 1 & john   &  0.80531144 & TRUE\\\\\n",
       "\t2 & 2 & george &  0.18674302 & TRUE\\\\\n",
       "\t3 & 3 & paul   & -0.03858071 & TRUE\\\\\n",
       "\\end{tabular}\n"
      ],
      "text/markdown": [
       "\n",
       "A data.frame: 3 × 4\n",
       "\n",
       "| <!--/--> | idx &lt;int&gt; | firstname &lt;chr&gt; | score &lt;dbl&gt; | vocals &lt;lgl&gt; |\n",
       "|---|---|---|---|---|\n",
       "| 1 | 1 | john   |  0.80531144 | TRUE |\n",
       "| 2 | 2 | george |  0.18674302 | TRUE |\n",
       "| 3 | 3 | paul   | -0.03858071 | TRUE |\n",
       "\n"
      ],
      "text/plain": [
       "  idx firstname score       vocals\n",
       "1 1   john       0.80531144 TRUE  \n",
       "2 2   george     0.18674302 TRUE  \n",
       "3 3   paul      -0.03858071 TRUE  "
      ]
     },
     "metadata": {},
     "output_type": "display_data"
    }
   ],
   "source": [
    "dat2 <- dat[idx_keep, ]       # create new dataframe, from subset of original\n",
    "\n",
    "head(dat2)"
   ]
  },
  {
   "cell_type": "markdown",
   "metadata": {
    "slideshow": {
     "slide_type": "subslide"
    }
   },
   "source": [
    "### 2.1.1 Take Subset of `data.frame` Columns"
   ]
  },
  {
   "cell_type": "code",
   "execution_count": 20,
   "metadata": {
    "slideshow": {
     "slide_type": "fragment"
    }
   },
   "outputs": [
    {
     "data": {
      "text/html": [
       "<table class=\"dataframe\">\n",
       "<caption>A data.frame: 3 × 2</caption>\n",
       "<thead>\n",
       "\t<tr><th></th><th scope=col>firstname</th><th scope=col>score</th></tr>\n",
       "\t<tr><th></th><th scope=col>&lt;chr&gt;</th><th scope=col>&lt;dbl&gt;</th></tr>\n",
       "</thead>\n",
       "<tbody>\n",
       "\t<tr><th scope=row>1</th><td>john  </td><td> 0.80531144</td></tr>\n",
       "\t<tr><th scope=row>2</th><td>george</td><td> 0.18674302</td></tr>\n",
       "\t<tr><th scope=row>3</th><td>paul  </td><td>-0.03858071</td></tr>\n",
       "</tbody>\n",
       "</table>\n"
      ],
      "text/latex": [
       "A data.frame: 3 × 2\n",
       "\\begin{tabular}{r|ll}\n",
       "  & firstname & score\\\\\n",
       "  & <chr> & <dbl>\\\\\n",
       "\\hline\n",
       "\t1 & john   &  0.80531144\\\\\n",
       "\t2 & george &  0.18674302\\\\\n",
       "\t3 & paul   & -0.03858071\\\\\n",
       "\\end{tabular}\n"
      ],
      "text/markdown": [
       "\n",
       "A data.frame: 3 × 2\n",
       "\n",
       "| <!--/--> | firstname &lt;chr&gt; | score &lt;dbl&gt; |\n",
       "|---|---|---|\n",
       "| 1 | john   |  0.80531144 |\n",
       "| 2 | george |  0.18674302 |\n",
       "| 3 | paul   | -0.03858071 |\n",
       "\n"
      ],
      "text/plain": [
       "  firstname score      \n",
       "1 john       0.80531144\n",
       "2 george     0.18674302\n",
       "3 paul      -0.03858071"
      ]
     },
     "metadata": {},
     "output_type": "display_data"
    }
   ],
   "source": [
    "cols <- c(\"firstname\", \"score\")    # columns we care about\n",
    "\n",
    "dat_namescore <- dat2[, cols]      # create new dataframe\n",
    "\n",
    "dat_namescore"
   ]
  },
  {
   "cell_type": "markdown",
   "metadata": {
    "slideshow": {
     "slide_type": "subslide"
    }
   },
   "source": [
    "# 3. Adding Columns to a `data.frame`"
   ]
  },
  {
   "cell_type": "code",
   "execution_count": 21,
   "metadata": {
    "slideshow": {
     "slide_type": "fragment"
    }
   },
   "outputs": [
    {
     "data": {
      "text/html": [
       "<table class=\"dataframe\">\n",
       "<caption>A data.frame: 4 × 4</caption>\n",
       "<thead>\n",
       "\t<tr><th scope=col>idx</th><th scope=col>firstname</th><th scope=col>score</th><th scope=col>vocals</th></tr>\n",
       "\t<tr><th scope=col>&lt;int&gt;</th><th scope=col>&lt;chr&gt;</th><th scope=col>&lt;dbl&gt;</th><th scope=col>&lt;lgl&gt;</th></tr>\n",
       "</thead>\n",
       "<tbody>\n",
       "\t<tr><td>1</td><td>john  </td><td> 0.80531144</td><td> TRUE</td></tr>\n",
       "\t<tr><td>2</td><td>george</td><td> 0.18674302</td><td> TRUE</td></tr>\n",
       "\t<tr><td>3</td><td>paul  </td><td>-0.03858071</td><td> TRUE</td></tr>\n",
       "\t<tr><td>4</td><td>ringo </td><td> 0.06816614</td><td>FALSE</td></tr>\n",
       "</tbody>\n",
       "</table>\n"
      ],
      "text/latex": [
       "A data.frame: 4 × 4\n",
       "\\begin{tabular}{llll}\n",
       " idx & firstname & score & vocals\\\\\n",
       " <int> & <chr> & <dbl> & <lgl>\\\\\n",
       "\\hline\n",
       "\t 1 & john   &  0.80531144 &  TRUE\\\\\n",
       "\t 2 & george &  0.18674302 &  TRUE\\\\\n",
       "\t 3 & paul   & -0.03858071 &  TRUE\\\\\n",
       "\t 4 & ringo  &  0.06816614 & FALSE\\\\\n",
       "\\end{tabular}\n"
      ],
      "text/markdown": [
       "\n",
       "A data.frame: 4 × 4\n",
       "\n",
       "| idx &lt;int&gt; | firstname &lt;chr&gt; | score &lt;dbl&gt; | vocals &lt;lgl&gt; |\n",
       "|---|---|---|---|\n",
       "| 1 | john   |  0.80531144 |  TRUE |\n",
       "| 2 | george |  0.18674302 |  TRUE |\n",
       "| 3 | paul   | -0.03858071 |  TRUE |\n",
       "| 4 | ringo  |  0.06816614 | FALSE |\n",
       "\n"
      ],
      "text/plain": [
       "  idx firstname score       vocals\n",
       "1 1   john       0.80531144  TRUE \n",
       "2 2   george     0.18674302  TRUE \n",
       "3 3   paul      -0.03858071  TRUE \n",
       "4 4   ringo      0.06816614 FALSE "
      ]
     },
     "metadata": {},
     "output_type": "display_data"
    }
   ],
   "source": [
    "dat"
   ]
  },
  {
   "cell_type": "code",
   "execution_count": 27,
   "metadata": {
    "slideshow": {
     "slide_type": "fragment"
    }
   },
   "outputs": [
    {
     "data": {
      "text/html": [
       "<table class=\"dataframe\">\n",
       "<caption>A data.frame: 4 × 5</caption>\n",
       "<thead>\n",
       "\t<tr><th scope=col>idx</th><th scope=col>firstname</th><th scope=col>score</th><th scope=col>vocals</th><th scope=col>food</th></tr>\n",
       "\t<tr><th scope=col>&lt;int&gt;</th><th scope=col>&lt;chr&gt;</th><th scope=col>&lt;dbl&gt;</th><th scope=col>&lt;lgl&gt;</th><th scope=col>&lt;chr&gt;</th></tr>\n",
       "</thead>\n",
       "<tbody>\n",
       "\t<tr><td>1</td><td>john  </td><td> 0.80531144</td><td> TRUE</td><td>steak  </td></tr>\n",
       "\t<tr><td>2</td><td>george</td><td> 0.18674302</td><td> TRUE</td><td>chicken</td></tr>\n",
       "\t<tr><td>3</td><td>paul  </td><td>-0.03858071</td><td> TRUE</td><td>potato </td></tr>\n",
       "\t<tr><td>4</td><td>ringo </td><td> 0.06816614</td><td>FALSE</td><td>rice   </td></tr>\n",
       "</tbody>\n",
       "</table>\n"
      ],
      "text/latex": [
       "A data.frame: 4 × 5\n",
       "\\begin{tabular}{lllll}\n",
       " idx & firstname & score & vocals & food\\\\\n",
       " <int> & <chr> & <dbl> & <lgl> & <chr>\\\\\n",
       "\\hline\n",
       "\t 1 & john   &  0.80531144 &  TRUE & steak  \\\\\n",
       "\t 2 & george &  0.18674302 &  TRUE & chicken\\\\\n",
       "\t 3 & paul   & -0.03858071 &  TRUE & potato \\\\\n",
       "\t 4 & ringo  &  0.06816614 & FALSE & rice   \\\\\n",
       "\\end{tabular}\n"
      ],
      "text/markdown": [
       "\n",
       "A data.frame: 4 × 5\n",
       "\n",
       "| idx &lt;int&gt; | firstname &lt;chr&gt; | score &lt;dbl&gt; | vocals &lt;lgl&gt; | food &lt;chr&gt; |\n",
       "|---|---|---|---|---|\n",
       "| 1 | john   |  0.80531144 |  TRUE | steak   |\n",
       "| 2 | george |  0.18674302 |  TRUE | chicken |\n",
       "| 3 | paul   | -0.03858071 |  TRUE | potato  |\n",
       "| 4 | ringo  |  0.06816614 | FALSE | rice    |\n",
       "\n"
      ],
      "text/plain": [
       "  idx firstname score       vocals food   \n",
       "1 1   john       0.80531144  TRUE  steak  \n",
       "2 2   george     0.18674302  TRUE  chicken\n",
       "3 3   paul      -0.03858071  TRUE  potato \n",
       "4 4   ringo      0.06816614 FALSE  rice   "
      ]
     },
     "metadata": {},
     "output_type": "display_data"
    }
   ],
   "source": [
    "dat$food <- c(\"steak\", \"chicken\", \"potato\", \"rice\")\n",
    "\n",
    "dat"
   ]
  },
  {
   "cell_type": "markdown",
   "metadata": {
    "slideshow": {
     "slide_type": "subslide"
    }
   },
   "source": [
    "## 3.1. Adding Columns (cont.)"
   ]
  },
  {
   "cell_type": "code",
   "execution_count": 31,
   "metadata": {
    "slideshow": {
     "slide_type": "fragment"
    }
   },
   "outputs": [
    {
     "data": {
      "text/html": [
       "<table class=\"dataframe\">\n",
       "<caption>A data.frame: 4 × 6</caption>\n",
       "<thead>\n",
       "\t<tr><th scope=col>drink</th><th scope=col>idx</th><th scope=col>firstname</th><th scope=col>score</th><th scope=col>vocals</th><th scope=col>food</th></tr>\n",
       "\t<tr><th scope=col>&lt;chr&gt;</th><th scope=col>&lt;int&gt;</th><th scope=col>&lt;chr&gt;</th><th scope=col>&lt;dbl&gt;</th><th scope=col>&lt;lgl&gt;</th><th scope=col>&lt;chr&gt;</th></tr>\n",
       "</thead>\n",
       "<tbody>\n",
       "\t<tr><td>water </td><td>1</td><td>john  </td><td> 0.80531144</td><td> TRUE</td><td>steak  </td></tr>\n",
       "\t<tr><td>milk  </td><td>2</td><td>george</td><td> 0.18674302</td><td> TRUE</td><td>chicken</td></tr>\n",
       "\t<tr><td>beer  </td><td>3</td><td>paul  </td><td>-0.03858071</td><td> TRUE</td><td>potato </td></tr>\n",
       "\t<tr><td>scotch</td><td>4</td><td>ringo </td><td> 0.06816614</td><td>FALSE</td><td>rice   </td></tr>\n",
       "</tbody>\n",
       "</table>\n"
      ],
      "text/latex": [
       "A data.frame: 4 × 6\n",
       "\\begin{tabular}{llllll}\n",
       " drink & idx & firstname & score & vocals & food\\\\\n",
       " <chr> & <int> & <chr> & <dbl> & <lgl> & <chr>\\\\\n",
       "\\hline\n",
       "\t water  & 1 & john   &  0.80531144 &  TRUE & steak  \\\\\n",
       "\t milk   & 2 & george &  0.18674302 &  TRUE & chicken\\\\\n",
       "\t beer   & 3 & paul   & -0.03858071 &  TRUE & potato \\\\\n",
       "\t scotch & 4 & ringo  &  0.06816614 & FALSE & rice   \\\\\n",
       "\\end{tabular}\n"
      ],
      "text/markdown": [
       "\n",
       "A data.frame: 4 × 6\n",
       "\n",
       "| drink &lt;chr&gt; | idx &lt;int&gt; | firstname &lt;chr&gt; | score &lt;dbl&gt; | vocals &lt;lgl&gt; | food &lt;chr&gt; |\n",
       "|---|---|---|---|---|---|\n",
       "| water  | 1 | john   |  0.80531144 |  TRUE | steak   |\n",
       "| milk   | 2 | george |  0.18674302 |  TRUE | chicken |\n",
       "| beer   | 3 | paul   | -0.03858071 |  TRUE | potato  |\n",
       "| scotch | 4 | ringo  |  0.06816614 | FALSE | rice    |\n",
       "\n"
      ],
      "text/plain": [
       "  drink  idx firstname score       vocals food   \n",
       "1 water  1   john       0.80531144  TRUE  steak  \n",
       "2 milk   2   george     0.18674302  TRUE  chicken\n",
       "3 beer   3   paul      -0.03858071  TRUE  potato \n",
       "4 scotch 4   ringo      0.06816614 FALSE  rice   "
      ]
     },
     "metadata": {},
     "output_type": "display_data"
    }
   ],
   "source": [
    "dat[, \"drink\"] <- c(\"water\", \"milk\", \"beer\", \"scotch\")\n",
    "\n",
    "dat <- dat[, c(\"drink\", \"idx\", \"firstname\", \"score\", \"vocals\", \"food\")]\n",
    "\n",
    "dat"
   ]
  },
  {
   "cell_type": "markdown",
   "metadata": {
    "slideshow": {
     "slide_type": "slide"
    }
   },
   "source": [
    "\n",
    "<center><h1>Challenge Questions</h1></center>\n",
    "\n",
    "### Question 1.\n",
    "Create a `data.frame` object called `state_df` with two columns, one called `state` and one called `population`. Each column should have five elements. For the `state` column, select the abbreviations for five US states (e.g., \"OH\", \"RI\", \"NY\", \"MA\", \"CT\"). For the `population` column, use the `sample()` function to create \"populations\" at random from the range `1` to `1000000`.\n",
    "\n",
    "### Question 2.\n",
    "Add a third column to the `state_df` dataframe called `size`. In particular, use boolean indexing to assign elements of the third column to be `\"large\"` if that row's `population` value is larger than or equal to `500000`, and be `\"small\"`  if the row's `population` is less than `500000`."
   ]
  },
  {
   "cell_type": "code",
   "execution_count": 65,
   "metadata": {},
   "outputs": [],
   "source": [
    "set.seed(1)\n",
    "\n",
    "state <- c(\"OH\", \"RI\", \"NY\", \"MA\", \"CT\")\n",
    "population <- sample(1:1000000, 5)\n",
    "\n",
    "state_df <- data.frame(state, population)"
   ]
  },
  {
   "cell_type": "code",
   "execution_count": 59,
   "metadata": {},
   "outputs": [
    {
     "data": {
      "text/html": [
       "<style>\n",
       ".list-inline {list-style: none; margin:0; padding: 0}\n",
       ".list-inline>li {display: inline-block}\n",
       ".list-inline>li:not(:last-child)::after {content: \"\\00b7\"; padding: 0 .5ex}\n",
       "</style>\n",
       "<ol class=list-inline><li>FALSE</li><li>TRUE</li><li>TRUE</li><li>TRUE</li><li>FALSE</li></ol>\n"
      ],
      "text/latex": [
       "\\begin{enumerate*}\n",
       "\\item FALSE\n",
       "\\item TRUE\n",
       "\\item TRUE\n",
       "\\item TRUE\n",
       "\\item FALSE\n",
       "\\end{enumerate*}\n"
      ],
      "text/markdown": [
       "1. FALSE\n",
       "2. TRUE\n",
       "3. TRUE\n",
       "4. TRUE\n",
       "5. FALSE\n",
       "\n",
       "\n"
      ],
      "text/plain": [
       "[1] FALSE  TRUE  TRUE  TRUE FALSE"
      ]
     },
     "metadata": {},
     "output_type": "display_data"
    },
    {
     "data": {
      "text/html": [
       "<table class=\"dataframe\">\n",
       "<caption>A data.frame: 5 × 3</caption>\n",
       "<thead>\n",
       "\t<tr><th scope=col>state</th><th scope=col>population</th><th scope=col>size</th></tr>\n",
       "\t<tr><th scope=col>&lt;chr&gt;</th><th scope=col>&lt;int&gt;</th><th scope=col>&lt;chr&gt;</th></tr>\n",
       "</thead>\n",
       "<tbody>\n",
       "\t<tr><td>OH</td><td>548676</td><td>large</td></tr>\n",
       "\t<tr><td>RI</td><td>452737</td><td>small</td></tr>\n",
       "\t<tr><td>NY</td><td>124413</td><td>small</td></tr>\n",
       "\t<tr><td>MA</td><td>436523</td><td>small</td></tr>\n",
       "\t<tr><td>CT</td><td>856018</td><td>large</td></tr>\n",
       "</tbody>\n",
       "</table>\n"
      ],
      "text/latex": [
       "A data.frame: 5 × 3\n",
       "\\begin{tabular}{lll}\n",
       " state & population & size\\\\\n",
       " <chr> & <int> & <chr>\\\\\n",
       "\\hline\n",
       "\t OH & 548676 & large\\\\\n",
       "\t RI & 452737 & small\\\\\n",
       "\t NY & 124413 & small\\\\\n",
       "\t MA & 436523 & small\\\\\n",
       "\t CT & 856018 & large\\\\\n",
       "\\end{tabular}\n"
      ],
      "text/markdown": [
       "\n",
       "A data.frame: 5 × 3\n",
       "\n",
       "| state &lt;chr&gt; | population &lt;int&gt; | size &lt;chr&gt; |\n",
       "|---|---|---|\n",
       "| OH | 548676 | large |\n",
       "| RI | 452737 | small |\n",
       "| NY | 124413 | small |\n",
       "| MA | 436523 | small |\n",
       "| CT | 856018 | large |\n",
       "\n"
      ],
      "text/plain": [
       "  state population size \n",
       "1 OH    548676     large\n",
       "2 RI    452737     small\n",
       "3 NY    124413     small\n",
       "4 MA    436523     small\n",
       "5 CT    856018     large"
      ]
     },
     "metadata": {},
     "output_type": "display_data"
    }
   ],
   "source": [
    "is_small <- state_df$population < 500000   # create vector of booleans\n",
    "\n",
    "is_small\n",
    "\n",
    "state_df$size <- rep(NA, 5)                # create column of 5 NAs\n",
    "\n",
    "state_df[is_small, \"size\"] <- \"small\"      # assigning \"small\" wherever `is_small` is TRUE\n",
    "state_df[!is_small, \"size\"] <- \"large\"     # assigning \"large\" wherever !is_small\n",
    "\n",
    "state_df"
   ]
  },
  {
   "cell_type": "code",
   "execution_count": 62,
   "metadata": {},
   "outputs": [
    {
     "data": {
      "text/html": [
       "<table class=\"dataframe\">\n",
       "<caption>A data.frame: 5 × 3</caption>\n",
       "<thead>\n",
       "\t<tr><th scope=col>state</th><th scope=col>population</th><th scope=col>size</th></tr>\n",
       "\t<tr><th scope=col>&lt;chr&gt;</th><th scope=col>&lt;int&gt;</th><th scope=col>&lt;chr&gt;</th></tr>\n",
       "</thead>\n",
       "<tbody>\n",
       "\t<tr><td>OH</td><td>548676</td><td>large</td></tr>\n",
       "\t<tr><td>RI</td><td>452737</td><td>small</td></tr>\n",
       "\t<tr><td>NY</td><td>124413</td><td>small</td></tr>\n",
       "\t<tr><td>MA</td><td>436523</td><td>small</td></tr>\n",
       "\t<tr><td>CT</td><td>856018</td><td>large</td></tr>\n",
       "</tbody>\n",
       "</table>\n"
      ],
      "text/latex": [
       "A data.frame: 5 × 3\n",
       "\\begin{tabular}{lll}\n",
       " state & population & size\\\\\n",
       " <chr> & <int> & <chr>\\\\\n",
       "\\hline\n",
       "\t OH & 548676 & large\\\\\n",
       "\t RI & 452737 & small\\\\\n",
       "\t NY & 124413 & small\\\\\n",
       "\t MA & 436523 & small\\\\\n",
       "\t CT & 856018 & large\\\\\n",
       "\\end{tabular}\n"
      ],
      "text/markdown": [
       "\n",
       "A data.frame: 5 × 3\n",
       "\n",
       "| state &lt;chr&gt; | population &lt;int&gt; | size &lt;chr&gt; |\n",
       "|---|---|---|\n",
       "| OH | 548676 | large |\n",
       "| RI | 452737 | small |\n",
       "| NY | 124413 | small |\n",
       "| MA | 436523 | small |\n",
       "| CT | 856018 | large |\n",
       "\n"
      ],
      "text/plain": [
       "  state population size \n",
       "1 OH    548676     large\n",
       "2 RI    452737     small\n",
       "3 NY    124413     small\n",
       "4 MA    436523     small\n",
       "5 CT    856018     large"
      ]
     },
     "metadata": {},
     "output_type": "display_data"
    }
   ],
   "source": [
    "n <- nrow(state_df)                        # get number of rows in dataframe\n",
    "state_df$size <- rep(NA, n)                # create empty column of NAs\n",
    "\n",
    "for (i in 1:n) {\n",
    "    if (state_df[i, \"population\"] < 500000) {\n",
    "        state_df[i, \"size\"] <- \"small\"\n",
    "    }\n",
    "    else {\n",
    "        state_df[i, \"size\"] <- \"large\"\n",
    "    }\n",
    "}\n",
    "\n",
    "state_df"
   ]
  },
  {
   "cell_type": "code",
   "execution_count": 66,
   "metadata": {},
   "outputs": [
    {
     "data": {
      "text/html": [
       "<table class=\"dataframe\">\n",
       "<caption>A data.frame: 5 × 3</caption>\n",
       "<thead>\n",
       "\t<tr><th scope=col>state</th><th scope=col>population</th><th scope=col>size</th></tr>\n",
       "\t<tr><th scope=col>&lt;chr&gt;</th><th scope=col>&lt;int&gt;</th><th scope=col>&lt;chr&gt;</th></tr>\n",
       "</thead>\n",
       "<tbody>\n",
       "\t<tr><td>OH</td><td>548676</td><td>large</td></tr>\n",
       "\t<tr><td>RI</td><td>452737</td><td>small</td></tr>\n",
       "\t<tr><td>NY</td><td>124413</td><td>small</td></tr>\n",
       "\t<tr><td>MA</td><td>436523</td><td>small</td></tr>\n",
       "\t<tr><td>CT</td><td>856018</td><td>large</td></tr>\n",
       "</tbody>\n",
       "</table>\n"
      ],
      "text/latex": [
       "A data.frame: 5 × 3\n",
       "\\begin{tabular}{lll}\n",
       " state & population & size\\\\\n",
       " <chr> & <int> & <chr>\\\\\n",
       "\\hline\n",
       "\t OH & 548676 & large\\\\\n",
       "\t RI & 452737 & small\\\\\n",
       "\t NY & 124413 & small\\\\\n",
       "\t MA & 436523 & small\\\\\n",
       "\t CT & 856018 & large\\\\\n",
       "\\end{tabular}\n"
      ],
      "text/markdown": [
       "\n",
       "A data.frame: 5 × 3\n",
       "\n",
       "| state &lt;chr&gt; | population &lt;int&gt; | size &lt;chr&gt; |\n",
       "|---|---|---|\n",
       "| OH | 548676 | large |\n",
       "| RI | 452737 | small |\n",
       "| NY | 124413 | small |\n",
       "| MA | 436523 | small |\n",
       "| CT | 856018 | large |\n",
       "\n"
      ],
      "text/plain": [
       "  state population size \n",
       "1 OH    548676     large\n",
       "2 RI    452737     small\n",
       "3 NY    124413     small\n",
       "4 MA    436523     small\n",
       "5 CT    856018     large"
      ]
     },
     "metadata": {},
     "output_type": "display_data"
    }
   ],
   "source": [
    "state_df$size <- ifelse(state_df$population < 500000, \"small\", \"large\")\n",
    "\n",
    "state_df"
   ]
  },
  {
   "cell_type": "markdown",
   "metadata": {
    "slideshow": {
     "slide_type": "slide"
    }
   },
   "source": [
    "# 4. Reading Data from CSV File\n",
    "\n",
    "  - CSV File is \"comma-separated values\"\n",
    "  - The `,` separator is conventional, but not mandatory\n",
    "  - The `|` character is also common"
   ]
  },
  {
   "cell_type": "markdown",
   "metadata": {
    "slideshow": {
     "slide_type": "subslide"
    }
   },
   "source": [
    "## 4.1 Providence Police Dept. Data\n",
    "\n",
    "  - We will be looking at public data regarding arrests and case"
   ]
  },
  {
   "cell_type": "code",
   "execution_count": 69,
   "metadata": {
    "slideshow": {
     "slide_type": "fragment"
    }
   },
   "outputs": [],
   "source": [
    "# The line below reads the CSV file and creates a dataframe \n",
    "\n",
    "arrests_df <- read.csv(\"data/pvd_arrests_2021-10-03.csv\")     "
   ]
  },
  {
   "cell_type": "markdown",
   "metadata": {
    "slideshow": {
     "slide_type": "subslide"
    }
   },
   "source": [
    "## 4.2 Exploring the Data"
   ]
  },
  {
   "cell_type": "code",
   "execution_count": 72,
   "metadata": {
    "slideshow": {
     "slide_type": "fragment"
    }
   },
   "outputs": [
    {
     "data": {
      "text/html": [
       "<table class=\"dataframe\">\n",
       "<caption>A data.frame: 6 × 18</caption>\n",
       "<thead>\n",
       "\t<tr><th></th><th scope=col>arrest_date</th><th scope=col>year</th><th scope=col>month</th><th scope=col>gender</th><th scope=col>race</th><th scope=col>ethnicity</th><th scope=col>year_of_birth</th><th scope=col>age</th><th scope=col>from_address</th><th scope=col>from_city</th><th scope=col>from_state</th><th scope=col>statute_type</th><th scope=col>statute_code</th><th scope=col>statute_desc</th><th scope=col>counts</th><th scope=col>case_number</th><th scope=col>arresting_officers</th><th scope=col>id</th></tr>\n",
       "\t<tr><th></th><th scope=col>&lt;chr&gt;</th><th scope=col>&lt;int&gt;</th><th scope=col>&lt;int&gt;</th><th scope=col>&lt;chr&gt;</th><th scope=col>&lt;chr&gt;</th><th scope=col>&lt;chr&gt;</th><th scope=col>&lt;int&gt;</th><th scope=col>&lt;int&gt;</th><th scope=col>&lt;chr&gt;</th><th scope=col>&lt;chr&gt;</th><th scope=col>&lt;chr&gt;</th><th scope=col>&lt;chr&gt;</th><th scope=col>&lt;chr&gt;</th><th scope=col>&lt;chr&gt;</th><th scope=col>&lt;int&gt;</th><th scope=col>&lt;chr&gt;</th><th scope=col>&lt;chr&gt;</th><th scope=col>&lt;chr&gt;</th></tr>\n",
       "</thead>\n",
       "<tbody>\n",
       "\t<tr><th scope=row>1</th><td>2019-08-24T02:23:00.0</td><td>2019</td><td>8</td><td>Male  </td><td>White</td><td>NonHispanic</td><td>1981</td><td>37</td><td>No Permanent Address</td><td>providence</td><td>Rhode Island</td><td>                    </td><td>        </td><td>                                                         </td><td>NA</td><td>2019-00084142</td><td> YGonzalez, LTaveras    </td><td>pvd2218242150382148273 </td></tr>\n",
       "\t<tr><th scope=row>2</th><td>2019-08-24T02:02:00.0</td><td>2019</td><td>8</td><td>      </td><td>     </td><td>           </td><td>1994</td><td>25</td><td>SUMMER AVE          </td><td>Cranston  </td><td>Rhode Island</td><td>RI Statute Violation</td><td>31-11-18</td><td>Driving after Denial, Suspension or Revocation of License</td><td> 1</td><td>2019-00084127</td><td> NManfredi              </td><td>pvd15166785558364246202</td></tr>\n",
       "\t<tr><th scope=row>3</th><td>2019-08-24T02:02:00.0</td><td>2019</td><td>8</td><td>Female</td><td>Black</td><td>NonHispanic</td><td>1984</td><td>34</td><td>DOUGLAS AVE         </td><td>Providence</td><td>Rhode Island</td><td>RI Statute Violation</td><td>12-7-10 </td><td>RESISTING LEGAL OR ILLEGAL ARREST                        </td><td> 1</td><td>2019-00084126</td><td> MPlace, JPerez, ASantos</td><td>pvd3142917706201385905 </td></tr>\n",
       "\t<tr><th scope=row>4</th><td>2019-08-24T02:02:00.0</td><td>2019</td><td>8</td><td>Female</td><td>Black</td><td>NonHispanic</td><td>1984</td><td>34</td><td>DOUGLAS AVE         </td><td>Providence</td><td>Rhode Island</td><td>RI Statute Violation</td><td>11-45-1 </td><td>DISORDERLY CONDUCT                                       </td><td> 1</td><td>2019-00084126</td><td> MPlace, JPerez, ASantos</td><td>pvd3142917706201385905 </td></tr>\n",
       "\t<tr><th scope=row>5</th><td>2019-08-24T02:02:00.0</td><td>2019</td><td>8</td><td>Female</td><td>Black</td><td>Unknown    </td><td>2001</td><td>18</td><td>TRASH ST            </td><td>          </td><td>            </td><td>RI Statute Violation</td><td>12-7-10 </td><td>RESISTING LEGAL OR ILLEGAL ARREST                        </td><td> 1</td><td>2019-00084126</td><td> MPlace, JPerez, ASantos</td><td>pvd460449304532374599  </td></tr>\n",
       "\t<tr><th scope=row>6</th><td>2019-08-24T02:02:00.0</td><td>2019</td><td>8</td><td>Female</td><td>Black</td><td>Unknown    </td><td>2001</td><td>18</td><td>TRASH ST            </td><td>          </td><td>            </td><td>RI Statute Violation</td><td>11-45-1 </td><td>DISORDERLY CONDUCT                                       </td><td> 1</td><td>2019-00084126</td><td> MPlace, JPerez, ASantos</td><td>pvd460449304532374599  </td></tr>\n",
       "</tbody>\n",
       "</table>\n"
      ],
      "text/latex": [
       "A data.frame: 6 × 18\n",
       "\\begin{tabular}{r|llllllllllllllllll}\n",
       "  & arrest\\_date & year & month & gender & race & ethnicity & year\\_of\\_birth & age & from\\_address & from\\_city & from\\_state & statute\\_type & statute\\_code & statute\\_desc & counts & case\\_number & arresting\\_officers & id\\\\\n",
       "  & <chr> & <int> & <int> & <chr> & <chr> & <chr> & <int> & <int> & <chr> & <chr> & <chr> & <chr> & <chr> & <chr> & <int> & <chr> & <chr> & <chr>\\\\\n",
       "\\hline\n",
       "\t1 & 2019-08-24T02:23:00.0 & 2019 & 8 & Male   & White & NonHispanic & 1981 & 37 & No Permanent Address & providence & Rhode Island &                      &          &                                                           & NA & 2019-00084142 &  YGonzalez, LTaveras     & pvd2218242150382148273 \\\\\n",
       "\t2 & 2019-08-24T02:02:00.0 & 2019 & 8 &        &       &             & 1994 & 25 & SUMMER AVE           & Cranston   & Rhode Island & RI Statute Violation & 31-11-18 & Driving after Denial, Suspension or Revocation of License &  1 & 2019-00084127 &  NManfredi               & pvd15166785558364246202\\\\\n",
       "\t3 & 2019-08-24T02:02:00.0 & 2019 & 8 & Female & Black & NonHispanic & 1984 & 34 & DOUGLAS AVE          & Providence & Rhode Island & RI Statute Violation & 12-7-10  & RESISTING LEGAL OR ILLEGAL ARREST                         &  1 & 2019-00084126 &  MPlace, JPerez, ASantos & pvd3142917706201385905 \\\\\n",
       "\t4 & 2019-08-24T02:02:00.0 & 2019 & 8 & Female & Black & NonHispanic & 1984 & 34 & DOUGLAS AVE          & Providence & Rhode Island & RI Statute Violation & 11-45-1  & DISORDERLY CONDUCT                                        &  1 & 2019-00084126 &  MPlace, JPerez, ASantos & pvd3142917706201385905 \\\\\n",
       "\t5 & 2019-08-24T02:02:00.0 & 2019 & 8 & Female & Black & Unknown     & 2001 & 18 & TRASH ST             &            &              & RI Statute Violation & 12-7-10  & RESISTING LEGAL OR ILLEGAL ARREST                         &  1 & 2019-00084126 &  MPlace, JPerez, ASantos & pvd460449304532374599  \\\\\n",
       "\t6 & 2019-08-24T02:02:00.0 & 2019 & 8 & Female & Black & Unknown     & 2001 & 18 & TRASH ST             &            &              & RI Statute Violation & 11-45-1  & DISORDERLY CONDUCT                                        &  1 & 2019-00084126 &  MPlace, JPerez, ASantos & pvd460449304532374599  \\\\\n",
       "\\end{tabular}\n"
      ],
      "text/markdown": [
       "\n",
       "A data.frame: 6 × 18\n",
       "\n",
       "| <!--/--> | arrest_date &lt;chr&gt; | year &lt;int&gt; | month &lt;int&gt; | gender &lt;chr&gt; | race &lt;chr&gt; | ethnicity &lt;chr&gt; | year_of_birth &lt;int&gt; | age &lt;int&gt; | from_address &lt;chr&gt; | from_city &lt;chr&gt; | from_state &lt;chr&gt; | statute_type &lt;chr&gt; | statute_code &lt;chr&gt; | statute_desc &lt;chr&gt; | counts &lt;int&gt; | case_number &lt;chr&gt; | arresting_officers &lt;chr&gt; | id &lt;chr&gt; |\n",
       "|---|---|---|---|---|---|---|---|---|---|---|---|---|---|---|---|---|---|---|\n",
       "| 1 | 2019-08-24T02:23:00.0 | 2019 | 8 | Male   | White | NonHispanic | 1981 | 37 | No Permanent Address | providence | Rhode Island | <!----> | <!----> | <!----> | NA | 2019-00084142 |  YGonzalez, LTaveras     | pvd2218242150382148273  |\n",
       "| 2 | 2019-08-24T02:02:00.0 | 2019 | 8 | <!----> | <!----> | <!----> | 1994 | 25 | SUMMER AVE           | Cranston   | Rhode Island | RI Statute Violation | 31-11-18 | Driving after Denial, Suspension or Revocation of License |  1 | 2019-00084127 |  NManfredi               | pvd15166785558364246202 |\n",
       "| 3 | 2019-08-24T02:02:00.0 | 2019 | 8 | Female | Black | NonHispanic | 1984 | 34 | DOUGLAS AVE          | Providence | Rhode Island | RI Statute Violation | 12-7-10  | RESISTING LEGAL OR ILLEGAL ARREST                         |  1 | 2019-00084126 |  MPlace, JPerez, ASantos | pvd3142917706201385905  |\n",
       "| 4 | 2019-08-24T02:02:00.0 | 2019 | 8 | Female | Black | NonHispanic | 1984 | 34 | DOUGLAS AVE          | Providence | Rhode Island | RI Statute Violation | 11-45-1  | DISORDERLY CONDUCT                                        |  1 | 2019-00084126 |  MPlace, JPerez, ASantos | pvd3142917706201385905  |\n",
       "| 5 | 2019-08-24T02:02:00.0 | 2019 | 8 | Female | Black | Unknown     | 2001 | 18 | TRASH ST             | <!----> | <!----> | RI Statute Violation | 12-7-10  | RESISTING LEGAL OR ILLEGAL ARREST                         |  1 | 2019-00084126 |  MPlace, JPerez, ASantos | pvd460449304532374599   |\n",
       "| 6 | 2019-08-24T02:02:00.0 | 2019 | 8 | Female | Black | Unknown     | 2001 | 18 | TRASH ST             | <!----> | <!----> | RI Statute Violation | 11-45-1  | DISORDERLY CONDUCT                                        |  1 | 2019-00084126 |  MPlace, JPerez, ASantos | pvd460449304532374599   |\n",
       "\n"
      ],
      "text/plain": [
       "  arrest_date           year month gender race  ethnicity   year_of_birth age\n",
       "1 2019-08-24T02:23:00.0 2019 8     Male   White NonHispanic 1981          37 \n",
       "2 2019-08-24T02:02:00.0 2019 8                              1994          25 \n",
       "3 2019-08-24T02:02:00.0 2019 8     Female Black NonHispanic 1984          34 \n",
       "4 2019-08-24T02:02:00.0 2019 8     Female Black NonHispanic 1984          34 \n",
       "5 2019-08-24T02:02:00.0 2019 8     Female Black Unknown     2001          18 \n",
       "6 2019-08-24T02:02:00.0 2019 8     Female Black Unknown     2001          18 \n",
       "  from_address         from_city  from_state   statute_type        \n",
       "1 No Permanent Address providence Rhode Island                     \n",
       "2 SUMMER AVE           Cranston   Rhode Island RI Statute Violation\n",
       "3 DOUGLAS AVE          Providence Rhode Island RI Statute Violation\n",
       "4 DOUGLAS AVE          Providence Rhode Island RI Statute Violation\n",
       "5 TRASH ST                                     RI Statute Violation\n",
       "6 TRASH ST                                     RI Statute Violation\n",
       "  statute_code statute_desc                                              counts\n",
       "1                                                                        NA    \n",
       "2 31-11-18     Driving after Denial, Suspension or Revocation of License  1    \n",
       "3 12-7-10      RESISTING LEGAL OR ILLEGAL ARREST                          1    \n",
       "4 11-45-1      DISORDERLY CONDUCT                                         1    \n",
       "5 12-7-10      RESISTING LEGAL OR ILLEGAL ARREST                          1    \n",
       "6 11-45-1      DISORDERLY CONDUCT                                         1    \n",
       "  case_number   arresting_officers       id                     \n",
       "1 2019-00084142  YGonzalez, LTaveras     pvd2218242150382148273 \n",
       "2 2019-00084127  NManfredi               pvd15166785558364246202\n",
       "3 2019-00084126  MPlace, JPerez, ASantos pvd3142917706201385905 \n",
       "4 2019-00084126  MPlace, JPerez, ASantos pvd3142917706201385905 \n",
       "5 2019-00084126  MPlace, JPerez, ASantos pvd460449304532374599  \n",
       "6 2019-00084126  MPlace, JPerez, ASantos pvd460449304532374599  "
      ]
     },
     "metadata": {},
     "output_type": "display_data"
    }
   ],
   "source": [
    "head(arrests_df)         # show first few lines of the dataframe"
   ]
  },
  {
   "cell_type": "markdown",
   "metadata": {
    "slideshow": {
     "slide_type": "subslide"
    }
   },
   "source": [
    "### 4.2.1 More Data Exploring "
   ]
  },
  {
   "cell_type": "code",
   "execution_count": 73,
   "metadata": {
    "slideshow": {
     "slide_type": "fragment"
    }
   },
   "outputs": [
    {
     "data": {
      "text/html": [
       "<style>\n",
       ".list-inline {list-style: none; margin:0; padding: 0}\n",
       ".list-inline>li {display: inline-block}\n",
       ".list-inline>li:not(:last-child)::after {content: \"\\00b7\"; padding: 0 .5ex}\n",
       "</style>\n",
       "<ol class=list-inline><li>13012</li><li>18</li></ol>\n"
      ],
      "text/latex": [
       "\\begin{enumerate*}\n",
       "\\item 13012\n",
       "\\item 18\n",
       "\\end{enumerate*}\n"
      ],
      "text/markdown": [
       "1. 13012\n",
       "2. 18\n",
       "\n",
       "\n"
      ],
      "text/plain": [
       "[1] 13012    18"
      ]
     },
     "metadata": {},
     "output_type": "display_data"
    }
   ],
   "source": [
    "dim(arrests_df)             # get dimensions of the dataframe"
   ]
  },
  {
   "cell_type": "code",
   "execution_count": 74,
   "metadata": {
    "slideshow": {
     "slide_type": "fragment"
    }
   },
   "outputs": [
    {
     "data": {
      "text/html": [
       "13012"
      ],
      "text/latex": [
       "13012"
      ],
      "text/markdown": [
       "13012"
      ],
      "text/plain": [
       "[1] 13012"
      ]
     },
     "metadata": {},
     "output_type": "display_data"
    }
   ],
   "source": [
    "nrow(arrests_df)            # get number of rows"
   ]
  },
  {
   "cell_type": "code",
   "execution_count": 75,
   "metadata": {
    "slideshow": {
     "slide_type": "fragment"
    }
   },
   "outputs": [
    {
     "data": {
      "text/html": [
       "18"
      ],
      "text/latex": [
       "18"
      ],
      "text/markdown": [
       "18"
      ],
      "text/plain": [
       "[1] 18"
      ]
     },
     "metadata": {},
     "output_type": "display_data"
    }
   ],
   "source": [
    "ncol(arrests_df)            # get the number of columns"
   ]
  },
  {
   "cell_type": "code",
   "execution_count": 78,
   "metadata": {
    "slideshow": {
     "slide_type": "fragment"
    }
   },
   "outputs": [
    {
     "data": {
      "text/html": [
       "<style>\n",
       ".list-inline {list-style: none; margin:0; padding: 0}\n",
       ".list-inline>li {display: inline-block}\n",
       ".list-inline>li:not(:last-child)::after {content: \"\\00b7\"; padding: 0 .5ex}\n",
       "</style>\n",
       "<ol class=list-inline><li>'arrest_date'</li><li>'year'</li><li>'month'</li><li>'gender'</li><li>'race'</li><li>'ethnicity'</li><li>'year_of_birth'</li><li>'age'</li><li>'from_address'</li><li>'from_city'</li><li>'from_state'</li><li>'statute_type'</li><li>'statute_code'</li><li>'statute_desc'</li><li>'counts'</li><li>'case_number'</li><li>'arresting_officers'</li><li>'id'</li></ol>\n"
      ],
      "text/latex": [
       "\\begin{enumerate*}\n",
       "\\item 'arrest\\_date'\n",
       "\\item 'year'\n",
       "\\item 'month'\n",
       "\\item 'gender'\n",
       "\\item 'race'\n",
       "\\item 'ethnicity'\n",
       "\\item 'year\\_of\\_birth'\n",
       "\\item 'age'\n",
       "\\item 'from\\_address'\n",
       "\\item 'from\\_city'\n",
       "\\item 'from\\_state'\n",
       "\\item 'statute\\_type'\n",
       "\\item 'statute\\_code'\n",
       "\\item 'statute\\_desc'\n",
       "\\item 'counts'\n",
       "\\item 'case\\_number'\n",
       "\\item 'arresting\\_officers'\n",
       "\\item 'id'\n",
       "\\end{enumerate*}\n"
      ],
      "text/markdown": [
       "1. 'arrest_date'\n",
       "2. 'year'\n",
       "3. 'month'\n",
       "4. 'gender'\n",
       "5. 'race'\n",
       "6. 'ethnicity'\n",
       "7. 'year_of_birth'\n",
       "8. 'age'\n",
       "9. 'from_address'\n",
       "10. 'from_city'\n",
       "11. 'from_state'\n",
       "12. 'statute_type'\n",
       "13. 'statute_code'\n",
       "14. 'statute_desc'\n",
       "15. 'counts'\n",
       "16. 'case_number'\n",
       "17. 'arresting_officers'\n",
       "18. 'id'\n",
       "\n",
       "\n"
      ],
      "text/plain": [
       " [1] \"arrest_date\"        \"year\"               \"month\"             \n",
       " [4] \"gender\"             \"race\"               \"ethnicity\"         \n",
       " [7] \"year_of_birth\"      \"age\"                \"from_address\"      \n",
       "[10] \"from_city\"          \"from_state\"         \"statute_type\"      \n",
       "[13] \"statute_code\"       \"statute_desc\"       \"counts\"            \n",
       "[16] \"case_number\"        \"arresting_officers\" \"id\"                "
      ]
     },
     "metadata": {},
     "output_type": "display_data"
    }
   ],
   "source": [
    "colnames(arrests_df)        # get the column names"
   ]
  },
  {
   "cell_type": "markdown",
   "metadata": {
    "slideshow": {
     "slide_type": "subslide"
    }
   },
   "source": [
    "# 5. Summaries from `data.frame`"
   ]
  },
  {
   "cell_type": "code",
   "execution_count": 82,
   "metadata": {
    "slideshow": {
     "slide_type": "fragment"
    }
   },
   "outputs": [
    {
     "name": "stdout",
     "output_type": "stream",
     "text": [
      "'data.frame':\t13012 obs. of  18 variables:\n",
      " $ arrest_date       : chr  \"2019-08-24T02:23:00.0\" \"2019-08-24T02:02:00.0\" \"2019-08-24T02:02:00.0\" \"2019-08-24T02:02:00.0\" ...\n",
      " $ year              : int  2019 2019 2019 2019 2019 2019 2019 2019 2019 2019 ...\n",
      " $ month             : int  8 8 8 8 8 8 8 8 8 8 ...\n",
      " $ gender            : chr  \"Male\" \"\" \"Female\" \"Female\" ...\n",
      " $ race              : chr  \"White\" \"\" \"Black\" \"Black\" ...\n",
      " $ ethnicity         : chr  \"NonHispanic\" \"\" \"NonHispanic\" \"NonHispanic\" ...\n",
      " $ year_of_birth     : int  1981 1994 1984 1984 2001 2001 2001 1991 1991 1991 ...\n",
      " $ age               : int  37 25 34 34 18 18 18 28 28 28 ...\n",
      " $ from_address      : chr  \"No Permanent Address\" \"SUMMER AVE\" \"DOUGLAS AVE\" \"DOUGLAS AVE\" ...\n",
      " $ from_city         : chr  \"providence\" \"Cranston\" \"Providence\" \"Providence\" ...\n",
      " $ from_state        : chr  \"Rhode Island\" \"Rhode Island\" \"Rhode Island\" \"Rhode Island\" ...\n",
      " $ statute_type      : chr  \"\" \"RI Statute Violation\" \"RI Statute Violation\" \"RI Statute Violation\" ...\n",
      " $ statute_code      : chr  \"\" \"31-11-18\" \"12-7-10\" \"11-45-1\" ...\n",
      " $ statute_desc      : chr  \"\" \"Driving after Denial, Suspension or Revocation of License\" \"RESISTING LEGAL OR ILLEGAL ARREST\" \"DISORDERLY CONDUCT\" ...\n",
      " $ counts            : int  NA 1 1 1 1 1 1 1 1 1 ...\n",
      " $ case_number       : chr  \"2019-00084142\" \"2019-00084127\" \"2019-00084126\" \"2019-00084126\" ...\n",
      " $ arresting_officers: chr  \" YGonzalez, LTaveras\" \" NManfredi\" \" MPlace, JPerez, ASantos\" \" MPlace, JPerez, ASantos\" ...\n",
      " $ id                : chr  \"pvd2218242150382148273\" \"pvd15166785558364246202\" \"pvd3142917706201385905\" \"pvd3142917706201385905\" ...\n"
     ]
    }
   ],
   "source": [
    "str(arrests_df)              # the str() function shows the structure of dataframe"
   ]
  },
  {
   "cell_type": "markdown",
   "metadata": {
    "slideshow": {
     "slide_type": "subslide"
    }
   },
   "source": [
    "## 5.1 Summarizing Numeric Data"
   ]
  },
  {
   "cell_type": "code",
   "execution_count": 83,
   "metadata": {
    "slideshow": {
     "slide_type": "fragment"
    }
   },
   "outputs": [
    {
     "data": {
      "text/plain": [
       " arrest_date             year          month           gender         \n",
       " Length:13012       Min.   :2019   Min.   : 1.000   Length:13012      \n",
       " Class :character   1st Qu.:2019   1st Qu.: 3.000   Class :character  \n",
       " Mode  :character   Median :2020   Median : 7.000   Mode  :character  \n",
       "                    Mean   :2020   Mean   : 6.508                     \n",
       "                    3rd Qu.:2021   3rd Qu.: 9.000                     \n",
       "                    Max.   :2021   Max.   :12.000                     \n",
       "                                                                      \n",
       "     race            ethnicity         year_of_birth       age       \n",
       " Length:13012       Length:13012       Min.   :1938   Min.   :18.00  \n",
       " Class :character   Class :character   1st Qu.:1980   1st Qu.:24.00  \n",
       " Mode  :character   Mode  :character   Median :1989   Median :31.00  \n",
       "                                       Mean   :1986   Mean   :33.07  \n",
       "                                       3rd Qu.:1995   3rd Qu.:39.00  \n",
       "                                       Max.   :2003   Max.   :83.00  \n",
       "                                                                     \n",
       " from_address        from_city          from_state        statute_type      \n",
       " Length:13012       Length:13012       Length:13012       Length:13012      \n",
       " Class :character   Class :character   Class :character   Class :character  \n",
       " Mode  :character   Mode  :character   Mode  :character   Mode  :character  \n",
       "                                                                            \n",
       "                                                                            \n",
       "                                                                            \n",
       "                                                                            \n",
       " statute_code       statute_desc           counts       case_number       \n",
       " Length:13012       Length:13012       Min.   : 1.000   Length:13012      \n",
       " Class :character   Class :character   1st Qu.: 1.000   Class :character  \n",
       " Mode  :character   Mode  :character   Median : 1.000   Mode  :character  \n",
       "                                       Mean   : 1.087                     \n",
       "                                       3rd Qu.: 1.000                     \n",
       "                                       Max.   :15.000                     \n",
       "                                       NA's   :2983                       \n",
       " arresting_officers      id           \n",
       " Length:13012       Length:13012      \n",
       " Class :character   Class :character  \n",
       " Mode  :character   Mode  :character  \n",
       "                                      \n",
       "                                      \n",
       "                                      \n",
       "                                      "
      ]
     },
     "metadata": {},
     "output_type": "display_data"
    }
   ],
   "source": [
    "summary(arrests_df)"
   ]
  },
  {
   "cell_type": "markdown",
   "metadata": {
    "slideshow": {
     "slide_type": "subslide"
    }
   },
   "source": [
    "### 5.1.1 Summarizing Numeric Data (cont.)"
   ]
  },
  {
   "cell_type": "code",
   "execution_count": 84,
   "metadata": {
    "slideshow": {
     "slide_type": "fragment"
    }
   },
   "outputs": [],
   "source": [
    "numeric_vars <- c(\"month\", \"year\", \"age\", \"year_of_birth\", \"counts\")"
   ]
  },
  {
   "cell_type": "code",
   "execution_count": 85,
   "metadata": {
    "slideshow": {
     "slide_type": "fragment"
    }
   },
   "outputs": [
    {
     "data": {
      "text/plain": [
       "     month             year           age        year_of_birth \n",
       " Min.   : 1.000   Min.   :2019   Min.   :18.00   Min.   :1938  \n",
       " 1st Qu.: 3.000   1st Qu.:2019   1st Qu.:24.00   1st Qu.:1980  \n",
       " Median : 7.000   Median :2020   Median :31.00   Median :1989  \n",
       " Mean   : 6.508   Mean   :2020   Mean   :33.07   Mean   :1986  \n",
       " 3rd Qu.: 9.000   3rd Qu.:2021   3rd Qu.:39.00   3rd Qu.:1995  \n",
       " Max.   :12.000   Max.   :2021   Max.   :83.00   Max.   :2003  \n",
       "                                                               \n",
       "     counts      \n",
       " Min.   : 1.000  \n",
       " 1st Qu.: 1.000  \n",
       " Median : 1.000  \n",
       " Mean   : 1.087  \n",
       " 3rd Qu.: 1.000  \n",
       " Max.   :15.000  \n",
       " NA's   :2983    "
      ]
     },
     "metadata": {},
     "output_type": "display_data"
    }
   ],
   "source": [
    "summary(arrests_df[, numeric_vars])"
   ]
  },
  {
   "cell_type": "markdown",
   "metadata": {
    "slideshow": {
     "slide_type": "subslide"
    }
   },
   "source": [
    "## 5.2 Summarizing String Variables"
   ]
  },
  {
   "cell_type": "code",
   "execution_count": 86,
   "metadata": {
    "slideshow": {
     "slide_type": "fragment"
    }
   },
   "outputs": [
    {
     "data": {
      "text/plain": [
       "\n",
       "                               American Indian/Alaskan Native \n",
       "                            24                             25 \n",
       "        Asian/Pacific Islander                          Black \n",
       "                           121                           5721 \n",
       "                          NULL                        Unknown \n",
       "                            41                            588 \n",
       "                         White            ZHispanic (FD only) \n",
       "                          6483                              9 "
      ]
     },
     "metadata": {},
     "output_type": "display_data"
    }
   ],
   "source": [
    "table(arrests_df$race)           # show summary of \"race\" column in `arrests_df`"
   ]
  },
  {
   "cell_type": "markdown",
   "metadata": {
    "slideshow": {
     "slide_type": "slide"
    }
   },
   "source": [
    "# 6. Options when Reading CSV\n",
    "\n",
    "  - The `read.csv()` function has many optional arguments\n",
    "  - Critically, we can tell R the strings that ought to be considered missing"
   ]
  },
  {
   "cell_type": "code",
   "execution_count": 88,
   "metadata": {
    "slideshow": {
     "slide_type": "fragment"
    }
   },
   "outputs": [],
   "source": [
    "help(read.csv)"
   ]
  },
  {
   "cell_type": "code",
   "execution_count": 96,
   "metadata": {
    "slideshow": {
     "slide_type": "fragment"
    }
   },
   "outputs": [],
   "source": [
    "arrests_df2 <- read.csv(\"data/pvd_arrests_2021-10-03.csv\", \n",
    "                        na.strings = c(\"NA\", \"\", \" \", \"NULL\", \"Unknown\"))"
   ]
  },
  {
   "cell_type": "markdown",
   "metadata": {
    "slideshow": {
     "slide_type": "subslide"
    }
   },
   "source": [
    "## 6.1 Effects of  `na.strings`"
   ]
  },
  {
   "cell_type": "code",
   "execution_count": 97,
   "metadata": {
    "slideshow": {
     "slide_type": "fragment"
    }
   },
   "outputs": [
    {
     "data": {
      "text/plain": [
       "\n",
       "American Indian/Alaskan Native         Asian/Pacific Islander \n",
       "                            25                            121 \n",
       "                         Black                          White \n",
       "                          5721                           6483 \n",
       "           ZHispanic (FD only) \n",
       "                             9 "
      ]
     },
     "metadata": {},
     "output_type": "display_data"
    }
   ],
   "source": [
    "table(arrests_df2$race)             # explore `race` in original dataframe"
   ]
  },
  {
   "cell_type": "code",
   "execution_count": 98,
   "metadata": {
    "slideshow": {
     "slide_type": "fragment"
    }
   },
   "outputs": [
    {
     "data": {
      "text/plain": [
       "\n",
       "American Indian/Alaskan Native         Asian/Pacific Islander \n",
       "                            25                            121 \n",
       "                         Black                          White \n",
       "                          5721                           6483 \n",
       "           ZHispanic (FD only) \n",
       "                             9 "
      ]
     },
     "metadata": {},
     "output_type": "display_data"
    }
   ],
   "source": [
    "table(arrests_df2$race)           # dataframe after setting `na.strings`"
   ]
  }
 ],
 "metadata": {
  "@webio": {
   "lastCommId": null,
   "lastKernelId": null
  },
  "celltoolbar": "Slideshow",
  "kernelspec": {
   "display_name": "R",
   "language": "R",
   "name": "ir"
  },
  "language_info": {
   "codemirror_mode": "r",
   "file_extension": ".r",
   "mimetype": "text/x-r-source",
   "name": "R",
   "pygments_lexer": "r",
   "version": "4.0.2"
  }
 },
 "nbformat": 4,
 "nbformat_minor": 2
}
