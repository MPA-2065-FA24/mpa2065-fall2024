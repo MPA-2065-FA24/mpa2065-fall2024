{
 "cells": [
  {
   "cell_type": "code",
   "execution_count": null,
   "id": "26558e45-8115-41f8-b40e-04b8c5a64345",
   "metadata": {},
   "outputs": [],
   "source": []
  }
 ],
 "metadata": {
  "kernelspec": {
   "display_name": "R",
   "language": "R",
   "name": "ir"
  },
  "language_info": {
   "codemirror_mode": "r",
   "file_extension": ".r",
   "mimetype": "text/x-r-source",
   "name": "R",
   "pygments_lexer": "r",
   "version": "4.3.1"
  }
 },
 "nbformat": 4,
 "nbformat_minor": 5
}
