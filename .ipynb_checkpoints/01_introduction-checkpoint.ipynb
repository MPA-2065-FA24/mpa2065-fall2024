{
 "cells": [
  {
   "cell_type": "markdown",
   "id": "98b4e3e9-3262-4f3e-b0d2-deeb06badbe9",
   "metadata": {
    "tags": []
   },
   "source": [
    "<center><h1>Syllabus Day, JupyterHub, Unix, Git</h1></center>\n",
    "<center><h3>Ellen Duong</h3></center>\n",
    "<center><h3>2023-09-06</h3></center>"
   ]
  },
  {
   "cell_type": "markdown",
   "id": "04e154b6-bd5d-4ba3-b1eb-6ea174dd5955",
   "metadata": {},
   "source": [
    "# 1 Agenda"
   ]
  },
  {
   "cell_type": "markdown",
   "id": "e20866aa-5043-4078-b8ee-779f45470c74",
   "metadata": {
    "tags": []
   },
   "source": [
    "* Welcome\n",
    "* Syllabus\n",
    "* Setting Up Your Environment\n",
    "* Homework 1 Together"
   ]
  },
  {
   "cell_type": "markdown",
   "id": "8e5c2d72-b6fb-45ca-aafe-92f8f18f7279",
   "metadata": {},
   "source": [
    "# 2 Welcome"
   ]
  },
  {
   "cell_type": "markdown",
   "id": "0a35c33e-8021-4319-8333-eda3b76d2f3d",
   "metadata": {},
   "source": [
    "* What is your coding experience?\n",
    "  * Familiarity with R, Python, Julia"
   ]
  },
  {
   "cell_type": "markdown",
   "id": "83e6a7d9-627f-450c-98da-df7fbb2558bc",
   "metadata": {},
   "source": [
    "* Have you use Jupyter notebooks before?"
   ]
  },
  {
   "cell_type": "markdown",
   "id": "015c1673-4a58-44a2-93e7-63e685e118bb",
   "metadata": {
    "tags": []
   },
   "source": [
    "* Have you used GitHub before?"
   ]
  },
  {
   "cell_type": "markdown",
   "id": "26340589-0410-42ca-91a9-4bb86be6927b",
   "metadata": {
    "tags": []
   },
   "source": [
    "* What is your statistical background?"
   ]
  },
  {
   "cell_type": "markdown",
   "id": "c13376b3-f9eb-4307-804c-dd8a35dcb5fe",
   "metadata": {
    "tags": []
   },
   "source": [
    "# 3 Syllabus"
   ]
  },
  {
   "cell_type": "markdown",
   "id": "6afa7177-d3a2-44f2-8af1-fdf325f06a47",
   "metadata": {},
   "source": [
    "* [Link to Syllabus](https://docs.google.com/document/d/11fbjmJY6F3EgPt7FH1fKd0YDA0YwqkkmmDeQctHecKs/edit?usp=sharing)"
   ]
  },
  {
   "cell_type": "markdown",
   "id": "4b1df13e-0265-4248-b067-77e72e5e7400",
   "metadata": {
    "tags": []
   },
   "source": [
    "# 4 Setting up your environment"
   ]
  },
  {
   "cell_type": "markdown",
   "id": "f81f31af-31a2-45b8-8d8f-89b71d32ecf6",
   "metadata": {},
   "source": [
    "* [Github](https://github.com/)"
   ]
  },
  {
   "cell_type": "markdown",
   "id": "3ed03729-08d6-43a2-a8ef-95feacf41748",
   "metadata": {},
   "source": [
    "* [JupyterHub](https://mpa2065.jupyter.brown.edu)"
   ]
  },
  {
   "cell_type": "markdown",
   "id": "3c8ecc09-ad4b-4314-8f92-9add552e1fb4",
   "metadata": {},
   "source": [
    "* [Set Up Git in Jupyter Hub](https://docs.ccv.brown.edu/jupyterhub/git-basics/configure-git-and-github)"
   ]
  },
  {
   "cell_type": "markdown",
   "id": "2085d5fe-b800-4fe3-a043-31fef6a91458",
   "metadata": {},
   "source": [
    "# 4.1 Basic Git Commands"
   ]
  },
  {
   "cell_type": "markdown",
   "id": "f43b56e3-dd5c-4e60-b961-49468d323765",
   "metadata": {},
   "source": [
    "| Action | Git Command |\n",
    "| -- | -- |\n",
    "| Check status | `git status` |\n",
    "| Add all files to staging | `git add --all` |\n",
    "| Remove file from staging | `git rm <filename>` |\n",
    "| Commit changes | `git commit -m '<commit message>'` |\n",
    "| Push changes | `git push` |\n",
    "| Clone a repo | `git clone <repo link>` |"
   ]
  },
  {
   "cell_type": "markdown",
   "id": "4eb2fe84-9455-4c99-9eae-326fa09dbf82",
   "metadata": {},
   "source": [
    "# 5 Homework 1"
   ]
  },
  {
   "cell_type": "markdown",
   "id": "70c460a0-5986-4dbe-9d3f-3cc8d2535c48",
   "metadata": {
    "tags": []
   },
   "source": [
    "* [Link to Homework 1 on Canvas](https://canvas.brown.edu/courses/1092639/assignments/7959782)"
   ]
  },
  {
   "cell_type": "markdown",
   "id": "8124c389-ab52-457c-a5f9-5e0032636ef6",
   "metadata": {},
   "source": []
  }
 ],
 "metadata": {
  "kernelspec": {
   "display_name": "R",
   "language": "R",
   "name": "ir"
  },
  "language_info": {
   "codemirror_mode": "r",
   "file_extension": ".r",
   "mimetype": "text/x-r-source",
   "name": "R",
   "pygments_lexer": "r",
   "version": "4.3.1"
  }
 },
 "nbformat": 4,
 "nbformat_minor": 5
}
