{
 "cells": [
  {
   "cell_type": "markdown",
   "metadata": {
    "slideshow": {
     "slide_type": "slide"
    }
   },
   "source": [
    "<center><h1>Introduction to ggplot2</h1></center>\n",
    "<center><h3>Ellen Duong</h3></center>\n",
    "<center><h3>Paul Stey</h3></center>\n",
    "<center><h3>2023-10-12</h3></center>"
   ]
  },
  {
   "cell_type": "markdown",
   "metadata": {
    "slideshow": {
     "slide_type": "slide"
    }
   },
   "source": [
    "# 1. What is _ggplot2_?\n",
    "\n",
    "  - Hugely popular R package for visualization \n",
    "  - Authored by Hadley Wickham (of _dplyr_ and _tidyverse_ fame)\n",
    "  - Implements the \"grammar-of-graphics\" design philosophy (hence \"gg\")\n",
    "  - Easily produces beautiful and informative visualizations"
   ]
  },
  {
   "cell_type": "markdown",
   "metadata": {
    "slideshow": {
     "slide_type": "slide"
    }
   },
   "source": [
    "# 2. Plotting Person-Level Characteristics in Arrests\n",
    "\n",
    "  - The Pvd arrests data are at the _violation_-level\n",
    "  - We want person-level data on the invdividuals arrested\n",
    "  - This \"_level-of-analysis_\" or \"_level-of-granularity_\" problem is ubiquitous "
   ]
  },
  {
   "cell_type": "markdown",
   "metadata": {
    "slideshow": {
     "slide_type": "subslide"
    }
   },
   "source": [
    "# 3. Generating Person-Level Data\n",
    "  - We are aggregating \"up\" from the violation level\n",
    "  - Will use the `group_by()` and `summarise()` idiom"
   ]
  },
  {
   "cell_type": "code",
   "execution_count": null,
   "metadata": {
    "slideshow": {
     "slide_type": "fragment"
    }
   },
   "outputs": [],
   "source": [
    "# Load necessary packages\n",
    "library(stringr)\n",
    "library(dplyr)\n",
    "library(ggplot2)\n",
    "\n",
    "arrests_df <- read.csv(\"data/pvd_arrests_2021-10-03.csv\")"
   ]
  },
  {
   "cell_type": "markdown",
   "metadata": {
    "slideshow": {
     "slide_type": "subslide"
    }
   },
   "source": [
    "\n",
    "## 3.1 Computing Number of Officers (correctly)\n",
    "\n",
    "  - First, need to determine if `arresting_officers` is in _full-name_-format or _first-initial_-format"
   ]
  },
  {
   "cell_type": "code",
   "execution_count": null,
   "metadata": {
    "slideshow": {
     "slide_type": "fragment"
    }
   },
   "outputs": [],
   "source": [
    "is_uppercase <- function(chr) {\n",
    "    res <- chr %in% LETTERS\n",
    "    return(res)\n",
    "}\n",
    "\n",
    "has_full_names <- function(names_str) {\n",
    "    char1 <- str_sub(names_str, 1, 1)\n",
    "    char2 <- str_sub(names_str, 2, 2)\n",
    "    \n",
    "    res <- !(is_uppercase(char1) && is_uppercase(char2))\n",
    "    return(res)\n",
    "}"
   ]
  },
  {
   "cell_type": "markdown",
   "metadata": {
    "slideshow": {
     "slide_type": "subslide"
    }
   },
   "source": [
    "### 3.1.1 Couting the Names \n",
    "  - Want to correct count names regardless of format\n",
    "  - Update our `count_names()` function"
   ]
  },
  {
   "cell_type": "code",
   "execution_count": null,
   "metadata": {
    "slideshow": {
     "slide_type": "fragment"
    }
   },
   "outputs": [],
   "source": [
    "count_names <- function(names_str) {\n",
    "    names_str_trm <- str_trim(names_str)     # remove whitespace\n",
    "    \n",
    "    if (has_full_names(names_str_trm)) {\n",
    "        split_char <- \"/ \"\n",
    "    } else {\n",
    "        split_char <- \", \"\n",
    "    }\n",
    "    \n",
    "    name_list <- str_split(names_str_trm, split_char)\n",
    "    \n",
    "    name_vec <- unlist(name_list)\n",
    "    \n",
    "    k <- length(name_vec)\n",
    "    \n",
    "    return(k)\n",
    "}"
   ]
  },
  {
   "cell_type": "markdown",
   "metadata": {
    "slideshow": {
     "slide_type": "subslide"
    }
   },
   "source": [
    "### 3.1.2 Counting Officers (correctly)\n",
    "  - Note the sequence of function calls:\n",
    "    + `count_all_names()` => `count_names()` => `has_full_names()` => `is_uppercase()`"
   ]
  },
  {
   "cell_type": "code",
   "execution_count": null,
   "metadata": {
    "slideshow": {
     "slide_type": "fragment"
    }
   },
   "outputs": [],
   "source": [
    "count_all_names <- function(col) {\n",
    "\n",
    "    n <- length(col)   # get the length of our input column\n",
    "    cnts <- rep(0, n)  # allocate vector of zeros to populate with counts\n",
    "\n",
    "    for (i in 1:n) {\n",
    "        cnts[i] <- count_names(col[i])\n",
    "    }\n",
    "    return(cnts) \n",
    "}"
   ]
  },
  {
   "cell_type": "code",
   "execution_count": null,
   "metadata": {
    "slideshow": {
     "slide_type": "fragment"
    }
   },
   "outputs": [],
   "source": [
    "arrests_df$officer_cnt <- count_all_names(arrests_df$arresting_officers)"
   ]
  },
  {
   "cell_type": "markdown",
   "metadata": {
    "slideshow": {
     "slide_type": "subslide"
    }
   },
   "source": [
    "## 3.2 Add Violent Offense Flag"
   ]
  },
  {
   "cell_type": "code",
   "execution_count": null,
   "metadata": {
    "slideshow": {
     "slide_type": "fragment"
    }
   },
   "outputs": [],
   "source": [
    "# Write function to flag alleged violent crimes from the \n",
    "# description of of the statute violation\n",
    "\n",
    "is_violent_offense <- function(v) {\n",
    "\n",
    "    violent_terms <- c(\"domestic-asslt\", \"assault\", \"battery\", \"murder\")\n",
    "    n_obs <- length(v)\n",
    "    is_violent <- rep(FALSE, n_obs)\n",
    "    \n",
    "    # iterate over all statute descriptions\n",
    "    for (i in 1:n_obs) {\n",
    "        \n",
    "        # iterate over the 4 terms associated with violence\n",
    "        for (term in violent_terms) {\n",
    "            if (!is.na(v[i]) && str_detect(tolower(v[i]), term)) {\n",
    "\n",
    "                is_violent[i] <- TRUE\n",
    "            }\n",
    "        }\n",
    "    }\n",
    "    return(is_violent)\n",
    "}"
   ]
  },
  {
   "cell_type": "markdown",
   "metadata": {
    "slideshow": {
     "slide_type": "subslide"
    }
   },
   "source": [
    "### 3.2.1 Test our Function (always!!)"
   ]
  },
  {
   "cell_type": "code",
   "execution_count": null,
   "metadata": {
    "slideshow": {
     "slide_type": "fragment"
    }
   },
   "outputs": [],
   "source": [
    "vio_vec <- c(\"DISORDERLY CONDUCT\", \n",
    "             \"RESISTING LEGAL OR ILLEGAL ARREST\",\n",
    "             \"DOMESTIC-SIMPLE ASSAULT/BATTERY\", \n",
    "             \"SIMPLE ASSAULT OR BATTERY\")\n",
    "\n",
    "is_violent_offense(vio_vec)    # Should be: FALSE, FALSE, TRUE, TRUE"
   ]
  },
  {
   "cell_type": "markdown",
   "metadata": {
    "slideshow": {
     "slide_type": "subslide"
    }
   },
   "source": [
    "### 3.2.2 Create `violent` Column in `arrests_df`"
   ]
  },
  {
   "cell_type": "code",
   "execution_count": null,
   "metadata": {
    "slideshow": {
     "slide_type": "fragment"
    }
   },
   "outputs": [],
   "source": [
    "arrests_df$violent <- is_violent_offense(arrests_df$statute_desc)"
   ]
  },
  {
   "cell_type": "code",
   "execution_count": null,
   "metadata": {
    "slideshow": {
     "slide_type": "fragment"
    }
   },
   "outputs": [],
   "source": [
    "head(arrests_df)"
   ]
  },
  {
   "cell_type": "markdown",
   "metadata": {
    "slideshow": {
     "slide_type": "subslide"
    }
   },
   "source": [
    "## 3.3 Aggregating to _Person-Level_ DataFrame\n",
    "\n",
    "  - Use the `group_by()` and `summarise()` pattern from _dplyr_ functions"
   ]
  },
  {
   "cell_type": "code",
   "execution_count": null,
   "metadata": {
    "slideshow": {
     "slide_type": "fragment"
    }
   },
   "outputs": [],
   "source": [
    "person_df <- arrests_df %>%\n",
    "    group_by(arrestee_id) %>%\n",
    "    summarise(\n",
    "        total_charges = n(),\n",
    "        num_uniq_arrests = length(unique(case_number)),\n",
    "        prop_violent = mean(violent),\n",
    "        mean_officer_cnt = mean(officer_cnt),\n",
    "        age = age[1],\n",
    "        gender = gender[1]\n",
    "    ) "
   ]
  },
  {
   "cell_type": "code",
   "execution_count": null,
   "metadata": {
    "slideshow": {
     "slide_type": "fragment"
    }
   },
   "outputs": [],
   "source": [
    "head(person_df)"
   ]
  },
  {
   "cell_type": "markdown",
   "metadata": {
    "slideshow": {
     "slide_type": "slide"
    }
   },
   "source": [
    "# 4. Intro to _ggplot2_\n",
    "  - Operates on `data.frame` objects\n",
    "  - Map variables to aesthetics, and then display using \"geom\" (i.e., \"geometric object\")\n",
    "  - Geom layers can be stack over one another to add information"
   ]
  },
  {
   "cell_type": "code",
   "execution_count": null,
   "metadata": {
    "slideshow": {
     "slide_type": "fragment"
    }
   },
   "outputs": [],
   "source": [
    "ggplot(person_df, aes(x = age))    # does nothing..."
   ]
  },
  {
   "cell_type": "markdown",
   "metadata": {
    "slideshow": {
     "slide_type": "subslide"
    }
   },
   "source": [
    "## 4.1 Plotting Histogram of `age`"
   ]
  },
  {
   "cell_type": "code",
   "execution_count": null,
   "metadata": {
    "slideshow": {
     "slide_type": "fragment"
    }
   },
   "outputs": [],
   "source": [
    "ggplot(person_df, aes(x = age)) +\n",
    "    geom_histogram()   # kinda boring..."
   ]
  },
  {
   "cell_type": "markdown",
   "metadata": {
    "slideshow": {
     "slide_type": "subslide"
    }
   },
   "source": [
    "### 4.1.1 Adding `colour` and `fill` to `geom_histogram()`"
   ]
  },
  {
   "cell_type": "code",
   "execution_count": null,
   "metadata": {
    "slideshow": {
     "slide_type": "fragment"
    }
   },
   "outputs": [],
   "source": [
    "ggplot(person_df, aes(x = age)) +\n",
    "    geom_histogram(fill = \"skyblue\", colour = \"lightblue\", bins = 30)"
   ]
  },
  {
   "cell_type": "markdown",
   "metadata": {
    "slideshow": {
     "slide_type": "subslide"
    }
   },
   "source": [
    "## 4.2 Density Plot of `age`"
   ]
  },
  {
   "cell_type": "code",
   "execution_count": null,
   "metadata": {
    "slideshow": {
     "slide_type": "fragment"
    }
   },
   "outputs": [],
   "source": [
    "ggplot(person_df, aes(x = age)) +\n",
    "    geom_density(fill = \"skyblue\", colour = \"lightblue\")  "
   ]
  },
  {
   "cell_type": "markdown",
   "metadata": {
    "slideshow": {
     "slide_type": "subslide"
    }
   },
   "source": [
    "### 4.2.1 Adjusting `alpha`"
   ]
  },
  {
   "cell_type": "code",
   "execution_count": null,
   "metadata": {
    "slideshow": {
     "slide_type": "fragment"
    }
   },
   "outputs": [],
   "source": [
    "ggplot(person_df, aes(x = age)) + \n",
    "    geom_density(fill = \"skyblue\", colour = \"lightblue\", alpha = 0.5)"
   ]
  },
  {
   "cell_type": "markdown",
   "metadata": {
    "slideshow": {
     "slide_type": "subslide"
    }
   },
   "source": [
    "### 4.2.2 Adding `gender` Variable Aesthetic"
   ]
  },
  {
   "cell_type": "code",
   "execution_count": null,
   "metadata": {
    "slideshow": {
     "slide_type": "fragment"
    }
   },
   "outputs": [],
   "source": [
    "ggplot(person_df, aes(x = age, y = stat(count), fill = gender, colour = gender)) +\n",
    "    geom_density(alpha = 0.4) +\n",
    "    xlab(\"Age of Person Arrested\") +\n",
    "    ylab(\"Count\")"
   ]
  },
  {
   "cell_type": "markdown",
   "metadata": {
    "slideshow": {
     "slide_type": "subslide"
    }
   },
   "source": [
    "## 4.3 Scatter Plot of `age` and `total_charges` "
   ]
  },
  {
   "cell_type": "code",
   "execution_count": null,
   "metadata": {
    "slideshow": {
     "slide_type": "fragment"
    }
   },
   "outputs": [],
   "source": [
    "ggplot(person_df, aes(x = age, y = total_charges)) + \n",
    "    geom_point()"
   ]
  },
  {
   "cell_type": "markdown",
   "metadata": {
    "slideshow": {
     "slide_type": "subslide"
    }
   },
   "source": [
    "### 4.3.1 Adjusting `colour` and `alpha`"
   ]
  },
  {
   "cell_type": "code",
   "execution_count": null,
   "metadata": {
    "slideshow": {
     "slide_type": "fragment"
    }
   },
   "outputs": [],
   "source": [
    "ggplot(person_df, aes(x = age, y = total_charges)) +\n",
    "    geom_point(colour = \"skyblue\", alpha = 0.6)"
   ]
  },
  {
   "cell_type": "markdown",
   "metadata": {
    "slideshow": {
     "slide_type": "subslide"
    }
   },
   "source": [
    "### 4.3.2 Using `geom_jitter` for Scatterplots"
   ]
  },
  {
   "cell_type": "code",
   "execution_count": null,
   "metadata": {
    "slideshow": {
     "slide_type": "fragment"
    }
   },
   "outputs": [],
   "source": [
    "ggplot(person_df, aes(x = age, y = total_charges)) +\n",
    "    geom_jitter(colour = \"purple\", alpha = 0.4) "
   ]
  },
  {
   "cell_type": "markdown",
   "metadata": {
    "slideshow": {
     "slide_type": "subslide"
    }
   },
   "source": [
    "## 4.4 Plotting `num_uniq_arrests` and `total_charges` with a `stat_smooth()` Layer"
   ]
  },
  {
   "cell_type": "code",
   "execution_count": null,
   "metadata": {
    "slideshow": {
     "slide_type": "fragment"
    }
   },
   "outputs": [],
   "source": [
    "ggplot(person_df, aes(x = num_uniq_arrests, y = total_charges)) +\n",
    "    geom_jitter(colour = \"violet\", alpha = 0.4) +\n",
    "    stat_smooth(method = \"lm\", formula = y ~ x)"
   ]
  },
  {
   "cell_type": "markdown",
   "metadata": {
    "slideshow": {
     "slide_type": "subslide"
    }
   },
   "source": [
    "## 4.5 Adding Third Variable to `aes()`"
   ]
  },
  {
   "cell_type": "code",
   "execution_count": null,
   "metadata": {
    "slideshow": {
     "slide_type": "fragment"
    }
   },
   "outputs": [],
   "source": [
    "ggplot(person_df, aes(x = num_uniq_arrests, y = total_charges, colour = prop_violent)) +\n",
    "    geom_jitter(alpha = 0.5) + \n",
    "    xlim(1, 6) +\n",
    "    ylim(1, 15)"
   ]
  }
 ],
 "metadata": {
  "@webio": {
   "lastCommId": null,
   "lastKernelId": null
  },
  "celltoolbar": "Slideshow",
  "kernelspec": {
   "display_name": "R",
   "language": "R",
   "name": "ir"
  },
  "language_info": {
   "codemirror_mode": "r",
   "file_extension": ".r",
   "mimetype": "text/x-r-source",
   "name": "R",
   "pygments_lexer": "r",
   "version": "4.0.2"
  }
 },
 "nbformat": 4,
 "nbformat_minor": 2
}